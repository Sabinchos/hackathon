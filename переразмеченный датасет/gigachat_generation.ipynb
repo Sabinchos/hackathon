{
  "cells": [
    {
      "cell_type": "code",
      "execution_count": 1,
      "metadata": {
        "id": "PsemrL3e14Cp"
      },
      "outputs": [],
      "source": [
        "import pandas as pd\n",
        "import numpy as np\n",
        "import matplotlib.pyplot as plt\n",
        "import re\n",
        "import emoji"
      ]
    },
    {
      "cell_type": "code",
      "execution_count": 2,
      "metadata": {
        "id": "QoFWLmZCy2Zr"
      },
      "outputs": [],
      "source": [
        "df = pd.read_excel('labeled data.xlsx')"
      ]
    },
    {
      "cell_type": "code",
      "execution_count": 3,
      "metadata": {
        "colab": {
          "base_uri": "https://localhost:8080/"
        },
        "id": "QnmQbZ1K18MQ",
        "outputId": "4ed318dd-00f1-4993-e93d-eb5cf9fa7f4d"
      },
      "outputs": [
        {
          "name": "stdout",
          "output_type": "stream",
          "text": [
            "Строк: 2,373, столбцов: 8\n"
          ]
        }
      ],
      "source": [
        "print(f'Строк: {df.shape[0]:,}, столбцов: {df.shape[1]}')"
      ]
    },
    {
      "cell_type": "code",
      "execution_count": 4,
      "metadata": {
        "colab": {
          "base_uri": "https://localhost:8080/",
          "height": 206
        },
        "id": "d_RryaK12gUY",
        "outputId": "3c76688a-ff25-4f86-afbd-2b325d286756"
      },
      "outputs": [
        {
          "data": {
            "text/html": [
              "<div>\n",
              "<style scoped>\n",
              "    .dataframe tbody tr th:only-of-type {\n",
              "        vertical-align: middle;\n",
              "    }\n",
              "\n",
              "    .dataframe tbody tr th {\n",
              "        vertical-align: top;\n",
              "    }\n",
              "\n",
              "    .dataframe thead th {\n",
              "        text-align: right;\n",
              "    }\n",
              "</style>\n",
              "<table border=\"1\" class=\"dataframe\">\n",
              "  <thead>\n",
              "    <tr style=\"text-align: right;\">\n",
              "      <th></th>\n",
              "      <th>id</th>\n",
              "      <th>rating</th>\n",
              "      <th>comment</th>\n",
              "      <th>Нравится скорость отработки заявок</th>\n",
              "      <th>Нравится качество выполнения заявки</th>\n",
              "      <th>Нравится качество работы сотрудников</th>\n",
              "      <th>Понравилось выполнение заявки</th>\n",
              "      <th>Вопрос решен</th>\n",
              "    </tr>\n",
              "  </thead>\n",
              "  <tbody>\n",
              "    <tr>\n",
              "      <th>0</th>\n",
              "      <td>2945792</td>\n",
              "      <td>5</td>\n",
              "      <td>спасибо</td>\n",
              "      <td>NaN</td>\n",
              "      <td>NaN</td>\n",
              "      <td>NaN</td>\n",
              "      <td>1.0</td>\n",
              "      <td>NaN</td>\n",
              "    </tr>\n",
              "    <tr>\n",
              "      <th>1</th>\n",
              "      <td>3234340</td>\n",
              "      <td>5</td>\n",
              "      <td>спасибо!</td>\n",
              "      <td>NaN</td>\n",
              "      <td>NaN</td>\n",
              "      <td>NaN</td>\n",
              "      <td>1.0</td>\n",
              "      <td>NaN</td>\n",
              "    </tr>\n",
              "    <tr>\n",
              "      <th>2</th>\n",
              "      <td>3380332</td>\n",
              "      <td>5</td>\n",
              "      <td>Отлично</td>\n",
              "      <td>NaN</td>\n",
              "      <td>NaN</td>\n",
              "      <td>NaN</td>\n",
              "      <td>1.0</td>\n",
              "      <td>NaN</td>\n",
              "    </tr>\n",
              "    <tr>\n",
              "      <th>3</th>\n",
              "      <td>3381812</td>\n",
              "      <td>5</td>\n",
              "      <td>Благодарю за оперативное решение проблемы !</td>\n",
              "      <td>1.0</td>\n",
              "      <td>NaN</td>\n",
              "      <td>NaN</td>\n",
              "      <td>NaN</td>\n",
              "      <td>NaN</td>\n",
              "    </tr>\n",
              "    <tr>\n",
              "      <th>4</th>\n",
              "      <td>3461991</td>\n",
              "      <td>5</td>\n",
              "      <td>Прекрасный специалист! Побольше таких</td>\n",
              "      <td>NaN</td>\n",
              "      <td>NaN</td>\n",
              "      <td>1.0</td>\n",
              "      <td>NaN</td>\n",
              "      <td>NaN</td>\n",
              "    </tr>\n",
              "  </tbody>\n",
              "</table>\n",
              "</div>"
            ],
            "text/plain": [
              "        id  rating                                       comment  \\\n",
              "0  2945792       5                                       спасибо   \n",
              "1  3234340       5                                      спасибо!   \n",
              "2  3380332       5                                      Отлично    \n",
              "3  3381812       5  Благодарю за оперативное решение проблемы !    \n",
              "4  3461991       5         Прекрасный специалист! Побольше таких   \n",
              "\n",
              "   Нравится скорость отработки заявок  Нравится качество выполнения заявки  \\\n",
              "0                                 NaN                                  NaN   \n",
              "1                                 NaN                                  NaN   \n",
              "2                                 NaN                                  NaN   \n",
              "3                                 1.0                                  NaN   \n",
              "4                                 NaN                                  NaN   \n",
              "\n",
              "   Нравится качество работы сотрудников  Понравилось выполнение заявки  \\\n",
              "0                                   NaN                            1.0   \n",
              "1                                   NaN                            1.0   \n",
              "2                                   NaN                            1.0   \n",
              "3                                   NaN                            NaN   \n",
              "4                                   1.0                            NaN   \n",
              "\n",
              "   Вопрос решен  \n",
              "0           NaN  \n",
              "1           NaN  \n",
              "2           NaN  \n",
              "3           NaN  \n",
              "4           NaN  "
            ]
          },
          "execution_count": 4,
          "metadata": {},
          "output_type": "execute_result"
        }
      ],
      "source": [
        "df.head()"
      ]
    },
    {
      "cell_type": "code",
      "execution_count": null,
      "metadata": {},
      "outputs": [
        {
          "name": "stdout",
          "output_type": "stream",
          "text": [
            "Всего дубликатов отзывов: 702\n",
            "Примеры дубликатов:\n",
            "                                     спасибо\n",
            "                                    спасибо!\n",
            "                                    Отлично \n",
            "Благодарю за оперативное решение проблемы ! \n",
            "       Прекрасный специалист! Побольше таких\n",
            "                                    Спасибо \n",
            "                     пересчет, и скорость \\n\n",
            "         Спасибо за обновление покраски стен\n",
            "                            выполнили быстро\n",
            "                                   Спасибо! \n"
          ]
        }
      ],
      "source": [
        "duplicates_comments = df[df['comment'].duplicated(keep=False)]['comment']\n",
        "\n",
        "mask_short = df['comment'].str.len() < 10\n",
        "short_comments = df.loc[mask_short, ['comment']].copy()\n",
        "short_comments['length'] = short_comments['comment'].str.len()\n",
        "\n",
        "duplicates_count = duplicates_comments.shape[0]\n",
        "\n",
        "print(f\"Всего дубликатов отзывов: {duplicates_count}\")\n",
        "print(\"Примеры дубликатов:\")\n",
        "print(duplicates_comments.head(10).to_string(index=False))"
      ]
    },
    {
      "cell_type": "code",
      "execution_count": 6,
      "metadata": {},
      "outputs": [],
      "source": [
        "df_no_duplicates = df[~df['comment'].duplicated(keep=False)].copy()"
      ]
    },
    {
      "cell_type": "code",
      "execution_count": null,
      "metadata": {},
      "outputs": [],
      "source": [
        "output_path = 'data_new.xlsx'\n",
        "df_no_duplicates.to_excel(output_path, index=False)"
      ]
    },
    {
      "cell_type": "markdown",
      "metadata": {},
      "source": [
        "### Переразметим в ручную данные "
      ]
    },
    {
      "cell_type": "code",
      "execution_count": 9,
      "metadata": {},
      "outputs": [],
      "source": [
        "df = pd.read_excel('data_new_final.xlsx')"
      ]
    },
    {
      "cell_type": "code",
      "execution_count": 10,
      "metadata": {},
      "outputs": [
        {
          "data": {
            "text/html": [
              "<div>\n",
              "<style scoped>\n",
              "    .dataframe tbody tr th:only-of-type {\n",
              "        vertical-align: middle;\n",
              "    }\n",
              "\n",
              "    .dataframe tbody tr th {\n",
              "        vertical-align: top;\n",
              "    }\n",
              "\n",
              "    .dataframe thead th {\n",
              "        text-align: right;\n",
              "    }\n",
              "</style>\n",
              "<table border=\"1\" class=\"dataframe\">\n",
              "  <thead>\n",
              "    <tr style=\"text-align: right;\">\n",
              "      <th></th>\n",
              "      <th>id</th>\n",
              "      <th>rating</th>\n",
              "      <th>comment</th>\n",
              "      <th>Нравится скорость отработки заявок</th>\n",
              "      <th>Нравится качество выполнения заявки</th>\n",
              "      <th>Нравится качество работы сотрудников</th>\n",
              "      <th>Понравилось выполнение заявки</th>\n",
              "      <th>Вопрос решен</th>\n",
              "    </tr>\n",
              "  </thead>\n",
              "  <tbody>\n",
              "    <tr>\n",
              "      <th>0</th>\n",
              "      <td>3872124</td>\n",
              "      <td>5</td>\n",
              "      <td>Большое спасибо Александру,за оперативность и ...</td>\n",
              "      <td>1.0</td>\n",
              "      <td>1.0</td>\n",
              "      <td>1.0</td>\n",
              "      <td>NaN</td>\n",
              "      <td>1.0</td>\n",
              "    </tr>\n",
              "    <tr>\n",
              "      <th>1</th>\n",
              "      <td>3872129</td>\n",
              "      <td>5</td>\n",
              "      <td>благодарю</td>\n",
              "      <td>NaN</td>\n",
              "      <td>NaN</td>\n",
              "      <td>NaN</td>\n",
              "      <td>1.0</td>\n",
              "      <td>1.0</td>\n",
              "    </tr>\n",
              "    <tr>\n",
              "      <th>2</th>\n",
              "      <td>3873692</td>\n",
              "      <td>5</td>\n",
              "      <td>оперативно и качественно. спасибо</td>\n",
              "      <td>1.0</td>\n",
              "      <td>1.0</td>\n",
              "      <td>NaN</td>\n",
              "      <td>NaN</td>\n",
              "      <td>1.0</td>\n",
              "    </tr>\n",
              "    <tr>\n",
              "      <th>3</th>\n",
              "      <td>3875262</td>\n",
              "      <td>5</td>\n",
              "      <td>благодарю, всего доброго!</td>\n",
              "      <td>NaN</td>\n",
              "      <td>NaN</td>\n",
              "      <td>NaN</td>\n",
              "      <td>1.0</td>\n",
              "      <td>1.0</td>\n",
              "    </tr>\n",
              "    <tr>\n",
              "      <th>4</th>\n",
              "      <td>3877334</td>\n",
              "      <td>3</td>\n",
              "      <td>К мастеру вопросов нет.</td>\n",
              "      <td>NaN</td>\n",
              "      <td>NaN</td>\n",
              "      <td>1.0</td>\n",
              "      <td>NaN</td>\n",
              "      <td>1.0</td>\n",
              "    </tr>\n",
              "  </tbody>\n",
              "</table>\n",
              "</div>"
            ],
            "text/plain": [
              "        id  rating                                            comment  \\\n",
              "0  3872124       5  Большое спасибо Александру,за оперативность и ...   \n",
              "1  3872129       5                                         благодарю    \n",
              "2  3873692       5                 оперативно и качественно. спасибо    \n",
              "3  3875262       5                          благодарю, всего доброго!   \n",
              "4  3877334       3                          К мастеру вопросов нет.     \n",
              "\n",
              "   Нравится скорость отработки заявок  Нравится качество выполнения заявки  \\\n",
              "0                                 1.0                                  1.0   \n",
              "1                                 NaN                                  NaN   \n",
              "2                                 1.0                                  1.0   \n",
              "3                                 NaN                                  NaN   \n",
              "4                                 NaN                                  NaN   \n",
              "\n",
              "   Нравится качество работы сотрудников  Понравилось выполнение заявки  \\\n",
              "0                                   1.0                            NaN   \n",
              "1                                   NaN                            1.0   \n",
              "2                                   NaN                            NaN   \n",
              "3                                   NaN                            1.0   \n",
              "4                                   1.0                            NaN   \n",
              "\n",
              "   Вопрос решен  \n",
              "0           1.0  \n",
              "1           1.0  \n",
              "2           1.0  \n",
              "3           1.0  \n",
              "4           1.0  "
            ]
          },
          "execution_count": 10,
          "metadata": {},
          "output_type": "execute_result"
        }
      ],
      "source": [
        "df.head()"
      ]
    },
    {
      "cell_type": "code",
      "execution_count": 11,
      "metadata": {},
      "outputs": [
        {
          "name": "stdout",
          "output_type": "stream",
          "text": [
            "Строк: 1,669, столбцов: 8\n"
          ]
        }
      ],
      "source": [
        "print(f'Строк: {df.shape[0]:,}, столбцов: {df.shape[1]}')"
      ]
    },
    {
      "cell_type": "code",
      "execution_count": 12,
      "metadata": {},
      "outputs": [],
      "source": [
        "def replace_emoji_to_text(text):\n",
        "    return ''.join(\n",
        "        emoji.demojize(char, delimiters=(\" :\", \": \")) if char in emoji.EMOJI_DATA else char\n",
        "        for char in text\n",
        "    )\n",
        "df['comment'] = df['comment'].apply(replace_emoji_to_text)"
      ]
    },
    {
      "cell_type": "code",
      "execution_count": null,
      "metadata": {},
      "outputs": [
        {
          "name": "stderr",
          "output_type": "stream",
          "text": [
            "/Users/snow0w/repos/ADD/practiceSummerSamolet/venv/lib/python3.12/site-packages/tqdm/auto.py:21: TqdmWarning: IProgress not found. Please update jupyter and ipywidgets. See https://ipywidgets.readthedocs.io/en/stable/user_install.html\n",
            "  from .autonotebook import tqdm as notebook_tqdm\n"
          ]
        },
        {
          "name": "stdout",
          "output_type": "stream",
          "text": [
            "Train shape: (1335, 6)\n",
            "Нравится скорость отработки заявок       548\n",
            "Нравится качество выполнения заявки      178\n",
            "Нравится качество работы сотрудников     313\n",
            "Понравилось выполнение заявки            246\n",
            "Вопрос решен                            1162\n",
            "dtype: int64\n",
            "Test shape: (334, 6)\n",
            "Нравится скорость отработки заявок      137\n",
            "Нравится качество выполнения заявки      44\n",
            "Нравится качество работы сотрудников     78\n",
            "Понравилось выполнение заявки            61\n",
            "Вопрос решен                            290\n",
            "dtype: int64\n"
          ]
        }
      ],
      "source": [
        "import pandas as pd\n",
        "from sklearn.model_selection import train_test_split\n",
        "from sentence_transformers import SentenceTransformer\n",
        "from sklearn.neighbors import KNeighborsClassifier\n",
        "from sklearn.multiclass import OneVsRestClassifier\n",
        "from sklearn.metrics import f1_score\n",
        "from sklearn.utils import resample\n",
        "from skmultilearn.model_selection import iterative_train_test_split\n",
        "\n",
        "np.random.seed(42)\n",
        "df = (\n",
        "    df.sample(frac=1, random_state=42)\n",
        "      .reset_index(drop=True)\n",
        ")\n",
        "\n",
        "label_cols = [c for c in df.columns if c not in [\"id\", \"rating\", \"comment\"]]\n",
        "X = df[\"comment\"].astype(str).values\n",
        "Y = df[label_cols].fillna(0).astype(int).values\n",
        "\n",
        "X_tr, y_tr, X_te, y_te = iterative_train_test_split(X.reshape(-1,1), Y, test_size = 0.2)\n",
        "                                                    \n",
        "                                                    \n",
        "X_tr = X_tr.ravel()\n",
        "X_te = X_te.ravel()\n",
        "\n",
        "train_df = pd.DataFrame({\"comment\": X_tr})\n",
        "train_df[label_cols] = y_tr\n",
        "test_df  = pd.DataFrame({\"comment\": X_te})\n",
        "test_df[label_cols]  = y_te\n",
        "\n",
        "train_df.to_excel(\"train_80.xlsx\", index=False)\n",
        "test_df.to_excel(\"test_20.xlsx\", index=False)\n",
        "\n",
        "print(\"Train shape:\", train_df.shape)\n",
        "print(train_df[label_cols].sum())\n",
        "print(\"Test shape:\", test_df.shape)\n",
        "print(test_df[label_cols].sum())"
      ]
    },
    {
      "cell_type": "code",
      "execution_count": null,
      "metadata": {},
      "outputs": [
        {
          "name": "stdout",
          "output_type": "stream",
          "text": [
            "\n",
            "Кодируем LaBSE-эмбеддинги …\n"
          ]
        },
        {
          "name": "stderr",
          "output_type": "stream",
          "text": [
            "Batches: 100%|██████████| 42/42 [00:02<00:00, 16.86it/s]\n",
            "Batches: 100%|██████████| 11/11 [00:00<00:00, 18.40it/s]\n",
            "huggingface/tokenizers: The current process just got forked, after parallelism has already been used. Disabling parallelism to avoid deadlocks...\n",
            "To disable this warning, you can either:\n",
            "\t- Avoid using `tokenizers` before the fork if possible\n",
            "\t- Explicitly set the environment variable TOKENIZERS_PARALLELISM=(true | false)\n"
          ]
        },
        {
          "name": "stdout",
          "output_type": "stream",
          "text": [
            "Обучаем KNN-5 (One-vs-Rest) …\n",
            "\n",
            "Baseline macro-F1 = 0.795\n"
          ]
        }
      ],
      "source": [
        "print(\"\\nКодируем LaBSE-эмбеддинги …\")\n",
        "labse  = SentenceTransformer(\"sentence-transformers/LaBSE\")\n",
        "emb_tr = labse.encode(train_df[\"comment\"].tolist(), show_progress_bar=True)\n",
        "emb_te = labse.encode(test_df[\"comment\"].tolist(),  show_progress_bar=True)\n",
        "\n",
        "print(\"Обучаем KNN-5 (One-vs-Rest) …\")\n",
        "clf    = OneVsRestClassifier(KNeighborsClassifier(n_neighbors=5))\n",
        "clf.fit(emb_tr, train_df[label_cols].values)\n",
        "\n",
        "y_pred   = clf.predict(emb_te)\n",
        "macro_f1 = f1_score(test_df[label_cols].values, y_pred, average=\"macro\")\n",
        "print(f\"\\nBaseline macro-F1 = {macro_f1:.3f}\")"
      ]
    },
    {
      "cell_type": "markdown",
      "metadata": {},
      "source": [
        "# GIGA chat generation"
      ]
    },
    {
      "cell_type": "code",
      "execution_count": 43,
      "metadata": {},
      "outputs": [
        {
          "name": "stderr",
          "output_type": "stream",
          "text": [
            "/Users/snow0w/repos/ADD/practiceSummerSamolet/venv/lib/python3.12/site-packages/urllib3/connectionpool.py:1097: InsecureRequestWarning: Unverified HTTPS request is being made to host 'ngw.devices.sberbank.ru'. Adding certificate verification is strongly advised. See: https://urllib3.readthedocs.io/en/latest/advanced-usage.html#tls-warnings\n",
            "  warnings.warn(\n"
          ]
        }
      ],
      "source": [
        "import requests\n",
        "from pathlib import Path\n",
        "from gigachat import GigaChat\n",
        "\n",
        "url = \"https://ngw.devices.sberbank.ru:9443/api/v2/oauth\"\n",
        "\n",
        "home = Path.home()\n",
        "file_path = home / '.gigachatAuthKey'\n",
        "key = ''\n",
        "try:\n",
        "    with open(file_path, 'r') as f:\n",
        "        key = f.read().strip()\n",
        "except FileNotFoundError:\n",
        "    print(f\"Error: File not found at {file_path}\")\n",
        "except Exception as e:\n",
        "    print(f\"An error occurred: {e}\")\n",
        "\n",
        "payload={\n",
        "  'scope': 'GIGACHAT_API_PERS'\n",
        "}\n",
        "headers = {\n",
        "  'Content-Type': 'application/x-www-form-urlencoded',\n",
        "  'Accept': 'application/json',\n",
        "  'RqUID': 'aa1bcbba-9fc7-4381-b82b-1d54308c86a8',\n",
        "  'Authorization': f'Basic {key}'\n",
        "}\n",
        "\n",
        "response = requests.request(\"POST\", url, headers=headers, data=payload, verify=False)\n",
        "\n",
        "acc_key = response.json()['access_token']"
      ]
    },
    {
      "cell_type": "code",
      "execution_count": null,
      "metadata": {},
      "outputs": [],
      "source": [
        "import re, time, random\n",
        "import pandas as pd\n",
        "from tqdm import tqdm\n",
        "from openai import OpenAI, APIError, APIConnectionError, RateLimitError\n",
        "\n",
        "client = GigaChat(\n",
        "   credentials=key,\n",
        "   verify_ssl_certs=False,\n",
        "    scope=\"GIGACHAT_API_PERS\",\n",
        "    model=\"GigaChat-2\",\n",
        "    )\n",
        "train_df = pd.read_excel(\"train_80.xlsx\")\n",
        "\n",
        "SYSTEM = (\"Ты пишешь короткие отзывы жильцов \"\n",
        "          \"управляющей компании. Пиши строго на русском.\")\n",
        "\n",
        "PROMPT_BASE = (\n",
        "    \"Пример отзыва:\\n«{ex}»\\n\\n\"\n",
        "    \"{emoji_hint}\"\n",
        "    \"Напиши 1 уникальный отзыв по смыслу, похожий на пример (1-6 предложений). \"\n",
        "    \"Не копируй пример. Можно перефразировать, добавить детали, но отзыв должен быть уникальным.\"\n",
        ")\n",
        "\n",
        "EMOJI_RE = re.compile(r\":[a-z0-9_]+:\", flags=re.I)\n",
        "\n",
        "def gpt_review(example):\n",
        "    has_code = bool(EMOJI_RE.search(example))\n",
        "    emoji_hint = (\"Если в примере есть код эмодзи вида :smile:, \"\n",
        "                  \"то сохрани стиль — вставь похожий код эмодзи.\\n\\n\"\n",
        "                  ) if has_code else \"\"\n",
        "    prompt = PROMPT_BASE.format(ex=example, emoji_hint=emoji_hint)\n",
        "    print(SYSTEM + \" \" +prompt)\n",
        "\n",
        "    r = client.chat(\n",
        "        prompt\n",
        "    )\n",
        "    return r.choices[0].message.content"
      ]
    },
    {
      "cell_type": "code",
      "execution_count": null,
      "metadata": {},
      "outputs": [
        {
          "name": "stderr",
          "output_type": "stream",
          "text": [
            "Генерируем синтетику:   0%|          | 0/1335 [00:00<?, ?it/s]"
          ]
        },
        {
          "name": "stdout",
          "output_type": "stream",
          "text": [
            "Ты пишешь короткие отзывы жильцов управляющей компании. Пиши строго на русском. Пример отзыва:\n",
            "«очень оперативно решили проблему и восстановили освещение в холле.»\n",
            "\n",
            "Напиши 1 уникальный отзыв по смыслу, похожий на пример (1-2 предложений). Не копируй пример. Можно перефразировать, добавить детали, но отзыв должен быть уникальным.\n"
          ]
        },
        {
          "name": "stderr",
          "output_type": "stream",
          "text": [
            "Генерируем синтетику:   0%|          | 1/1335 [00:00<08:21,  2.66it/s]"
          ]
        },
        {
          "name": "stdout",
          "output_type": "stream",
          "text": [
            "Ты пишешь короткие отзывы жильцов управляющей компании. Пиши строго на русском. Пример отзыва:\n",
            "«днём звонили был занят за рулём извините,,,, вечером пришли домой всё пересмотрели проверили вашу информацию спасибо нам всё понятно всё на каждый вопрос Вы ответили!!! спасибо Вам большое.!!!»\n",
            "\n",
            "Напиши 1 уникальный отзыв по смыслу, похожий на пример (1-2 предложений). Не копируй пример. Можно перефразировать, добавить детали, но отзыв должен быть уникальным.\n"
          ]
        },
        {
          "name": "stderr",
          "output_type": "stream",
          "text": [
            "Генерируем синтетику:   0%|          | 3/1335 [00:00<06:18,  3.52it/s]"
          ]
        },
        {
          "name": "stdout",
          "output_type": "stream",
          "text": [
            "Ты пишешь короткие отзывы жильцов управляющей компании. Пиши строго на русском. Пример отзыва:\n",
            "«задача ни решена»\n",
            "\n",
            "Напиши 1 уникальный отзыв по смыслу, похожий на пример (1-2 предложений). Не копируй пример. Можно перефразировать, добавить детали, но отзыв должен быть уникальным.\n",
            "Ты пишешь короткие отзывы жильцов управляющей компании. Пиши строго на русском. Пример отзыва:\n",
            "«Очень быстро отреагировали. Работа качественная!»\n",
            "\n",
            "Напиши 1 уникальный отзыв по смыслу, похожий на пример (1-2 предложений). Не копируй пример. Можно перефразировать, добавить детали, но отзыв должен быть уникальным.\n"
          ]
        },
        {
          "name": "stderr",
          "output_type": "stream",
          "text": [
            "Генерируем синтетику:   0%|          | 4/1335 [00:01<06:07,  3.62it/s]"
          ]
        },
        {
          "name": "stdout",
          "output_type": "stream",
          "text": [
            "Ты пишешь короткие отзывы жильцов управляющей компании. Пиши строго на русском. Пример отзыва:\n",
            "« Спасибо вам за заботу о нас и нашем здоровье.Экология -это замечательно»\n",
            "\n",
            "Напиши 1 уникальный отзыв по смыслу, похожий на пример (1-2 предложений). Не копируй пример. Можно перефразировать, добавить детали, но отзыв должен быть уникальным.\n"
          ]
        },
        {
          "name": "stderr",
          "output_type": "stream",
          "text": [
            "Генерируем синтетику:   0%|          | 6/1335 [00:01<05:37,  3.94it/s]"
          ]
        },
        {
          "name": "stdout",
          "output_type": "stream",
          "text": [
            "Ты пишешь короткие отзывы жильцов управляющей компании. Пиши строго на русском. Пример отзыва:\n",
            "«Быстро и оперативно спасибо мастеру »\n",
            "\n",
            "Напиши 1 уникальный отзыв по смыслу, похожий на пример (1-2 предложений). Не копируй пример. Можно перефразировать, добавить детали, но отзыв должен быть уникальным.\n",
            "Ты пишешь короткие отзывы жильцов управляющей компании. Пиши строго на русском. Пример отзыва:\n",
            "«доводчик заменили»\n",
            "\n",
            "Напиши 1 уникальный отзыв по смыслу, похожий на пример (1-2 предложений). Не копируй пример. Можно перефразировать, добавить детали, но отзыв должен быть уникальным.\n"
          ]
        },
        {
          "name": "stderr",
          "output_type": "stream",
          "text": [
            "Генерируем синтетику:   1%|          | 7/1335 [00:02<06:20,  3.49it/s]"
          ]
        },
        {
          "name": "stdout",
          "output_type": "stream",
          "text": [
            "Ты пишешь короткие отзывы жильцов управляющей компании. Пиши строго на русском. Пример отзыва:\n",
            "«Благодарю, помогли, а то до Вас никто не мог решить эту проблему, еще раз спасибо)»\n",
            "\n",
            "Напиши 1 уникальный отзыв по смыслу, похожий на пример (1-2 предложений). Не копируй пример. Можно перефразировать, добавить детали, но отзыв должен быть уникальным.\n"
          ]
        },
        {
          "name": "stderr",
          "output_type": "stream",
          "text": [
            "Генерируем синтетику:   1%|          | 9/1335 [00:02<05:39,  3.90it/s]"
          ]
        },
        {
          "name": "stdout",
          "output_type": "stream",
          "text": [
            "Ты пишешь короткие отзывы жильцов управляющей компании. Пиши строго на русском. Пример отзыва:\n",
            "«Спасибо) Оперативно устранили проблему.»\n",
            "\n",
            "Напиши 1 уникальный отзыв по смыслу, похожий на пример (1-2 предложений). Не копируй пример. Можно перефразировать, добавить детали, но отзыв должен быть уникальным.\n",
            "Ты пишешь короткие отзывы жильцов управляющей компании. Пиши строго на русском. Пример отзыва:\n",
            "«Первый раз вы решили вопрос быстро »\n",
            "\n",
            "Напиши 1 уникальный отзыв по смыслу, похожий на пример (1-2 предложений). Не копируй пример. Можно перефразировать, добавить детали, но отзыв должен быть уникальным.\n"
          ]
        },
        {
          "name": "stderr",
          "output_type": "stream",
          "text": [
            "Генерируем синтетику:   1%|          | 10/1335 [00:02<05:27,  4.05it/s]"
          ]
        },
        {
          "name": "stdout",
          "output_type": "stream",
          "text": [
            "Ты пишешь короткие отзывы жильцов управляющей компании. Пиши строго на русском. Пример отзыва:\n",
            "«отлично, молодцы!»\n",
            "\n",
            "Напиши 1 уникальный отзыв по смыслу, похожий на пример (1-2 предложений). Не копируй пример. Можно перефразировать, добавить детали, но отзыв должен быть уникальным.\n"
          ]
        },
        {
          "name": "stderr",
          "output_type": "stream",
          "text": [
            "Генерируем синтетику:   1%|          | 11/1335 [00:02<05:13,  4.22it/s]"
          ]
        },
        {
          "name": "stdout",
          "output_type": "stream",
          "text": [
            "Ты пишешь короткие отзывы жильцов управляющей компании. Пиши строго на русском. Пример отзыва:\n",
            "«проблема повторяется очень часто. вопрос не решается, не устраняется причина остановки лифтов практически каждый день. ездить в лифте небезопасно»\n",
            "\n",
            "Напиши 1 уникальный отзыв по смыслу, похожий на пример (1-2 предложений). Не копируй пример. Можно перефразировать, добавить детали, но отзыв должен быть уникальным.\n"
          ]
        },
        {
          "name": "stderr",
          "output_type": "stream",
          "text": [
            "Генерируем синтетику:   1%|          | 12/1335 [00:03<06:00,  3.67it/s]"
          ]
        },
        {
          "name": "stdout",
          "output_type": "stream",
          "text": [
            "Ты пишешь короткие отзывы жильцов управляющей компании. Пиши строго на русском. Пример отзыва:\n",
            "«подскажите пожалуйста куда скинуть акт о выполнении поверки,чтоб в приложении отображалась информация,что поверка проведена?»\n",
            "\n",
            "Напиши 1 уникальный отзыв по смыслу, похожий на пример (1-2 предложений). Не копируй пример. Можно перефразировать, добавить детали, но отзыв должен быть уникальным.\n"
          ]
        },
        {
          "name": "stderr",
          "output_type": "stream",
          "text": [
            "Генерируем синтетику:   1%|          | 13/1335 [00:03<06:16,  3.51it/s]"
          ]
        },
        {
          "name": "stdout",
          "output_type": "stream",
          "text": [
            "Ты пишешь короткие отзывы жильцов управляющей компании. Пиши строго на русском. Пример отзыва:\n",
            "«чего не сделано»\n",
            "\n",
            "Напиши 1 уникальный отзыв по смыслу, похожий на пример (1-2 предложений). Не копируй пример. Можно перефразировать, добавить детали, но отзыв должен быть уникальным.\n"
          ]
        },
        {
          "name": "stderr",
          "output_type": "stream",
          "text": [
            "Генерируем синтетику:   1%|          | 15/1335 [00:04<05:56,  3.70it/s]"
          ]
        },
        {
          "name": "stdout",
          "output_type": "stream",
          "text": [
            "Ты пишешь короткие отзывы жильцов управляющей компании. Пиши строго на русском. Пример отзыва:\n",
            "«благодарю за быстро и качественно оказанную услугу»\n",
            "\n",
            "Напиши 1 уникальный отзыв по смыслу, похожий на пример (1-2 предложений). Не копируй пример. Можно перефразировать, добавить детали, но отзыв должен быть уникальным.\n",
            "Ты пишешь короткие отзывы жильцов управляющей компании. Пиши строго на русском. Пример отзыва:\n",
            "«все прекрасно»\n",
            "\n",
            "Напиши 1 уникальный отзыв по смыслу, похожий на пример (1-2 предложений). Не копируй пример. Можно перефразировать, добавить детали, но отзыв должен быть уникальным.\n"
          ]
        },
        {
          "name": "stderr",
          "output_type": "stream",
          "text": [
            "Генерируем синтетику:   1%|          | 16/1335 [00:04<05:39,  3.89it/s]"
          ]
        },
        {
          "name": "stdout",
          "output_type": "stream",
          "text": [
            "Ты пишешь короткие отзывы жильцов управляющей компании. Пиши строго на русском. Пример отзыва:\n",
            "«спасибо большое.  все очень быстро и удобно.»\n",
            "\n",
            "Напиши 1 уникальный отзыв по смыслу, похожий на пример (1-2 предложений). Не копируй пример. Можно перефразировать, добавить детали, но отзыв должен быть уникальным.\n"
          ]
        },
        {
          "name": "stderr",
          "output_type": "stream",
          "text": [
            "Генерируем синтетику:   1%|▏         | 17/1335 [00:04<05:26,  4.03it/s]"
          ]
        },
        {
          "name": "stdout",
          "output_type": "stream",
          "text": [
            "Ты пишешь короткие отзывы жильцов управляющей компании. Пиши строго на русском. Пример отзыва:\n",
            "«Мастер своего дела!»\n",
            "\n",
            "Напиши 1 уникальный отзыв по смыслу, похожий на пример (1-2 предложений). Не копируй пример. Можно перефразировать, добавить детали, но отзыв должен быть уникальным.\n"
          ]
        },
        {
          "name": "stderr",
          "output_type": "stream",
          "text": [
            "Генерируем синтетику:   1%|▏         | 18/1335 [00:04<05:27,  4.03it/s]"
          ]
        },
        {
          "name": "stdout",
          "output_type": "stream",
          "text": [
            "Ты пишешь короткие отзывы жильцов управляющей компании. Пиши строго на русском. Пример отзыва:\n",
            "«Огромное спасибо, за помощь и проделанную Вами работу!»\n",
            "\n",
            "Напиши 1 уникальный отзыв по смыслу, похожий на пример (1-2 предложений). Не копируй пример. Можно перефразировать, добавить детали, но отзыв должен быть уникальным.\n"
          ]
        },
        {
          "name": "stderr",
          "output_type": "stream",
          "text": [
            "Генерируем синтетику:   1%|▏         | 19/1335 [00:05<05:19,  4.11it/s]"
          ]
        },
        {
          "name": "stdout",
          "output_type": "stream",
          "text": [
            "Ты пишешь короткие отзывы жильцов управляющей компании. Пиши строго на русском. Пример отзыва:\n",
            "«сантехник пришел в течение 20 минут. вежливый. проблему разрешил .»\n",
            "\n",
            "Напиши 1 уникальный отзыв по смыслу, похожий на пример (1-2 предложений). Не копируй пример. Можно перефразировать, добавить детали, но отзыв должен быть уникальным.\n"
          ]
        },
        {
          "name": "stderr",
          "output_type": "stream",
          "text": [
            "Генерируем синтетику:   1%|▏         | 20/1335 [00:05<06:11,  3.54it/s]"
          ]
        },
        {
          "name": "stdout",
          "output_type": "stream",
          "text": [
            "Ты пишешь короткие отзывы жильцов управляющей компании. Пиши строго на русском. Пример отзыва:\n",
            "«Менеджер Елизавета  очень быстро решила мой вопрос, спасибо!»\n",
            "\n",
            "Напиши 1 уникальный отзыв по смыслу, похожий на пример (1-2 предложений). Не копируй пример. Можно перефразировать, добавить детали, но отзыв должен быть уникальным.\n"
          ]
        },
        {
          "name": "stderr",
          "output_type": "stream",
          "text": [
            "Генерируем синтетику:   2%|▏         | 22/1335 [00:05<05:26,  4.02it/s]"
          ]
        },
        {
          "name": "stdout",
          "output_type": "stream",
          "text": [
            "Ты пишешь короткие отзывы жильцов управляющей компании. Пиши строго на русском. Пример отзыва:\n",
            "«норм»\n",
            "\n",
            "Напиши 1 уникальный отзыв по смыслу, похожий на пример (1-2 предложений). Не копируй пример. Можно перефразировать, добавить детали, но отзыв должен быть уникальным.\n",
            "Ты пишешь короткие отзывы жильцов управляющей компании. Пиши строго на русском. Пример отзыва:\n",
            "«Вопросов нет, молодцы. Супер оперативно »\n",
            "\n",
            "Напиши 1 уникальный отзыв по смыслу, похожий на пример (1-2 предложений). Не копируй пример. Можно перефразировать, добавить детали, но отзыв должен быть уникальным.\n"
          ]
        },
        {
          "name": "stderr",
          "output_type": "stream",
          "text": [
            "Генерируем синтетику:   2%|▏         | 23/1335 [00:06<05:07,  4.27it/s]"
          ]
        },
        {
          "name": "stdout",
          "output_type": "stream",
          "text": [
            "Ты пишешь короткие отзывы жильцов управляющей компании. Пиши строго на русском. Пример отзыва:\n",
            "«благодарю! вопрос был оперативно решен»\n",
            "\n",
            "Напиши 1 уникальный отзыв по смыслу, похожий на пример (1-2 предложений). Не копируй пример. Можно перефразировать, добавить детали, но отзыв должен быть уникальным.\n"
          ]
        },
        {
          "name": "stderr",
          "output_type": "stream",
          "text": [
            "Генерируем синтетику:   2%|▏         | 24/1335 [00:06<05:06,  4.28it/s]"
          ]
        },
        {
          "name": "stdout",
          "output_type": "stream",
          "text": [
            "Ты пишешь короткие отзывы жильцов управляющей компании. Пиши строго на русском. Пример отзыва:\n",
            "«спасибо! очень помогли! отличный сантехник»\n",
            "\n",
            "Напиши 1 уникальный отзыв по смыслу, похожий на пример (1-2 предложений). Не копируй пример. Можно перефразировать, добавить детали, но отзыв должен быть уникальным.\n"
          ]
        },
        {
          "name": "stderr",
          "output_type": "stream",
          "text": [
            "Генерируем синтетику:   2%|▏         | 25/1335 [00:06<05:23,  4.05it/s]"
          ]
        },
        {
          "name": "stdout",
          "output_type": "stream",
          "text": [
            "Ты пишешь короткие отзывы жильцов управляющей компании. Пиши строго на русском. Пример отзыва:\n",
            "«спасибо большое. все супер»\n",
            "\n",
            "Напиши 1 уникальный отзыв по смыслу, похожий на пример (1-2 предложений). Не копируй пример. Можно перефразировать, добавить детали, но отзыв должен быть уникальным.\n"
          ]
        },
        {
          "name": "stderr",
          "output_type": "stream",
          "text": [
            "Генерируем синтетику:   2%|▏         | 26/1335 [00:06<05:08,  4.24it/s]"
          ]
        },
        {
          "name": "stdout",
          "output_type": "stream",
          "text": [
            "Ты пишешь короткие отзывы жильцов управляющей компании. Пиши строго на русском. Пример отзыва:\n",
            "«лампочки как перегорели так и никто их не поменял. 6этаж холл у лифта!»\n",
            "\n",
            "Напиши 1 уникальный отзыв по смыслу, похожий на пример (1-2 предложений). Не копируй пример. Можно перефразировать, добавить детали, но отзыв должен быть уникальным.\n"
          ]
        },
        {
          "name": "stderr",
          "output_type": "stream",
          "text": [
            "Генерируем синтетику:   2%|▏         | 28/1335 [00:07<05:18,  4.10it/s]"
          ]
        },
        {
          "name": "stdout",
          "output_type": "stream",
          "text": [
            "Ты пишешь короткие отзывы жильцов управляющей компании. Пиши строго на русском. Пример отзыва:\n",
            "«оперативно  .спасибо»\n",
            "\n",
            "Напиши 1 уникальный отзыв по смыслу, похожий на пример (1-2 предложений). Не копируй пример. Можно перефразировать, добавить детали, но отзыв должен быть уникальным.\n",
            "Ты пишешь короткие отзывы жильцов управляющей компании. Пиши строго на русском. Пример отзыва:\n",
            "«прекрасный специалист, спасибо!»\n",
            "\n",
            "Напиши 1 уникальный отзыв по смыслу, похожий на пример (1-2 предложений). Не копируй пример. Можно перефразировать, добавить детали, но отзыв должен быть уникальным.\n"
          ]
        },
        {
          "name": "stderr",
          "output_type": "stream",
          "text": [
            "Генерируем синтетику:   2%|▏         | 29/1335 [00:07<05:08,  4.23it/s]"
          ]
        },
        {
          "name": "stdout",
          "output_type": "stream",
          "text": [
            "Ты пишешь короткие отзывы жильцов управляющей компании. Пиши строго на русском. Пример отзыва:\n",
            "«Добрый день! Спасибо. Вопрос решен. »\n",
            "\n",
            "Напиши 1 уникальный отзыв по смыслу, похожий на пример (1-2 предложений). Не копируй пример. Можно перефразировать, добавить детали, но отзыв должен быть уникальным.\n"
          ]
        },
        {
          "name": "stderr",
          "output_type": "stream",
          "text": [
            "Генерируем синтетику:   2%|▏         | 30/1335 [00:07<05:15,  4.14it/s]"
          ]
        },
        {
          "name": "stdout",
          "output_type": "stream",
          "text": [
            "Ты пишешь короткие отзывы жильцов управляющей компании. Пиши строго на русском. Пример отзыва:\n",
            "«благодарю за оперативное решение!»\n",
            "\n",
            "Напиши 1 уникальный отзыв по смыслу, похожий на пример (1-2 предложений). Не копируй пример. Можно перефразировать, добавить детали, но отзыв должен быть уникальным.\n"
          ]
        },
        {
          "name": "stderr",
          "output_type": "stream",
          "text": [
            "Генерируем синтетику:   2%|▏         | 31/1335 [00:08<05:07,  4.24it/s]"
          ]
        },
        {
          "name": "stdout",
          "output_type": "stream",
          "text": [
            "Ты пишешь короткие отзывы жильцов управляющей компании. Пиши строго на русском. Пример отзыва:\n",
            "«лифт работает»\n",
            "\n",
            "Напиши 1 уникальный отзыв по смыслу, похожий на пример (1-2 предложений). Не копируй пример. Можно перефразировать, добавить детали, но отзыв должен быть уникальным.\n"
          ]
        },
        {
          "name": "stderr",
          "output_type": "stream",
          "text": [
            "Генерируем синтетику:   2%|▏         | 33/1335 [00:08<05:09,  4.21it/s]"
          ]
        },
        {
          "name": "stdout",
          "output_type": "stream",
          "text": [
            "Ты пишешь короткие отзывы жильцов управляющей компании. Пиши строго на русском. Пример отзыва:\n",
            "«очень оперативно внесли данные по поверке »\n",
            "\n",
            "Напиши 1 уникальный отзыв по смыслу, похожий на пример (1-2 предложений). Не копируй пример. Можно перефразировать, добавить детали, но отзыв должен быть уникальным.\n",
            "Ты пишешь короткие отзывы жильцов управляющей компании. Пиши строго на русском. Пример отзыва:\n",
            "«оперативно.»\n",
            "\n",
            "Напиши 1 уникальный отзыв по смыслу, похожий на пример (1-2 предложений). Не копируй пример. Можно перефразировать, добавить детали, но отзыв должен быть уникальным.\n"
          ]
        },
        {
          "name": "stderr",
          "output_type": "stream",
          "text": [
            "Генерируем синтетику:   3%|▎         | 34/1335 [00:08<04:44,  4.57it/s]"
          ]
        },
        {
          "name": "stdout",
          "output_type": "stream",
          "text": [
            "Ты пишешь короткие отзывы жильцов управляющей компании. Пиши строго на русском. Пример отзыва:\n",
            "«отреагировали моментально. сантехник нашел причину быстро и устранил быстро. спасибо большое.»\n",
            "\n",
            "Напиши 1 уникальный отзыв по смыслу, похожий на пример (1-2 предложений). Не копируй пример. Можно перефразировать, добавить детали, но отзыв должен быть уникальным.\n"
          ]
        },
        {
          "name": "stderr",
          "output_type": "stream",
          "text": [
            "Генерируем синтетику:   3%|▎         | 35/1335 [00:09<05:12,  4.16it/s]"
          ]
        },
        {
          "name": "stdout",
          "output_type": "stream",
          "text": [
            "Ты пишешь короткие отзывы жильцов управляющей компании. Пиши строго на русском. Пример отзыва:\n",
            "«информация дана»\n",
            "\n",
            "Напиши 1 уникальный отзыв по смыслу, похожий на пример (1-2 предложений). Не копируй пример. Можно перефразировать, добавить детали, но отзыв должен быть уникальным.\n"
          ]
        },
        {
          "name": "stderr",
          "output_type": "stream",
          "text": [
            "Генерируем синтетику:   3%|▎         | 36/1335 [00:09<05:31,  3.92it/s]"
          ]
        },
        {
          "name": "stdout",
          "output_type": "stream",
          "text": [
            "Ты пишешь короткие отзывы жильцов управляющей компании. Пиши строго на русском. Пример отзыва:\n",
            "«отлично, спасибо.»\n",
            "\n",
            "Напиши 1 уникальный отзыв по смыслу, похожий на пример (1-2 предложений). Не копируй пример. Можно перефразировать, добавить детали, но отзыв должен быть уникальным.\n"
          ]
        },
        {
          "name": "stderr",
          "output_type": "stream",
          "text": [
            "Генерируем синтетику:   3%|▎         | 37/1335 [00:09<05:13,  4.14it/s]"
          ]
        },
        {
          "name": "stdout",
          "output_type": "stream",
          "text": [
            "Ты пишешь короткие отзывы жильцов управляющей компании. Пиши строго на русском. Пример отзыва:\n",
            "«почему не отражается что проверка пройдена, пишет пройти же проверку в лк. даже на сообщение не ответили молча закрыли заявку»\n",
            "\n",
            "Напиши 1 уникальный отзыв по смыслу, похожий на пример (1-2 предложений). Не копируй пример. Можно перефразировать, добавить детали, но отзыв должен быть уникальным.\n"
          ]
        },
        {
          "name": "stderr",
          "output_type": "stream",
          "text": [
            "Генерируем синтетику:   3%|▎         | 39/1335 [00:10<05:24,  3.99it/s]"
          ]
        },
        {
          "name": "stdout",
          "output_type": "stream",
          "text": [
            "Ты пишешь короткие отзывы жильцов управляющей компании. Пиши строго на русском. Пример отзыва:\n",
            "«спасибо всё поняла.»\n",
            "\n",
            "Напиши 1 уникальный отзыв по смыслу, похожий на пример (1-2 предложений). Не копируй пример. Можно перефразировать, добавить детали, но отзыв должен быть уникальным.\n",
            "Ты пишешь короткие отзывы жильцов управляющей компании. Пиши строго на русском. Пример отзыва:\n",
            "«все оперативно, быстро, спасибо! »\n",
            "\n",
            "Напиши 1 уникальный отзыв по смыслу, похожий на пример (1-2 предложений). Не копируй пример. Можно перефразировать, добавить детали, но отзыв должен быть уникальным.\n"
          ]
        },
        {
          "name": "stderr",
          "output_type": "stream",
          "text": [
            "Генерируем синтетику:   3%|▎         | 41/1335 [00:10<04:50,  4.46it/s]"
          ]
        },
        {
          "name": "stdout",
          "output_type": "stream",
          "text": [
            "Ты пишешь короткие отзывы жильцов управляющей компании. Пиши строго на русском. Пример отзыва:\n",
            "«очень оперативно. спасибо »\n",
            "\n",
            "Напиши 1 уникальный отзыв по смыслу, похожий на пример (1-2 предложений). Не копируй пример. Можно перефразировать, добавить детали, но отзыв должен быть уникальным.\n",
            "Ты пишешь короткие отзывы жильцов управляющей компании. Пиши строго на русском. Пример отзыва:\n",
            "«Молодцы»\n",
            "\n",
            "Напиши 1 уникальный отзыв по смыслу, похожий на пример (1-2 предложений). Не копируй пример. Можно перефразировать, добавить детали, но отзыв должен быть уникальным.\n"
          ]
        },
        {
          "name": "stderr",
          "output_type": "stream",
          "text": [
            "Генерируем синтетику:   3%|▎         | 42/1335 [00:10<05:05,  4.24it/s]"
          ]
        },
        {
          "name": "stdout",
          "output_type": "stream",
          "text": [
            "Ты пишешь короткие отзывы жильцов управляющей компании. Пиши строго на русском. Пример отзыва:\n",
            "«снова не работает доводчик двери»\n",
            "\n",
            "Напиши 1 уникальный отзыв по смыслу, похожий на пример (1-2 предложений). Не копируй пример. Можно перефразировать, добавить детали, но отзыв должен быть уникальным.\n"
          ]
        },
        {
          "name": "stderr",
          "output_type": "stream",
          "text": [
            "Генерируем синтетику:   3%|▎         | 43/1335 [00:11<05:26,  3.96it/s]"
          ]
        },
        {
          "name": "stdout",
          "output_type": "stream",
          "text": [
            "Ты пишешь короткие отзывы жильцов управляющей компании. Пиши строго на русском. Пример отзыва:\n",
            "«починили»\n",
            "\n",
            "Напиши 1 уникальный отзыв по смыслу, похожий на пример (1-2 предложений). Не копируй пример. Можно перефразировать, добавить детали, но отзыв должен быть уникальным.\n"
          ]
        },
        {
          "name": "stderr",
          "output_type": "stream",
          "text": [
            "Генерируем синтетику:   3%|▎         | 44/1335 [00:11<05:10,  4.16it/s]"
          ]
        },
        {
          "name": "stdout",
          "output_type": "stream",
          "text": [
            "Ты пишешь короткие отзывы жильцов управляющей компании. Пиши строго на русском. Пример отзыва:\n",
            "«Оперативно, аккуратно, в удобное время. »\n",
            "\n",
            "Напиши 1 уникальный отзыв по смыслу, похожий на пример (1-2 предложений). Не копируй пример. Можно перефразировать, добавить детали, но отзыв должен быть уникальным.\n"
          ]
        },
        {
          "name": "stderr",
          "output_type": "stream",
          "text": [
            "Генерируем синтетику:   3%|▎         | 45/1335 [00:11<05:04,  4.24it/s]"
          ]
        },
        {
          "name": "stdout",
          "output_type": "stream",
          "text": [
            "Ты пишешь короткие отзывы жильцов управляющей компании. Пиши строго на русском. Пример отзыва:\n",
            "«быстро устранили течь в шахте»\n",
            "\n",
            "Напиши 1 уникальный отзыв по смыслу, похожий на пример (1-2 предложений). Не копируй пример. Можно перефразировать, добавить детали, но отзыв должен быть уникальным.\n"
          ]
        },
        {
          "name": "stderr",
          "output_type": "stream",
          "text": [
            "Генерируем синтетику:   3%|▎         | 46/1335 [00:11<04:59,  4.30it/s]"
          ]
        },
        {
          "name": "stdout",
          "output_type": "stream",
          "text": [
            "Ты пишешь короткие отзывы жильцов управляющей компании. Пиши строго на русском. Пример отзыва:\n",
            "«вежливые и отзывчивые сотрудники, быстро решают все возникшие проблемы!»\n",
            "\n",
            "Напиши 1 уникальный отзыв по смыслу, похожий на пример (1-2 предложений). Не копируй пример. Можно перефразировать, добавить детали, но отзыв должен быть уникальным.\n"
          ]
        },
        {
          "name": "stderr",
          "output_type": "stream",
          "text": [
            "Генерируем синтетику:   4%|▎         | 47/1335 [00:11<05:10,  4.15it/s]"
          ]
        },
        {
          "name": "stdout",
          "output_type": "stream",
          "text": [
            "Ты пишешь короткие отзывы жильцов управляющей компании. Пиши строго на русском. Пример отзыва:\n",
            "«соседи так и хранят вещи , а лист был просто положен в результате его просто выбросили , нужно наклеить лист оповещения на окно чтоб было видно либо принять меры к людям которые продолжают пренебрегать правилами пользования помещения»\n",
            "\n",
            "Напиши 1 уникальный отзыв по смыслу, похожий на пример (1-2 предложений). Не копируй пример. Можно перефразировать, добавить детали, но отзыв должен быть уникальным.\n"
          ]
        },
        {
          "name": "stderr",
          "output_type": "stream",
          "text": [
            "Генерируем синтетику:   4%|▎         | 48/1335 [00:12<06:08,  3.49it/s]"
          ]
        },
        {
          "name": "stdout",
          "output_type": "stream",
          "text": [
            "Ты пишешь короткие отзывы жильцов управляющей компании. Пиши строго на русском. Пример отзыва:\n",
            "«Сервис на высоте, мастер - профессионал»\n",
            "\n",
            "Напиши 1 уникальный отзыв по смыслу, похожий на пример (1-2 предложений). Не копируй пример. Можно перефразировать, добавить детали, но отзыв должен быть уникальным.\n"
          ]
        },
        {
          "name": "stderr",
          "output_type": "stream",
          "text": [
            "Генерируем синтетику:   4%|▎         | 49/1335 [00:12<05:37,  3.81it/s]"
          ]
        },
        {
          "name": "stdout",
          "output_type": "stream",
          "text": [
            "Ты пишешь короткие отзывы жильцов управляющей компании. Пиши строго на русском. Пример отзыва:\n",
            "«в лк у меня нет задолженности. оплачивал более недели назад.»\n",
            "\n",
            "Напиши 1 уникальный отзыв по смыслу, похожий на пример (1-2 предложений). Не копируй пример. Можно перефразировать, добавить детали, но отзыв должен быть уникальным.\n"
          ]
        },
        {
          "name": "stderr",
          "output_type": "stream",
          "text": [
            "Генерируем синтетику:   4%|▎         | 50/1335 [00:12<05:31,  3.87it/s]"
          ]
        },
        {
          "name": "stdout",
          "output_type": "stream",
          "text": [
            "Ты пишешь короткие отзывы жильцов управляющей компании. Пиши строго на русском. Пример отзыва:\n",
            "«супер-быстро помогли. по телефону помогли все решить. отлично!»\n",
            "\n",
            "Напиши 1 уникальный отзыв по смыслу, похожий на пример (1-2 предложений). Не копируй пример. Можно перефразировать, добавить детали, но отзыв должен быть уникальным.\n"
          ]
        },
        {
          "name": "stderr",
          "output_type": "stream",
          "text": [
            "Генерируем синтетику:   4%|▍         | 51/1335 [00:13<05:31,  3.87it/s]"
          ]
        },
        {
          "name": "stdout",
          "output_type": "stream",
          "text": [
            "Ты пишешь короткие отзывы жильцов управляющей компании. Пиши строго на русском. Пример отзыва:\n",
            "«все отлично! сантехник оперативно пришел, при мне все устранил! видно, что спец в своем деле!»\n",
            "\n",
            "Напиши 1 уникальный отзыв по смыслу, похожий на пример (1-2 предложений). Не копируй пример. Можно перефразировать, добавить детали, но отзыв должен быть уникальным.\n"
          ]
        },
        {
          "name": "stderr",
          "output_type": "stream",
          "text": [
            "Генерируем синтетику:   4%|▍         | 53/1335 [00:13<05:03,  4.22it/s]"
          ]
        },
        {
          "name": "stdout",
          "output_type": "stream",
          "text": [
            "Ты пишешь короткие отзывы жильцов управляющей компании. Пиши строго на русском. Пример отзыва:\n",
            "«вопрос не решили же»\n",
            "\n",
            "Напиши 1 уникальный отзыв по смыслу, похожий на пример (1-2 предложений). Не копируй пример. Можно перефразировать, добавить детали, но отзыв должен быть уникальным.\n",
            "Ты пишешь короткие отзывы жильцов управляющей компании. Пиши строго на русском. Пример отзыва:\n",
            "«Спасибо за оперативность. »\n",
            "\n",
            "Напиши 1 уникальный отзыв по смыслу, похожий на пример (1-2 предложений). Не копируй пример. Можно перефразировать, добавить детали, но отзыв должен быть уникальным.\n"
          ]
        },
        {
          "name": "stderr",
          "output_type": "stream",
          "text": [
            "Генерируем синтетику:   4%|▍         | 55/1335 [00:13<04:37,  4.61it/s]"
          ]
        },
        {
          "name": "stdout",
          "output_type": "stream",
          "text": [
            "Ты пишешь короткие отзывы жильцов управляющей компании. Пиши строго на русском. Пример отзыва:\n",
            "«все понятно»\n",
            "\n",
            "Напиши 1 уникальный отзыв по смыслу, похожий на пример (1-2 предложений). Не копируй пример. Можно перефразировать, добавить детали, но отзыв должен быть уникальным.\n",
            "Ты пишешь короткие отзывы жильцов управляющей компании. Пиши строго на русском. Пример отзыва:\n",
            "«отличная работа! спасибо!»\n",
            "\n",
            "Напиши 1 уникальный отзыв по смыслу, похожий на пример (1-2 предложений). Не копируй пример. Можно перефразировать, добавить детали, но отзыв должен быть уникальным.\n"
          ]
        },
        {
          "name": "stderr",
          "output_type": "stream",
          "text": [
            "Генерируем синтетику:   4%|▍         | 56/1335 [00:14<04:37,  4.61it/s]"
          ]
        },
        {
          "name": "stdout",
          "output_type": "stream",
          "text": [
            "Ты пишешь короткие отзывы жильцов управляющей компании. Пиши строго на русском. Пример отзыва:\n",
            "«оперативно разрешили данную проблему! надеюсь, что больше в данном месте после сварки протекать не будет»\n",
            "\n",
            "Напиши 1 уникальный отзыв по смыслу, похожий на пример (1-2 предложений). Не копируй пример. Можно перефразировать, добавить детали, но отзыв должен быть уникальным.\n"
          ]
        },
        {
          "name": "stderr",
          "output_type": "stream",
          "text": [
            "Генерируем синтетику:   4%|▍         | 57/1335 [00:14<05:00,  4.26it/s]"
          ]
        },
        {
          "name": "stdout",
          "output_type": "stream",
          "text": [
            "Ты пишешь короткие отзывы жильцов управляющей компании. Пиши строго на русском. Пример отзыва:\n",
            "«мерси!»\n",
            "\n",
            "Напиши 1 уникальный отзыв по смыслу, похожий на пример (1-2 предложений). Не копируй пример. Можно перефразировать, добавить детали, но отзыв должен быть уникальным.\n"
          ]
        },
        {
          "name": "stderr",
          "output_type": "stream",
          "text": [
            "Генерируем синтетику:   4%|▍         | 58/1335 [00:14<04:55,  4.32it/s]"
          ]
        },
        {
          "name": "stdout",
          "output_type": "stream",
          "text": [
            "Ты пишешь короткие отзывы жильцов управляющей компании. Пиши строго на русском. Пример отзыва:\n",
            "«Иван, огромное спасибо вам ! »\n",
            "\n",
            "Напиши 1 уникальный отзыв по смыслу, похожий на пример (1-2 предложений). Не копируй пример. Можно перефразировать, добавить детали, но отзыв должен быть уникальным.\n"
          ]
        },
        {
          "name": "stderr",
          "output_type": "stream",
          "text": [
            "Генерируем синтетику:   4%|▍         | 59/1335 [00:14<05:23,  3.94it/s]"
          ]
        },
        {
          "name": "stdout",
          "output_type": "stream",
          "text": [
            "Ты пишешь короткие отзывы жильцов управляющей компании. Пиши строго на русском. Пример отзыва:\n",
            "«больше спасибо! всё сделали быстро , оперативно.»\n",
            "\n",
            "Напиши 1 уникальный отзыв по смыслу, похожий на пример (1-2 предложений). Не копируй пример. Можно перефразировать, добавить детали, но отзыв должен быть уникальным.\n"
          ]
        },
        {
          "name": "stderr",
          "output_type": "stream",
          "text": [
            "Генерируем синтетику:   4%|▍         | 60/1335 [00:15<05:09,  4.12it/s]"
          ]
        },
        {
          "name": "stdout",
          "output_type": "stream",
          "text": [
            "Ты пишешь короткие отзывы жильцов управляющей компании. Пиши строго на русском. Пример отзыва:\n",
            "«теперь всё в порядке. повторное начисление убрали. спасибо!»\n",
            "\n",
            "Напиши 1 уникальный отзыв по смыслу, похожий на пример (1-2 предложений). Не копируй пример. Можно перефразировать, добавить детали, но отзыв должен быть уникальным.\n"
          ]
        },
        {
          "name": "stderr",
          "output_type": "stream",
          "text": [
            "Генерируем синтетику:   5%|▍         | 61/1335 [00:15<05:00,  4.24it/s]"
          ]
        },
        {
          "name": "stdout",
          "output_type": "stream",
          "text": [
            "Ты пишешь короткие отзывы жильцов управляющей компании. Пиши строго на русском. Пример отзыва:\n",
            "«спасибо! быстро и оперативно закрепили светильник.  :thumbs_up: »\n",
            "\n",
            "Если в примере есть код эмодзи вида :smile:, то сохрани стиль — вставь похожий код эмодзи.\n",
            "\n",
            "Напиши 1 уникальный отзыв по смыслу, похожий на пример (1-2 предложений). Не копируй пример. Можно перефразировать, добавить детали, но отзыв должен быть уникальным.\n"
          ]
        },
        {
          "name": "stderr",
          "output_type": "stream",
          "text": [
            "Генерируем синтетику:   5%|▍         | 62/1335 [00:15<05:00,  4.23it/s]"
          ]
        },
        {
          "name": "stdout",
          "output_type": "stream",
          "text": [
            "Ты пишешь короткие отзывы жильцов управляющей компании. Пиши строго на русском. Пример отзыва:\n",
            "«быстро решили проблему\n",
            "»\n",
            "\n",
            "Напиши 1 уникальный отзыв по смыслу, похожий на пример (1-2 предложений). Не копируй пример. Можно перефразировать, добавить детали, но отзыв должен быть уникальным.\n"
          ]
        },
        {
          "name": "stderr",
          "output_type": "stream",
          "text": [
            "Генерируем синтетику:   5%|▍         | 63/1335 [00:15<04:55,  4.31it/s]"
          ]
        },
        {
          "name": "stdout",
          "output_type": "stream",
          "text": [
            "Ты пишешь короткие отзывы жильцов управляющей компании. Пиши строго на русском. Пример отзыва:\n",
            "«спасибо,что стараетесь исправить быстро)))но увы…»\n",
            "\n",
            "Напиши 1 уникальный отзыв по смыслу, похожий на пример (1-2 предложений). Не копируй пример. Можно перефразировать, добавить детали, но отзыв должен быть уникальным.\n"
          ]
        },
        {
          "name": "stderr",
          "output_type": "stream",
          "text": [
            "Генерируем синтетику:   5%|▍         | 65/1335 [00:16<04:56,  4.29it/s]"
          ]
        },
        {
          "name": "stdout",
          "output_type": "stream",
          "text": [
            "Ты пишешь короткие отзывы жильцов управляющей компании. Пиши строго на русском. Пример отзыва:\n",
            "«ответили быстро, но увы ничего не смогут сделать.»\n",
            "\n",
            "Напиши 1 уникальный отзыв по смыслу, похожий на пример (1-2 предложений). Не копируй пример. Можно перефразировать, добавить детали, но отзыв должен быть уникальным.\n",
            "Ты пишешь короткие отзывы жильцов управляющей компании. Пиши строго на русском. Пример отзыва:\n",
            "«Идеально!»\n",
            "\n",
            "Напиши 1 уникальный отзыв по смыслу, похожий на пример (1-2 предложений). Не копируй пример. Можно перефразировать, добавить детали, но отзыв должен быть уникальным.\n"
          ]
        },
        {
          "name": "stderr",
          "output_type": "stream",
          "text": [
            "Генерируем синтетику:   5%|▍         | 66/1335 [00:16<04:40,  4.52it/s]"
          ]
        },
        {
          "name": "stdout",
          "output_type": "stream",
          "text": [
            "Ты пишешь короткие отзывы жильцов управляющей компании. Пиши строго на русском. Пример отзыва:\n",
            "«Все быстро, не смотря на поздний час.»\n",
            "\n",
            "Напиши 1 уникальный отзыв по смыслу, похожий на пример (1-2 предложений). Не копируй пример. Можно перефразировать, добавить детали, но отзыв должен быть уникальным.\n"
          ]
        },
        {
          "name": "stderr",
          "output_type": "stream",
          "text": [
            "Генерируем синтетику:   5%|▌         | 67/1335 [00:16<04:52,  4.34it/s]"
          ]
        },
        {
          "name": "stdout",
          "output_type": "stream",
          "text": [
            "Ты пишешь короткие отзывы жильцов управляющей компании. Пиши строго на русском. Пример отзыва:\n",
            "«сняла одну звезду за молчаливое закрытие заявки. \n",
            "а так, действительно, пришла домой, свет уже был.»\n",
            "\n",
            "Напиши 1 уникальный отзыв по смыслу, похожий на пример (1-2 предложений). Не копируй пример. Можно перефразировать, добавить детали, но отзыв должен быть уникальным.\n"
          ]
        },
        {
          "name": "stderr",
          "output_type": "stream",
          "text": [
            "Генерируем синтетику:   5%|▌         | 69/1335 [00:17<04:54,  4.30it/s]"
          ]
        },
        {
          "name": "stdout",
          "output_type": "stream",
          "text": [
            "Ты пишешь короткие отзывы жильцов управляющей компании. Пиши строго на русском. Пример отзыва:\n",
            "«огромное спасибо!!!»\n",
            "\n",
            "Напиши 1 уникальный отзыв по смыслу, похожий на пример (1-2 предложений). Не копируй пример. Можно перефразировать, добавить детали, но отзыв должен быть уникальным.\n",
            "Ты пишешь короткие отзывы жильцов управляющей компании. Пиши строго на русском. Пример отзыва:\n",
            "«Оперативно и быстро,спасибо Сергею!»\n",
            "\n",
            "Напиши 1 уникальный отзыв по смыслу, похожий на пример (1-2 предложений). Не копируй пример. Можно перефразировать, добавить детали, но отзыв должен быть уникальным.\n"
          ]
        },
        {
          "name": "stderr",
          "output_type": "stream",
          "text": [
            "Генерируем синтетику:   5%|▌         | 70/1335 [00:17<04:56,  4.26it/s]"
          ]
        },
        {
          "name": "stdout",
          "output_type": "stream",
          "text": [
            "Ты пишешь короткие отзывы жильцов управляющей компании. Пиши строго на русском. Пример отзыва:\n",
            "«быстро отреагировали на заявку , сразу решили проблему , спасибо»\n",
            "\n",
            "Напиши 1 уникальный отзыв по смыслу, похожий на пример (1-2 предложений). Не копируй пример. Можно перефразировать, добавить детали, но отзыв должен быть уникальным.\n"
          ]
        },
        {
          "name": "stderr",
          "output_type": "stream",
          "text": [
            "Генерируем синтетику:   5%|▌         | 71/1335 [00:17<05:02,  4.17it/s]"
          ]
        },
        {
          "name": "stdout",
          "output_type": "stream",
          "text": [
            "Ты пишешь короткие отзывы жильцов управляющей компании. Пиши строго на русском. Пример отзыва:\n",
            "«огромная благодарность службе клининга за решение непростого, но очень важного вопроса! \n",
            "навели идеальный порядок на указанных этажах, эвакуационные лестницы свободны! впечатлили, спасибо вам :folded_hands:  :two_hearts: »\n",
            "\n",
            "Если в примере есть код эмодзи вида :smile:, то сохрани стиль — вставь похожий код эмодзи.\n",
            "\n",
            "Напиши 1 уникальный отзыв по смыслу, похожий на пример (1-2 предложений). Не копируй пример. Можно перефразировать, добавить детали, но отзыв должен быть уникальным.\n"
          ]
        },
        {
          "name": "stderr",
          "output_type": "stream",
          "text": [
            "Генерируем синтетику:   5%|▌         | 72/1335 [00:18<05:47,  3.64it/s]"
          ]
        },
        {
          "name": "stdout",
          "output_type": "stream",
          "text": [
            "Ты пишешь короткие отзывы жильцов управляющей компании. Пиши строго на русском. Пример отзыва:\n",
            "«благодарю за терпение)))»\n",
            "\n",
            "Напиши 1 уникальный отзыв по смыслу, похожий на пример (1-2 предложений). Не копируй пример. Можно перефразировать, добавить детали, но отзыв должен быть уникальным.\n"
          ]
        },
        {
          "name": "stderr",
          "output_type": "stream",
          "text": [
            "Генерируем синтетику:   5%|▌         | 73/1335 [00:18<05:21,  3.92it/s]"
          ]
        },
        {
          "name": "stdout",
          "output_type": "stream",
          "text": [
            "Ты пишешь короткие отзывы жильцов управляющей компании. Пиши строго на русском. Пример отзыва:\n",
            "«спасибо, мусор и дверь вынесли, но полы не помыли»\n",
            "\n",
            "Напиши 1 уникальный отзыв по смыслу, похожий на пример (1-2 предложений). Не копируй пример. Можно перефразировать, добавить детали, но отзыв должен быть уникальным.\n"
          ]
        },
        {
          "name": "stderr",
          "output_type": "stream",
          "text": [
            "Генерируем синтетику:   6%|▌         | 74/1335 [00:18<06:23,  3.29it/s]"
          ]
        },
        {
          "name": "stdout",
          "output_type": "stream",
          "text": [
            "Ты пишешь короткие отзывы жильцов управляющей компании. Пиши строго на русском. Пример отзыва:\n",
            "«большое спасибо! оперативно решили проблему»\n",
            "\n",
            "Напиши 1 уникальный отзыв по смыслу, похожий на пример (1-2 предложений). Не копируй пример. Можно перефразировать, добавить детали, но отзыв должен быть уникальным.\n"
          ]
        },
        {
          "name": "stderr",
          "output_type": "stream",
          "text": [
            "Генерируем синтетику:   6%|▌         | 75/1335 [00:18<05:55,  3.54it/s]"
          ]
        },
        {
          "name": "stdout",
          "output_type": "stream",
          "text": [
            "Ты пишешь короткие отзывы жильцов управляющей компании. Пиши строго на русском. Пример отзыва:\n",
            "«так и не работает дверь входная и дамовон»\n",
            "\n",
            "Напиши 1 уникальный отзыв по смыслу, похожий на пример (1-2 предложений). Не копируй пример. Можно перефразировать, добавить детали, но отзыв должен быть уникальным.\n"
          ]
        },
        {
          "name": "stderr",
          "output_type": "stream",
          "text": [
            "Генерируем синтетику:   6%|▌         | 76/1335 [00:19<06:28,  3.24it/s]"
          ]
        },
        {
          "name": "stdout",
          "output_type": "stream",
          "text": [
            "Ты пишешь короткие отзывы жильцов управляющей компании. Пиши строго на русском. Пример отзыва:\n",
            "«мастер молодец . быстро и все качественно сделал»\n",
            "\n",
            "Напиши 1 уникальный отзыв по смыслу, похожий на пример (1-2 предложений). Не копируй пример. Можно перефразировать, добавить детали, но отзыв должен быть уникальным.\n"
          ]
        },
        {
          "name": "stderr",
          "output_type": "stream",
          "text": [
            "Генерируем синтетику:   6%|▌         | 77/1335 [00:19<06:02,  3.47it/s]"
          ]
        },
        {
          "name": "stdout",
          "output_type": "stream",
          "text": [
            "Ты пишешь короткие отзывы жильцов управляющей компании. Пиши строго на русском. Пример отзыва:\n",
            "«Спасибо большое всё решили быстро!»\n",
            "\n",
            "Напиши 1 уникальный отзыв по смыслу, похожий на пример (1-2 предложений). Не копируй пример. Можно перефразировать, добавить детали, но отзыв должен быть уникальным.\n"
          ]
        },
        {
          "name": "stderr",
          "output_type": "stream",
          "text": [
            "Генерируем синтетику:   6%|▌         | 78/1335 [00:19<05:30,  3.80it/s]"
          ]
        },
        {
          "name": "stdout",
          "output_type": "stream",
          "text": [
            "Ты пишешь короткие отзывы жильцов управляющей компании. Пиши строго на русском. Пример отзыва:\n",
            "«Огромнейшее спасибо за оперативность :red_heart: ️»\n",
            "\n",
            "Если в примере есть код эмодзи вида :smile:, то сохрани стиль — вставь похожий код эмодзи.\n",
            "\n",
            "Напиши 1 уникальный отзыв по смыслу, похожий на пример (1-2 предложений). Не копируй пример. Можно перефразировать, добавить детали, но отзыв должен быть уникальным.\n"
          ]
        },
        {
          "name": "stderr",
          "output_type": "stream",
          "text": [
            "Генерируем синтетику:   6%|▌         | 79/1335 [00:19<05:08,  4.07it/s]"
          ]
        },
        {
          "name": "stdout",
          "output_type": "stream",
          "text": [
            "Ты пишешь короткие отзывы жильцов управляющей компании. Пиши строго на русском. Пример отзыва:\n",
            "«Мастеру Александру спасибо большое! »\n",
            "\n",
            "Напиши 1 уникальный отзыв по смыслу, похожий на пример (1-2 предложений). Не копируй пример. Можно перефразировать, добавить детали, но отзыв должен быть уникальным.\n"
          ]
        },
        {
          "name": "stderr",
          "output_type": "stream",
          "text": [
            "Генерируем синтетику:   6%|▌         | 80/1335 [00:20<05:19,  3.93it/s]"
          ]
        },
        {
          "name": "stdout",
          "output_type": "stream",
          "text": [
            "Ты пишешь короткие отзывы жильцов управляющей компании. Пиши строго на русском. Пример отзыва:\n",
            "«Работа выполнена на отлично! Быстро и качественно! Спасибо большое! »\n",
            "\n",
            "Напиши 1 уникальный отзыв по смыслу, похожий на пример (1-2 предложений). Не копируй пример. Можно перефразировать, добавить детали, но отзыв должен быть уникальным.\n"
          ]
        },
        {
          "name": "stderr",
          "output_type": "stream",
          "text": [
            "Генерируем синтетику:   6%|▌         | 81/1335 [00:20<05:25,  3.85it/s]"
          ]
        },
        {
          "name": "stdout",
          "output_type": "stream",
          "text": [
            "Ты пишешь короткие отзывы жильцов управляющей компании. Пиши строго на русском. Пример отзыва:\n",
            "«Вежливые, доброжелательные. Разъяснили, подсказали.»\n",
            "\n",
            "Напиши 1 уникальный отзыв по смыслу, похожий на пример (1-2 предложений). Не копируй пример. Можно перефразировать, добавить детали, но отзыв должен быть уникальным.\n"
          ]
        },
        {
          "name": "stderr",
          "output_type": "stream",
          "text": [
            "Генерируем синтетику:   6%|▌         | 82/1335 [00:20<05:34,  3.74it/s]"
          ]
        },
        {
          "name": "stdout",
          "output_type": "stream",
          "text": [
            "Ты пишешь короткие отзывы жильцов управляющей компании. Пиши строго на русском. Пример отзыва:\n",
            "«зеркало не было подключено к проводке пои замене в прошлом году, что теперь делать не известно? заведу новую заявку на замену зеркала»\n",
            "\n",
            "Напиши 1 уникальный отзыв по смыслу, похожий на пример (1-2 предложений). Не копируй пример. Можно перефразировать, добавить детали, но отзыв должен быть уникальным.\n"
          ]
        },
        {
          "name": "stderr",
          "output_type": "stream",
          "text": [
            "Генерируем синтетику:   6%|▌         | 83/1335 [00:21<06:32,  3.19it/s]"
          ]
        },
        {
          "name": "stdout",
          "output_type": "stream",
          "text": [
            "Ты пишешь короткие отзывы жильцов управляющей компании. Пиши строго на русском. Пример отзыва:\n",
            "«Спасибо большое, все получила »\n",
            "\n",
            "Напиши 1 уникальный отзыв по смыслу, похожий на пример (1-2 предложений). Не копируй пример. Можно перефразировать, добавить детали, но отзыв должен быть уникальным.\n"
          ]
        },
        {
          "name": "stderr",
          "output_type": "stream",
          "text": [
            "Генерируем синтетику:   6%|▋         | 84/1335 [00:21<05:51,  3.56it/s]"
          ]
        },
        {
          "name": "stdout",
          "output_type": "stream",
          "text": [
            "Ты пишешь короткие отзывы жильцов управляющей компании. Пиши строго на русском. Пример отзыва:\n",
            "«приятный менеджер :thumbs_up: »\n",
            "\n",
            "Если в примере есть код эмодзи вида :smile:, то сохрани стиль — вставь похожий код эмодзи.\n",
            "\n",
            "Напиши 1 уникальный отзыв по смыслу, похожий на пример (1-2 предложений). Не копируй пример. Можно перефразировать, добавить детали, но отзыв должен быть уникальным.\n"
          ]
        },
        {
          "name": "stderr",
          "output_type": "stream",
          "text": [
            "Генерируем синтетику:   6%|▋         | 85/1335 [00:21<06:04,  3.43it/s]"
          ]
        },
        {
          "name": "stdout",
          "output_type": "stream",
          "text": [
            "Ты пишешь короткие отзывы жильцов управляющей компании. Пиши строго на русском. Пример отзыва:\n",
            "«Спасибо за быстрое реагирование заявки »\n",
            "\n",
            "Напиши 1 уникальный отзыв по смыслу, похожий на пример (1-2 предложений). Не копируй пример. Можно перефразировать, добавить детали, но отзыв должен быть уникальным.\n"
          ]
        },
        {
          "name": "stderr",
          "output_type": "stream",
          "text": [
            "Генерируем синтетику:   6%|▋         | 86/1335 [00:21<05:35,  3.73it/s]"
          ]
        },
        {
          "name": "stdout",
          "output_type": "stream",
          "text": [
            "Ты пишешь короткие отзывы жильцов управляющей компании. Пиши строго на русском. Пример отзыва:\n",
            "«спасибо за оперативность :grinning_face: »\n",
            "\n",
            "Если в примере есть код эмодзи вида :smile:, то сохрани стиль — вставь похожий код эмодзи.\n",
            "\n",
            "Напиши 1 уникальный отзыв по смыслу, похожий на пример (1-2 предложений). Не копируй пример. Можно перефразировать, добавить детали, но отзыв должен быть уникальным.\n"
          ]
        },
        {
          "name": "stderr",
          "output_type": "stream",
          "text": [
            "Генерируем синтетику:   7%|▋         | 87/1335 [00:22<05:24,  3.84it/s]"
          ]
        },
        {
          "name": "stdout",
          "output_type": "stream",
          "text": [
            "Ты пишешь короткие отзывы жильцов управляющей компании. Пиши строго на русском. Пример отзыва:\n",
            "«Специалист проконсультировал, сориентировал по срокам.»\n",
            "\n",
            "Напиши 1 уникальный отзыв по смыслу, похожий на пример (1-2 предложений). Не копируй пример. Можно перефразировать, добавить детали, но отзыв должен быть уникальным.\n"
          ]
        },
        {
          "name": "stderr",
          "output_type": "stream",
          "text": [
            "Генерируем синтетику:   7%|▋         | 88/1335 [00:22<05:14,  3.96it/s]"
          ]
        },
        {
          "name": "stdout",
          "output_type": "stream",
          "text": [
            "Ты пишешь короткие отзывы жильцов управляющей компании. Пиши строго на русском. Пример отзыва:\n",
            "«Специалист пришёл очень быстро, все быстро исправил. Спасибо. »\n",
            "\n",
            "Напиши 1 уникальный отзыв по смыслу, похожий на пример (1-2 предложений). Не копируй пример. Можно перефразировать, добавить детали, но отзыв должен быть уникальным.\n"
          ]
        },
        {
          "name": "stderr",
          "output_type": "stream",
          "text": [
            "Генерируем синтетику:   7%|▋         | 90/1335 [00:22<04:53,  4.24it/s]"
          ]
        },
        {
          "name": "stdout",
          "output_type": "stream",
          "text": [
            "Ты пишешь короткие отзывы жильцов управляющей компании. Пиши строго на русском. Пример отзыва:\n",
            "«классно»\n",
            "\n",
            "Напиши 1 уникальный отзыв по смыслу, похожий на пример (1-2 предложений). Не копируй пример. Можно перефразировать, добавить детали, но отзыв должен быть уникальным.\n",
            "Ты пишешь короткие отзывы жильцов управляющей компании. Пиши строго на русском. Пример отзыва:\n",
            "«не работают 2 грузовых лифта»\n",
            "\n",
            "Напиши 1 уникальный отзыв по смыслу, похожий на пример (1-2 предложений). Не копируй пример. Можно перефразировать, добавить детали, но отзыв должен быть уникальным.\n"
          ]
        },
        {
          "name": "stderr",
          "output_type": "stream",
          "text": [
            "Генерируем синтетику:   7%|▋         | 91/1335 [00:23<05:18,  3.90it/s]"
          ]
        },
        {
          "name": "stdout",
          "output_type": "stream",
          "text": [
            "Ты пишешь короткие отзывы жильцов управляющей компании. Пиши строго на русском. Пример отзыва:\n",
            "«где можно посмотреть прайс на услуги ваших электриков? что за инкогнито цены, которые мне потом озвучивают?»\n",
            "\n",
            "Напиши 1 уникальный отзыв по смыслу, похожий на пример (1-2 предложений). Не копируй пример. Можно перефразировать, добавить детали, но отзыв должен быть уникальным.\n"
          ]
        },
        {
          "name": "stderr",
          "output_type": "stream",
          "text": [
            "Генерируем синтетику:   7%|▋         | 92/1335 [00:23<05:52,  3.53it/s]"
          ]
        },
        {
          "name": "stdout",
          "output_type": "stream",
          "text": [
            "Ты пишешь короткие отзывы жильцов управляющей компании. Пиши строго на русском. Пример отзыва:\n",
            "«добросовестный мастер виктор»\n",
            "\n",
            "Напиши 1 уникальный отзыв по смыслу, похожий на пример (1-2 предложений). Не копируй пример. Можно перефразировать, добавить детали, но отзыв должен быть уникальным.\n"
          ]
        },
        {
          "name": "stderr",
          "output_type": "stream",
          "text": [
            "Генерируем синтетику:   7%|▋         | 93/1335 [00:23<05:49,  3.56it/s]"
          ]
        },
        {
          "name": "stdout",
          "output_type": "stream",
          "text": [
            "Ты пишешь короткие отзывы жильцов управляющей компании. Пиши строго на русском. Пример отзыва:\n",
            "«21.01 уборку провели»\n",
            "\n",
            "Напиши 1 уникальный отзыв по смыслу, похожий на пример (1-2 предложений). Не копируй пример. Можно перефразировать, добавить детали, но отзыв должен быть уникальным.\n"
          ]
        },
        {
          "name": "stderr",
          "output_type": "stream",
          "text": [
            "Генерируем синтетику:   7%|▋         | 95/1335 [00:24<05:36,  3.69it/s]"
          ]
        },
        {
          "name": "stdout",
          "output_type": "stream",
          "text": [
            "Ты пишешь короткие отзывы жильцов управляющей компании. Пиши строго на русском. Пример отзыва:\n",
            "«отлично спасибо »\n",
            "\n",
            "Напиши 1 уникальный отзыв по смыслу, похожий на пример (1-2 предложений). Не копируй пример. Можно перефразировать, добавить детали, но отзыв должен быть уникальным.\n",
            "Ты пишешь короткие отзывы жильцов управляющей компании. Пиши строго на русском. Пример отзыва:\n",
            "«быстро отреагировали, запустили»\n",
            "\n",
            "Напиши 1 уникальный отзыв по смыслу, похожий на пример (1-2 предложений). Не копируй пример. Можно перефразировать, добавить детали, но отзыв должен быть уникальным.\n"
          ]
        },
        {
          "name": "stderr",
          "output_type": "stream",
          "text": [
            "Генерируем синтетику:   7%|▋         | 97/1335 [00:24<04:34,  4.52it/s]"
          ]
        },
        {
          "name": "stdout",
          "output_type": "stream",
          "text": [
            "Ты пишешь короткие отзывы жильцов управляющей компании. Пиши строго на русском. Пример отзыва:\n",
            "«Спасибо большое, всё отлично :thumbs_up: »\n",
            "\n",
            "Если в примере есть код эмодзи вида :smile:, то сохрани стиль — вставь похожий код эмодзи.\n",
            "\n",
            "Напиши 1 уникальный отзыв по смыслу, похожий на пример (1-2 предложений). Не копируй пример. Можно перефразировать, добавить детали, но отзыв должен быть уникальным.\n",
            "Ты пишешь короткие отзывы жильцов управляющей компании. Пиши строго на русском. Пример отзыва:\n",
            "«это с учётом остальных платежей или только за электричество?»\n",
            "\n",
            "Напиши 1 уникальный отзыв по смыслу, похожий на пример (1-2 предложений). Не копируй пример. Можно перефразировать, добавить детали, но отзыв должен быть уникальным.\n"
          ]
        },
        {
          "name": "stderr",
          "output_type": "stream",
          "text": [
            "Генерируем синтетику:   7%|▋         | 99/1335 [00:25<04:25,  4.65it/s]"
          ]
        },
        {
          "name": "stdout",
          "output_type": "stream",
          "text": [
            "Ты пишешь короткие отзывы жильцов управляющей компании. Пиши строго на русском. Пример отзыва:\n",
            "«Быстро.Качественно.»\n",
            "\n",
            "Напиши 1 уникальный отзыв по смыслу, похожий на пример (1-2 предложений). Не копируй пример. Можно перефразировать, добавить детали, но отзыв должен быть уникальным.\n",
            "Ты пишешь короткие отзывы жильцов управляющей компании. Пиши строго на русском. Пример отзыва:\n",
            "«оперативно и четко. сделали аккуратно, прибрались после работы »\n",
            "\n",
            "Напиши 1 уникальный отзыв по смыслу, похожий на пример (1-2 предложений). Не копируй пример. Можно перефразировать, добавить детали, но отзыв должен быть уникальным.\n"
          ]
        },
        {
          "name": "stderr",
          "output_type": "stream",
          "text": [
            "Генерируем синтетику:   8%|▊         | 101/1335 [00:25<04:53,  4.21it/s]"
          ]
        },
        {
          "name": "stdout",
          "output_type": "stream",
          "text": [
            "Ты пишешь короткие отзывы жильцов управляющей компании. Пиши строго на русском. Пример отзыва:\n",
            "«спасибо огромное!!! всё профессионально»\n",
            "\n",
            "Напиши 1 уникальный отзыв по смыслу, похожий на пример (1-2 предложений). Не копируй пример. Можно перефразировать, добавить детали, но отзыв должен быть уникальным.\n",
            "Ты пишешь короткие отзывы жильцов управляющей компании. Пиши строго на русском. Пример отзыва:\n",
            "«Спасибо Татьяне, всю информацию обновили»\n",
            "\n",
            "Напиши 1 уникальный отзыв по смыслу, похожий на пример (1-2 предложений). Не копируй пример. Можно перефразировать, добавить детали, но отзыв должен быть уникальным.\n"
          ]
        },
        {
          "name": "stderr",
          "output_type": "stream",
          "text": [
            "Генерируем синтетику:   8%|▊         | 103/1335 [00:26<04:28,  4.60it/s]"
          ]
        },
        {
          "name": "stdout",
          "output_type": "stream",
          "text": [
            "Ты пишешь короткие отзывы жильцов управляющей компании. Пиши строго на русском. Пример отзыва:\n",
            "«соседи так же продолжают ставить вещи , прошу принять меры»\n",
            "\n",
            "Напиши 1 уникальный отзыв по смыслу, похожий на пример (1-2 предложений). Не копируй пример. Можно перефразировать, добавить детали, но отзыв должен быть уникальным.\n",
            "Ты пишешь короткие отзывы жильцов управляющей компании. Пиши строго на русском. Пример отзыва:\n",
            "«Вауу, супер спасибо»\n",
            "\n",
            "Напиши 1 уникальный отзыв по смыслу, похожий на пример (1-2 предложений). Не копируй пример. Можно перефразировать, добавить детали, но отзыв должен быть уникальным.\n"
          ]
        },
        {
          "name": "stderr",
          "output_type": "stream",
          "text": [
            "Генерируем синтетику:   8%|▊         | 105/1335 [00:26<04:14,  4.83it/s]"
          ]
        },
        {
          "name": "stdout",
          "output_type": "stream",
          "text": [
            "Ты пишешь короткие отзывы жильцов управляющей компании. Пиши строго на русском. Пример отзыва:\n",
            "«спасибо за быстрое исполнение заявки»\n",
            "\n",
            "Напиши 1 уникальный отзыв по смыслу, похожий на пример (1-2 предложений). Не копируй пример. Можно перефразировать, добавить детали, но отзыв должен быть уникальным.\n",
            "Ты пишешь короткие отзывы жильцов управляющей компании. Пиши строго на русском. Пример отзыва:\n",
            "«спасибо за быструю реакцию!»\n",
            "\n",
            "Напиши 1 уникальный отзыв по смыслу, похожий на пример (1-2 предложений). Не копируй пример. Можно перефразировать, добавить детали, но отзыв должен быть уникальным.\n"
          ]
        },
        {
          "name": "stderr",
          "output_type": "stream",
          "text": [
            "Генерируем синтетику:   8%|▊         | 106/1335 [00:26<04:13,  4.84it/s]"
          ]
        },
        {
          "name": "stdout",
          "output_type": "stream",
          "text": [
            "Ты пишешь короткие отзывы жильцов управляющей компании. Пиши строго на русском. Пример отзыва:\n",
            "«вы не ответили, внесли ли вы изменения. меня волнует начисления с января 2025 года. я вам предоставила адресную справку которая от 03.01.25 года, в которой говориться что прописан только один человек, это я. меня волнует вопрос, внесли ли вы данные о снятие с регистрации моего сына, чтобы ав»\n",
            "\n",
            "Напиши 1 уникальный отзыв по смыслу, похожий на пример (1-2 предложений). Не копируй пример. Можно перефразировать, добавить детали, но отзыв должен быть уникальным.\n"
          ]
        },
        {
          "name": "stderr",
          "output_type": "stream",
          "text": [
            "Генерируем синтетику:   8%|▊         | 107/1335 [00:27<06:01,  3.40it/s]"
          ]
        },
        {
          "name": "stdout",
          "output_type": "stream",
          "text": [
            "Ты пишешь короткие отзывы жильцов управляющей компании. Пиши строго на русском. Пример отзыва:\n",
            "«Отличный мастер»\n",
            "\n",
            "Напиши 1 уникальный отзыв по смыслу, похожий на пример (1-2 предложений). Не копируй пример. Можно перефразировать, добавить детали, но отзыв должен быть уникальным.\n"
          ]
        },
        {
          "name": "stderr",
          "output_type": "stream",
          "text": [
            "Генерируем синтетику:   8%|▊         | 108/1335 [00:27<05:58,  3.42it/s]"
          ]
        },
        {
          "name": "stdout",
          "output_type": "stream",
          "text": [
            "Ты пишешь короткие отзывы жильцов управляющей компании. Пиши строго на русском. Пример отзыва:\n",
            "«спасибо. значит с гулом в трубах, можно бороться. действительно стало тихо. если проблема возникнет опять будет много заявок.»\n",
            "\n",
            "Напиши 1 уникальный отзыв по смыслу, похожий на пример (1-2 предложений). Не копируй пример. Можно перефразировать, добавить детали, но отзыв должен быть уникальным.\n"
          ]
        },
        {
          "name": "stderr",
          "output_type": "stream",
          "text": [
            "Генерируем синтетику:   8%|▊         | 109/1335 [00:27<06:03,  3.37it/s]"
          ]
        },
        {
          "name": "stdout",
          "output_type": "stream",
          "text": [
            "Ты пишешь короткие отзывы жильцов управляющей компании. Пиши строго на русском. Пример отзыва:\n",
            "«долг за водоотвод не снят. подтверждающий документ не выслан.»\n",
            "\n",
            "Напиши 1 уникальный отзыв по смыслу, похожий на пример (1-2 предложений). Не копируй пример. Можно перефразировать, добавить детали, но отзыв должен быть уникальным.\n"
          ]
        },
        {
          "name": "stderr",
          "output_type": "stream",
          "text": [
            "Генерируем синтетику:   8%|▊         | 110/1335 [00:28<06:22,  3.21it/s]"
          ]
        },
        {
          "name": "stdout",
          "output_type": "stream",
          "text": [
            "Ты пишешь короткие отзывы жильцов управляющей компании. Пиши строго на русском. Пример отзыва:\n",
            "«Сантехник был »\n",
            "\n",
            "Напиши 1 уникальный отзыв по смыслу, похожий на пример (1-2 предложений). Не копируй пример. Можно перефразировать, добавить детали, но отзыв должен быть уникальным.\n"
          ]
        },
        {
          "name": "stderr",
          "output_type": "stream",
          "text": [
            "Генерируем синтетику:   8%|▊         | 111/1335 [00:28<06:14,  3.27it/s]"
          ]
        },
        {
          "name": "stdout",
          "output_type": "stream",
          "text": [
            "Ты пишешь короткие отзывы жильцов управляющей компании. Пиши строго на русском. Пример отзыва:\n",
            "«валерия куликова\n",
            "добрый день, павел артемович\n",
            "лишние счётчики из приложения убрали. показания по фото внесли.\n",
            "если данные неверных счётчиков снова отобразятся, просим вас создать новую заявку, направим в службу поддержки.\n",
            "20:29\n",
            "опять отображаются лишние счётчики!»\n",
            "\n",
            "Напиши 1 уникальный отзыв по смыслу, похожий на пример (1-2 предложений). Не копируй пример. Можно перефразировать, добавить детали, но отзыв должен быть уникальным.\n"
          ]
        },
        {
          "name": "stderr",
          "output_type": "stream",
          "text": [
            "Генерируем синтетику:   8%|▊         | 112/1335 [00:28<07:37,  2.67it/s]"
          ]
        },
        {
          "name": "stdout",
          "output_type": "stream",
          "text": [
            "Ты пишешь короткие отзывы жильцов управляющей компании. Пиши строго на русском. Пример отзыва:\n",
            "«спасибо за быстрый ответ!»\n",
            "\n",
            "Напиши 1 уникальный отзыв по смыслу, похожий на пример (1-2 предложений). Не копируй пример. Можно перефразировать, добавить детали, но отзыв должен быть уникальным.\n"
          ]
        },
        {
          "name": "stderr",
          "output_type": "stream",
          "text": [
            "Генерируем синтетику:   8%|▊         | 113/1335 [00:29<06:35,  3.09it/s]"
          ]
        },
        {
          "name": "stdout",
          "output_type": "stream",
          "text": [
            "Ты пишешь короткие отзывы жильцов управляющей компании. Пиши строго на русском. Пример отзыва:\n",
            "«все сделал быстро, качественно.»\n",
            "\n",
            "Напиши 1 уникальный отзыв по смыслу, похожий на пример (1-2 предложений). Не копируй пример. Можно перефразировать, добавить детали, но отзыв должен быть уникальным.\n"
          ]
        },
        {
          "name": "stderr",
          "output_type": "stream",
          "text": [
            "Генерируем синтетику:   9%|▊         | 114/1335 [00:29<05:56,  3.42it/s]"
          ]
        },
        {
          "name": "stdout",
          "output_type": "stream",
          "text": [
            "Ты пишешь короткие отзывы жильцов управляющей компании. Пиши строго на русском. Пример отзыва:\n",
            "«по состоянию на 18:12, 28.01 оба лифта работают, спасибо !!!!!!!!!!»\n",
            "\n",
            "Напиши 1 уникальный отзыв по смыслу, похожий на пример (1-2 предложений). Не копируй пример. Можно перефразировать, добавить детали, но отзыв должен быть уникальным.\n"
          ]
        },
        {
          "name": "stderr",
          "output_type": "stream",
          "text": [
            "Генерируем синтетику:   9%|▊         | 115/1335 [00:29<06:11,  3.28it/s]"
          ]
        },
        {
          "name": "stdout",
          "output_type": "stream",
          "text": [
            "Ты пишешь короткие отзывы жильцов управляющей компании. Пиши строго на русском. Пример отзыва:\n",
            "«ольга, когда парковку достроят?»\n",
            "\n",
            "Напиши 1 уникальный отзыв по смыслу, похожий на пример (1-2 предложений). Не копируй пример. Можно перефразировать, добавить детали, но отзыв должен быть уникальным.\n"
          ]
        },
        {
          "name": "stderr",
          "output_type": "stream",
          "text": [
            "Генерируем синтетику:   9%|▊         | 116/1335 [00:30<06:47,  2.99it/s]"
          ]
        },
        {
          "name": "stdout",
          "output_type": "stream",
          "text": [
            "Ты пишешь короткие отзывы жильцов управляющей компании. Пиши строго на русском. Пример отзыва:\n",
            "«может ли быть причиной срабатывания пожарной сигнализации курение в квартире? регулярно слышу запах сигарет, который проникает в квартиру по вентиляции»\n",
            "\n",
            "Напиши 1 уникальный отзыв по смыслу, похожий на пример (1-2 предложений). Не копируй пример. Можно перефразировать, добавить детали, но отзыв должен быть уникальным.\n"
          ]
        },
        {
          "name": "stderr",
          "output_type": "stream",
          "text": [
            "Генерируем синтетику:   9%|▉         | 117/1335 [00:30<07:31,  2.70it/s]"
          ]
        },
        {
          "name": "stdout",
          "output_type": "stream",
          "text": [
            "Ты пишешь короткие отзывы жильцов управляющей компании. Пиши строго на русском. Пример отзыва:\n",
            "«большое спасибо быстро исправили»\n",
            "\n",
            "Напиши 1 уникальный отзыв по смыслу, похожий на пример (1-2 предложений). Не копируй пример. Можно перефразировать, добавить детали, но отзыв должен быть уникальным.\n"
          ]
        },
        {
          "name": "stderr",
          "output_type": "stream",
          "text": [
            "Генерируем синтетику:   9%|▉         | 118/1335 [00:30<06:42,  3.02it/s]"
          ]
        },
        {
          "name": "stdout",
          "output_type": "stream",
          "text": [
            "Ты пишешь короткие отзывы жильцов управляющей компании. Пиши строго на русском. Пример отзыва:\n",
            "«как вода стояла в поддоне так и стоит»\n",
            "\n",
            "Напиши 1 уникальный отзыв по смыслу, похожий на пример (1-2 предложений). Не копируй пример. Можно перефразировать, добавить детали, но отзыв должен быть уникальным.\n"
          ]
        },
        {
          "name": "stderr",
          "output_type": "stream",
          "text": [
            "Генерируем синтетику:   9%|▉         | 120/1335 [00:31<05:51,  3.46it/s]"
          ]
        },
        {
          "name": "stdout",
          "output_type": "stream",
          "text": [
            "Ты пишешь короткие отзывы жильцов управляющей компании. Пиши строго на русском. Пример отзыва:\n",
            "«Выполнено быстро, но хотелось бы, чтобы этого не происходило.»\n",
            "\n",
            "Напиши 1 уникальный отзыв по смыслу, похожий на пример (1-2 предложений). Не копируй пример. Можно перефразировать, добавить детали, но отзыв должен быть уникальным.\n",
            "Ты пишешь короткие отзывы жильцов управляющей компании. Пиши строго на русском. Пример отзыва:\n",
            "«проблема не решена.! укажите эл. почту, я вам скину чек об оплате за декабрь.»\n",
            "\n",
            "Напиши 1 уникальный отзыв по смыслу, похожий на пример (1-2 предложений). Не копируй пример. Можно перефразировать, добавить детали, но отзыв должен быть уникальным.\n"
          ]
        },
        {
          "name": "stderr",
          "output_type": "stream",
          "text": [
            "Генерируем синтетику:   9%|▉         | 121/1335 [00:31<05:49,  3.48it/s]"
          ]
        },
        {
          "name": "stdout",
          "output_type": "stream",
          "text": [
            "Ты пишешь короткие отзывы жильцов управляющей компании. Пиши строго на русском. Пример отзыва:\n",
            "«неверный логин и пароль :face_holding_back_tears: »\n",
            "\n",
            "Если в примере есть код эмодзи вида :smile:, то сохрани стиль — вставь похожий код эмодзи.\n",
            "\n",
            "Напиши 1 уникальный отзыв по смыслу, похожий на пример (1-2 предложений). Не копируй пример. Можно перефразировать, добавить детали, но отзыв должен быть уникальным.\n"
          ]
        },
        {
          "name": "stderr",
          "output_type": "stream",
          "text": [
            "Генерируем синтетику:   9%|▉         | 122/1335 [00:31<05:29,  3.68it/s]"
          ]
        },
        {
          "name": "stdout",
          "output_type": "stream",
          "text": [
            "Ты пишешь короткие отзывы жильцов управляющей компании. Пиши строго на русском. Пример отзыва:\n",
            "«вчера мне сказали несколько диспетчеров что заявки не было о протечке с моего жк»\n",
            "\n",
            "Напиши 1 уникальный отзыв по смыслу, похожий на пример (1-2 предложений). Не копируй пример. Можно перефразировать, добавить детали, но отзыв должен быть уникальным.\n"
          ]
        },
        {
          "name": "stderr",
          "output_type": "stream",
          "text": [
            "Генерируем синтетику:   9%|▉         | 124/1335 [00:32<04:55,  4.10it/s]"
          ]
        },
        {
          "name": "stdout",
          "output_type": "stream",
          "text": [
            "Ты пишешь короткие отзывы жильцов управляющей компании. Пиши строго на русском. Пример отзыва:\n",
            "«быстро отреагировали, спасибо»\n",
            "\n",
            "Напиши 1 уникальный отзыв по смыслу, похожий на пример (1-2 предложений). Не копируй пример. Можно перефразировать, добавить детали, но отзыв должен быть уникальным.\n",
            "Ты пишешь короткие отзывы жильцов управляющей компании. Пиши строго на русском. Пример отзыва:\n",
            "«добрый день! прошу указать сроки настройки системы аскуэ. пока система не работает, показания которые передаем вручную не учитываются?»\n",
            "\n",
            "Напиши 1 уникальный отзыв по смыслу, похожий на пример (1-2 предложений). Не копируй пример. Можно перефразировать, добавить детали, но отзыв должен быть уникальным.\n"
          ]
        },
        {
          "name": "stderr",
          "output_type": "stream",
          "text": [
            "Генерируем синтетику:   9%|▉         | 125/1335 [00:32<05:35,  3.61it/s]"
          ]
        },
        {
          "name": "stdout",
          "output_type": "stream",
          "text": [
            "Ты пишешь короткие отзывы жильцов управляющей компании. Пиши строго на русском. Пример отзыва:\n",
            "«спасибо, все сделали, очень благодарны за оперативность!»\n",
            "\n",
            "Напиши 1 уникальный отзыв по смыслу, похожий на пример (1-2 предложений). Не копируй пример. Можно перефразировать, добавить детали, но отзыв должен быть уникальным.\n"
          ]
        },
        {
          "name": "stderr",
          "output_type": "stream",
          "text": [
            "Генерируем синтетику:  10%|▉         | 127/1335 [00:33<05:08,  3.91it/s]"
          ]
        },
        {
          "name": "stdout",
          "output_type": "stream",
          "text": [
            "Ты пишешь короткие отзывы жильцов управляющей компании. Пиши строго на русском. Пример отзыва:\n",
            "«спасибо за оперативный ответ и работу :pink_heart: »\n",
            "\n",
            "Если в примере есть код эмодзи вида :smile:, то сохрани стиль — вставь похожий код эмодзи.\n",
            "\n",
            "Напиши 1 уникальный отзыв по смыслу, похожий на пример (1-2 предложений). Не копируй пример. Можно перефразировать, добавить детали, но отзыв должен быть уникальным.\n",
            "Ты пишешь короткие отзывы жильцов управляющей компании. Пиши строго на русском. Пример отзыва:\n",
            "«Четко и я оперативно»\n",
            "\n",
            "Напиши 1 уникальный отзыв по смыслу, похожий на пример (1-2 предложений). Не копируй пример. Можно перефразировать, добавить детали, но отзыв должен быть уникальным.\n"
          ]
        },
        {
          "name": "stderr",
          "output_type": "stream",
          "text": [
            "Генерируем синтетику:  10%|▉         | 128/1335 [00:33<05:09,  3.90it/s]"
          ]
        },
        {
          "name": "stdout",
          "output_type": "stream",
          "text": [
            "Ты пишешь короткие отзывы жильцов управляющей компании. Пиши строго на русском. Пример отзыва:\n",
            "«отличный специалист Максим Луговой»\n",
            "\n",
            "Напиши 1 уникальный отзыв по смыслу, похожий на пример (1-2 предложений). Не копируй пример. Можно перефразировать, добавить детали, но отзыв должен быть уникальным.\n"
          ]
        },
        {
          "name": "stderr",
          "output_type": "stream",
          "text": [
            "Генерируем синтетику:  10%|▉         | 130/1335 [00:33<04:44,  4.24it/s]"
          ]
        },
        {
          "name": "stdout",
          "output_type": "stream",
          "text": [
            "Ты пишешь короткие отзывы жильцов управляющей компании. Пиши строго на русском. Пример отзыва:\n",
            "«ну вроде, получше...\n",
            "Слава Богу»\n",
            "\n",
            "Напиши 1 уникальный отзыв по смыслу, похожий на пример (1-2 предложений). Не копируй пример. Можно перефразировать, добавить детали, но отзыв должен быть уникальным.\n",
            "Ты пишешь короткие отзывы жильцов управляющей компании. Пиши строго на русском. Пример отзыва:\n",
            "«все отлично, спасибо большое  :thumbs_up: »\n",
            "\n",
            "Если в примере есть код эмодзи вида :smile:, то сохрани стиль — вставь похожий код эмодзи.\n",
            "\n",
            "Напиши 1 уникальный отзыв по смыслу, похожий на пример (1-2 предложений). Не копируй пример. Можно перефразировать, добавить детали, но отзыв должен быть уникальным.\n"
          ]
        },
        {
          "name": "stderr",
          "output_type": "stream",
          "text": [
            "Генерируем синтетику:  10%|▉         | 131/1335 [00:34<04:40,  4.30it/s]"
          ]
        },
        {
          "name": "stdout",
          "output_type": "stream",
          "text": [
            "Ты пишешь короткие отзывы жильцов управляющей компании. Пиши строго на русском. Пример отзыва:\n",
            "«сделанно не аккуратно.торчат резинки .»\n",
            "\n",
            "Напиши 1 уникальный отзыв по смыслу, похожий на пример (1-2 предложений). Не копируй пример. Можно перефразировать, добавить детали, но отзыв должен быть уникальным.\n"
          ]
        },
        {
          "name": "stderr",
          "output_type": "stream",
          "text": [
            "Генерируем синтетику:  10%|▉         | 132/1335 [00:34<04:33,  4.39it/s]"
          ]
        },
        {
          "name": "stdout",
          "output_type": "stream",
          "text": [
            "Ты пишешь короткие отзывы жильцов управляющей компании. Пиши строго на русском. Пример отзыва:\n",
            "«спасибо, отлично »\n",
            "\n",
            "Напиши 1 уникальный отзыв по смыслу, похожий на пример (1-2 предложений). Не копируй пример. Можно перефразировать, добавить детали, но отзыв должен быть уникальным.\n"
          ]
        },
        {
          "name": "stderr",
          "output_type": "stream",
          "text": [
            "Генерируем синтетику:  10%|▉         | 133/1335 [00:34<04:38,  4.32it/s]"
          ]
        },
        {
          "name": "stdout",
          "output_type": "stream",
          "text": [
            "Ты пишешь короткие отзывы жильцов управляющей компании. Пиши строго на русском. Пример отзыва:\n",
            "«Все сделали в течении часа, спасибо.»\n",
            "\n",
            "Напиши 1 уникальный отзыв по смыслу, похожий на пример (1-2 предложений). Не копируй пример. Можно перефразировать, добавить детали, но отзыв должен быть уникальным.\n"
          ]
        },
        {
          "name": "stderr",
          "output_type": "stream",
          "text": [
            "Генерируем синтетику:  10%|█         | 134/1335 [00:34<04:32,  4.41it/s]"
          ]
        },
        {
          "name": "stdout",
          "output_type": "stream",
          "text": [
            "Ты пишешь короткие отзывы жильцов управляющей компании. Пиши строго на русском. Пример отзыва:\n",
            "«спасибо за оперативность в тот день  :thumbs_up: »\n",
            "\n",
            "Если в примере есть код эмодзи вида :smile:, то сохрани стиль — вставь похожий код эмодзи.\n",
            "\n",
            "Напиши 1 уникальный отзыв по смыслу, похожий на пример (1-2 предложений). Не копируй пример. Можно перефразировать, добавить детали, но отзыв должен быть уникальным.\n"
          ]
        },
        {
          "name": "stderr",
          "output_type": "stream",
          "text": [
            "Генерируем синтетику:  10%|█         | 136/1335 [00:35<04:27,  4.49it/s]"
          ]
        },
        {
          "name": "stdout",
          "output_type": "stream",
          "text": [
            "Ты пишешь короткие отзывы жильцов управляющей компании. Пиши строго на русском. Пример отзыва:\n",
            "«заявка выполнена мгновенно  :thumbs_up: »\n",
            "\n",
            "Если в примере есть код эмодзи вида :smile:, то сохрани стиль — вставь похожий код эмодзи.\n",
            "\n",
            "Напиши 1 уникальный отзыв по смыслу, похожий на пример (1-2 предложений). Не копируй пример. Можно перефразировать, добавить детали, но отзыв должен быть уникальным.\n",
            "Ты пишешь короткие отзывы жильцов управляющей компании. Пиши строго на русском. Пример отзыва:\n",
            "«очень быстро отреагировали, приехали в удобное время!»\n",
            "\n",
            "Напиши 1 уникальный отзыв по смыслу, похожий на пример (1-2 предложений). Не копируй пример. Можно перефразировать, добавить детали, но отзыв должен быть уникальным.\n"
          ]
        },
        {
          "name": "stderr",
          "output_type": "stream",
          "text": [
            "Генерируем синтетику:  10%|█         | 138/1335 [00:35<04:40,  4.26it/s]"
          ]
        },
        {
          "name": "stdout",
          "output_type": "stream",
          "text": [
            "Ты пишешь короткие отзывы жильцов управляющей компании. Пиши строго на русском. Пример отзыва:\n",
            "«Благодарю за работу!»\n",
            "\n",
            "Напиши 1 уникальный отзыв по смыслу, похожий на пример (1-2 предложений). Не копируй пример. Можно перефразировать, добавить детали, но отзыв должен быть уникальным.\n",
            "Ты пишешь короткие отзывы жильцов управляющей компании. Пиши строго на русском. Пример отзыва:\n",
            "«очень быстро отреагировали»\n",
            "\n",
            "Напиши 1 уникальный отзыв по смыслу, похожий на пример (1-2 предложений). Не копируй пример. Можно перефразировать, добавить детали, но отзыв должен быть уникальным.\n"
          ]
        },
        {
          "name": "stderr",
          "output_type": "stream",
          "text": [
            "Генерируем синтетику:  10%|█         | 139/1335 [00:35<04:20,  4.59it/s]"
          ]
        },
        {
          "name": "stdout",
          "output_type": "stream",
          "text": [
            "Ты пишешь короткие отзывы жильцов управляющей компании. Пиши строго на русском. Пример отзыва:\n",
            "«Быстро, качествено и оперативно. »\n",
            "\n",
            "Напиши 1 уникальный отзыв по смыслу, похожий на пример (1-2 предложений). Не копируй пример. Можно перефразировать, добавить детали, но отзыв должен быть уникальным.\n"
          ]
        },
        {
          "name": "stderr",
          "output_type": "stream",
          "text": [
            "Генерируем синтетику:  10%|█         | 140/1335 [00:36<04:19,  4.60it/s]"
          ]
        },
        {
          "name": "stdout",
          "output_type": "stream",
          "text": [
            "Ты пишешь короткие отзывы жильцов управляющей компании. Пиши строго на русском. Пример отзыва:\n",
            "«к оказанию самой услуги и сантехнику претензий нет. а вот, то что отключения происходят регулярно - крайне негативно сказывается на впечатление о компании Самолет УК»\n",
            "\n",
            "Напиши 1 уникальный отзыв по смыслу, похожий на пример (1-2 предложений). Не копируй пример. Можно перефразировать, добавить детали, но отзыв должен быть уникальным.\n"
          ]
        },
        {
          "name": "stderr",
          "output_type": "stream",
          "text": [
            "Генерируем синтетику:  11%|█         | 141/1335 [00:36<05:26,  3.66it/s]"
          ]
        },
        {
          "name": "stdout",
          "output_type": "stream",
          "text": [
            "Ты пишешь короткие отзывы жильцов управляющей компании. Пиши строго на русском. Пример отзыва:\n",
            "«оперативно, качественно, вопросов не возникло. Спасибо.»\n",
            "\n",
            "Напиши 1 уникальный отзыв по смыслу, похожий на пример (1-2 предложений). Не копируй пример. Можно перефразировать, добавить детали, но отзыв должен быть уникальным.\n"
          ]
        },
        {
          "name": "stderr",
          "output_type": "stream",
          "text": [
            "Генерируем синтетику:  11%|█         | 142/1335 [00:36<05:18,  3.74it/s]"
          ]
        },
        {
          "name": "stdout",
          "output_type": "stream",
          "text": [
            "Ты пишешь короткие отзывы жильцов управляющей компании. Пиши строго на русском. Пример отзыва:\n",
            "«супер мастер»\n",
            "\n",
            "Напиши 1 уникальный отзыв по смыслу, похожий на пример (1-2 предложений). Не копируй пример. Можно перефразировать, добавить детали, но отзыв должен быть уникальным.\n"
          ]
        },
        {
          "name": "stderr",
          "output_type": "stream",
          "text": [
            "Генерируем синтетику:  11%|█         | 143/1335 [00:36<05:09,  3.85it/s]"
          ]
        },
        {
          "name": "stdout",
          "output_type": "stream",
          "text": [
            "Ты пишешь короткие отзывы жильцов управляющей компании. Пиши строго на русском. Пример отзыва:\n",
            "«выполнено»\n",
            "\n",
            "Напиши 1 уникальный отзыв по смыслу, похожий на пример (1-2 предложений). Не копируй пример. Можно перефразировать, добавить детали, но отзыв должен быть уникальным.\n"
          ]
        },
        {
          "name": "stderr",
          "output_type": "stream",
          "text": [
            "Генерируем синтетику:  11%|█         | 145/1335 [00:37<04:47,  4.14it/s]"
          ]
        },
        {
          "name": "stdout",
          "output_type": "stream",
          "text": [
            "Ты пишешь короткие отзывы жильцов управляющей компании. Пиши строго на русском. Пример отзыва:\n",
            "«все отлично! выявили проблему.»\n",
            "\n",
            "Напиши 1 уникальный отзыв по смыслу, похожий на пример (1-2 предложений). Не копируй пример. Можно перефразировать, добавить детали, но отзыв должен быть уникальным.\n",
            "Ты пишешь короткие отзывы жильцов управляющей компании. Пиши строго на русском. Пример отзыва:\n",
            "«ответа на вопрос нет»\n",
            "\n",
            "Напиши 1 уникальный отзыв по смыслу, похожий на пример (1-2 предложений). Не копируй пример. Можно перефразировать, добавить детали, но отзыв должен быть уникальным.\n"
          ]
        },
        {
          "name": "stderr",
          "output_type": "stream",
          "text": [
            "Генерируем синтетику:  11%|█         | 146/1335 [00:37<04:41,  4.23it/s]"
          ]
        },
        {
          "name": "stdout",
          "output_type": "stream",
          "text": [
            "Ты пишешь короткие отзывы жильцов управляющей компании. Пиши строго на русском. Пример отзыва:\n",
            "«отличный мастер на 10 с плюсом»\n",
            "\n",
            "Напиши 1 уникальный отзыв по смыслу, похожий на пример (1-2 предложений). Не копируй пример. Можно перефразировать, добавить детали, но отзыв должен быть уникальным.\n"
          ]
        },
        {
          "name": "stderr",
          "output_type": "stream",
          "text": [
            "Генерируем синтетику:  11%|█         | 148/1335 [00:38<04:18,  4.59it/s]"
          ]
        },
        {
          "name": "stdout",
          "output_type": "stream",
          "text": [
            "Ты пишешь короткие отзывы жильцов управляющей компании. Пиши строго на русском. Пример отзыва:\n",
            "«спасибо. быстро и качественно »\n",
            "\n",
            "Напиши 1 уникальный отзыв по смыслу, похожий на пример (1-2 предложений). Не копируй пример. Можно перефразировать, добавить детали, но отзыв должен быть уникальным.\n",
            "Ты пишешь короткие отзывы жильцов управляющей компании. Пиши строго на русском. Пример отзыва:\n",
            "«огромное спасибо , мастеру за профессионализм»\n",
            "\n",
            "Напиши 1 уникальный отзыв по смыслу, похожий на пример (1-2 предложений). Не копируй пример. Можно перефразировать, добавить детали, но отзыв должен быть уникальным.\n"
          ]
        },
        {
          "name": "stderr",
          "output_type": "stream",
          "text": [
            "Генерируем синтетику:  11%|█         | 149/1335 [00:38<04:11,  4.72it/s]"
          ]
        },
        {
          "name": "stdout",
          "output_type": "stream",
          "text": [
            "Ты пишешь короткие отзывы жильцов управляющей компании. Пиши строго на русском. Пример отзыва:\n",
            "«спасибо за работу ,очень хороший человек.»\n",
            "\n",
            "Напиши 1 уникальный отзыв по смыслу, похожий на пример (1-2 предложений). Не копируй пример. Можно перефразировать, добавить детали, но отзыв должен быть уникальным.\n"
          ]
        },
        {
          "name": "stderr",
          "output_type": "stream",
          "text": [
            "Генерируем синтетику:  11%|█         | 150/1335 [00:38<04:15,  4.64it/s]"
          ]
        },
        {
          "name": "stdout",
          "output_type": "stream",
          "text": [
            "Ты пишешь короткие отзывы жильцов управляющей компании. Пиши строго на русском. Пример отзыва:\n",
            "«Быстро выявили ошибку в показаниях, и не стала делать в убыток мне . Позвонила мне , уточнила и решила всё. Огромное спасибо Вам .  :airplane: ️ меняется в лучшую сторону »\n",
            "\n",
            "Если в примере есть код эмодзи вида :smile:, то сохрани стиль — вставь похожий код эмодзи.\n",
            "\n",
            "Напиши 1 уникальный отзыв по смыслу, похожий на пример (1-2 предложений). Не копируй пример. Можно перефразировать, добавить детали, но отзыв должен быть уникальным.\n"
          ]
        },
        {
          "name": "stderr",
          "output_type": "stream",
          "text": [
            "Генерируем синтетику:  11%|█▏        | 151/1335 [00:38<05:44,  3.43it/s]"
          ]
        },
        {
          "name": "stdout",
          "output_type": "stream",
          "text": [
            "Ты пишешь короткие отзывы жильцов управляющей компании. Пиши строго на русском. Пример отзыва:\n",
            "«на 24.01.2025 назначено уборка частей забора, надеемся и куч графия и блоков, занимающих места. ждём.»\n",
            "\n",
            "Напиши 1 уникальный отзыв по смыслу, похожий на пример (1-2 предложений). Не копируй пример. Можно перефразировать, добавить детали, но отзыв должен быть уникальным.\n"
          ]
        },
        {
          "name": "stderr",
          "output_type": "stream",
          "text": [
            "Генерируем синтетику:  11%|█▏        | 153/1335 [00:39<05:10,  3.81it/s]"
          ]
        },
        {
          "name": "stdout",
          "output_type": "stream",
          "text": [
            "Ты пишешь короткие отзывы жильцов управляющей компании. Пиши строго на русском. Пример отзыва:\n",
            "«спасибо! быстро и оперативно»\n",
            "\n",
            "Напиши 1 уникальный отзыв по смыслу, похожий на пример (1-2 предложений). Не копируй пример. Можно перефразировать, добавить детали, но отзыв должен быть уникальным.\n",
            "Ты пишешь короткие отзывы жильцов управляющей компании. Пиши строго на русском. Пример отзыва:\n",
            "«Спасибо Вам за понимание  :thumbs_up: »\n",
            "\n",
            "Если в примере есть код эмодзи вида :smile:, то сохрани стиль — вставь похожий код эмодзи.\n",
            "\n",
            "Напиши 1 уникальный отзыв по смыслу, похожий на пример (1-2 предложений). Не копируй пример. Можно перефразировать, добавить детали, но отзыв должен быть уникальным.\n"
          ]
        },
        {
          "name": "stderr",
          "output_type": "stream",
          "text": [
            "Генерируем синтетику:  12%|█▏        | 154/1335 [00:39<04:39,  4.22it/s]"
          ]
        },
        {
          "name": "stdout",
          "output_type": "stream",
          "text": [
            "Ты пишешь короткие отзывы жильцов управляющей компании. Пиши строго на русском. Пример отзыва:\n",
            "«стулья привезли, а зеркало нет.»\n",
            "\n",
            "Напиши 1 уникальный отзыв по смыслу, похожий на пример (1-2 предложений). Не копируй пример. Можно перефразировать, добавить детали, но отзыв должен быть уникальным.\n"
          ]
        },
        {
          "name": "stderr",
          "output_type": "stream",
          "text": [
            "Генерируем синтетику:  12%|█▏        | 155/1335 [00:39<04:44,  4.14it/s]"
          ]
        },
        {
          "name": "stdout",
          "output_type": "stream",
          "text": [
            "Ты пишешь короткие отзывы жильцов управляющей компании. Пиши строго на русском. Пример отзыва:\n",
            "«причину выяснили, но дверь как была открыта, так и осталась. вопрос не был решен.»\n",
            "\n",
            "Напиши 1 уникальный отзыв по смыслу, похожий на пример (1-2 предложений). Не копируй пример. Можно перефразировать, добавить детали, но отзыв должен быть уникальным.\n"
          ]
        },
        {
          "name": "stderr",
          "output_type": "stream",
          "text": [
            "Генерируем синтетику:  12%|█▏        | 157/1335 [00:40<04:48,  4.08it/s]"
          ]
        },
        {
          "name": "stdout",
          "output_type": "stream",
          "text": [
            "Ты пишешь короткие отзывы жильцов управляющей компании. Пиши строго на русском. Пример отзыва:\n",
            "«да,  спасибо. пока не сломали)»\n",
            "\n",
            "Напиши 1 уникальный отзыв по смыслу, похожий на пример (1-2 предложений). Не копируй пример. Можно перефразировать, добавить детали, но отзыв должен быть уникальным.\n",
            "Ты пишешь короткие отзывы жильцов управляющей компании. Пиши строго на русском. Пример отзыва:\n",
            "«жду перерасчета в квитанции, получается ?? тогда пока не оплачиваю тут выставленный счет»\n",
            "\n",
            "Напиши 1 уникальный отзыв по смыслу, похожий на пример (1-2 предложений). Не копируй пример. Можно перефразировать, добавить детали, но отзыв должен быть уникальным.\n"
          ]
        },
        {
          "name": "stderr",
          "output_type": "stream",
          "text": [
            "Генерируем синтетику:  12%|█▏        | 158/1335 [00:40<04:39,  4.21it/s]"
          ]
        },
        {
          "name": "stdout",
          "output_type": "stream",
          "text": [
            "Ты пишешь короткие отзывы жильцов управляющей компании. Пиши строго на русском. Пример отзыва:\n",
            "«Лифт снова работает. Заявку исполнили очень быстро»\n",
            "\n",
            "Напиши 1 уникальный отзыв по смыслу, похожий на пример (1-2 предложений). Не копируй пример. Можно перефразировать, добавить детали, но отзыв должен быть уникальным.\n"
          ]
        },
        {
          "name": "stderr",
          "output_type": "stream",
          "text": [
            "Генерируем синтетику:  12%|█▏        | 159/1335 [00:40<04:47,  4.10it/s]"
          ]
        },
        {
          "name": "stdout",
          "output_type": "stream",
          "text": [
            "Ты пишешь короткие отзывы жильцов управляющей компании. Пиши строго на русском. Пример отзыва:\n",
            "«тяп-ляп, ну ладно, тут везде так»\n",
            "\n",
            "Напиши 1 уникальный отзыв по смыслу, похожий на пример (1-2 предложений). Не копируй пример. Можно перефразировать, добавить детали, но отзыв должен быть уникальным.\n"
          ]
        },
        {
          "name": "stderr",
          "output_type": "stream",
          "text": [
            "Генерируем синтетику:  12%|█▏        | 161/1335 [00:41<04:40,  4.19it/s]"
          ]
        },
        {
          "name": "stdout",
          "output_type": "stream",
          "text": [
            "Ты пишешь короткие отзывы жильцов управляющей компании. Пиши строго на русском. Пример отзыва:\n",
            "«заявка выполнена, спасибо за заботу.»\n",
            "\n",
            "Напиши 1 уникальный отзыв по смыслу, похожий на пример (1-2 предложений). Не копируй пример. Можно перефразировать, добавить детали, но отзыв должен быть уникальным.\n",
            "Ты пишешь короткие отзывы жильцов управляющей компании. Пиши строго на русском. Пример отзыва:\n",
            "«спасибо большое! все оперативно устранили.»\n",
            "\n",
            "Напиши 1 уникальный отзыв по смыслу, похожий на пример (1-2 предложений). Не копируй пример. Можно перефразировать, добавить детали, но отзыв должен быть уникальным.\n"
          ]
        },
        {
          "name": "stderr",
          "output_type": "stream",
          "text": [
            "Генерируем синтетику:  12%|█▏        | 162/1335 [00:41<04:27,  4.38it/s]"
          ]
        },
        {
          "name": "stdout",
          "output_type": "stream",
          "text": [
            "Ты пишешь короткие отзывы жильцов управляющей компании. Пиши строго на русском. Пример отзыва:\n",
            "«сроки, конечно, так себе»\n",
            "\n",
            "Напиши 1 уникальный отзыв по смыслу, похожий на пример (1-2 предложений). Не копируй пример. Можно перефразировать, добавить детали, но отзыв должен быть уникальным.\n"
          ]
        },
        {
          "name": "stderr",
          "output_type": "stream",
          "text": [
            "Генерируем синтетику:  12%|█▏        | 164/1335 [00:42<04:25,  4.42it/s]"
          ]
        },
        {
          "name": "stdout",
          "output_type": "stream",
          "text": [
            "Ты пишешь короткие отзывы жильцов управляющей компании. Пиши строго на русском. Пример отзыва:\n",
            "«Спасибо огромное за помощь!»\n",
            "\n",
            "Напиши 1 уникальный отзыв по смыслу, похожий на пример (1-2 предложений). Не копируй пример. Можно перефразировать, добавить детали, но отзыв должен быть уникальным.\n",
            "Ты пишешь короткие отзывы жильцов управляющей компании. Пиши строго на русском. Пример отзыва:\n",
            "«Очень оперативно отреагировали! Спасибо!»\n",
            "\n",
            "Напиши 1 уникальный отзыв по смыслу, похожий на пример (1-2 предложений). Не копируй пример. Можно перефразировать, добавить детали, но отзыв должен быть уникальным.\n"
          ]
        },
        {
          "name": "stderr",
          "output_type": "stream",
          "text": [
            "Генерируем синтетику:  12%|█▏        | 165/1335 [00:42<04:25,  4.40it/s]"
          ]
        },
        {
          "name": "stdout",
          "output_type": "stream",
          "text": [
            "Ты пишешь короткие отзывы жильцов управляющей компании. Пиши строго на русском. Пример отзыва:\n",
            "«спасибо) интересно, а что с лифтами после этого?»\n",
            "\n",
            "Напиши 1 уникальный отзыв по смыслу, похожий на пример (1-2 предложений). Не копируй пример. Можно перефразировать, добавить детали, но отзыв должен быть уникальным.\n"
          ]
        },
        {
          "name": "stderr",
          "output_type": "stream",
          "text": [
            "Генерируем синтетику:  12%|█▏        | 166/1335 [00:42<04:39,  4.18it/s]"
          ]
        },
        {
          "name": "stdout",
          "output_type": "stream",
          "text": [
            "Ты пишешь короткие отзывы жильцов управляющей компании. Пиши строго на русском. Пример отзыва:\n",
            "«Огромное спасибо, быстро и качественно »\n",
            "\n",
            "Напиши 1 уникальный отзыв по смыслу, похожий на пример (1-2 предложений). Не копируй пример. Можно перефразировать, добавить детали, но отзыв должен быть уникальным.\n"
          ]
        },
        {
          "name": "stderr",
          "output_type": "stream",
          "text": [
            "Генерируем синтетику:  13%|█▎        | 167/1335 [00:42<04:31,  4.30it/s]"
          ]
        },
        {
          "name": "stdout",
          "output_type": "stream",
          "text": [
            "Ты пишешь короткие отзывы жильцов управляющей компании. Пиши строго на русском. Пример отзыва:\n",
            "«вода горячая,  первое время- ржавая.  хотелось бы,  чтобы устанавливать такие ситуации быстрее,  чем за 14 часов.»\n",
            "\n",
            "Напиши 1 уникальный отзыв по смыслу, похожий на пример (1-2 предложений). Не копируй пример. Можно перефразировать, добавить детали, но отзыв должен быть уникальным.\n"
          ]
        },
        {
          "name": "stderr",
          "output_type": "stream",
          "text": [
            "Генерируем синтетику:  13%|█▎        | 168/1335 [00:43<05:48,  3.35it/s]"
          ]
        },
        {
          "name": "stdout",
          "output_type": "stream",
          "text": [
            "Ты пишешь короткие отзывы жильцов управляющей компании. Пиши строго на русском. Пример отзыва:\n",
            "«Спасибо Вам Татьяна. Хорошего дня  :handshake:  :thumbs_up:  :smiling_face_with_sunglasses: »\n",
            "\n",
            "Если в примере есть код эмодзи вида :smile:, то сохрани стиль — вставь похожий код эмодзи.\n",
            "\n",
            "Напиши 1 уникальный отзыв по смыслу, похожий на пример (1-2 предложений). Не копируй пример. Можно перефразировать, добавить детали, но отзыв должен быть уникальным.\n"
          ]
        },
        {
          "name": "stderr",
          "output_type": "stream",
          "text": [
            "Генерируем синтетику:  13%|█▎        | 169/1335 [00:43<05:29,  3.54it/s]"
          ]
        },
        {
          "name": "stdout",
          "output_type": "stream",
          "text": [
            "Ты пишешь короткие отзывы жильцов управляющей компании. Пиши строго на русском. Пример отзыва:\n",
            "«огромное спасибо, за молниеносное решение проблемы.»\n",
            "\n",
            "Напиши 1 уникальный отзыв по смыслу, похожий на пример (1-2 предложений). Не копируй пример. Можно перефразировать, добавить детали, но отзыв должен быть уникальным.\n"
          ]
        },
        {
          "name": "stderr",
          "output_type": "stream",
          "text": [
            "Генерируем синтетику:  13%|█▎        | 170/1335 [00:43<05:07,  3.79it/s]"
          ]
        },
        {
          "name": "stdout",
          "output_type": "stream",
          "text": [
            "Ты пишешь короткие отзывы жильцов управляющей компании. Пиши строго на русском. Пример отзыва:\n",
            "«Если бы не сотрудник УК Никита - уборщицы бы никогда нормально не помыли нам этаж»\n",
            "\n",
            "Напиши 1 уникальный отзыв по смыслу, похожий на пример (1-2 предложений). Не копируй пример. Можно перефразировать, добавить детали, но отзыв должен быть уникальным.\n"
          ]
        },
        {
          "name": "stderr",
          "output_type": "stream",
          "text": [
            "Генерируем синтетику:  13%|█▎        | 171/1335 [00:43<05:22,  3.61it/s]"
          ]
        },
        {
          "name": "stdout",
          "output_type": "stream",
          "text": [
            "Ты пишешь короткие отзывы жильцов управляющей компании. Пиши строго на русском. Пример отзыва:\n",
            "«спасибо большое за решение вопроса.»\n",
            "\n",
            "Напиши 1 уникальный отзыв по смыслу, похожий на пример (1-2 предложений). Не копируй пример. Можно перефразировать, добавить детали, но отзыв должен быть уникальным.\n"
          ]
        },
        {
          "name": "stderr",
          "output_type": "stream",
          "text": [
            "Генерируем синтетику:  13%|█▎        | 172/1335 [00:44<05:07,  3.79it/s]"
          ]
        },
        {
          "name": "stdout",
          "output_type": "stream",
          "text": [
            "Ты пишешь короткие отзывы жильцов управляющей компании. Пиши строго на русском. Пример отзыва:\n",
            "«Парни (установщики) отработали на 5+, а вот упаковка не очень , тк не полный комплект фурнитуры (отсутствовали в комплекте нижняя ответка, пришлось колхозить и отпиливать кусок от старой ответки, а также шурупы отсутствовали)»\n",
            "\n",
            "Напиши 1 уникальный отзыв по смыслу, похожий на пример (1-2 предложений). Не копируй пример. Можно перефразировать, добавить детали, но отзыв должен быть уникальным.\n"
          ]
        },
        {
          "name": "stderr",
          "output_type": "stream",
          "text": [
            "Генерируем синтетику:  13%|█▎        | 173/1335 [00:44<06:01,  3.22it/s]"
          ]
        },
        {
          "name": "stdout",
          "output_type": "stream",
          "text": [
            "Ты пишешь короткие отзывы жильцов управляющей компании. Пиши строго на русском. Пример отзыва:\n",
            "«Самый вежливый работник »\n",
            "\n",
            "Напиши 1 уникальный отзыв по смыслу, похожий на пример (1-2 предложений). Не копируй пример. Можно перефразировать, добавить детали, но отзыв должен быть уникальным.\n"
          ]
        },
        {
          "name": "stderr",
          "output_type": "stream",
          "text": [
            "Генерируем синтетику:  13%|█▎        | 174/1335 [00:45<06:29,  2.98it/s]"
          ]
        },
        {
          "name": "stdout",
          "output_type": "stream",
          "text": [
            "Ты пишешь короткие отзывы жильцов управляющей компании. Пиши строго на русском. Пример отзыва:\n",
            "«пришли очень оперативно !»\n",
            "\n",
            "Напиши 1 уникальный отзыв по смыслу, похожий на пример (1-2 предложений). Не копируй пример. Можно перефразировать, добавить детали, но отзыв должен быть уникальным.\n"
          ]
        },
        {
          "name": "stderr",
          "output_type": "stream",
          "text": [
            "Генерируем синтетику:  13%|█▎        | 175/1335 [00:45<05:44,  3.37it/s]"
          ]
        },
        {
          "name": "stdout",
          "output_type": "stream",
          "text": [
            "Ты пишешь короткие отзывы жильцов управляющей компании. Пиши строго на русском. Пример отзыва:\n",
            "«все оперативно.»\n",
            "\n",
            "Напиши 1 уникальный отзыв по смыслу, похожий на пример (1-2 предложений). Не копируй пример. Можно перефразировать, добавить детали, но отзыв должен быть уникальным.\n"
          ]
        },
        {
          "name": "stderr",
          "output_type": "stream",
          "text": [
            "Генерируем синтетику:  13%|█▎        | 176/1335 [00:45<05:11,  3.72it/s]"
          ]
        },
        {
          "name": "stdout",
          "output_type": "stream",
          "text": [
            "Ты пишешь короткие отзывы жильцов управляющей компании. Пиши строго на русском. Пример отзыва:\n",
            "«хорошо, что решили вопрос. но тем не менее, человек менее внимательный не обратил бы внимание на пришедший повторный счёт за коммуналку и оплатил его бы дважды.»\n",
            "\n",
            "Напиши 1 уникальный отзыв по смыслу, похожий на пример (1-2 предложений). Не копируй пример. Можно перефразировать, добавить детали, но отзыв должен быть уникальным.\n"
          ]
        },
        {
          "name": "stderr",
          "output_type": "stream",
          "text": [
            "Генерируем синтетику:  13%|█▎        | 177/1335 [00:45<05:33,  3.47it/s]"
          ]
        },
        {
          "name": "stdout",
          "output_type": "stream",
          "text": [
            "Ты пишешь короткие отзывы жильцов управляющей компании. Пиши строго на русском. Пример отзыва:\n",
            "«Все устранили в короткие сроки. Молодцы»\n",
            "\n",
            "Напиши 1 уникальный отзыв по смыслу, похожий на пример (1-2 предложений). Не копируй пример. Можно перефразировать, добавить детали, но отзыв должен быть уникальным.\n"
          ]
        },
        {
          "name": "stderr",
          "output_type": "stream",
          "text": [
            "Генерируем синтетику:  13%|█▎        | 178/1335 [00:45<05:10,  3.72it/s]"
          ]
        },
        {
          "name": "stdout",
          "output_type": "stream",
          "text": [
            "Ты пишешь короткие отзывы жильцов управляющей компании. Пиши строго на русском. Пример отзыва:\n",
            "«на лифте засрали можите видео посмотреть кто это свиня чтобы за сабой не убирает посмотретье пожалуйста видео»\n",
            "\n",
            "Напиши 1 уникальный отзыв по смыслу, похожий на пример (1-2 предложений). Не копируй пример. Можно перефразировать, добавить детали, но отзыв должен быть уникальным.\n"
          ]
        },
        {
          "name": "stderr",
          "output_type": "stream",
          "text": [
            "Генерируем синтетику:  13%|█▎        | 179/1335 [00:46<05:50,  3.30it/s]"
          ]
        },
        {
          "name": "stdout",
          "output_type": "stream",
          "text": [
            "Ты пишешь короткие отзывы жильцов управляющей компании. Пиши строго на русском. Пример отзыва:\n",
            "«спасибо большое  :slightly_smiling_face:  :thumbs_up:  :thumbs_up:  :thumbs_up: »\n",
            "\n",
            "Если в примере есть код эмодзи вида :smile:, то сохрани стиль — вставь похожий код эмодзи.\n",
            "\n",
            "Напиши 1 уникальный отзыв по смыслу, похожий на пример (1-2 предложений). Не копируй пример. Можно перефразировать, добавить детали, но отзыв должен быть уникальным.\n"
          ]
        },
        {
          "name": "stderr",
          "output_type": "stream",
          "text": [
            "Генерируем синтетику:  13%|█▎        | 180/1335 [00:46<05:41,  3.38it/s]"
          ]
        },
        {
          "name": "stdout",
          "output_type": "stream",
          "text": [
            "Ты пишешь короткие отзывы жильцов управляющей компании. Пиши строго на русском. Пример отзыва:\n",
            "«спасибо\n",
            "»\n",
            "\n",
            "Напиши 1 уникальный отзыв по смыслу, похожий на пример (1-2 предложений). Не копируй пример. Можно перефразировать, добавить детали, но отзыв должен быть уникальным.\n"
          ]
        },
        {
          "name": "stderr",
          "output_type": "stream",
          "text": [
            "Генерируем синтетику:  14%|█▎        | 181/1335 [00:46<05:15,  3.66it/s]"
          ]
        },
        {
          "name": "stdout",
          "output_type": "stream",
          "text": [
            "Ты пишешь короткие отзывы жильцов управляющей компании. Пиши строго на русском. Пример отзыва:\n",
            "«какой акт выполненных работ мы должны предоставить?ремонт делали сами....»\n",
            "\n",
            "Напиши 1 уникальный отзыв по смыслу, похожий на пример (1-2 предложений). Не копируй пример. Можно перефразировать, добавить детали, но отзыв должен быть уникальным.\n"
          ]
        },
        {
          "name": "stderr",
          "output_type": "stream",
          "text": [
            "Генерируем синтетику:  14%|█▎        | 182/1335 [00:47<05:06,  3.76it/s]"
          ]
        },
        {
          "name": "stdout",
          "output_type": "stream",
          "text": [
            "Ты пишешь короткие отзывы жильцов управляющей компании. Пиши строго на русском. Пример отзыва:\n",
            "«Самое главное,оперативно.»\n",
            "\n",
            "Напиши 1 уникальный отзыв по смыслу, похожий на пример (1-2 предложений). Не копируй пример. Можно перефразировать, добавить детали, но отзыв должен быть уникальным.\n"
          ]
        },
        {
          "name": "stderr",
          "output_type": "stream",
          "text": [
            "Генерируем синтетику:  14%|█▎        | 183/1335 [00:47<04:49,  3.98it/s]"
          ]
        },
        {
          "name": "stdout",
          "output_type": "stream",
          "text": [
            "Ты пишешь короткие отзывы жильцов управляющей компании. Пиши строго на русском. Пример отзыва:\n",
            "«не доделали работу до конца, ушли, пока трудно оценить,устранили ли причину протечки.»\n",
            "\n",
            "Напиши 1 уникальный отзыв по смыслу, похожий на пример (1-2 предложений). Не копируй пример. Можно перефразировать, добавить детали, но отзыв должен быть уникальным.\n"
          ]
        },
        {
          "name": "stderr",
          "output_type": "stream",
          "text": [
            "Генерируем синтетику:  14%|█▍        | 184/1335 [00:47<05:16,  3.63it/s]"
          ]
        },
        {
          "name": "stdout",
          "output_type": "stream",
          "text": [
            "Ты пишешь короткие отзывы жильцов управляющей компании. Пиши строго на русском. Пример отзыва:\n",
            "«спасибо большое за помощь!Мария решила быстро вопрос.Настоящий специалист. »\n",
            "\n",
            "Напиши 1 уникальный отзыв по смыслу, похожий на пример (1-2 предложений). Не копируй пример. Можно перефразировать, добавить детали, но отзыв должен быть уникальным.\n"
          ]
        },
        {
          "name": "stderr",
          "output_type": "stream",
          "text": [
            "Генерируем синтетику:  14%|█▍        | 185/1335 [00:47<05:11,  3.69it/s]"
          ]
        },
        {
          "name": "stdout",
          "output_type": "stream",
          "text": [
            "Ты пишешь короткие отзывы жильцов управляющей компании. Пиши строго на русском. Пример отзыва:\n",
            "«Оперативная работа :thumbs_up: »\n",
            "\n",
            "Если в примере есть код эмодзи вида :smile:, то сохрани стиль — вставь похожий код эмодзи.\n",
            "\n",
            "Напиши 1 уникальный отзыв по смыслу, похожий на пример (1-2 предложений). Не копируй пример. Можно перефразировать, добавить детали, но отзыв должен быть уникальным.\n"
          ]
        },
        {
          "name": "stderr",
          "output_type": "stream",
          "text": [
            "Генерируем синтетику:  14%|█▍        | 186/1335 [00:48<05:37,  3.41it/s]"
          ]
        },
        {
          "name": "stdout",
          "output_type": "stream",
          "text": [
            "Ты пишешь короткие отзывы жильцов управляющей компании. Пиши строго на русском. Пример отзыва:\n",
            "«ключ не работает!»\n",
            "\n",
            "Напиши 1 уникальный отзыв по смыслу, похожий на пример (1-2 предложений). Не копируй пример. Можно перефразировать, добавить детали, но отзыв должен быть уникальным.\n"
          ]
        },
        {
          "name": "stderr",
          "output_type": "stream",
          "text": [
            "Генерируем синтетику:  14%|█▍        | 187/1335 [00:48<05:10,  3.69it/s]"
          ]
        },
        {
          "name": "stdout",
          "output_type": "stream",
          "text": [
            "Ты пишешь короткие отзывы жильцов управляющей компании. Пиши строго на русском. Пример отзыва:\n",
            "«благодарим»\n",
            "\n",
            "Напиши 1 уникальный отзыв по смыслу, похожий на пример (1-2 предложений). Не копируй пример. Можно перефразировать, добавить детали, но отзыв должен быть уникальным.\n"
          ]
        },
        {
          "name": "stderr",
          "output_type": "stream",
          "text": [
            "Генерируем синтетику:  14%|█▍        | 188/1335 [00:48<05:14,  3.65it/s]"
          ]
        },
        {
          "name": "stdout",
          "output_type": "stream",
          "text": [
            "Ты пишешь короткие отзывы жильцов управляющей компании. Пиши строго на русском. Пример отзыва:\n",
            "«Сергей Анатольевич, мастер своего дела. Выполнил работу быстро и качественно, спасибо.»\n",
            "\n",
            "Напиши 1 уникальный отзыв по смыслу, похожий на пример (1-2 предложений). Не копируй пример. Можно перефразировать, добавить детали, но отзыв должен быть уникальным.\n"
          ]
        },
        {
          "name": "stderr",
          "output_type": "stream",
          "text": [
            "Генерируем синтетику:  14%|█▍        | 189/1335 [00:49<05:17,  3.60it/s]"
          ]
        },
        {
          "name": "stdout",
          "output_type": "stream",
          "text": [
            "Ты пишешь короткие отзывы жильцов управляющей компании. Пиши строго на русском. Пример отзыва:\n",
            "«очень быстро»\n",
            "\n",
            "Напиши 1 уникальный отзыв по смыслу, похожий на пример (1-2 предложений). Не копируй пример. Можно перефразировать, добавить детали, но отзыв должен быть уникальным.\n"
          ]
        },
        {
          "name": "stderr",
          "output_type": "stream",
          "text": [
            "Генерируем синтетику:  14%|█▍        | 190/1335 [00:49<05:14,  3.64it/s]"
          ]
        },
        {
          "name": "stdout",
          "output_type": "stream",
          "text": [
            "Ты пишешь короткие отзывы жильцов управляющей компании. Пиши строго на русском. Пример отзыва:\n",
            "«Вопрос решен,ну мусорка снова полная.можно поставить два контейнера? »\n",
            "\n",
            "Напиши 1 уникальный отзыв по смыслу, похожий на пример (1-2 предложений). Не копируй пример. Можно перефразировать, добавить детали, но отзыв должен быть уникальным.\n"
          ]
        },
        {
          "name": "stderr",
          "output_type": "stream",
          "text": [
            "Генерируем синтетику:  14%|█▍        | 191/1335 [00:49<05:16,  3.62it/s]"
          ]
        },
        {
          "name": "stdout",
          "output_type": "stream",
          "text": [
            "Ты пишешь короткие отзывы жильцов управляющей компании. Пиши строго на русском. Пример отзыва:\n",
            "«Спасибо большое. Сантехник быстро устранил засор. »\n",
            "\n",
            "Напиши 1 уникальный отзыв по смыслу, похожий на пример (1-2 предложений). Не копируй пример. Можно перефразировать, добавить детали, но отзыв должен быть уникальным.\n"
          ]
        },
        {
          "name": "stderr",
          "output_type": "stream",
          "text": [
            "Генерируем синтетику:  14%|█▍        | 193/1335 [00:50<04:41,  4.05it/s]"
          ]
        },
        {
          "name": "stdout",
          "output_type": "stream",
          "text": [
            "Ты пишешь короткие отзывы жильцов управляющей компании. Пиши строго на русском. Пример отзыва:\n",
            "«Все ок ) спасибо »\n",
            "\n",
            "Напиши 1 уникальный отзыв по смыслу, похожий на пример (1-2 предложений). Не копируй пример. Можно перефразировать, добавить детали, но отзыв должен быть уникальным.\n",
            "Ты пишешь короткие отзывы жильцов управляющей компании. Пиши строго на русском. Пример отзыва:\n",
            "«Оперативно,профессионально,спасибо»\n",
            "\n",
            "Напиши 1 уникальный отзыв по смыслу, похожий на пример (1-2 предложений). Не копируй пример. Можно перефразировать, добавить детали, но отзыв должен быть уникальным.\n"
          ]
        },
        {
          "name": "stderr",
          "output_type": "stream",
          "text": [
            "Генерируем синтетику:  15%|█▍        | 194/1335 [00:50<04:27,  4.26it/s]"
          ]
        },
        {
          "name": "stdout",
          "output_type": "stream",
          "text": [
            "Ты пишешь короткие отзывы жильцов управляющей компании. Пиши строго на русском. Пример отзыва:\n",
            "«чётко»\n",
            "\n",
            "Напиши 1 уникальный отзыв по смыслу, похожий на пример (1-2 предложений). Не копируй пример. Можно перефразировать, добавить детали, но отзыв должен быть уникальным.\n"
          ]
        },
        {
          "name": "stderr",
          "output_type": "stream",
          "text": [
            "Генерируем синтетику:  15%|█▍        | 195/1335 [00:50<04:34,  4.16it/s]"
          ]
        },
        {
          "name": "stdout",
          "output_type": "stream",
          "text": [
            "Ты пишешь короткие отзывы жильцов управляющей компании. Пиши строго на русском. Пример отзыва:\n",
            "«отреагировали быстро и устранили неисправность»\n",
            "\n",
            "Напиши 1 уникальный отзыв по смыслу, похожий на пример (1-2 предложений). Не копируй пример. Можно перефразировать, добавить детали, но отзыв должен быть уникальным.\n"
          ]
        },
        {
          "name": "stderr",
          "output_type": "stream",
          "text": [
            "Генерируем синтетику:  15%|█▍        | 197/1335 [00:50<04:11,  4.53it/s]"
          ]
        },
        {
          "name": "stdout",
          "output_type": "stream",
          "text": [
            "Ты пишешь короткие отзывы жильцов управляющей компании. Пиши строго на русском. Пример отзыва:\n",
            "«Ребята молодцы!»\n",
            "\n",
            "Напиши 1 уникальный отзыв по смыслу, похожий на пример (1-2 предложений). Не копируй пример. Можно перефразировать, добавить детали, но отзыв должен быть уникальным.\n",
            "Ты пишешь короткие отзывы жильцов управляющей компании. Пиши строго на русском. Пример отзыва:\n",
            "«к кому обратиться по поводу оплаты квитанции другим плательщиком?»\n",
            "\n",
            "Напиши 1 уникальный отзыв по смыслу, похожий на пример (1-2 предложений). Не копируй пример. Можно перефразировать, добавить детали, но отзыв должен быть уникальным.\n"
          ]
        },
        {
          "name": "stderr",
          "output_type": "stream",
          "text": [
            "Генерируем синтетику:  15%|█▍        | 198/1335 [00:51<04:39,  4.07it/s]"
          ]
        },
        {
          "name": "stdout",
          "output_type": "stream",
          "text": [
            "Ты пишешь короткие отзывы жильцов управляющей компании. Пиши строго на русском. Пример отзыва:\n",
            "«спасибо мастеру за работу»\n",
            "\n",
            "Напиши 1 уникальный отзыв по смыслу, похожий на пример (1-2 предложений). Не копируй пример. Можно перефразировать, добавить детали, но отзыв должен быть уникальным.\n"
          ]
        },
        {
          "name": "stderr",
          "output_type": "stream",
          "text": [
            "Генерируем синтетику:  15%|█▍        | 199/1335 [00:51<04:27,  4.25it/s]"
          ]
        },
        {
          "name": "stdout",
          "output_type": "stream",
          "text": [
            "Ты пишешь короткие отзывы жильцов управляющей компании. Пиши строго на русском. Пример отзыва:\n",
            "«Всё быстро и качественно! :thumbs_up: »\n",
            "\n",
            "Если в примере есть код эмодзи вида :smile:, то сохрани стиль — вставь похожий код эмодзи.\n",
            "\n",
            "Напиши 1 уникальный отзыв по смыслу, похожий на пример (1-2 предложений). Не копируй пример. Можно перефразировать, добавить детали, но отзыв должен быть уникальным.\n"
          ]
        },
        {
          "name": "stderr",
          "output_type": "stream",
          "text": [
            "Генерируем синтетику:  15%|█▍        | 200/1335 [00:51<04:19,  4.38it/s]"
          ]
        },
        {
          "name": "stdout",
          "output_type": "stream",
          "text": [
            "Ты пишешь короткие отзывы жильцов управляющей компании. Пиши строго на русском. Пример отзыва:\n",
            "«Быстро и аккуратно!Благодарю!»\n",
            "\n",
            "Напиши 1 уникальный отзыв по смыслу, похожий на пример (1-2 предложений). Не копируй пример. Можно перефразировать, добавить детали, но отзыв должен быть уникальным.\n"
          ]
        },
        {
          "name": "stderr",
          "output_type": "stream",
          "text": [
            "Генерируем синтетику:  15%|█▌        | 201/1335 [00:51<04:19,  4.36it/s]"
          ]
        },
        {
          "name": "stdout",
          "output_type": "stream",
          "text": [
            "Ты пишешь короткие отзывы жильцов управляющей компании. Пиши строго на русском. Пример отзыва:\n",
            "«все понятно. спасибо»\n",
            "\n",
            "Напиши 1 уникальный отзыв по смыслу, похожий на пример (1-2 предложений). Не копируй пример. Можно перефразировать, добавить детали, но отзыв должен быть уникальным.\n"
          ]
        },
        {
          "name": "stderr",
          "output_type": "stream",
          "text": [
            "Генерируем синтетику:  15%|█▌        | 202/1335 [00:52<04:15,  4.44it/s]"
          ]
        },
        {
          "name": "stdout",
          "output_type": "stream",
          "text": [
            "Ты пишешь короткие отзывы жильцов управляющей компании. Пиши строго на русском. Пример отзыва:\n",
            "«снова окно дует хуже прежнего и не открывается на проветривание»\n",
            "\n",
            "Напиши 1 уникальный отзыв по смыслу, похожий на пример (1-2 предложений). Не копируй пример. Можно перефразировать, добавить детали, но отзыв должен быть уникальным.\n"
          ]
        },
        {
          "name": "stderr",
          "output_type": "stream",
          "text": [
            "Генерируем синтетику:  15%|█▌        | 203/1335 [00:52<05:28,  3.45it/s]"
          ]
        },
        {
          "name": "stdout",
          "output_type": "stream",
          "text": [
            "Ты пишешь короткие отзывы жильцов управляющей компании. Пиши строго на русском. Пример отзыва:\n",
            "«все прошло быстро,спасибо сотруднику. »\n",
            "\n",
            "Напиши 1 уникальный отзыв по смыслу, похожий на пример (1-2 предложений). Не копируй пример. Можно перефразировать, добавить детали, но отзыв должен быть уникальным.\n"
          ]
        },
        {
          "name": "stderr",
          "output_type": "stream",
          "text": [
            "Генерируем синтетику:  15%|█▌        | 205/1335 [00:52<04:36,  4.09it/s]"
          ]
        },
        {
          "name": "stdout",
          "output_type": "stream",
          "text": [
            "Ты пишешь короткие отзывы жильцов управляющей компании. Пиши строго на русском. Пример отзыва:\n",
            "«ок :thumbs_up: »\n",
            "\n",
            "Если в примере есть код эмодзи вида :smile:, то сохрани стиль — вставь похожий код эмодзи.\n",
            "\n",
            "Напиши 1 уникальный отзыв по смыслу, похожий на пример (1-2 предложений). Не копируй пример. Можно перефразировать, добавить детали, но отзыв должен быть уникальным.\n",
            "Ты пишешь короткие отзывы жильцов управляющей компании. Пиши строго на русском. Пример отзыва:\n",
            "«оперативно восстановили элетроэнергию.»\n",
            "\n",
            "Напиши 1 уникальный отзыв по смыслу, похожий на пример (1-2 предложений). Не копируй пример. Можно перефразировать, добавить детали, но отзыв должен быть уникальным.\n"
          ]
        },
        {
          "name": "stderr",
          "output_type": "stream",
          "text": [
            "Генерируем синтетику:  15%|█▌        | 206/1335 [00:53<04:44,  3.97it/s]"
          ]
        },
        {
          "name": "stdout",
          "output_type": "stream",
          "text": [
            "Ты пишешь короткие отзывы жильцов управляющей компании. Пиши строго на русском. Пример отзыва:\n",
            "«спасибо за оперативность. сотрудник устранил проблему.»\n",
            "\n",
            "Напиши 1 уникальный отзыв по смыслу, похожий на пример (1-2 предложений). Не копируй пример. Можно перефразировать, добавить детали, но отзыв должен быть уникальным.\n"
          ]
        },
        {
          "name": "stderr",
          "output_type": "stream",
          "text": [
            "Генерируем синтетику:  16%|█▌        | 207/1335 [00:53<04:54,  3.84it/s]"
          ]
        },
        {
          "name": "stdout",
          "output_type": "stream",
          "text": [
            "Ты пишешь короткие отзывы жильцов управляющей компании. Пиши строго на русском. Пример отзыва:\n",
            "«так 2 декабря оплачивали за ноябрь, а сейчас идёт авансовый которая должна быть до января оплачена»\n",
            "\n",
            "Напиши 1 уникальный отзыв по смыслу, похожий на пример (1-2 предложений). Не копируй пример. Можно перефразировать, добавить детали, но отзыв должен быть уникальным.\n"
          ]
        },
        {
          "name": "stderr",
          "output_type": "stream",
          "text": [
            "Генерируем синтетику:  16%|█▌        | 208/1335 [00:53<05:56,  3.16it/s]"
          ]
        },
        {
          "name": "stdout",
          "output_type": "stream",
          "text": [
            "Ты пишешь короткие отзывы жильцов управляющей компании. Пиши строго на русском. Пример отзыва:\n",
            "«мне замена счётчика не нужно , пломбировкп счётчика первичка нужна»\n",
            "\n",
            "Напиши 1 уникальный отзыв по смыслу, похожий на пример (1-2 предложений). Не копируй пример. Можно перефразировать, добавить детали, но отзыв должен быть уникальным.\n"
          ]
        },
        {
          "name": "stderr",
          "output_type": "stream",
          "text": [
            "Генерируем синтетику:  16%|█▌        | 209/1335 [00:54<05:47,  3.24it/s]"
          ]
        },
        {
          "name": "stdout",
          "output_type": "stream",
          "text": [
            "Ты пишешь короткие отзывы жильцов управляющей компании. Пиши строго на русском. Пример отзыва:\n",
            "«Большое спасибо! Очень оперативно  :thumbs_up:  :light_skin_tone:  :two_hearts: »\n",
            "\n",
            "Если в примере есть код эмодзи вида :smile:, то сохрани стиль — вставь похожий код эмодзи.\n",
            "\n",
            "Напиши 1 уникальный отзыв по смыслу, похожий на пример (1-2 предложений). Не копируй пример. Можно перефразировать, добавить детали, но отзыв должен быть уникальным.\n"
          ]
        },
        {
          "name": "stderr",
          "output_type": "stream",
          "text": [
            "Генерируем синтетику:  16%|█▌        | 210/1335 [00:54<05:39,  3.31it/s]"
          ]
        },
        {
          "name": "stdout",
          "output_type": "stream",
          "text": [
            "Ты пишешь короткие отзывы жильцов управляющей компании. Пиши строго на русском. Пример отзыва:\n",
            "«супер менеджер»\n",
            "\n",
            "Напиши 1 уникальный отзыв по смыслу, похожий на пример (1-2 предложений). Не копируй пример. Можно перефразировать, добавить детали, но отзыв должен быть уникальным.\n"
          ]
        },
        {
          "name": "stderr",
          "output_type": "stream",
          "text": [
            "Генерируем синтетику:  16%|█▌        | 212/1335 [00:55<05:01,  3.73it/s]"
          ]
        },
        {
          "name": "stdout",
          "output_type": "stream",
          "text": [
            "Ты пишешь короткие отзывы жильцов управляющей компании. Пиши строго на русском. Пример отзыва:\n",
            "«Большое спасибо за роботу.»\n",
            "\n",
            "Напиши 1 уникальный отзыв по смыслу, похожий на пример (1-2 предложений). Не копируй пример. Можно перефразировать, добавить детали, но отзыв должен быть уникальным.\n",
            "Ты пишешь короткие отзывы жильцов управляющей компании. Пиши строго на русском. Пример отзыва:\n",
            "«Откусили конец сгоревшего Ноля. Заменили левый автомат. Будем наблюдать далее.»\n",
            "\n",
            "Напиши 1 уникальный отзыв по смыслу, похожий на пример (1-2 предложений). Не копируй пример. Можно перефразировать, добавить детали, но отзыв должен быть уникальным.\n"
          ]
        },
        {
          "name": "stderr",
          "output_type": "stream",
          "text": [
            "Генерируем синтетику:  16%|█▌        | 213/1335 [00:55<04:58,  3.76it/s]"
          ]
        },
        {
          "name": "stdout",
          "output_type": "stream",
          "text": [
            "Ты пишешь короткие отзывы жильцов управляющей компании. Пиши строго на русском. Пример отзыва:\n",
            "«проблема не устранена! запах от тех. шкафа остался. сейчас ещё сильнее стало вонять»\n",
            "\n",
            "Напиши 1 уникальный отзыв по смыслу, похожий на пример (1-2 предложений). Не копируй пример. Можно перефразировать, добавить детали, но отзыв должен быть уникальным.\n"
          ]
        },
        {
          "name": "stderr",
          "output_type": "stream",
          "text": [
            "Генерируем синтетику:  16%|█▌        | 214/1335 [00:55<05:01,  3.72it/s]"
          ]
        },
        {
          "name": "stdout",
          "output_type": "stream",
          "text": [
            "Ты пишешь короткие отзывы жильцов управляющей компании. Пиши строго на русском. Пример отзыва:\n",
            "«быстро сделали. спасибо.»\n",
            "\n",
            "Напиши 1 уникальный отзыв по смыслу, похожий на пример (1-2 предложений). Не копируй пример. Можно перефразировать, добавить детали, но отзыв должен быть уникальным.\n"
          ]
        },
        {
          "name": "stderr",
          "output_type": "stream",
          "text": [
            "Генерируем синтетику:  16%|█▌        | 216/1335 [00:55<04:21,  4.27it/s]"
          ]
        },
        {
          "name": "stdout",
          "output_type": "stream",
          "text": [
            "Ты пишешь короткие отзывы жильцов управляющей компании. Пиши строго на русском. Пример отзыва:\n",
            "«Четко и понятно, спасибо»\n",
            "\n",
            "Напиши 1 уникальный отзыв по смыслу, похожий на пример (1-2 предложений). Не копируй пример. Можно перефразировать, добавить детали, но отзыв должен быть уникальным.\n",
            "Ты пишешь короткие отзывы жильцов управляющей компании. Пиши строго на русском. Пример отзыва:\n",
            "«разобрались, спасибо »\n",
            "\n",
            "Напиши 1 уникальный отзыв по смыслу, похожий на пример (1-2 предложений). Не копируй пример. Можно перефразировать, добавить детали, но отзыв должен быть уникальным.\n"
          ]
        },
        {
          "name": "stderr",
          "output_type": "stream",
          "text": [
            "Генерируем синтетику:  16%|█▋        | 217/1335 [00:56<04:03,  4.60it/s]"
          ]
        },
        {
          "name": "stdout",
          "output_type": "stream",
          "text": [
            "Ты пишешь короткие отзывы жильцов управляющей компании. Пиши строго на русском. Пример отзыва:\n",
            "«Спасибо за работу, выполнена качественно и в срок»\n",
            "\n",
            "Напиши 1 уникальный отзыв по смыслу, похожий на пример (1-2 предложений). Не копируй пример. Можно перефразировать, добавить детали, но отзыв должен быть уникальным.\n"
          ]
        },
        {
          "name": "stderr",
          "output_type": "stream",
          "text": [
            "Генерируем синтетику:  16%|█▋        | 218/1335 [00:56<04:09,  4.47it/s]"
          ]
        },
        {
          "name": "stdout",
          "output_type": "stream",
          "text": [
            "Ты пишешь короткие отзывы жильцов управляющей компании. Пиши строго на русском. Пример отзыва:\n",
            "«я прошу прощения что донимаю, возможно , не по адресу, но хочу понять, это отдельный платеж за кап ремонт получается? \n",
            "или это к ним нужно обратиться ?»\n",
            "\n",
            "Напиши 1 уникальный отзыв по смыслу, похожий на пример (1-2 предложений). Не копируй пример. Можно перефразировать, добавить детали, но отзыв должен быть уникальным.\n"
          ]
        },
        {
          "name": "stderr",
          "output_type": "stream",
          "text": [
            "Генерируем синтетику:  16%|█▋        | 219/1335 [00:56<05:02,  3.69it/s]"
          ]
        },
        {
          "name": "stdout",
          "output_type": "stream",
          "text": [
            "Ты пишешь короткие отзывы жильцов управляющей компании. Пиши строго на русском. Пример отзыва:\n",
            "«Благодарю за оперативность.»\n",
            "\n",
            "Напиши 1 уникальный отзыв по смыслу, похожий на пример (1-2 предложений). Не копируй пример. Можно перефразировать, добавить детали, но отзыв должен быть уникальным.\n"
          ]
        },
        {
          "name": "stderr",
          "output_type": "stream",
          "text": [
            "Генерируем синтетику:  16%|█▋        | 220/1335 [00:56<04:44,  3.92it/s]"
          ]
        },
        {
          "name": "stdout",
          "output_type": "stream",
          "text": [
            "Ты пишешь короткие отзывы жильцов управляющей компании. Пиши строго на русском. Пример отзыва:\n",
            "«спасибо! очень быстро отреагировали и заменили лампу не только на 2 этаже, но и на первом. благодарю!»\n",
            "\n",
            "Напиши 1 уникальный отзыв по смыслу, похожий на пример (1-2 предложений). Не копируй пример. Можно перефразировать, добавить детали, но отзыв должен быть уникальным.\n"
          ]
        },
        {
          "name": "stderr",
          "output_type": "stream",
          "text": [
            "Генерируем синтетику:  17%|█▋        | 221/1335 [00:57<05:23,  3.45it/s]"
          ]
        },
        {
          "name": "stdout",
          "output_type": "stream",
          "text": [
            "Ты пишешь короткие отзывы жильцов управляющей компании. Пиши строго на русском. Пример отзыва:\n",
            "«к моменту когда запланированы работы по установке шлагбаум, прошу рассмотреть возможность установки противондального шлагбаума»\n",
            "\n",
            "Напиши 1 уникальный отзыв по смыслу, похожий на пример (1-2 предложений). Не копируй пример. Можно перефразировать, добавить детали, но отзыв должен быть уникальным.\n"
          ]
        },
        {
          "name": "stderr",
          "output_type": "stream",
          "text": [
            "Генерируем синтетику:  17%|█▋        | 222/1335 [00:57<05:22,  3.45it/s]"
          ]
        },
        {
          "name": "stdout",
          "output_type": "stream",
          "text": [
            "Ты пишешь короткие отзывы жильцов управляющей компании. Пиши строго на русском. Пример отзыва:\n",
            "«спасибо мастерам, что оперативно пришли.»\n",
            "\n",
            "Напиши 1 уникальный отзыв по смыслу, похожий на пример (1-2 предложений). Не копируй пример. Можно перефразировать, добавить детали, но отзыв должен быть уникальным.\n"
          ]
        },
        {
          "name": "stderr",
          "output_type": "stream",
          "text": [
            "Генерируем синтетику:  17%|█▋        | 223/1335 [00:57<05:08,  3.60it/s]"
          ]
        },
        {
          "name": "stdout",
          "output_type": "stream",
          "text": [
            "Ты пишешь короткие отзывы жильцов управляющей компании. Пиши строго на русском. Пример отзыва:\n",
            "«Всё  понятно объяснили.»\n",
            "\n",
            "Напиши 1 уникальный отзыв по смыслу, похожий на пример (1-2 предложений). Не копируй пример. Можно перефразировать, добавить детали, но отзыв должен быть уникальным.\n"
          ]
        },
        {
          "name": "stderr",
          "output_type": "stream",
          "text": [
            "Генерируем синтетику:  17%|█▋        | 224/1335 [00:58<04:45,  3.90it/s]"
          ]
        },
        {
          "name": "stdout",
          "output_type": "stream",
          "text": [
            "Ты пишешь короткие отзывы жильцов управляющей компании. Пиши строго на русском. Пример отзыва:\n",
            "«прогресс»\n",
            "\n",
            "Напиши 1 уникальный отзыв по смыслу, похожий на пример (1-2 предложений). Не копируй пример. Можно перефразировать, добавить детали, но отзыв должен быть уникальным.\n"
          ]
        },
        {
          "name": "stderr",
          "output_type": "stream",
          "text": [
            "Генерируем синтетику:  17%|█▋        | 225/1335 [00:58<05:06,  3.63it/s]"
          ]
        },
        {
          "name": "stdout",
          "output_type": "stream",
          "text": [
            "Ты пишешь короткие отзывы жильцов управляющей компании. Пиши строго на русском. Пример отзыва:\n",
            "«батарея полностью горячая, спасибо огромное за работу»\n",
            "\n",
            "Напиши 1 уникальный отзыв по смыслу, похожий на пример (1-2 предложений). Не копируй пример. Можно перефразировать, добавить детали, но отзыв должен быть уникальным.\n"
          ]
        },
        {
          "name": "stderr",
          "output_type": "stream",
          "text": [
            "Генерируем синтетику:  17%|█▋        | 226/1335 [00:58<05:01,  3.68it/s]"
          ]
        },
        {
          "name": "stdout",
          "output_type": "stream",
          "text": [
            "Ты пишешь короткие отзывы жильцов управляющей компании. Пиши строго на русском. Пример отзыва:\n",
            "«отличная работа. теперь дверь закрывается плавно. спасибо. »\n",
            "\n",
            "Напиши 1 уникальный отзыв по смыслу, похожий на пример (1-2 предложений). Не копируй пример. Можно перефразировать, добавить детали, но отзыв должен быть уникальным.\n"
          ]
        },
        {
          "name": "stderr",
          "output_type": "stream",
          "text": [
            "Генерируем синтетику:  17%|█▋        | 227/1335 [00:58<04:52,  3.79it/s]"
          ]
        },
        {
          "name": "stdout",
          "output_type": "stream",
          "text": [
            "Ты пишешь короткие отзывы жильцов управляющей компании. Пиши строго на русском. Пример отзыва:\n",
            "«спасибо. решили оперативно! »\n",
            "\n",
            "Напиши 1 уникальный отзыв по смыслу, похожий на пример (1-2 предложений). Не копируй пример. Можно перефразировать, добавить детали, но отзыв должен быть уникальным.\n"
          ]
        },
        {
          "name": "stderr",
          "output_type": "stream",
          "text": [
            "Генерируем синтетику:  17%|█▋        | 229/1335 [00:59<04:16,  4.31it/s]"
          ]
        },
        {
          "name": "stdout",
          "output_type": "stream",
          "text": [
            "Ты пишешь короткие отзывы жильцов управляющей компании. Пиши строго на русском. Пример отзыва:\n",
            "«отлично, большое спасибо»\n",
            "\n",
            "Напиши 1 уникальный отзыв по смыслу, похожий на пример (1-2 предложений). Не копируй пример. Можно перефразировать, добавить детали, но отзыв должен быть уникальным.\n",
            "Ты пишешь короткие отзывы жильцов управляющей компании. Пиши строго на русском. Пример отзыва:\n",
            "«спасибо  :thumbs_up: теперь все работает.»\n",
            "\n",
            "Если в примере есть код эмодзи вида :smile:, то сохрани стиль — вставь похожий код эмодзи.\n",
            "\n",
            "Напиши 1 уникальный отзыв по смыслу, похожий на пример (1-2 предложений). Не копируй пример. Можно перефразировать, добавить детали, но отзыв должен быть уникальным.\n"
          ]
        },
        {
          "name": "stderr",
          "output_type": "stream",
          "text": [
            "Генерируем синтетику:  17%|█▋        | 230/1335 [00:59<04:07,  4.46it/s]"
          ]
        },
        {
          "name": "stdout",
          "output_type": "stream",
          "text": [
            "Ты пишешь короткие отзывы жильцов управляющей компании. Пиши строго на русском. Пример отзыва:\n",
            "«Спасибо большое!\n",
            "Выполнили работу быстро и аккуратно!»\n",
            "\n",
            "Напиши 1 уникальный отзыв по смыслу, похожий на пример (1-2 предложений). Не копируй пример. Можно перефразировать, добавить детали, но отзыв должен быть уникальным.\n"
          ]
        },
        {
          "name": "stderr",
          "output_type": "stream",
          "text": [
            "Генерируем синтетику:  17%|█▋        | 231/1335 [00:59<04:25,  4.16it/s]"
          ]
        },
        {
          "name": "stdout",
          "output_type": "stream",
          "text": [
            "Ты пишешь короткие отзывы жильцов управляющей компании. Пиши строго на русском. Пример отзыва:\n",
            "«все очень быстро и качественно сделал сантехник Сергей!»\n",
            "\n",
            "Напиши 1 уникальный отзыв по смыслу, похожий на пример (1-2 предложений). Не копируй пример. Можно перефразировать, добавить детали, но отзыв должен быть уникальным.\n"
          ]
        },
        {
          "name": "stderr",
          "output_type": "stream",
          "text": [
            "Генерируем синтетику:  17%|█▋        | 232/1335 [01:00<04:33,  4.03it/s]"
          ]
        },
        {
          "name": "stdout",
          "output_type": "stream",
          "text": [
            "Ты пишешь короткие отзывы жильцов управляющей компании. Пиши строго на русском. Пример отзыва:\n",
            "«отлично работает теперь»\n",
            "\n",
            "Напиши 1 уникальный отзыв по смыслу, похожий на пример (1-2 предложений). Не копируй пример. Можно перефразировать, добавить детали, но отзыв должен быть уникальным.\n"
          ]
        },
        {
          "name": "stderr",
          "output_type": "stream",
          "text": [
            "Генерируем синтетику:  17%|█▋        | 233/1335 [01:00<04:28,  4.10it/s]"
          ]
        },
        {
          "name": "stdout",
          "output_type": "stream",
          "text": [
            "Ты пишешь короткие отзывы жильцов управляющей компании. Пиши строго на русском. Пример отзыва:\n",
            "«спасибо. показания исправлены»\n",
            "\n",
            "Напиши 1 уникальный отзыв по смыслу, похожий на пример (1-2 предложений). Не копируй пример. Можно перефразировать, добавить детали, но отзыв должен быть уникальным.\n"
          ]
        },
        {
          "name": "stderr",
          "output_type": "stream",
          "text": [
            "Генерируем синтетику:  18%|█▊        | 234/1335 [01:00<04:35,  4.00it/s]"
          ]
        },
        {
          "name": "stdout",
          "output_type": "stream",
          "text": [
            "Ты пишешь короткие отзывы жильцов управляющей компании. Пиши строго на русском. Пример отзыва:\n",
            "«Спасибо большое! Проблема была решена очень быстро!»\n",
            "\n",
            "Напиши 1 уникальный отзыв по смыслу, похожий на пример (1-2 предложений). Не копируй пример. Можно перефразировать, добавить детали, но отзыв должен быть уникальным.\n"
          ]
        },
        {
          "name": "stderr",
          "output_type": "stream",
          "text": [
            "Генерируем синтетику:  18%|█▊        | 235/1335 [01:00<04:30,  4.06it/s]"
          ]
        },
        {
          "name": "stdout",
          "output_type": "stream",
          "text": [
            "Ты пишешь короткие отзывы жильцов управляющей компании. Пиши строго на русском. Пример отзыва:\n",
            "«все сделали»\n",
            "\n",
            "Напиши 1 уникальный отзыв по смыслу, похожий на пример (1-2 предложений). Не копируй пример. Можно перефразировать, добавить детали, но отзыв должен быть уникальным.\n"
          ]
        },
        {
          "name": "stderr",
          "output_type": "stream",
          "text": [
            "Генерируем синтетику:  18%|█▊        | 237/1335 [01:01<04:21,  4.20it/s]"
          ]
        },
        {
          "name": "stdout",
          "output_type": "stream",
          "text": [
            "Ты пишешь короткие отзывы жильцов управляющей компании. Пиши строго на русском. Пример отзыва:\n",
            "«спасибо вам огромное!!!!»\n",
            "\n",
            "Напиши 1 уникальный отзыв по смыслу, похожий на пример (1-2 предложений). Не копируй пример. Можно перефразировать, добавить детали, но отзыв должен быть уникальным.\n",
            "Ты пишешь короткие отзывы жильцов управляющей компании. Пиши строго на русском. Пример отзыва:\n",
            "«Мастер достаточно быстро решил наш вопрос. Надо было повернуть направление регулятора температуры на батарее отопления в другую сторону. После выполнения работы аккуратно все протер,что приятно. Большое спасибо! »\n",
            "\n",
            "Напиши 1 уникальный отзыв по смыслу, похожий на пример (1-2 предложений). Не копируй пример. Можно перефразировать, добавить детали, но отзыв должен быть уникальным.\n"
          ]
        },
        {
          "name": "stderr",
          "output_type": "stream",
          "text": [
            "Генерируем синтетику:  18%|█▊        | 238/1335 [01:01<05:10,  3.53it/s]"
          ]
        },
        {
          "name": "stdout",
          "output_type": "stream",
          "text": [
            "Ты пишешь короткие отзывы жильцов управляющей компании. Пиши строго на русском. Пример отзыва:\n",
            "«очень благодарны!»\n",
            "\n",
            "Напиши 1 уникальный отзыв по смыслу, похожий на пример (1-2 предложений). Не копируй пример. Можно перефразировать, добавить детали, но отзыв должен быть уникальным.\n"
          ]
        },
        {
          "name": "stderr",
          "output_type": "stream",
          "text": [
            "Генерируем синтетику:  18%|█▊        | 239/1335 [01:01<05:17,  3.45it/s]"
          ]
        },
        {
          "name": "stdout",
          "output_type": "stream",
          "text": [
            "Ты пишешь короткие отзывы жильцов управляющей компании. Пиши строго на русском. Пример отзыва:\n",
            "«Большое спасибо , оперативно поставили ограничители »\n",
            "\n",
            "Напиши 1 уникальный отзыв по смыслу, похожий на пример (1-2 предложений). Не копируй пример. Можно перефразировать, добавить детали, но отзыв должен быть уникальным.\n"
          ]
        },
        {
          "name": "stderr",
          "output_type": "stream",
          "text": [
            "Генерируем синтетику:  18%|█▊        | 240/1335 [01:02<04:56,  3.69it/s]"
          ]
        },
        {
          "name": "stdout",
          "output_type": "stream",
          "text": [
            "Ты пишешь короткие отзывы жильцов управляющей компании. Пиши строго на русском. Пример отзыва:\n",
            "«в приложении по-прежнему другой человек,  тоже сергей александров, но не тот»\n",
            "\n",
            "Напиши 1 уникальный отзыв по смыслу, похожий на пример (1-2 предложений). Не копируй пример. Можно перефразировать, добавить детали, но отзыв должен быть уникальным.\n"
          ]
        },
        {
          "name": "stderr",
          "output_type": "stream",
          "text": [
            "Генерируем синтетику:  18%|█▊        | 241/1335 [01:02<04:54,  3.71it/s]"
          ]
        },
        {
          "name": "stdout",
          "output_type": "stream",
          "text": [
            "Ты пишешь короткие отзывы жильцов управляющей компании. Пиши строго на русском. Пример отзыва:\n",
            "«Спасибо) там правда все убрали и стало прям чисто) если можете еще отмыть пятна чего-то… буду очень вам признателен) возможно там нужна не только тряпка)»\n",
            "\n",
            "Напиши 1 уникальный отзыв по смыслу, похожий на пример (1-2 предложений). Не копируй пример. Можно перефразировать, добавить детали, но отзыв должен быть уникальным.\n"
          ]
        },
        {
          "name": "stderr",
          "output_type": "stream",
          "text": [
            "Генерируем синтетику:  18%|█▊        | 242/1335 [01:02<05:33,  3.28it/s]"
          ]
        },
        {
          "name": "stdout",
          "output_type": "stream",
          "text": [
            "Ты пишешь короткие отзывы жильцов управляющей компании. Пиши строго на русском. Пример отзыва:\n",
            "«просили разобраться по счету за кладовое помещение, а не за квартиру»\n",
            "\n",
            "Напиши 1 уникальный отзыв по смыслу, похожий на пример (1-2 предложений). Не копируй пример. Можно перефразировать, добавить детали, но отзыв должен быть уникальным.\n"
          ]
        },
        {
          "name": "stderr",
          "output_type": "stream",
          "text": [
            "Генерируем синтетику:  18%|█▊        | 243/1335 [01:03<05:29,  3.32it/s]"
          ]
        },
        {
          "name": "stdout",
          "output_type": "stream",
          "text": [
            "Ты пишешь короткие отзывы жильцов управляющей компании. Пиши строго на русском. Пример отзыва:\n",
            "«Хороший мастер сделал всё быстро »\n",
            "\n",
            "Напиши 1 уникальный отзыв по смыслу, похожий на пример (1-2 предложений). Не копируй пример. Можно перефразировать, добавить детали, но отзыв должен быть уникальным.\n"
          ]
        },
        {
          "name": "stderr",
          "output_type": "stream",
          "text": [
            "Генерируем синтетику:  18%|█▊        | 244/1335 [01:03<05:00,  3.63it/s]"
          ]
        },
        {
          "name": "stdout",
          "output_type": "stream",
          "text": [
            "Ты пишешь короткие отзывы жильцов управляющей компании. Пиши строго на русском. Пример отзыва:\n",
            "«очень понравился ваш сотрудник. все проверил, показал, объяснил. надеюсь с отоплением проблем не будет. спасибо»\n",
            "\n",
            "Напиши 1 уникальный отзыв по смыслу, похожий на пример (1-2 предложений). Не копируй пример. Можно перефразировать, добавить детали, но отзыв должен быть уникальным.\n"
          ]
        },
        {
          "name": "stderr",
          "output_type": "stream",
          "text": [
            "Генерируем синтетику:  18%|█▊        | 245/1335 [01:03<05:41,  3.19it/s]"
          ]
        },
        {
          "name": "stdout",
          "output_type": "stream",
          "text": [
            "Ты пишешь короткие отзывы жильцов управляющей компании. Пиши строго на русском. Пример отзыва:\n",
            "«Спасибо за оперативность  :dizzy:  :dizzy:  :dizzy: »\n",
            "\n",
            "Если в примере есть код эмодзи вида :smile:, то сохрани стиль — вставь похожий код эмодзи.\n",
            "\n",
            "Напиши 1 уникальный отзыв по смыслу, похожий на пример (1-2 предложений). Не копируй пример. Можно перефразировать, добавить детали, но отзыв должен быть уникальным.\n"
          ]
        },
        {
          "name": "stderr",
          "output_type": "stream",
          "text": [
            "Генерируем синтетику:  18%|█▊        | 246/1335 [01:04<05:15,  3.45it/s]"
          ]
        },
        {
          "name": "stdout",
          "output_type": "stream",
          "text": [
            "Ты пишешь короткие отзывы жильцов управляющей компании. Пиши строго на русском. Пример отзыва:\n",
            "«быстро, оперативно, сотрудник прибыл как по таймеру. спасибо!»\n",
            "\n",
            "Напиши 1 уникальный отзыв по смыслу, похожий на пример (1-2 предложений). Не копируй пример. Можно перефразировать, добавить детали, но отзыв должен быть уникальным.\n"
          ]
        },
        {
          "name": "stderr",
          "output_type": "stream",
          "text": [
            "Генерируем синтетику:  19%|█▊        | 247/1335 [01:04<04:57,  3.66it/s]"
          ]
        },
        {
          "name": "stdout",
          "output_type": "stream",
          "text": [
            "Ты пишешь короткие отзывы жильцов управляющей компании. Пиши строго на русском. Пример отзыва:\n",
            "«Спасибо оператору,  деж. (аварийной) смене за оперативную работу!!!»\n",
            "\n",
            "Напиши 1 уникальный отзыв по смыслу, похожий на пример (1-2 предложений). Не копируй пример. Можно перефразировать, добавить детали, но отзыв должен быть уникальным.\n"
          ]
        },
        {
          "name": "stderr",
          "output_type": "stream",
          "text": [
            "Генерируем синтетику:  19%|█▊        | 248/1335 [01:04<04:46,  3.80it/s]"
          ]
        },
        {
          "name": "stdout",
          "output_type": "stream",
          "text": [
            "Ты пишешь короткие отзывы жильцов управляющей компании. Пиши строго на русском. Пример отзыва:\n",
            "«супер спасибо»\n",
            "\n",
            "Напиши 1 уникальный отзыв по смыслу, похожий на пример (1-2 предложений). Не копируй пример. Можно перефразировать, добавить детали, но отзыв должен быть уникальным.\n"
          ]
        },
        {
          "name": "stderr",
          "output_type": "stream",
          "text": [
            "Генерируем синтетику:  19%|█▊        | 249/1335 [01:04<04:30,  4.02it/s]"
          ]
        },
        {
          "name": "stdout",
          "output_type": "stream",
          "text": [
            "Ты пишешь короткие отзывы жильцов управляющей компании. Пиши строго на русском. Пример отзыва:\n",
            "«благодарю за оперативность по устранению протечки»\n",
            "\n",
            "Напиши 1 уникальный отзыв по смыслу, похожий на пример (1-2 предложений). Не копируй пример. Можно перефразировать, добавить детали, но отзыв должен быть уникальным.\n"
          ]
        },
        {
          "name": "stderr",
          "output_type": "stream",
          "text": [
            "Генерируем синтетику:  19%|█▊        | 250/1335 [01:04<04:33,  3.96it/s]"
          ]
        },
        {
          "name": "stdout",
          "output_type": "stream",
          "text": [
            "Ты пишешь короткие отзывы жильцов управляющей компании. Пиши строго на русском. Пример отзыва:\n",
            "«Специалист связывался по заявке, все починили! Спасибо »\n",
            "\n",
            "Напиши 1 уникальный отзыв по смыслу, похожий на пример (1-2 предложений). Не копируй пример. Можно перефразировать, добавить детали, но отзыв должен быть уникальным.\n"
          ]
        },
        {
          "name": "stderr",
          "output_type": "stream",
          "text": [
            "Генерируем синтетику:  19%|█▉        | 251/1335 [01:05<04:26,  4.07it/s]"
          ]
        },
        {
          "name": "stdout",
          "output_type": "stream",
          "text": [
            "Ты пишешь короткие отзывы жильцов управляющей компании. Пиши строго на русском. Пример отзыва:\n",
            "«благодарю за оперативное выполнение заявки. я приятно удивлён. с момента подачи заявки, до выхода мастера прошло менее 40 минут точка так держать спасибо»\n",
            "\n",
            "Напиши 1 уникальный отзыв по смыслу, похожий на пример (1-2 предложений). Не копируй пример. Можно перефразировать, добавить детали, но отзыв должен быть уникальным.\n"
          ]
        },
        {
          "name": "stderr",
          "output_type": "stream",
          "text": [
            "Генерируем синтетику:  19%|█▉        | 252/1335 [01:05<04:34,  3.94it/s]"
          ]
        },
        {
          "name": "stdout",
          "output_type": "stream",
          "text": [
            "Ты пишешь короткие отзывы жильцов управляющей компании. Пиши строго на русском. Пример отзыва:\n",
            "«решили, но пришлось 2 раза просить»\n",
            "\n",
            "Напиши 1 уникальный отзыв по смыслу, похожий на пример (1-2 предложений). Не копируй пример. Можно перефразировать, добавить детали, но отзыв должен быть уникальным.\n"
          ]
        },
        {
          "name": "stderr",
          "output_type": "stream",
          "text": [
            "Генерируем синтетику:  19%|█▉        | 253/1335 [01:05<04:36,  3.92it/s]"
          ]
        },
        {
          "name": "stdout",
          "output_type": "stream",
          "text": [
            "Ты пишешь короткие отзывы жильцов управляющей компании. Пиши строго на русском. Пример отзыва:\n",
            "«Большое спасибо, всё сделали»\n",
            "\n",
            "Напиши 1 уникальный отзыв по смыслу, похожий на пример (1-2 предложений). Не копируй пример. Можно перефразировать, добавить детали, но отзыв должен быть уникальным.\n"
          ]
        },
        {
          "name": "stderr",
          "output_type": "stream",
          "text": [
            "Генерируем синтетику:  19%|█▉        | 254/1335 [01:05<04:29,  4.01it/s]"
          ]
        },
        {
          "name": "stdout",
          "output_type": "stream",
          "text": [
            "Ты пишешь короткие отзывы жильцов управляющей компании. Пиши строго на русском. Пример отзыва:\n",
            "«даже никто и не подходил к отвалившейся плитке, каким образом стоит статус выполнено ?\n",
            "свершилось чудо целый месяц приклеивали, спасибо и на этом»\n",
            "\n",
            "Напиши 1 уникальный отзыв по смыслу, похожий на пример (1-2 предложений). Не копируй пример. Можно перефразировать, добавить детали, но отзыв должен быть уникальным.\n"
          ]
        },
        {
          "name": "stderr",
          "output_type": "stream",
          "text": [
            "Генерируем синтетику:  19%|█▉        | 255/1335 [01:06<04:51,  3.70it/s]"
          ]
        },
        {
          "name": "stdout",
          "output_type": "stream",
          "text": [
            "Ты пишешь короткие отзывы жильцов управляющей компании. Пиши строго на русском. Пример отзыва:\n",
            "«не убирали, перерасчет»\n",
            "\n",
            "Напиши 1 уникальный отзыв по смыслу, похожий на пример (1-2 предложений). Не копируй пример. Можно перефразировать, добавить детали, но отзыв должен быть уникальным.\n"
          ]
        },
        {
          "name": "stderr",
          "output_type": "stream",
          "text": [
            "Генерируем синтетику:  19%|█▉        | 256/1335 [01:06<05:03,  3.56it/s]"
          ]
        },
        {
          "name": "stdout",
          "output_type": "stream",
          "text": [
            "Ты пишешь короткие отзывы жильцов управляющей компании. Пиши строго на русском. Пример отзыва:\n",
            "«никто не ответил, сначала было написано: приостановлено, второй ращ: выполнено.»\n",
            "\n",
            "Напиши 1 уникальный отзыв по смыслу, похожий на пример (1-2 предложений). Не копируй пример. Можно перефразировать, добавить детали, но отзыв должен быть уникальным.\n"
          ]
        },
        {
          "name": "stderr",
          "output_type": "stream",
          "text": [
            "Генерируем синтетику:  19%|█▉        | 257/1335 [01:06<05:13,  3.44it/s]"
          ]
        },
        {
          "name": "stdout",
          "output_type": "stream",
          "text": [
            "Ты пишешь короткие отзывы жильцов управляющей компании. Пиши строго на русском. Пример отзыва:\n",
            "«спасибо, но можно убирать регулярно и  без заявок»\n",
            "\n",
            "Напиши 1 уникальный отзыв по смыслу, похожий на пример (1-2 предложений). Не копируй пример. Можно перефразировать, добавить детали, но отзыв должен быть уникальным.\n"
          ]
        },
        {
          "name": "stderr",
          "output_type": "stream",
          "text": [
            "Генерируем синтетику:  19%|█▉        | 258/1335 [01:07<04:51,  3.70it/s]"
          ]
        },
        {
          "name": "stdout",
          "output_type": "stream",
          "text": [
            "Ты пишешь короткие отзывы жильцов управляющей компании. Пиши строго на русском. Пример отзыва:\n",
            "«Оказалось, что это не авария, а нюансы системы водоснабжения и отопления.\n",
            "Всё подробно объяснили, спасибо!)»\n",
            "\n",
            "Напиши 1 уникальный отзыв по смыслу, похожий на пример (1-2 предложений). Не копируй пример. Можно перефразировать, добавить детали, но отзыв должен быть уникальным.\n"
          ]
        },
        {
          "name": "stderr",
          "output_type": "stream",
          "text": [
            "Генерируем синтетику:  19%|█▉        | 260/1335 [01:07<04:39,  3.85it/s]"
          ]
        },
        {
          "name": "stdout",
          "output_type": "stream",
          "text": [
            "Ты пишешь короткие отзывы жильцов управляющей компании. Пиши строго на русском. Пример отзыва:\n",
            "«спасибо, оперативно\n",
            "\n",
            "»\n",
            "\n",
            "Напиши 1 уникальный отзыв по смыслу, похожий на пример (1-2 предложений). Не копируй пример. Можно перефразировать, добавить детали, но отзыв должен быть уникальным.\n",
            "Ты пишешь короткие отзывы жильцов управляющей компании. Пиши строго на русском. Пример отзыва:\n",
            "«всё отлично, решили всё)»\n",
            "\n",
            "Напиши 1 уникальный отзыв по смыслу, похожий на пример (1-2 предложений). Не копируй пример. Можно перефразировать, добавить детали, но отзыв должен быть уникальным.\n"
          ]
        },
        {
          "name": "stderr",
          "output_type": "stream",
          "text": [
            "Генерируем синтетику:  20%|█▉        | 261/1335 [01:07<04:24,  4.07it/s]"
          ]
        },
        {
          "name": "stdout",
          "output_type": "stream",
          "text": [
            "Ты пишешь короткие отзывы жильцов управляющей компании. Пиши строго на русском. Пример отзыва:\n",
            "«благодарю за чистоту в подъезде, а то у нас там появился неприятный запах.»\n",
            "\n",
            "Напиши 1 уникальный отзыв по смыслу, похожий на пример (1-2 предложений). Не копируй пример. Можно перефразировать, добавить детали, но отзыв должен быть уникальным.\n"
          ]
        },
        {
          "name": "stderr",
          "output_type": "stream",
          "text": [
            "Генерируем синтетику:  20%|█▉        | 262/1335 [01:08<04:34,  3.91it/s]"
          ]
        },
        {
          "name": "stdout",
          "output_type": "stream",
          "text": [
            "Ты пишешь короткие отзывы жильцов управляющей компании. Пиши строго на русском. Пример отзыва:\n",
            "«звонки не поступают при звонке»\n",
            "\n",
            "Напиши 1 уникальный отзыв по смыслу, похожий на пример (1-2 предложений). Не копируй пример. Можно перефразировать, добавить детали, но отзыв должен быть уникальным.\n"
          ]
        },
        {
          "name": "stderr",
          "output_type": "stream",
          "text": [
            "Генерируем синтетику:  20%|█▉        | 263/1335 [01:08<04:27,  4.01it/s]"
          ]
        },
        {
          "name": "stdout",
          "output_type": "stream",
          "text": [
            "Ты пишешь короткие отзывы жильцов управляющей компании. Пиши строго на русском. Пример отзыва:\n",
            "«Очень быстро и вежливо))»\n",
            "\n",
            "Напиши 1 уникальный отзыв по смыслу, похожий на пример (1-2 предложений). Не копируй пример. Можно перефразировать, добавить детали, но отзыв должен быть уникальным.\n"
          ]
        },
        {
          "name": "stderr",
          "output_type": "stream",
          "text": [
            "Генерируем синтетику:  20%|█▉        | 265/1335 [01:08<03:56,  4.52it/s]"
          ]
        },
        {
          "name": "stdout",
          "output_type": "stream",
          "text": [
            "Ты пишешь короткие отзывы жильцов управляющей компании. Пиши строго на русском. Пример отзыва:\n",
            "«отлично, спасибо!\n",
            "»\n",
            "\n",
            "Напиши 1 уникальный отзыв по смыслу, похожий на пример (1-2 предложений). Не копируй пример. Можно перефразировать, добавить детали, но отзыв должен быть уникальным.\n",
            "Ты пишешь короткие отзывы жильцов управляющей компании. Пиши строго на русском. Пример отзыва:\n",
            "«было выполнено все быстро, качественно и профессионально, спасибо!»\n",
            "\n",
            "Напиши 1 уникальный отзыв по смыслу, похожий на пример (1-2 предложений). Не копируй пример. Можно перефразировать, добавить детали, но отзыв должен быть уникальным.\n"
          ]
        },
        {
          "name": "stderr",
          "output_type": "stream",
          "text": [
            "Генерируем синтетику:  20%|█▉        | 266/1335 [01:09<03:59,  4.47it/s]"
          ]
        },
        {
          "name": "stdout",
          "output_type": "stream",
          "text": [
            "Ты пишешь короткие отзывы жильцов управляющей компании. Пиши строго на русском. Пример отзыва:\n",
            "«Спасибо\n",
            "»\n",
            "\n",
            "Напиши 1 уникальный отзыв по смыслу, похожий на пример (1-2 предложений). Не копируй пример. Можно перефразировать, добавить детали, но отзыв должен быть уникальным.\n"
          ]
        },
        {
          "name": "stderr",
          "output_type": "stream",
          "text": [
            "Генерируем синтетику:  20%|██        | 268/1335 [01:09<04:04,  4.36it/s]"
          ]
        },
        {
          "name": "stdout",
          "output_type": "stream",
          "text": [
            "Ты пишешь короткие отзывы жильцов управляющей компании. Пиши строго на русском. Пример отзыва:\n",
            "«работает. спасибо»\n",
            "\n",
            "Напиши 1 уникальный отзыв по смыслу, похожий на пример (1-2 предложений). Не копируй пример. Можно перефразировать, добавить детали, но отзыв должен быть уникальным.\n",
            "Ты пишешь короткие отзывы жильцов управляющей компании. Пиши строго на русском. Пример отзыва:\n",
            "«Все отлично,позвонили,ответ предоставили »\n",
            "\n",
            "Напиши 1 уникальный отзыв по смыслу, похожий на пример (1-2 предложений). Не копируй пример. Можно перефразировать, добавить детали, но отзыв должен быть уникальным.\n"
          ]
        },
        {
          "name": "stderr",
          "output_type": "stream",
          "text": [
            "Генерируем синтетику:  20%|██        | 270/1335 [01:09<03:50,  4.61it/s]"
          ]
        },
        {
          "name": "stdout",
          "output_type": "stream",
          "text": [
            "Ты пишешь короткие отзывы жильцов управляющей компании. Пиши строго на русском. Пример отзыва:\n",
            "«молодцы спасибо»\n",
            "\n",
            "Напиши 1 уникальный отзыв по смыслу, похожий на пример (1-2 предложений). Не копируй пример. Можно перефразировать, добавить детали, но отзыв должен быть уникальным.\n",
            "Ты пишешь короткие отзывы жильцов управляющей компании. Пиши строго на русском. Пример отзыва:\n",
            "«со мной никто не связался и никто не снял показания»\n",
            "\n",
            "Напиши 1 уникальный отзыв по смыслу, похожий на пример (1-2 предложений). Не копируй пример. Можно перефразировать, добавить детали, но отзыв должен быть уникальным.\n"
          ]
        },
        {
          "name": "stderr",
          "output_type": "stream",
          "text": [
            "Генерируем синтетику:  20%|██        | 271/1335 [01:10<04:12,  4.21it/s]"
          ]
        },
        {
          "name": "stdout",
          "output_type": "stream",
          "text": [
            "Ты пишешь короткие отзывы жильцов управляющей компании. Пиши строго на русском. Пример отзыва:\n",
            "«Вопрос решен быстро, спасибо мастеру. Фото выполненной работы приложил и даже позвонил!»\n",
            "\n",
            "Напиши 1 уникальный отзыв по смыслу, похожий на пример (1-2 предложений). Не копируй пример. Можно перефразировать, добавить детали, но отзыв должен быть уникальным.\n"
          ]
        },
        {
          "name": "stderr",
          "output_type": "stream",
          "text": [
            "Генерируем синтетику:  20%|██        | 272/1335 [01:10<04:58,  3.56it/s]"
          ]
        },
        {
          "name": "stdout",
          "output_type": "stream",
          "text": [
            "Ты пишешь короткие отзывы жильцов управляющей компании. Пиши строго на русском. Пример отзыва:\n",
            "«мы сами устранили»\n",
            "\n",
            "Напиши 1 уникальный отзыв по смыслу, похожий на пример (1-2 предложений). Не копируй пример. Можно перефразировать, добавить детали, но отзыв должен быть уникальным.\n"
          ]
        },
        {
          "name": "stderr",
          "output_type": "stream",
          "text": [
            "Генерируем синтетику:  20%|██        | 273/1335 [01:10<04:38,  3.81it/s]"
          ]
        },
        {
          "name": "stdout",
          "output_type": "stream",
          "text": [
            "Ты пишешь короткие отзывы жильцов управляющей компании. Пиши строго на русском. Пример отзыва:\n",
            "«дверь исправна»\n",
            "\n",
            "Напиши 1 уникальный отзыв по смыслу, похожий на пример (1-2 предложений). Не копируй пример. Можно перефразировать, добавить детали, но отзыв должен быть уникальным.\n"
          ]
        },
        {
          "name": "stderr",
          "output_type": "stream",
          "text": [
            "Генерируем синтетику:  21%|██        | 274/1335 [01:11<04:28,  3.95it/s]"
          ]
        },
        {
          "name": "stdout",
          "output_type": "stream",
          "text": [
            "Ты пишешь короткие отзывы жильцов управляющей компании. Пиши строго на русском. Пример отзыва:\n",
            "«резиновые прокладки в окнах заменены частично. от продувания не помогло»\n",
            "\n",
            "Напиши 1 уникальный отзыв по смыслу, похожий на пример (1-2 предложений). Не копируй пример. Можно перефразировать, добавить детали, но отзыв должен быть уникальным.\n"
          ]
        },
        {
          "name": "stderr",
          "output_type": "stream",
          "text": [
            "Генерируем синтетику:  21%|██        | 275/1335 [01:11<04:29,  3.94it/s]"
          ]
        },
        {
          "name": "stdout",
          "output_type": "stream",
          "text": [
            "Ты пишешь короткие отзывы жильцов управляющей компании. Пиши строго на русском. Пример отзыва:\n",
            "«Все отлично.  Жаль что для сотрудников компании на данные услуги не действуют скидки.»\n",
            "\n",
            "Напиши 1 уникальный отзыв по смыслу, похожий на пример (1-2 предложений). Не копируй пример. Можно перефразировать, добавить детали, но отзыв должен быть уникальным.\n"
          ]
        },
        {
          "name": "stderr",
          "output_type": "stream",
          "text": [
            "Генерируем синтетику:  21%|██        | 276/1335 [01:11<04:46,  3.70it/s]"
          ]
        },
        {
          "name": "stdout",
          "output_type": "stream",
          "text": [
            "Ты пишешь короткие отзывы жильцов управляющей компании. Пиши строго на русском. Пример отзыва:\n",
            "«Отличное обслуживание.»\n",
            "\n",
            "Напиши 1 уникальный отзыв по смыслу, похожий на пример (1-2 предложений). Не копируй пример. Можно перефразировать, добавить детали, но отзыв должен быть уникальным.\n"
          ]
        },
        {
          "name": "stderr",
          "output_type": "stream",
          "text": [
            "Генерируем синтетику:  21%|██        | 277/1335 [01:11<04:37,  3.82it/s]"
          ]
        },
        {
          "name": "stdout",
          "output_type": "stream",
          "text": [
            "Ты пишешь короткие отзывы жильцов управляющей компании. Пиши строго на русском. Пример отзыва:\n",
            "«Спасибо большое, что починили домофон. »\n",
            "\n",
            "Напиши 1 уникальный отзыв по смыслу, похожий на пример (1-2 предложений). Не копируй пример. Можно перефразировать, добавить детали, но отзыв должен быть уникальным.\n"
          ]
        },
        {
          "name": "stderr",
          "output_type": "stream",
          "text": [
            "Генерируем синтетику:  21%|██        | 278/1335 [01:12<04:27,  3.95it/s]"
          ]
        },
        {
          "name": "stdout",
          "output_type": "stream",
          "text": [
            "Ты пишешь короткие отзывы жильцов управляющей компании. Пиши строго на русском. Пример отзыва:\n",
            "«лучшие»\n",
            "\n",
            "Напиши 1 уникальный отзыв по смыслу, похожий на пример (1-2 предложений). Не копируй пример. Можно перефразировать, добавить детали, но отзыв должен быть уникальным.\n"
          ]
        },
        {
          "name": "stderr",
          "output_type": "stream",
          "text": [
            "Генерируем синтетику:  21%|██        | 279/1335 [01:12<04:41,  3.75it/s]"
          ]
        },
        {
          "name": "stdout",
          "output_type": "stream",
          "text": [
            "Ты пишешь короткие отзывы жильцов управляющей компании. Пиши строго на русском. Пример отзыва:\n",
            "«моя ошибка»\n",
            "\n",
            "Напиши 1 уникальный отзыв по смыслу, похожий на пример (1-2 предложений). Не копируй пример. Можно перефразировать, добавить детали, но отзыв должен быть уникальным.\n"
          ]
        },
        {
          "name": "stderr",
          "output_type": "stream",
          "text": [
            "Генерируем синтетику:  21%|██        | 281/1335 [01:12<04:17,  4.09it/s]"
          ]
        },
        {
          "name": "stdout",
          "output_type": "stream",
          "text": [
            "Ты пишешь короткие отзывы жильцов управляющей компании. Пиши строго на русском. Пример отзыва:\n",
            "«жду ответа»\n",
            "\n",
            "Напиши 1 уникальный отзыв по смыслу, похожий на пример (1-2 предложений). Не копируй пример. Можно перефразировать, добавить детали, но отзыв должен быть уникальным.\n",
            "Ты пишешь короткие отзывы жильцов управляющей компании. Пиши строго на русском. Пример отзыва:\n",
            "«вот это скорость выполнения заявки  :fire:  вот это я понимаю! в пример всем остальным! спасибо большое!  :thumbs_up:  :medium_skin_tone:  :clapping_hands:  :medium_skin_tone: »\n",
            "\n",
            "Если в примере есть код эмодзи вида :smile:, то сохрани стиль — вставь похожий код эмодзи.\n",
            "\n",
            "Напиши 1 уникальный отзыв по смыслу, похожий на пример (1-2 предложений). Не копируй пример. Можно перефразировать, добавить детали, но отзыв должен быть уникальным.\n"
          ]
        },
        {
          "name": "stderr",
          "output_type": "stream",
          "text": [
            "Генерируем синтетику:  21%|██        | 282/1335 [01:13<04:47,  3.66it/s]"
          ]
        },
        {
          "name": "stdout",
          "output_type": "stream",
          "text": [
            "Ты пишешь короткие отзывы жильцов управляющей компании. Пиши строго на русском. Пример отзыва:\n",
            "«отличный аккуратный специалист.»\n",
            "\n",
            "Напиши 1 уникальный отзыв по смыслу, похожий на пример (1-2 предложений). Не копируй пример. Можно перефразировать, добавить детали, но отзыв должен быть уникальным.\n"
          ]
        },
        {
          "name": "stderr",
          "output_type": "stream",
          "text": [
            "Генерируем синтетику:  21%|██        | 283/1335 [01:13<04:34,  3.84it/s]"
          ]
        },
        {
          "name": "stdout",
          "output_type": "stream",
          "text": [
            "Ты пишешь короткие отзывы жильцов управляющей компании. Пиши строго на русском. Пример отзыва:\n",
            "«Спасибо, большое!!!»\n",
            "\n",
            "Напиши 1 уникальный отзыв по смыслу, похожий на пример (1-2 предложений). Не копируй пример. Можно перефразировать, добавить детали, но отзыв должен быть уникальным.\n"
          ]
        },
        {
          "name": "stderr",
          "output_type": "stream",
          "text": [
            "Генерируем синтетику:  21%|██▏       | 284/1335 [01:13<04:29,  3.90it/s]"
          ]
        },
        {
          "name": "stdout",
          "output_type": "stream",
          "text": [
            "Ты пишешь короткие отзывы жильцов управляющей компании. Пиши строго на русском. Пример отзыва:\n",
            "«спасибо,отреагировали очень быстро!»\n",
            "\n",
            "Напиши 1 уникальный отзыв по смыслу, похожий на пример (1-2 предложений). Не копируй пример. Можно перефразировать, добавить детали, но отзыв должен быть уникальным.\n"
          ]
        },
        {
          "name": "stderr",
          "output_type": "stream",
          "text": [
            "Генерируем синтетику:  21%|██▏       | 285/1335 [01:13<04:13,  4.14it/s]"
          ]
        },
        {
          "name": "stdout",
          "output_type": "stream",
          "text": [
            "Ты пишешь короткие отзывы жильцов управляющей компании. Пиши строго на русском. Пример отзыва:\n",
            "«спасибо,скажите пожалуйста,на андроид откуда можно скачать данное приложение? не получается,пишет,что не поддерживается»\n",
            "\n",
            "Напиши 1 уникальный отзыв по смыслу, похожий на пример (1-2 предложений). Не копируй пример. Можно перефразировать, добавить детали, но отзыв должен быть уникальным.\n"
          ]
        },
        {
          "name": "stderr",
          "output_type": "stream",
          "text": [
            "Генерируем синтетику:  21%|██▏       | 286/1335 [01:14<05:08,  3.40it/s]"
          ]
        },
        {
          "name": "stdout",
          "output_type": "stream",
          "text": [
            "Ты пишешь короткие отзывы жильцов управляющей компании. Пиши строго на русском. Пример отзыва:\n",
            "«вопрос решен»\n",
            "\n",
            "Напиши 1 уникальный отзыв по смыслу, похожий на пример (1-2 предложений). Не копируй пример. Можно перефразировать, добавить детали, но отзыв должен быть уникальным.\n"
          ]
        },
        {
          "name": "stderr",
          "output_type": "stream",
          "text": [
            "Генерируем синтетику:  21%|██▏       | 287/1335 [01:14<04:50,  3.61it/s]"
          ]
        },
        {
          "name": "stdout",
          "output_type": "stream",
          "text": [
            "Ты пишешь короткие отзывы жильцов управляющей компании. Пиши строго на русском. Пример отзыва:\n",
            "«Владимир грамотно и здорово и быстро все сделал»\n",
            "\n",
            "Напиши 1 уникальный отзыв по смыслу, похожий на пример (1-2 предложений). Не копируй пример. Можно перефразировать, добавить детали, но отзыв должен быть уникальным.\n"
          ]
        },
        {
          "name": "stderr",
          "output_type": "stream",
          "text": [
            "Генерируем синтетику:  22%|██▏       | 289/1335 [01:14<04:17,  4.06it/s]"
          ]
        },
        {
          "name": "stdout",
          "output_type": "stream",
          "text": [
            "Ты пишешь короткие отзывы жильцов управляющей компании. Пиши строго на русском. Пример отзыва:\n",
            "«всё решили быстро»\n",
            "\n",
            "Напиши 1 уникальный отзыв по смыслу, похожий на пример (1-2 предложений). Не копируй пример. Можно перефразировать, добавить детали, но отзыв должен быть уникальным.\n",
            "Ты пишешь короткие отзывы жильцов управляющей компании. Пиши строго на русском. Пример отзыва:\n",
            "«спасибо  :folded_hands: »\n",
            "\n",
            "Если в примере есть код эмодзи вида :smile:, то сохрани стиль — вставь похожий код эмодзи.\n",
            "\n",
            "Напиши 1 уникальный отзыв по смыслу, похожий на пример (1-2 предложений). Не копируй пример. Можно перефразировать, добавить детали, но отзыв должен быть уникальным.\n"
          ]
        },
        {
          "name": "stderr",
          "output_type": "stream",
          "text": [
            "Генерируем синтетику:  22%|██▏       | 291/1335 [01:15<04:27,  3.90it/s]"
          ]
        },
        {
          "name": "stdout",
          "output_type": "stream",
          "text": [
            "Ты пишешь короткие отзывы жильцов управляющей компании. Пиши строго на русском. Пример отзыва:\n",
            "«Отличный специалист, вопрос решен. Спасибо.»\n",
            "\n",
            "Напиши 1 уникальный отзыв по смыслу, похожий на пример (1-2 предложений). Не копируй пример. Можно перефразировать, добавить детали, но отзыв должен быть уникальным.\n",
            "Ты пишешь короткие отзывы жильцов управляющей компании. Пиши строго на русском. Пример отзыва:\n",
            "«все заработало»\n",
            "\n",
            "Напиши 1 уникальный отзыв по смыслу, похожий на пример (1-2 предложений). Не копируй пример. Можно перефразировать, добавить детали, но отзыв должен быть уникальным.\n"
          ]
        },
        {
          "name": "stderr",
          "output_type": "stream",
          "text": [
            "Генерируем синтетику:  22%|██▏       | 292/1335 [01:15<04:30,  3.85it/s]"
          ]
        },
        {
          "name": "stdout",
          "output_type": "stream",
          "text": [
            "Ты пишешь короткие отзывы жильцов управляющей компании. Пиши строго на русском. Пример отзыва:\n",
            "«повторная заявка (4195451)»\n",
            "\n",
            "Напиши 1 уникальный отзыв по смыслу, похожий на пример (1-2 предложений). Не копируй пример. Можно перефразировать, добавить детали, но отзыв должен быть уникальным.\n"
          ]
        },
        {
          "name": "stderr",
          "output_type": "stream",
          "text": [
            "Генерируем синтетику:  22%|██▏       | 293/1335 [01:16<04:54,  3.54it/s]"
          ]
        },
        {
          "name": "stdout",
          "output_type": "stream",
          "text": [
            "Ты пишешь короткие отзывы жильцов управляющей компании. Пиши строго на русском. Пример отзыва:\n",
            "«Спасибо большое  :rose: »\n",
            "\n",
            "Если в примере есть код эмодзи вида :smile:, то сохрани стиль — вставь похожий код эмодзи.\n",
            "\n",
            "Напиши 1 уникальный отзыв по смыслу, похожий на пример (1-2 предложений). Не копируй пример. Можно перефразировать, добавить детали, но отзыв должен быть уникальным.\n"
          ]
        },
        {
          "name": "stderr",
          "output_type": "stream",
          "text": [
            "Генерируем синтетику:  22%|██▏       | 294/1335 [01:16<04:32,  3.81it/s]"
          ]
        },
        {
          "name": "stdout",
          "output_type": "stream",
          "text": [
            "Ты пишешь короткие отзывы жильцов управляющей компании. Пиши строго на русском. Пример отзыва:\n",
            "«так сумма начисления за декабрь так и осталась висеть в личном кабинете к оплате. уберите её - она уже оплачена.»\n",
            "\n",
            "Напиши 1 уникальный отзыв по смыслу, похожий на пример (1-2 предложений). Не копируй пример. Можно перефразировать, добавить детали, но отзыв должен быть уникальным.\n"
          ]
        },
        {
          "name": "stderr",
          "output_type": "stream",
          "text": [
            "Генерируем синтетику:  22%|██▏       | 296/1335 [01:16<04:21,  3.97it/s]"
          ]
        },
        {
          "name": "stdout",
          "output_type": "stream",
          "text": [
            "Ты пишешь короткие отзывы жильцов управляющей компании. Пиши строго на русском. Пример отзыва:\n",
            "«спасибо за то что быстро отреагировали»\n",
            "\n",
            "Напиши 1 уникальный отзыв по смыслу, похожий на пример (1-2 предложений). Не копируй пример. Можно перефразировать, добавить детали, но отзыв должен быть уникальным.\n",
            "Ты пишешь короткие отзывы жильцов управляющей компании. Пиши строго на русском. Пример отзыва:\n",
            "«детализация предоставлена с 06.2024 была закащана с 01.2024. просьба выдать на все месяцы 2024 года»\n",
            "\n",
            "Напиши 1 уникальный отзыв по смыслу, похожий на пример (1-2 предложений). Не копируй пример. Можно перефразировать, добавить детали, но отзыв должен быть уникальным.\n"
          ]
        },
        {
          "name": "stderr",
          "output_type": "stream",
          "text": [
            "Генерируем синтетику:  22%|██▏       | 298/1335 [01:17<04:29,  3.84it/s]"
          ]
        },
        {
          "name": "stdout",
          "output_type": "stream",
          "text": [
            "Ты пишешь короткие отзывы жильцов управляющей компании. Пиши строго на русском. Пример отзыва:\n",
            "«Оперативно и надежно)»\n",
            "\n",
            "Напиши 1 уникальный отзыв по смыслу, похожий на пример (1-2 предложений). Не копируй пример. Можно перефразировать, добавить детали, но отзыв должен быть уникальным.\n",
            "Ты пишешь короткие отзывы жильцов управляющей компании. Пиши строго на русском. Пример отзыва:\n",
            "«Всё отлично, спасибо!»\n",
            "\n",
            "Напиши 1 уникальный отзыв по смыслу, похожий на пример (1-2 предложений). Не копируй пример. Можно перефразировать, добавить детали, но отзыв должен быть уникальным.\n"
          ]
        },
        {
          "name": "stderr",
          "output_type": "stream",
          "text": [
            "Генерируем синтетику:  22%|██▏       | 300/1335 [01:17<03:44,  4.60it/s]"
          ]
        },
        {
          "name": "stdout",
          "output_type": "stream",
          "text": [
            "Ты пишешь короткие отзывы жильцов управляющей компании. Пиши строго на русском. Пример отзыва:\n",
            "«все нормально, спасибо\n",
            "\n",
            "\n",
            "»\n",
            "\n",
            "Напиши 1 уникальный отзыв по смыслу, похожий на пример (1-2 предложений). Не копируй пример. Можно перефразировать, добавить детали, но отзыв должен быть уникальным.\n",
            "Ты пишешь короткие отзывы жильцов управляющей компании. Пиши строго на русском. Пример отзыва:\n",
            "«было бы удобнее, если сразу дали ссылку или название раздела, где эту заявку оформить. потому что в приложении очень неудобно искать, где подать эту заявку. чёрт ногу сломит»\n",
            "\n",
            "Напиши 1 уникальный отзыв по смыслу, похожий на пример (1-2 предложений). Не копируй пример. Можно перефразировать, добавить детали, но отзыв должен быть уникальным.\n"
          ]
        },
        {
          "name": "stderr",
          "output_type": "stream",
          "text": [
            "Генерируем синтетику:  23%|██▎       | 301/1335 [01:18<04:27,  3.87it/s]"
          ]
        },
        {
          "name": "stdout",
          "output_type": "stream",
          "text": [
            "Ты пишешь короткие отзывы жильцов управляющей компании. Пиши строго на русском. Пример отзыва:\n",
            "«Все отлично»\n",
            "\n",
            "Напиши 1 уникальный отзыв по смыслу, похожий на пример (1-2 предложений). Не копируй пример. Можно перефразировать, добавить детали, но отзыв должен быть уникальным.\n"
          ]
        },
        {
          "name": "stderr",
          "output_type": "stream",
          "text": [
            "Генерируем синтетику:  23%|██▎       | 302/1335 [01:18<04:11,  4.11it/s]"
          ]
        },
        {
          "name": "stdout",
          "output_type": "stream",
          "text": [
            "Ты пишешь короткие отзывы жильцов управляющей компании. Пиши строго на русском. Пример отзыва:\n",
            "«Наконец - то. Очень надеюсь, что через 2 дня он не встанет снова»\n",
            "\n",
            "Напиши 1 уникальный отзыв по смыслу, похожий на пример (1-2 предложений). Не копируй пример. Можно перефразировать, добавить детали, но отзыв должен быть уникальным.\n"
          ]
        },
        {
          "name": "stderr",
          "output_type": "stream",
          "text": [
            "Генерируем синтетику:  23%|██▎       | 303/1335 [01:18<04:10,  4.11it/s]"
          ]
        },
        {
          "name": "stdout",
          "output_type": "stream",
          "text": [
            "Ты пишешь короткие отзывы жильцов управляющей компании. Пиши строго на русском. Пример отзыва:\n",
            "«оперативное решение проблемы! \n",
            "»\n",
            "\n",
            "Напиши 1 уникальный отзыв по смыслу, похожий на пример (1-2 предложений). Не копируй пример. Можно перефразировать, добавить детали, но отзыв должен быть уникальным.\n"
          ]
        },
        {
          "name": "stderr",
          "output_type": "stream",
          "text": [
            "Генерируем синтетику:  23%|██▎       | 304/1335 [01:18<04:13,  4.06it/s]"
          ]
        },
        {
          "name": "stdout",
          "output_type": "stream",
          "text": [
            "Ты пишешь короткие отзывы жильцов управляющей компании. Пиши строго на русском. Пример отзыва:\n",
            "«Спасибо за консультацию!»\n",
            "\n",
            "Напиши 1 уникальный отзыв по смыслу, похожий на пример (1-2 предложений). Не копируй пример. Можно перефразировать, добавить детали, но отзыв должен быть уникальным.\n"
          ]
        },
        {
          "name": "stderr",
          "output_type": "stream",
          "text": [
            "Генерируем синтетику:  23%|██▎       | 305/1335 [01:19<04:09,  4.14it/s]"
          ]
        },
        {
          "name": "stdout",
          "output_type": "stream",
          "text": [
            "Ты пишешь короткие отзывы жильцов управляющей компании. Пиши строго на русском. Пример отзыва:\n",
            "«больше спасибо!\n",
            "всё работает.»\n",
            "\n",
            "Напиши 1 уникальный отзыв по смыслу, похожий на пример (1-2 предложений). Не копируй пример. Можно перефразировать, добавить детали, но отзыв должен быть уникальным.\n"
          ]
        },
        {
          "name": "stderr",
          "output_type": "stream",
          "text": [
            "Генерируем синтетику:  23%|██▎       | 306/1335 [01:19<04:18,  3.99it/s]"
          ]
        },
        {
          "name": "stdout",
          "output_type": "stream",
          "text": [
            "Ты пишешь короткие отзывы жильцов управляющей компании. Пиши строго на русском. Пример отзыва:\n",
            "«включили лифт быстро, но как надоело это наблюдать почти каждый день!»\n",
            "\n",
            "Напиши 1 уникальный отзыв по смыслу, похожий на пример (1-2 предложений). Не копируй пример. Можно перефразировать, добавить детали, но отзыв должен быть уникальным.\n"
          ]
        },
        {
          "name": "stderr",
          "output_type": "stream",
          "text": [
            "Генерируем синтетику:  23%|██▎       | 307/1335 [01:19<04:49,  3.56it/s]"
          ]
        },
        {
          "name": "stdout",
          "output_type": "stream",
          "text": [
            "Ты пишешь короткие отзывы жильцов управляющей компании. Пиши строго на русском. Пример отзыва:\n",
            "«отработали оперативно»\n",
            "\n",
            "Напиши 1 уникальный отзыв по смыслу, похожий на пример (1-2 предложений). Не копируй пример. Можно перефразировать, добавить детали, но отзыв должен быть уникальным.\n"
          ]
        },
        {
          "name": "stderr",
          "output_type": "stream",
          "text": [
            "Генерируем синтетику:  23%|██▎       | 308/1335 [01:19<04:40,  3.66it/s]"
          ]
        },
        {
          "name": "stdout",
          "output_type": "stream",
          "text": [
            "Ты пишешь короткие отзывы жильцов управляющей компании. Пиши строго на русском. Пример отзыва:\n",
            "«супер быстро»\n",
            "\n",
            "Напиши 1 уникальный отзыв по смыслу, похожий на пример (1-2 предложений). Не копируй пример. Можно перефразировать, добавить детали, но отзыв должен быть уникальным.\n"
          ]
        },
        {
          "name": "stderr",
          "output_type": "stream",
          "text": [
            "Генерируем синтетику:  23%|██▎       | 310/1335 [01:20<04:01,  4.24it/s]"
          ]
        },
        {
          "name": "stdout",
          "output_type": "stream",
          "text": [
            "Ты пишешь короткие отзывы жильцов управляющей компании. Пиши строго на русском. Пример отзыва:\n",
            "«Оперативно, благодарю!»\n",
            "\n",
            "Напиши 1 уникальный отзыв по смыслу, похожий на пример (1-2 предложений). Не копируй пример. Можно перефразировать, добавить детали, но отзыв должен быть уникальным.\n",
            "Ты пишешь короткие отзывы жильцов управляющей компании. Пиши строго на русском. Пример отзыва:\n",
            "«Быстро среагировали и решили проблему. Спасибо!»\n",
            "\n",
            "Напиши 1 уникальный отзыв по смыслу, похожий на пример (1-2 предложений). Не копируй пример. Можно перефразировать, добавить детали, но отзыв должен быть уникальным.\n"
          ]
        },
        {
          "name": "stderr",
          "output_type": "stream",
          "text": [
            "Генерируем синтетику:  23%|██▎       | 311/1335 [01:20<03:53,  4.38it/s]"
          ]
        },
        {
          "name": "stdout",
          "output_type": "stream",
          "text": [
            "Ты пишешь короткие отзывы жильцов управляющей компании. Пиши строго на русском. Пример отзыва:\n",
            "«работа выполнена, большое спасибо»\n",
            "\n",
            "Напиши 1 уникальный отзыв по смыслу, похожий на пример (1-2 предложений). Не копируй пример. Можно перефразировать, добавить детали, но отзыв должен быть уникальным.\n"
          ]
        },
        {
          "name": "stderr",
          "output_type": "stream",
          "text": [
            "Генерируем синтетику:  23%|██▎       | 312/1335 [01:20<03:53,  4.39it/s]"
          ]
        },
        {
          "name": "stdout",
          "output_type": "stream",
          "text": [
            "Ты пишешь короткие отзывы жильцов управляющей компании. Пиши строго на русском. Пример отзыва:\n",
            "«БУДЕМ ВЕРИТЬ,ЧТО ДЕЙСТВИТЕЛЬНО ТРАВИЛИ»\n",
            "\n",
            "Напиши 1 уникальный отзыв по смыслу, похожий на пример (1-2 предложений). Не копируй пример. Можно перефразировать, добавить детали, но отзыв должен быть уникальным.\n"
          ]
        },
        {
          "name": "stderr",
          "output_type": "stream",
          "text": [
            "Генерируем синтетику:  23%|██▎       | 313/1335 [01:21<04:11,  4.06it/s]"
          ]
        },
        {
          "name": "stdout",
          "output_type": "stream",
          "text": [
            "Ты пишешь короткие отзывы жильцов управляющей компании. Пиши строго на русском. Пример отзыва:\n",
            "«в квартире никто не проживает, счётчик электроэнергии в квартире отключён, сам нахожусь в другом регионе, возможности разобраться с утречком электроэнергии нет! просьба подробнее помочь разобраться в решении проблемы!»\n",
            "\n",
            "Напиши 1 уникальный отзыв по смыслу, похожий на пример (1-2 предложений). Не копируй пример. Можно перефразировать, добавить детали, но отзыв должен быть уникальным.\n"
          ]
        },
        {
          "name": "stderr",
          "output_type": "stream",
          "text": [
            "Генерируем синтетику:  24%|██▎       | 314/1335 [01:21<04:54,  3.46it/s]"
          ]
        },
        {
          "name": "stdout",
          "output_type": "stream",
          "text": [
            "Ты пишешь короткие отзывы жильцов управляющей компании. Пиши строго на русском. Пример отзыва:\n",
            "«благодарю за оперативное предоставление информации!»\n",
            "\n",
            "Напиши 1 уникальный отзыв по смыслу, похожий на пример (1-2 предложений). Не копируй пример. Можно перефразировать, добавить детали, но отзыв должен быть уникальным.\n"
          ]
        },
        {
          "name": "stderr",
          "output_type": "stream",
          "text": [
            "Генерируем синтетику:  24%|██▎       | 315/1335 [01:21<04:40,  3.63it/s]"
          ]
        },
        {
          "name": "stdout",
          "output_type": "stream",
          "text": [
            "Ты пишешь короткие отзывы жильцов управляющей компании. Пиши строго на русском. Пример отзыва:\n",
            "«Спасибо большое, что починили дверь. Зашла без проблем. Дверь работает отлично. »\n",
            "\n",
            "Напиши 1 уникальный отзыв по смыслу, похожий на пример (1-2 предложений). Не копируй пример. Можно перефразировать, добавить детали, но отзыв должен быть уникальным.\n"
          ]
        },
        {
          "name": "stderr",
          "output_type": "stream",
          "text": [
            "Генерируем синтетику:  24%|██▎       | 316/1335 [01:21<04:37,  3.67it/s]"
          ]
        },
        {
          "name": "stdout",
          "output_type": "stream",
          "text": [
            "Ты пишешь короткие отзывы жильцов управляющей компании. Пиши строго на русском. Пример отзыва:\n",
            "«молодцы.»\n",
            "\n",
            "Напиши 1 уникальный отзыв по смыслу, похожий на пример (1-2 предложений). Не копируй пример. Можно перефразировать, добавить детали, но отзыв должен быть уникальным.\n"
          ]
        },
        {
          "name": "stderr",
          "output_type": "stream",
          "text": [
            "Генерируем синтетику:  24%|██▎       | 317/1335 [01:22<04:24,  3.85it/s]"
          ]
        },
        {
          "name": "stdout",
          "output_type": "stream",
          "text": [
            "Ты пишешь короткие отзывы жильцов управляющей компании. Пиши строго на русском. Пример отзыва:\n",
            "«Ремонт выполнен!»\n",
            "\n",
            "Напиши 1 уникальный отзыв по смыслу, похожий на пример (1-2 предложений). Не копируй пример. Можно перефразировать, добавить детали, но отзыв должен быть уникальным.\n"
          ]
        },
        {
          "name": "stderr",
          "output_type": "stream",
          "text": [
            "Генерируем синтетику:  24%|██▍       | 318/1335 [01:22<04:33,  3.72it/s]"
          ]
        },
        {
          "name": "stdout",
          "output_type": "stream",
          "text": [
            "Ты пишешь короткие отзывы жильцов управляющей компании. Пиши строго на русском. Пример отзыва:\n",
            "«слишком часто ломаются лифты!»\n",
            "\n",
            "Напиши 1 уникальный отзыв по смыслу, похожий на пример (1-2 предложений). Не копируй пример. Можно перефразировать, добавить детали, но отзыв должен быть уникальным.\n"
          ]
        },
        {
          "name": "stderr",
          "output_type": "stream",
          "text": [
            "Генерируем синтетику:  24%|██▍       | 319/1335 [01:22<04:37,  3.66it/s]"
          ]
        },
        {
          "name": "stdout",
          "output_type": "stream",
          "text": [
            "Ты пишешь короткие отзывы жильцов управляющей компании. Пиши строго на русском. Пример отзыва:\n",
            "«Благодарю за оперативное устранение проблемы! Отдельная благодарность мастеру за подробное разъяснение о причинах отсутствия горячейводы, приятное общение и человеческое отношение!!!»\n",
            "\n",
            "Напиши 1 уникальный отзыв по смыслу, похожий на пример (1-2 предложений). Не копируй пример. Можно перефразировать, добавить детали, но отзыв должен быть уникальным.\n"
          ]
        },
        {
          "name": "stderr",
          "output_type": "stream",
          "text": [
            "Генерируем синтетику:  24%|██▍       | 321/1335 [01:23<04:34,  3.69it/s]"
          ]
        },
        {
          "name": "stdout",
          "output_type": "stream",
          "text": [
            "Ты пишешь короткие отзывы жильцов управляющей компании. Пиши строго на русском. Пример отзыва:\n",
            "«спасибо,  очень оперативно»\n",
            "\n",
            "Напиши 1 уникальный отзыв по смыслу, похожий на пример (1-2 предложений). Не копируй пример. Можно перефразировать, добавить детали, но отзыв должен быть уникальным.\n",
            "Ты пишешь короткие отзывы жильцов управляющей компании. Пиши строго на русском. Пример отзыва:\n",
            "«Татьяна оперативно решила вопрос,очень отзывчивая  :thumbs_up: »\n",
            "\n",
            "Если в примере есть код эмодзи вида :smile:, то сохрани стиль — вставь похожий код эмодзи.\n",
            "\n",
            "Напиши 1 уникальный отзыв по смыслу, похожий на пример (1-2 предложений). Не копируй пример. Можно перефразировать, добавить детали, но отзыв должен быть уникальным.\n"
          ]
        },
        {
          "name": "stderr",
          "output_type": "stream",
          "text": [
            "Генерируем синтетику:  24%|██▍       | 323/1335 [01:23<04:04,  4.15it/s]"
          ]
        },
        {
          "name": "stdout",
          "output_type": "stream",
          "text": [
            "Ты пишешь короткие отзывы жильцов управляющей компании. Пиши строго на русском. Пример отзыва:\n",
            "«быстро и хорошо. спасибо!»\n",
            "\n",
            "Напиши 1 уникальный отзыв по смыслу, похожий на пример (1-2 предложений). Не копируй пример. Можно перефразировать, добавить детали, но отзыв должен быть уникальным.\n",
            "Ты пишешь короткие отзывы жильцов управляющей компании. Пиши строго на русском. Пример отзыва:\n",
            "«ситуация стала лучше, но все равно есть перепады давления»\n",
            "\n",
            "Напиши 1 уникальный отзыв по смыслу, похожий на пример (1-2 предложений). Не копируй пример. Можно перефразировать, добавить детали, но отзыв должен быть уникальным.\n"
          ]
        },
        {
          "name": "stderr",
          "output_type": "stream",
          "text": [
            "Генерируем синтетику:  24%|██▍       | 324/1335 [01:23<03:57,  4.26it/s]"
          ]
        },
        {
          "name": "stdout",
          "output_type": "stream",
          "text": [
            "Ты пишешь короткие отзывы жильцов управляющей компании. Пиши строго на русском. Пример отзыва:\n",
            "«Быстро, качественно устранил наш засор »\n",
            "\n",
            "Напиши 1 уникальный отзыв по смыслу, похожий на пример (1-2 предложений). Не копируй пример. Можно перефразировать, добавить детали, но отзыв должен быть уникальным.\n"
          ]
        },
        {
          "name": "stderr",
          "output_type": "stream",
          "text": [
            "Генерируем синтетику:  24%|██▍       | 325/1335 [01:24<03:51,  4.36it/s]"
          ]
        },
        {
          "name": "stdout",
          "output_type": "stream",
          "text": [
            "Ты пишешь короткие отзывы жильцов управляющей компании. Пиши строго на русском. Пример отзыва:\n",
            "«Прекрасно выполненная работа. Получил ценную рекомендацию на будущее. Спасибо!»\n",
            "\n",
            "Напиши 1 уникальный отзыв по смыслу, похожий на пример (1-2 предложений). Не копируй пример. Можно перефразировать, добавить детали, но отзыв должен быть уникальным.\n"
          ]
        },
        {
          "name": "stderr",
          "output_type": "stream",
          "text": [
            "Генерируем синтетику:  24%|██▍       | 326/1335 [01:24<03:54,  4.30it/s]"
          ]
        },
        {
          "name": "stdout",
          "output_type": "stream",
          "text": [
            "Ты пишешь короткие отзывы жильцов управляющей компании. Пиши строго на русском. Пример отзыва:\n",
            "«пришел очень хороший мужчина , все объяснил как нужно сделать .»\n",
            "\n",
            "Напиши 1 уникальный отзыв по смыслу, похожий на пример (1-2 предложений). Не копируй пример. Можно перефразировать, добавить детали, но отзыв должен быть уникальным.\n"
          ]
        },
        {
          "name": "stderr",
          "output_type": "stream",
          "text": [
            "Генерируем синтетику:  24%|██▍       | 327/1335 [01:24<04:20,  3.87it/s]"
          ]
        },
        {
          "name": "stdout",
          "output_type": "stream",
          "text": [
            "Ты пишешь короткие отзывы жильцов управляющей компании. Пиши строго на русском. Пример отзыва:\n",
            "«качество материалов на высшем уровне, водяные счётчики не прожили и двух лет. а цены на квартиры как будто материалы из чистого золота. главное что никто не за что не отвечает.  впрочем ничего нового. стабильность это хорошо!»\n",
            "\n",
            "Напиши 1 уникальный отзыв по смыслу, похожий на пример (1-2 предложений). Не копируй пример. Можно перефразировать, добавить детали, но отзыв должен быть уникальным.\n"
          ]
        },
        {
          "name": "stderr",
          "output_type": "stream",
          "text": [
            "Генерируем синтетику:  25%|██▍       | 328/1335 [01:25<05:30,  3.05it/s]"
          ]
        },
        {
          "name": "stdout",
          "output_type": "stream",
          "text": [
            "Ты пишешь короткие отзывы жильцов управляющей компании. Пиши строго на русском. Пример отзыва:\n",
            "«прошу прислать акт, заключение. на потолке образовалось пятно от протечки»\n",
            "\n",
            "Напиши 1 уникальный отзыв по смыслу, похожий на пример (1-2 предложений). Не копируй пример. Можно перефразировать, добавить детали, но отзыв должен быть уникальным.\n"
          ]
        },
        {
          "name": "stderr",
          "output_type": "stream",
          "text": [
            "Генерируем синтетику:  25%|██▍       | 329/1335 [01:25<06:28,  2.59it/s]"
          ]
        },
        {
          "name": "stdout",
          "output_type": "stream",
          "text": [
            "Ты пишешь короткие отзывы жильцов управляющей компании. Пиши строго на русском. Пример отзыва:\n",
            "«оказали не только услугу по приобретению ключа,но ещё установили приложение УК Самолёт!!!»\n",
            "\n",
            "Напиши 1 уникальный отзыв по смыслу, похожий на пример (1-2 предложений). Не копируй пример. Можно перефразировать, добавить детали, но отзыв должен быть уникальным.\n"
          ]
        },
        {
          "name": "stderr",
          "output_type": "stream",
          "text": [
            "Генерируем синтетику:  25%|██▍       | 331/1335 [01:26<05:11,  3.23it/s]"
          ]
        },
        {
          "name": "stdout",
          "output_type": "stream",
          "text": [
            "Ты пишешь короткие отзывы жильцов управляющей компании. Пиши строго на русском. Пример отзыва:\n",
            "«спасибо, жду перерасчет .»\n",
            "\n",
            "Напиши 1 уникальный отзыв по смыслу, похожий на пример (1-2 предложений). Не копируй пример. Можно перефразировать, добавить детали, но отзыв должен быть уникальным.\n",
            "Ты пишешь короткие отзывы жильцов управляющей компании. Пиши строго на русском. Пример отзыва:\n",
            "«прошу  перенести урну от подъезда, чтобы у людей не было собоазна поставить туда свой бытовой мусор»\n",
            "\n",
            "Напиши 1 уникальный отзыв по смыслу, похожий на пример (1-2 предложений). Не копируй пример. Можно перефразировать, добавить детали, но отзыв должен быть уникальным.\n"
          ]
        },
        {
          "name": "stderr",
          "output_type": "stream",
          "text": [
            "Генерируем синтетику:  25%|██▍       | 332/1335 [01:26<05:02,  3.31it/s]"
          ]
        },
        {
          "name": "stdout",
          "output_type": "stream",
          "text": [
            "Ты пишешь короткие отзывы жильцов управляющей компании. Пиши строго на русском. Пример отзыва:\n",
            "«хотелось бы, чтобы передали информацию в отдел, занимающийся возвратом средств. \n",
            "получается нет взаимодействия смежных отделов в ук»\n",
            "\n",
            "Напиши 1 уникальный отзыв по смыслу, похожий на пример (1-2 предложений). Не копируй пример. Можно перефразировать, добавить детали, но отзыв должен быть уникальным.\n"
          ]
        },
        {
          "name": "stderr",
          "output_type": "stream",
          "text": [
            "Генерируем синтетику:  25%|██▍       | 333/1335 [01:26<05:19,  3.14it/s]"
          ]
        },
        {
          "name": "stdout",
          "output_type": "stream",
          "text": [
            "Ты пишешь короткие отзывы жильцов управляющей компании. Пиши строго на русском. Пример отзыва:\n",
            "«Большое спасибо Василию за проделанную работу!»\n",
            "\n",
            "Напиши 1 уникальный отзыв по смыслу, похожий на пример (1-2 предложений). Не копируй пример. Можно перефразировать, добавить детали, но отзыв должен быть уникальным.\n"
          ]
        },
        {
          "name": "stderr",
          "output_type": "stream",
          "text": [
            "Генерируем синтетику:  25%|██▌       | 335/1335 [01:27<04:30,  3.69it/s]"
          ]
        },
        {
          "name": "stdout",
          "output_type": "stream",
          "text": [
            "Ты пишешь короткие отзывы жильцов управляющей компании. Пиши строго на русском. Пример отзыва:\n",
            "«Благодарю.  Всё отлично  :thumbs_up: . »\n",
            "\n",
            "Если в примере есть код эмодзи вида :smile:, то сохрани стиль — вставь похожий код эмодзи.\n",
            "\n",
            "Напиши 1 уникальный отзыв по смыслу, похожий на пример (1-2 предложений). Не копируй пример. Можно перефразировать, добавить детали, но отзыв должен быть уникальным.\n",
            "Ты пишешь короткие отзывы жильцов управляющей компании. Пиши строго на русском. Пример отзыва:\n",
            "«кнопки не светятся при нажатии»\n",
            "\n",
            "Напиши 1 уникальный отзыв по смыслу, похожий на пример (1-2 предложений). Не копируй пример. Можно перефразировать, добавить детали, но отзыв должен быть уникальным.\n"
          ]
        },
        {
          "name": "stderr",
          "output_type": "stream",
          "text": [
            "Генерируем синтетику:  25%|██▌       | 337/1335 [01:27<03:57,  4.20it/s]"
          ]
        },
        {
          "name": "stdout",
          "output_type": "stream",
          "text": [
            "Ты пишешь короткие отзывы жильцов управляющей компании. Пиши строго на русском. Пример отзыва:\n",
            "«прильи быстро, спасибо»\n",
            "\n",
            "Напиши 1 уникальный отзыв по смыслу, похожий на пример (1-2 предложений). Не копируй пример. Можно перефразировать, добавить детали, но отзыв должен быть уникальным.\n",
            "Ты пишешь короткие отзывы жильцов управляющей компании. Пиши строго на русском. Пример отзыва:\n",
            "«по самой консультации вопросов нет. а вот то, что при обновлении приложения \"слетают\" настройки - нехорошо»\n",
            "\n",
            "Напиши 1 уникальный отзыв по смыслу, похожий на пример (1-2 предложений). Не копируй пример. Можно перефразировать, добавить детали, но отзыв должен быть уникальным.\n"
          ]
        },
        {
          "name": "stderr",
          "output_type": "stream",
          "text": [
            "Генерируем синтетику:  25%|██▌       | 338/1335 [01:28<04:13,  3.93it/s]"
          ]
        },
        {
          "name": "stdout",
          "output_type": "stream",
          "text": [
            "Ты пишешь короткие отзывы жильцов управляющей компании. Пиши строго на русском. Пример отзыва:\n",
            "«выполнил работу на совесть, надеюсь, проблем дальше не возникнет.»\n",
            "\n",
            "Напиши 1 уникальный отзыв по смыслу, похожий на пример (1-2 предложений). Не копируй пример. Можно перефразировать, добавить детали, но отзыв должен быть уникальным.\n"
          ]
        },
        {
          "name": "stderr",
          "output_type": "stream",
          "text": [
            "Генерируем синтетику:  25%|██▌       | 339/1335 [01:28<04:20,  3.83it/s]"
          ]
        },
        {
          "name": "stdout",
          "output_type": "stream",
          "text": [
            "Ты пишешь короткие отзывы жильцов управляющей компании. Пиши строго на русском. Пример отзыва:\n",
            "«мастер просто супер! сделал всё на высшем уровне, спасибо большое  :thumbs_up: »\n",
            "\n",
            "Если в примере есть код эмодзи вида :smile:, то сохрани стиль — вставь похожий код эмодзи.\n",
            "\n",
            "Напиши 1 уникальный отзыв по смыслу, похожий на пример (1-2 предложений). Не копируй пример. Можно перефразировать, добавить детали, но отзыв должен быть уникальным.\n"
          ]
        },
        {
          "name": "stderr",
          "output_type": "stream",
          "text": [
            "Генерируем синтетику:  25%|██▌       | 340/1335 [01:28<04:36,  3.60it/s]"
          ]
        },
        {
          "name": "stdout",
          "output_type": "stream",
          "text": [
            "Ты пишешь короткие отзывы жильцов управляющей компании. Пиши строго на русском. Пример отзыва:\n",
            "«спасибо что поставили, теперь ждем отопления чтоб понять работает или нет. »\n",
            "\n",
            "Напиши 1 уникальный отзыв по смыслу, похожий на пример (1-2 предложений). Не копируй пример. Можно перефразировать, добавить детали, но отзыв должен быть уникальным.\n"
          ]
        },
        {
          "name": "stderr",
          "output_type": "stream",
          "text": [
            "Генерируем синтетику:  26%|██▌       | 341/1335 [01:28<04:29,  3.69it/s]"
          ]
        },
        {
          "name": "stdout",
          "output_type": "stream",
          "text": [
            "Ты пишешь короткие отзывы жильцов управляющей компании. Пиши строго на русском. Пример отзыва:\n",
            "«Спасибо Вам большое и за дверь и за номера квартир!»\n",
            "\n",
            "Напиши 1 уникальный отзыв по смыслу, похожий на пример (1-2 предложений). Не копируй пример. Можно перефразировать, добавить детали, но отзыв должен быть уникальным.\n"
          ]
        },
        {
          "name": "stderr",
          "output_type": "stream",
          "text": [
            "Генерируем синтетику:  26%|██▌       | 342/1335 [01:29<04:21,  3.80it/s]"
          ]
        },
        {
          "name": "stdout",
          "output_type": "stream",
          "text": [
            "Ты пишешь короткие отзывы жильцов управляющей компании. Пиши строго на русском. Пример отзыва:\n",
            "«вопрос решён »\n",
            "\n",
            "Напиши 1 уникальный отзыв по смыслу, похожий на пример (1-2 предложений). Не копируй пример. Можно перефразировать, добавить детали, но отзыв должен быть уникальным.\n"
          ]
        },
        {
          "name": "stderr",
          "output_type": "stream",
          "text": [
            "Генерируем синтетику:  26%|██▌       | 344/1335 [01:29<03:52,  4.26it/s]"
          ]
        },
        {
          "name": "stdout",
          "output_type": "stream",
          "text": [
            "Ты пишешь короткие отзывы жильцов управляющей компании. Пиши строго на русском. Пример отзыва:\n",
            "«спасибо большое за помощь»\n",
            "\n",
            "Напиши 1 уникальный отзыв по смыслу, похожий на пример (1-2 предложений). Не копируй пример. Можно перефразировать, добавить детали, но отзыв должен быть уникальным.\n",
            "Ты пишешь короткие отзывы жильцов управляющей компании. Пиши строго на русском. Пример отзыва:\n",
            "«быстро, для подъезда вполне хорошо)»\n",
            "\n",
            "Напиши 1 уникальный отзыв по смыслу, похожий на пример (1-2 предложений). Не копируй пример. Можно перефразировать, добавить детали, но отзыв должен быть уникальным.\n"
          ]
        },
        {
          "name": "stderr",
          "output_type": "stream",
          "text": [
            "Генерируем синтетику:  26%|██▌       | 345/1335 [01:29<03:44,  4.41it/s]"
          ]
        },
        {
          "name": "stdout",
          "output_type": "stream",
          "text": [
            "Ты пишешь короткие отзывы жильцов управляющей компании. Пиши строго на русском. Пример отзыва:\n",
            "«Все четко объяснили, вопросов не осталось»\n",
            "\n",
            "Напиши 1 уникальный отзыв по смыслу, похожий на пример (1-2 предложений). Не копируй пример. Можно перефразировать, добавить детали, но отзыв должен быть уникальным.\n"
          ]
        },
        {
          "name": "stderr",
          "output_type": "stream",
          "text": [
            "Генерируем синтетику:  26%|██▌       | 346/1335 [01:30<03:59,  4.12it/s]"
          ]
        },
        {
          "name": "stdout",
          "output_type": "stream",
          "text": [
            "Ты пишешь короткие отзывы жильцов управляющей компании. Пиши строго на русском. Пример отзыва:\n",
            "«хорошо только цвет другой»\n",
            "\n",
            "Напиши 1 уникальный отзыв по смыслу, похожий на пример (1-2 предложений). Не копируй пример. Можно перефразировать, добавить детали, но отзыв должен быть уникальным.\n"
          ]
        },
        {
          "name": "stderr",
          "output_type": "stream",
          "text": [
            "Генерируем синтетику:  26%|██▌       | 347/1335 [01:30<03:55,  4.20it/s]"
          ]
        },
        {
          "name": "stdout",
          "output_type": "stream",
          "text": [
            "Ты пишешь короткие отзывы жильцов управляющей компании. Пиши строго на русском. Пример отзыва:\n",
            "«Спасибо за оперативную обратную связь  :heart_hands: »\n",
            "\n",
            "Если в примере есть код эмодзи вида :smile:, то сохрани стиль — вставь похожий код эмодзи.\n",
            "\n",
            "Напиши 1 уникальный отзыв по смыслу, похожий на пример (1-2 предложений). Не копируй пример. Можно перефразировать, добавить детали, но отзыв должен быть уникальным.\n"
          ]
        },
        {
          "name": "stderr",
          "output_type": "stream",
          "text": [
            "Генерируем синтетику:  26%|██▌       | 348/1335 [01:30<03:45,  4.38it/s]"
          ]
        },
        {
          "name": "stdout",
          "output_type": "stream",
          "text": [
            "Ты пишешь короткие отзывы жильцов управляющей компании. Пиши строго на русском. Пример отзыва:\n",
            "«спасибо  :thumbs_up:  :light_skin_tone: »\n",
            "\n",
            "Если в примере есть код эмодзи вида :smile:, то сохрани стиль — вставь похожий код эмодзи.\n",
            "\n",
            "Напиши 1 уникальный отзыв по смыслу, похожий на пример (1-2 предложений). Не копируй пример. Можно перефразировать, добавить детали, но отзыв должен быть уникальным.\n"
          ]
        },
        {
          "name": "stderr",
          "output_type": "stream",
          "text": [
            "Генерируем синтетику:  26%|██▌       | 349/1335 [01:30<03:51,  4.27it/s]"
          ]
        },
        {
          "name": "stdout",
          "output_type": "stream",
          "text": [
            "Ты пишешь короткие отзывы жильцов управляющей компании. Пиши строго на русском. Пример отзыва:\n",
            "«Отлично все сделано 5 балов.»\n",
            "\n",
            "Напиши 1 уникальный отзыв по смыслу, похожий на пример (1-2 предложений). Не копируй пример. Можно перефразировать, добавить детали, но отзыв должен быть уникальным.\n"
          ]
        },
        {
          "name": "stderr",
          "output_type": "stream",
          "text": [
            "Генерируем синтетику:  26%|██▌       | 350/1335 [01:31<03:57,  4.16it/s]"
          ]
        },
        {
          "name": "stdout",
          "output_type": "stream",
          "text": [
            "Ты пишешь короткие отзывы жильцов управляющей компании. Пиши строго на русском. Пример отзыва:\n",
            "«отзывчивые, приятные, готовы были сразу оформить акт, но ещё раз проверили сушилку, и обнаружили, сто есть кнопка включения»\n",
            "\n",
            "Напиши 1 уникальный отзыв по смыслу, похожий на пример (1-2 предложений). Не копируй пример. Можно перефразировать, добавить детали, но отзыв должен быть уникальным.\n"
          ]
        },
        {
          "name": "stderr",
          "output_type": "stream",
          "text": [
            "Генерируем синтетику:  26%|██▋       | 351/1335 [01:31<04:36,  3.56it/s]"
          ]
        },
        {
          "name": "stdout",
          "output_type": "stream",
          "text": [
            "Ты пишешь короткие отзывы жильцов управляющей компании. Пиши строго на русском. Пример отзыва:\n",
            "«нет даты заключения договора»\n",
            "\n",
            "Напиши 1 уникальный отзыв по смыслу, похожий на пример (1-2 предложений). Не копируй пример. Можно перефразировать, добавить детали, но отзыв должен быть уникальным.\n"
          ]
        },
        {
          "name": "stderr",
          "output_type": "stream",
          "text": [
            "Генерируем синтетику:  26%|██▋       | 352/1335 [01:31<04:16,  3.83it/s]"
          ]
        },
        {
          "name": "stdout",
          "output_type": "stream",
          "text": [
            "Ты пишешь короткие отзывы жильцов управляющей компании. Пиши строго на русском. Пример отзыва:\n",
            "«спасибо большое вам за качественную работу.»\n",
            "\n",
            "Напиши 1 уникальный отзыв по смыслу, похожий на пример (1-2 предложений). Не копируй пример. Можно перефразировать, добавить детали, но отзыв должен быть уникальным.\n"
          ]
        },
        {
          "name": "stderr",
          "output_type": "stream",
          "text": [
            "Генерируем синтетику:  26%|██▋       | 353/1335 [01:31<04:05,  4.00it/s]"
          ]
        },
        {
          "name": "stdout",
          "output_type": "stream",
          "text": [
            "Ты пишешь короткие отзывы жильцов управляющей компании. Пиши строго на русском. Пример отзыва:\n",
            "«Оперативно как всегда »\n",
            "\n",
            "Напиши 1 уникальный отзыв по смыслу, похожий на пример (1-2 предложений). Не копируй пример. Можно перефразировать, добавить детали, но отзыв должен быть уникальным.\n"
          ]
        },
        {
          "name": "stderr",
          "output_type": "stream",
          "text": [
            "Генерируем синтетику:  27%|██▋       | 354/1335 [01:32<04:00,  4.08it/s]"
          ]
        },
        {
          "name": "stdout",
          "output_type": "stream",
          "text": [
            "Ты пишешь короткие отзывы жильцов управляющей компании. Пиши строго на русском. Пример отзыва:\n",
            "«Отличная работа! очень профессиональный и вежливый сотрудник!»\n",
            "\n",
            "Напиши 1 уникальный отзыв по смыслу, похожий на пример (1-2 предложений). Не копируй пример. Можно перефразировать, добавить детали, но отзыв должен быть уникальным.\n"
          ]
        },
        {
          "name": "stderr",
          "output_type": "stream",
          "text": [
            "Генерируем синтетику:  27%|██▋       | 356/1335 [01:32<03:51,  4.23it/s]"
          ]
        },
        {
          "name": "stdout",
          "output_type": "stream",
          "text": [
            "Ты пишешь короткие отзывы жильцов управляющей компании. Пиши строго на русском. Пример отзыва:\n",
            "«всё очень быстро сделали »\n",
            "\n",
            "Напиши 1 уникальный отзыв по смыслу, похожий на пример (1-2 предложений). Не копируй пример. Можно перефразировать, добавить детали, но отзыв должен быть уникальным.\n",
            "Ты пишешь короткие отзывы жильцов управляющей компании. Пиши строго на русском. Пример отзыва:\n",
            "«доводчик заменили в тот же день, спасибо.»\n",
            "\n",
            "Напиши 1 уникальный отзыв по смыслу, похожий на пример (1-2 предложений). Не копируй пример. Можно перефразировать, добавить детали, но отзыв должен быть уникальным.\n"
          ]
        },
        {
          "name": "stderr",
          "output_type": "stream",
          "text": [
            "Генерируем синтетику:  27%|██▋       | 357/1335 [01:32<03:35,  4.53it/s]"
          ]
        },
        {
          "name": "stdout",
          "output_type": "stream",
          "text": [
            "Ты пишешь короткие отзывы жильцов управляющей компании. Пиши строго на русском. Пример отзыва:\n",
            "«Все хорошо !  Быстро пришел мастер сделал все четко . »\n",
            "\n",
            "Напиши 1 уникальный отзыв по смыслу, похожий на пример (1-2 предложений). Не копируй пример. Можно перефразировать, добавить детали, но отзыв должен быть уникальным.\n"
          ]
        },
        {
          "name": "stderr",
          "output_type": "stream",
          "text": [
            "Генерируем синтетику:  27%|██▋       | 358/1335 [01:32<03:41,  4.41it/s]"
          ]
        },
        {
          "name": "stdout",
          "output_type": "stream",
          "text": [
            "Ты пишешь короткие отзывы жильцов управляющей компании. Пиши строго на русском. Пример отзыва:\n",
            "«проблема не решена,но даны исчерпывающие разъяснения и рекомеедации»\n",
            "\n",
            "Напиши 1 уникальный отзыв по смыслу, похожий на пример (1-2 предложений). Не копируй пример. Можно перефразировать, добавить детали, но отзыв должен быть уникальным.\n"
          ]
        },
        {
          "name": "stderr",
          "output_type": "stream",
          "text": [
            "Генерируем синтетику:  27%|██▋       | 360/1335 [01:33<03:34,  4.53it/s]"
          ]
        },
        {
          "name": "stdout",
          "output_type": "stream",
          "text": [
            "Ты пишешь короткие отзывы жильцов управляющей компании. Пиши строго на русском. Пример отзыва:\n",
            "«Быстро !»\n",
            "\n",
            "Напиши 1 уникальный отзыв по смыслу, похожий на пример (1-2 предложений). Не копируй пример. Можно перефразировать, добавить детали, но отзыв должен быть уникальным.\n",
            "Ты пишешь короткие отзывы жильцов управляющей компании. Пиши строго на русском. Пример отзыва:\n",
            "«спасибо большое, двери открываются»\n",
            "\n",
            "Напиши 1 уникальный отзыв по смыслу, похожий на пример (1-2 предложений). Не копируй пример. Можно перефразировать, добавить детали, но отзыв должен быть уникальным.\n"
          ]
        },
        {
          "name": "stderr",
          "output_type": "stream",
          "text": [
            "Генерируем синтетику:  27%|██▋       | 361/1335 [01:33<03:30,  4.63it/s]"
          ]
        },
        {
          "name": "stdout",
          "output_type": "stream",
          "text": [
            "Ты пишешь короткие отзывы жильцов управляющей компании. Пиши строго на русском. Пример отзыва:\n",
            "«не могу найти как открыть новую»\n",
            "\n",
            "Напиши 1 уникальный отзыв по смыслу, похожий на пример (1-2 предложений). Не копируй пример. Можно перефразировать, добавить детали, но отзыв должен быть уникальным.\n"
          ]
        },
        {
          "name": "stderr",
          "output_type": "stream",
          "text": [
            "Генерируем синтетику:  27%|██▋       | 362/1335 [01:33<03:29,  4.64it/s]"
          ]
        },
        {
          "name": "stdout",
          "output_type": "stream",
          "text": [
            "Ты пишешь короткие отзывы жильцов управляющей компании. Пиши строго на русском. Пример отзыва:\n",
            "«Все очень хорошо »\n",
            "\n",
            "Напиши 1 уникальный отзыв по смыслу, похожий на пример (1-2 предложений). Не копируй пример. Можно перефразировать, добавить детали, но отзыв должен быть уникальным.\n"
          ]
        },
        {
          "name": "stderr",
          "output_type": "stream",
          "text": [
            "Генерируем синтетику:  27%|██▋       | 363/1335 [01:34<03:26,  4.70it/s]"
          ]
        },
        {
          "name": "stdout",
          "output_type": "stream",
          "text": [
            "Ты пишешь короткие отзывы жильцов управляющей компании. Пиши строго на русском. Пример отзыва:\n",
            "«Заявка была отработана в течение 5-ти минут.  Благодарю за оперативность!»\n",
            "\n",
            "Напиши 1 уникальный отзыв по смыслу, похожий на пример (1-2 предложений). Не копируй пример. Можно перефразировать, добавить детали, но отзыв должен быть уникальным.\n"
          ]
        },
        {
          "name": "stderr",
          "output_type": "stream",
          "text": [
            "Генерируем синтетику:  27%|██▋       | 365/1335 [01:34<03:17,  4.90it/s]"
          ]
        },
        {
          "name": "stdout",
          "output_type": "stream",
          "text": [
            "Ты пишешь короткие отзывы жильцов управляющей компании. Пиши строго на русском. Пример отзыва:\n",
            "«благодарю вас за быструю услугу.»\n",
            "\n",
            "Напиши 1 уникальный отзыв по смыслу, похожий на пример (1-2 предложений). Не копируй пример. Можно перефразировать, добавить детали, но отзыв должен быть уникальным.\n",
            "Ты пишешь короткие отзывы жильцов управляющей компании. Пиши строго на русском. Пример отзыва:\n",
            "«молодцы. спасибо!»\n",
            "\n",
            "Напиши 1 уникальный отзыв по смыслу, похожий на пример (1-2 предложений). Не копируй пример. Можно перефразировать, добавить детали, но отзыв должен быть уникальным.\n"
          ]
        },
        {
          "name": "stderr",
          "output_type": "stream",
          "text": [
            "Генерируем синтетику:  27%|██▋       | 366/1335 [01:34<03:07,  5.16it/s]"
          ]
        },
        {
          "name": "stdout",
          "output_type": "stream",
          "text": [
            "Ты пишешь короткие отзывы жильцов управляющей компании. Пиши строго на русском. Пример отзыва:\n",
            "«оперативно. спасибо, что не заставили ждать окончания праздников. с новым годом»\n",
            "\n",
            "Напиши 1 уникальный отзыв по смыслу, похожий на пример (1-2 предложений). Не копируй пример. Можно перефразировать, добавить детали, но отзыв должен быть уникальным.\n"
          ]
        },
        {
          "name": "stderr",
          "output_type": "stream",
          "text": [
            "Генерируем синтетику:  27%|██▋       | 367/1335 [01:34<03:49,  4.22it/s]"
          ]
        },
        {
          "name": "stdout",
          "output_type": "stream",
          "text": [
            "Ты пишешь короткие отзывы жильцов управляющей компании. Пиши строго на русском. Пример отзыва:\n",
            "«никто не приходил»\n",
            "\n",
            "Напиши 1 уникальный отзыв по смыслу, похожий на пример (1-2 предложений). Не копируй пример. Можно перефразировать, добавить детали, но отзыв должен быть уникальным.\n"
          ]
        },
        {
          "name": "stderr",
          "output_type": "stream",
          "text": [
            "Генерируем синтетику:  28%|██▊       | 368/1335 [01:35<04:00,  4.02it/s]"
          ]
        },
        {
          "name": "stdout",
          "output_type": "stream",
          "text": [
            "Ты пишешь короткие отзывы жильцов управляющей компании. Пиши строго на русском. Пример отзыва:\n",
            "«решили сами»\n",
            "\n",
            "Напиши 1 уникальный отзыв по смыслу, похожий на пример (1-2 предложений). Не копируй пример. Можно перефразировать, добавить детали, но отзыв должен быть уникальным.\n"
          ]
        },
        {
          "name": "stderr",
          "output_type": "stream",
          "text": [
            "Генерируем синтетику:  28%|██▊       | 369/1335 [01:35<03:51,  4.17it/s]"
          ]
        },
        {
          "name": "stdout",
          "output_type": "stream",
          "text": [
            "Ты пишешь короткие отзывы жильцов управляющей компании. Пиши строго на русском. Пример отзыва:\n",
            "«подсказали куда обратиться для решения вопроса»\n",
            "\n",
            "Напиши 1 уникальный отзыв по смыслу, похожий на пример (1-2 предложений). Не копируй пример. Можно перефразировать, добавить детали, но отзыв должен быть уникальным.\n"
          ]
        },
        {
          "name": "stderr",
          "output_type": "stream",
          "text": [
            "Генерируем синтетику:  28%|██▊       | 370/1335 [01:35<03:54,  4.12it/s]"
          ]
        },
        {
          "name": "stdout",
          "output_type": "stream",
          "text": [
            "Ты пишешь короткие отзывы жильцов управляющей компании. Пиши строго на русском. Пример отзыва:\n",
            "«всё супер  :thumbs_up: »\n",
            "\n",
            "Если в примере есть код эмодзи вида :smile:, то сохрани стиль — вставь похожий код эмодзи.\n",
            "\n",
            "Напиши 1 уникальный отзыв по смыслу, похожий на пример (1-2 предложений). Не копируй пример. Можно перефразировать, добавить детали, но отзыв должен быть уникальным.\n"
          ]
        },
        {
          "name": "stderr",
          "output_type": "stream",
          "text": [
            "Генерируем синтетику:  28%|██▊       | 372/1335 [01:36<03:30,  4.57it/s]"
          ]
        },
        {
          "name": "stdout",
          "output_type": "stream",
          "text": [
            "Ты пишешь короткие отзывы жильцов управляющей компании. Пиши строго на русском. Пример отзыва:\n",
            "«супер оперативно, спасибо)»\n",
            "\n",
            "Напиши 1 уникальный отзыв по смыслу, похожий на пример (1-2 предложений). Не копируй пример. Можно перефразировать, добавить детали, но отзыв должен быть уникальным.\n",
            "Ты пишешь короткие отзывы жильцов управляющей компании. Пиши строго на русском. Пример отзыва:\n",
            "«всю ночь стоят палеты и стеллажи у подъезда»\n",
            "\n",
            "Напиши 1 уникальный отзыв по смыслу, похожий на пример (1-2 предложений). Не копируй пример. Можно перефразировать, добавить детали, но отзыв должен быть уникальным.\n"
          ]
        },
        {
          "name": "stderr",
          "output_type": "stream",
          "text": [
            "Генерируем синтетику:  28%|██▊       | 373/1335 [01:36<03:38,  4.40it/s]"
          ]
        },
        {
          "name": "stdout",
          "output_type": "stream",
          "text": [
            "Ты пишешь короткие отзывы жильцов управляющей компании. Пиши строго на русском. Пример отзыва:\n",
            "«Благодарю от имени деток и их родителей!»\n",
            "\n",
            "Напиши 1 уникальный отзыв по смыслу, похожий на пример (1-2 предложений). Не копируй пример. Можно перефразировать, добавить детали, но отзыв должен быть уникальным.\n"
          ]
        },
        {
          "name": "stderr",
          "output_type": "stream",
          "text": [
            "Генерируем синтетику:  28%|██▊       | 374/1335 [01:36<03:56,  4.07it/s]"
          ]
        },
        {
          "name": "stdout",
          "output_type": "stream",
          "text": [
            "Ты пишешь короткие отзывы жильцов управляющей компании. Пиши строго на русском. Пример отзыва:\n",
            "«Быстро устранили :thumbs_up:  :light_skin_tone: »\n",
            "\n",
            "Если в примере есть код эмодзи вида :smile:, то сохрани стиль — вставь похожий код эмодзи.\n",
            "\n",
            "Напиши 1 уникальный отзыв по смыслу, похожий на пример (1-2 предложений). Не копируй пример. Можно перефразировать, добавить детали, но отзыв должен быть уникальным.\n"
          ]
        },
        {
          "name": "stderr",
          "output_type": "stream",
          "text": [
            "Генерируем синтетику:  28%|██▊       | 375/1335 [01:36<03:51,  4.14it/s]"
          ]
        },
        {
          "name": "stdout",
          "output_type": "stream",
          "text": [
            "Ты пишешь короткие отзывы жильцов управляющей компании. Пиши строго на русском. Пример отзыва:\n",
            "«Отлично!!!»\n",
            "\n",
            "Напиши 1 уникальный отзыв по смыслу, похожий на пример (1-2 предложений). Не копируй пример. Можно перефразировать, добавить детали, но отзыв должен быть уникальным.\n"
          ]
        },
        {
          "name": "stderr",
          "output_type": "stream",
          "text": [
            "Генерируем синтетику:  28%|██▊       | 376/1335 [01:37<03:51,  4.14it/s]"
          ]
        },
        {
          "name": "stdout",
          "output_type": "stream",
          "text": [
            "Ты пишешь короткие отзывы жильцов управляющей компании. Пиши строго на русском. Пример отзыва:\n",
            "«спасибо , все работает. жаль, что медленно отрабатываются платные заявки  :pensive_face: »\n",
            "\n",
            "Если в примере есть код эмодзи вида :smile:, то сохрани стиль — вставь похожий код эмодзи.\n",
            "\n",
            "Напиши 1 уникальный отзыв по смыслу, похожий на пример (1-2 предложений). Не копируй пример. Можно перефразировать, добавить детали, но отзыв должен быть уникальным.\n"
          ]
        },
        {
          "name": "stderr",
          "output_type": "stream",
          "text": [
            "Генерируем синтетику:  28%|██▊       | 377/1335 [01:37<04:03,  3.93it/s]"
          ]
        },
        {
          "name": "stdout",
          "output_type": "stream",
          "text": [
            "Ты пишешь короткие отзывы жильцов управляющей компании. Пиши строго на русском. Пример отзыва:\n",
            "«указанные ключи не работают. ростелеком 2 раза их перепрошивал, не открывают дверь. из приложения дверь открывается, клбчом нет. ерт от»\n",
            "\n",
            "Напиши 1 уникальный отзыв по смыслу, похожий на пример (1-2 предложений). Не копируй пример. Можно перефразировать, добавить детали, но отзыв должен быть уникальным.\n"
          ]
        },
        {
          "name": "stderr",
          "output_type": "stream",
          "text": [
            "Генерируем синтетику:  28%|██▊       | 378/1335 [01:37<04:50,  3.29it/s]"
          ]
        },
        {
          "name": "stdout",
          "output_type": "stream",
          "text": [
            "Ты пишешь короткие отзывы жильцов управляющей компании. Пиши строго на русском. Пример отзыва:\n",
            "«Очень оперативно и никуда не пришлось ходить.»\n",
            "\n",
            "Напиши 1 уникальный отзыв по смыслу, похожий на пример (1-2 предложений). Не копируй пример. Можно перефразировать, добавить детали, но отзыв должен быть уникальным.\n"
          ]
        },
        {
          "name": "stderr",
          "output_type": "stream",
          "text": [
            "Генерируем синтетику:  28%|██▊       | 379/1335 [01:38<04:29,  3.54it/s]"
          ]
        },
        {
          "name": "stdout",
          "output_type": "stream",
          "text": [
            "Ты пишешь короткие отзывы жильцов управляющей компании. Пиши строго на русском. Пример отзыва:\n",
            "«неверные показания»\n",
            "\n",
            "Напиши 1 уникальный отзыв по смыслу, похожий на пример (1-2 предложений). Не копируй пример. Можно перефразировать, добавить детали, но отзыв должен быть уникальным.\n"
          ]
        },
        {
          "name": "stderr",
          "output_type": "stream",
          "text": [
            "Генерируем синтетику:  28%|██▊       | 380/1335 [01:38<04:24,  3.61it/s]"
          ]
        },
        {
          "name": "stdout",
          "output_type": "stream",
          "text": [
            "Ты пишешь короткие отзывы жильцов управляющей компании. Пиши строго на русском. Пример отзыва:\n",
            "«Сразу бы так»\n",
            "\n",
            "Напиши 1 уникальный отзыв по смыслу, похожий на пример (1-2 предложений). Не копируй пример. Можно перефразировать, добавить детали, но отзыв должен быть уникальным.\n"
          ]
        },
        {
          "name": "stderr",
          "output_type": "stream",
          "text": [
            "Генерируем синтетику:  29%|██▊       | 381/1335 [01:38<04:09,  3.82it/s]"
          ]
        },
        {
          "name": "stdout",
          "output_type": "stream",
          "text": [
            "Ты пишешь короткие отзывы жильцов управляющей компании. Пиши строго на русском. Пример отзыва:\n",
            "«Спасибо что в нашей УК есть такие специалисты.\n",
            "Причина отсутствия электричества была найдена сразу и быстро устранена.»\n",
            "\n",
            "Напиши 1 уникальный отзыв по смыслу, похожий на пример (1-2 предложений). Не копируй пример. Можно перефразировать, добавить детали, но отзыв должен быть уникальным.\n"
          ]
        },
        {
          "name": "stderr",
          "output_type": "stream",
          "text": [
            "Генерируем синтетику:  29%|██▊       | 382/1335 [01:38<04:47,  3.31it/s]"
          ]
        },
        {
          "name": "stdout",
          "output_type": "stream",
          "text": [
            "Ты пишешь короткие отзывы жильцов управляющей компании. Пиши строго на русском. Пример отзыва:\n",
            "«быстро отреагировали на заявку и опломбировали то же быстро. осталась довольна. спасибо»\n",
            "\n",
            "Напиши 1 уникальный отзыв по смыслу, похожий на пример (1-2 предложений). Не копируй пример. Можно перефразировать, добавить детали, но отзыв должен быть уникальным.\n"
          ]
        },
        {
          "name": "stderr",
          "output_type": "stream",
          "text": [
            "Генерируем синтетику:  29%|██▊       | 383/1335 [01:39<04:30,  3.52it/s]"
          ]
        },
        {
          "name": "stdout",
          "output_type": "stream",
          "text": [
            "Ты пишешь короткие отзывы жильцов управляющей компании. Пиши строго на русском. Пример отзыва:\n",
            "«почему не дает вносить показания электроэнергии в приложении?»\n",
            "\n",
            "Напиши 1 уникальный отзыв по смыслу, похожий на пример (1-2 предложений). Не копируй пример. Можно перефразировать, добавить детали, но отзыв должен быть уникальным.\n"
          ]
        },
        {
          "name": "stderr",
          "output_type": "stream",
          "text": [
            "Генерируем синтетику:  29%|██▉       | 384/1335 [01:39<04:35,  3.45it/s]"
          ]
        },
        {
          "name": "stdout",
          "output_type": "stream",
          "text": [
            "Ты пишешь короткие отзывы жильцов управляющей компании. Пиши строго на русском. Пример отзыва:\n",
            "«благодарю мастера, всё объяснил и дал рекомендации»\n",
            "\n",
            "Напиши 1 уникальный отзыв по смыслу, похожий на пример (1-2 предложений). Не копируй пример. Можно перефразировать, добавить детали, но отзыв должен быть уникальным.\n"
          ]
        },
        {
          "name": "stderr",
          "output_type": "stream",
          "text": [
            "Генерируем синтетику:  29%|██▉       | 385/1335 [01:39<04:43,  3.35it/s]"
          ]
        },
        {
          "name": "stdout",
          "output_type": "stream",
          "text": [
            "Ты пишешь короткие отзывы жильцов управляющей компании. Пиши строго на русском. Пример отзыва:\n",
            "«добрый день, я просил составить заявку по уборке лестничного марша. по поводу уборки в коридорах у меня пока нет претензий. прошу навести порядок на лестничном марше»\n",
            "\n",
            "Напиши 1 уникальный отзыв по смыслу, похожий на пример (1-2 предложений). Не копируй пример. Можно перефразировать, добавить детали, но отзыв должен быть уникальным.\n"
          ]
        },
        {
          "name": "stderr",
          "output_type": "stream",
          "text": [
            "Генерируем синтетику:  29%|██▉       | 386/1335 [01:40<05:40,  2.78it/s]"
          ]
        },
        {
          "name": "stdout",
          "output_type": "stream",
          "text": [
            "Ты пишешь короткие отзывы жильцов управляющей компании. Пиши строго на русском. Пример отзыва:\n",
            "«спасибо огромное. но уборка лифта это временное решение проблеммы. потому что в них гадят систематически. просьба выявить и наказать нарушителей»\n",
            "\n",
            "Напиши 1 уникальный отзыв по смыслу, похожий на пример (1-2 предложений). Не копируй пример. Можно перефразировать, добавить детали, но отзыв должен быть уникальным.\n"
          ]
        },
        {
          "name": "stderr",
          "output_type": "stream",
          "text": [
            "Генерируем синтетику:  29%|██▉       | 388/1335 [01:40<04:50,  3.26it/s]"
          ]
        },
        {
          "name": "stdout",
          "output_type": "stream",
          "text": [
            "Ты пишешь короткие отзывы жильцов управляющей компании. Пиши строго на русском. Пример отзыва:\n",
            "«Спасибо, оператор умничка»\n",
            "\n",
            "Напиши 1 уникальный отзыв по смыслу, похожий на пример (1-2 предложений). Не копируй пример. Можно перефразировать, добавить детали, но отзыв должен быть уникальным.\n",
            "Ты пишешь короткие отзывы жильцов управляющей компании. Пиши строго на русском. Пример отзыва:\n",
            "«спасибо за оперативный ответ»\n",
            "\n",
            "Напиши 1 уникальный отзыв по смыслу, похожий на пример (1-2 предложений). Не копируй пример. Можно перефразировать, добавить детали, но отзыв должен быть уникальным.\n"
          ]
        },
        {
          "name": "stderr",
          "output_type": "stream",
          "text": [
            "Генерируем синтетику:  29%|██▉       | 389/1335 [01:41<04:31,  3.48it/s]"
          ]
        },
        {
          "name": "stdout",
          "output_type": "stream",
          "text": [
            "Ты пишешь короткие отзывы жильцов управляющей компании. Пиши строго на русском. Пример отзыва:\n",
            "«спасибо, хоть и очень не оперативно, заявка выполнена»\n",
            "\n",
            "Напиши 1 уникальный отзыв по смыслу, похожий на пример (1-2 предложений). Не копируй пример. Можно перефразировать, добавить детали, но отзыв должен быть уникальным.\n"
          ]
        },
        {
          "name": "stderr",
          "output_type": "stream",
          "text": [
            "Генерируем синтетику:  29%|██▉       | 391/1335 [01:41<03:56,  4.00it/s]"
          ]
        },
        {
          "name": "stdout",
          "output_type": "stream",
          "text": [
            "Ты пишешь короткие отзывы жильцов управляющей компании. Пиши строго на русском. Пример отзыва:\n",
            "«все отлично, спасибо»\n",
            "\n",
            "Напиши 1 уникальный отзыв по смыслу, похожий на пример (1-2 предложений). Не копируй пример. Можно перефразировать, добавить детали, но отзыв должен быть уникальным.\n",
            "Ты пишешь короткие отзывы жильцов управляющей компании. Пиши строго на русском. Пример отзыва:\n",
            "«спасибо большое специалистам.»\n",
            "\n",
            "Напиши 1 уникальный отзыв по смыслу, похожий на пример (1-2 предложений). Не копируй пример. Можно перефразировать, добавить детали, но отзыв должен быть уникальным.\n"
          ]
        },
        {
          "name": "stderr",
          "output_type": "stream",
          "text": [
            "Генерируем синтетику:  29%|██▉       | 392/1335 [01:41<03:39,  4.30it/s]"
          ]
        },
        {
          "name": "stdout",
          "output_type": "stream",
          "text": [
            "Ты пишешь короткие отзывы жильцов управляющей компании. Пиши строго на русском. Пример отзыва:\n",
            "«заявка не выполнена, грязи на дороге еще больше»\n",
            "\n",
            "Напиши 1 уникальный отзыв по смыслу, похожий на пример (1-2 предложений). Не копируй пример. Можно перефразировать, добавить детали, но отзыв должен быть уникальным.\n"
          ]
        },
        {
          "name": "stderr",
          "output_type": "stream",
          "text": [
            "Генерируем синтетику:  29%|██▉       | 393/1335 [01:41<03:50,  4.08it/s]"
          ]
        },
        {
          "name": "stdout",
          "output_type": "stream",
          "text": [
            "Ты пишешь короткие отзывы жильцов управляющей компании. Пиши строго на русском. Пример отзыва:\n",
            "«Все отлично! Спасибо за быстрое устранение проблемы)»\n",
            "\n",
            "Напиши 1 уникальный отзыв по смыслу, похожий на пример (1-2 предложений). Не копируй пример. Можно перефразировать, добавить детали, но отзыв должен быть уникальным.\n"
          ]
        },
        {
          "name": "stderr",
          "output_type": "stream",
          "text": [
            "Генерируем синтетику:  30%|██▉       | 394/1335 [01:42<03:50,  4.08it/s]"
          ]
        },
        {
          "name": "stdout",
          "output_type": "stream",
          "text": [
            "Ты пишешь короткие отзывы жильцов управляющей компании. Пиши строго на русском. Пример отзыва:\n",
            "«Хочу выразить особую благодарность Татьяне за проявленный интерес к моему вопросу!»\n",
            "\n",
            "Напиши 1 уникальный отзыв по смыслу, похожий на пример (1-2 предложений). Не копируй пример. Можно перефразировать, добавить детали, но отзыв должен быть уникальным.\n"
          ]
        },
        {
          "name": "stderr",
          "output_type": "stream",
          "text": [
            "Генерируем синтетику:  30%|██▉       | 395/1335 [01:42<04:09,  3.77it/s]"
          ]
        },
        {
          "name": "stdout",
          "output_type": "stream",
          "text": [
            "Ты пишешь короткие отзывы жильцов управляющей компании. Пиши строго на русском. Пример отзыва:\n",
            "«после после проведенной регулировки окно стало цеплять раму»\n",
            "\n",
            "Напиши 1 уникальный отзыв по смыслу, похожий на пример (1-2 предложений). Не копируй пример. Можно перефразировать, добавить детали, но отзыв должен быть уникальным.\n"
          ]
        },
        {
          "name": "stderr",
          "output_type": "stream",
          "text": [
            "Генерируем синтетику:  30%|██▉       | 396/1335 [01:42<03:52,  4.04it/s]"
          ]
        },
        {
          "name": "stdout",
          "output_type": "stream",
          "text": [
            "Ты пишешь короткие отзывы жильцов управляющей компании. Пиши строго на русском. Пример отзыва:\n",
            "«спасибо большое что услышали, убрали возле 38/1 мусор.теперь хоть рядом с банками бросать не будут люди мусор!»\n",
            "\n",
            "Напиши 1 уникальный отзыв по смыслу, похожий на пример (1-2 предложений). Не копируй пример. Можно перефразировать, добавить детали, но отзыв должен быть уникальным.\n"
          ]
        },
        {
          "name": "stderr",
          "output_type": "stream",
          "text": [
            "Генерируем синтетику:  30%|██▉       | 397/1335 [01:43<04:04,  3.84it/s]"
          ]
        },
        {
          "name": "stdout",
          "output_type": "stream",
          "text": [
            "Ты пишешь короткие отзывы жильцов управляющей компании. Пиши строго на русском. Пример отзыва:\n",
            "«спасибо елена!»\n",
            "\n",
            "Напиши 1 уникальный отзыв по смыслу, похожий на пример (1-2 предложений). Не копируй пример. Можно перефразировать, добавить детали, но отзыв должен быть уникальным.\n"
          ]
        },
        {
          "name": "stderr",
          "output_type": "stream",
          "text": [
            "Генерируем синтетику:  30%|██▉       | 398/1335 [01:43<03:59,  3.92it/s]"
          ]
        },
        {
          "name": "stdout",
          "output_type": "stream",
          "text": [
            "Ты пишешь короткие отзывы жильцов управляющей компании. Пиши строго на русском. Пример отзыва:\n",
            "«здравствуйте. прошу заметить, что и в крайней квитанции, и в более ранних неверно проставлены даты последних платежей. с чем это связано?»\n",
            "\n",
            "Напиши 1 уникальный отзыв по смыслу, похожий на пример (1-2 предложений). Не копируй пример. Можно перефразировать, добавить детали, но отзыв должен быть уникальным.\n"
          ]
        },
        {
          "name": "stderr",
          "output_type": "stream",
          "text": [
            "Генерируем синтетику:  30%|██▉       | 399/1335 [01:43<04:25,  3.52it/s]"
          ]
        },
        {
          "name": "stdout",
          "output_type": "stream",
          "text": [
            "Ты пишешь короткие отзывы жильцов управляющей компании. Пиши строго на русском. Пример отзыва:\n",
            "«Очень оперативно справились  :thumbs_up:  :medium-light_skin_tone: »\n",
            "\n",
            "Если в примере есть код эмодзи вида :smile:, то сохрани стиль — вставь похожий код эмодзи.\n",
            "\n",
            "Напиши 1 уникальный отзыв по смыслу, похожий на пример (1-2 предложений). Не копируй пример. Можно перефразировать, добавить детали, но отзыв должен быть уникальным.\n"
          ]
        },
        {
          "name": "stderr",
          "output_type": "stream",
          "text": [
            "Генерируем синтетику:  30%|██▉       | 400/1335 [01:43<04:13,  3.69it/s]"
          ]
        },
        {
          "name": "stdout",
          "output_type": "stream",
          "text": [
            "Ты пишешь короткие отзывы жильцов управляющей компании. Пиши строго на русском. Пример отзыва:\n",
            "«Очень ответственная девушка в УК.»\n",
            "\n",
            "Напиши 1 уникальный отзыв по смыслу, похожий на пример (1-2 предложений). Не копируй пример. Можно перефразировать, добавить детали, но отзыв должен быть уникальным.\n"
          ]
        },
        {
          "name": "stderr",
          "output_type": "stream",
          "text": [
            "Генерируем синтетику:  30%|███       | 401/1335 [01:44<04:06,  3.79it/s]"
          ]
        },
        {
          "name": "stdout",
          "output_type": "stream",
          "text": [
            "Ты пишешь короткие отзывы жильцов управляющей компании. Пиши строго на русском. Пример отзыва:\n",
            "«быстро и качественно . спасибо за работу !!!!»\n",
            "\n",
            "Напиши 1 уникальный отзыв по смыслу, похожий на пример (1-2 предложений). Не копируй пример. Можно перефразировать, добавить детали, но отзыв должен быть уникальным.\n"
          ]
        },
        {
          "name": "stderr",
          "output_type": "stream",
          "text": [
            "Генерируем синтетику:  30%|███       | 403/1335 [01:44<03:39,  4.24it/s]"
          ]
        },
        {
          "name": "stdout",
          "output_type": "stream",
          "text": [
            "Ты пишешь короткие отзывы жильцов управляющей компании. Пиши строго на русском. Пример отзыва:\n",
            "«спасибо за работу»\n",
            "\n",
            "Напиши 1 уникальный отзыв по смыслу, похожий на пример (1-2 предложений). Не копируй пример. Можно перефразировать, добавить детали, но отзыв должен быть уникальным.\n",
            "Ты пишешь короткие отзывы жильцов управляющей компании. Пиши строго на русском. Пример отзыва:\n",
            "«спасибо!\n",
            "»\n",
            "\n",
            "Напиши 1 уникальный отзыв по смыслу, похожий на пример (1-2 предложений). Не копируй пример. Можно перефразировать, добавить детали, но отзыв должен быть уникальным.\n"
          ]
        },
        {
          "name": "stderr",
          "output_type": "stream",
          "text": [
            "Генерируем синтетику:  30%|███       | 404/1335 [01:44<03:37,  4.28it/s]"
          ]
        },
        {
          "name": "stdout",
          "output_type": "stream",
          "text": [
            "Ты пишешь короткие отзывы жильцов управляющей компании. Пиши строго на русском. Пример отзыва:\n",
            "«В день создания заявки , рабочие оперативно пришли и весь ужас убрали , огромная благодарность ! »\n",
            "\n",
            "Напиши 1 уникальный отзыв по смыслу, похожий на пример (1-2 предложений). Не копируй пример. Можно перефразировать, добавить детали, но отзыв должен быть уникальным.\n"
          ]
        },
        {
          "name": "stderr",
          "output_type": "stream",
          "text": [
            "Генерируем синтетику:  30%|███       | 405/1335 [01:45<03:48,  4.06it/s]"
          ]
        },
        {
          "name": "stdout",
          "output_type": "stream",
          "text": [
            "Ты пишешь короткие отзывы жильцов управляющей компании. Пиши строго на русском. Пример отзыва:\n",
            "«Специалист компетентно объяснил, что необходимо сделать таких случаях! Игорь Золотухин  :thumbs_up: »\n",
            "\n",
            "Если в примере есть код эмодзи вида :smile:, то сохрани стиль — вставь похожий код эмодзи.\n",
            "\n",
            "Напиши 1 уникальный отзыв по смыслу, похожий на пример (1-2 предложений). Не копируй пример. Можно перефразировать, добавить детали, но отзыв должен быть уникальным.\n"
          ]
        },
        {
          "name": "stderr",
          "output_type": "stream",
          "text": [
            "Генерируем синтетику:  30%|███       | 406/1335 [01:45<04:11,  3.70it/s]"
          ]
        },
        {
          "name": "stdout",
          "output_type": "stream",
          "text": [
            "Ты пишешь короткие отзывы жильцов управляющей компании. Пиши строго на русском. Пример отзыва:\n",
            "«Спасибо огромнейшее за оперативность  :red_heart: ️»\n",
            "\n",
            "Если в примере есть код эмодзи вида :smile:, то сохрани стиль — вставь похожий код эмодзи.\n",
            "\n",
            "Напиши 1 уникальный отзыв по смыслу, похожий на пример (1-2 предложений). Не копируй пример. Можно перефразировать, добавить детали, но отзыв должен быть уникальным.\n"
          ]
        },
        {
          "name": "stderr",
          "output_type": "stream",
          "text": [
            "Генерируем синтетику:  30%|███       | 407/1335 [01:45<03:58,  3.89it/s]"
          ]
        },
        {
          "name": "stdout",
          "output_type": "stream",
          "text": [
            "Ты пишешь короткие отзывы жильцов управляющей компании. Пиши строго на русском. Пример отзыва:\n",
            "«ура! спасибо большое! а можно их ещё отрегулировать? чтобы медленно закрывались двери?»\n",
            "\n",
            "Напиши 1 уникальный отзыв по смыслу, похожий на пример (1-2 предложений). Не копируй пример. Можно перефразировать, добавить детали, но отзыв должен быть уникальным.\n"
          ]
        },
        {
          "name": "stderr",
          "output_type": "stream",
          "text": [
            "Генерируем синтетику:  31%|███       | 408/1335 [01:45<04:10,  3.70it/s]"
          ]
        },
        {
          "name": "stdout",
          "output_type": "stream",
          "text": [
            "Ты пишешь короткие отзывы жильцов управляющей компании. Пиши строго на русском. Пример отзыва:\n",
            "«по поводу уборки этажей, я знаю что убирают в среду, но проблема уборки 1 этажа. спасибо за  вашу работу»\n",
            "\n",
            "Напиши 1 уникальный отзыв по смыслу, похожий на пример (1-2 предложений). Не копируй пример. Можно перефразировать, добавить детали, но отзыв должен быть уникальным.\n"
          ]
        },
        {
          "name": "stderr",
          "output_type": "stream",
          "text": [
            "Генерируем синтетику:  31%|███       | 409/1335 [01:46<04:45,  3.25it/s]"
          ]
        },
        {
          "name": "stdout",
          "output_type": "stream",
          "text": [
            "Ты пишешь короткие отзывы жильцов управляющей компании. Пиши строго на русском. Пример отзыва:\n",
            "«Спасибо Вам большое  :rose: »\n",
            "\n",
            "Если в примере есть код эмодзи вида :smile:, то сохрани стиль — вставь похожий код эмодзи.\n",
            "\n",
            "Напиши 1 уникальный отзыв по смыслу, похожий на пример (1-2 предложений). Не копируй пример. Можно перефразировать, добавить детали, но отзыв должен быть уникальным.\n"
          ]
        },
        {
          "name": "stderr",
          "output_type": "stream",
          "text": [
            "Генерируем синтетику:  31%|███       | 410/1335 [01:46<04:25,  3.48it/s]"
          ]
        },
        {
          "name": "stdout",
          "output_type": "stream",
          "text": [
            "Ты пишешь короткие отзывы жильцов управляющей компании. Пиши строго на русском. Пример отзыва:\n",
            "«Жалко, что заранее не предупреждаете, что есть тех проблемы сейчас, как нам узнать - в новости можно написать такое. И нет такого раздела про формирование квитанций в заявках в УК, не сразу поняла, где написать »\n",
            "\n",
            "Напиши 1 уникальный отзыв по смыслу, похожий на пример (1-2 предложений). Не копируй пример. Можно перефразировать, добавить детали, но отзыв должен быть уникальным.\n"
          ]
        },
        {
          "name": "stderr",
          "output_type": "stream",
          "text": [
            "Генерируем синтетику:  31%|███       | 412/1335 [01:47<04:09,  3.70it/s]"
          ]
        },
        {
          "name": "stdout",
          "output_type": "stream",
          "text": [
            "Ты пишешь короткие отзывы жильцов управляющей компании. Пиши строго на русском. Пример отзыва:\n",
            "«оперативно, большое спасибо»\n",
            "\n",
            "Напиши 1 уникальный отзыв по смыслу, похожий на пример (1-2 предложений). Не копируй пример. Можно перефразировать, добавить детали, но отзыв должен быть уникальным.\n",
            "Ты пишешь короткие отзывы жильцов управляющей компании. Пиши строго на русском. Пример отзыва:\n",
            "«Сантехник связался сразу. Вопрос решен. »\n",
            "\n",
            "Напиши 1 уникальный отзыв по смыслу, похожий на пример (1-2 предложений). Не копируй пример. Можно перефразировать, добавить детали, но отзыв должен быть уникальным.\n"
          ]
        },
        {
          "name": "stderr",
          "output_type": "stream",
          "text": [
            "Генерируем синтетику:  31%|███       | 413/1335 [01:47<04:02,  3.81it/s]"
          ]
        },
        {
          "name": "stdout",
          "output_type": "stream",
          "text": [
            "Ты пишешь короткие отзывы жильцов управляющей компании. Пиши строго на русском. Пример отзыва:\n",
            "«Спасибо, большое!»\n",
            "\n",
            "Напиши 1 уникальный отзыв по смыслу, похожий на пример (1-2 предложений). Не копируй пример. Можно перефразировать, добавить детали, но отзыв должен быть уникальным.\n"
          ]
        },
        {
          "name": "stderr",
          "output_type": "stream",
          "text": [
            "Генерируем синтетику:  31%|███       | 415/1335 [01:47<03:21,  4.56it/s]"
          ]
        },
        {
          "name": "stdout",
          "output_type": "stream",
          "text": [
            "Ты пишешь короткие отзывы жильцов управляющей компании. Пиши строго на русском. Пример отзыва:\n",
            "«на конец то. спасибо.»\n",
            "\n",
            "Напиши 1 уникальный отзыв по смыслу, похожий на пример (1-2 предложений). Не копируй пример. Можно перефразировать, добавить детали, но отзыв должен быть уникальным.\n",
            "Ты пишешь короткие отзывы жильцов управляющей компании. Пиши строго на русском. Пример отзыва:\n",
            "«быстро обработали заявку,и быстро пришли слесари»\n",
            "\n",
            "Напиши 1 уникальный отзыв по смыслу, похожий на пример (1-2 предложений). Не копируй пример. Можно перефразировать, добавить детали, но отзыв должен быть уникальным.\n"
          ]
        },
        {
          "name": "stderr",
          "output_type": "stream",
          "text": [
            "Генерируем синтетику:  31%|███       | 416/1335 [01:47<03:34,  4.29it/s]"
          ]
        },
        {
          "name": "stdout",
          "output_type": "stream",
          "text": [
            "Ты пишешь короткие отзывы жильцов управляющей компании. Пиши строго на русском. Пример отзыва:\n",
            "«мастер приехал вовремя и устранил неполадки»\n",
            "\n",
            "Напиши 1 уникальный отзыв по смыслу, похожий на пример (1-2 предложений). Не копируй пример. Можно перефразировать, добавить детали, но отзыв должен быть уникальным.\n"
          ]
        },
        {
          "name": "stderr",
          "output_type": "stream",
          "text": [
            "Генерируем синтетику:  31%|███       | 417/1335 [01:48<04:38,  3.30it/s]"
          ]
        },
        {
          "name": "stdout",
          "output_type": "stream",
          "text": [
            "Ты пишешь короткие отзывы жильцов управляющей компании. Пиши строго на русском. Пример отзыва:\n",
            "«спасибо, счетчик стал работать»\n",
            "\n",
            "Напиши 1 уникальный отзыв по смыслу, похожий на пример (1-2 предложений). Не копируй пример. Можно перефразировать, добавить детали, но отзыв должен быть уникальным.\n"
          ]
        },
        {
          "name": "stderr",
          "output_type": "stream",
          "text": [
            "Генерируем синтетику:  31%|███▏      | 419/1335 [01:48<04:21,  3.51it/s]"
          ]
        },
        {
          "name": "stdout",
          "output_type": "stream",
          "text": [
            "Ты пишешь короткие отзывы жильцов управляющей компании. Пиши строго на русском. Пример отзыва:\n",
            "«замечания устранены»\n",
            "\n",
            "Напиши 1 уникальный отзыв по смыслу, похожий на пример (1-2 предложений). Не копируй пример. Можно перефразировать, добавить детали, но отзыв должен быть уникальным.\n",
            "Ты пишешь короткие отзывы жильцов управляющей компании. Пиши строго на русском. Пример отзыва:\n",
            "«Спасибо технику)»\n",
            "\n",
            "Напиши 1 уникальный отзыв по смыслу, похожий на пример (1-2 предложений). Не копируй пример. Можно перефразировать, добавить детали, но отзыв должен быть уникальным.\n"
          ]
        },
        {
          "name": "stderr",
          "output_type": "stream",
          "text": [
            "Генерируем синтетику:  31%|███▏      | 420/1335 [01:49<04:11,  3.64it/s]"
          ]
        },
        {
          "name": "stdout",
          "output_type": "stream",
          "text": [
            "Ты пишешь короткие отзывы жильцов управляющей компании. Пиши строго на русском. Пример отзыва:\n",
            "«я сделала ремонт в коридоре. и если в подвале сухо, но надеюсь что от грибка в квартире больше нет. благодарю за фото.»\n",
            "\n",
            "Напиши 1 уникальный отзыв по смыслу, похожий на пример (1-2 предложений). Не копируй пример. Можно перефразировать, добавить детали, но отзыв должен быть уникальным.\n"
          ]
        },
        {
          "name": "stderr",
          "output_type": "stream",
          "text": [
            "Генерируем синтетику:  32%|███▏      | 421/1335 [01:49<04:19,  3.52it/s]"
          ]
        },
        {
          "name": "stdout",
          "output_type": "stream",
          "text": [
            "Ты пишешь короткие отзывы жильцов управляющей компании. Пиши строго на русском. Пример отзыва:\n",
            "«спасибо! очень оперативно! 5+»\n",
            "\n",
            "Напиши 1 уникальный отзыв по смыслу, похожий на пример (1-2 предложений). Не копируй пример. Можно перефразировать, добавить детали, но отзыв должен быть уникальным.\n"
          ]
        },
        {
          "name": "stderr",
          "output_type": "stream",
          "text": [
            "Генерируем синтетику:  32%|███▏      | 423/1335 [01:50<04:04,  3.73it/s]"
          ]
        },
        {
          "name": "stdout",
          "output_type": "stream",
          "text": [
            "Ты пишешь короткие отзывы жильцов управляющей компании. Пиши строго на русском. Пример отзыва:\n",
            "«все отлично! »\n",
            "\n",
            "Напиши 1 уникальный отзыв по смыслу, похожий на пример (1-2 предложений). Не копируй пример. Можно перефразировать, добавить детали, но отзыв должен быть уникальным.\n",
            "Ты пишешь короткие отзывы жильцов управляющей компании. Пиши строго на русском. Пример отзыва:\n",
            "«Отзвонились, зафиксировали, дежурный электрик молодец  :clapping_hands:  :light_skin_tone:  »\n",
            "\n",
            "Если в примере есть код эмодзи вида :smile:, то сохрани стиль — вставь похожий код эмодзи.\n",
            "\n",
            "Напиши 1 уникальный отзыв по смыслу, похожий на пример (1-2 предложений). Не копируй пример. Можно перефразировать, добавить детали, но отзыв должен быть уникальным.\n"
          ]
        },
        {
          "name": "stderr",
          "output_type": "stream",
          "text": [
            "Генерируем синтетику:  32%|███▏      | 424/1335 [01:50<04:06,  3.70it/s]"
          ]
        },
        {
          "name": "stdout",
          "output_type": "stream",
          "text": [
            "Ты пишешь короткие отзывы жильцов управляющей компании. Пиши строго на русском. Пример отзыва:\n",
            "«Проблема решена, быстро и оперативно..»\n",
            "\n",
            "Напиши 1 уникальный отзыв по смыслу, похожий на пример (1-2 предложений). Не копируй пример. Можно перефразировать, добавить детали, но отзыв должен быть уникальным.\n"
          ]
        },
        {
          "name": "stderr",
          "output_type": "stream",
          "text": [
            "Генерируем синтетику:  32%|███▏      | 426/1335 [01:50<03:32,  4.28it/s]"
          ]
        },
        {
          "name": "stdout",
          "output_type": "stream",
          "text": [
            "Ты пишешь короткие отзывы жильцов управляющей компании. Пиши строго на русском. Пример отзыва:\n",
            "«ок. спасибо»\n",
            "\n",
            "Напиши 1 уникальный отзыв по смыслу, похожий на пример (1-2 предложений). Не копируй пример. Можно перефразировать, добавить детали, но отзыв должен быть уникальным.\n",
            "Ты пишешь короткие отзывы жильцов управляющей компании. Пиши строго на русском. Пример отзыва:\n",
            "«отличная функция, спасибо »\n",
            "\n",
            "Напиши 1 уникальный отзыв по смыслу, похожий на пример (1-2 предложений). Не копируй пример. Можно перефразировать, добавить детали, но отзыв должен быть уникальным.\n"
          ]
        },
        {
          "name": "stderr",
          "output_type": "stream",
          "text": [
            "Генерируем синтетику:  32%|███▏      | 427/1335 [01:50<03:26,  4.41it/s]"
          ]
        },
        {
          "name": "stdout",
          "output_type": "stream",
          "text": [
            "Ты пишешь короткие отзывы жильцов управляющей компании. Пиши строго на русском. Пример отзыва:\n",
            "«спасибо! ответ был предоставлен оперативно  :handshake: »\n",
            "\n",
            "Если в примере есть код эмодзи вида :smile:, то сохрани стиль — вставь похожий код эмодзи.\n",
            "\n",
            "Напиши 1 уникальный отзыв по смыслу, похожий на пример (1-2 предложений). Не копируй пример. Можно перефразировать, добавить детали, но отзыв должен быть уникальным.\n"
          ]
        },
        {
          "name": "stderr",
          "output_type": "stream",
          "text": [
            "Генерируем синтетику:  32%|███▏      | 428/1335 [01:51<03:30,  4.31it/s]"
          ]
        },
        {
          "name": "stdout",
          "output_type": "stream",
          "text": [
            "Ты пишешь короткие отзывы жильцов управляющей компании. Пиши строго на русском. Пример отзыва:\n",
            "«оперативно! спасибо!»\n",
            "\n",
            "Напиши 1 уникальный отзыв по смыслу, похожий на пример (1-2 предложений). Не копируй пример. Можно перефразировать, добавить детали, но отзыв должен быть уникальным.\n"
          ]
        },
        {
          "name": "stderr",
          "output_type": "stream",
          "text": [
            "Генерируем синтетику:  32%|███▏      | 429/1335 [01:51<03:26,  4.40it/s]"
          ]
        },
        {
          "name": "stdout",
          "output_type": "stream",
          "text": [
            "Ты пишешь короткие отзывы жильцов управляющей компании. Пиши строго на русском. Пример отзыва:\n",
            "«вопрос решен. спасибо»\n",
            "\n",
            "Напиши 1 уникальный отзыв по смыслу, похожий на пример (1-2 предложений). Не копируй пример. Можно перефразировать, добавить детали, но отзыв должен быть уникальным.\n"
          ]
        },
        {
          "name": "stderr",
          "output_type": "stream",
          "text": [
            "Генерируем синтетику:  32%|███▏      | 430/1335 [01:51<03:23,  4.45it/s]"
          ]
        },
        {
          "name": "stdout",
          "output_type": "stream",
          "text": [
            "Ты пишешь короткие отзывы жильцов управляющей компании. Пиши строго на русском. Пример отзыва:\n",
            "«добрый день! в ноябре счет был оплачен 15 ноября . вот скрин из приложения банка . прошу проверить оплаты . и написать поступившие вам с октября до конца года . ноябрь был оплачен , проверьте , пожалуйста . тут нет возможности приложить скрин. напишите , куда отправить квитанцию о оплате»\n",
            "\n",
            "Напиши 1 уникальный отзыв по смыслу, похожий на пример (1-2 предложений). Не копируй пример. Можно перефразировать, добавить детали, но отзыв должен быть уникальным.\n"
          ]
        },
        {
          "name": "stderr",
          "output_type": "stream",
          "text": [
            "Генерируем синтетику:  32%|███▏      | 431/1335 [01:52<04:06,  3.66it/s]"
          ]
        },
        {
          "name": "stdout",
          "output_type": "stream",
          "text": [
            "Ты пишешь короткие отзывы жильцов управляющей компании. Пиши строго на русском. Пример отзыва:\n",
            "«красавцы, быстро,  оперативно,  очень приятно в общении »\n",
            "\n",
            "Напиши 1 уникальный отзыв по смыслу, похожий на пример (1-2 предложений). Не копируй пример. Можно перефразировать, добавить детали, но отзыв должен быть уникальным.\n"
          ]
        },
        {
          "name": "stderr",
          "output_type": "stream",
          "text": [
            "Генерируем синтетику:  32%|███▏      | 433/1335 [01:52<03:34,  4.20it/s]"
          ]
        },
        {
          "name": "stdout",
          "output_type": "stream",
          "text": [
            "Ты пишешь короткие отзывы жильцов управляющей компании. Пиши строго на русском. Пример отзыва:\n",
            "«Все супер»\n",
            "\n",
            "Напиши 1 уникальный отзыв по смыслу, похожий на пример (1-2 предложений). Не копируй пример. Можно перефразировать, добавить детали, но отзыв должен быть уникальным.\n",
            "Ты пишешь короткие отзывы жильцов управляющей компании. Пиши строго на русском. Пример отзыва:\n",
            "«Спасибо большое. Проблему мастер решил быстро и качественно  :thumbs_up: !!!»\n",
            "\n",
            "Если в примере есть код эмодзи вида :smile:, то сохрани стиль — вставь похожий код эмодзи.\n",
            "\n",
            "Напиши 1 уникальный отзыв по смыслу, похожий на пример (1-2 предложений). Не копируй пример. Можно перефразировать, добавить детали, но отзыв должен быть уникальным.\n"
          ]
        },
        {
          "name": "stderr",
          "output_type": "stream",
          "text": [
            "Генерируем синтетику:  33%|███▎      | 434/1335 [01:52<03:34,  4.20it/s]"
          ]
        },
        {
          "name": "stdout",
          "output_type": "stream",
          "text": [
            "Ты пишешь короткие отзывы жильцов управляющей компании. Пиши строго на русском. Пример отзыва:\n",
            "«Большое спасибо за оперативность решения вопроса!»\n",
            "\n",
            "Напиши 1 уникальный отзыв по смыслу, похожий на пример (1-2 предложений). Не копируй пример. Можно перефразировать, добавить детали, но отзыв должен быть уникальным.\n"
          ]
        },
        {
          "name": "stderr",
          "output_type": "stream",
          "text": [
            "Генерируем синтетику:  33%|███▎      | 435/1335 [01:52<03:32,  4.23it/s]"
          ]
        },
        {
          "name": "stdout",
          "output_type": "stream",
          "text": [
            "Ты пишешь короткие отзывы жильцов управляющей компании. Пиши строго на русском. Пример отзыва:\n",
            "«не вписан ещё один человек»\n",
            "\n",
            "Напиши 1 уникальный отзыв по смыслу, похожий на пример (1-2 предложений). Не копируй пример. Можно перефразировать, добавить детали, но отзыв должен быть уникальным.\n"
          ]
        },
        {
          "name": "stderr",
          "output_type": "stream",
          "text": [
            "Генерируем синтетику:  33%|███▎      | 437/1335 [01:53<03:12,  4.66it/s]"
          ]
        },
        {
          "name": "stdout",
          "output_type": "stream",
          "text": [
            "Ты пишешь короткие отзывы жильцов управляющей компании. Пиши строго на русском. Пример отзыва:\n",
            "«оплатил»\n",
            "\n",
            "Напиши 1 уникальный отзыв по смыслу, похожий на пример (1-2 предложений). Не копируй пример. Можно перефразировать, добавить детали, но отзыв должен быть уникальным.\n",
            "Ты пишешь короткие отзывы жильцов управляющей компании. Пиши строго на русском. Пример отзыва:\n",
            "«благодарю, всего доброго!»\n",
            "\n",
            "Напиши 1 уникальный отзыв по смыслу, похожий на пример (1-2 предложений). Не копируй пример. Можно перефразировать, добавить детали, но отзыв должен быть уникальным.\n"
          ]
        },
        {
          "name": "stderr",
          "output_type": "stream",
          "text": [
            "Генерируем синтетику:  33%|███▎      | 438/1335 [01:53<03:23,  4.41it/s]"
          ]
        },
        {
          "name": "stdout",
          "output_type": "stream",
          "text": [
            "Ты пишешь короткие отзывы жильцов управляющей компании. Пиши строго на русском. Пример отзыва:\n",
            "«отличная работа, быстро и качественно»\n",
            "\n",
            "Напиши 1 уникальный отзыв по смыслу, похожий на пример (1-2 предложений). Не копируй пример. Можно перефразировать, добавить детали, но отзыв должен быть уникальным.\n"
          ]
        },
        {
          "name": "stderr",
          "output_type": "stream",
          "text": [
            "Генерируем синтетику:  33%|███▎      | 439/1335 [01:53<03:20,  4.46it/s]"
          ]
        },
        {
          "name": "stdout",
          "output_type": "stream",
          "text": [
            "Ты пишешь короткие отзывы жильцов управляющей компании. Пиши строго на русском. Пример отзыва:\n",
            "«Все доступно объяснили.»\n",
            "\n",
            "Напиши 1 уникальный отзыв по смыслу, похожий на пример (1-2 предложений). Не копируй пример. Можно перефразировать, добавить детали, но отзыв должен быть уникальным.\n"
          ]
        },
        {
          "name": "stderr",
          "output_type": "stream",
          "text": [
            "Генерируем синтетику:  33%|███▎      | 440/1335 [01:53<03:16,  4.56it/s]"
          ]
        },
        {
          "name": "stdout",
          "output_type": "stream",
          "text": [
            "Ты пишешь короткие отзывы жильцов управляющей компании. Пиши строго на русском. Пример отзыва:\n",
            "«Пришли вовремя) заранее позвонили уточнить удобное время) отличный мастер все сделал быстро и аккуратно) »\n",
            "\n",
            "Напиши 1 уникальный отзыв по смыслу, похожий на пример (1-2 предложений). Не копируй пример. Можно перефразировать, добавить детали, но отзыв должен быть уникальным.\n"
          ]
        },
        {
          "name": "stderr",
          "output_type": "stream",
          "text": [
            "Генерируем синтетику:  33%|███▎      | 441/1335 [01:54<03:31,  4.23it/s]"
          ]
        },
        {
          "name": "stdout",
          "output_type": "stream",
          "text": [
            "Ты пишешь короткие отзывы жильцов управляющей компании. Пиши строго на русском. Пример отзыва:\n",
            "«Мастер быстро решил проблему!Всё исправил,очень довольна!Спасибо!»\n",
            "\n",
            "Напиши 1 уникальный отзыв по смыслу, похожий на пример (1-2 предложений). Не копируй пример. Можно перефразировать, добавить детали, но отзыв должен быть уникальным.\n"
          ]
        },
        {
          "name": "stderr",
          "output_type": "stream",
          "text": [
            "Генерируем синтетику:  33%|███▎      | 442/1335 [01:54<03:38,  4.09it/s]"
          ]
        },
        {
          "name": "stdout",
          "output_type": "stream",
          "text": [
            "Ты пишешь короткие отзывы жильцов управляющей компании. Пиши строго на русском. Пример отзыва:\n",
            "«работает! Спасибо»\n",
            "\n",
            "Напиши 1 уникальный отзыв по смыслу, похожий на пример (1-2 предложений). Не копируй пример. Можно перефразировать, добавить детали, но отзыв должен быть уникальным.\n"
          ]
        },
        {
          "name": "stderr",
          "output_type": "stream",
          "text": [
            "Генерируем синтетику:  33%|███▎      | 444/1335 [01:54<03:11,  4.66it/s]"
          ]
        },
        {
          "name": "stdout",
          "output_type": "stream",
          "text": [
            "Ты пишешь короткие отзывы жильцов управляющей компании. Пиши строго на русском. Пример отзыва:\n",
            "«Быстро среагировали »\n",
            "\n",
            "Напиши 1 уникальный отзыв по смыслу, похожий на пример (1-2 предложений). Не копируй пример. Можно перефразировать, добавить детали, но отзыв должен быть уникальным.\n",
            "Ты пишешь короткие отзывы жильцов управляющей компании. Пиши строго на русском. Пример отзыва:\n",
            "«ремонтные работы по данной заявке выполнены в полном объеме и в кратчайшие сроки.»\n",
            "\n",
            "Напиши 1 уникальный отзыв по смыслу, похожий на пример (1-2 предложений). Не копируй пример. Можно перефразировать, добавить детали, но отзыв должен быть уникальным.\n"
          ]
        },
        {
          "name": "stderr",
          "output_type": "stream",
          "text": [
            "Генерируем синтетику:  33%|███▎      | 445/1335 [01:55<03:37,  4.08it/s]"
          ]
        },
        {
          "name": "stdout",
          "output_type": "stream",
          "text": [
            "Ты пишешь короткие отзывы жильцов управляющей компании. Пиши строго на русском. Пример отзыва:\n",
            "«Спасибо за обратную связь! »\n",
            "\n",
            "Напиши 1 уникальный отзыв по смыслу, похожий на пример (1-2 предложений). Не копируй пример. Можно перефразировать, добавить детали, но отзыв должен быть уникальным.\n"
          ]
        },
        {
          "name": "stderr",
          "output_type": "stream",
          "text": [
            "Генерируем синтетику:  33%|███▎      | 446/1335 [01:55<03:31,  4.21it/s]"
          ]
        },
        {
          "name": "stdout",
          "output_type": "stream",
          "text": [
            "Ты пишешь короткие отзывы жильцов управляющей компании. Пиши строго на русском. Пример отзыва:\n",
            "«Консультация была проведена профессионально. Спасибо за разъяснения и рекомендации»\n",
            "\n",
            "Напиши 1 уникальный отзыв по смыслу, похожий на пример (1-2 предложений). Не копируй пример. Можно перефразировать, добавить детали, но отзыв должен быть уникальным.\n"
          ]
        },
        {
          "name": "stderr",
          "output_type": "stream",
          "text": [
            "Генерируем синтетику:  34%|███▎      | 448/1335 [01:55<03:25,  4.31it/s]"
          ]
        },
        {
          "name": "stdout",
          "output_type": "stream",
          "text": [
            "Ты пишешь короткие отзывы жильцов управляющей компании. Пиши строго на русском. Пример отзыва:\n",
            "«Ну устранено»\n",
            "\n",
            "Напиши 1 уникальный отзыв по смыслу, похожий на пример (1-2 предложений). Не копируй пример. Можно перефразировать, добавить детали, но отзыв должен быть уникальным.\n",
            "Ты пишешь короткие отзывы жильцов управляющей компании. Пиши строго на русском. Пример отзыва:\n",
            "«шум прошел. надеюсь не повторится, спасибо.»\n",
            "\n",
            "Напиши 1 уникальный отзыв по смыслу, похожий на пример (1-2 предложений). Не копируй пример. Можно перефразировать, добавить детали, но отзыв должен быть уникальным.\n"
          ]
        },
        {
          "name": "stderr",
          "output_type": "stream",
          "text": [
            "Генерируем синтетику:  34%|███▎      | 449/1335 [01:56<03:34,  4.13it/s]"
          ]
        },
        {
          "name": "stdout",
          "output_type": "stream",
          "text": [
            "Ты пишешь короткие отзывы жильцов управляющей компании. Пиши строго на русском. Пример отзыва:\n",
            "«спасибо, я вижу счетчики заведены в программу и отобразились в приложении»\n",
            "\n",
            "Напиши 1 уникальный отзыв по смыслу, похожий на пример (1-2 предложений). Не копируй пример. Можно перефразировать, добавить детали, но отзыв должен быть уникальным.\n"
          ]
        },
        {
          "name": "stderr",
          "output_type": "stream",
          "text": [
            "Генерируем синтетику:  34%|███▎      | 450/1335 [01:56<03:41,  4.00it/s]"
          ]
        },
        {
          "name": "stdout",
          "output_type": "stream",
          "text": [
            "Ты пишешь короткие отзывы жильцов управляющей компании. Пиши строго на русском. Пример отзыва:\n",
            "«мастер пришёл быстро. Все быстро сделал. »\n",
            "\n",
            "Напиши 1 уникальный отзыв по смыслу, похожий на пример (1-2 предложений). Не копируй пример. Можно перефразировать, добавить детали, но отзыв должен быть уникальным.\n"
          ]
        },
        {
          "name": "stderr",
          "output_type": "stream",
          "text": [
            "Генерируем синтетику:  34%|███▍      | 451/1335 [01:56<03:42,  3.97it/s]"
          ]
        },
        {
          "name": "stdout",
          "output_type": "stream",
          "text": [
            "Ты пишешь короткие отзывы жильцов управляющей компании. Пиши строго на русском. Пример отзыва:\n",
            "«быстро, качественно,результативно  :thumbs_up:  :thumbs_up:  :thumbs_up: спасибо»\n",
            "\n",
            "Если в примере есть код эмодзи вида :smile:, то сохрани стиль — вставь похожий код эмодзи.\n",
            "\n",
            "Напиши 1 уникальный отзыв по смыслу, похожий на пример (1-2 предложений). Не копируй пример. Можно перефразировать, добавить детали, но отзыв должен быть уникальным.\n"
          ]
        },
        {
          "name": "stderr",
          "output_type": "stream",
          "text": [
            "Генерируем синтетику:  34%|███▍      | 453/1335 [01:57<03:24,  4.31it/s]"
          ]
        },
        {
          "name": "stdout",
          "output_type": "stream",
          "text": [
            "Ты пишешь короткие отзывы жильцов управляющей компании. Пиши строго на русском. Пример отзыва:\n",
            "«мастер пришел очень оперативно. спасибо!»\n",
            "\n",
            "Напиши 1 уникальный отзыв по смыслу, похожий на пример (1-2 предложений). Не копируй пример. Можно перефразировать, добавить детали, но отзыв должен быть уникальным.\n",
            "Ты пишешь короткие отзывы жильцов управляющей компании. Пиши строго на русском. Пример отзыва:\n",
            "«электрик справился с проблемой за 5минут молодец»\n",
            "\n",
            "Напиши 1 уникальный отзыв по смыслу, похожий на пример (1-2 предложений). Не копируй пример. Можно перефразировать, добавить детали, но отзыв должен быть уникальным.\n"
          ]
        },
        {
          "name": "stderr",
          "output_type": "stream",
          "text": [
            "Генерируем синтетику:  34%|███▍      | 454/1335 [01:57<03:25,  4.29it/s]"
          ]
        },
        {
          "name": "stdout",
          "output_type": "stream",
          "text": [
            "Ты пишешь короткие отзывы жильцов управляющей компании. Пиши строго на русском. Пример отзыва:\n",
            "«засор устранили»\n",
            "\n",
            "Напиши 1 уникальный отзыв по смыслу, похожий на пример (1-2 предложений). Не копируй пример. Можно перефразировать, добавить детали, но отзыв должен быть уникальным.\n"
          ]
        },
        {
          "name": "stderr",
          "output_type": "stream",
          "text": [
            "Генерируем синтетику:  34%|███▍      | 455/1335 [01:57<03:28,  4.22it/s]"
          ]
        },
        {
          "name": "stdout",
          "output_type": "stream",
          "text": [
            "Ты пишешь короткие отзывы жильцов управляющей компании. Пиши строго на русском. Пример отзыва:\n",
            "«надписи убраны, но внешний вид панелей щита испорчен. остались царапины. »\n",
            "\n",
            "Напиши 1 уникальный отзыв по смыслу, похожий на пример (1-2 предложений). Не копируй пример. Можно перефразировать, добавить детали, но отзыв должен быть уникальным.\n"
          ]
        },
        {
          "name": "stderr",
          "output_type": "stream",
          "text": [
            "Генерируем синтетику:  34%|███▍      | 456/1335 [01:57<03:56,  3.72it/s]"
          ]
        },
        {
          "name": "stdout",
          "output_type": "stream",
          "text": [
            "Ты пишешь короткие отзывы жильцов управляющей компании. Пиши строго на русском. Пример отзыва:\n",
            "«спасибо за быструю и качественную работу!»\n",
            "\n",
            "Напиши 1 уникальный отзыв по смыслу, похожий на пример (1-2 предложений). Не копируй пример. Можно перефразировать, добавить детали, но отзыв должен быть уникальным.\n"
          ]
        },
        {
          "name": "stderr",
          "output_type": "stream",
          "text": [
            "Генерируем синтетику:  34%|███▍      | 457/1335 [01:58<03:45,  3.89it/s]"
          ]
        },
        {
          "name": "stdout",
          "output_type": "stream",
          "text": [
            "Ты пишешь короткие отзывы жильцов управляющей компании. Пиши строго на русском. Пример отзыва:\n",
            "«а дверь кто будет убирать?»\n",
            "\n",
            "Напиши 1 уникальный отзыв по смыслу, похожий на пример (1-2 предложений). Не копируй пример. Можно перефразировать, добавить детали, но отзыв должен быть уникальным.\n"
          ]
        },
        {
          "name": "stderr",
          "output_type": "stream",
          "text": [
            "Генерируем синтетику:  34%|███▍      | 458/1335 [01:58<03:34,  4.08it/s]"
          ]
        },
        {
          "name": "stdout",
          "output_type": "stream",
          "text": [
            "Ты пишешь короткие отзывы жильцов управляющей компании. Пиши строго на русском. Пример отзыва:\n",
            "«спасибо огромное за понимание!»\n",
            "\n",
            "Напиши 1 уникальный отзыв по смыслу, похожий на пример (1-2 предложений). Не копируй пример. Можно перефразировать, добавить детали, но отзыв должен быть уникальным.\n"
          ]
        },
        {
          "name": "stderr",
          "output_type": "stream",
          "text": [
            "Генерируем синтетику:  34%|███▍      | 459/1335 [01:58<03:26,  4.24it/s]"
          ]
        },
        {
          "name": "stdout",
          "output_type": "stream",
          "text": [
            "Ты пишешь короткие отзывы жильцов управляющей компании. Пиши строго на русском. Пример отзыва:\n",
            "«в личном кабинете так  указан  не верный счетчик с неверными показаниями.»\n",
            "\n",
            "Напиши 1 уникальный отзыв по смыслу, похожий на пример (1-2 предложений). Не копируй пример. Можно перефразировать, добавить детали, но отзыв должен быть уникальным.\n"
          ]
        },
        {
          "name": "stderr",
          "output_type": "stream",
          "text": [
            "Генерируем синтетику:  34%|███▍      | 460/1335 [01:58<03:37,  4.02it/s]"
          ]
        },
        {
          "name": "stdout",
          "output_type": "stream",
          "text": [
            "Ты пишешь короткие отзывы жильцов управляющей компании. Пиши строго на русском. Пример отзыва:\n",
            "«все быстро и оперативно, спасибо!»\n",
            "\n",
            "Напиши 1 уникальный отзыв по смыслу, похожий на пример (1-2 предложений). Не копируй пример. Можно перефразировать, добавить детали, но отзыв должен быть уникальным.\n"
          ]
        },
        {
          "name": "stderr",
          "output_type": "stream",
          "text": [
            "Генерируем синтетику:  35%|███▍      | 461/1335 [01:59<03:31,  4.12it/s]"
          ]
        },
        {
          "name": "stdout",
          "output_type": "stream",
          "text": [
            "Ты пишешь короткие отзывы жильцов управляющей компании. Пиши строго на русском. Пример отзыва:\n",
            "«Оперативно среагировали, пришло большое количество строителей и помогли убрать всю воду. »\n",
            "\n",
            "Напиши 1 уникальный отзыв по смыслу, похожий на пример (1-2 предложений). Не копируй пример. Можно перефразировать, добавить детали, но отзыв должен быть уникальным.\n"
          ]
        },
        {
          "name": "stderr",
          "output_type": "stream",
          "text": [
            "Генерируем синтетику:  35%|███▍      | 462/1335 [01:59<03:43,  3.91it/s]"
          ]
        },
        {
          "name": "stdout",
          "output_type": "stream",
          "text": [
            "Ты пишешь короткие отзывы жильцов управляющей компании. Пиши строго на русском. Пример отзыва:\n",
            "«за ответ благодарю. не устраивает, что мне заранее зачислили страховую сумму из переплаты в январе 2025, не согласовав со мной. кто принимает такие решения и почему это не было со мной согласовано?»\n",
            "\n",
            "Напиши 1 уникальный отзыв по смыслу, похожий на пример (1-2 предложений). Не копируй пример. Можно перефразировать, добавить детали, но отзыв должен быть уникальным.\n"
          ]
        },
        {
          "name": "stderr",
          "output_type": "stream",
          "text": [
            "Генерируем синтетику:  35%|███▍      | 464/1335 [02:00<04:00,  3.62it/s]"
          ]
        },
        {
          "name": "stdout",
          "output_type": "stream",
          "text": [
            "Ты пишешь короткие отзывы жильцов управляющей компании. Пиши строго на русском. Пример отзыва:\n",
            "«Претензий нет»\n",
            "\n",
            "Напиши 1 уникальный отзыв по смыслу, похожий на пример (1-2 предложений). Не копируй пример. Можно перефразировать, добавить детали, но отзыв должен быть уникальным.\n",
            "Ты пишешь короткие отзывы жильцов управляющей компании. Пиши строго на русском. Пример отзыва:\n",
            "«как не убрано было так до сих пор и не убрано!»\n",
            "\n",
            "Напиши 1 уникальный отзыв по смыслу, похожий на пример (1-2 предложений). Не копируй пример. Можно перефразировать, добавить детали, но отзыв должен быть уникальным.\n"
          ]
        },
        {
          "name": "stderr",
          "output_type": "stream",
          "text": [
            "Генерируем синтетику:  35%|███▍      | 466/1335 [02:00<03:31,  4.11it/s]"
          ]
        },
        {
          "name": "stdout",
          "output_type": "stream",
          "text": [
            "Ты пишешь короткие отзывы жильцов управляющей компании. Пиши строго на русском. Пример отзыва:\n",
            "«отлично всё работает »\n",
            "\n",
            "Напиши 1 уникальный отзыв по смыслу, похожий на пример (1-2 предложений). Не копируй пример. Можно перефразировать, добавить детали, но отзыв должен быть уникальным.\n",
            "Ты пишешь короткие отзывы жильцов управляющей компании. Пиши строго на русском. Пример отзыва:\n",
            "«магнитный замок так и не закреплён. диагностика и установление причин видимо даже не проводилось.»\n",
            "\n",
            "Напиши 1 уникальный отзыв по смыслу, похожий на пример (1-2 предложений). Не копируй пример. Можно перефразировать, добавить детали, но отзыв должен быть уникальным.\n"
          ]
        },
        {
          "name": "stderr",
          "output_type": "stream",
          "text": [
            "Генерируем синтетику:  35%|███▌      | 468/1335 [02:01<03:44,  3.86it/s]"
          ]
        },
        {
          "name": "stdout",
          "output_type": "stream",
          "text": [
            "Ты пишешь короткие отзывы жильцов управляющей компании. Пиши строго на русском. Пример отзыва:\n",
            "«все хорошо и быстро.»\n",
            "\n",
            "Напиши 1 уникальный отзыв по смыслу, похожий на пример (1-2 предложений). Не копируй пример. Можно перефразировать, добавить детали, но отзыв должен быть уникальным.\n",
            "Ты пишешь короткие отзывы жильцов управляющей компании. Пиши строго на русском. Пример отзыва:\n",
            "«спасибо! оперативно получены по электронной почте.»\n",
            "\n",
            "Напиши 1 уникальный отзыв по смыслу, похожий на пример (1-2 предложений). Не копируй пример. Можно перефразировать, добавить детали, но отзыв должен быть уникальным.\n"
          ]
        },
        {
          "name": "stderr",
          "output_type": "stream",
          "text": [
            "Генерируем синтетику:  35%|███▌      | 469/1335 [02:01<03:40,  3.92it/s]"
          ]
        },
        {
          "name": "stdout",
          "output_type": "stream",
          "text": [
            "Ты пишешь короткие отзывы жильцов управляющей компании. Пиши строго на русском. Пример отзыва:\n",
            "«работа выполнена на 5+.      но лампочки очень не качественные, часто меняют ((»\n",
            "\n",
            "Напиши 1 уникальный отзыв по смыслу, похожий на пример (1-2 предложений). Не копируй пример. Можно перефразировать, добавить детали, но отзыв должен быть уникальным.\n"
          ]
        },
        {
          "name": "stderr",
          "output_type": "stream",
          "text": [
            "Генерируем синтетику:  35%|███▌      | 470/1335 [02:01<03:57,  3.65it/s]"
          ]
        },
        {
          "name": "stdout",
          "output_type": "stream",
          "text": [
            "Ты пишешь короткие отзывы жильцов управляющей компании. Пиши строго на русском. Пример отзыва:\n",
            "«устранили неполадку очень оперативно и качественно. большое спасибо. »\n",
            "\n",
            "Напиши 1 уникальный отзыв по смыслу, похожий на пример (1-2 предложений). Не копируй пример. Можно перефразировать, добавить детали, но отзыв должен быть уникальным.\n"
          ]
        },
        {
          "name": "stderr",
          "output_type": "stream",
          "text": [
            "Генерируем синтетику:  35%|███▌      | 471/1335 [02:01<03:55,  3.67it/s]"
          ]
        },
        {
          "name": "stdout",
          "output_type": "stream",
          "text": [
            "Ты пишешь короткие отзывы жильцов управляющей компании. Пиши строго на русском. Пример отзыва:\n",
            "«Быстро отреагировали. Пятерка! :thumbs_up:  Спасибо.»\n",
            "\n",
            "Если в примере есть код эмодзи вида :smile:, то сохрани стиль — вставь похожий код эмодзи.\n",
            "\n",
            "Напиши 1 уникальный отзыв по смыслу, похожий на пример (1-2 предложений). Не копируй пример. Можно перефразировать, добавить детали, но отзыв должен быть уникальным.\n"
          ]
        },
        {
          "name": "stderr",
          "output_type": "stream",
          "text": [
            "Генерируем синтетику:  35%|███▌      | 473/1335 [02:02<03:35,  4.00it/s]"
          ]
        },
        {
          "name": "stdout",
          "output_type": "stream",
          "text": [
            "Ты пишешь короткие отзывы жильцов управляющей компании. Пиши строго на русском. Пример отзыва:\n",
            "«Спасибо мастерам за оперативность !!! »\n",
            "\n",
            "Напиши 1 уникальный отзыв по смыслу, похожий на пример (1-2 предложений). Не копируй пример. Можно перефразировать, добавить детали, но отзыв должен быть уникальным.\n",
            "Ты пишешь короткие отзывы жильцов управляющей компании. Пиши строго на русском. Пример отзыва:\n",
            "«наконец то»\n",
            "\n",
            "Напиши 1 уникальный отзыв по смыслу, похожий на пример (1-2 предложений). Не копируй пример. Можно перефразировать, добавить детали, но отзыв должен быть уникальным.\n"
          ]
        },
        {
          "name": "stderr",
          "output_type": "stream",
          "text": [
            "Генерируем синтетику:  36%|███▌      | 474/1335 [02:02<03:43,  3.85it/s]"
          ]
        },
        {
          "name": "stdout",
          "output_type": "stream",
          "text": [
            "Ты пишешь короткие отзывы жильцов управляющей компании. Пиши строго на русском. Пример отзыва:\n",
            "«Очень быстро!»\n",
            "\n",
            "Напиши 1 уникальный отзыв по смыслу, похожий на пример (1-2 предложений). Не копируй пример. Можно перефразировать, добавить детали, но отзыв должен быть уникальным.\n"
          ]
        },
        {
          "name": "stderr",
          "output_type": "stream",
          "text": [
            "Генерируем синтетику:  36%|███▌      | 475/1335 [02:02<03:32,  4.04it/s]"
          ]
        },
        {
          "name": "stdout",
          "output_type": "stream",
          "text": [
            "Ты пишешь короткие отзывы жильцов управляющей компании. Пиши строго на русском. Пример отзыва:\n",
            "«огромное спасибо! наконец-то решили проблему! девушка \"вела\" меня пошагово, терпеливо объясняя»\n",
            "\n",
            "Напиши 1 уникальный отзыв по смыслу, похожий на пример (1-2 предложений). Не копируй пример. Можно перефразировать, добавить детали, но отзыв должен быть уникальным.\n"
          ]
        },
        {
          "name": "stderr",
          "output_type": "stream",
          "text": [
            "Генерируем синтетику:  36%|███▌      | 476/1335 [02:03<04:03,  3.53it/s]"
          ]
        },
        {
          "name": "stdout",
          "output_type": "stream",
          "text": [
            "Ты пишешь короткие отзывы жильцов управляющей компании. Пиши строго на русском. Пример отзыва:\n",
            "«давайте уде чинить грузовой лифт, его про отключили и не чинят, очередь га лифт. и пассажирский лифт ломается раз в два дня..... делайте уже что нибудь,  .  ...... ......»\n",
            "\n",
            "Напиши 1 уникальный отзыв по смыслу, похожий на пример (1-2 предложений). Не копируй пример. Можно перефразировать, добавить детали, но отзыв должен быть уникальным.\n"
          ]
        },
        {
          "name": "stderr",
          "output_type": "stream",
          "text": [
            "Генерируем синтетику:  36%|███▌      | 478/1335 [02:03<03:48,  3.74it/s]"
          ]
        },
        {
          "name": "stdout",
          "output_type": "stream",
          "text": [
            "Ты пишешь короткие отзывы жильцов управляющей компании. Пиши строго на русском. Пример отзыва:\n",
            "«спасибо, мастер пришел все сделал»\n",
            "\n",
            "Напиши 1 уникальный отзыв по смыслу, похожий на пример (1-2 предложений). Не копируй пример. Можно перефразировать, добавить детали, но отзыв должен быть уникальным.\n",
            "Ты пишешь короткие отзывы жильцов управляющей компании. Пиши строго на русском. Пример отзыва:\n",
            "«спасибо, что быстро отреагировали. проблема решена.»\n",
            "\n",
            "Напиши 1 уникальный отзыв по смыслу, похожий на пример (1-2 предложений). Не копируй пример. Можно перефразировать, добавить детали, но отзыв должен быть уникальным.\n"
          ]
        },
        {
          "name": "stderr",
          "output_type": "stream",
          "text": [
            "Генерируем синтетику:  36%|███▌      | 479/1335 [02:04<03:47,  3.77it/s]"
          ]
        },
        {
          "name": "stdout",
          "output_type": "stream",
          "text": [
            "Ты пишешь короткие отзывы жильцов управляющей компании. Пиши строго на русском. Пример отзыва:\n",
            "«оперативно проведена консультация и проблема была устранена. огромное спасибо.»\n",
            "\n",
            "Напиши 1 уникальный отзыв по смыслу, похожий на пример (1-2 предложений). Не копируй пример. Можно перефразировать, добавить детали, но отзыв должен быть уникальным.\n"
          ]
        },
        {
          "name": "stderr",
          "output_type": "stream",
          "text": [
            "Генерируем синтетику:  36%|███▌      | 481/1335 [02:04<03:19,  4.28it/s]"
          ]
        },
        {
          "name": "stdout",
          "output_type": "stream",
          "text": [
            "Ты пишешь короткие отзывы жильцов управляющей компании. Пиши строго на русском. Пример отзыва:\n",
            "«оперативное решение вопроса.»\n",
            "\n",
            "Напиши 1 уникальный отзыв по смыслу, похожий на пример (1-2 предложений). Не копируй пример. Можно перефразировать, добавить детали, но отзыв должен быть уникальным.\n",
            "Ты пишешь короткие отзывы жильцов управляющей компании. Пиши строго на русском. Пример отзыва:\n",
            "«оперативно решили вопрос.»\n",
            "\n",
            "Напиши 1 уникальный отзыв по смыслу, похожий на пример (1-2 предложений). Не копируй пример. Можно перефразировать, добавить детали, но отзыв должен быть уникальным.\n"
          ]
        },
        {
          "name": "stderr",
          "output_type": "stream",
          "text": [
            "Генерируем синтетику:  36%|███▌      | 482/1335 [02:04<03:16,  4.35it/s]"
          ]
        },
        {
          "name": "stdout",
          "output_type": "stream",
          "text": [
            "Ты пишешь короткие отзывы жильцов управляющей компании. Пиши строго на русском. Пример отзыва:\n",
            "«Спасибо! Исправили мою ошибку»\n",
            "\n",
            "Напиши 1 уникальный отзыв по смыслу, похожий на пример (1-2 предложений). Не копируй пример. Можно перефразировать, добавить детали, но отзыв должен быть уникальным.\n"
          ]
        },
        {
          "name": "stderr",
          "output_type": "stream",
          "text": [
            "Генерируем синтетику:  36%|███▌      | 483/1335 [02:04<03:21,  4.23it/s]"
          ]
        },
        {
          "name": "stdout",
          "output_type": "stream",
          "text": [
            "Ты пишешь короткие отзывы жильцов управляющей компании. Пиши строго на русском. Пример отзыва:\n",
            "«было бы 5 звезд, но пришлось действовать через руководство, поэтому четыре. »\n",
            "\n",
            "Напиши 1 уникальный отзыв по смыслу, похожий на пример (1-2 предложений). Не копируй пример. Можно перефразировать, добавить детали, но отзыв должен быть уникальным.\n"
          ]
        },
        {
          "name": "stderr",
          "output_type": "stream",
          "text": [
            "Генерируем синтетику:  36%|███▋      | 484/1335 [02:05<03:34,  3.97it/s]"
          ]
        },
        {
          "name": "stdout",
          "output_type": "stream",
          "text": [
            "Ты пишешь короткие отзывы жильцов управляющей компании. Пиши строго на русском. Пример отзыва:\n",
            "«отлично »\n",
            "\n",
            "Напиши 1 уникальный отзыв по смыслу, похожий на пример (1-2 предложений). Не копируй пример. Можно перефразировать, добавить детали, но отзыв должен быть уникальным.\n"
          ]
        },
        {
          "name": "stderr",
          "output_type": "stream",
          "text": [
            "Генерируем синтетику:  36%|███▋      | 485/1335 [02:05<03:34,  3.96it/s]"
          ]
        },
        {
          "name": "stdout",
          "output_type": "stream",
          "text": [
            "Ты пишешь короткие отзывы жильцов управляющей компании. Пиши строго на русском. Пример отзыва:\n",
            "«быстро, чётко, без проблем. одно слово - мастер! »\n",
            "\n",
            "Напиши 1 уникальный отзыв по смыслу, похожий на пример (1-2 предложений). Не копируй пример. Можно перефразировать, добавить детали, но отзыв должен быть уникальным.\n"
          ]
        },
        {
          "name": "stderr",
          "output_type": "stream",
          "text": [
            "Генерируем синтетику:  36%|███▋      | 486/1335 [02:05<03:32,  4.00it/s]"
          ]
        },
        {
          "name": "stdout",
          "output_type": "stream",
          "text": [
            "Ты пишешь короткие отзывы жильцов управляющей компании. Пиши строго на русском. Пример отзыва:\n",
            "«Очень оперативно менеджер связался, ответил на вопросы и отправил необходимые документы. Благодарю!»\n",
            "\n",
            "Напиши 1 уникальный отзыв по смыслу, похожий на пример (1-2 предложений). Не копируй пример. Можно перефразировать, добавить детали, но отзыв должен быть уникальным.\n"
          ]
        },
        {
          "name": "stderr",
          "output_type": "stream",
          "text": [
            "Генерируем синтетику:  36%|███▋      | 487/1335 [02:06<03:56,  3.59it/s]"
          ]
        },
        {
          "name": "stdout",
          "output_type": "stream",
          "text": [
            "Ты пишешь короткие отзывы жильцов управляющей компании. Пиши строго на русском. Пример отзыва:\n",
            "«у меня перепутаны счетчики на электричество и мне начислено за другую квартиру, акт сделали, просьба сделать перерасчет с самого начала периода»\n",
            "\n",
            "Напиши 1 уникальный отзыв по смыслу, похожий на пример (1-2 предложений). Не копируй пример. Можно перефразировать, добавить детали, но отзыв должен быть уникальным.\n"
          ]
        },
        {
          "name": "stderr",
          "output_type": "stream",
          "text": [
            "Генерируем синтетику:  37%|███▋      | 488/1335 [02:06<04:18,  3.27it/s]"
          ]
        },
        {
          "name": "stdout",
          "output_type": "stream",
          "text": [
            "Ты пишешь короткие отзывы жильцов управляющей компании. Пиши строго на русском. Пример отзыва:\n",
            "«долго ехали, сигнализация орала несколько часов. невозможно нормально работать и жить, когда под ухом без перерыва несколько часов голосит сигнализация»\n",
            "\n",
            "Напиши 1 уникальный отзыв по смыслу, похожий на пример (1-2 предложений). Не копируй пример. Можно перефразировать, добавить детали, но отзыв должен быть уникальным.\n"
          ]
        },
        {
          "name": "stderr",
          "output_type": "stream",
          "text": [
            "Генерируем синтетику:  37%|███▋      | 489/1335 [02:06<04:20,  3.25it/s]"
          ]
        },
        {
          "name": "stdout",
          "output_type": "stream",
          "text": [
            "Ты пишешь короткие отзывы жильцов управляющей компании. Пиши строго на русском. Пример отзыва:\n",
            "«Спасибо огромное Татьяне, вопрос решился очень оперативно и четко. »\n",
            "\n",
            "Напиши 1 уникальный отзыв по смыслу, похожий на пример (1-2 предложений). Не копируй пример. Можно перефразировать, добавить детали, но отзыв должен быть уникальным.\n"
          ]
        },
        {
          "name": "stderr",
          "output_type": "stream",
          "text": [
            "Генерируем синтетику:  37%|███▋      | 490/1335 [02:07<04:19,  3.25it/s]"
          ]
        },
        {
          "name": "stdout",
          "output_type": "stream",
          "text": [
            "Ты пишешь короткие отзывы жильцов управляющей компании. Пиши строго на русском. Пример отзыва:\n",
            "«20 января, пока запаа нет»\n",
            "\n",
            "Напиши 1 уникальный отзыв по смыслу, похожий на пример (1-2 предложений). Не копируй пример. Можно перефразировать, добавить детали, но отзыв должен быть уникальным.\n"
          ]
        },
        {
          "name": "stderr",
          "output_type": "stream",
          "text": [
            "Генерируем синтетику:  37%|███▋      | 491/1335 [02:07<04:28,  3.15it/s]"
          ]
        },
        {
          "name": "stdout",
          "output_type": "stream",
          "text": [
            "Ты пишешь короткие отзывы жильцов управляющей компании. Пиши строго на русском. Пример отзыва:\n",
            "«здравствуйте мне нужны подтверждения оплаты а не квитанции. пришлите пожалуйста»\n",
            "\n",
            "Напиши 1 уникальный отзыв по смыслу, похожий на пример (1-2 предложений). Не копируй пример. Можно перефразировать, добавить детали, но отзыв должен быть уникальным.\n"
          ]
        },
        {
          "name": "stderr",
          "output_type": "stream",
          "text": [
            "Генерируем синтетику:  37%|███▋      | 492/1335 [02:07<04:17,  3.27it/s]"
          ]
        },
        {
          "name": "stdout",
          "output_type": "stream",
          "text": [
            "Ты пишешь короткие отзывы жильцов управляющей компании. Пиши строго на русском. Пример отзыва:\n",
            "«Быстро, мастеру большое спасибо»\n",
            "\n",
            "Напиши 1 уникальный отзыв по смыслу, похожий на пример (1-2 предложений). Не копируй пример. Можно перефразировать, добавить детали, но отзыв должен быть уникальным.\n"
          ]
        },
        {
          "name": "stderr",
          "output_type": "stream",
          "text": [
            "Генерируем синтетику:  37%|███▋      | 493/1335 [02:07<04:07,  3.40it/s]"
          ]
        },
        {
          "name": "stdout",
          "output_type": "stream",
          "text": [
            "Ты пишешь короткие отзывы жильцов управляющей компании. Пиши строго на русском. Пример отзыва:\n",
            "«работы не проводились и не начинались, \"завершились\" - они в фантазиях ))... с откоса как дуло,так и дует, со свистом!!!! из стены над окном тоже дует ветер!»\n",
            "\n",
            "Напиши 1 уникальный отзыв по смыслу, похожий на пример (1-2 предложений). Не копируй пример. Можно перефразировать, добавить детали, но отзыв должен быть уникальным.\n"
          ]
        },
        {
          "name": "stderr",
          "output_type": "stream",
          "text": [
            "Генерируем синтетику:  37%|███▋      | 494/1335 [02:08<04:32,  3.08it/s]"
          ]
        },
        {
          "name": "stdout",
          "output_type": "stream",
          "text": [
            "Ты пишешь короткие отзывы жильцов управляющей компании. Пиши строго на русском. Пример отзыва:\n",
            "«Очень надеюсь что квитанция будет дублироваться и в приложении. А так оперативно и быстро поступила. »\n",
            "\n",
            "Напиши 1 уникальный отзыв по смыслу, похожий на пример (1-2 предложений). Не копируй пример. Можно перефразировать, добавить детали, но отзыв должен быть уникальным.\n"
          ]
        },
        {
          "name": "stderr",
          "output_type": "stream",
          "text": [
            "Генерируем синтетику:  37%|███▋      | 495/1335 [02:08<04:27,  3.15it/s]"
          ]
        },
        {
          "name": "stdout",
          "output_type": "stream",
          "text": [
            "Ты пишешь короткие отзывы жильцов управляющей компании. Пиши строго на русском. Пример отзыва:\n",
            "« :red_heart: ️ :red_heart: ️ :red_heart: ️ живу тут не долго но пока что вы лучшая ук, спасибо за быстрое регирование на проблемы, хорошего дня»\n",
            "\n",
            "Если в примере есть код эмодзи вида :smile:, то сохрани стиль — вставь похожий код эмодзи.\n",
            "\n",
            "Напиши 1 уникальный отзыв по смыслу, похожий на пример (1-2 предложений). Не копируй пример. Можно перефразировать, добавить детали, но отзыв должен быть уникальным.\n"
          ]
        },
        {
          "name": "stderr",
          "output_type": "stream",
          "text": [
            "Генерируем синтетику:  37%|███▋      | 497/1335 [02:09<04:11,  3.33it/s]"
          ]
        },
        {
          "name": "stdout",
          "output_type": "stream",
          "text": [
            "Ты пишешь короткие отзывы жильцов управляющей компании. Пиши строго на русском. Пример отзыва:\n",
            "«быстро и четко»\n",
            "\n",
            "Напиши 1 уникальный отзыв по смыслу, похожий на пример (1-2 предложений). Не копируй пример. Можно перефразировать, добавить детали, но отзыв должен быть уникальным.\n",
            "Ты пишешь короткие отзывы жильцов управляющей компании. Пиши строго на русском. Пример отзыва:\n",
            "«спасибо за оперативную работу»\n",
            "\n",
            "Напиши 1 уникальный отзыв по смыслу, похожий на пример (1-2 предложений). Не копируй пример. Можно перефразировать, добавить детали, но отзыв должен быть уникальным.\n"
          ]
        },
        {
          "name": "stderr",
          "output_type": "stream",
          "text": [
            "Генерируем синтетику:  37%|███▋      | 498/1335 [02:09<03:43,  3.74it/s]"
          ]
        },
        {
          "name": "stdout",
          "output_type": "stream",
          "text": [
            "Ты пишешь короткие отзывы жильцов управляющей компании. Пиши строго на русском. Пример отзыва:\n",
            "«Быстро и четко!!!»\n",
            "\n",
            "Напиши 1 уникальный отзыв по смыслу, похожий на пример (1-2 предложений). Не копируй пример. Можно перефразировать, добавить детали, но отзыв должен быть уникальным.\n"
          ]
        },
        {
          "name": "stderr",
          "output_type": "stream",
          "text": [
            "Генерируем синтетику:  37%|███▋      | 499/1335 [02:09<03:35,  3.88it/s]"
          ]
        },
        {
          "name": "stdout",
          "output_type": "stream",
          "text": [
            "Ты пишешь короткие отзывы жильцов управляющей компании. Пиши строго на русском. Пример отзыва:\n",
            "«выражаю огромную благодарность за оперативность, понимание и возможность решить этот вопрос дистанционным путём!»\n",
            "\n",
            "Напиши 1 уникальный отзыв по смыслу, похожий на пример (1-2 предложений). Не копируй пример. Можно перефразировать, добавить детали, но отзыв должен быть уникальным.\n"
          ]
        },
        {
          "name": "stderr",
          "output_type": "stream",
          "text": [
            "Генерируем синтетику:  37%|███▋      | 500/1335 [02:09<03:44,  3.72it/s]"
          ]
        },
        {
          "name": "stdout",
          "output_type": "stream",
          "text": [
            "Ты пишешь короткие отзывы жильцов управляющей компании. Пиши строго на русском. Пример отзыва:\n",
            "«добрый вечер. да, в личном кабинете написано, что оплата . объясните почему нет чеков в истории оплат?»\n",
            "\n",
            "Напиши 1 уникальный отзыв по смыслу, похожий на пример (1-2 предложений). Не копируй пример. Можно перефразировать, добавить детали, но отзыв должен быть уникальным.\n"
          ]
        },
        {
          "name": "stderr",
          "output_type": "stream",
          "text": [
            "Генерируем синтетику:  38%|███▊      | 501/1335 [02:10<04:06,  3.38it/s]"
          ]
        },
        {
          "name": "stdout",
          "output_type": "stream",
          "text": [
            "Ты пишешь короткие отзывы жильцов управляющей компании. Пиши строго на русском. Пример отзыва:\n",
            "«всё супер. спасибо сантехнику за решение проблемы.»\n",
            "\n",
            "Напиши 1 уникальный отзыв по смыслу, похожий на пример (1-2 предложений). Не копируй пример. Можно перефразировать, добавить детали, но отзыв должен быть уникальным.\n"
          ]
        },
        {
          "name": "stderr",
          "output_type": "stream",
          "text": [
            "Генерируем синтетику:  38%|███▊      | 502/1335 [02:10<04:00,  3.47it/s]"
          ]
        },
        {
          "name": "stdout",
          "output_type": "stream",
          "text": [
            "Ты пишешь короткие отзывы жильцов управляющей компании. Пиши строго на русском. Пример отзыва:\n",
            "«Электрик быстро пришёл и всё устранил! Спасибо, очень доволен работой! »\n",
            "\n",
            "Напиши 1 уникальный отзыв по смыслу, похожий на пример (1-2 предложений). Не копируй пример. Можно перефразировать, добавить детали, но отзыв должен быть уникальным.\n"
          ]
        },
        {
          "name": "stderr",
          "output_type": "stream",
          "text": [
            "Генерируем синтетику:  38%|███▊      | 503/1335 [02:10<03:56,  3.52it/s]"
          ]
        },
        {
          "name": "stdout",
          "output_type": "stream",
          "text": [
            "Ты пишешь короткие отзывы жильцов управляющей компании. Пиши строго на русском. Пример отзыва:\n",
            "«спасибо большое за быстрое реагирование. »\n",
            "\n",
            "Напиши 1 уникальный отзыв по смыслу, похожий на пример (1-2 предложений). Не копируй пример. Можно перефразировать, добавить детали, но отзыв должен быть уникальным.\n"
          ]
        },
        {
          "name": "stderr",
          "output_type": "stream",
          "text": [
            "Генерируем синтетику:  38%|███▊      | 504/1335 [02:11<03:37,  3.82it/s]"
          ]
        },
        {
          "name": "stdout",
          "output_type": "stream",
          "text": [
            "Ты пишешь короткие отзывы жильцов управляющей компании. Пиши строго на русском. Пример отзыва:\n",
            "«оперативно отреагировали быстро сделали спасибо»\n",
            "\n",
            "Напиши 1 уникальный отзыв по смыслу, похожий на пример (1-2 предложений). Не копируй пример. Можно перефразировать, добавить детали, но отзыв должен быть уникальным.\n"
          ]
        },
        {
          "name": "stderr",
          "output_type": "stream",
          "text": [
            "Генерируем синтетику:  38%|███▊      | 505/1335 [02:11<03:24,  4.06it/s]"
          ]
        },
        {
          "name": "stdout",
          "output_type": "stream",
          "text": [
            "Ты пишешь короткие отзывы жильцов управляющей компании. Пиши строго на русском. Пример отзыва:\n",
            "«теперь у меня тоже начали шуметь, переоткройте заявку.»\n",
            "\n",
            "Напиши 1 уникальный отзыв по смыслу, похожий на пример (1-2 предложений). Не копируй пример. Можно перефразировать, добавить детали, но отзыв должен быть уникальным.\n"
          ]
        },
        {
          "name": "stderr",
          "output_type": "stream",
          "text": [
            "Генерируем синтетику:  38%|███▊      | 506/1335 [02:11<03:44,  3.69it/s]"
          ]
        },
        {
          "name": "stdout",
          "output_type": "stream",
          "text": [
            "Ты пишешь короткие отзывы жильцов управляющей компании. Пиши строго на русском. Пример отзыва:\n",
            "«Ключи работают. »\n",
            "\n",
            "Напиши 1 уникальный отзыв по смыслу, похожий на пример (1-2 предложений). Не копируй пример. Можно перефразировать, добавить детали, но отзыв должен быть уникальным.\n"
          ]
        },
        {
          "name": "stderr",
          "output_type": "stream",
          "text": [
            "Генерируем синтетику:  38%|███▊      | 507/1335 [02:11<03:27,  3.99it/s]"
          ]
        },
        {
          "name": "stdout",
          "output_type": "stream",
          "text": [
            "Ты пишешь короткие отзывы жильцов управляющей компании. Пиши строго на русском. Пример отзыва:\n",
            "«спасибо оперативно!! ;»\n",
            "\n",
            "Напиши 1 уникальный отзыв по смыслу, похожий на пример (1-2 предложений). Не копируй пример. Можно перефразировать, добавить детали, но отзыв должен быть уникальным.\n"
          ]
        },
        {
          "name": "stderr",
          "output_type": "stream",
          "text": [
            "Генерируем синтетику:  38%|███▊      | 508/1335 [02:12<03:16,  4.21it/s]"
          ]
        },
        {
          "name": "stdout",
          "output_type": "stream",
          "text": [
            "Ты пишешь короткие отзывы жильцов управляющей компании. Пиши строго на русском. Пример отзыва:\n",
            "«оперативно и качественно. спасибо »\n",
            "\n",
            "Напиши 1 уникальный отзыв по смыслу, похожий на пример (1-2 предложений). Не копируй пример. Можно перефразировать, добавить детали, но отзыв должен быть уникальным.\n"
          ]
        },
        {
          "name": "stderr",
          "output_type": "stream",
          "text": [
            "Генерируем синтетику:  38%|███▊      | 509/1335 [02:12<03:11,  4.32it/s]"
          ]
        },
        {
          "name": "stdout",
          "output_type": "stream",
          "text": [
            "Ты пишешь короткие отзывы жильцов управляющей компании. Пиши строго на русском. Пример отзыва:\n",
            "«вытяжка заработала - спасибо. отдельное спасибо мастеру, который сообщил, что нет причин, препятствующих подключению вытяжки к домовой вентиляции »\n",
            "\n",
            "Напиши 1 уникальный отзыв по смыслу, похожий на пример (1-2 предложений). Не копируй пример. Можно перефразировать, добавить детали, но отзыв должен быть уникальным.\n"
          ]
        },
        {
          "name": "stderr",
          "output_type": "stream",
          "text": [
            "Генерируем синтетику:  38%|███▊      | 510/1335 [02:12<03:46,  3.65it/s]"
          ]
        },
        {
          "name": "stdout",
          "output_type": "stream",
          "text": [
            "Ты пишешь короткие отзывы жильцов управляющей компании. Пиши строго на русском. Пример отзыва:\n",
            "«В течении 2 часов после создания заявки все устранили, спасибо»\n",
            "\n",
            "Напиши 1 уникальный отзыв по смыслу, похожий на пример (1-2 предложений). Не копируй пример. Можно перефразировать, добавить детали, но отзыв должен быть уникальным.\n"
          ]
        },
        {
          "name": "stderr",
          "output_type": "stream",
          "text": [
            "Генерируем синтетику:  38%|███▊      | 511/1335 [02:12<03:42,  3.71it/s]"
          ]
        },
        {
          "name": "stdout",
          "output_type": "stream",
          "text": [
            "Ты пишешь короткие отзывы жильцов управляющей компании. Пиши строго на русском. Пример отзыва:\n",
            "«забрал очки»\n",
            "\n",
            "Напиши 1 уникальный отзыв по смыслу, похожий на пример (1-2 предложений). Не копируй пример. Можно перефразировать, добавить детали, но отзыв должен быть уникальным.\n"
          ]
        },
        {
          "name": "stderr",
          "output_type": "stream",
          "text": [
            "Генерируем синтетику:  38%|███▊      | 512/1335 [02:13<03:57,  3.47it/s]"
          ]
        },
        {
          "name": "stdout",
          "output_type": "stream",
          "text": [
            "Ты пишешь короткие отзывы жильцов управляющей компании. Пиши строго на русском. Пример отзыва:\n",
            "«вопрос за декабрь сумма более 12 т.р из-за чего такая большая разница?»\n",
            "\n",
            "Напиши 1 уникальный отзыв по смыслу, похожий на пример (1-2 предложений). Не копируй пример. Можно перефразировать, добавить детали, но отзыв должен быть уникальным.\n"
          ]
        },
        {
          "name": "stderr",
          "output_type": "stream",
          "text": [
            "Генерируем синтетику:  38%|███▊      | 513/1335 [02:13<04:09,  3.30it/s]"
          ]
        },
        {
          "name": "stdout",
          "output_type": "stream",
          "text": [
            "Ты пишешь короткие отзывы жильцов управляющей компании. Пиши строго на русском. Пример отзыва:\n",
            "«Быстро! Оперативно»\n",
            "\n",
            "Напиши 1 уникальный отзыв по смыслу, похожий на пример (1-2 предложений). Не копируй пример. Можно перефразировать, добавить детали, но отзыв должен быть уникальным.\n"
          ]
        },
        {
          "name": "stderr",
          "output_type": "stream",
          "text": [
            "Генерируем синтетику:  39%|███▊      | 514/1335 [02:13<04:03,  3.38it/s]"
          ]
        },
        {
          "name": "stdout",
          "output_type": "stream",
          "text": [
            "Ты пишешь короткие отзывы жильцов управляющей компании. Пиши строго на русском. Пример отзыва:\n",
            "«Все быстро, качественно, как договорились. Спасибо.»\n",
            "\n",
            "Напиши 1 уникальный отзыв по смыслу, похожий на пример (1-2 предложений). Не копируй пример. Можно перефразировать, добавить детали, но отзыв должен быть уникальным.\n"
          ]
        },
        {
          "name": "stderr",
          "output_type": "stream",
          "text": [
            "Генерируем синтетику:  39%|███▊      | 515/1335 [02:14<03:45,  3.64it/s]"
          ]
        },
        {
          "name": "stdout",
          "output_type": "stream",
          "text": [
            "Ты пишешь короткие отзывы жильцов управляющей компании. Пиши строго на русском. Пример отзыва:\n",
            "«жду появления счетчика в лк»\n",
            "\n",
            "Напиши 1 уникальный отзыв по смыслу, похожий на пример (1-2 предложений). Не копируй пример. Можно перефразировать, добавить детали, но отзыв должен быть уникальным.\n"
          ]
        },
        {
          "name": "stderr",
          "output_type": "stream",
          "text": [
            "Генерируем синтетику:  39%|███▊      | 517/1335 [02:14<03:16,  4.15it/s]"
          ]
        },
        {
          "name": "stdout",
          "output_type": "stream",
          "text": [
            "Ты пишешь короткие отзывы жильцов управляющей компании. Пиши строго на русском. Пример отзыва:\n",
            "«Отлично»\n",
            "\n",
            "Напиши 1 уникальный отзыв по смыслу, похожий на пример (1-2 предложений). Не копируй пример. Можно перефразировать, добавить детали, но отзыв должен быть уникальным.\n"
          ]
        },
        {
          "name": "stderr",
          "output_type": "stream",
          "text": [
            "Генерируем синтетику:  39%|███▉      | 518/1335 [02:14<03:04,  4.43it/s]"
          ]
        },
        {
          "name": "stdout",
          "output_type": "stream",
          "text": [
            "Ты пишешь короткие отзывы жильцов управляющей компании. Пиши строго на русском. Пример отзыва:\n",
            "«спасибо за оперативность! все настроено»\n",
            "\n",
            "Напиши 1 уникальный отзыв по смыслу, похожий на пример (1-2 предложений). Не копируй пример. Можно перефразировать, добавить детали, но отзыв должен быть уникальным.\n",
            "Ты пишешь короткие отзывы жильцов управляющей компании. Пиши строго на русском. Пример отзыва:\n",
            "«Спасибо большое, всё понятно.»\n",
            "\n",
            "Напиши 1 уникальный отзыв по смыслу, похожий на пример (1-2 предложений). Не копируй пример. Можно перефразировать, добавить детали, но отзыв должен быть уникальным.\n"
          ]
        },
        {
          "name": "stderr",
          "output_type": "stream",
          "text": [
            "Генерируем синтетику:  39%|███▉      | 519/1335 [02:14<02:53,  4.71it/s]"
          ]
        },
        {
          "name": "stdout",
          "output_type": "stream",
          "text": [
            "Ты пишешь короткие отзывы жильцов управляющей компании. Пиши строго на русском. Пример отзыва:\n",
            "«мастер подошёл в течении 3 минут. спасибо огромное.»\n",
            "\n",
            "Напиши 1 уникальный отзыв по смыслу, похожий на пример (1-2 предложений). Не копируй пример. Можно перефразировать, добавить детали, но отзыв должен быть уникальным.\n"
          ]
        },
        {
          "name": "stderr",
          "output_type": "stream",
          "text": [
            "Генерируем синтетику:  39%|███▉      | 520/1335 [02:15<03:03,  4.45it/s]"
          ]
        },
        {
          "name": "stdout",
          "output_type": "stream",
          "text": [
            "Ты пишешь короткие отзывы жильцов управляющей компании. Пиши строго на русском. Пример отзыва:\n",
            "«Всё супер »\n",
            "\n",
            "Напиши 1 уникальный отзыв по смыслу, похожий на пример (1-2 предложений). Не копируй пример. Можно перефразировать, добавить детали, но отзыв должен быть уникальным.\n"
          ]
        },
        {
          "name": "stderr",
          "output_type": "stream",
          "text": [
            "Генерируем синтетику:  39%|███▉      | 522/1335 [02:15<02:56,  4.60it/s]"
          ]
        },
        {
          "name": "stdout",
          "output_type": "stream",
          "text": [
            "Ты пишешь короткие отзывы жильцов управляющей компании. Пиши строго на русском. Пример отзыва:\n",
            "«заявка не выполнена»\n",
            "\n",
            "Напиши 1 уникальный отзыв по смыслу, похожий на пример (1-2 предложений). Не копируй пример. Можно перефразировать, добавить детали, но отзыв должен быть уникальным.\n",
            "Ты пишешь короткие отзывы жильцов управляющей компании. Пиши строго на русском. Пример отзыва:\n",
            "«оперативно заменили и опломбировали, спасибо!»\n",
            "\n",
            "Напиши 1 уникальный отзыв по смыслу, похожий на пример (1-2 предложений). Не копируй пример. Можно перефразировать, добавить детали, но отзыв должен быть уникальным.\n"
          ]
        },
        {
          "name": "stderr",
          "output_type": "stream",
          "text": [
            "Генерируем синтетику:  39%|███▉      | 524/1335 [02:15<02:46,  4.86it/s]"
          ]
        },
        {
          "name": "stdout",
          "output_type": "stream",
          "text": [
            "Ты пишешь короткие отзывы жильцов управляющей компании. Пиши строго на русском. Пример отзыва:\n",
            "«Спасибо большое!)»\n",
            "\n",
            "Напиши 1 уникальный отзыв по смыслу, похожий на пример (1-2 предложений). Не копируй пример. Можно перефразировать, добавить детали, но отзыв должен быть уникальным.\n",
            "Ты пишешь короткие отзывы жильцов управляющей компании. Пиши строго на русском. Пример отзыва:\n",
            "«быстро и оперативно помогли решить вопрос!»\n",
            "\n",
            "Напиши 1 уникальный отзыв по смыслу, похожий на пример (1-2 предложений). Не копируй пример. Можно перефразировать, добавить детали, но отзыв должен быть уникальным.\n"
          ]
        },
        {
          "name": "stderr",
          "output_type": "stream",
          "text": [
            "Генерируем синтетику:  39%|███▉      | 525/1335 [02:16<02:53,  4.67it/s]"
          ]
        },
        {
          "name": "stdout",
          "output_type": "stream",
          "text": [
            "Ты пишешь короткие отзывы жильцов управляющей компании. Пиши строго на русском. Пример отзыва:\n",
            "«Спасибо большое за оперативность и качество! :red_heart: »\n",
            "\n",
            "Если в примере есть код эмодзи вида :smile:, то сохрани стиль — вставь похожий код эмодзи.\n",
            "\n",
            "Напиши 1 уникальный отзыв по смыслу, похожий на пример (1-2 предложений). Не копируй пример. Можно перефразировать, добавить детали, но отзыв должен быть уникальным.\n"
          ]
        },
        {
          "name": "stderr",
          "output_type": "stream",
          "text": [
            "Генерируем синтетику:  39%|███▉      | 526/1335 [02:16<02:58,  4.53it/s]"
          ]
        },
        {
          "name": "stdout",
          "output_type": "stream",
          "text": [
            "Ты пишешь короткие отзывы жильцов управляющей компании. Пиши строго на русском. Пример отзыва:\n",
            "«Специалист прекрасно выполнил работу! Благодарна за отзывчивость. Больше бы таких сотрудников.»\n",
            "\n",
            "Напиши 1 уникальный отзыв по смыслу, похожий на пример (1-2 предложений). Не копируй пример. Можно перефразировать, добавить детали, но отзыв должен быть уникальным.\n"
          ]
        },
        {
          "name": "stderr",
          "output_type": "stream",
          "text": [
            "Генерируем синтетику:  39%|███▉      | 527/1335 [02:16<03:19,  4.06it/s]"
          ]
        },
        {
          "name": "stdout",
          "output_type": "stream",
          "text": [
            "Ты пишешь короткие отзывы жильцов управляющей компании. Пиши строго на русском. Пример отзыва:\n",
            "«спасибо, все выполнено быстро»\n",
            "\n",
            "Напиши 1 уникальный отзыв по смыслу, похожий на пример (1-2 предложений). Не копируй пример. Можно перефразировать, добавить детали, но отзыв должен быть уникальным.\n"
          ]
        },
        {
          "name": "stderr",
          "output_type": "stream",
          "text": [
            "Генерируем синтетику:  40%|███▉      | 528/1335 [02:16<03:11,  4.22it/s]"
          ]
        },
        {
          "name": "stdout",
          "output_type": "stream",
          "text": [
            "Ты пишешь короткие отзывы жильцов управляющей компании. Пиши строго на русском. Пример отзыва:\n",
            "«быстро и оперативно демонтировали замок»\n",
            "\n",
            "Напиши 1 уникальный отзыв по смыслу, похожий на пример (1-2 предложений). Не копируй пример. Можно перефразировать, добавить детали, но отзыв должен быть уникальным.\n"
          ]
        },
        {
          "name": "stderr",
          "output_type": "stream",
          "text": [
            "Генерируем синтетику:  40%|███▉      | 529/1335 [02:17<03:24,  3.95it/s]"
          ]
        },
        {
          "name": "stdout",
          "output_type": "stream",
          "text": [
            "Ты пишешь короткие отзывы жильцов управляющей компании. Пиши строго на русском. Пример отзыва:\n",
            "«спасибо большое! надолго ли :face_with_rolling_eyes: »\n",
            "\n",
            "Если в примере есть код эмодзи вида :smile:, то сохрани стиль — вставь похожий код эмодзи.\n",
            "\n",
            "Напиши 1 уникальный отзыв по смыслу, похожий на пример (1-2 предложений). Не копируй пример. Можно перефразировать, добавить детали, но отзыв должен быть уникальным.\n"
          ]
        },
        {
          "name": "stderr",
          "output_type": "stream",
          "text": [
            "Генерируем синтетику:  40%|███▉      | 530/1335 [02:17<03:23,  3.96it/s]"
          ]
        },
        {
          "name": "stdout",
          "output_type": "stream",
          "text": [
            "Ты пишешь короткие отзывы жильцов управляющей компании. Пиши строго на русском. Пример отзыва:\n",
            "«Оперативно выполнили заявку. Спасибо»\n",
            "\n",
            "Напиши 1 уникальный отзыв по смыслу, похожий на пример (1-2 предложений). Не копируй пример. Можно перефразировать, добавить детали, но отзыв должен быть уникальным.\n"
          ]
        },
        {
          "name": "stderr",
          "output_type": "stream",
          "text": [
            "Генерируем синтетику:  40%|███▉      | 531/1335 [02:17<03:17,  4.08it/s]"
          ]
        },
        {
          "name": "stdout",
          "output_type": "stream",
          "text": [
            "Ты пишешь короткие отзывы жильцов управляющей компании. Пиши строго на русском. Пример отзыва:\n",
            "«спасибо дмитрию. пришел оперативно. \n",
            "все сделал.»\n",
            "\n",
            "Напиши 1 уникальный отзыв по смыслу, похожий на пример (1-2 предложений). Не копируй пример. Можно перефразировать, добавить детали, но отзыв должен быть уникальным.\n"
          ]
        },
        {
          "name": "stderr",
          "output_type": "stream",
          "text": [
            "Генерируем синтетику:  40%|███▉      | 533/1335 [02:18<03:01,  4.42it/s]"
          ]
        },
        {
          "name": "stdout",
          "output_type": "stream",
          "text": [
            "Ты пишешь короткие отзывы жильцов управляющей компании. Пиши строго на русском. Пример отзыва:\n",
            "«Работает. Спасибо!»\n",
            "\n",
            "Напиши 1 уникальный отзыв по смыслу, похожий на пример (1-2 предложений). Не копируй пример. Можно перефразировать, добавить детали, но отзыв должен быть уникальным.\n",
            "Ты пишешь короткие отзывы жильцов управляющей компании. Пиши строго на русском. Пример отзыва:\n",
            "«Вот теперь все данные правильно внесены. Спасибо.»\n",
            "\n",
            "Напиши 1 уникальный отзыв по смыслу, похожий на пример (1-2 предложений). Не копируй пример. Можно перефразировать, добавить детали, но отзыв должен быть уникальным.\n"
          ]
        },
        {
          "name": "stderr",
          "output_type": "stream",
          "text": [
            "Генерируем синтетику:  40%|████      | 534/1335 [02:18<02:52,  4.65it/s]"
          ]
        },
        {
          "name": "stdout",
          "output_type": "stream",
          "text": [
            "Ты пишешь короткие отзывы жильцов управляющей компании. Пиши строго на русском. Пример отзыва:\n",
            "«быстро »\n",
            "\n",
            "Напиши 1 уникальный отзыв по смыслу, похожий на пример (1-2 предложений). Не копируй пример. Можно перефразировать, добавить детали, но отзыв должен быть уникальным.\n"
          ]
        },
        {
          "name": "stderr",
          "output_type": "stream",
          "text": [
            "Генерируем синтетику:  40%|████      | 535/1335 [02:18<03:01,  4.41it/s]"
          ]
        },
        {
          "name": "stdout",
          "output_type": "stream",
          "text": [
            "Ты пишешь короткие отзывы жильцов управляющей компании. Пиши строго на русском. Пример отзыва:\n",
            "«Оперативная работа»\n",
            "\n",
            "Напиши 1 уникальный отзыв по смыслу, похожий на пример (1-2 предложений). Не копируй пример. Можно перефразировать, добавить детали, но отзыв должен быть уникальным.\n"
          ]
        },
        {
          "name": "stderr",
          "output_type": "stream",
          "text": [
            "Генерируем синтетику:  40%|████      | 537/1335 [02:18<02:52,  4.62it/s]"
          ]
        },
        {
          "name": "stdout",
          "output_type": "stream",
          "text": [
            "Ты пишешь короткие отзывы жильцов управляющей компании. Пиши строго на русском. Пример отзыва:\n",
            "«оперативно и качественно! браво!»\n",
            "\n",
            "Напиши 1 уникальный отзыв по смыслу, похожий на пример (1-2 предложений). Не копируй пример. Можно перефразировать, добавить детали, но отзыв должен быть уникальным.\n",
            "Ты пишешь короткие отзывы жильцов управляющей компании. Пиши строго на русском. Пример отзыва:\n",
            "«все хорошо, очень доступно все объяснили»\n",
            "\n",
            "Напиши 1 уникальный отзыв по смыслу, похожий на пример (1-2 предложений). Не копируй пример. Можно перефразировать, добавить детали, но отзыв должен быть уникальным.\n"
          ]
        },
        {
          "name": "stderr",
          "output_type": "stream",
          "text": [
            "Генерируем синтетику:  40%|████      | 538/1335 [02:19<02:52,  4.61it/s]"
          ]
        },
        {
          "name": "stdout",
          "output_type": "stream",
          "text": [
            "Ты пишешь короткие отзывы жильцов управляющей компании. Пиши строго на русском. Пример отзыва:\n",
            "«Отличная работа»\n",
            "\n",
            "Напиши 1 уникальный отзыв по смыслу, похожий на пример (1-2 предложений). Не копируй пример. Можно перефразировать, добавить детали, но отзыв должен быть уникальным.\n"
          ]
        },
        {
          "name": "stderr",
          "output_type": "stream",
          "text": [
            "Генерируем синтетику:  40%|████      | 539/1335 [02:19<03:01,  4.39it/s]"
          ]
        },
        {
          "name": "stdout",
          "output_type": "stream",
          "text": [
            "Ты пишешь короткие отзывы жильцов управляющей компании. Пиши строго на русском. Пример отзыва:\n",
            "«благодарю за оперативность проведённой работы!»\n",
            "\n",
            "Напиши 1 уникальный отзыв по смыслу, похожий на пример (1-2 предложений). Не копируй пример. Можно перефразировать, добавить детали, но отзыв должен быть уникальным.\n"
          ]
        },
        {
          "name": "stderr",
          "output_type": "stream",
          "text": [
            "Генерируем синтетику:  40%|████      | 540/1335 [02:19<03:02,  4.35it/s]"
          ]
        },
        {
          "name": "stdout",
          "output_type": "stream",
          "text": [
            "Ты пишешь короткие отзывы жильцов управляющей компании. Пиши строго на русском. Пример отзыва:\n",
            "«Спасибо. Оперативно приняли заявку и отремонтировали.Лифт работает исправно.»\n",
            "\n",
            "Напиши 1 уникальный отзыв по смыслу, похожий на пример (1-2 предложений). Не копируй пример. Можно перефразировать, добавить детали, но отзыв должен быть уникальным.\n"
          ]
        },
        {
          "name": "stderr",
          "output_type": "stream",
          "text": [
            "Генерируем синтетику:  41%|████      | 541/1335 [02:19<03:12,  4.13it/s]"
          ]
        },
        {
          "name": "stdout",
          "output_type": "stream",
          "text": [
            "Ты пишешь короткие отзывы жильцов управляющей компании. Пиши строго на русском. Пример отзыва:\n",
            "«Спасибо Мастеру Олегу!»\n",
            "\n",
            "Напиши 1 уникальный отзыв по смыслу, похожий на пример (1-2 предложений). Не копируй пример. Можно перефразировать, добавить детали, но отзыв должен быть уникальным.\n"
          ]
        },
        {
          "name": "stderr",
          "output_type": "stream",
          "text": [
            "Генерируем синтетику:  41%|████      | 543/1335 [02:20<03:00,  4.38it/s]"
          ]
        },
        {
          "name": "stdout",
          "output_type": "stream",
          "text": [
            "Ты пишешь короткие отзывы жильцов управляющей компании. Пиши строго на русском. Пример отзыва:\n",
            "«теперь всё в норме!)) :thumbs_up: »\n",
            "\n",
            "Если в примере есть код эмодзи вида :smile:, то сохрани стиль — вставь похожий код эмодзи.\n",
            "\n",
            "Напиши 1 уникальный отзыв по смыслу, похожий на пример (1-2 предложений). Не копируй пример. Можно перефразировать, добавить детали, но отзыв должен быть уникальным.\n",
            "Ты пишешь короткие отзывы жильцов управляющей компании. Пиши строго на русском. Пример отзыва:\n",
            "«огромное спасибо. все четко. предварительно перезвонили и мастер пришел в назначенное время»\n",
            "\n",
            "Напиши 1 уникальный отзыв по смыслу, похожий на пример (1-2 предложений). Не копируй пример. Можно перефразировать, добавить детали, но отзыв должен быть уникальным.\n"
          ]
        },
        {
          "name": "stderr",
          "output_type": "stream",
          "text": [
            "Генерируем синтетику:  41%|████      | 544/1335 [02:20<03:21,  3.93it/s]"
          ]
        },
        {
          "name": "stdout",
          "output_type": "stream",
          "text": [
            "Ты пишешь короткие отзывы жильцов управляющей компании. Пиши строго на русском. Пример отзыва:\n",
            "«к сожалению протечка все равно есть небольшая, нужно менять гайку»\n",
            "\n",
            "Напиши 1 уникальный отзыв по смыслу, похожий на пример (1-2 предложений). Не копируй пример. Можно перефразировать, добавить детали, но отзыв должен быть уникальным.\n"
          ]
        },
        {
          "name": "stderr",
          "output_type": "stream",
          "text": [
            "Генерируем синтетику:  41%|████      | 545/1335 [02:20<03:20,  3.94it/s]"
          ]
        },
        {
          "name": "stdout",
          "output_type": "stream",
          "text": [
            "Ты пишешь короткие отзывы жильцов управляющей компании. Пиши строго на русском. Пример отзыва:\n",
            "«спасибо! в тот же день электрик решил проблему.»\n",
            "\n",
            "Напиши 1 уникальный отзыв по смыслу, похожий на пример (1-2 предложений). Не копируй пример. Можно перефразировать, добавить детали, но отзыв должен быть уникальным.\n"
          ]
        },
        {
          "name": "stderr",
          "output_type": "stream",
          "text": [
            "Генерируем синтетику:  41%|████      | 546/1335 [02:21<03:14,  4.05it/s]"
          ]
        },
        {
          "name": "stdout",
          "output_type": "stream",
          "text": [
            "Ты пишешь короткие отзывы жильцов управляющей компании. Пиши строго на русском. Пример отзыва:\n",
            "«мастер пришел быстро. пломбу тоже поставил быстро. спасибо»\n",
            "\n",
            "Напиши 1 уникальный отзыв по смыслу, похожий на пример (1-2 предложений). Не копируй пример. Можно перефразировать, добавить детали, но отзыв должен быть уникальным.\n"
          ]
        },
        {
          "name": "stderr",
          "output_type": "stream",
          "text": [
            "Генерируем синтетику:  41%|████      | 547/1335 [02:21<03:23,  3.88it/s]"
          ]
        },
        {
          "name": "stdout",
          "output_type": "stream",
          "text": [
            "Ты пишешь короткие отзывы жильцов управляющей компании. Пиши строго на русском. Пример отзыва:\n",
            "«спасибо! оперативно все починили»\n",
            "\n",
            "Напиши 1 уникальный отзыв по смыслу, похожий на пример (1-2 предложений). Не копируй пример. Можно перефразировать, добавить детали, но отзыв должен быть уникальным.\n"
          ]
        },
        {
          "name": "stderr",
          "output_type": "stream",
          "text": [
            "Генерируем синтетику:  41%|████      | 548/1335 [02:21<03:11,  4.11it/s]"
          ]
        },
        {
          "name": "stdout",
          "output_type": "stream",
          "text": [
            "Ты пишешь короткие отзывы жильцов управляющей компании. Пиши строго на русском. Пример отзыва:\n",
            "«сегодня после обеда буду по данному адрпесу прошу электрика связаться со мной»\n",
            "\n",
            "Напиши 1 уникальный отзыв по смыслу, похожий на пример (1-2 предложений). Не копируй пример. Можно перефразировать, добавить детали, но отзыв должен быть уникальным.\n"
          ]
        },
        {
          "name": "stderr",
          "output_type": "stream",
          "text": [
            "Генерируем синтетику:  41%|████      | 549/1335 [02:21<03:04,  4.26it/s]"
          ]
        },
        {
          "name": "stdout",
          "output_type": "stream",
          "text": [
            "Ты пишешь короткие отзывы жильцов управляющей компании. Пиши строго на русском. Пример отзыва:\n",
            "«ждём до весны (теплого времени года )»\n",
            "\n",
            "Напиши 1 уникальный отзыв по смыслу, похожий на пример (1-2 предложений). Не копируй пример. Можно перефразировать, добавить детали, но отзыв должен быть уникальным.\n"
          ]
        },
        {
          "name": "stderr",
          "output_type": "stream",
          "text": [
            "Генерируем синтетику:  41%|████▏     | 551/1335 [02:22<03:05,  4.23it/s]"
          ]
        },
        {
          "name": "stdout",
          "output_type": "stream",
          "text": [
            "Ты пишешь короткие отзывы жильцов управляющей компании. Пиши строго на русском. Пример отзыва:\n",
            "«Быстро!»\n",
            "\n",
            "Напиши 1 уникальный отзыв по смыслу, похожий на пример (1-2 предложений). Не копируй пример. Можно перефразировать, добавить детали, но отзыв должен быть уникальным.\n",
            "Ты пишешь короткие отзывы жильцов управляющей компании. Пиши строго на русском. Пример отзыва:\n",
            "«очень быстро решил проблему»\n",
            "\n",
            "Напиши 1 уникальный отзыв по смыслу, похожий на пример (1-2 предложений). Не копируй пример. Можно перефразировать, добавить детали, но отзыв должен быть уникальным.\n"
          ]
        },
        {
          "name": "stderr",
          "output_type": "stream",
          "text": [
            "Генерируем синтетику:  41%|████▏     | 552/1335 [02:22<02:57,  4.41it/s]"
          ]
        },
        {
          "name": "stdout",
          "output_type": "stream",
          "text": [
            "Ты пишешь короткие отзывы жильцов управляющей компании. Пиши строго на русском. Пример отзыва:\n",
            "«При личном общении были решены все вопросы, полное взаимопонимание, отлично выполненная работа... »\n",
            "\n",
            "Напиши 1 уникальный отзыв по смыслу, похожий на пример (1-2 предложений). Не копируй пример. Можно перефразировать, добавить детали, но отзыв должен быть уникальным.\n"
          ]
        },
        {
          "name": "stderr",
          "output_type": "stream",
          "text": [
            "Генерируем синтетику:  41%|████▏     | 553/1335 [02:22<03:01,  4.32it/s]"
          ]
        },
        {
          "name": "stdout",
          "output_type": "stream",
          "text": [
            "Ты пишешь короткие отзывы жильцов управляющей компании. Пиши строго на русском. Пример отзыва:\n",
            "«спасибо, теперь она закрывается »\n",
            "\n",
            "Напиши 1 уникальный отзыв по смыслу, похожий на пример (1-2 предложений). Не копируй пример. Можно перефразировать, добавить детали, но отзыв должен быть уникальным.\n"
          ]
        },
        {
          "name": "stderr",
          "output_type": "stream",
          "text": [
            "Генерируем синтетику:  42%|████▏     | 555/1335 [02:23<02:53,  4.50it/s]"
          ]
        },
        {
          "name": "stdout",
          "output_type": "stream",
          "text": [
            "Ты пишешь короткие отзывы жильцов управляющей компании. Пиши строго на русском. Пример отзыва:\n",
            "«за оперативность, спасибо большое»\n",
            "\n",
            "Напиши 1 уникальный отзыв по смыслу, похожий на пример (1-2 предложений). Не копируй пример. Можно перефразировать, добавить детали, но отзыв должен быть уникальным.\n"
          ]
        },
        {
          "name": "stderr",
          "output_type": "stream",
          "text": [
            "Генерируем синтетику:  42%|████▏     | 556/1335 [02:23<02:47,  4.66it/s]"
          ]
        },
        {
          "name": "stdout",
          "output_type": "stream",
          "text": [
            "Ты пишешь короткие отзывы жильцов управляющей компании. Пиши строго на русском. Пример отзыва:\n",
            "«спасибо за оперативное решение вопроса!»\n",
            "\n",
            "Напиши 1 уникальный отзыв по смыслу, похожий на пример (1-2 предложений). Не копируй пример. Можно перефразировать, добавить детали, но отзыв должен быть уникальным.\n",
            "Ты пишешь короткие отзывы жильцов управляющей компании. Пиши строго на русском. Пример отзыва:\n",
            "«оперативно, качественно и доброжелательно!»\n",
            "\n",
            "Напиши 1 уникальный отзыв по смыслу, похожий на пример (1-2 предложений). Не копируй пример. Можно перефразировать, добавить детали, но отзыв должен быть уникальным.\n"
          ]
        },
        {
          "name": "stderr",
          "output_type": "stream",
          "text": [
            "Генерируем синтетику:  42%|████▏     | 558/1335 [02:23<02:46,  4.66it/s]"
          ]
        },
        {
          "name": "stdout",
          "output_type": "stream",
          "text": [
            "Ты пишешь короткие отзывы жильцов управляющей компании. Пиши строго на русском. Пример отзыва:\n",
            "«Наконец то.  Спасибо. »\n",
            "\n",
            "Напиши 1 уникальный отзыв по смыслу, похожий на пример (1-2 предложений). Не копируй пример. Можно перефразировать, добавить детали, но отзыв должен быть уникальным.\n",
            "Ты пишешь короткие отзывы жильцов управляющей компании. Пиши строго на русском. Пример отзыва:\n",
            "«спасибо большое !»\n",
            "\n",
            "Напиши 1 уникальный отзыв по смыслу, похожий на пример (1-2 предложений). Не копируй пример. Можно перефразировать, добавить детали, но отзыв должен быть уникальным.\n"
          ]
        },
        {
          "name": "stderr",
          "output_type": "stream",
          "text": [
            "Генерируем синтетику:  42%|████▏     | 559/1335 [02:24<02:52,  4.51it/s]"
          ]
        },
        {
          "name": "stdout",
          "output_type": "stream",
          "text": [
            "Ты пишешь короткие отзывы жильцов управляющей компании. Пиши строго на русском. Пример отзыва:\n",
            "«прошу учесть на 22.01.2025 показания счётчика холодной воды - 95,6»\n",
            "\n",
            "Напиши 1 уникальный отзыв по смыслу, похожий на пример (1-2 предложений). Не копируй пример. Можно перефразировать, добавить детали, но отзыв должен быть уникальным.\n"
          ]
        },
        {
          "name": "stderr",
          "output_type": "stream",
          "text": [
            "Генерируем синтетику:  42%|████▏     | 561/1335 [02:24<02:56,  4.38it/s]"
          ]
        },
        {
          "name": "stdout",
          "output_type": "stream",
          "text": [
            "Ты пишешь короткие отзывы жильцов управляющей компании. Пиши строго на русском. Пример отзыва:\n",
            "«Быстро и четко)спасибо»\n",
            "\n",
            "Напиши 1 уникальный отзыв по смыслу, похожий на пример (1-2 предложений). Не копируй пример. Можно перефразировать, добавить детали, но отзыв должен быть уникальным.\n",
            "Ты пишешь короткие отзывы жильцов управляющей компании. Пиши строго на русском. Пример отзыва:\n",
            "«Сотрудник супер,вежливый и работа выполнена на 5+»\n",
            "\n",
            "Напиши 1 уникальный отзыв по смыслу, похожий на пример (1-2 предложений). Не копируй пример. Можно перефразировать, добавить детали, но отзыв должен быть уникальным.\n"
          ]
        },
        {
          "name": "stderr",
          "output_type": "stream",
          "text": [
            "Генерируем синтетику:  42%|████▏     | 562/1335 [02:24<03:05,  4.17it/s]"
          ]
        },
        {
          "name": "stdout",
          "output_type": "stream",
          "text": [
            "Ты пишешь короткие отзывы жильцов управляющей компании. Пиши строго на русском. Пример отзыва:\n",
            "«я звонила и сообщила, что мне нужен перерасчет, так как в декабре прошло 3 оплаты на сумму больше 30000,  3 оплаты»\n",
            "\n",
            "Напиши 1 уникальный отзыв по смыслу, похожий на пример (1-2 предложений). Не копируй пример. Можно перефразировать, добавить детали, но отзыв должен быть уникальным.\n"
          ]
        },
        {
          "name": "stderr",
          "output_type": "stream",
          "text": [
            "Генерируем синтетику:  42%|████▏     | 563/1335 [02:25<03:45,  3.42it/s]"
          ]
        },
        {
          "name": "stdout",
          "output_type": "stream",
          "text": [
            "Ты пишешь короткие отзывы жильцов управляющей компании. Пиши строго на русском. Пример отзыва:\n",
            "«большое спасибо! очень оперативно!»\n",
            "\n",
            "Напиши 1 уникальный отзыв по смыслу, похожий на пример (1-2 предложений). Не копируй пример. Можно перефразировать, добавить детали, но отзыв должен быть уникальным.\n"
          ]
        },
        {
          "name": "stderr",
          "output_type": "stream",
          "text": [
            "Генерируем синтетику:  42%|████▏     | 564/1335 [02:25<03:26,  3.73it/s]"
          ]
        },
        {
          "name": "stdout",
          "output_type": "stream",
          "text": [
            "Ты пишешь короткие отзывы жильцов управляющей компании. Пиши строго на русском. Пример отзыва:\n",
            "«огромное спасибо за мгновенную помощь!! очень приятно, что так быстро среагировали и понятно объяснили, какие кнопки нажимать!! теперь я знаю, что делать в подобных случаях, ещё раз спасибо))»\n",
            "\n",
            "Напиши 1 уникальный отзыв по смыслу, похожий на пример (1-2 предложений). Не копируй пример. Можно перефразировать, добавить детали, но отзыв должен быть уникальным.\n"
          ]
        },
        {
          "name": "stderr",
          "output_type": "stream",
          "text": [
            "Генерируем синтетику:  42%|████▏     | 565/1335 [02:25<03:46,  3.40it/s]"
          ]
        },
        {
          "name": "stdout",
          "output_type": "stream",
          "text": [
            "Ты пишешь короткие отзывы жильцов управляющей компании. Пиши строго на русском. Пример отзыва:\n",
            "«выражаю огромную благодарность мастеру -электрику за проделанную работу. профессионал своего дела, щепетильно проверил все возможные варианты неполадок, нашел и устранил причину замыкания. еще раз большое спасибо!»\n",
            "\n",
            "Напиши 1 уникальный отзыв по смыслу, похожий на пример (1-2 предложений). Не копируй пример. Можно перефразировать, добавить детали, но отзыв должен быть уникальным.\n"
          ]
        },
        {
          "name": "stderr",
          "output_type": "stream",
          "text": [
            "Генерируем синтетику:  42%|████▏     | 566/1335 [02:26<04:01,  3.18it/s]"
          ]
        },
        {
          "name": "stdout",
          "output_type": "stream",
          "text": [
            "Ты пишешь короткие отзывы жильцов управляющей компании. Пиши строго на русском. Пример отзыва:\n",
            "«перевели окна на зимний режим. дуть стало немного меньше, но не перестало. составили акт, сказали, что передадут застройщику»\n",
            "\n",
            "Напиши 1 уникальный отзыв по смыслу, похожий на пример (1-2 предложений). Не копируй пример. Можно перефразировать, добавить детали, но отзыв должен быть уникальным.\n"
          ]
        },
        {
          "name": "stderr",
          "output_type": "stream",
          "text": [
            "Генерируем синтетику:  43%|████▎     | 568/1335 [02:26<03:32,  3.61it/s]"
          ]
        },
        {
          "name": "stdout",
          "output_type": "stream",
          "text": [
            "Ты пишешь короткие отзывы жильцов управляющей компании. Пиши строго на русском. Пример отзыва:\n",
            "«Оперативно) спасибо»\n",
            "\n",
            "Напиши 1 уникальный отзыв по смыслу, похожий на пример (1-2 предложений). Не копируй пример. Можно перефразировать, добавить детали, но отзыв должен быть уникальным.\n",
            "Ты пишешь короткие отзывы жильцов управляющей компании. Пиши строго на русском. Пример отзыва:\n",
            "«ждём морозной погоды что бы замерить тепловизором температуру на стене.»\n",
            "\n",
            "Напиши 1 уникальный отзыв по смыслу, похожий на пример (1-2 предложений). Не копируй пример. Можно перефразировать, добавить детали, но отзыв должен быть уникальным.\n"
          ]
        },
        {
          "name": "stderr",
          "output_type": "stream",
          "text": [
            "Генерируем синтетику:  43%|████▎     | 569/1335 [02:26<03:23,  3.76it/s]"
          ]
        },
        {
          "name": "stdout",
          "output_type": "stream",
          "text": [
            "Ты пишешь короткие отзывы жильцов управляющей компании. Пиши строго на русском. Пример отзыва:\n",
            "«Была распечатана бумажная квитанция.Хочу поблагодарить работника расчетного отдела за разьяснения по квитанции и как найти электронный вариант квитанции в приложение Самолет+УК»\n",
            "\n",
            "Напиши 1 уникальный отзыв по смыслу, похожий на пример (1-2 предложений). Не копируй пример. Можно перефразировать, добавить детали, но отзыв должен быть уникальным.\n"
          ]
        },
        {
          "name": "stderr",
          "output_type": "stream",
          "text": [
            "Генерируем синтетику:  43%|████▎     | 570/1335 [02:27<03:48,  3.35it/s]"
          ]
        },
        {
          "name": "stdout",
          "output_type": "stream",
          "text": [
            "Ты пишешь короткие отзывы жильцов управляющей компании. Пиши строго на русском. Пример отзыва:\n",
            "«Спасибо большое!!!»\n",
            "\n",
            "Напиши 1 уникальный отзыв по смыслу, похожий на пример (1-2 предложений). Не копируй пример. Можно перефразировать, добавить детали, но отзыв должен быть уникальным.\n"
          ]
        },
        {
          "name": "stderr",
          "output_type": "stream",
          "text": [
            "Генерируем синтетику:  43%|████▎     | 571/1335 [02:27<03:40,  3.47it/s]"
          ]
        },
        {
          "name": "stdout",
          "output_type": "stream",
          "text": [
            "Ты пишешь короткие отзывы жильцов управляющей компании. Пиши строго на русском. Пример отзыва:\n",
            "«было бы хорошо чтобы они не ломались каждый жень! они же новые!»\n",
            "\n",
            "Напиши 1 уникальный отзыв по смыслу, похожий на пример (1-2 предложений). Не копируй пример. Можно перефразировать, добавить детали, но отзыв должен быть уникальным.\n"
          ]
        },
        {
          "name": "stderr",
          "output_type": "stream",
          "text": [
            "Генерируем синтетику:  43%|████▎     | 572/1335 [02:27<03:32,  3.58it/s]"
          ]
        },
        {
          "name": "stdout",
          "output_type": "stream",
          "text": [
            "Ты пишешь короткие отзывы жильцов управляющей компании. Пиши строго на русском. Пример отзыва:\n",
            "«Хорошее обслуживание)»\n",
            "\n",
            "Напиши 1 уникальный отзыв по смыслу, похожий на пример (1-2 предложений). Не копируй пример. Можно перефразировать, добавить детали, но отзыв должен быть уникальным.\n"
          ]
        },
        {
          "name": "stderr",
          "output_type": "stream",
          "text": [
            "Генерируем синтетику:  43%|████▎     | 573/1335 [02:28<03:18,  3.84it/s]"
          ]
        },
        {
          "name": "stdout",
          "output_type": "stream",
          "text": [
            "Ты пишешь короткие отзывы жильцов управляющей компании. Пиши строго на русском. Пример отзыва:\n",
            "«Алексей профессионал в своем деле! Быстро нашел проблему и устранил ее. Огромное ему спасибо!»\n",
            "\n",
            "Напиши 1 уникальный отзыв по смыслу, похожий на пример (1-2 предложений). Не копируй пример. Можно перефразировать, добавить детали, но отзыв должен быть уникальным.\n"
          ]
        },
        {
          "name": "stderr",
          "output_type": "stream",
          "text": [
            "Генерируем синтетику:  43%|████▎     | 575/1335 [02:28<03:15,  3.88it/s]"
          ]
        },
        {
          "name": "stdout",
          "output_type": "stream",
          "text": [
            "Ты пишешь короткие отзывы жильцов управляющей компании. Пиши строго на русском. Пример отзыва:\n",
            "«Спасибо очень быстро отреагировали»\n",
            "\n",
            "Напиши 1 уникальный отзыв по смыслу, похожий на пример (1-2 предложений). Не копируй пример. Можно перефразировать, добавить детали, но отзыв должен быть уникальным.\n",
            "Ты пишешь короткие отзывы жильцов управляющей компании. Пиши строго на русском. Пример отзыва:\n",
            "«Всё решили »\n",
            "\n",
            "Напиши 1 уникальный отзыв по смыслу, похожий на пример (1-2 предложений). Не копируй пример. Можно перефразировать, добавить детали, но отзыв должен быть уникальным.\n"
          ]
        },
        {
          "name": "stderr",
          "output_type": "stream",
          "text": [
            "Генерируем синтетику:  43%|████▎     | 576/1335 [02:28<03:00,  4.20it/s]"
          ]
        },
        {
          "name": "stdout",
          "output_type": "stream",
          "text": [
            "Ты пишешь короткие отзывы жильцов управляющей компании. Пиши строго на русском. Пример отзыва:\n",
            "«проблема решена после того как сходил в офис и разьяснил на пальцах»\n",
            "\n",
            "Напиши 1 уникальный отзыв по смыслу, похожий на пример (1-2 предложений). Не копируй пример. Можно перефразировать, добавить детали, но отзыв должен быть уникальным.\n"
          ]
        },
        {
          "name": "stderr",
          "output_type": "stream",
          "text": [
            "Генерируем синтетику:  43%|████▎     | 577/1335 [02:29<03:08,  4.03it/s]"
          ]
        },
        {
          "name": "stdout",
          "output_type": "stream",
          "text": [
            "Ты пишешь короткие отзывы жильцов управляющей компании. Пиши строго на русском. Пример отзыва:\n",
            "«огромное спасибо!!!! завтра жду мастера-фломастера»\n",
            "\n",
            "Напиши 1 уникальный отзыв по смыслу, похожий на пример (1-2 предложений). Не копируй пример. Можно перефразировать, добавить детали, но отзыв должен быть уникальным.\n"
          ]
        },
        {
          "name": "stderr",
          "output_type": "stream",
          "text": [
            "Генерируем синтетику:  43%|████▎     | 579/1335 [02:29<02:45,  4.56it/s]"
          ]
        },
        {
          "name": "stdout",
          "output_type": "stream",
          "text": [
            "Ты пишешь короткие отзывы жильцов управляющей компании. Пиши строго на русском. Пример отзыва:\n",
            "«проблема пока не решена. рано оценивать»\n",
            "\n",
            "Напиши 1 уникальный отзыв по смыслу, похожий на пример (1-2 предложений). Не копируй пример. Можно перефразировать, добавить детали, но отзыв должен быть уникальным.\n",
            "Ты пишешь короткие отзывы жильцов управляющей компании. Пиши строго на русском. Пример отзыва:\n",
            "«спасибо большое  :smiling_face_with_smiling_eyes: . с уважением евгений!)»\n",
            "\n",
            "Если в примере есть код эмодзи вида :smile:, то сохрани стиль — вставь похожий код эмодзи.\n",
            "\n",
            "Напиши 1 уникальный отзыв по смыслу, похожий на пример (1-2 предложений). Не копируй пример. Можно перефразировать, добавить детали, но отзыв должен быть уникальным.\n"
          ]
        },
        {
          "name": "stderr",
          "output_type": "stream",
          "text": [
            "Генерируем синтетику:  43%|████▎     | 580/1335 [02:29<02:59,  4.20it/s]"
          ]
        },
        {
          "name": "stdout",
          "output_type": "stream",
          "text": [
            "Ты пишешь короткие отзывы жильцов управляющей компании. Пиши строго на русском. Пример отзыва:\n",
            "«Все гуд»\n",
            "\n",
            "Напиши 1 уникальный отзыв по смыслу, похожий на пример (1-2 предложений). Не копируй пример. Можно перефразировать, добавить детали, но отзыв должен быть уникальным.\n"
          ]
        },
        {
          "name": "stderr",
          "output_type": "stream",
          "text": [
            "Генерируем синтетику:  44%|████▎     | 581/1335 [02:29<02:54,  4.33it/s]"
          ]
        },
        {
          "name": "stdout",
          "output_type": "stream",
          "text": [
            "Ты пишешь короткие отзывы жильцов управляющей компании. Пиши строго на русском. Пример отзыва:\n",
            "«спасибо большое за компетентное разъяснение вопроса!»\n",
            "\n",
            "Напиши 1 уникальный отзыв по смыслу, похожий на пример (1-2 предложений). Не копируй пример. Можно перефразировать, добавить детали, но отзыв должен быть уникальным.\n"
          ]
        },
        {
          "name": "stderr",
          "output_type": "stream",
          "text": [
            "Генерируем синтетику:  44%|████▎     | 582/1335 [02:30<02:56,  4.27it/s]"
          ]
        },
        {
          "name": "stdout",
          "output_type": "stream",
          "text": [
            "Ты пишешь короткие отзывы жильцов управляющей компании. Пиши строго на русском. Пример отзыва:\n",
            "«протечка была. на фото видел места мокрые. в момент прихода сантехника уже не капало. найти место течи вроде говорят удалось найти на тех этаже.»\n",
            "\n",
            "Напиши 1 уникальный отзыв по смыслу, похожий на пример (1-2 предложений). Не копируй пример. Можно перефразировать, добавить детали, но отзыв должен быть уникальным.\n"
          ]
        },
        {
          "name": "stderr",
          "output_type": "stream",
          "text": [
            "Генерируем синтетику:  44%|████▎     | 584/1335 [02:30<03:04,  4.06it/s]"
          ]
        },
        {
          "name": "stdout",
          "output_type": "stream",
          "text": [
            "Ты пишешь короткие отзывы жильцов управляющей компании. Пиши строго на русском. Пример отзыва:\n",
            "«спасибо, быстро и качественно. »\n",
            "\n",
            "Напиши 1 уникальный отзыв по смыслу, похожий на пример (1-2 предложений). Не копируй пример. Можно перефразировать, добавить детали, но отзыв должен быть уникальным.\n",
            "Ты пишешь короткие отзывы жильцов управляющей компании. Пиши строго на русском. Пример отзыва:\n",
            "«сделано, спасибо»\n",
            "\n",
            "Напиши 1 уникальный отзыв по смыслу, похожий на пример (1-2 предложений). Не копируй пример. Можно перефразировать, добавить детали, но отзыв должен быть уникальным.\n"
          ]
        },
        {
          "name": "stderr",
          "output_type": "stream",
          "text": [
            "Генерируем синтетику:  44%|████▍     | 586/1335 [02:31<02:36,  4.78it/s]"
          ]
        },
        {
          "name": "stdout",
          "output_type": "stream",
          "text": [
            "Ты пишешь короткие отзывы жильцов управляющей компании. Пиши строго на русском. Пример отзыва:\n",
            "«Проблема решена.»\n",
            "\n",
            "Напиши 1 уникальный отзыв по смыслу, похожий на пример (1-2 предложений). Не копируй пример. Можно перефразировать, добавить детали, но отзыв должен быть уникальным.\n",
            "Ты пишешь короткие отзывы жильцов управляющей компании. Пиши строго на русском. Пример отзыва:\n",
            "«Доброе утро, спасибо. Только большая просьба, ранее в этом светильнике мы меняли лампочку и т. к. не было лампочки с цоколем 14, мы ставили переходник, верните его пожалуйста. »\n",
            "\n",
            "Напиши 1 уникальный отзыв по смыслу, похожий на пример (1-2 предложений). Не копируй пример. Можно перефразировать, добавить детали, но отзыв должен быть уникальным.\n"
          ]
        },
        {
          "name": "stderr",
          "output_type": "stream",
          "text": [
            "Генерируем синтетику:  44%|████▍     | 587/1335 [02:31<03:24,  3.66it/s]"
          ]
        },
        {
          "name": "stdout",
          "output_type": "stream",
          "text": [
            "Ты пишешь короткие отзывы жильцов управляющей компании. Пиши строго на русском. Пример отзыва:\n",
            "«оперативно, быстро .»\n",
            "\n",
            "Напиши 1 уникальный отзыв по смыслу, похожий на пример (1-2 предложений). Не копируй пример. Можно перефразировать, добавить детали, но отзыв должен быть уникальным.\n"
          ]
        },
        {
          "name": "stderr",
          "output_type": "stream",
          "text": [
            "Генерируем синтетику:  44%|████▍     | 588/1335 [02:31<03:13,  3.86it/s]"
          ]
        },
        {
          "name": "stdout",
          "output_type": "stream",
          "text": [
            "Ты пишешь короткие отзывы жильцов управляющей компании. Пиши строго на русском. Пример отзыва:\n",
            "«спасибо, проблема была решена»\n",
            "\n",
            "Напиши 1 уникальный отзыв по смыслу, похожий на пример (1-2 предложений). Не копируй пример. Можно перефразировать, добавить детали, но отзыв должен быть уникальным.\n"
          ]
        },
        {
          "name": "stderr",
          "output_type": "stream",
          "text": [
            "Генерируем синтетику:  44%|████▍     | 589/1335 [02:32<03:06,  3.99it/s]"
          ]
        },
        {
          "name": "stdout",
          "output_type": "stream",
          "text": [
            "Ты пишешь короткие отзывы жильцов управляющей компании. Пиши строго на русском. Пример отзыва:\n",
            "«очень отзывчивый, профи своего дела!!»\n",
            "\n",
            "Напиши 1 уникальный отзыв по смыслу, похожий на пример (1-2 предложений). Не копируй пример. Можно перефразировать, добавить детали, но отзыв должен быть уникальным.\n"
          ]
        },
        {
          "name": "stderr",
          "output_type": "stream",
          "text": [
            "Генерируем синтетику:  44%|████▍     | 590/1335 [02:32<03:01,  4.11it/s]"
          ]
        },
        {
          "name": "stdout",
          "output_type": "stream",
          "text": [
            "Ты пишешь короткие отзывы жильцов управляющей компании. Пиши строго на русском. Пример отзыва:\n",
            "«спасибо большое, Татьяна.»\n",
            "\n",
            "Напиши 1 уникальный отзыв по смыслу, похожий на пример (1-2 предложений). Не копируй пример. Можно перефразировать, добавить детали, но отзыв должен быть уникальным.\n"
          ]
        },
        {
          "name": "stderr",
          "output_type": "stream",
          "text": [
            "Генерируем синтетику:  44%|████▍     | 592/1335 [02:32<02:44,  4.52it/s]"
          ]
        },
        {
          "name": "stdout",
          "output_type": "stream",
          "text": [
            "Ты пишешь короткие отзывы жильцов управляющей компании. Пиши строго на русском. Пример отзыва:\n",
            "«быстро решили проблему. спасибо.»\n",
            "\n",
            "Напиши 1 уникальный отзыв по смыслу, похожий на пример (1-2 предложений). Не копируй пример. Можно перефразировать, добавить детали, но отзыв должен быть уникальным.\n",
            "Ты пишешь короткие отзывы жильцов управляющей компании. Пиши строго на русском. Пример отзыва:\n",
            "«Решилось само собой»\n",
            "\n",
            "Напиши 1 уникальный отзыв по смыслу, похожий на пример (1-2 предложений). Не копируй пример. Можно перефразировать, добавить детали, но отзыв должен быть уникальным.\n"
          ]
        },
        {
          "name": "stderr",
          "output_type": "stream",
          "text": [
            "Генерируем синтетику:  44%|████▍     | 593/1335 [02:32<02:41,  4.60it/s]"
          ]
        },
        {
          "name": "stdout",
          "output_type": "stream",
          "text": [
            "Ты пишешь короткие отзывы жильцов управляющей компании. Пиши строго на русском. Пример отзыва:\n",
            "«Очень вежливый и профессиональный мастер. Устранил все недочеты оперативно и качественно. Просто отлично. Спасибо »\n",
            "\n",
            "Напиши 1 уникальный отзыв по смыслу, похожий на пример (1-2 предложений). Не копируй пример. Можно перефразировать, добавить детали, но отзыв должен быть уникальным.\n"
          ]
        },
        {
          "name": "stderr",
          "output_type": "stream",
          "text": [
            "Генерируем синтетику:  45%|████▍     | 595/1335 [02:33<02:47,  4.42it/s]"
          ]
        },
        {
          "name": "stdout",
          "output_type": "stream",
          "text": [
            "Ты пишешь короткие отзывы жильцов управляющей компании. Пиши строго на русском. Пример отзыва:\n",
            "«спасибо, все починили!»\n",
            "\n",
            "Напиши 1 уникальный отзыв по смыслу, похожий на пример (1-2 предложений). Не копируй пример. Можно перефразировать, добавить детали, но отзыв должен быть уникальным.\n",
            "Ты пишешь короткие отзывы жильцов управляющей компании. Пиши строго на русском. Пример отзыва:\n",
            "«супер оперативно»\n",
            "\n",
            "Напиши 1 уникальный отзыв по смыслу, похожий на пример (1-2 предложений). Не копируй пример. Можно перефразировать, добавить детали, но отзыв должен быть уникальным.\n"
          ]
        },
        {
          "name": "stderr",
          "output_type": "stream",
          "text": [
            "Генерируем синтетику:  45%|████▍     | 596/1335 [02:33<03:02,  4.04it/s]"
          ]
        },
        {
          "name": "stdout",
          "output_type": "stream",
          "text": [
            "Ты пишешь короткие отзывы жильцов управляющей компании. Пиши строго на русском. Пример отзыва:\n",
            "«качественно, быстро»\n",
            "\n",
            "Напиши 1 уникальный отзыв по смыслу, похожий на пример (1-2 предложений). Не копируй пример. Можно перефразировать, добавить детали, но отзыв должен быть уникальным.\n"
          ]
        },
        {
          "name": "stderr",
          "output_type": "stream",
          "text": [
            "Генерируем синтетику:  45%|████▍     | 597/1335 [02:33<03:01,  4.08it/s]"
          ]
        },
        {
          "name": "stdout",
          "output_type": "stream",
          "text": [
            "Ты пишешь короткие отзывы жильцов управляющей компании. Пиши строго на русском. Пример отзыва:\n",
            "«благадарю специалиста»\n",
            "\n",
            "Напиши 1 уникальный отзыв по смыслу, похожий на пример (1-2 предложений). Не копируй пример. Можно перефразировать, добавить детали, но отзыв должен быть уникальным.\n"
          ]
        },
        {
          "name": "stderr",
          "output_type": "stream",
          "text": [
            "Генерируем синтетику:  45%|████▍     | 598/1335 [02:34<02:51,  4.30it/s]"
          ]
        },
        {
          "name": "stdout",
          "output_type": "stream",
          "text": [
            "Ты пишешь короткие отзывы жильцов управляющей компании. Пиши строго на русском. Пример отзыва:\n",
            "«спасибо мастерам! они отлично выполнили свою работу»\n",
            "\n",
            "Напиши 1 уникальный отзыв по смыслу, похожий на пример (1-2 предложений). Не копируй пример. Можно перефразировать, добавить детали, но отзыв должен быть уникальным.\n"
          ]
        },
        {
          "name": "stderr",
          "output_type": "stream",
          "text": [
            "Генерируем синтетику:  45%|████▍     | 600/1335 [02:34<02:45,  4.45it/s]"
          ]
        },
        {
          "name": "stdout",
          "output_type": "stream",
          "text": [
            "Ты пишешь короткие отзывы жильцов управляющей компании. Пиши строго на русском. Пример отзыва:\n",
            "«Все отлично. :thumbs_up: »\n",
            "\n",
            "Если в примере есть код эмодзи вида :smile:, то сохрани стиль — вставь похожий код эмодзи.\n",
            "\n",
            "Напиши 1 уникальный отзыв по смыслу, похожий на пример (1-2 предложений). Не копируй пример. Можно перефразировать, добавить детали, но отзыв должен быть уникальным.\n",
            "Ты пишешь короткие отзывы жильцов управляющей компании. Пиши строго на русском. Пример отзыва:\n",
            "«спасибо за подсказки и внимательное отношение »\n",
            "\n",
            "Напиши 1 уникальный отзыв по смыслу, похожий на пример (1-2 предложений). Не копируй пример. Можно перефразировать, добавить детали, но отзыв должен быть уникальным.\n"
          ]
        },
        {
          "name": "stderr",
          "output_type": "stream",
          "text": [
            "Генерируем синтетику:  45%|████▌     | 602/1335 [02:34<02:36,  4.68it/s]"
          ]
        },
        {
          "name": "stdout",
          "output_type": "stream",
          "text": [
            "Ты пишешь короткие отзывы жильцов управляющей компании. Пиши строго на русском. Пример отзыва:\n",
            "«всё отлично, сделали в тот де день. спасибо»\n",
            "\n",
            "Напиши 1 уникальный отзыв по смыслу, похожий на пример (1-2 предложений). Не копируй пример. Можно перефразировать, добавить детали, но отзыв должен быть уникальным.\n",
            "Ты пишешь короткие отзывы жильцов управляющей компании. Пиши строго на русском. Пример отзыва:\n",
            "« Ответ получен. \n",
            "Спасибо, что результатом стало уточнение и меня поняли. \n",
            "»\n",
            "\n",
            "Напиши 1 уникальный отзыв по смыслу, похожий на пример (1-2 предложений). Не копируй пример. Можно перефразировать, добавить детали, но отзыв должен быть уникальным.\n"
          ]
        },
        {
          "name": "stderr",
          "output_type": "stream",
          "text": [
            "Генерируем синтетику:  45%|████▌     | 604/1335 [02:35<02:36,  4.68it/s]"
          ]
        },
        {
          "name": "stdout",
          "output_type": "stream",
          "text": [
            "Ты пишешь короткие отзывы жильцов управляющей компании. Пиши строго на русском. Пример отзыва:\n",
            "«Спасибо огромное,  напор стал отличным!»\n",
            "\n",
            "Напиши 1 уникальный отзыв по смыслу, похожий на пример (1-2 предложений). Не копируй пример. Можно перефразировать, добавить детали, но отзыв должен быть уникальным.\n",
            "Ты пишешь короткие отзывы жильцов управляющей компании. Пиши строго на русском. Пример отзыва:\n",
            "«спасибо большое за работу, за быстрый ответ на заявку и устранения .»\n",
            "\n",
            "Напиши 1 уникальный отзыв по смыслу, похожий на пример (1-2 предложений). Не копируй пример. Можно перефразировать, добавить детали, но отзыв должен быть уникальным.\n"
          ]
        },
        {
          "name": "stderr",
          "output_type": "stream",
          "text": [
            "Генерируем синтетику:  45%|████▌     | 605/1335 [02:35<02:50,  4.28it/s]"
          ]
        },
        {
          "name": "stdout",
          "output_type": "stream",
          "text": [
            "Ты пишешь короткие отзывы жильцов управляющей компании. Пиши строго на русском. Пример отзыва:\n",
            "«сотрудники молодцы!»\n",
            "\n",
            "Напиши 1 уникальный отзыв по смыслу, похожий на пример (1-2 предложений). Не копируй пример. Можно перефразировать, добавить детали, но отзыв должен быть уникальным.\n"
          ]
        },
        {
          "name": "stderr",
          "output_type": "stream",
          "text": [
            "Генерируем синтетику:  45%|████▌     | 606/1335 [02:35<03:00,  4.03it/s]"
          ]
        },
        {
          "name": "stdout",
          "output_type": "stream",
          "text": [
            "Ты пишешь короткие отзывы жильцов управляющей компании. Пиши строго на русском. Пример отзыва:\n",
            "«все быстро сделали»\n",
            "\n",
            "Напиши 1 уникальный отзыв по смыслу, похожий на пример (1-2 предложений). Не копируй пример. Можно перефразировать, добавить детали, но отзыв должен быть уникальным.\n"
          ]
        },
        {
          "name": "stderr",
          "output_type": "stream",
          "text": [
            "Генерируем синтетику:  45%|████▌     | 607/1335 [02:36<02:56,  4.13it/s]"
          ]
        },
        {
          "name": "stdout",
          "output_type": "stream",
          "text": [
            "Ты пишешь короткие отзывы жильцов управляющей компании. Пиши строго на русском. Пример отзыва:\n",
            "«Ольга Птушкина  очень быстро и грамотно решила наш вопрос .Большое спасибо !!!»\n",
            "\n",
            "Напиши 1 уникальный отзыв по смыслу, похожий на пример (1-2 предложений). Не копируй пример. Можно перефразировать, добавить детали, но отзыв должен быть уникальным.\n"
          ]
        },
        {
          "name": "stderr",
          "output_type": "stream",
          "text": [
            "Генерируем синтетику:  46%|████▌     | 608/1335 [02:36<03:10,  3.82it/s]"
          ]
        },
        {
          "name": "stdout",
          "output_type": "stream",
          "text": [
            "Ты пишешь короткие отзывы жильцов управляющей компании. Пиши строго на русском. Пример отзыва:\n",
            "«спасибо, всё исправили»\n",
            "\n",
            "Напиши 1 уникальный отзыв по смыслу, похожий на пример (1-2 предложений). Не копируй пример. Можно перефразировать, добавить детали, но отзыв должен быть уникальным.\n"
          ]
        },
        {
          "name": "stderr",
          "output_type": "stream",
          "text": [
            "Генерируем синтетику:  46%|████▌     | 609/1335 [02:36<03:01,  4.00it/s]"
          ]
        },
        {
          "name": "stdout",
          "output_type": "stream",
          "text": [
            "Ты пишешь короткие отзывы жильцов управляющей компании. Пиши строго на русском. Пример отзыва:\n",
            "«Супер, спасибо !»\n",
            "\n",
            "Напиши 1 уникальный отзыв по смыслу, похожий на пример (1-2 предложений). Не копируй пример. Можно перефразировать, добавить детали, но отзыв должен быть уникальным.\n"
          ]
        },
        {
          "name": "stderr",
          "output_type": "stream",
          "text": [
            "Генерируем синтетику:  46%|████▌     | 610/1335 [02:36<03:04,  3.94it/s]"
          ]
        },
        {
          "name": "stdout",
          "output_type": "stream",
          "text": [
            "Ты пишешь короткие отзывы жильцов управляющей компании. Пиши строго на русском. Пример отзыва:\n",
            "«Ребята молодцы»\n",
            "\n",
            "Напиши 1 уникальный отзыв по смыслу, похожий на пример (1-2 предложений). Не копируй пример. Можно перефразировать, добавить детали, но отзыв должен быть уникальным.\n"
          ]
        },
        {
          "name": "stderr",
          "output_type": "stream",
          "text": [
            "Генерируем синтетику:  46%|████▌     | 611/1335 [02:37<03:01,  3.98it/s]"
          ]
        },
        {
          "name": "stdout",
          "output_type": "stream",
          "text": [
            "Ты пишешь короткие отзывы жильцов управляющей компании. Пиши строго на русском. Пример отзыва:\n",
            "«спасибо за обратную связь,надеюсь в приложении информация обновиться,что оплата прошла.\n",
            "\n",
            "\n",
            "»\n",
            "\n",
            "Напиши 1 уникальный отзыв по смыслу, похожий на пример (1-2 предложений). Не копируй пример. Можно перефразировать, добавить детали, но отзыв должен быть уникальным.\n"
          ]
        },
        {
          "name": "stderr",
          "output_type": "stream",
          "text": [
            "Генерируем синтетику:  46%|████▌     | 613/1335 [02:37<02:48,  4.28it/s]"
          ]
        },
        {
          "name": "stdout",
          "output_type": "stream",
          "text": [
            "Ты пишешь короткие отзывы жильцов управляющей компании. Пиши строго на русском. Пример отзыва:\n",
            "«Спасибо большое за оперативный ответ »\n",
            "\n",
            "Напиши 1 уникальный отзыв по смыслу, похожий на пример (1-2 предложений). Не копируй пример. Можно перефразировать, добавить детали, но отзыв должен быть уникальным.\n",
            "Ты пишешь короткие отзывы жильцов управляющей компании. Пиши строго на русском. Пример отзыва:\n",
            "«Спасибо огромное»\n",
            "\n",
            "Напиши 1 уникальный отзыв по смыслу, похожий на пример (1-2 предложений). Не копируй пример. Можно перефразировать, добавить детали, но отзыв должен быть уникальным.\n"
          ]
        },
        {
          "name": "stderr",
          "output_type": "stream",
          "text": [
            "Генерируем синтетику:  46%|████▌     | 614/1335 [02:37<02:44,  4.38it/s]"
          ]
        },
        {
          "name": "stdout",
          "output_type": "stream",
          "text": [
            "Ты пишешь короткие отзывы жильцов управляющей компании. Пиши строго на русском. Пример отзыва:\n",
            "«мне нужно присутствовать при съеме контрольных показаний? счетчики все в коридоре. возможно вызов в выход дни?»\n",
            "\n",
            "Напиши 1 уникальный отзыв по смыслу, похожий на пример (1-2 предложений). Не копируй пример. Можно перефразировать, добавить детали, но отзыв должен быть уникальным.\n"
          ]
        },
        {
          "name": "stderr",
          "output_type": "stream",
          "text": [
            "Генерируем синтетику:  46%|████▌     | 615/1335 [02:38<03:16,  3.66it/s]"
          ]
        },
        {
          "name": "stdout",
          "output_type": "stream",
          "text": [
            "Ты пишешь короткие отзывы жильцов управляющей компании. Пиши строго на русском. Пример отзыва:\n",
            "«устное разрешение на установку кодового замка получено.после установки сообщим код в управляющую компанию.спасибо»\n",
            "\n",
            "Напиши 1 уникальный отзыв по смыслу, похожий на пример (1-2 предложений). Не копируй пример. Можно перефразировать, добавить детали, но отзыв должен быть уникальным.\n"
          ]
        },
        {
          "name": "stderr",
          "output_type": "stream",
          "text": [
            "Генерируем синтетику:  46%|████▌     | 616/1335 [02:38<03:27,  3.47it/s]"
          ]
        },
        {
          "name": "stdout",
          "output_type": "stream",
          "text": [
            "Ты пишешь короткие отзывы жильцов управляющей компании. Пиши строго на русском. Пример отзыва:\n",
            "«Очень быстро отреагировали и устранили проблему »\n",
            "\n",
            "Напиши 1 уникальный отзыв по смыслу, похожий на пример (1-2 предложений). Не копируй пример. Можно перефразировать, добавить детали, но отзыв должен быть уникальным.\n"
          ]
        },
        {
          "name": "stderr",
          "output_type": "stream",
          "text": [
            "Генерируем синтетику:  46%|████▋     | 618/1335 [02:39<03:04,  3.88it/s]"
          ]
        },
        {
          "name": "stdout",
          "output_type": "stream",
          "text": [
            "Ты пишешь короткие отзывы жильцов управляющей компании. Пиши строго на русском. Пример отзыва:\n",
            "«а можно фото акта скинуть ?»\n",
            "\n",
            "Напиши 1 уникальный отзыв по смыслу, похожий на пример (1-2 предложений). Не копируй пример. Можно перефразировать, добавить детали, но отзыв должен быть уникальным.\n",
            "Ты пишешь короткие отзывы жильцов управляющей компании. Пиши строго на русском. Пример отзыва:\n",
            "«спасибо вам»\n",
            "\n",
            "Напиши 1 уникальный отзыв по смыслу, похожий на пример (1-2 предложений). Не копируй пример. Можно перефразировать, добавить детали, но отзыв должен быть уникальным.\n"
          ]
        },
        {
          "name": "stderr",
          "output_type": "stream",
          "text": [
            "Генерируем синтетику:  46%|████▋     | 619/1335 [02:39<02:51,  4.19it/s]"
          ]
        },
        {
          "name": "stdout",
          "output_type": "stream",
          "text": [
            "Ты пишешь короткие отзывы жильцов управляющей компании. Пиши строго на русском. Пример отзыва:\n",
            "«спасибо электрику»\n",
            "\n",
            "Напиши 1 уникальный отзыв по смыслу, похожий на пример (1-2 предложений). Не копируй пример. Можно перефразировать, добавить детали, но отзыв должен быть уникальным.\n"
          ]
        },
        {
          "name": "stderr",
          "output_type": "stream",
          "text": [
            "Генерируем синтетику:  46%|████▋     | 620/1335 [02:39<02:53,  4.12it/s]"
          ]
        },
        {
          "name": "stdout",
          "output_type": "stream",
          "text": [
            "Ты пишешь короткие отзывы жильцов управляющей компании. Пиши строго на русском. Пример отзыва:\n",
            "«сантехник андрей качественно выполнил свою работу.»\n",
            "\n",
            "Напиши 1 уникальный отзыв по смыслу, похожий на пример (1-2 предложений). Не копируй пример. Можно перефразировать, добавить детали, но отзыв должен быть уникальным.\n"
          ]
        },
        {
          "name": "stderr",
          "output_type": "stream",
          "text": [
            "Генерируем синтетику:  47%|████▋     | 621/1335 [02:39<03:07,  3.80it/s]"
          ]
        },
        {
          "name": "stdout",
          "output_type": "stream",
          "text": [
            "Ты пишешь короткие отзывы жильцов управляющей компании. Пиши строго на русском. Пример отзыва:\n",
            "«не отражен статус по поверке в приложении»\n",
            "\n",
            "Напиши 1 уникальный отзыв по смыслу, похожий на пример (1-2 предложений). Не копируй пример. Можно перефразировать, добавить детали, но отзыв должен быть уникальным.\n"
          ]
        },
        {
          "name": "stderr",
          "output_type": "stream",
          "text": [
            "Генерируем синтетику:  47%|████▋     | 622/1335 [02:40<03:13,  3.68it/s]"
          ]
        },
        {
          "name": "stdout",
          "output_type": "stream",
          "text": [
            "Ты пишешь короткие отзывы жильцов управляющей компании. Пиши строго на русском. Пример отзыва:\n",
            "«Огромнейшее спасибо.\n",
            "Максимально быстро и качественно!!!\n",
            "Просто сотрудник месяца \n",
            "»\n",
            "\n",
            "Напиши 1 уникальный отзыв по смыслу, похожий на пример (1-2 предложений). Не копируй пример. Можно перефразировать, добавить детали, но отзыв должен быть уникальным.\n"
          ]
        },
        {
          "name": "stderr",
          "output_type": "stream",
          "text": [
            "Генерируем синтетику:  47%|████▋     | 624/1335 [02:40<02:50,  4.17it/s]"
          ]
        },
        {
          "name": "stdout",
          "output_type": "stream",
          "text": [
            "Ты пишешь короткие отзывы жильцов управляющей компании. Пиши строго на русском. Пример отзыва:\n",
            "«спасибо за оперативное реагирование»\n",
            "\n",
            "Напиши 1 уникальный отзыв по смыслу, похожий на пример (1-2 предложений). Не копируй пример. Можно перефразировать, добавить детали, но отзыв должен быть уникальным.\n",
            "Ты пишешь короткие отзывы жильцов управляющей компании. Пиши строго на русском. Пример отзыва:\n",
            "«подача горячей воды в систему отопления была выполнена в течение 30 мин. с момента подачи заявки по отсутствию отопления.»\n",
            "\n",
            "Напиши 1 уникальный отзыв по смыслу, похожий на пример (1-2 предложений). Не копируй пример. Можно перефразировать, добавить детали, но отзыв должен быть уникальным.\n"
          ]
        },
        {
          "name": "stderr",
          "output_type": "stream",
          "text": [
            "Генерируем синтетику:  47%|████▋     | 625/1335 [02:40<03:03,  3.88it/s]"
          ]
        },
        {
          "name": "stdout",
          "output_type": "stream",
          "text": [
            "Ты пишешь короткие отзывы жильцов управляющей компании. Пиши строго на русском. Пример отзыва:\n",
            "«прекрасный мастер »\n",
            "\n",
            "Напиши 1 уникальный отзыв по смыслу, похожий на пример (1-2 предложений). Не копируй пример. Можно перефразировать, добавить детали, но отзыв должен быть уникальным.\n"
          ]
        },
        {
          "name": "stderr",
          "output_type": "stream",
          "text": [
            "Генерируем синтетику:  47%|████▋     | 626/1335 [02:41<02:57,  4.01it/s]"
          ]
        },
        {
          "name": "stdout",
          "output_type": "stream",
          "text": [
            "Ты пишешь короткие отзывы жильцов управляющей компании. Пиши строго на русском. Пример отзыва:\n",
            "«спасибо за ремонт!»\n",
            "\n",
            "Напиши 1 уникальный отзыв по смыслу, похожий на пример (1-2 предложений). Не копируй пример. Можно перефразировать, добавить детали, но отзыв должен быть уникальным.\n"
          ]
        },
        {
          "name": "stderr",
          "output_type": "stream",
          "text": [
            "Генерируем синтетику:  47%|████▋     | 627/1335 [02:41<03:01,  3.90it/s]"
          ]
        },
        {
          "name": "stdout",
          "output_type": "stream",
          "text": [
            "Ты пишешь короткие отзывы жильцов управляющей компании. Пиши строго на русском. Пример отзыва:\n",
            "«Спасибо! Не делайте так больше, или хотя бы заранее предупреждайте о раннем отключении воды, чтоб люди с вечера успели её набрать!! »\n",
            "\n",
            "Напиши 1 уникальный отзыв по смыслу, похожий на пример (1-2 предложений). Не копируй пример. Можно перефразировать, добавить детали, но отзыв должен быть уникальным.\n"
          ]
        },
        {
          "name": "stderr",
          "output_type": "stream",
          "text": [
            "Генерируем синтетику:  47%|████▋     | 629/1335 [02:41<02:58,  3.95it/s]"
          ]
        },
        {
          "name": "stdout",
          "output_type": "stream",
          "text": [
            "Ты пишешь короткие отзывы жильцов управляющей компании. Пиши строго на русском. Пример отзыва:\n",
            "«да все верно. спасибо»\n",
            "\n",
            "Напиши 1 уникальный отзыв по смыслу, похожий на пример (1-2 предложений). Не копируй пример. Можно перефразировать, добавить детали, но отзыв должен быть уникальным.\n",
            "Ты пишешь короткие отзывы жильцов управляющей компании. Пиши строго на русском. Пример отзыва:\n",
            "«не передали в гарантийный отдел!»\n",
            "\n",
            "Напиши 1 уникальный отзыв по смыслу, похожий на пример (1-2 предложений). Не копируй пример. Можно перефразировать, добавить детали, но отзыв должен быть уникальным.\n"
          ]
        },
        {
          "name": "stderr",
          "output_type": "stream",
          "text": [
            "Генерируем синтетику:  47%|████▋     | 630/1335 [02:42<02:55,  4.01it/s]"
          ]
        },
        {
          "name": "stdout",
          "output_type": "stream",
          "text": [
            "Ты пишешь короткие отзывы жильцов управляющей компании. Пиши строго на русском. Пример отзыва:\n",
            "«жаль не с первого раза, звонков 8»\n",
            "\n",
            "Напиши 1 уникальный отзыв по смыслу, похожий на пример (1-2 предложений). Не копируй пример. Можно перефразировать, добавить детали, но отзыв должен быть уникальным.\n"
          ]
        },
        {
          "name": "stderr",
          "output_type": "stream",
          "text": [
            "Генерируем синтетику:  47%|████▋     | 631/1335 [02:42<03:19,  3.54it/s]"
          ]
        },
        {
          "name": "stdout",
          "output_type": "stream",
          "text": [
            "Ты пишешь короткие отзывы жильцов управляющей компании. Пиши строго на русском. Пример отзыва:\n",
            "«мастер, замечательный пришел и сдалал»\n",
            "\n",
            "Напиши 1 уникальный отзыв по смыслу, похожий на пример (1-2 предложений). Не копируй пример. Можно перефразировать, добавить детали, но отзыв должен быть уникальным.\n"
          ]
        },
        {
          "name": "stderr",
          "output_type": "stream",
          "text": [
            "Генерируем синтетику:  47%|████▋     | 632/1335 [02:42<03:05,  3.79it/s]"
          ]
        },
        {
          "name": "stdout",
          "output_type": "stream",
          "text": [
            "Ты пишешь короткие отзывы жильцов управляющей компании. Пиши строго на русском. Пример отзыва:\n",
            "«спасибо большое за работу и оперативность»\n",
            "\n",
            "Напиши 1 уникальный отзыв по смыслу, похожий на пример (1-2 предложений). Не копируй пример. Можно перефразировать, добавить детали, но отзыв должен быть уникальным.\n"
          ]
        },
        {
          "name": "stderr",
          "output_type": "stream",
          "text": [
            "Генерируем синтетику:  47%|████▋     | 633/1335 [02:42<02:59,  3.91it/s]"
          ]
        },
        {
          "name": "stdout",
          "output_type": "stream",
          "text": [
            "Ты пишешь короткие отзывы жильцов управляющей компании. Пиши строго на русском. Пример отзыва:\n",
            "«спасибо! очень оперативно несмотря на праздники.»\n",
            "\n",
            "Напиши 1 уникальный отзыв по смыслу, похожий на пример (1-2 предложений). Не копируй пример. Можно перефразировать, добавить детали, но отзыв должен быть уникальным.\n"
          ]
        },
        {
          "name": "stderr",
          "output_type": "stream",
          "text": [
            "Генерируем синтетику:  47%|████▋     | 634/1335 [02:43<02:56,  3.98it/s]"
          ]
        },
        {
          "name": "stdout",
          "output_type": "stream",
          "text": [
            "Ты пишешь короткие отзывы жильцов управляющей компании. Пиши строго на русском. Пример отзыва:\n",
            "«благодарю вас»\n",
            "\n",
            "Напиши 1 уникальный отзыв по смыслу, похожий на пример (1-2 предложений). Не копируй пример. Можно перефразировать, добавить детали, но отзыв должен быть уникальным.\n"
          ]
        },
        {
          "name": "stderr",
          "output_type": "stream",
          "text": [
            "Генерируем синтетику:  48%|████▊     | 635/1335 [02:43<02:45,  4.22it/s]"
          ]
        },
        {
          "name": "stdout",
          "output_type": "stream",
          "text": [
            "Ты пишешь короткие отзывы жильцов управляющей компании. Пиши строго на русском. Пример отзыва:\n",
            "«спасибо большое!\n",
            "»\n",
            "\n",
            "Напиши 1 уникальный отзыв по смыслу, похожий на пример (1-2 предложений). Не копируй пример. Можно перефразировать, добавить детали, но отзыв должен быть уникальным.\n"
          ]
        },
        {
          "name": "stderr",
          "output_type": "stream",
          "text": [
            "Генерируем синтетику:  48%|████▊     | 637/1335 [02:43<02:27,  4.74it/s]"
          ]
        },
        {
          "name": "stdout",
          "output_type": "stream",
          "text": [
            "Ты пишешь короткие отзывы жильцов управляющей компании. Пиши строго на русском. Пример отзыва:\n",
            "«оперативно помогли»\n",
            "\n",
            "Напиши 1 уникальный отзыв по смыслу, похожий на пример (1-2 предложений). Не копируй пример. Можно перефразировать, добавить детали, но отзыв должен быть уникальным.\n",
            "Ты пишешь короткие отзывы жильцов управляющей компании. Пиши строго на русском. Пример отзыва:\n",
            "«большой спасибо татьяне  :folded_hands: »\n",
            "\n",
            "Если в примере есть код эмодзи вида :smile:, то сохрани стиль — вставь похожий код эмодзи.\n",
            "\n",
            "Напиши 1 уникальный отзыв по смыслу, похожий на пример (1-2 предложений). Не копируй пример. Можно перефразировать, добавить детали, но отзыв должен быть уникальным.\n"
          ]
        },
        {
          "name": "stderr",
          "output_type": "stream",
          "text": [
            "Генерируем синтетику:  48%|████▊     | 638/1335 [02:43<02:30,  4.64it/s]"
          ]
        },
        {
          "name": "stdout",
          "output_type": "stream",
          "text": [
            "Ты пишешь короткие отзывы жильцов управляющей компании. Пиши строго на русском. Пример отзыва:\n",
            "«повторно. вы обещали включить вопрос о переносе скамейки в повестку ближайшего осс, но не включили. почему?»\n",
            "\n",
            "Напиши 1 уникальный отзыв по смыслу, похожий на пример (1-2 предложений). Не копируй пример. Можно перефразировать, добавить детали, но отзыв должен быть уникальным.\n"
          ]
        },
        {
          "name": "stderr",
          "output_type": "stream",
          "text": [
            "Генерируем синтетику:  48%|████▊     | 639/1335 [02:44<02:49,  4.10it/s]"
          ]
        },
        {
          "name": "stdout",
          "output_type": "stream",
          "text": [
            "Ты пишешь короткие отзывы жильцов управляющей компании. Пиши строго на русском. Пример отзыва:\n",
            "«ответ на вопрос предоставлен.»\n",
            "\n",
            "Напиши 1 уникальный отзыв по смыслу, похожий на пример (1-2 предложений). Не копируй пример. Можно перефразировать, добавить детали, но отзыв должен быть уникальным.\n"
          ]
        },
        {
          "name": "stderr",
          "output_type": "stream",
          "text": [
            "Генерируем синтетику:  48%|████▊     | 641/1335 [02:44<02:36,  4.42it/s]"
          ]
        },
        {
          "name": "stdout",
          "output_type": "stream",
          "text": [
            "Ты пишешь короткие отзывы жильцов управляющей компании. Пиши строго на русском. Пример отзыва:\n",
            "«Быстро четко »\n",
            "\n",
            "Напиши 1 уникальный отзыв по смыслу, похожий на пример (1-2 предложений). Не копируй пример. Можно перефразировать, добавить детали, но отзыв должен быть уникальным.\n",
            "Ты пишешь короткие отзывы жильцов управляющей компании. Пиши строго на русском. Пример отзыва:\n",
            "«Очень быстро»\n",
            "\n",
            "Напиши 1 уникальный отзыв по смыслу, похожий на пример (1-2 предложений). Не копируй пример. Можно перефразировать, добавить детали, но отзыв должен быть уникальным.\n"
          ]
        },
        {
          "name": "stderr",
          "output_type": "stream",
          "text": [
            "Генерируем синтетику:  48%|████▊     | 642/1335 [02:44<02:31,  4.58it/s]"
          ]
        },
        {
          "name": "stdout",
          "output_type": "stream",
          "text": [
            "Ты пишешь короткие отзывы жильцов управляющей компании. Пиши строго на русском. Пример отзыва:\n",
            "«Спасибо за оперативно отработанную заявку»\n",
            "\n",
            "Напиши 1 уникальный отзыв по смыслу, похожий на пример (1-2 предложений). Не копируй пример. Можно перефразировать, добавить детали, но отзыв должен быть уникальным.\n"
          ]
        },
        {
          "name": "stderr",
          "output_type": "stream",
          "text": [
            "Генерируем синтетику:  48%|████▊     | 644/1335 [02:45<02:29,  4.61it/s]"
          ]
        },
        {
          "name": "stdout",
          "output_type": "stream",
          "text": [
            "Ты пишешь короткие отзывы жильцов управляющей компании. Пиши строго на русском. Пример отзыва:\n",
            "«Выше похвал.. »\n",
            "\n",
            "Напиши 1 уникальный отзыв по смыслу, похожий на пример (1-2 предложений). Не копируй пример. Можно перефразировать, добавить детали, но отзыв должен быть уникальным.\n",
            "Ты пишешь короткие отзывы жильцов управляющей компании. Пиши строго на русском. Пример отзыва:\n",
            "«отличная работа, быстро, качественно  :raising_hands: »\n",
            "\n",
            "Если в примере есть код эмодзи вида :smile:, то сохрани стиль — вставь похожий код эмодзи.\n",
            "\n",
            "Напиши 1 уникальный отзыв по смыслу, похожий на пример (1-2 предложений). Не копируй пример. Можно перефразировать, добавить детали, но отзыв должен быть уникальным.\n"
          ]
        },
        {
          "name": "stderr",
          "output_type": "stream",
          "text": [
            "Генерируем синтетику:  48%|████▊     | 645/1335 [02:45<02:28,  4.64it/s]"
          ]
        },
        {
          "name": "stdout",
          "output_type": "stream",
          "text": [
            "Ты пишешь короткие отзывы жильцов управляющей компании. Пиши строго на русском. Пример отзыва:\n",
            "«Очень приятный менеджер консультант , которая всё правильно и подробно объясняет.»\n",
            "\n",
            "Напиши 1 уникальный отзыв по смыслу, похожий на пример (1-2 предложений). Не копируй пример. Можно перефразировать, добавить детали, но отзыв должен быть уникальным.\n"
          ]
        },
        {
          "name": "stderr",
          "output_type": "stream",
          "text": [
            "Генерируем синтетику:  48%|████▊     | 646/1335 [02:45<02:39,  4.33it/s]"
          ]
        },
        {
          "name": "stdout",
          "output_type": "stream",
          "text": [
            "Ты пишешь короткие отзывы жильцов управляющей компании. Пиши строго на русском. Пример отзыва:\n",
            "«спасибо большое!!! :smiling_face_with_open_hands: »\n",
            "\n",
            "Если в примере есть код эмодзи вида :smile:, то сохрани стиль — вставь похожий код эмодзи.\n",
            "\n",
            "Напиши 1 уникальный отзыв по смыслу, похожий на пример (1-2 предложений). Не копируй пример. Можно перефразировать, добавить детали, но отзыв должен быть уникальным.\n"
          ]
        },
        {
          "name": "stderr",
          "output_type": "stream",
          "text": [
            "Генерируем синтетику:  48%|████▊     | 647/1335 [02:46<02:34,  4.45it/s]"
          ]
        },
        {
          "name": "stdout",
          "output_type": "stream",
          "text": [
            "Ты пишешь короткие отзывы жильцов управляющей компании. Пиши строго на русском. Пример отзыва:\n",
            "«отлично. спасибо большое. четко и быстро.»\n",
            "\n",
            "Напиши 1 уникальный отзыв по смыслу, похожий на пример (1-2 предложений). Не копируй пример. Можно перефразировать, добавить детали, но отзыв должен быть уникальным.\n"
          ]
        },
        {
          "name": "stderr",
          "output_type": "stream",
          "text": [
            "Генерируем синтетику:  49%|████▊     | 648/1335 [02:46<02:37,  4.36it/s]"
          ]
        },
        {
          "name": "stdout",
          "output_type": "stream",
          "text": [
            "Ты пишешь короткие отзывы жильцов управляющей компании. Пиши строго на русском. Пример отзыва:\n",
            "«спасибо большое. все быстро починили.»\n",
            "\n",
            "Напиши 1 уникальный отзыв по смыслу, похожий на пример (1-2 предложений). Не копируй пример. Можно перефразировать, добавить детали, но отзыв должен быть уникальным.\n"
          ]
        },
        {
          "name": "stderr",
          "output_type": "stream",
          "text": [
            "Генерируем синтетику:  49%|████▊     | 650/1335 [02:46<02:27,  4.65it/s]"
          ]
        },
        {
          "name": "stdout",
          "output_type": "stream",
          "text": [
            "Ты пишешь короткие отзывы жильцов управляющей компании. Пиши строго на русском. Пример отзыва:\n",
            "«Оперативно. Пока работает »\n",
            "\n",
            "Напиши 1 уникальный отзыв по смыслу, похожий на пример (1-2 предложений). Не копируй пример. Можно перефразировать, добавить детали, но отзыв должен быть уникальным.\n",
            "Ты пишешь короткие отзывы жильцов управляющей компании. Пиши строго на русском. Пример отзыва:\n",
            "«поплняйте, пожалуйста, своевременно. сейчас опять мало пакетов»\n",
            "\n",
            "Напиши 1 уникальный отзыв по смыслу, похожий на пример (1-2 предложений). Не копируй пример. Можно перефразировать, добавить детали, но отзыв должен быть уникальным.\n"
          ]
        },
        {
          "name": "stderr",
          "output_type": "stream",
          "text": [
            "Генерируем синтетику:  49%|████▉     | 651/1335 [02:47<03:00,  3.78it/s]"
          ]
        },
        {
          "name": "stdout",
          "output_type": "stream",
          "text": [
            "Ты пишешь короткие отзывы жильцов управляющей компании. Пиши строго на русском. Пример отзыва:\n",
            "«небольшая неточность в консультации- нужно набрать код от домофона и нажать \"колокольчик\" на панели, иначе в домашний подъезд не пропускают ;)»\n",
            "\n",
            "Напиши 1 уникальный отзыв по смыслу, похожий на пример (1-2 предложений). Не копируй пример. Можно перефразировать, добавить детали, но отзыв должен быть уникальным.\n"
          ]
        },
        {
          "name": "stderr",
          "output_type": "stream",
          "text": [
            "Генерируем синтетику:  49%|████▉     | 653/1335 [02:47<03:01,  3.76it/s]"
          ]
        },
        {
          "name": "stdout",
          "output_type": "stream",
          "text": [
            "Ты пишешь короткие отзывы жильцов управляющей компании. Пиши строго на русском. Пример отзыва:\n",
            "«спасибо за четкость и быстроту!»\n",
            "\n",
            "Напиши 1 уникальный отзыв по смыслу, похожий на пример (1-2 предложений). Не копируй пример. Можно перефразировать, добавить детали, но отзыв должен быть уникальным.\n",
            "Ты пишешь короткие отзывы жильцов управляющей компании. Пиши строго на русском. Пример отзыва:\n",
            "«этот же автомобиль в этом же месте припаркован на данный момент. из-за этого автомобиля участок еле проходим»\n",
            "\n",
            "Напиши 1 уникальный отзыв по смыслу, похожий на пример (1-2 предложений). Не копируй пример. Можно перефразировать, добавить детали, но отзыв должен быть уникальным.\n"
          ]
        },
        {
          "name": "stderr",
          "output_type": "stream",
          "text": [
            "Генерируем синтетику:  49%|████▉     | 654/1335 [02:47<03:07,  3.63it/s]"
          ]
        },
        {
          "name": "stdout",
          "output_type": "stream",
          "text": [
            "Ты пишешь короткие отзывы жильцов управляющей компании. Пиши строго на русском. Пример отзыва:\n",
            "«долго»\n",
            "\n",
            "Напиши 1 уникальный отзыв по смыслу, похожий на пример (1-2 предложений). Не копируй пример. Можно перефразировать, добавить детали, но отзыв должен быть уникальным.\n"
          ]
        },
        {
          "name": "stderr",
          "output_type": "stream",
          "text": [
            "Генерируем синтетику:  49%|████▉     | 655/1335 [02:48<02:54,  3.90it/s]"
          ]
        },
        {
          "name": "stdout",
          "output_type": "stream",
          "text": [
            "Ты пишешь короткие отзывы жильцов управляющей компании. Пиши строго на русском. Пример отзыва:\n",
            "«Спасибо специалисту Роману, который помог мне наконец-то решить мой вопрос! Очень грамотный и вежливый специалист) »\n",
            "\n",
            "Напиши 1 уникальный отзыв по смыслу, похожий на пример (1-2 предложений). Не копируй пример. Можно перефразировать, добавить детали, но отзыв должен быть уникальным.\n"
          ]
        },
        {
          "name": "stderr",
          "output_type": "stream",
          "text": [
            "Генерируем синтетику:  49%|████▉     | 656/1335 [02:48<03:07,  3.62it/s]"
          ]
        },
        {
          "name": "stdout",
          "output_type": "stream",
          "text": [
            "Ты пишешь короткие отзывы жильцов управляющей компании. Пиши строго на русском. Пример отзыва:\n",
            "«Молодцы! Быстро!  :beaming_face_with_smiling_eyes: »\n",
            "\n",
            "Если в примере есть код эмодзи вида :smile:, то сохрани стиль — вставь похожий код эмодзи.\n",
            "\n",
            "Напиши 1 уникальный отзыв по смыслу, похожий на пример (1-2 предложений). Не копируй пример. Можно перефразировать, добавить детали, но отзыв должен быть уникальным.\n"
          ]
        },
        {
          "name": "stderr",
          "output_type": "stream",
          "text": [
            "Генерируем синтетику:  49%|████▉     | 657/1335 [02:48<02:52,  3.92it/s]"
          ]
        },
        {
          "name": "stdout",
          "output_type": "stream",
          "text": [
            "Ты пишешь короткие отзывы жильцов управляющей компании. Пиши строго на русском. Пример отзыва:\n",
            "«фасад очистили, а виновника искать не стали»\n",
            "\n",
            "Напиши 1 уникальный отзыв по смыслу, похожий на пример (1-2 предложений). Не копируй пример. Можно перефразировать, добавить детали, но отзыв должен быть уникальным.\n"
          ]
        },
        {
          "name": "stderr",
          "output_type": "stream",
          "text": [
            "Генерируем синтетику:  49%|████▉     | 658/1335 [02:48<02:51,  3.96it/s]"
          ]
        },
        {
          "name": "stdout",
          "output_type": "stream",
          "text": [
            "Ты пишешь короткие отзывы жильцов управляющей компании. Пиши строго на русском. Пример отзыва:\n",
            "«благадарю вас за оказанную услугу.»\n",
            "\n",
            "Напиши 1 уникальный отзыв по смыслу, похожий на пример (1-2 предложений). Не копируй пример. Можно перефразировать, добавить детали, но отзыв должен быть уникальным.\n"
          ]
        },
        {
          "name": "stderr",
          "output_type": "stream",
          "text": [
            "Генерируем синтетику:  49%|████▉     | 659/1335 [02:49<02:45,  4.09it/s]"
          ]
        },
        {
          "name": "stdout",
          "output_type": "stream",
          "text": [
            "Ты пишешь короткие отзывы жильцов управляющей компании. Пиши строго на русском. Пример отзыва:\n",
            "«прошу убрать демонтированное окно из подъезда. три месяца стоит.»\n",
            "\n",
            "Напиши 1 уникальный отзыв по смыслу, похожий на пример (1-2 предложений). Не копируй пример. Можно перефразировать, добавить детали, но отзыв должен быть уникальным.\n"
          ]
        },
        {
          "name": "stderr",
          "output_type": "stream",
          "text": [
            "Генерируем синтетику:  49%|████▉     | 660/1335 [02:49<02:42,  4.15it/s]"
          ]
        },
        {
          "name": "stdout",
          "output_type": "stream",
          "text": [
            "Ты пишешь короткие отзывы жильцов управляющей компании. Пиши строго на русском. Пример отзыва:\n",
            "«на заявку отреагировали ночью мгновенно. течь устранена операивно и качественно! спасибо всем и виктору персонально!»\n",
            "\n",
            "Напиши 1 уникальный отзыв по смыслу, похожий на пример (1-2 предложений). Не копируй пример. Можно перефразировать, добавить детали, но отзыв должен быть уникальным.\n"
          ]
        },
        {
          "name": "stderr",
          "output_type": "stream",
          "text": [
            "Генерируем синтетику:  50%|████▉     | 662/1335 [02:49<02:43,  4.12it/s]"
          ]
        },
        {
          "name": "stdout",
          "output_type": "stream",
          "text": [
            "Ты пишешь короткие отзывы жильцов управляющей компании. Пиши строго на русском. Пример отзыва:\n",
            "«Быстро и четко!))»\n",
            "\n",
            "Напиши 1 уникальный отзыв по смыслу, похожий на пример (1-2 предложений). Не копируй пример. Можно перефразировать, добавить детали, но отзыв должен быть уникальным.\n",
            "Ты пишешь короткие отзывы жильцов управляющей компании. Пиши строго на русском. Пример отзыва:\n",
            "«Спасибо огромное Петрине Оксане Вдадимировне. Из 5 заявок  только она смогла правильно ответить на заявку. А остальных можете увольнять ,работают видно для галочки.»\n",
            "\n",
            "Напиши 1 уникальный отзыв по смыслу, похожий на пример (1-2 предложений). Не копируй пример. Можно перефразировать, добавить детали, но отзыв должен быть уникальным.\n"
          ]
        },
        {
          "name": "stderr",
          "output_type": "stream",
          "text": [
            "Генерируем синтетику:  50%|████▉     | 663/1335 [02:50<03:06,  3.60it/s]"
          ]
        },
        {
          "name": "stdout",
          "output_type": "stream",
          "text": [
            "Ты пишешь короткие отзывы жильцов управляющей компании. Пиши строго на русском. Пример отзыва:\n",
            "«отличный мастер!\n",
            "большое спасибо за помощь!»\n",
            "\n",
            "Напиши 1 уникальный отзыв по смыслу, похожий на пример (1-2 предложений). Не копируй пример. Можно перефразировать, добавить детали, но отзыв должен быть уникальным.\n"
          ]
        },
        {
          "name": "stderr",
          "output_type": "stream",
          "text": [
            "Генерируем синтетику:  50%|████▉     | 664/1335 [02:50<03:00,  3.72it/s]"
          ]
        },
        {
          "name": "stdout",
          "output_type": "stream",
          "text": [
            "Ты пишешь короткие отзывы жильцов управляющей компании. Пиши строго на русском. Пример отзыва:\n",
            "«чисто ,быстро ,аккуратно»\n",
            "\n",
            "Напиши 1 уникальный отзыв по смыслу, похожий на пример (1-2 предложений). Не копируй пример. Можно перефразировать, добавить детали, но отзыв должен быть уникальным.\n"
          ]
        },
        {
          "name": "stderr",
          "output_type": "stream",
          "text": [
            "Генерируем синтетику:  50%|████▉     | 666/1335 [02:50<02:42,  4.10it/s]"
          ]
        },
        {
          "name": "stdout",
          "output_type": "stream",
          "text": [
            "Ты пишешь короткие отзывы жильцов управляющей компании. Пиши строго на русском. Пример отзыва:\n",
            "«очень оперативно. спасибо !»\n",
            "\n",
            "Напиши 1 уникальный отзыв по смыслу, похожий на пример (1-2 предложений). Не копируй пример. Можно перефразировать, добавить детали, но отзыв должен быть уникальным.\n",
            "Ты пишешь короткие отзывы жильцов управляющей компании. Пиши строго на русском. Пример отзыва:\n",
            "«Большое спасибо Александру,за оперативность и профессионализм »\n",
            "\n",
            "Напиши 1 уникальный отзыв по смыслу, похожий на пример (1-2 предложений). Не копируй пример. Можно перефразировать, добавить детали, но отзыв должен быть уникальным.\n"
          ]
        },
        {
          "name": "stderr",
          "output_type": "stream",
          "text": [
            "Генерируем синтетику:  50%|█████     | 668/1335 [02:51<02:36,  4.27it/s]"
          ]
        },
        {
          "name": "stdout",
          "output_type": "stream",
          "text": [
            "Ты пишешь короткие отзывы жильцов управляющей компании. Пиши строго на русском. Пример отзыва:\n",
            "«все быстро , четко , спасибо !»\n",
            "\n",
            "Напиши 1 уникальный отзыв по смыслу, похожий на пример (1-2 предложений). Не копируй пример. Можно перефразировать, добавить детали, но отзыв должен быть уникальным.\n",
            "Ты пишешь короткие отзывы жильцов управляющей компании. Пиши строго на русском. Пример отзыва:\n",
            "«Спасибо большое за Вашу быструю и профессиональную помощь. »\n",
            "\n",
            "Напиши 1 уникальный отзыв по смыслу, похожий на пример (1-2 предложений). Не копируй пример. Можно перефразировать, добавить детали, но отзыв должен быть уникальным.\n"
          ]
        },
        {
          "name": "stderr",
          "output_type": "stream",
          "text": [
            "Генерируем синтетику:  50%|█████     | 670/1335 [02:51<02:29,  4.46it/s]"
          ]
        },
        {
          "name": "stdout",
          "output_type": "stream",
          "text": [
            "Ты пишешь короткие отзывы жильцов управляющей компании. Пиши строго на русском. Пример отзыва:\n",
            "«Благодарим, очень оперативно!»\n",
            "\n",
            "Напиши 1 уникальный отзыв по смыслу, похожий на пример (1-2 предложений). Не копируй пример. Можно перефразировать, добавить детали, но отзыв должен быть уникальным.\n",
            "Ты пишешь короткие отзывы жильцов управляющей компании. Пиши строго на русском. Пример отзыва:\n",
            "«электрик пришёл в день обращения, снял показания, счеткик работает, сотрудник вежливый. благодарю. »\n",
            "\n",
            "Напиши 1 уникальный отзыв по смыслу, похожий на пример (1-2 предложений). Не копируй пример. Можно перефразировать, добавить детали, но отзыв должен быть уникальным.\n"
          ]
        },
        {
          "name": "stderr",
          "output_type": "stream",
          "text": [
            "Генерируем синтетику:  50%|█████     | 672/1335 [02:52<02:36,  4.22it/s]"
          ]
        },
        {
          "name": "stdout",
          "output_type": "stream",
          "text": [
            "Ты пишешь короткие отзывы жильцов управляющей компании. Пиши строго на русском. Пример отзыва:\n",
            "«Спасибо мастеру Сергею за четкую работу! »\n",
            "\n",
            "Напиши 1 уникальный отзыв по смыслу, похожий на пример (1-2 предложений). Не копируй пример. Можно перефразировать, добавить детали, но отзыв должен быть уникальным.\n",
            "Ты пишешь короткие отзывы жильцов управляющей компании. Пиши строго на русском. Пример отзыва:\n",
            "«мастер супер!!!»\n",
            "\n",
            "Напиши 1 уникальный отзыв по смыслу, похожий на пример (1-2 предложений). Не копируй пример. Можно перефразировать, добавить детали, но отзыв должен быть уникальным.\n"
          ]
        },
        {
          "name": "stderr",
          "output_type": "stream",
          "text": [
            "Генерируем синтетику:  50%|█████     | 673/1335 [02:52<02:34,  4.30it/s]"
          ]
        },
        {
          "name": "stdout",
          "output_type": "stream",
          "text": [
            "Ты пишешь короткие отзывы жильцов управляющей компании. Пиши строго на русском. Пример отзыва:\n",
            "«ребята молодцы, спасибо огромное , все устранили  :folded_hands: »\n",
            "\n",
            "Если в примере есть код эмодзи вида :smile:, то сохрани стиль — вставь похожий код эмодзи.\n",
            "\n",
            "Напиши 1 уникальный отзыв по смыслу, похожий на пример (1-2 предложений). Не копируй пример. Можно перефразировать, добавить детали, но отзыв должен быть уникальным.\n"
          ]
        },
        {
          "name": "stderr",
          "output_type": "stream",
          "text": [
            "Генерируем синтетику:  50%|█████     | 674/1335 [02:52<02:36,  4.22it/s]"
          ]
        },
        {
          "name": "stdout",
          "output_type": "stream",
          "text": [
            "Ты пишешь короткие отзывы жильцов управляющей компании. Пиши строго на русском. Пример отзыва:\n",
            "«Отлично !»\n",
            "\n",
            "Напиши 1 уникальный отзыв по смыслу, похожий на пример (1-2 предложений). Не копируй пример. Можно перефразировать, добавить детали, но отзыв должен быть уникальным.\n"
          ]
        },
        {
          "name": "stderr",
          "output_type": "stream",
          "text": [
            "Генерируем синтетику:  51%|█████     | 675/1335 [02:53<02:34,  4.28it/s]"
          ]
        },
        {
          "name": "stdout",
          "output_type": "stream",
          "text": [
            "Ты пишешь короткие отзывы жильцов управляющей компании. Пиши строго на русском. Пример отзыва:\n",
            "«проблему с течью воды устранили,но смеситель мне не заменили!»\n",
            "\n",
            "Напиши 1 уникальный отзыв по смыслу, похожий на пример (1-2 предложений). Не копируй пример. Можно перефразировать, добавить детали, но отзыв должен быть уникальным.\n"
          ]
        },
        {
          "name": "stderr",
          "output_type": "stream",
          "text": [
            "Генерируем синтетику:  51%|█████     | 676/1335 [02:53<02:37,  4.17it/s]"
          ]
        },
        {
          "name": "stdout",
          "output_type": "stream",
          "text": [
            "Ты пишешь короткие отзывы жильцов управляющей компании. Пиши строго на русском. Пример отзыва:\n",
            "«спасибо, теперь снова чисто»\n",
            "\n",
            "Напиши 1 уникальный отзыв по смыслу, похожий на пример (1-2 предложений). Не копируй пример. Можно перефразировать, добавить детали, но отзыв должен быть уникальным.\n"
          ]
        },
        {
          "name": "stderr",
          "output_type": "stream",
          "text": [
            "Генерируем синтетику:  51%|█████     | 678/1335 [02:53<02:42,  4.05it/s]"
          ]
        },
        {
          "name": "stdout",
          "output_type": "stream",
          "text": [
            "Ты пишешь короткие отзывы жильцов управляющей компании. Пиши строго на русском. Пример отзыва:\n",
            "«Всё быстро . Работа выполнена»\n",
            "\n",
            "Напиши 1 уникальный отзыв по смыслу, похожий на пример (1-2 предложений). Не копируй пример. Можно перефразировать, добавить детали, но отзыв должен быть уникальным.\n",
            "Ты пишешь короткие отзывы жильцов управляющей компании. Пиши строго на русском. Пример отзыва:\n",
            "«Кнопка лифта 6 этажа в грузовом лифте до сих пор не работает.»\n",
            "\n",
            "Напиши 1 уникальный отзыв по смыслу, похожий на пример (1-2 предложений). Не копируй пример. Можно перефразировать, добавить детали, но отзыв должен быть уникальным.\n"
          ]
        },
        {
          "name": "stderr",
          "output_type": "stream",
          "text": [
            "Генерируем синтетику:  51%|█████     | 680/1335 [02:54<02:38,  4.12it/s]"
          ]
        },
        {
          "name": "stdout",
          "output_type": "stream",
          "text": [
            "Ты пишешь короткие отзывы жильцов управляющей компании. Пиши строго на русском. Пример отзыва:\n",
            "«Оперативно решили вопрос, спасибо.»\n",
            "\n",
            "Напиши 1 уникальный отзыв по смыслу, похожий на пример (1-2 предложений). Не копируй пример. Можно перефразировать, добавить детали, но отзыв должен быть уникальным.\n",
            "Ты пишешь короткие отзывы жильцов управляющей компании. Пиши строго на русском. Пример отзыва:\n",
            "«все замечательно»\n",
            "\n",
            "Напиши 1 уникальный отзыв по смыслу, похожий на пример (1-2 предложений). Не копируй пример. Можно перефразировать, добавить детали, но отзыв должен быть уникальным.\n"
          ]
        },
        {
          "name": "stderr",
          "output_type": "stream",
          "text": [
            "Генерируем синтетику:  51%|█████     | 682/1335 [02:54<02:21,  4.60it/s]"
          ]
        },
        {
          "name": "stdout",
          "output_type": "stream",
          "text": [
            "Ты пишешь короткие отзывы жильцов управляющей компании. Пиши строго на русском. Пример отзыва:\n",
            "«благодарю за оперативность»\n",
            "\n",
            "Напиши 1 уникальный отзыв по смыслу, похожий на пример (1-2 предложений). Не копируй пример. Можно перефразировать, добавить детали, но отзыв должен быть уникальным.\n",
            "Ты пишешь короткие отзывы жильцов управляющей компании. Пиши строго на русском. Пример отзыва:\n",
            "«электрик все отлично объяснил и помог устранить проблему. очень профессионально. молодец.»\n",
            "\n",
            "Напиши 1 уникальный отзыв по смыслу, похожий на пример (1-2 предложений). Не копируй пример. Можно перефразировать, добавить детали, но отзыв должен быть уникальным.\n"
          ]
        },
        {
          "name": "stderr",
          "output_type": "stream",
          "text": [
            "Генерируем синтетику:  51%|█████     | 683/1335 [02:54<02:27,  4.43it/s]"
          ]
        },
        {
          "name": "stdout",
          "output_type": "stream",
          "text": [
            "Ты пишешь короткие отзывы жильцов управляющей компании. Пиши строго на русском. Пример отзыва:\n",
            "«пломбы сорваны, шкафы на распашку, в прошлый раз шланги украли»\n",
            "\n",
            "Напиши 1 уникальный отзыв по смыслу, похожий на пример (1-2 предложений). Не копируй пример. Можно перефразировать, добавить детали, но отзыв должен быть уникальным.\n"
          ]
        },
        {
          "name": "stderr",
          "output_type": "stream",
          "text": [
            "Генерируем синтетику:  51%|█████▏    | 685/1335 [02:55<02:21,  4.61it/s]"
          ]
        },
        {
          "name": "stdout",
          "output_type": "stream",
          "text": [
            "Ты пишешь короткие отзывы жильцов управляющей компании. Пиши строго на русском. Пример отзыва:\n",
            "«заявку выполнили быстро ,спасибо»\n",
            "\n",
            "Напиши 1 уникальный отзыв по смыслу, похожий на пример (1-2 предложений). Не копируй пример. Можно перефразировать, добавить детали, но отзыв должен быть уникальным.\n",
            "Ты пишешь короткие отзывы жильцов управляющей компании. Пиши строго на русском. Пример отзыва:\n",
            "«очень быстро решили вопрос! от вызова электрика по замене ламп в коридоре до устранения неисправности прошло минут 30. неожиданно и приятно!»\n",
            "\n",
            "Напиши 1 уникальный отзыв по смыслу, похожий на пример (1-2 предложений). Не копируй пример. Можно перефразировать, добавить детали, но отзыв должен быть уникальным.\n"
          ]
        },
        {
          "name": "stderr",
          "output_type": "stream",
          "text": [
            "Генерируем синтетику:  51%|█████▏    | 686/1335 [02:55<02:54,  3.73it/s]"
          ]
        },
        {
          "name": "stdout",
          "output_type": "stream",
          "text": [
            "Ты пишешь короткие отзывы жильцов управляющей компании. Пиши строго на русском. Пример отзыва:\n",
            "«спасибо  :smiling_face_with_open_hands:  \n",
            "»\n",
            "\n",
            "Если в примере есть код эмодзи вида :smile:, то сохрани стиль — вставь похожий код эмодзи.\n",
            "\n",
            "Напиши 1 уникальный отзыв по смыслу, похожий на пример (1-2 предложений). Не копируй пример. Можно перефразировать, добавить детали, но отзыв должен быть уникальным.\n"
          ]
        },
        {
          "name": "stderr",
          "output_type": "stream",
          "text": [
            "Генерируем синтетику:  51%|█████▏    | 687/1335 [02:56<02:53,  3.73it/s]"
          ]
        },
        {
          "name": "stdout",
          "output_type": "stream",
          "text": [
            "Ты пишешь короткие отзывы жильцов управляющей компании. Пиши строго на русском. Пример отзыва:\n",
            "«убрали»\n",
            "\n",
            "Напиши 1 уникальный отзыв по смыслу, похожий на пример (1-2 предложений). Не копируй пример. Можно перефразировать, добавить детали, но отзыв должен быть уникальным.\n"
          ]
        },
        {
          "name": "stderr",
          "output_type": "stream",
          "text": [
            "Генерируем синтетику:  52%|█████▏    | 688/1335 [02:56<02:47,  3.86it/s]"
          ]
        },
        {
          "name": "stdout",
          "output_type": "stream",
          "text": [
            "Ты пишешь короткие отзывы жильцов управляющей компании. Пиши строго на русском. Пример отзыва:\n",
            "«все починили»\n",
            "\n",
            "Напиши 1 уникальный отзыв по смыслу, похожий на пример (1-2 предложений). Не копируй пример. Можно перефразировать, добавить детали, но отзыв должен быть уникальным.\n"
          ]
        },
        {
          "name": "stderr",
          "output_type": "stream",
          "text": [
            "Генерируем синтетику:  52%|█████▏    | 689/1335 [02:56<02:38,  4.08it/s]"
          ]
        },
        {
          "name": "stdout",
          "output_type": "stream",
          "text": [
            "Ты пишешь короткие отзывы жильцов управляющей компании. Пиши строго на русском. Пример отзыва:\n",
            "«все разъяснили :thumbs_up: »\n",
            "\n",
            "Если в примере есть код эмодзи вида :smile:, то сохрани стиль — вставь похожий код эмодзи.\n",
            "\n",
            "Напиши 1 уникальный отзыв по смыслу, похожий на пример (1-2 предложений). Не копируй пример. Можно перефразировать, добавить детали, но отзыв должен быть уникальным.\n"
          ]
        },
        {
          "name": "stderr",
          "output_type": "stream",
          "text": [
            "Генерируем синтетику:  52%|█████▏    | 690/1335 [02:56<03:02,  3.54it/s]"
          ]
        },
        {
          "name": "stdout",
          "output_type": "stream",
          "text": [
            "Ты пишешь короткие отзывы жильцов управляющей компании. Пиши строго на русском. Пример отзыва:\n",
            "«благодарю менеджера »\n",
            "\n",
            "Напиши 1 уникальный отзыв по смыслу, похожий на пример (1-2 предложений). Не копируй пример. Можно перефразировать, добавить детали, но отзыв должен быть уникальным.\n"
          ]
        },
        {
          "name": "stderr",
          "output_type": "stream",
          "text": [
            "Генерируем синтетику:  52%|█████▏    | 691/1335 [02:57<03:01,  3.55it/s]"
          ]
        },
        {
          "name": "stdout",
          "output_type": "stream",
          "text": [
            "Ты пишешь короткие отзывы жильцов управляющей компании. Пиши строго на русском. Пример отзыва:\n",
            "«супер, теперь кнопка светится»\n",
            "\n",
            "Напиши 1 уникальный отзыв по смыслу, похожий на пример (1-2 предложений). Не копируй пример. Можно перефразировать, добавить детали, но отзыв должен быть уникальным.\n"
          ]
        },
        {
          "name": "stderr",
          "output_type": "stream",
          "text": [
            "Генерируем синтетику:  52%|█████▏    | 692/1335 [02:57<02:47,  3.84it/s]"
          ]
        },
        {
          "name": "stdout",
          "output_type": "stream",
          "text": [
            "Ты пишешь короткие отзывы жильцов управляющей компании. Пиши строго на русском. Пример отзыва:\n",
            "«спасибо технику дмитрию за помощь!»\n",
            "\n",
            "Напиши 1 уникальный отзыв по смыслу, похожий на пример (1-2 предложений). Не копируй пример. Можно перефразировать, добавить детали, но отзыв должен быть уникальным.\n"
          ]
        },
        {
          "name": "stderr",
          "output_type": "stream",
          "text": [
            "Генерируем синтетику:  52%|█████▏    | 694/1335 [02:57<02:29,  4.28it/s]"
          ]
        },
        {
          "name": "stdout",
          "output_type": "stream",
          "text": [
            "Ты пишешь короткие отзывы жильцов управляющей компании. Пиши строго на русском. Пример отзыва:\n",
            "«оперативно, молодцы»\n",
            "\n",
            "Напиши 1 уникальный отзыв по смыслу, похожий на пример (1-2 предложений). Не копируй пример. Можно перефразировать, добавить детали, но отзыв должен быть уникальным.\n",
            "Ты пишешь короткие отзывы жильцов управляющей компании. Пиши строго на русском. Пример отзыва:\n",
            "«Спасибо, очень оперативно!»\n",
            "\n",
            "Напиши 1 уникальный отзыв по смыслу, похожий на пример (1-2 предложений). Не копируй пример. Можно перефразировать, добавить детали, но отзыв должен быть уникальным.\n"
          ]
        },
        {
          "name": "stderr",
          "output_type": "stream",
          "text": [
            "Генерируем синтетику:  52%|█████▏    | 695/1335 [02:58<02:22,  4.50it/s]"
          ]
        },
        {
          "name": "stdout",
          "output_type": "stream",
          "text": [
            "Ты пишешь короткие отзывы жильцов управляющей компании. Пиши строго на русском. Пример отзыва:\n",
            "«да выполнена. благодарю за оперативность  :thumbs_up: »\n",
            "\n",
            "Если в примере есть код эмодзи вида :smile:, то сохрани стиль — вставь похожий код эмодзи.\n",
            "\n",
            "Напиши 1 уникальный отзыв по смыслу, похожий на пример (1-2 предложений). Не копируй пример. Можно перефразировать, добавить детали, но отзыв должен быть уникальным.\n"
          ]
        },
        {
          "name": "stderr",
          "output_type": "stream",
          "text": [
            "Генерируем синтетику:  52%|█████▏    | 697/1335 [02:58<02:23,  4.44it/s]"
          ]
        },
        {
          "name": "stdout",
          "output_type": "stream",
          "text": [
            "Ты пишешь короткие отзывы жильцов управляющей компании. Пиши строго на русском. Пример отзыва:\n",
            "«быстро и оперативно. спасибо!»\n",
            "\n",
            "Напиши 1 уникальный отзыв по смыслу, похожий на пример (1-2 предложений). Не копируй пример. Можно перефразировать, добавить детали, но отзыв должен быть уникальным.\n",
            "Ты пишешь короткие отзывы жильцов управляющей компании. Пиши строго на русском. Пример отзыва:\n",
            "«супруга с ребенком к соседям зашли,так как света не было. спасибо»\n",
            "\n",
            "Напиши 1 уникальный отзыв по смыслу, похожий на пример (1-2 предложений). Не копируй пример. Можно перефразировать, добавить детали, но отзыв должен быть уникальным.\n"
          ]
        },
        {
          "name": "stderr",
          "output_type": "stream",
          "text": [
            "Генерируем синтетику:  52%|█████▏    | 698/1335 [02:58<02:34,  4.12it/s]"
          ]
        },
        {
          "name": "stdout",
          "output_type": "stream",
          "text": [
            "Ты пишешь короткие отзывы жильцов управляющей компании. Пиши строго на русском. Пример отзыва:\n",
            "«Вопрос решился быстро. Спасибо!»\n",
            "\n",
            "Напиши 1 уникальный отзыв по смыслу, похожий на пример (1-2 предложений). Не копируй пример. Можно перефразировать, добавить детали, но отзыв должен быть уникальным.\n"
          ]
        },
        {
          "name": "stderr",
          "output_type": "stream",
          "text": [
            "Генерируем синтетику:  52%|█████▏    | 699/1335 [02:58<02:33,  4.16it/s]"
          ]
        },
        {
          "name": "stdout",
          "output_type": "stream",
          "text": [
            "Ты пишешь короткие отзывы жильцов управляющей компании. Пиши строго на русском. Пример отзыва:\n",
            "«Да, подтверждаю ! Вчера вечером обнаружила что устранено. Спасибо»\n",
            "\n",
            "Напиши 1 уникальный отзыв по смыслу, похожий на пример (1-2 предложений). Не копируй пример. Можно перефразировать, добавить детали, но отзыв должен быть уникальным.\n"
          ]
        },
        {
          "name": "stderr",
          "output_type": "stream",
          "text": [
            "Генерируем синтетику:  53%|█████▎    | 701/1335 [02:59<02:27,  4.30it/s]"
          ]
        },
        {
          "name": "stdout",
          "output_type": "stream",
          "text": [
            "Ты пишешь короткие отзывы жильцов управляющей компании. Пиши строго на русском. Пример отзыва:\n",
            "«все работает как надо! спасибо!»\n",
            "\n",
            "Напиши 1 уникальный отзыв по смыслу, похожий на пример (1-2 предложений). Не копируй пример. Можно перефразировать, добавить детали, но отзыв должен быть уникальным.\n",
            "Ты пишешь короткие отзывы жильцов управляющей компании. Пиши строго на русском. Пример отзыва:\n",
            "«всё прекрасно и оперативно, но акт хотелось бы получить»\n",
            "\n",
            "Напиши 1 уникальный отзыв по смыслу, похожий на пример (1-2 предложений). Не копируй пример. Можно перефразировать, добавить детали, но отзыв должен быть уникальным.\n"
          ]
        },
        {
          "name": "stderr",
          "output_type": "stream",
          "text": [
            "Генерируем синтетику:  53%|█████▎    | 702/1335 [02:59<02:38,  4.00it/s]"
          ]
        },
        {
          "name": "stdout",
          "output_type": "stream",
          "text": [
            "Ты пишешь короткие отзывы жильцов управляющей компании. Пиши строго на русском. Пример отзыва:\n",
            "«спасибо большое ребятам сделали все хорошо посмотрим как будет в дальнейшем вести себя труба а так все отлично»\n",
            "\n",
            "Напиши 1 уникальный отзыв по смыслу, похожий на пример (1-2 предложений). Не копируй пример. Можно перефразировать, добавить детали, но отзыв должен быть уникальным.\n"
          ]
        },
        {
          "name": "stderr",
          "output_type": "stream",
          "text": [
            "Генерируем синтетику:  53%|█████▎    | 703/1335 [03:00<02:50,  3.70it/s]"
          ]
        },
        {
          "name": "stdout",
          "output_type": "stream",
          "text": [
            "Ты пишешь короткие отзывы жильцов управляющей компании. Пиши строго на русском. Пример отзыва:\n",
            "«очень вежливая и грамотная сотрудница, побольше бы таких!»\n",
            "\n",
            "Напиши 1 уникальный отзыв по смыслу, похожий на пример (1-2 предложений). Не копируй пример. Можно перефразировать, добавить детали, но отзыв должен быть уникальным.\n"
          ]
        },
        {
          "name": "stderr",
          "output_type": "stream",
          "text": [
            "Генерируем синтетику:  53%|█████▎    | 704/1335 [03:00<02:59,  3.52it/s]"
          ]
        },
        {
          "name": "stdout",
          "output_type": "stream",
          "text": [
            "Ты пишешь короткие отзывы жильцов управляющей компании. Пиши строго на русском. Пример отзыва:\n",
            "«Спасибо электрику, оперативно пришёл! »\n",
            "\n",
            "Напиши 1 уникальный отзыв по смыслу, похожий на пример (1-2 предложений). Не копируй пример. Можно перефразировать, добавить детали, но отзыв должен быть уникальным.\n"
          ]
        },
        {
          "name": "stderr",
          "output_type": "stream",
          "text": [
            "Генерируем синтетику:  53%|█████▎    | 705/1335 [03:00<02:46,  3.79it/s]"
          ]
        },
        {
          "name": "stdout",
          "output_type": "stream",
          "text": [
            "Ты пишешь короткие отзывы жильцов управляющей компании. Пиши строго на русском. Пример отзыва:\n",
            "«Напор стал гораздо сильнее, небо и земля. Быстро поняли причину слабого напора. Спасибо »\n",
            "\n",
            "Напиши 1 уникальный отзыв по смыслу, похожий на пример (1-2 предложений). Не копируй пример. Можно перефразировать, добавить детали, но отзыв должен быть уникальным.\n"
          ]
        },
        {
          "name": "stderr",
          "output_type": "stream",
          "text": [
            "Генерируем синтетику:  53%|█████▎    | 706/1335 [03:00<02:54,  3.61it/s]"
          ]
        },
        {
          "name": "stdout",
          "output_type": "stream",
          "text": [
            "Ты пишешь короткие отзывы жильцов управляющей компании. Пиши строго на русском. Пример отзыва:\n",
            "«проконсультировали по телефону, обещали перерасчёт в следующем счете. жду счет»\n",
            "\n",
            "Напиши 1 уникальный отзыв по смыслу, похожий на пример (1-2 предложений). Не копируй пример. Можно перефразировать, добавить детали, но отзыв должен быть уникальным.\n"
          ]
        },
        {
          "name": "stderr",
          "output_type": "stream",
          "text": [
            "Генерируем синтетику:  53%|█████▎    | 707/1335 [03:01<02:53,  3.63it/s]"
          ]
        },
        {
          "name": "stdout",
          "output_type": "stream",
          "text": [
            "Ты пишешь короткие отзывы жильцов управляющей компании. Пиши строго на русском. Пример отзыва:\n",
            "«Напор стал хорошим,  спасибо »\n",
            "\n",
            "Напиши 1 уникальный отзыв по смыслу, похожий на пример (1-2 предложений). Не копируй пример. Можно перефразировать, добавить детали, но отзыв должен быть уникальным.\n"
          ]
        },
        {
          "name": "stderr",
          "output_type": "stream",
          "text": [
            "Генерируем синтетику:  53%|█████▎    | 708/1335 [03:01<02:41,  3.88it/s]"
          ]
        },
        {
          "name": "stdout",
          "output_type": "stream",
          "text": [
            "Ты пишешь короткие отзывы жильцов управляющей компании. Пиши строго на русском. Пример отзыва:\n",
            "«спасибо за порядок на нашей площадке»\n",
            "\n",
            "Напиши 1 уникальный отзыв по смыслу, похожий на пример (1-2 предложений). Не копируй пример. Можно перефразировать, добавить детали, но отзыв должен быть уникальным.\n"
          ]
        },
        {
          "name": "stderr",
          "output_type": "stream",
          "text": [
            "Генерируем синтетику:  53%|█████▎    | 709/1335 [03:01<02:38,  3.94it/s]"
          ]
        },
        {
          "name": "stdout",
          "output_type": "stream",
          "text": [
            "Ты пишешь короткие отзывы жильцов управляющей компании. Пиши строго на русском. Пример отзыва:\n",
            "«Лика, спасибо Вам за оперативный ответ и подробные разъяснения по работе с приложением! »\n",
            "\n",
            "Напиши 1 уникальный отзыв по смыслу, похожий на пример (1-2 предложений). Не копируй пример. Можно перефразировать, добавить детали, но отзыв должен быть уникальным.\n"
          ]
        },
        {
          "name": "stderr",
          "output_type": "stream",
          "text": [
            "Генерируем синтетику:  53%|█████▎    | 710/1335 [03:01<02:44,  3.81it/s]"
          ]
        },
        {
          "name": "stdout",
          "output_type": "stream",
          "text": [
            "Ты пишешь короткие отзывы жильцов управляющей компании. Пиши строго на русском. Пример отзыва:\n",
            "«мастер супер! спасибо огромное!»\n",
            "\n",
            "Напиши 1 уникальный отзыв по смыслу, похожий на пример (1-2 предложений). Не копируй пример. Можно перефразировать, добавить детали, но отзыв должен быть уникальным.\n"
          ]
        },
        {
          "name": "stderr",
          "output_type": "stream",
          "text": [
            "Генерируем синтетику:  53%|█████▎    | 711/1335 [03:02<02:42,  3.84it/s]"
          ]
        },
        {
          "name": "stdout",
          "output_type": "stream",
          "text": [
            "Ты пишешь короткие отзывы жильцов управляющей компании. Пиши строго на русском. Пример отзыва:\n",
            "«лучший сервис в мире )))))»\n",
            "\n",
            "Напиши 1 уникальный отзыв по смыслу, похожий на пример (1-2 предложений). Не копируй пример. Можно перефразировать, добавить детали, но отзыв должен быть уникальным.\n"
          ]
        },
        {
          "name": "stderr",
          "output_type": "stream",
          "text": [
            "Генерируем синтетику:  53%|█████▎    | 712/1335 [03:02<02:42,  3.83it/s]"
          ]
        },
        {
          "name": "stdout",
          "output_type": "stream",
          "text": [
            "Ты пишешь короткие отзывы жильцов управляющей компании. Пиши строго на русском. Пример отзыва:\n",
            "«Консультация и настройка прибора выполнена очень быстро, качественно и профессионально, спасибо! »\n",
            "\n",
            "Напиши 1 уникальный отзыв по смыслу, похожий на пример (1-2 предложений). Не копируй пример. Можно перефразировать, добавить детали, но отзыв должен быть уникальным.\n"
          ]
        },
        {
          "name": "stderr",
          "output_type": "stream",
          "text": [
            "Генерируем синтетику:  53%|█████▎    | 713/1335 [03:02<02:49,  3.67it/s]"
          ]
        },
        {
          "name": "stdout",
          "output_type": "stream",
          "text": [
            "Ты пишешь короткие отзывы жильцов управляющей компании. Пиши строго на русском. Пример отзыва:\n",
            "«отдельная  благодарность инженеру кириллу»\n",
            "\n",
            "Напиши 1 уникальный отзыв по смыслу, похожий на пример (1-2 предложений). Не копируй пример. Можно перефразировать, добавить детали, но отзыв должен быть уникальным.\n"
          ]
        },
        {
          "name": "stderr",
          "output_type": "stream",
          "text": [
            "Генерируем синтетику:  53%|█████▎    | 714/1335 [03:03<02:46,  3.72it/s]"
          ]
        },
        {
          "name": "stdout",
          "output_type": "stream",
          "text": [
            "Ты пишешь короткие отзывы жильцов управляющей компании. Пиши строго на русском. Пример отзыва:\n",
            "«оплачено»\n",
            "\n",
            "Напиши 1 уникальный отзыв по смыслу, похожий на пример (1-2 предложений). Не копируй пример. Можно перефразировать, добавить детали, но отзыв должен быть уникальным.\n"
          ]
        },
        {
          "name": "stderr",
          "output_type": "stream",
          "text": [
            "Генерируем синтетику:  54%|█████▎    | 715/1335 [03:03<02:34,  4.01it/s]"
          ]
        },
        {
          "name": "stdout",
          "output_type": "stream",
          "text": [
            "Ты пишешь короткие отзывы жильцов управляющей компании. Пиши строго на русском. Пример отзыва:\n",
            "«мастер пришел,установил доводчик,был доброжелателен. спасибо !!!»\n",
            "\n",
            "Напиши 1 уникальный отзыв по смыслу, похожий на пример (1-2 предложений). Не копируй пример. Можно перефразировать, добавить детали, но отзыв должен быть уникальным.\n"
          ]
        },
        {
          "name": "stderr",
          "output_type": "stream",
          "text": [
            "Генерируем синтетику:  54%|█████▎    | 716/1335 [03:03<02:39,  3.88it/s]"
          ]
        },
        {
          "name": "stdout",
          "output_type": "stream",
          "text": [
            "Ты пишешь короткие отзывы жильцов управляющей компании. Пиши строго на русском. Пример отзыва:\n",
            "«Всё очень четко организовано! Большое спасибо за работу!»\n",
            "\n",
            "Напиши 1 уникальный отзыв по смыслу, похожий на пример (1-2 предложений). Не копируй пример. Можно перефразировать, добавить детали, но отзыв должен быть уникальным.\n"
          ]
        },
        {
          "name": "stderr",
          "output_type": "stream",
          "text": [
            "Генерируем синтетику:  54%|█████▎    | 717/1335 [03:03<02:29,  4.12it/s]"
          ]
        },
        {
          "name": "stdout",
          "output_type": "stream",
          "text": [
            "Ты пишешь короткие отзывы жильцов управляющей компании. Пиши строго на русском. Пример отзыва:\n",
            "«замечательный шутро и быстро сделали Молодец  :thumbs_up: »\n",
            "\n",
            "Если в примере есть код эмодзи вида :smile:, то сохрани стиль — вставь похожий код эмодзи.\n",
            "\n",
            "Напиши 1 уникальный отзыв по смыслу, похожий на пример (1-2 предложений). Не копируй пример. Можно перефразировать, добавить детали, но отзыв должен быть уникальным.\n"
          ]
        },
        {
          "name": "stderr",
          "output_type": "stream",
          "text": [
            "Генерируем синтетику:  54%|█████▍    | 718/1335 [03:03<02:29,  4.14it/s]"
          ]
        },
        {
          "name": "stdout",
          "output_type": "stream",
          "text": [
            "Ты пишешь короткие отзывы жильцов управляющей компании. Пиши строго на русском. Пример отзыва:\n",
            "«после корректировки настроек топления, в квартире стало теплее»\n",
            "\n",
            "Напиши 1 уникальный отзыв по смыслу, похожий на пример (1-2 предложений). Не копируй пример. Можно перефразировать, добавить детали, но отзыв должен быть уникальным.\n"
          ]
        },
        {
          "name": "stderr",
          "output_type": "stream",
          "text": [
            "Генерируем синтетику:  54%|█████▍    | 719/1335 [03:04<02:27,  4.17it/s]"
          ]
        },
        {
          "name": "stdout",
          "output_type": "stream",
          "text": [
            "Ты пишешь короткие отзывы жильцов управляющей компании. Пиши строго на русском. Пример отзыва:\n",
            "«пришли очень быстро!»\n",
            "\n",
            "Напиши 1 уникальный отзыв по смыслу, похожий на пример (1-2 предложений). Не копируй пример. Можно перефразировать, добавить детали, но отзыв должен быть уникальным.\n"
          ]
        },
        {
          "name": "stderr",
          "output_type": "stream",
          "text": [
            "Генерируем синтетику:  54%|█████▍    | 720/1335 [03:04<02:22,  4.31it/s]"
          ]
        },
        {
          "name": "stdout",
          "output_type": "stream",
          "text": [
            "Ты пишешь короткие отзывы жильцов управляющей компании. Пиши строго на русском. Пример отзыва:\n",
            "«быстро отключили пожарную вытяжку»\n",
            "\n",
            "Напиши 1 уникальный отзыв по смыслу, похожий на пример (1-2 предложений). Не копируй пример. Можно перефразировать, добавить детали, но отзыв должен быть уникальным.\n"
          ]
        },
        {
          "name": "stderr",
          "output_type": "stream",
          "text": [
            "Генерируем синтетику:  54%|█████▍    | 721/1335 [03:04<02:18,  4.44it/s]"
          ]
        },
        {
          "name": "stdout",
          "output_type": "stream",
          "text": [
            "Ты пишешь короткие отзывы жильцов управляющей компании. Пиши строго на русском. Пример отзыва:\n",
            "«очень удобно получать электронную квитанцию.  Давно пора. »\n",
            "\n",
            "Напиши 1 уникальный отзыв по смыслу, похожий на пример (1-2 предложений). Не копируй пример. Можно перефразировать, добавить детали, но отзыв должен быть уникальным.\n"
          ]
        },
        {
          "name": "stderr",
          "output_type": "stream",
          "text": [
            "Генерируем синтетику:  54%|█████▍    | 722/1335 [03:04<02:23,  4.26it/s]"
          ]
        },
        {
          "name": "stdout",
          "output_type": "stream",
          "text": [
            "Ты пишешь короткие отзывы жильцов управляющей компании. Пиши строго на русском. Пример отзыва:\n",
            "«спасибо большое что есть специалисты в ук которым небезразлично!! спасибо куприянову и.и.»\n",
            "\n",
            "Напиши 1 уникальный отзыв по смыслу, похожий на пример (1-2 предложений). Не копируй пример. Можно перефразировать, добавить детали, но отзыв должен быть уникальным.\n"
          ]
        },
        {
          "name": "stderr",
          "output_type": "stream",
          "text": [
            "Генерируем синтетику:  54%|█████▍    | 723/1335 [03:05<02:37,  3.89it/s]"
          ]
        },
        {
          "name": "stdout",
          "output_type": "stream",
          "text": [
            "Ты пишешь короткие отзывы жильцов управляющей компании. Пиши строго на русском. Пример отзыва:\n",
            "«Очень быстро! Оперативно ответили! Спасибо!!!»\n",
            "\n",
            "Напиши 1 уникальный отзыв по смыслу, похожий на пример (1-2 предложений). Не копируй пример. Можно перефразировать, добавить детали, но отзыв должен быть уникальным.\n"
          ]
        },
        {
          "name": "stderr",
          "output_type": "stream",
          "text": [
            "Генерируем синтетику:  54%|█████▍    | 724/1335 [03:05<02:36,  3.91it/s]"
          ]
        },
        {
          "name": "stdout",
          "output_type": "stream",
          "text": [
            "Ты пишешь короткие отзывы жильцов управляющей компании. Пиши строго на русском. Пример отзыва:\n",
            "«Очень грамотный специалист. Устранил моментально.»\n",
            "\n",
            "Напиши 1 уникальный отзыв по смыслу, похожий на пример (1-2 предложений). Не копируй пример. Можно перефразировать, добавить детали, но отзыв должен быть уникальным.\n"
          ]
        },
        {
          "name": "stderr",
          "output_type": "stream",
          "text": [
            "Генерируем синтетику:  54%|█████▍    | 725/1335 [03:05<02:30,  4.06it/s]"
          ]
        },
        {
          "name": "stdout",
          "output_type": "stream",
          "text": [
            "Ты пишешь короткие отзывы жильцов управляющей компании. Пиши строго на русском. Пример отзыва:\n",
            "«спасибо ,очень быстро выполнили работу»\n",
            "\n",
            "Напиши 1 уникальный отзыв по смыслу, похожий на пример (1-2 предложений). Не копируй пример. Можно перефразировать, добавить детали, но отзыв должен быть уникальным.\n"
          ]
        },
        {
          "name": "stderr",
          "output_type": "stream",
          "text": [
            "Генерируем синтетику:  54%|█████▍    | 726/1335 [03:05<02:27,  4.12it/s]"
          ]
        },
        {
          "name": "stdout",
          "output_type": "stream",
          "text": [
            "Ты пишешь короткие отзывы жильцов управляющей компании. Пиши строго на русском. Пример отзыва:\n",
            "«отличный сантехник. спасибо за работу!»\n",
            "\n",
            "Напиши 1 уникальный отзыв по смыслу, похожий на пример (1-2 предложений). Не копируй пример. Можно перефразировать, добавить детали, но отзыв должен быть уникальным.\n"
          ]
        },
        {
          "name": "stderr",
          "output_type": "stream",
          "text": [
            "Генерируем синтетику:  54%|█████▍    | 727/1335 [03:06<02:36,  3.89it/s]"
          ]
        },
        {
          "name": "stdout",
          "output_type": "stream",
          "text": [
            "Ты пишешь короткие отзывы жильцов управляющей компании. Пиши строго на русском. Пример отзыва:\n",
            "«спасибо! все поняла»\n",
            "\n",
            "Напиши 1 уникальный отзыв по смыслу, похожий на пример (1-2 предложений). Не копируй пример. Можно перефразировать, добавить детали, но отзыв должен быть уникальным.\n"
          ]
        },
        {
          "name": "stderr",
          "output_type": "stream",
          "text": [
            "Генерируем синтетику:  55%|█████▍    | 729/1335 [03:06<02:18,  4.38it/s]"
          ]
        },
        {
          "name": "stdout",
          "output_type": "stream",
          "text": [
            "Ты пишешь короткие отзывы жильцов управляющей компании. Пиши строго на русском. Пример отзыва:\n",
            "«всё сделали хорошо и быстро.»\n",
            "\n",
            "Напиши 1 уникальный отзыв по смыслу, похожий на пример (1-2 предложений). Не копируй пример. Можно перефразировать, добавить детали, но отзыв должен быть уникальным.\n",
            "Ты пишешь короткие отзывы жильцов управляющей компании. Пиши строго на русском. Пример отзыва:\n",
            "«пока работает, всё хорошо»\n",
            "\n",
            "Напиши 1 уникальный отзыв по смыслу, похожий на пример (1-2 предложений). Не копируй пример. Можно перефразировать, добавить детали, но отзыв должен быть уникальным.\n"
          ]
        },
        {
          "name": "stderr",
          "output_type": "stream",
          "text": [
            "Генерируем синтетику:  55%|█████▍    | 730/1335 [03:06<02:12,  4.57it/s]"
          ]
        },
        {
          "name": "stdout",
          "output_type": "stream",
          "text": [
            "Ты пишешь короткие отзывы жильцов управляющей компании. Пиши строго на русском. Пример отзыва:\n",
            "«сергей самый адекватный сантехник нашего жк! спасибо!»\n",
            "\n",
            "Напиши 1 уникальный отзыв по смыслу, похожий на пример (1-2 предложений). Не копируй пример. Можно перефразировать, добавить детали, но отзыв должен быть уникальным.\n"
          ]
        },
        {
          "name": "stderr",
          "output_type": "stream",
          "text": [
            "Генерируем синтетику:  55%|█████▍    | 732/1335 [03:07<02:17,  4.39it/s]"
          ]
        },
        {
          "name": "stdout",
          "output_type": "stream",
          "text": [
            "Ты пишешь короткие отзывы жильцов управляющей компании. Пиши строго на русском. Пример отзыва:\n",
            "«оперативно,спасибо»\n",
            "\n",
            "Напиши 1 уникальный отзыв по смыслу, похожий на пример (1-2 предложений). Не копируй пример. Можно перефразировать, добавить детали, но отзыв должен быть уникальным.\n",
            "Ты пишешь короткие отзывы жильцов управляющей компании. Пиши строго на русском. Пример отзыва:\n",
            "«смотрите сообщения от 23.09.24 о поверке счетчиков. вы же мне и предлагали. вот акт у вас есть. так с чего мне начисляется отопление не по счетчику?!»\n",
            "\n",
            "Напиши 1 уникальный отзыв по смыслу, похожий на пример (1-2 предложений). Не копируй пример. Можно перефразировать, добавить детали, но отзыв должен быть уникальным.\n"
          ]
        },
        {
          "name": "stderr",
          "output_type": "stream",
          "text": [
            "Генерируем синтетику:  55%|█████▍    | 733/1335 [03:07<02:36,  3.85it/s]"
          ]
        },
        {
          "name": "stdout",
          "output_type": "stream",
          "text": [
            "Ты пишешь короткие отзывы жильцов управляющей компании. Пиши строго на русском. Пример отзыва:\n",
            "«прекрасный мастер. все оперативно решил, благодарю !»\n",
            "\n",
            "Напиши 1 уникальный отзыв по смыслу, похожий на пример (1-2 предложений). Не копируй пример. Можно перефразировать, добавить детали, но отзыв должен быть уникальным.\n"
          ]
        },
        {
          "name": "stderr",
          "output_type": "stream",
          "text": [
            "Генерируем синтетику:  55%|█████▍    | 734/1335 [03:07<02:36,  3.85it/s]"
          ]
        },
        {
          "name": "stdout",
          "output_type": "stream",
          "text": [
            "Ты пишешь короткие отзывы жильцов управляющей компании. Пиши строго на русском. Пример отзыва:\n",
            "«Заменили»\n",
            "\n",
            "Напиши 1 уникальный отзыв по смыслу, похожий на пример (1-2 предложений). Не копируй пример. Можно перефразировать, добавить детали, но отзыв должен быть уникальным.\n"
          ]
        },
        {
          "name": "stderr",
          "output_type": "stream",
          "text": [
            "Генерируем синтетику:  55%|█████▌    | 735/1335 [03:08<02:33,  3.92it/s]"
          ]
        },
        {
          "name": "stdout",
          "output_type": "stream",
          "text": [
            "Ты пишешь короткие отзывы жильцов управляющей компании. Пиши строго на русском. Пример отзыва:\n",
            "«Вот это скорость  :beaming_face_with_smiling_eyes:  :thumbs_up: \n",
            "Спасибо! »\n",
            "\n",
            "Если в примере есть код эмодзи вида :smile:, то сохрани стиль — вставь похожий код эмодзи.\n",
            "\n",
            "Напиши 1 уникальный отзыв по смыслу, похожий на пример (1-2 предложений). Не копируй пример. Можно перефразировать, добавить детали, но отзыв должен быть уникальным.\n"
          ]
        },
        {
          "name": "stderr",
          "output_type": "stream",
          "text": [
            "Генерируем синтетику:  55%|█████▌    | 737/1335 [03:08<02:17,  4.34it/s]"
          ]
        },
        {
          "name": "stdout",
          "output_type": "stream",
          "text": [
            "Ты пишешь короткие отзывы жильцов управляющей компании. Пиши строго на русском. Пример отзыва:\n",
            "«спасибо, теперь всё работает.»\n",
            "\n",
            "Напиши 1 уникальный отзыв по смыслу, похожий на пример (1-2 предложений). Не копируй пример. Можно перефразировать, добавить детали, но отзыв должен быть уникальным.\n",
            "Ты пишешь короткие отзывы жильцов управляющей компании. Пиши строго на русском. Пример отзыва:\n",
            "«благодарю за оперативность.»\n",
            "\n",
            "Напиши 1 уникальный отзыв по смыслу, похожий на пример (1-2 предложений). Не копируй пример. Можно перефразировать, добавить детали, но отзыв должен быть уникальным.\n"
          ]
        },
        {
          "name": "stderr",
          "output_type": "stream",
          "text": [
            "Генерируем синтетику:  55%|█████▌    | 738/1335 [03:08<02:11,  4.52it/s]"
          ]
        },
        {
          "name": "stdout",
          "output_type": "stream",
          "text": [
            "Ты пишешь короткие отзывы жильцов управляющей компании. Пиши строго на русском. Пример отзыва:\n",
            "«Доброго дня! Спасибо за таких Прекрасных Сотрудников! »\n",
            "\n",
            "Напиши 1 уникальный отзыв по смыслу, похожий на пример (1-2 предложений). Не копируй пример. Можно перефразировать, добавить детали, но отзыв должен быть уникальным.\n"
          ]
        },
        {
          "name": "stderr",
          "output_type": "stream",
          "text": [
            "Генерируем синтетику:  55%|█████▌    | 739/1335 [03:08<02:20,  4.25it/s]"
          ]
        },
        {
          "name": "stdout",
          "output_type": "stream",
          "text": [
            "Ты пишешь короткие отзывы жильцов управляющей компании. Пиши строго на русском. Пример отзыва:\n",
            "«Проблему решили временно, надеюсь люк поменяют»\n",
            "\n",
            "Напиши 1 уникальный отзыв по смыслу, похожий на пример (1-2 предложений). Не копируй пример. Можно перефразировать, добавить детали, но отзыв должен быть уникальным.\n"
          ]
        },
        {
          "name": "stderr",
          "output_type": "stream",
          "text": [
            "Генерируем синтетику:  56%|█████▌    | 741/1335 [03:09<02:17,  4.33it/s]"
          ]
        },
        {
          "name": "stdout",
          "output_type": "stream",
          "text": [
            "Ты пишешь короткие отзывы жильцов управляющей компании. Пиши строго на русском. Пример отзыва:\n",
            "«Очень оперативно решили проблему»\n",
            "\n",
            "Напиши 1 уникальный отзыв по смыслу, похожий на пример (1-2 предложений). Не копируй пример. Можно перефразировать, добавить детали, но отзыв должен быть уникальным.\n",
            "Ты пишешь короткие отзывы жильцов управляющей компании. Пиши строго на русском. Пример отзыва:\n",
            "«все прошло хорошо. вежливый молодой человек всё сделал и все объяснил. спасибо.»\n",
            "\n",
            "Напиши 1 уникальный отзыв по смыслу, похожий на пример (1-2 предложений). Не копируй пример. Можно перефразировать, добавить детали, но отзыв должен быть уникальным.\n"
          ]
        },
        {
          "name": "stderr",
          "output_type": "stream",
          "text": [
            "Генерируем синтетику:  56%|█████▌    | 742/1335 [03:09<02:22,  4.17it/s]"
          ]
        },
        {
          "name": "stdout",
          "output_type": "stream",
          "text": [
            "Ты пишешь короткие отзывы жильцов управляющей компании. Пиши строго на русском. Пример отзыва:\n",
            "«спасибо за оперативность!)»\n",
            "\n",
            "Напиши 1 уникальный отзыв по смыслу, похожий на пример (1-2 предложений). Не копируй пример. Можно перефразировать, добавить детали, но отзыв должен быть уникальным.\n"
          ]
        },
        {
          "name": "stderr",
          "output_type": "stream",
          "text": [
            "Генерируем синтетику:  56%|█████▌    | 744/1335 [03:10<02:12,  4.46it/s]"
          ]
        },
        {
          "name": "stdout",
          "output_type": "stream",
          "text": [
            "Ты пишешь короткие отзывы жильцов управляющей компании. Пиши строго на русском. Пример отзыва:\n",
            "«молодцы! :clapping_hands: »\n",
            "\n",
            "Если в примере есть код эмодзи вида :smile:, то сохрани стиль — вставь похожий код эмодзи.\n",
            "\n",
            "Напиши 1 уникальный отзыв по смыслу, похожий на пример (1-2 предложений). Не копируй пример. Можно перефразировать, добавить детали, но отзыв должен быть уникальным.\n",
            "Ты пишешь короткие отзывы жильцов управляющей компании. Пиши строго на русском. Пример отзыва:\n",
            "«спасибо огромное специалисту за оперативность и профессионализм. »\n",
            "\n",
            "Напиши 1 уникальный отзыв по смыслу, похожий на пример (1-2 предложений). Не копируй пример. Можно перефразировать, добавить детали, но отзыв должен быть уникальным.\n"
          ]
        },
        {
          "name": "stderr",
          "output_type": "stream",
          "text": [
            "Генерируем синтетику:  56%|█████▌    | 746/1335 [03:10<02:06,  4.65it/s]"
          ]
        },
        {
          "name": "stdout",
          "output_type": "stream",
          "text": [
            "Ты пишешь короткие отзывы жильцов управляющей компании. Пиши строго на русском. Пример отзыва:\n",
            "«Оперативно решила проблему)»\n",
            "\n",
            "Напиши 1 уникальный отзыв по смыслу, похожий на пример (1-2 предложений). Не копируй пример. Можно перефразировать, добавить детали, но отзыв должен быть уникальным.\n",
            "Ты пишешь короткие отзывы жильцов управляющей компании. Пиши строго на русском. Пример отзыва:\n",
            "«очень доволен  :thumbs_up: \n",
            "быстро и качественно \n",
            "благодарю  :star-struck: »\n",
            "\n",
            "Если в примере есть код эмодзи вида :smile:, то сохрани стиль — вставь похожий код эмодзи.\n",
            "\n",
            "Напиши 1 уникальный отзыв по смыслу, похожий на пример (1-2 предложений). Не копируй пример. Можно перефразировать, добавить детали, но отзыв должен быть уникальным.\n"
          ]
        },
        {
          "name": "stderr",
          "output_type": "stream",
          "text": [
            "Генерируем синтетику:  56%|█████▌    | 747/1335 [03:10<02:25,  4.04it/s]"
          ]
        },
        {
          "name": "stdout",
          "output_type": "stream",
          "text": [
            "Ты пишешь короткие отзывы жильцов управляющей компании. Пиши строго на русском. Пример отзыва:\n",
            "«Спасибо большое за оперативное решение»\n",
            "\n",
            "Напиши 1 уникальный отзыв по смыслу, похожий на пример (1-2 предложений). Не копируй пример. Можно перефразировать, добавить детали, но отзыв должен быть уникальным.\n"
          ]
        },
        {
          "name": "stderr",
          "output_type": "stream",
          "text": [
            "Генерируем синтетику:  56%|█████▌    | 748/1335 [03:11<02:20,  4.17it/s]"
          ]
        },
        {
          "name": "stdout",
          "output_type": "stream",
          "text": [
            "Ты пишешь короткие отзывы жильцов управляющей компании. Пиши строго на русском. Пример отзыва:\n",
            "«все четко сделал,»\n",
            "\n",
            "Напиши 1 уникальный отзыв по смыслу, похожий на пример (1-2 предложений). Не копируй пример. Можно перефразировать, добавить детали, но отзыв должен быть уникальным.\n"
          ]
        },
        {
          "name": "stderr",
          "output_type": "stream",
          "text": [
            "Генерируем синтетику:  56%|█████▌    | 750/1335 [03:11<02:07,  4.58it/s]"
          ]
        },
        {
          "name": "stdout",
          "output_type": "stream",
          "text": [
            "Ты пишешь короткие отзывы жильцов управляющей компании. Пиши строго на русском. Пример отзыва:\n",
            "«молниеносно)»\n",
            "\n",
            "Напиши 1 уникальный отзыв по смыслу, похожий на пример (1-2 предложений). Не копируй пример. Можно перефразировать, добавить детали, но отзыв должен быть уникальным.\n",
            "Ты пишешь короткие отзывы жильцов управляющей компании. Пиши строго на русском. Пример отзыва:\n",
            "«заявка выполнена. \n",
            "Со слов электрика заявка выполнена. В квартире собственник не был. Там не проживает.. »\n",
            "\n",
            "Напиши 1 уникальный отзыв по смыслу, похожий на пример (1-2 предложений). Не копируй пример. Можно перефразировать, добавить детали, но отзыв должен быть уникальным.\n"
          ]
        },
        {
          "name": "stderr",
          "output_type": "stream",
          "text": [
            "Генерируем синтетику:  56%|█████▋    | 751/1335 [03:11<02:36,  3.74it/s]"
          ]
        },
        {
          "name": "stdout",
          "output_type": "stream",
          "text": [
            "Ты пишешь короткие отзывы жильцов управляющей компании. Пиши строго на русском. Пример отзыва:\n",
            "«потрясающий сантехник! спасибо  :smiling_face: ️»\n",
            "\n",
            "Если в примере есть код эмодзи вида :smile:, то сохрани стиль — вставь похожий код эмодзи.\n",
            "\n",
            "Напиши 1 уникальный отзыв по смыслу, похожий на пример (1-2 предложений). Не копируй пример. Можно перефразировать, добавить детали, но отзыв должен быть уникальным.\n"
          ]
        },
        {
          "name": "stderr",
          "output_type": "stream",
          "text": [
            "Генерируем синтетику:  56%|█████▋    | 753/1335 [03:12<02:19,  4.16it/s]"
          ]
        },
        {
          "name": "stdout",
          "output_type": "stream",
          "text": [
            "Ты пишешь короткие отзывы жильцов управляющей компании. Пиши строго на русском. Пример отзыва:\n",
            "«оперативно все исправили.»\n",
            "\n",
            "Напиши 1 уникальный отзыв по смыслу, похожий на пример (1-2 предложений). Не копируй пример. Можно перефразировать, добавить детали, но отзыв должен быть уникальным.\n",
            "Ты пишешь короткие отзывы жильцов управляющей компании. Пиши строго на русском. Пример отзыва:\n",
            "«быстро и по делу»\n",
            "\n",
            "Напиши 1 уникальный отзыв по смыслу, похожий на пример (1-2 предложений). Не копируй пример. Можно перефразировать, добавить детали, но отзыв должен быть уникальным.\n"
          ]
        },
        {
          "name": "stderr",
          "output_type": "stream",
          "text": [
            "Генерируем синтетику:  57%|█████▋    | 755/1335 [03:12<02:09,  4.47it/s]"
          ]
        },
        {
          "name": "stdout",
          "output_type": "stream",
          "text": [
            "Ты пишешь короткие отзывы жильцов управляющей компании. Пиши строго на русском. Пример отзыва:\n",
            "«большое спасибо.»\n",
            "\n",
            "Напиши 1 уникальный отзыв по смыслу, похожий на пример (1-2 предложений). Не копируй пример. Можно перефразировать, добавить детали, но отзыв должен быть уникальным.\n",
            "Ты пишешь короткие отзывы жильцов управляющей компании. Пиши строго на русском. Пример отзыва:\n",
            "«спасибо)))»\n",
            "\n",
            "Напиши 1 уникальный отзыв по смыслу, похожий на пример (1-2 предложений). Не копируй пример. Можно перефразировать, добавить детали, но отзыв должен быть уникальным.\n"
          ]
        },
        {
          "name": "stderr",
          "output_type": "stream",
          "text": [
            "Генерируем синтетику:  57%|█████▋    | 757/1335 [03:13<02:06,  4.56it/s]"
          ]
        },
        {
          "name": "stdout",
          "output_type": "stream",
          "text": [
            "Ты пишешь короткие отзывы жильцов управляющей компании. Пиши строго на русском. Пример отзыва:\n",
            "«огромное спасибо за оперативную помощь.»\n",
            "\n",
            "Напиши 1 уникальный отзыв по смыслу, похожий на пример (1-2 предложений). Не копируй пример. Можно перефразировать, добавить детали, но отзыв должен быть уникальным.\n",
            "Ты пишешь короткие отзывы жильцов управляющей компании. Пиши строго на русском. Пример отзыва:\n",
            "«добрый день. спасибо за понимание и быстрое решение!»\n",
            "\n",
            "Напиши 1 уникальный отзыв по смыслу, похожий на пример (1-2 предложений). Не копируй пример. Можно перефразировать, добавить детали, но отзыв должен быть уникальным.\n"
          ]
        },
        {
          "name": "stderr",
          "output_type": "stream",
          "text": [
            "Генерируем синтетику:  57%|█████▋    | 758/1335 [03:13<02:13,  4.31it/s]"
          ]
        },
        {
          "name": "stdout",
          "output_type": "stream",
          "text": [
            "Ты пишешь короткие отзывы жильцов управляющей компании. Пиши строго на русском. Пример отзыва:\n",
            "«спасибо большое за разъяснения,теперь все ясно и понятно.»\n",
            "\n",
            "Напиши 1 уникальный отзыв по смыслу, похожий на пример (1-2 предложений). Не копируй пример. Можно перефразировать, добавить детали, но отзыв должен быть уникальным.\n"
          ]
        },
        {
          "name": "stderr",
          "output_type": "stream",
          "text": [
            "Генерируем синтетику:  57%|█████▋    | 759/1335 [03:13<02:11,  4.40it/s]"
          ]
        },
        {
          "name": "stdout",
          "output_type": "stream",
          "text": [
            "Ты пишешь короткие отзывы жильцов управляющей компании. Пиши строго на русском. Пример отзыва:\n",
            "«ответ был предоставлен оперативно и в полном объеме»\n",
            "\n",
            "Напиши 1 уникальный отзыв по смыслу, похожий на пример (1-2 предложений). Не копируй пример. Можно перефразировать, добавить детали, но отзыв должен быть уникальным.\n"
          ]
        },
        {
          "name": "stderr",
          "output_type": "stream",
          "text": [
            "Генерируем синтетику:  57%|█████▋    | 760/1335 [03:13<02:25,  3.96it/s]"
          ]
        },
        {
          "name": "stdout",
          "output_type": "stream",
          "text": [
            "Ты пишешь короткие отзывы жильцов управляющей компании. Пиши строго на русском. Пример отзыва:\n",
            "«а как мне получить схемы от застройщика? я боюсь повредить проводку розеток и выключателей при монтаже»\n",
            "\n",
            "Напиши 1 уникальный отзыв по смыслу, похожий на пример (1-2 предложений). Не копируй пример. Можно перефразировать, добавить детали, но отзыв должен быть уникальным.\n"
          ]
        },
        {
          "name": "stderr",
          "output_type": "stream",
          "text": [
            "Генерируем синтетику:  57%|█████▋    | 761/1335 [03:14<02:31,  3.79it/s]"
          ]
        },
        {
          "name": "stdout",
          "output_type": "stream",
          "text": [
            "Ты пишешь короткие отзывы жильцов управляющей компании. Пиши строго на русском. Пример отзыва:\n",
            "«спасибо, мастер пришёл очень быстро.»\n",
            "\n",
            "Напиши 1 уникальный отзыв по смыслу, похожий на пример (1-2 предложений). Не копируй пример. Можно перефразировать, добавить детали, но отзыв должен быть уникальным.\n"
          ]
        },
        {
          "name": "stderr",
          "output_type": "stream",
          "text": [
            "Генерируем синтетику:  57%|█████▋    | 762/1335 [03:14<02:24,  3.96it/s]"
          ]
        },
        {
          "name": "stdout",
          "output_type": "stream",
          "text": [
            "Ты пишешь короткие отзывы жильцов управляющей компании. Пиши строго на русском. Пример отзыва:\n",
            "«очень добрая женщина»\n",
            "\n",
            "Напиши 1 уникальный отзыв по смыслу, похожий на пример (1-2 предложений). Не копируй пример. Можно перефразировать, добавить детали, но отзыв должен быть уникальным.\n"
          ]
        },
        {
          "name": "stderr",
          "output_type": "stream",
          "text": [
            "Генерируем синтетику:  57%|█████▋    | 763/1335 [03:14<02:28,  3.86it/s]"
          ]
        },
        {
          "name": "stdout",
          "output_type": "stream",
          "text": [
            "Ты пишешь короткие отзывы жильцов управляющей компании. Пиши строго на русском. Пример отзыва:\n",
            "«спасибо большое, выполнили быстро замену :red_heart: ️»\n",
            "\n",
            "Если в примере есть код эмодзи вида :smile:, то сохрани стиль — вставь похожий код эмодзи.\n",
            "\n",
            "Напиши 1 уникальный отзыв по смыслу, похожий на пример (1-2 предложений). Не копируй пример. Можно перефразировать, добавить детали, но отзыв должен быть уникальным.\n"
          ]
        },
        {
          "name": "stderr",
          "output_type": "stream",
          "text": [
            "Генерируем синтетику:  57%|█████▋    | 764/1335 [03:15<02:25,  3.93it/s]"
          ]
        },
        {
          "name": "stdout",
          "output_type": "stream",
          "text": [
            "Ты пишешь короткие отзывы жильцов управляющей компании. Пиши строго на русском. Пример отзыва:\n",
            "«обычная услуга. Цена, правда, завышена (за около 10ти минут работы). »\n",
            "\n",
            "Напиши 1 уникальный отзыв по смыслу, похожий на пример (1-2 предложений). Не копируй пример. Можно перефразировать, добавить детали, но отзыв должен быть уникальным.\n"
          ]
        },
        {
          "name": "stderr",
          "output_type": "stream",
          "text": [
            "Генерируем синтетику:  57%|█████▋    | 765/1335 [03:15<02:34,  3.68it/s]"
          ]
        },
        {
          "name": "stdout",
          "output_type": "stream",
          "text": [
            "Ты пишешь короткие отзывы жильцов управляющей компании. Пиши строго на русском. Пример отзыва:\n",
            "«Благодарю за обратную связь. \n",
            "За возможность добавить необходимый документ в ЛК приложения и тем самым решить вопрос, не посещая клиентский офис. \n",
            "При звонке было вежливое, доброжелательное отношение. »\n",
            "\n",
            "Напиши 1 уникальный отзыв по смыслу, похожий на пример (1-2 предложений). Не копируй пример. Можно перефразировать, добавить детали, но отзыв должен быть уникальным.\n"
          ]
        },
        {
          "name": "stderr",
          "output_type": "stream",
          "text": [
            "Генерируем синтетику:  57%|█████▋    | 766/1335 [03:15<02:54,  3.26it/s]"
          ]
        },
        {
          "name": "stdout",
          "output_type": "stream",
          "text": [
            "Ты пишешь короткие отзывы жильцов управляющей компании. Пиши строго на русском. Пример отзыва:\n",
            "«очень вежливый, контактный мастер. только положительные впечатления от подхода к работе и ее выполнению.»\n",
            "\n",
            "Напиши 1 уникальный отзыв по смыслу, похожий на пример (1-2 предложений). Не копируй пример. Можно перефразировать, добавить детали, но отзыв должен быть уникальным.\n"
          ]
        },
        {
          "name": "stderr",
          "output_type": "stream",
          "text": [
            "Генерируем синтетику:  57%|█████▋    | 767/1335 [03:16<02:54,  3.26it/s]"
          ]
        },
        {
          "name": "stdout",
          "output_type": "stream",
          "text": [
            "Ты пишешь короткие отзывы жильцов управляющей компании. Пиши строго на русском. Пример отзыва:\n",
            "«огромное спасибо слесарям. пришли быстро. все устранили.»\n",
            "\n",
            "Напиши 1 уникальный отзыв по смыслу, похожий на пример (1-2 предложений). Не копируй пример. Можно перефразировать, добавить детали, но отзыв должен быть уникальным.\n"
          ]
        },
        {
          "name": "stderr",
          "output_type": "stream",
          "text": [
            "Генерируем синтетику:  58%|█████▊    | 768/1335 [03:16<03:00,  3.13it/s]"
          ]
        },
        {
          "name": "stdout",
          "output_type": "stream",
          "text": [
            "Ты пишешь короткие отзывы жильцов управляющей компании. Пиши строго на русском. Пример отзыва:\n",
            "«оперативно  :thumbs_up: »\n",
            "\n",
            "Если в примере есть код эмодзи вида :smile:, то сохрани стиль — вставь похожий код эмодзи.\n",
            "\n",
            "Напиши 1 уникальный отзыв по смыслу, похожий на пример (1-2 предложений). Не копируй пример. Можно перефразировать, добавить детали, но отзыв должен быть уникальным.\n"
          ]
        },
        {
          "name": "stderr",
          "output_type": "stream",
          "text": [
            "Генерируем синтетику:  58%|█████▊    | 769/1335 [03:16<02:41,  3.50it/s]"
          ]
        },
        {
          "name": "stdout",
          "output_type": "stream",
          "text": [
            "Ты пишешь короткие отзывы жильцов управляющей компании. Пиши строго на русском. Пример отзыва:\n",
            "«грамотный специалист.»\n",
            "\n",
            "Напиши 1 уникальный отзыв по смыслу, похожий на пример (1-2 предложений). Не копируй пример. Можно перефразировать, добавить детали, но отзыв должен быть уникальным.\n"
          ]
        },
        {
          "name": "stderr",
          "output_type": "stream",
          "text": [
            "Генерируем синтетику:  58%|█████▊    | 770/1335 [03:16<02:31,  3.72it/s]"
          ]
        },
        {
          "name": "stdout",
          "output_type": "stream",
          "text": [
            "Ты пишешь короткие отзывы жильцов управляющей компании. Пиши строго на русском. Пример отзыва:\n",
            "«спасибо , все сделал мастер»\n",
            "\n",
            "Напиши 1 уникальный отзыв по смыслу, похожий на пример (1-2 предложений). Не копируй пример. Можно перефразировать, добавить детали, но отзыв должен быть уникальным.\n"
          ]
        },
        {
          "name": "stderr",
          "output_type": "stream",
          "text": [
            "Генерируем синтетику:  58%|█████▊    | 771/1335 [03:17<02:22,  3.95it/s]"
          ]
        },
        {
          "name": "stdout",
          "output_type": "stream",
          "text": [
            "Ты пишешь короткие отзывы жильцов управляющей компании. Пиши строго на русском. Пример отзыва:\n",
            "«Быстро сделали.»\n",
            "\n",
            "Напиши 1 уникальный отзыв по смыслу, похожий на пример (1-2 предложений). Не копируй пример. Можно перефразировать, добавить детали, но отзыв должен быть уникальным.\n"
          ]
        },
        {
          "name": "stderr",
          "output_type": "stream",
          "text": [
            "Генерируем синтетику:  58%|█████▊    | 772/1335 [03:17<02:14,  4.19it/s]"
          ]
        },
        {
          "name": "stdout",
          "output_type": "stream",
          "text": [
            "Ты пишешь короткие отзывы жильцов управляющей компании. Пиши строго на русском. Пример отзыва:\n",
            "«Вопрос был решен оперативно . Спасибо как сантехнику , так и менеджеру . К сожалению не спросила имена . »\n",
            "\n",
            "Напиши 1 уникальный отзыв по смыслу, похожий на пример (1-2 предложений). Не копируй пример. Можно перефразировать, добавить детали, но отзыв должен быть уникальным.\n"
          ]
        },
        {
          "name": "stderr",
          "output_type": "stream",
          "text": [
            "Генерируем синтетику:  58%|█████▊    | 773/1335 [03:17<02:38,  3.55it/s]"
          ]
        },
        {
          "name": "stdout",
          "output_type": "stream",
          "text": [
            "Ты пишешь короткие отзывы жильцов управляющей компании. Пиши строго на русском. Пример отзыва:\n",
            "«очень понравилась работа игоря.»\n",
            "\n",
            "Напиши 1 уникальный отзыв по смыслу, похожий на пример (1-2 предложений). Не копируй пример. Можно перефразировать, добавить детали, но отзыв должен быть уникальным.\n"
          ]
        },
        {
          "name": "stderr",
          "output_type": "stream",
          "text": [
            "Генерируем синтетику:  58%|█████▊    | 774/1335 [03:17<02:43,  3.43it/s]"
          ]
        },
        {
          "name": "stdout",
          "output_type": "stream",
          "text": [
            "Ты пишешь короткие отзывы жильцов управляющей компании. Пиши строго на русском. Пример отзыва:\n",
            "«очень оперативно решили вопрос, спасибо!»\n",
            "\n",
            "Напиши 1 уникальный отзыв по смыслу, похожий на пример (1-2 предложений). Не копируй пример. Можно перефразировать, добавить детали, но отзыв должен быть уникальным.\n"
          ]
        },
        {
          "name": "stderr",
          "output_type": "stream",
          "text": [
            "Генерируем синтетику:  58%|█████▊    | 775/1335 [03:18<02:28,  3.78it/s]"
          ]
        },
        {
          "name": "stdout",
          "output_type": "stream",
          "text": [
            "Ты пишешь короткие отзывы жильцов управляющей компании. Пиши строго на русском. Пример отзыва:\n",
            "«спасибо  :rose: »\n",
            "\n",
            "Если в примере есть код эмодзи вида :smile:, то сохрани стиль — вставь похожий код эмодзи.\n",
            "\n",
            "Напиши 1 уникальный отзыв по смыслу, похожий на пример (1-2 предложений). Не копируй пример. Можно перефразировать, добавить детали, но отзыв должен быть уникальным.\n"
          ]
        },
        {
          "name": "stderr",
          "output_type": "stream",
          "text": [
            "Генерируем синтетику:  58%|█████▊    | 776/1335 [03:18<02:23,  3.89it/s]"
          ]
        },
        {
          "name": "stdout",
          "output_type": "stream",
          "text": [
            "Ты пишешь короткие отзывы жильцов управляющей компании. Пиши строго на русском. Пример отзыва:\n",
            "«наконец то уровень сервиса дошёл до отметки, где смогли решить эту проблему»\n",
            "\n",
            "Напиши 1 уникальный отзыв по смыслу, похожий на пример (1-2 предложений). Не копируй пример. Можно перефразировать, добавить детали, но отзыв должен быть уникальным.\n"
          ]
        },
        {
          "name": "stderr",
          "output_type": "stream",
          "text": [
            "Генерируем синтетику:  58%|█████▊    | 777/1335 [03:18<02:25,  3.83it/s]"
          ]
        },
        {
          "name": "stdout",
          "output_type": "stream",
          "text": [
            "Ты пишешь короткие отзывы жильцов управляющей компании. Пиши строго на русском. Пример отзыва:\n",
            "«Спасибо,что включили кран »\n",
            "\n",
            "Напиши 1 уникальный отзыв по смыслу, похожий на пример (1-2 предложений). Не копируй пример. Можно перефразировать, добавить детали, но отзыв должен быть уникальным.\n"
          ]
        },
        {
          "name": "stderr",
          "output_type": "stream",
          "text": [
            "Генерируем синтетику:  58%|█████▊    | 778/1335 [03:18<02:17,  4.04it/s]"
          ]
        },
        {
          "name": "stdout",
          "output_type": "stream",
          "text": [
            "Ты пишешь короткие отзывы жильцов управляющей компании. Пиши строго на русском. Пример отзыва:\n",
            "«спасибо, очень оперативно»\n",
            "\n",
            "Напиши 1 уникальный отзыв по смыслу, похожий на пример (1-2 предложений). Не копируй пример. Можно перефразировать, добавить детали, но отзыв должен быть уникальным.\n"
          ]
        },
        {
          "name": "stderr",
          "output_type": "stream",
          "text": [
            "Генерируем синтетику:  58%|█████▊    | 779/1335 [03:19<02:13,  4.15it/s]"
          ]
        },
        {
          "name": "stdout",
          "output_type": "stream",
          "text": [
            "Ты пишешь короткие отзывы жильцов управляющей компании. Пиши строго на русском. Пример отзыва:\n",
            "«Большое спасибо Ольге - очень помогла и ответила на все вопросы  :red_heart: ️ :red_heart: ️ :red_heart: ️»\n",
            "\n",
            "Если в примере есть код эмодзи вида :smile:, то сохрани стиль — вставь похожий код эмодзи.\n",
            "\n",
            "Напиши 1 уникальный отзыв по смыслу, похожий на пример (1-2 предложений). Не копируй пример. Можно перефразировать, добавить детали, но отзыв должен быть уникальным.\n"
          ]
        },
        {
          "name": "stderr",
          "output_type": "stream",
          "text": [
            "Генерируем синтетику:  59%|█████▊    | 781/1335 [03:19<02:04,  4.45it/s]"
          ]
        },
        {
          "name": "stdout",
          "output_type": "stream",
          "text": [
            "Ты пишешь короткие отзывы жильцов управляющей компании. Пиши строго на русском. Пример отзыва:\n",
            "«Быстро и чётко»\n",
            "\n",
            "Напиши 1 уникальный отзыв по смыслу, похожий на пример (1-2 предложений). Не копируй пример. Можно перефразировать, добавить детали, но отзыв должен быть уникальным.\n",
            "Ты пишешь короткие отзывы жильцов управляющей компании. Пиши строго на русском. Пример отзыва:\n",
            "«Оперативно сработали, благодарю.»\n",
            "\n",
            "Напиши 1 уникальный отзыв по смыслу, похожий на пример (1-2 предложений). Не копируй пример. Можно перефразировать, добавить детали, но отзыв должен быть уникальным.\n"
          ]
        },
        {
          "name": "stderr",
          "output_type": "stream",
          "text": [
            "Генерируем синтетику:  59%|█████▊    | 782/1335 [03:19<01:55,  4.77it/s]"
          ]
        },
        {
          "name": "stdout",
          "output_type": "stream",
          "text": [
            "Ты пишешь короткие отзывы жильцов управляющей компании. Пиши строго на русском. Пример отзыва:\n",
            "«супер мега оперативно, спасибо !)\n",
            "»\n",
            "\n",
            "Напиши 1 уникальный отзыв по смыслу, похожий на пример (1-2 предложений). Не копируй пример. Можно перефразировать, добавить детали, но отзыв должен быть уникальным.\n"
          ]
        },
        {
          "name": "stderr",
          "output_type": "stream",
          "text": [
            "Генерируем синтетику:  59%|█████▊    | 783/1335 [03:19<01:56,  4.74it/s]"
          ]
        },
        {
          "name": "stdout",
          "output_type": "stream",
          "text": [
            "Ты пишешь короткие отзывы жильцов управляющей компании. Пиши строго на русском. Пример отзыва:\n",
            "«Оперативно, внимательно, вежливо. Спасибо. »\n",
            "\n",
            "Напиши 1 уникальный отзыв по смыслу, похожий на пример (1-2 предложений). Не копируй пример. Можно перефразировать, добавить детали, но отзыв должен быть уникальным.\n"
          ]
        },
        {
          "name": "stderr",
          "output_type": "stream",
          "text": [
            "Генерируем синтетику:  59%|█████▉    | 785/1335 [03:20<01:51,  4.91it/s]"
          ]
        },
        {
          "name": "stdout",
          "output_type": "stream",
          "text": [
            "Ты пишешь короткие отзывы жильцов управляющей компании. Пиши строго на русском. Пример отзыва:\n",
            "«молодцы, спасибо.»\n",
            "\n",
            "Напиши 1 уникальный отзыв по смыслу, похожий на пример (1-2 предложений). Не копируй пример. Можно перефразировать, добавить детали, но отзыв должен быть уникальным.\n",
            "Ты пишешь короткие отзывы жильцов управляющей компании. Пиши строго на русском. Пример отзыва:\n",
            "«спасибо большое\n",
            "оперативно»\n",
            "\n",
            "Напиши 1 уникальный отзыв по смыслу, похожий на пример (1-2 предложений). Не копируй пример. Можно перефразировать, добавить детали, но отзыв должен быть уникальным.\n"
          ]
        },
        {
          "name": "stderr",
          "output_type": "stream",
          "text": [
            "Генерируем синтетику:  59%|█████▉    | 786/1335 [03:20<01:50,  4.95it/s]"
          ]
        },
        {
          "name": "stdout",
          "output_type": "stream",
          "text": [
            "Ты пишешь короткие отзывы жильцов управляющей компании. Пиши строго на русском. Пример отзыва:\n",
            "«сантехники отреагировали быстро, на данный момент все устранили»\n",
            "\n",
            "Напиши 1 уникальный отзыв по смыслу, похожий на пример (1-2 предложений). Не копируй пример. Можно перефразировать, добавить детали, но отзыв должен быть уникальным.\n"
          ]
        },
        {
          "name": "stderr",
          "output_type": "stream",
          "text": [
            "Генерируем синтетику:  59%|█████▉    | 787/1335 [03:20<01:58,  4.62it/s]"
          ]
        },
        {
          "name": "stdout",
          "output_type": "stream",
          "text": [
            "Ты пишешь короткие отзывы жильцов управляющей компании. Пиши строго на русском. Пример отзыва:\n",
            "«мне нужна информация именно на эту сумму,то что задолженность нет знаю»\n",
            "\n",
            "Напиши 1 уникальный отзыв по смыслу, похожий на пример (1-2 предложений). Не копируй пример. Можно перефразировать, добавить детали, но отзыв должен быть уникальным.\n"
          ]
        },
        {
          "name": "stderr",
          "output_type": "stream",
          "text": [
            "Генерируем синтетику:  59%|█████▉    | 788/1335 [03:21<02:02,  4.46it/s]"
          ]
        },
        {
          "name": "stdout",
          "output_type": "stream",
          "text": [
            "Ты пишешь короткие отзывы жильцов управляющей компании. Пиши строго на русском. Пример отзыва:\n",
            "«спасибо большое  :folded_hands:  :folded_hands:  :folded_hands:  :heart_hands:  :heart_hands:  :heart_hands: »\n",
            "\n",
            "Если в примере есть код эмодзи вида :smile:, то сохрани стиль — вставь похожий код эмодзи.\n",
            "\n",
            "Напиши 1 уникальный отзыв по смыслу, похожий на пример (1-2 предложений). Не копируй пример. Можно перефразировать, добавить детали, но отзыв должен быть уникальным.\n"
          ]
        },
        {
          "name": "stderr",
          "output_type": "stream",
          "text": [
            "Генерируем синтетику:  59%|█████▉    | 789/1335 [03:21<02:12,  4.12it/s]"
          ]
        },
        {
          "name": "stdout",
          "output_type": "stream",
          "text": [
            "Ты пишешь короткие отзывы жильцов управляющей компании. Пиши строго на русском. Пример отзыва:\n",
            "«Ок. »\n",
            "\n",
            "Напиши 1 уникальный отзыв по смыслу, похожий на пример (1-2 предложений). Не копируй пример. Можно перефразировать, добавить детали, но отзыв должен быть уникальным.\n"
          ]
        },
        {
          "name": "stderr",
          "output_type": "stream",
          "text": [
            "Генерируем синтетику:  59%|█████▉    | 790/1335 [03:21<02:13,  4.09it/s]"
          ]
        },
        {
          "name": "stdout",
          "output_type": "stream",
          "text": [
            "Ты пишешь короткие отзывы жильцов управляющей компании. Пиши строго на русском. Пример отзыва:\n",
            "«Спасибо! Ключи рабочие»\n",
            "\n",
            "Напиши 1 уникальный отзыв по смыслу, похожий на пример (1-2 предложений). Не копируй пример. Можно перефразировать, добавить детали, но отзыв должен быть уникальным.\n"
          ]
        },
        {
          "name": "stderr",
          "output_type": "stream",
          "text": [
            "Генерируем синтетику:  59%|█████▉    | 791/1335 [03:21<02:08,  4.23it/s]"
          ]
        },
        {
          "name": "stdout",
          "output_type": "stream",
          "text": [
            "Ты пишешь короткие отзывы жильцов управляющей компании. Пиши строго на русском. Пример отзыва:\n",
            "«Татьяна спасибо  :red_heart: ️»\n",
            "\n",
            "Если в примере есть код эмодзи вида :smile:, то сохрани стиль — вставь похожий код эмодзи.\n",
            "\n",
            "Напиши 1 уникальный отзыв по смыслу, похожий на пример (1-2 предложений). Не копируй пример. Можно перефразировать, добавить детали, но отзыв должен быть уникальным.\n"
          ]
        },
        {
          "name": "stderr",
          "output_type": "stream",
          "text": [
            "Генерируем синтетику:  59%|█████▉    | 793/1335 [03:22<02:02,  4.41it/s]"
          ]
        },
        {
          "name": "stdout",
          "output_type": "stream",
          "text": [
            "Ты пишешь короткие отзывы жильцов управляющей компании. Пиши строго на русском. Пример отзыва:\n",
            "«быстро всё починили.спасибо.»\n",
            "\n",
            "Напиши 1 уникальный отзыв по смыслу, похожий на пример (1-2 предложений). Не копируй пример. Можно перефразировать, добавить детали, но отзыв должен быть уникальным.\n",
            "Ты пишешь короткие отзывы жильцов управляющей компании. Пиши строго на русском. Пример отзыва:\n",
            "«спасибо, очень быстро решили вопрос по заявке!»\n",
            "\n",
            "Напиши 1 уникальный отзыв по смыслу, похожий на пример (1-2 предложений). Не копируй пример. Можно перефразировать, добавить детали, но отзыв должен быть уникальным.\n"
          ]
        },
        {
          "name": "stderr",
          "output_type": "stream",
          "text": [
            "Генерируем синтетику:  59%|█████▉    | 794/1335 [03:22<02:01,  4.43it/s]"
          ]
        },
        {
          "name": "stdout",
          "output_type": "stream",
          "text": [
            "Ты пишешь короткие отзывы жильцов управляющей компании. Пиши строго на русском. Пример отзыва:\n",
            "«Большое спасибо мастеру!»\n",
            "\n",
            "Напиши 1 уникальный отзыв по смыслу, похожий на пример (1-2 предложений). Не копируй пример. Можно перефразировать, добавить детали, но отзыв должен быть уникальным.\n"
          ]
        },
        {
          "name": "stderr",
          "output_type": "stream",
          "text": [
            "Генерируем синтетику:  60%|█████▉    | 795/1335 [03:22<02:04,  4.33it/s]"
          ]
        },
        {
          "name": "stdout",
          "output_type": "stream",
          "text": [
            "Ты пишешь короткие отзывы жильцов управляющей компании. Пиши строго на русском. Пример отзыва:\n",
            "«нашли причину»\n",
            "\n",
            "Напиши 1 уникальный отзыв по смыслу, похожий на пример (1-2 предложений). Не копируй пример. Можно перефразировать, добавить детали, но отзыв должен быть уникальным.\n"
          ]
        },
        {
          "name": "stderr",
          "output_type": "stream",
          "text": [
            "Генерируем синтетику:  60%|█████▉    | 797/1335 [03:23<02:03,  4.35it/s]"
          ]
        },
        {
          "name": "stdout",
          "output_type": "stream",
          "text": [
            "Ты пишешь короткие отзывы жильцов управляющей компании. Пиши строго на русском. Пример отзыва:\n",
            "«очень оперативно. спасибо»\n",
            "\n",
            "Напиши 1 уникальный отзыв по смыслу, похожий на пример (1-2 предложений). Не копируй пример. Можно перефразировать, добавить детали, но отзыв должен быть уникальным.\n",
            "Ты пишешь короткие отзывы жильцов управляющей компании. Пиши строго на русском. Пример отзыва:\n",
            "«не отображаются счета на оплату»\n",
            "\n",
            "Напиши 1 уникальный отзыв по смыслу, похожий на пример (1-2 предложений). Не копируй пример. Можно перефразировать, добавить детали, но отзыв должен быть уникальным.\n"
          ]
        },
        {
          "name": "stderr",
          "output_type": "stream",
          "text": [
            "Генерируем синтетику:  60%|█████▉    | 798/1335 [03:23<02:16,  3.93it/s]"
          ]
        },
        {
          "name": "stdout",
          "output_type": "stream",
          "text": [
            "Ты пишешь короткие отзывы жильцов управляющей компании. Пиши строго на русском. Пример отзыва:\n",
            "«отрегулировали оперативно, вопрос решён. но очень дорого, когда регулировка равна половине стоимости регулятора давления воды.»\n",
            "\n",
            "Напиши 1 уникальный отзыв по смыслу, похожий на пример (1-2 предложений). Не копируй пример. Можно перефразировать, добавить детали, но отзыв должен быть уникальным.\n"
          ]
        },
        {
          "name": "stderr",
          "output_type": "stream",
          "text": [
            "Генерируем синтетику:  60%|█████▉    | 800/1335 [03:23<02:16,  3.93it/s]"
          ]
        },
        {
          "name": "stdout",
          "output_type": "stream",
          "text": [
            "Ты пишешь короткие отзывы жильцов управляющей компании. Пиши строго на русском. Пример отзыва:\n",
            "«очень быстро ответили»\n",
            "\n",
            "Напиши 1 уникальный отзыв по смыслу, похожий на пример (1-2 предложений). Не копируй пример. Можно перефразировать, добавить детали, но отзыв должен быть уникальным.\n",
            "Ты пишешь короткие отзывы жильцов управляющей компании. Пиши строго на русском. Пример отзыва:\n",
            "«оперативно и вежливо. такого нет в москве»\n",
            "\n",
            "Напиши 1 уникальный отзыв по смыслу, похожий на пример (1-2 предложений). Не копируй пример. Можно перефразировать, добавить детали, но отзыв должен быть уникальным.\n"
          ]
        },
        {
          "name": "stderr",
          "output_type": "stream",
          "text": [
            "Генерируем синтетику:  60%|██████    | 801/1335 [03:24<02:22,  3.74it/s]"
          ]
        },
        {
          "name": "stdout",
          "output_type": "stream",
          "text": [
            "Ты пишешь короткие отзывы жильцов управляющей компании. Пиши строго на русском. Пример отзыва:\n",
            "«Огромное спасибо сантехнику Геннадию за качественно оказанную услугу и профессионализм. Приятно иметь дело с такими людьми.»\n",
            "\n",
            "Напиши 1 уникальный отзыв по смыслу, похожий на пример (1-2 предложений). Не копируй пример. Можно перефразировать, добавить детали, но отзыв должен быть уникальным.\n"
          ]
        },
        {
          "name": "stderr",
          "output_type": "stream",
          "text": [
            "Генерируем синтетику:  60%|██████    | 802/1335 [03:24<02:44,  3.24it/s]"
          ]
        },
        {
          "name": "stdout",
          "output_type": "stream",
          "text": [
            "Ты пишешь короткие отзывы жильцов управляющей компании. Пиши строго на русском. Пример отзыва:\n",
            "«Спасибо большое за оперативность,мир и процветание вашей компании Самолет!»\n",
            "\n",
            "Напиши 1 уникальный отзыв по смыслу, похожий на пример (1-2 предложений). Не копируй пример. Можно перефразировать, добавить детали, но отзыв должен быть уникальным.\n"
          ]
        },
        {
          "name": "stderr",
          "output_type": "stream",
          "text": [
            "Генерируем синтетику:  60%|██████    | 803/1335 [03:24<02:38,  3.36it/s]"
          ]
        },
        {
          "name": "stdout",
          "output_type": "stream",
          "text": [
            "Ты пишешь короткие отзывы жильцов управляющей компании. Пиши строго на русском. Пример отзыва:\n",
            "«Спасибо за оперативность. После укладки плитки остались незаделанные швы на стыке. Для сравнения на 1 этаже в холле швы ровно закрыты. Просьба завершить работу до конца. »\n",
            "\n",
            "Напиши 1 уникальный отзыв по смыслу, похожий на пример (1-2 предложений). Не копируй пример. Можно перефразировать, добавить детали, но отзыв должен быть уникальным.\n"
          ]
        },
        {
          "name": "stderr",
          "output_type": "stream",
          "text": [
            "Генерируем синтетику:  60%|██████    | 804/1335 [03:25<03:04,  2.88it/s]"
          ]
        },
        {
          "name": "stdout",
          "output_type": "stream",
          "text": [
            "Ты пишешь короткие отзывы жильцов управляющей компании. Пиши строго на русском. Пример отзыва:\n",
            "«спасибо огромное! и за почищенный снег тоже!!!»\n",
            "\n",
            "Напиши 1 уникальный отзыв по смыслу, похожий на пример (1-2 предложений). Не копируй пример. Можно перефразировать, добавить детали, но отзыв должен быть уникальным.\n"
          ]
        },
        {
          "name": "stderr",
          "output_type": "stream",
          "text": [
            "Генерируем синтетику:  60%|██████    | 805/1335 [03:25<02:55,  3.02it/s]"
          ]
        },
        {
          "name": "stdout",
          "output_type": "stream",
          "text": [
            "Ты пишешь короткие отзывы жильцов управляющей компании. Пиши строго на русском. Пример отзыва:\n",
            "«спасибо! все оперативно и быстро было сделано!  :thumbs_up:  :light_skin_tone: »\n",
            "\n",
            "Если в примере есть код эмодзи вида :smile:, то сохрани стиль — вставь похожий код эмодзи.\n",
            "\n",
            "Напиши 1 уникальный отзыв по смыслу, похожий на пример (1-2 предложений). Не копируй пример. Можно перефразировать, добавить детали, но отзыв должен быть уникальным.\n"
          ]
        },
        {
          "name": "stderr",
          "output_type": "stream",
          "text": [
            "Генерируем синтетику:  60%|██████    | 806/1335 [03:25<02:38,  3.33it/s]"
          ]
        },
        {
          "name": "stdout",
          "output_type": "stream",
          "text": [
            "Ты пишешь короткие отзывы жильцов управляющей компании. Пиши строго на русском. Пример отзыва:\n",
            "«очень быстро, очень приятные люди.»\n",
            "\n",
            "Напиши 1 уникальный отзыв по смыслу, похожий на пример (1-2 предложений). Не копируй пример. Можно перефразировать, добавить детали, но отзыв должен быть уникальным.\n"
          ]
        },
        {
          "name": "stderr",
          "output_type": "stream",
          "text": [
            "Генерируем синтетику:  60%|██████    | 807/1335 [03:26<02:24,  3.66it/s]"
          ]
        },
        {
          "name": "stdout",
          "output_type": "stream",
          "text": [
            "Ты пишешь короткие отзывы жильцов управляющей компании. Пиши строго на русском. Пример отзыва:\n",
            "«Поднималась сегодня с утра, запаха нет совсем. Спасибо большое »\n",
            "\n",
            "Напиши 1 уникальный отзыв по смыслу, похожий на пример (1-2 предложений). Не копируй пример. Можно перефразировать, добавить детали, но отзыв должен быть уникальным.\n"
          ]
        },
        {
          "name": "stderr",
          "output_type": "stream",
          "text": [
            "Генерируем синтетику:  61%|██████    | 808/1335 [03:26<02:22,  3.70it/s]"
          ]
        },
        {
          "name": "stdout",
          "output_type": "stream",
          "text": [
            "Ты пишешь короткие отзывы жильцов управляющей компании. Пиши строго на русском. Пример отзыва:\n",
            "«инженер сказал показания передаются автоматически, почему в квитанциях начисления по электроэнергии по нормативам?»\n",
            "\n",
            "Напиши 1 уникальный отзыв по смыслу, похожий на пример (1-2 предложений). Не копируй пример. Можно перефразировать, добавить детали, но отзыв должен быть уникальным.\n"
          ]
        },
        {
          "name": "stderr",
          "output_type": "stream",
          "text": [
            "Генерируем синтетику:  61%|██████    | 809/1335 [03:26<02:43,  3.22it/s]"
          ]
        },
        {
          "name": "stdout",
          "output_type": "stream",
          "text": [
            "Ты пишешь короткие отзывы жильцов управляющей компании. Пиши строго на русском. Пример отзыва:\n",
            "«спасибо за быстрое устранение проблемы »\n",
            "\n",
            "Напиши 1 уникальный отзыв по смыслу, похожий на пример (1-2 предложений). Не копируй пример. Можно перефразировать, добавить детали, но отзыв должен быть уникальным.\n"
          ]
        },
        {
          "name": "stderr",
          "output_type": "stream",
          "text": [
            "Генерируем синтетику:  61%|██████    | 810/1335 [03:27<02:27,  3.57it/s]"
          ]
        },
        {
          "name": "stdout",
          "output_type": "stream",
          "text": [
            "Ты пишешь короткие отзывы жильцов управляющей компании. Пиши строго на русском. Пример отзыва:\n",
            "«сантехник пришёл всё сделал»\n",
            "\n",
            "Напиши 1 уникальный отзыв по смыслу, похожий на пример (1-2 предложений). Не копируй пример. Можно перефразировать, добавить детали, но отзыв должен быть уникальным.\n"
          ]
        },
        {
          "name": "stderr",
          "output_type": "stream",
          "text": [
            "Генерируем синтетику:  61%|██████    | 811/1335 [03:27<02:23,  3.65it/s]"
          ]
        },
        {
          "name": "stdout",
          "output_type": "stream",
          "text": [
            "Ты пишешь короткие отзывы жильцов управляющей компании. Пиши строго на русском. Пример отзыва:\n",
            "«надо что то делать, родители говорят что больше не придут в гости, потому что лифт постоянно не работает!»\n",
            "\n",
            "Напиши 1 уникальный отзыв по смыслу, похожий на пример (1-2 предложений). Не копируй пример. Можно перефразировать, добавить детали, но отзыв должен быть уникальным.\n"
          ]
        },
        {
          "name": "stderr",
          "output_type": "stream",
          "text": [
            "Генерируем синтетику:  61%|██████    | 812/1335 [03:27<02:37,  3.33it/s]"
          ]
        },
        {
          "name": "stdout",
          "output_type": "stream",
          "text": [
            "Ты пишешь короткие отзывы жильцов управляющей компании. Пиши строго на русском. Пример отзыва:\n",
            "«спасибо, игорь»\n",
            "\n",
            "Напиши 1 уникальный отзыв по смыслу, похожий на пример (1-2 предложений). Не копируй пример. Можно перефразировать, добавить детали, но отзыв должен быть уникальным.\n"
          ]
        },
        {
          "name": "stderr",
          "output_type": "stream",
          "text": [
            "Генерируем синтетику:  61%|██████    | 813/1335 [03:27<02:26,  3.57it/s]"
          ]
        },
        {
          "name": "stdout",
          "output_type": "stream",
          "text": [
            "Ты пишешь короткие отзывы жильцов управляющей компании. Пиши строго на русском. Пример отзыва:\n",
            "«проблема не устранена!!!!»\n",
            "\n",
            "Напиши 1 уникальный отзыв по смыслу, похожий на пример (1-2 предложений). Не копируй пример. Можно перефразировать, добавить детали, но отзыв должен быть уникальным.\n"
          ]
        },
        {
          "name": "stderr",
          "output_type": "stream",
          "text": [
            "Генерируем синтетику:  61%|██████    | 814/1335 [03:28<02:34,  3.37it/s]"
          ]
        },
        {
          "name": "stdout",
          "output_type": "stream",
          "text": [
            "Ты пишешь короткие отзывы жильцов управляющей компании. Пиши строго на русском. Пример отзыва:\n",
            "«спасибо за оперативное устранение аварии!»\n",
            "\n",
            "Напиши 1 уникальный отзыв по смыслу, похожий на пример (1-2 предложений). Не копируй пример. Можно перефразировать, добавить детали, но отзыв должен быть уникальным.\n"
          ]
        },
        {
          "name": "stderr",
          "output_type": "stream",
          "text": [
            "Генерируем синтетику:  61%|██████    | 815/1335 [03:28<02:26,  3.55it/s]"
          ]
        },
        {
          "name": "stdout",
          "output_type": "stream",
          "text": [
            "Ты пишешь короткие отзывы жильцов управляющей компании. Пиши строго на русском. Пример отзыва:\n",
            "«быстро исправили причину шума щитка. спасибо за оперативность»\n",
            "\n",
            "Напиши 1 уникальный отзыв по смыслу, похожий на пример (1-2 предложений). Не копируй пример. Можно перефразировать, добавить детали, но отзыв должен быть уникальным.\n"
          ]
        },
        {
          "name": "stderr",
          "output_type": "stream",
          "text": [
            "Генерируем синтетику:  61%|██████    | 816/1335 [03:28<02:30,  3.44it/s]"
          ]
        },
        {
          "name": "stdout",
          "output_type": "stream",
          "text": [
            "Ты пишешь короткие отзывы жильцов управляющей компании. Пиши строго на русском. Пример отзыва:\n",
            "«спасибо большое!!! вы очень аперативные»\n",
            "\n",
            "Напиши 1 уникальный отзыв по смыслу, похожий на пример (1-2 предложений). Не копируй пример. Можно перефразировать, добавить детали, но отзыв должен быть уникальным.\n"
          ]
        },
        {
          "name": "stderr",
          "output_type": "stream",
          "text": [
            "Генерируем синтетику:  61%|██████    | 817/1335 [03:29<02:19,  3.70it/s]"
          ]
        },
        {
          "name": "stdout",
          "output_type": "stream",
          "text": [
            "Ты пишешь короткие отзывы жильцов управляющей компании. Пиши строго на русском. Пример отзыва:\n",
            "«специалист отличный, вежливый и быстро сделал, я очень довольна.»\n",
            "\n",
            "Напиши 1 уникальный отзыв по смыслу, похожий на пример (1-2 предложений). Не копируй пример. Можно перефразировать, добавить детали, но отзыв должен быть уникальным.\n"
          ]
        },
        {
          "name": "stderr",
          "output_type": "stream",
          "text": [
            "Генерируем синтетику:  61%|██████▏   | 818/1335 [03:29<02:17,  3.75it/s]"
          ]
        },
        {
          "name": "stdout",
          "output_type": "stream",
          "text": [
            "Ты пишешь короткие отзывы жильцов управляющей компании. Пиши строго на русском. Пример отзыва:\n",
            "«Спасибо. Отлично.»\n",
            "\n",
            "Напиши 1 уникальный отзыв по смыслу, похожий на пример (1-2 предложений). Не копируй пример. Можно перефразировать, добавить детали, но отзыв должен быть уникальным.\n"
          ]
        },
        {
          "name": "stderr",
          "output_type": "stream",
          "text": [
            "Генерируем синтетику:  61%|██████▏   | 819/1335 [03:29<02:14,  3.82it/s]"
          ]
        },
        {
          "name": "stdout",
          "output_type": "stream",
          "text": [
            "Ты пишешь короткие отзывы жильцов управляющей компании. Пиши строго на русском. Пример отзыва:\n",
            "«Благодарим за оперативность и понимание»\n",
            "\n",
            "Напиши 1 уникальный отзыв по смыслу, похожий на пример (1-2 предложений). Не копируй пример. Можно перефразировать, добавить детали, но отзыв должен быть уникальным.\n"
          ]
        },
        {
          "name": "stderr",
          "output_type": "stream",
          "text": [
            "Генерируем синтетику:  61%|██████▏   | 820/1335 [03:29<02:14,  3.82it/s]"
          ]
        },
        {
          "name": "stdout",
          "output_type": "stream",
          "text": [
            "Ты пишешь короткие отзывы жильцов управляющей компании. Пиши строго на русском. Пример отзыва:\n",
            "«Оперативно. Очень вежливый сантехник. Приятно было общаться и получить решение проблемы через 25 минут. Спасибо.»\n",
            "\n",
            "Напиши 1 уникальный отзыв по смыслу, похожий на пример (1-2 предложений). Не копируй пример. Можно перефразировать, добавить детали, но отзыв должен быть уникальным.\n"
          ]
        },
        {
          "name": "stderr",
          "output_type": "stream",
          "text": [
            "Генерируем синтетику:  61%|██████▏   | 821/1335 [03:30<02:24,  3.55it/s]"
          ]
        },
        {
          "name": "stdout",
          "output_type": "stream",
          "text": [
            "Ты пишешь короткие отзывы жильцов управляющей компании. Пиши строго на русском. Пример отзыва:\n",
            "«Огромное Спасибо.»\n",
            "\n",
            "Напиши 1 уникальный отзыв по смыслу, похожий на пример (1-2 предложений). Не копируй пример. Можно перефразировать, добавить детали, но отзыв должен быть уникальным.\n"
          ]
        },
        {
          "name": "stderr",
          "output_type": "stream",
          "text": [
            "Генерируем синтетику:  62%|██████▏   | 823/1335 [03:30<01:59,  4.29it/s]"
          ]
        },
        {
          "name": "stdout",
          "output_type": "stream",
          "text": [
            "Ты пишешь короткие отзывы жильцов управляющей компании. Пиши строго на русском. Пример отзыва:\n",
            "«спасибо всё бистро устранили »\n",
            "\n",
            "Напиши 1 уникальный отзыв по смыслу, похожий на пример (1-2 предложений). Не копируй пример. Можно перефразировать, добавить детали, но отзыв должен быть уникальным.\n",
            "Ты пишешь короткие отзывы жильцов управляющей компании. Пиши строго на русском. Пример отзыва:\n",
            "«спасибо большое всем кто помог решить данную проблему »\n",
            "\n",
            "Напиши 1 уникальный отзыв по смыслу, похожий на пример (1-2 предложений). Не копируй пример. Можно перефразировать, добавить детали, но отзыв должен быть уникальным.\n"
          ]
        },
        {
          "name": "stderr",
          "output_type": "stream",
          "text": [
            "Генерируем синтетику:  62%|██████▏   | 824/1335 [03:30<01:57,  4.35it/s]"
          ]
        },
        {
          "name": "stdout",
          "output_type": "stream",
          "text": [
            "Ты пишешь короткие отзывы жильцов управляющей компании. Пиши строго на русском. Пример отзыва:\n",
            "«Лучший!»\n",
            "\n",
            "Напиши 1 уникальный отзыв по смыслу, похожий на пример (1-2 предложений). Не копируй пример. Можно перефразировать, добавить детали, но отзыв должен быть уникальным.\n"
          ]
        },
        {
          "name": "stderr",
          "output_type": "stream",
          "text": [
            "Генерируем синтетику:  62%|██████▏   | 825/1335 [03:30<01:56,  4.38it/s]"
          ]
        },
        {
          "name": "stdout",
          "output_type": "stream",
          "text": [
            "Ты пишешь короткие отзывы жильцов управляющей компании. Пиши строго на русском. Пример отзыва:\n",
            "«Спасибо! Сервис работает, это самое главное :)»\n",
            "\n",
            "Напиши 1 уникальный отзыв по смыслу, похожий на пример (1-2 предложений). Не копируй пример. Можно перефразировать, добавить детали, но отзыв должен быть уникальным.\n"
          ]
        },
        {
          "name": "stderr",
          "output_type": "stream",
          "text": [
            "Генерируем синтетику:  62%|██████▏   | 826/1335 [03:31<01:53,  4.48it/s]"
          ]
        },
        {
          "name": "stdout",
          "output_type": "stream",
          "text": [
            "Ты пишешь короткие отзывы жильцов управляющей компании. Пиши строго на русском. Пример отзыва:\n",
            "«спасибо инженеру быстро и оперативно работает. хоть кто-то в этой компании ответственный человек.»\n",
            "\n",
            "Напиши 1 уникальный отзыв по смыслу, похожий на пример (1-2 предложений). Не копируй пример. Можно перефразировать, добавить детали, но отзыв должен быть уникальным.\n"
          ]
        },
        {
          "name": "stderr",
          "output_type": "stream",
          "text": [
            "Генерируем синтетику:  62%|██████▏   | 827/1335 [03:31<01:56,  4.36it/s]"
          ]
        },
        {
          "name": "stdout",
          "output_type": "stream",
          "text": [
            "Ты пишешь короткие отзывы жильцов управляющей компании. Пиши строго на русском. Пример отзыва:\n",
            "«хороший мастер  :thumbs_up: »\n",
            "\n",
            "Если в примере есть код эмодзи вида :smile:, то сохрани стиль — вставь похожий код эмодзи.\n",
            "\n",
            "Напиши 1 уникальный отзыв по смыслу, похожий на пример (1-2 предложений). Не копируй пример. Можно перефразировать, добавить детали, но отзыв должен быть уникальным.\n"
          ]
        },
        {
          "name": "stderr",
          "output_type": "stream",
          "text": [
            "Генерируем синтетику:  62%|██████▏   | 828/1335 [03:31<02:01,  4.19it/s]"
          ]
        },
        {
          "name": "stdout",
          "output_type": "stream",
          "text": [
            "Ты пишешь короткие отзывы жильцов управляющей компании. Пиши строго на русском. Пример отзыва:\n",
            "«все сделали. но оперативности не было. на третий день после заявки об аварийной ситуации отреагировали и то после доп звонка»\n",
            "\n",
            "Напиши 1 уникальный отзыв по смыслу, похожий на пример (1-2 предложений). Не копируй пример. Можно перефразировать, добавить детали, но отзыв должен быть уникальным.\n"
          ]
        },
        {
          "name": "stderr",
          "output_type": "stream",
          "text": [
            "Генерируем синтетику:  62%|██████▏   | 829/1335 [03:31<02:10,  3.88it/s]"
          ]
        },
        {
          "name": "stdout",
          "output_type": "stream",
          "text": [
            "Ты пишешь короткие отзывы жильцов управляющей компании. Пиши строго на русском. Пример отзыва:\n",
            "«человека выпустили. но в лифте нет телефона для связи и по кнопке связи с диспечером связи нет! поэтому вызывали через соседей.»\n",
            "\n",
            "Напиши 1 уникальный отзыв по смыслу, похожий на пример (1-2 предложений). Не копируй пример. Можно перефразировать, добавить детали, но отзыв должен быть уникальным.\n"
          ]
        },
        {
          "name": "stderr",
          "output_type": "stream",
          "text": [
            "Генерируем синтетику:  62%|██████▏   | 830/1335 [03:32<02:39,  3.16it/s]"
          ]
        },
        {
          "name": "stdout",
          "output_type": "stream",
          "text": [
            "Ты пишешь короткие отзывы жильцов управляющей компании. Пиши строго на русском. Пример отзыва:\n",
            "«Спасибо за работу  :handshake:  »\n",
            "\n",
            "Если в примере есть код эмодзи вида :smile:, то сохрани стиль — вставь похожий код эмодзи.\n",
            "\n",
            "Напиши 1 уникальный отзыв по смыслу, похожий на пример (1-2 предложений). Не копируй пример. Можно перефразировать, добавить детали, но отзыв должен быть уникальным.\n"
          ]
        },
        {
          "name": "stderr",
          "output_type": "stream",
          "text": [
            "Генерируем синтетику:  62%|██████▏   | 832/1335 [03:32<02:08,  3.90it/s]"
          ]
        },
        {
          "name": "stdout",
          "output_type": "stream",
          "text": [
            "Ты пишешь короткие отзывы жильцов управляющей компании. Пиши строго на русском. Пример отзыва:\n",
            "«Молодцы, оперативно. »\n",
            "\n",
            "Напиши 1 уникальный отзыв по смыслу, похожий на пример (1-2 предложений). Не копируй пример. Можно перефразировать, добавить детали, но отзыв должен быть уникальным.\n",
            "Ты пишешь короткие отзывы жильцов управляющей компании. Пиши строго на русском. Пример отзыва:\n",
            "«огромное спасибо! вопрос был решен быстро! специалист профессионал в своем деле!»\n",
            "\n",
            "Напиши 1 уникальный отзыв по смыслу, похожий на пример (1-2 предложений). Не копируй пример. Можно перефразировать, добавить детали, но отзыв должен быть уникальным.\n"
          ]
        },
        {
          "name": "stderr",
          "output_type": "stream",
          "text": [
            "Генерируем синтетику:  62%|██████▏   | 833/1335 [03:33<02:15,  3.70it/s]"
          ]
        },
        {
          "name": "stdout",
          "output_type": "stream",
          "text": [
            "Ты пишешь короткие отзывы жильцов управляющей компании. Пиши строго на русском. Пример отзыва:\n",
            "«огромное спасибо  :thumbs_up: »\n",
            "\n",
            "Если в примере есть код эмодзи вида :smile:, то сохрани стиль — вставь похожий код эмодзи.\n",
            "\n",
            "Напиши 1 уникальный отзыв по смыслу, похожий на пример (1-2 предложений). Не копируй пример. Можно перефразировать, добавить детали, но отзыв должен быть уникальным.\n"
          ]
        },
        {
          "name": "stderr",
          "output_type": "stream",
          "text": [
            "Генерируем синтетику:  62%|██████▏   | 834/1335 [03:33<02:07,  3.91it/s]"
          ]
        },
        {
          "name": "stdout",
          "output_type": "stream",
          "text": [
            "Ты пишешь короткие отзывы жильцов управляющей компании. Пиши строго на русском. Пример отзыва:\n",
            "«заявка закрыта без фактического исполнения и не обоснованно. контрольные показания счетчика так и не сняты, акт не составлен, перерасчет не сделан. прошу возобновить исполнение заявки.»\n",
            "\n",
            "Напиши 1 уникальный отзыв по смыслу, похожий на пример (1-2 предложений). Не копируй пример. Можно перефразировать, добавить детали, но отзыв должен быть уникальным.\n"
          ]
        },
        {
          "name": "stderr",
          "output_type": "stream",
          "text": [
            "Генерируем синтетику:  63%|██████▎   | 835/1335 [03:33<02:26,  3.41it/s]"
          ]
        },
        {
          "name": "stdout",
          "output_type": "stream",
          "text": [
            "Ты пишешь короткие отзывы жильцов управляющей компании. Пиши строго на русском. Пример отзыва:\n",
            "«Спасибо !!»\n",
            "\n",
            "Напиши 1 уникальный отзыв по смыслу, похожий на пример (1-2 предложений). Не копируй пример. Можно перефразировать, добавить детали, но отзыв должен быть уникальным.\n"
          ]
        },
        {
          "name": "stderr",
          "output_type": "stream",
          "text": [
            "Генерируем синтетику:  63%|██████▎   | 836/1335 [03:33<02:14,  3.70it/s]"
          ]
        },
        {
          "name": "stdout",
          "output_type": "stream",
          "text": [
            "Ты пишешь короткие отзывы жильцов управляющей компании. Пиши строго на русском. Пример отзыва:\n",
            "«Дверь закрывается намного лучше.»\n",
            "\n",
            "Напиши 1 уникальный отзыв по смыслу, похожий на пример (1-2 предложений). Не копируй пример. Можно перефразировать, добавить детали, но отзыв должен быть уникальным.\n"
          ]
        },
        {
          "name": "stderr",
          "output_type": "stream",
          "text": [
            "Генерируем синтетику:  63%|██████▎   | 837/1335 [03:34<02:06,  3.94it/s]"
          ]
        },
        {
          "name": "stdout",
          "output_type": "stream",
          "text": [
            "Ты пишешь короткие отзывы жильцов управляющей компании. Пиши строго на русском. Пример отзыва:\n",
            "«Течь устранена»\n",
            "\n",
            "Напиши 1 уникальный отзыв по смыслу, похожий на пример (1-2 предложений). Не копируй пример. Можно перефразировать, добавить детали, но отзыв должен быть уникальным.\n"
          ]
        },
        {
          "name": "stderr",
          "output_type": "stream",
          "text": [
            "Генерируем синтетику:  63%|██████▎   | 838/1335 [03:34<02:05,  3.95it/s]"
          ]
        },
        {
          "name": "stdout",
          "output_type": "stream",
          "text": [
            "Ты пишешь короткие отзывы жильцов управляющей компании. Пиши строго на русском. Пример отзыва:\n",
            "«спасибо  :Christmas_tree: »\n",
            "\n",
            "Если в примере есть код эмодзи вида :smile:, то сохрани стиль — вставь похожий код эмодзи.\n",
            "\n",
            "Напиши 1 уникальный отзыв по смыслу, похожий на пример (1-2 предложений). Не копируй пример. Можно перефразировать, добавить детали, но отзыв должен быть уникальным.\n"
          ]
        },
        {
          "name": "stderr",
          "output_type": "stream",
          "text": [
            "Генерируем синтетику:  63%|██████▎   | 839/1335 [03:34<02:06,  3.92it/s]"
          ]
        },
        {
          "name": "stdout",
          "output_type": "stream",
          "text": [
            "Ты пишешь короткие отзывы жильцов управляющей компании. Пиши строго на русском. Пример отзыва:\n",
            "«на мою просьбу быстро отреагировали, позвонили и быстро решили проблему»\n",
            "\n",
            "Напиши 1 уникальный отзыв по смыслу, похожий на пример (1-2 предложений). Не копируй пример. Можно перефразировать, добавить детали, но отзыв должен быть уникальным.\n"
          ]
        },
        {
          "name": "stderr",
          "output_type": "stream",
          "text": [
            "Генерируем синтетику:  63%|██████▎   | 840/1335 [03:34<02:09,  3.82it/s]"
          ]
        },
        {
          "name": "stdout",
          "output_type": "stream",
          "text": [
            "Ты пишешь короткие отзывы жильцов управляющей компании. Пиши строго на русском. Пример отзыва:\n",
            "«хоть фото не этого места, но подтверждаю что работа выполнена и главное выполнена оперативно.»\n",
            "\n",
            "Напиши 1 уникальный отзыв по смыслу, похожий на пример (1-2 предложений). Не копируй пример. Можно перефразировать, добавить детали, но отзыв должен быть уникальным.\n"
          ]
        },
        {
          "name": "stderr",
          "output_type": "stream",
          "text": [
            "Генерируем синтетику:  63%|██████▎   | 841/1335 [03:35<02:18,  3.57it/s]"
          ]
        },
        {
          "name": "stdout",
          "output_type": "stream",
          "text": [
            "Ты пишешь короткие отзывы жильцов управляющей компании. Пиши строго на русском. Пример отзыва:\n",
            "«приложение нужно дорабатывать ,сами пишите что зачисляются до 5 дней, сами просите оплатить до 20 января, а у самих нет никаких данных о поступлении, уже и выписку приложила ,все без изменений»\n",
            "\n",
            "Напиши 1 уникальный отзыв по смыслу, похожий на пример (1-2 предложений). Не копируй пример. Можно перефразировать, добавить детали, но отзыв должен быть уникальным.\n"
          ]
        },
        {
          "name": "stderr",
          "output_type": "stream",
          "text": [
            "Генерируем синтетику:  63%|██████▎   | 842/1335 [03:35<02:40,  3.08it/s]"
          ]
        },
        {
          "name": "stdout",
          "output_type": "stream",
          "text": [
            "Ты пишешь короткие отзывы жильцов управляющей компании. Пиши строго на русском. Пример отзыва:\n",
            "«Спасибо Вам большое  :folded_hands:  за оперативность :thumbs_up: и качество !!! :handshake: »\n",
            "\n",
            "Если в примере есть код эмодзи вида :smile:, то сохрани стиль — вставь похожий код эмодзи.\n",
            "\n",
            "Напиши 1 уникальный отзыв по смыслу, похожий на пример (1-2 предложений). Не копируй пример. Можно перефразировать, добавить детали, но отзыв должен быть уникальным.\n"
          ]
        },
        {
          "name": "stderr",
          "output_type": "stream",
          "text": [
            "Генерируем синтетику:  63%|██████▎   | 843/1335 [03:35<02:32,  3.22it/s]"
          ]
        },
        {
          "name": "stdout",
          "output_type": "stream",
          "text": [
            "Ты пишешь короткие отзывы жильцов управляющей компании. Пиши строго на русском. Пример отзыва:\n",
            "«Вопрос был решен оперативно) спасибо большое!»\n",
            "\n",
            "Напиши 1 уникальный отзыв по смыслу, похожий на пример (1-2 предложений). Не копируй пример. Можно перефразировать, добавить детали, но отзыв должен быть уникальным.\n"
          ]
        },
        {
          "name": "stderr",
          "output_type": "stream",
          "text": [
            "Генерируем синтетику:  63%|██████▎   | 844/1335 [03:36<02:24,  3.39it/s]"
          ]
        },
        {
          "name": "stdout",
          "output_type": "stream",
          "text": [
            "Ты пишешь короткие отзывы жильцов управляющей компании. Пиши строго на русском. Пример отзыва:\n",
            "«сантехник пришел в день об обращения, вопрос решен на месте, спасибо за оперативность.»\n",
            "\n",
            "Напиши 1 уникальный отзыв по смыслу, похожий на пример (1-2 предложений). Не копируй пример. Можно перефразировать, добавить детали, но отзыв должен быть уникальным.\n"
          ]
        },
        {
          "name": "stderr",
          "output_type": "stream",
          "text": [
            "Генерируем синтетику:  63%|██████▎   | 845/1335 [03:36<02:22,  3.44it/s]"
          ]
        },
        {
          "name": "stdout",
          "output_type": "stream",
          "text": [
            "Ты пишешь короткие отзывы жильцов управляющей компании. Пиши строго на русском. Пример отзыва:\n",
            "«Очень нравится что стали поливать газон»\n",
            "\n",
            "Напиши 1 уникальный отзыв по смыслу, похожий на пример (1-2 предложений). Не копируй пример. Можно перефразировать, добавить детали, но отзыв должен быть уникальным.\n"
          ]
        },
        {
          "name": "stderr",
          "output_type": "stream",
          "text": [
            "Генерируем синтетику:  63%|██████▎   | 847/1335 [03:37<02:25,  3.36it/s]"
          ]
        },
        {
          "name": "stdout",
          "output_type": "stream",
          "text": [
            "Ты пишешь короткие отзывы жильцов управляющей компании. Пиши строго на русском. Пример отзыва:\n",
            "«Все на высшем уровне!»\n",
            "\n",
            "Напиши 1 уникальный отзыв по смыслу, похожий на пример (1-2 предложений). Не копируй пример. Можно перефразировать, добавить детали, но отзыв должен быть уникальным.\n",
            "Ты пишешь короткие отзывы жильцов управляющей компании. Пиши строго на русском. Пример отзыва:\n",
            "«Спасибо за разъяснения!»\n",
            "\n",
            "Напиши 1 уникальный отзыв по смыслу, похожий на пример (1-2 предложений). Не копируй пример. Можно перефразировать, добавить детали, но отзыв должен быть уникальным.\n"
          ]
        },
        {
          "name": "stderr",
          "output_type": "stream",
          "text": [
            "Генерируем синтетику:  64%|██████▎   | 848/1335 [03:37<02:12,  3.68it/s]"
          ]
        },
        {
          "name": "stdout",
          "output_type": "stream",
          "text": [
            "Ты пишешь короткие отзывы жильцов управляющей компании. Пиши строго на русском. Пример отзыва:\n",
            "«21.01 уборка была выполнена»\n",
            "\n",
            "Напиши 1 уникальный отзыв по смыслу, похожий на пример (1-2 предложений). Не копируй пример. Можно перефразировать, добавить детали, но отзыв должен быть уникальным.\n"
          ]
        },
        {
          "name": "stderr",
          "output_type": "stream",
          "text": [
            "Генерируем синтетику:  64%|██████▎   | 849/1335 [03:37<02:19,  3.49it/s]"
          ]
        },
        {
          "name": "stdout",
          "output_type": "stream",
          "text": [
            "Ты пишешь короткие отзывы жильцов управляющей компании. Пиши строго на русском. Пример отзыва:\n",
            "«Мастер - Самый Лучший! Спасибо Вам Огромное за таких сотрудников!!!! \n",
            "»\n",
            "\n",
            "Напиши 1 уникальный отзыв по смыслу, похожий на пример (1-2 предложений). Не копируй пример. Можно перефразировать, добавить детали, но отзыв должен быть уникальным.\n"
          ]
        },
        {
          "name": "stderr",
          "output_type": "stream",
          "text": [
            "Генерируем синтетику:  64%|██████▎   | 850/1335 [03:38<02:25,  3.33it/s]"
          ]
        },
        {
          "name": "stdout",
          "output_type": "stream",
          "text": [
            "Ты пишешь короткие отзывы жильцов управляющей компании. Пиши строго на русском. Пример отзыва:\n",
            "«Электрик пришел, все проверил и нам объяснил все. Спасибо большое! »\n",
            "\n",
            "Напиши 1 уникальный отзыв по смыслу, похожий на пример (1-2 предложений). Не копируй пример. Можно перефразировать, добавить детали, но отзыв должен быть уникальным.\n"
          ]
        },
        {
          "name": "stderr",
          "output_type": "stream",
          "text": [
            "Генерируем синтетику:  64%|██████▍   | 852/1335 [03:38<02:07,  3.79it/s]"
          ]
        },
        {
          "name": "stdout",
          "output_type": "stream",
          "text": [
            "Ты пишешь короткие отзывы жильцов управляющей компании. Пиши строго на русском. Пример отзыва:\n",
            "«отличный мастер, благодарю за выполненную работу!»\n",
            "\n",
            "Напиши 1 уникальный отзыв по смыслу, похожий на пример (1-2 предложений). Не копируй пример. Можно перефразировать, добавить детали, но отзыв должен быть уникальным.\n",
            "Ты пишешь короткие отзывы жильцов управляющей компании. Пиши строго на русском. Пример отзыва:\n",
            "«сантехник валерий объяснил все по телефону. пока проблем нет.»\n",
            "\n",
            "Напиши 1 уникальный отзыв по смыслу, похожий на пример (1-2 предложений). Не копируй пример. Можно перефразировать, добавить детали, но отзыв должен быть уникальным.\n"
          ]
        },
        {
          "name": "stderr",
          "output_type": "stream",
          "text": [
            "Генерируем синтетику:  64%|██████▍   | 853/1335 [03:38<02:05,  3.84it/s]"
          ]
        },
        {
          "name": "stdout",
          "output_type": "stream",
          "text": [
            "Ты пишешь короткие отзывы жильцов управляющей компании. Пиши строго на русском. Пример отзыва:\n",
            "«Мастер все сделал быстро. Все отлично, работой довольна»\n",
            "\n",
            "Напиши 1 уникальный отзыв по смыслу, похожий на пример (1-2 предложений). Не копируй пример. Можно перефразировать, добавить детали, но отзыв должен быть уникальным.\n"
          ]
        },
        {
          "name": "stderr",
          "output_type": "stream",
          "text": [
            "Генерируем синтетику:  64%|██████▍   | 854/1335 [03:39<02:06,  3.80it/s]"
          ]
        },
        {
          "name": "stdout",
          "output_type": "stream",
          "text": [
            "Ты пишешь короткие отзывы жильцов управляющей компании. Пиши строго на русском. Пример отзыва:\n",
            "«Спасибо  большое ! »\n",
            "\n",
            "Напиши 1 уникальный отзыв по смыслу, похожий на пример (1-2 предложений). Не копируй пример. Можно перефразировать, добавить детали, но отзыв должен быть уникальным.\n"
          ]
        },
        {
          "name": "stderr",
          "output_type": "stream",
          "text": [
            "Генерируем синтетику:  64%|██████▍   | 855/1335 [03:39<01:58,  4.06it/s]"
          ]
        },
        {
          "name": "stdout",
          "output_type": "stream",
          "text": [
            "Ты пишешь короткие отзывы жильцов управляющей компании. Пиши строго на русском. Пример отзыва:\n",
            "«Хорошая девушка менеджер ! Очень понятливая и на 100% вошла в положение всех жителей и донесла это до руководства ! Благодарю её! »\n",
            "\n",
            "Напиши 1 уникальный отзыв по смыслу, похожий на пример (1-2 предложений). Не копируй пример. Можно перефразировать, добавить детали, но отзыв должен быть уникальным.\n"
          ]
        },
        {
          "name": "stderr",
          "output_type": "stream",
          "text": [
            "Генерируем синтетику:  64%|██████▍   | 856/1335 [03:39<02:12,  3.60it/s]"
          ]
        },
        {
          "name": "stdout",
          "output_type": "stream",
          "text": [
            "Ты пишешь короткие отзывы жильцов управляющей компании. Пиши строго на русском. Пример отзыва:\n",
            "«нормально»\n",
            "\n",
            "Напиши 1 уникальный отзыв по смыслу, похожий на пример (1-2 предложений). Не копируй пример. Можно перефразировать, добавить детали, но отзыв должен быть уникальным.\n"
          ]
        },
        {
          "name": "stderr",
          "output_type": "stream",
          "text": [
            "Генерируем синтетику:  64%|██████▍   | 857/1335 [03:39<02:03,  3.87it/s]"
          ]
        },
        {
          "name": "stdout",
          "output_type": "stream",
          "text": [
            "Ты пишешь короткие отзывы жильцов управляющей компании. Пиши строго на русском. Пример отзыва:\n",
            "«счет оплачен ! квитанция выслана  вам в чате»\n",
            "\n",
            "Напиши 1 уникальный отзыв по смыслу, похожий на пример (1-2 предложений). Не копируй пример. Можно перефразировать, добавить детали, но отзыв должен быть уникальным.\n"
          ]
        },
        {
          "name": "stderr",
          "output_type": "stream",
          "text": [
            "Генерируем синтетику:  64%|██████▍   | 858/1335 [03:40<02:09,  3.70it/s]"
          ]
        },
        {
          "name": "stdout",
          "output_type": "stream",
          "text": [
            "Ты пишешь короткие отзывы жильцов управляющей компании. Пиши строго на русском. Пример отзыва:\n",
            "«Спасибо большое за уборку!»\n",
            "\n",
            "Напиши 1 уникальный отзыв по смыслу, похожий на пример (1-2 предложений). Не копируй пример. Можно перефразировать, добавить детали, но отзыв должен быть уникальным.\n"
          ]
        },
        {
          "name": "stderr",
          "output_type": "stream",
          "text": [
            "Генерируем синтетику:  64%|██████▍   | 859/1335 [03:40<02:03,  3.86it/s]"
          ]
        },
        {
          "name": "stdout",
          "output_type": "stream",
          "text": [
            "Ты пишешь короткие отзывы жильцов управляющей компании. Пиши строго на русском. Пример отзыва:\n",
            "«спасибо, что решили проблему оперативно »\n",
            "\n",
            "Напиши 1 уникальный отзыв по смыслу, похожий на пример (1-2 предложений). Не копируй пример. Можно перефразировать, добавить детали, но отзыв должен быть уникальным.\n"
          ]
        },
        {
          "name": "stderr",
          "output_type": "stream",
          "text": [
            "Генерируем синтетику:  64%|██████▍   | 860/1335 [03:40<01:55,  4.11it/s]"
          ]
        },
        {
          "name": "stdout",
          "output_type": "stream",
          "text": [
            "Ты пишешь короткие отзывы жильцов управляющей компании. Пиши строго на русском. Пример отзыва:\n",
            "«сантехники приехали оперативно и устранили протечку в смесителе.  спасибо!»\n",
            "\n",
            "Напиши 1 уникальный отзыв по смыслу, похожий на пример (1-2 предложений). Не копируй пример. Можно перефразировать, добавить детали, но отзыв должен быть уникальным.\n"
          ]
        },
        {
          "name": "stderr",
          "output_type": "stream",
          "text": [
            "Генерируем синтетику:  64%|██████▍   | 861/1335 [03:40<01:55,  4.11it/s]"
          ]
        },
        {
          "name": "stdout",
          "output_type": "stream",
          "text": [
            "Ты пишешь короткие отзывы жильцов управляющей компании. Пиши строго на русском. Пример отзыва:\n",
            "«спасибо большое!!!»\n",
            "\n",
            "Напиши 1 уникальный отзыв по смыслу, похожий на пример (1-2 предложений). Не копируй пример. Можно перефразировать, добавить детали, но отзыв должен быть уникальным.\n"
          ]
        },
        {
          "name": "stderr",
          "output_type": "stream",
          "text": [
            "Генерируем синтетику:  65%|██████▍   | 862/1335 [03:40<01:52,  4.22it/s]"
          ]
        },
        {
          "name": "stdout",
          "output_type": "stream",
          "text": [
            "Ты пишешь короткие отзывы жильцов управляющей компании. Пиши строго на русском. Пример отзыва:\n",
            "«спасибо! спускаем воздух регулярно»\n",
            "\n",
            "Напиши 1 уникальный отзыв по смыслу, похожий на пример (1-2 предложений). Не копируй пример. Можно перефразировать, добавить детали, но отзыв должен быть уникальным.\n"
          ]
        },
        {
          "name": "stderr",
          "output_type": "stream",
          "text": [
            "Генерируем синтетику:  65%|██████▍   | 863/1335 [03:41<01:48,  4.34it/s]"
          ]
        },
        {
          "name": "stdout",
          "output_type": "stream",
          "text": [
            "Ты пишешь короткие отзывы жильцов управляющей компании. Пиши строго на русском. Пример отзыва:\n",
            "«приехали быстро , всё сделали чётко. благодарю »\n",
            "\n",
            "Напиши 1 уникальный отзыв по смыслу, похожий на пример (1-2 предложений). Не копируй пример. Можно перефразировать, добавить детали, но отзыв должен быть уникальным.\n"
          ]
        },
        {
          "name": "stderr",
          "output_type": "stream",
          "text": [
            "Генерируем синтетику:  65%|██████▍   | 864/1335 [03:41<01:45,  4.46it/s]"
          ]
        },
        {
          "name": "stdout",
          "output_type": "stream",
          "text": [
            "Ты пишешь короткие отзывы жильцов управляющей компании. Пиши строго на русском. Пример отзыва:\n",
            "«Спасибо за проявленное участие и инциативу.»\n",
            "\n",
            "Напиши 1 уникальный отзыв по смыслу, похожий на пример (1-2 предложений). Не копируй пример. Можно перефразировать, добавить детали, но отзыв должен быть уникальным.\n"
          ]
        },
        {
          "name": "stderr",
          "output_type": "stream",
          "text": [
            "Генерируем синтетику:  65%|██████▍   | 865/1335 [03:41<01:51,  4.22it/s]"
          ]
        },
        {
          "name": "stdout",
          "output_type": "stream",
          "text": [
            "Ты пишешь короткие отзывы жильцов управляющей компании. Пиши строго на русском. Пример отзыва:\n",
            "«снимаю звезду за первую отписку без выполнения работ»\n",
            "\n",
            "Напиши 1 уникальный отзыв по смыслу, похожий на пример (1-2 предложений). Не копируй пример. Можно перефразировать, добавить детали, но отзыв должен быть уникальным.\n"
          ]
        },
        {
          "name": "stderr",
          "output_type": "stream",
          "text": [
            "Генерируем синтетику:  65%|██████▍   | 866/1335 [03:42<02:11,  3.56it/s]"
          ]
        },
        {
          "name": "stdout",
          "output_type": "stream",
          "text": [
            "Ты пишешь короткие отзывы жильцов управляющей компании. Пиши строго на русском. Пример отзыва:\n",
            "«спасибо сегодня возвращался домой и запаха не почувствовал»\n",
            "\n",
            "Напиши 1 уникальный отзыв по смыслу, похожий на пример (1-2 предложений). Не копируй пример. Можно перефразировать, добавить детали, но отзыв должен быть уникальным.\n"
          ]
        },
        {
          "name": "stderr",
          "output_type": "stream",
          "text": [
            "Генерируем синтетику:  65%|██████▍   | 867/1335 [03:42<02:11,  3.56it/s]"
          ]
        },
        {
          "name": "stdout",
          "output_type": "stream",
          "text": [
            "Ты пишешь короткие отзывы жильцов управляющей компании. Пиши строго на русском. Пример отзыва:\n",
            "«Добрый день. Спасибо за разъяснение. Всего вам хорошего.»\n",
            "\n",
            "Напиши 1 уникальный отзыв по смыслу, похожий на пример (1-2 предложений). Не копируй пример. Можно перефразировать, добавить детали, но отзыв должен быть уникальным.\n"
          ]
        },
        {
          "name": "stderr",
          "output_type": "stream",
          "text": [
            "Генерируем синтетику:  65%|██████▌   | 869/1335 [03:42<01:56,  3.99it/s]"
          ]
        },
        {
          "name": "stdout",
          "output_type": "stream",
          "text": [
            "Ты пишешь короткие отзывы жильцов управляющей компании. Пиши строго на русском. Пример отзыва:\n",
            "«все отлично   :thumbs_up: »\n",
            "\n",
            "Если в примере есть код эмодзи вида :smile:, то сохрани стиль — вставь похожий код эмодзи.\n",
            "\n",
            "Напиши 1 уникальный отзыв по смыслу, похожий на пример (1-2 предложений). Не копируй пример. Можно перефразировать, добавить детали, но отзыв должен быть уникальным.\n",
            "Ты пишешь короткие отзывы жильцов управляющей компании. Пиши строго на русском. Пример отзыва:\n",
            "«да, спасибо,теперь лифт заработал»\n",
            "\n",
            "Напиши 1 уникальный отзыв по смыслу, похожий на пример (1-2 предложений). Не копируй пример. Можно перефразировать, добавить детали, но отзыв должен быть уникальным.\n"
          ]
        },
        {
          "name": "stderr",
          "output_type": "stream",
          "text": [
            "Генерируем синтетику:  65%|██████▌   | 870/1335 [03:43<01:59,  3.88it/s]"
          ]
        },
        {
          "name": "stdout",
          "output_type": "stream",
          "text": [
            "Ты пишешь короткие отзывы жильцов управляющей компании. Пиши строго на русском. Пример отзыва:\n",
            "«быстро, класс!»\n",
            "\n",
            "Напиши 1 уникальный отзыв по смыслу, похожий на пример (1-2 предложений). Не копируй пример. Можно перефразировать, добавить детали, но отзыв должен быть уникальным.\n"
          ]
        },
        {
          "name": "stderr",
          "output_type": "stream",
          "text": [
            "Генерируем синтетику:  65%|██████▌   | 872/1335 [03:43<01:45,  4.38it/s]"
          ]
        },
        {
          "name": "stdout",
          "output_type": "stream",
          "text": [
            "Ты пишешь короткие отзывы жильцов управляющей компании. Пиши строго на русском. Пример отзыва:\n",
            "«спасибо огромное за перепрограммирование»\n",
            "\n",
            "Напиши 1 уникальный отзыв по смыслу, похожий на пример (1-2 предложений). Не копируй пример. Можно перефразировать, добавить детали, но отзыв должен быть уникальным.\n",
            "Ты пишешь короткие отзывы жильцов управляющей компании. Пиши строго на русском. Пример отзыва:\n",
            "«Хорошо »\n",
            "\n",
            "Напиши 1 уникальный отзыв по смыслу, похожий на пример (1-2 предложений). Не копируй пример. Можно перефразировать, добавить детали, но отзыв должен быть уникальным.\n"
          ]
        },
        {
          "name": "stderr",
          "output_type": "stream",
          "text": [
            "Генерируем синтетику:  65%|██████▌   | 873/1335 [03:43<01:51,  4.15it/s]"
          ]
        },
        {
          "name": "stdout",
          "output_type": "stream",
          "text": [
            "Ты пишешь короткие отзывы жильцов управляющей компании. Пиши строго на русском. Пример отзыва:\n",
            "«оперативно, спасибо!»\n",
            "\n",
            "Напиши 1 уникальный отзыв по смыслу, похожий на пример (1-2 предложений). Не копируй пример. Можно перефразировать, добавить детали, но отзыв должен быть уникальным.\n"
          ]
        },
        {
          "name": "stderr",
          "output_type": "stream",
          "text": [
            "Генерируем синтетику:  65%|██████▌   | 874/1335 [03:43<01:45,  4.36it/s]"
          ]
        },
        {
          "name": "stdout",
          "output_type": "stream",
          "text": [
            "Ты пишешь короткие отзывы жильцов управляющей компании. Пиши строго на русском. Пример отзыва:\n",
            "«четвёрка за то что выслали только со второго раза. \n",
            "нужную квитанцию! »\n",
            "\n",
            "Напиши 1 уникальный отзыв по смыслу, похожий на пример (1-2 предложений). Не копируй пример. Можно перефразировать, добавить детали, но отзыв должен быть уникальным.\n"
          ]
        },
        {
          "name": "stderr",
          "output_type": "stream",
          "text": [
            "Генерируем синтетику:  66%|██████▌   | 876/1335 [03:44<01:44,  4.38it/s]"
          ]
        },
        {
          "name": "stdout",
          "output_type": "stream",
          "text": [
            "Ты пишешь короткие отзывы жильцов управляющей компании. Пиши строго на русском. Пример отзыва:\n",
            "«оперативно )»\n",
            "\n",
            "Напиши 1 уникальный отзыв по смыслу, похожий на пример (1-2 предложений). Не копируй пример. Можно перефразировать, добавить детали, но отзыв должен быть уникальным.\n",
            "Ты пишешь короткие отзывы жильцов управляющей компании. Пиши строго на русском. Пример отзыва:\n",
            "«спасибо за оперативное выполнение заявки!»\n",
            "\n",
            "Напиши 1 уникальный отзыв по смыслу, похожий на пример (1-2 предложений). Не копируй пример. Можно перефразировать, добавить детали, но отзыв должен быть уникальным.\n"
          ]
        },
        {
          "name": "stderr",
          "output_type": "stream",
          "text": [
            "Генерируем синтетику:  66%|██████▌   | 877/1335 [03:44<01:45,  4.33it/s]"
          ]
        },
        {
          "name": "stdout",
          "output_type": "stream",
          "text": [
            "Ты пишешь короткие отзывы жильцов управляющей компании. Пиши строго на русском. Пример отзыва:\n",
            "«спасибо специалисту. »\n",
            "\n",
            "Напиши 1 уникальный отзыв по смыслу, похожий на пример (1-2 предложений). Не копируй пример. Можно перефразировать, добавить детали, но отзыв должен быть уникальным.\n"
          ]
        },
        {
          "name": "stderr",
          "output_type": "stream",
          "text": [
            "Генерируем синтетику:  66%|██████▌   | 878/1335 [03:44<01:44,  4.38it/s]"
          ]
        },
        {
          "name": "stdout",
          "output_type": "stream",
          "text": [
            "Ты пишешь короткие отзывы жильцов управляющей компании. Пиши строго на русском. Пример отзыва:\n",
            "«спасибо большое за оперативность)))»\n",
            "\n",
            "Напиши 1 уникальный отзыв по смыслу, похожий на пример (1-2 предложений). Не копируй пример. Можно перефразировать, добавить детали, но отзыв должен быть уникальным.\n"
          ]
        },
        {
          "name": "stderr",
          "output_type": "stream",
          "text": [
            "Генерируем синтетику:  66%|██████▌   | 880/1335 [03:45<01:37,  4.69it/s]"
          ]
        },
        {
          "name": "stdout",
          "output_type": "stream",
          "text": [
            "Ты пишешь короткие отзывы жильцов управляющей компании. Пиши строго на русском. Пример отзыва:\n",
            "«всё быстро сделали)»\n",
            "\n",
            "Напиши 1 уникальный отзыв по смыслу, похожий на пример (1-2 предложений). Не копируй пример. Можно перефразировать, добавить детали, но отзыв должен быть уникальным.\n",
            "Ты пишешь короткие отзывы жильцов управляющей компании. Пиши строго на русском. Пример отзыва:\n",
            "«спасибо, все работало до вчерашнего дня»\n",
            "\n",
            "Напиши 1 уникальный отзыв по смыслу, похожий на пример (1-2 предложений). Не копируй пример. Можно перефразировать, добавить детали, но отзыв должен быть уникальным.\n"
          ]
        },
        {
          "name": "stderr",
          "output_type": "stream",
          "text": [
            "Генерируем синтетику:  66%|██████▌   | 881/1335 [03:45<01:41,  4.49it/s]"
          ]
        },
        {
          "name": "stdout",
          "output_type": "stream",
          "text": [
            "Ты пишешь короткие отзывы жильцов управляющей компании. Пиши строго на русском. Пример отзыва:\n",
            "«Благодарю !»\n",
            "\n",
            "Напиши 1 уникальный отзыв по смыслу, похожий на пример (1-2 предложений). Не копируй пример. Можно перефразировать, добавить детали, но отзыв должен быть уникальным.\n"
          ]
        },
        {
          "name": "stderr",
          "output_type": "stream",
          "text": [
            "Генерируем синтетику:  66%|██████▌   | 882/1335 [03:45<01:38,  4.61it/s]"
          ]
        },
        {
          "name": "stdout",
          "output_type": "stream",
          "text": [
            "Ты пишешь короткие отзывы жильцов управляющей компании. Пиши строго на русском. Пример отзыва:\n",
            "«за ноябрь оплата была, куда могу выслать подтверждающие документы ?»\n",
            "\n",
            "Напиши 1 уникальный отзыв по смыслу, похожий на пример (1-2 предложений). Не копируй пример. Можно перефразировать, добавить детали, но отзыв должен быть уникальным.\n"
          ]
        },
        {
          "name": "stderr",
          "output_type": "stream",
          "text": [
            "Генерируем синтетику:  66%|██████▌   | 884/1335 [03:46<01:33,  4.80it/s]"
          ]
        },
        {
          "name": "stdout",
          "output_type": "stream",
          "text": [
            "Ты пишешь короткие отзывы жильцов управляющей компании. Пиши строго на русском. Пример отзыва:\n",
            "«Отлично спасибо »\n",
            "\n",
            "Напиши 1 уникальный отзыв по смыслу, похожий на пример (1-2 предложений). Не копируй пример. Можно перефразировать, добавить детали, но отзыв должен быть уникальным.\n",
            "Ты пишешь короткие отзывы жильцов управляющей компании. Пиши строго на русском. Пример отзыва:\n",
            "«хотелось  бы, чтобы работа выполнялась , постоянно, без заявок»\n",
            "\n",
            "Напиши 1 уникальный отзыв по смыслу, похожий на пример (1-2 предложений). Не копируй пример. Можно перефразировать, добавить детали, но отзыв должен быть уникальным.\n"
          ]
        },
        {
          "name": "stderr",
          "output_type": "stream",
          "text": [
            "Генерируем синтетику:  66%|██████▋   | 885/1335 [03:46<01:40,  4.47it/s]"
          ]
        },
        {
          "name": "stdout",
          "output_type": "stream",
          "text": [
            "Ты пишешь короткие отзывы жильцов управляющей компании. Пиши строго на русском. Пример отзыва:\n",
            "«Сантехник объяснил причину проблемы, что для хорошего напора воды нужно менять на смеситель с 40 картриджем, теперь понятно! Спасибо! »\n",
            "\n",
            "Напиши 1 уникальный отзыв по смыслу, похожий на пример (1-2 предложений). Не копируй пример. Можно перефразировать, добавить детали, но отзыв должен быть уникальным.\n"
          ]
        },
        {
          "name": "stderr",
          "output_type": "stream",
          "text": [
            "Генерируем синтетику:  66%|██████▋   | 887/1335 [03:46<01:51,  4.03it/s]"
          ]
        },
        {
          "name": "stdout",
          "output_type": "stream",
          "text": [
            "Ты пишешь короткие отзывы жильцов управляющей компании. Пиши строго на русском. Пример отзыва:\n",
            "«несколько дней делали»\n",
            "\n",
            "Напиши 1 уникальный отзыв по смыслу, похожий на пример (1-2 предложений). Не копируй пример. Можно перефразировать, добавить детали, но отзыв должен быть уникальным.\n",
            "Ты пишешь короткие отзывы жильцов управляющей компании. Пиши строго на русском. Пример отзыва:\n",
            "«Мастер пришел на следующий день и ответил на все вопросы, выдал рекомендации по устранению проблемы. Спасибо!»\n",
            "\n",
            "Напиши 1 уникальный отзыв по смыслу, похожий на пример (1-2 предложений). Не копируй пример. Можно перефразировать, добавить детали, но отзыв должен быть уникальным.\n"
          ]
        },
        {
          "name": "stderr",
          "output_type": "stream",
          "text": [
            "Генерируем синтетику:  67%|██████▋   | 888/1335 [03:47<01:54,  3.89it/s]"
          ]
        },
        {
          "name": "stdout",
          "output_type": "stream",
          "text": [
            "Ты пишешь короткие отзывы жильцов управляющей компании. Пиши строго на русском. Пример отзыва:\n",
            "«все хорошо,дверь практически бесшумно закрывается»\n",
            "\n",
            "Напиши 1 уникальный отзыв по смыслу, похожий на пример (1-2 предложений). Не копируй пример. Можно перефразировать, добавить детали, но отзыв должен быть уникальным.\n"
          ]
        },
        {
          "name": "stderr",
          "output_type": "stream",
          "text": [
            "Генерируем синтетику:  67%|██████▋   | 889/1335 [03:47<02:00,  3.71it/s]"
          ]
        },
        {
          "name": "stdout",
          "output_type": "stream",
          "text": [
            "Ты пишешь короткие отзывы жильцов управляющей компании. Пиши строго на русском. Пример отзыва:\n",
            "«Большое спасибо, очень внимательно и клиентоориентированность на высшем уровне »\n",
            "\n",
            "Напиши 1 уникальный отзыв по смыслу, похожий на пример (1-2 предложений). Не копируй пример. Можно перефразировать, добавить детали, но отзыв должен быть уникальным.\n"
          ]
        },
        {
          "name": "stderr",
          "output_type": "stream",
          "text": [
            "Генерируем синтетику:  67%|██████▋   | 890/1335 [03:47<02:00,  3.71it/s]"
          ]
        },
        {
          "name": "stdout",
          "output_type": "stream",
          "text": [
            "Ты пишешь короткие отзывы жильцов управляющей компании. Пиши строго на русском. Пример отзыва:\n",
            "«спасибо, что быстро исправили :OK_hand:  :thumbs_up:  :sparkling_heart: »\n",
            "\n",
            "Если в примере есть код эмодзи вида :smile:, то сохрани стиль — вставь похожий код эмодзи.\n",
            "\n",
            "Напиши 1 уникальный отзыв по смыслу, похожий на пример (1-2 предложений). Не копируй пример. Можно перефразировать, добавить детали, но отзыв должен быть уникальным.\n"
          ]
        },
        {
          "name": "stderr",
          "output_type": "stream",
          "text": [
            "Генерируем синтетику:  67%|██████▋   | 891/1335 [03:48<01:55,  3.84it/s]"
          ]
        },
        {
          "name": "stdout",
          "output_type": "stream",
          "text": [
            "Ты пишешь короткие отзывы жильцов управляющей компании. Пиши строго на русском. Пример отзыва:\n",
            "«быстро, эффективно!»\n",
            "\n",
            "Напиши 1 уникальный отзыв по смыслу, похожий на пример (1-2 предложений). Не копируй пример. Можно перефразировать, добавить детали, но отзыв должен быть уникальным.\n"
          ]
        },
        {
          "name": "stderr",
          "output_type": "stream",
          "text": [
            "Генерируем синтетику:  67%|██████▋   | 893/1335 [03:48<01:41,  4.36it/s]"
          ]
        },
        {
          "name": "stdout",
          "output_type": "stream",
          "text": [
            "Ты пишешь короткие отзывы жильцов управляющей компании. Пиши строго на русском. Пример отзыва:\n",
            "«Спасибо большое вам за работу!»\n",
            "\n",
            "Напиши 1 уникальный отзыв по смыслу, похожий на пример (1-2 предложений). Не копируй пример. Можно перефразировать, добавить детали, но отзыв должен быть уникальным.\n",
            "Ты пишешь короткие отзывы жильцов управляющей компании. Пиши строго на русском. Пример отзыва:\n",
            "«все на высшем уровне »\n",
            "\n",
            "Напиши 1 уникальный отзыв по смыслу, похожий на пример (1-2 предложений). Не копируй пример. Можно перефразировать, добавить детали, но отзыв должен быть уникальным.\n"
          ]
        },
        {
          "name": "stderr",
          "output_type": "stream",
          "text": [
            "Генерируем синтетику:  67%|██████▋   | 894/1335 [03:48<01:36,  4.57it/s]"
          ]
        },
        {
          "name": "stdout",
          "output_type": "stream",
          "text": [
            "Ты пишешь короткие отзывы жильцов управляющей компании. Пиши строго на русском. Пример отзыва:\n",
            "«Все супер, Очень оперативно и профессионально, Спасибо »\n",
            "\n",
            "Напиши 1 уникальный отзыв по смыслу, похожий на пример (1-2 предложений). Не копируй пример. Можно перефразировать, добавить детали, но отзыв должен быть уникальным.\n"
          ]
        },
        {
          "name": "stderr",
          "output_type": "stream",
          "text": [
            "Генерируем синтетику:  67%|██████▋   | 895/1335 [03:48<01:46,  4.12it/s]"
          ]
        },
        {
          "name": "stdout",
          "output_type": "stream",
          "text": [
            "Ты пишешь короткие отзывы жильцов управляющей компании. Пиши строго на русском. Пример отзыва:\n",
            "«мастер отключил колонку оповещения от сети, пищать перестала , но и оповещать не будет»\n",
            "\n",
            "Напиши 1 уникальный отзыв по смыслу, похожий на пример (1-2 предложений). Не копируй пример. Можно перефразировать, добавить детали, но отзыв должен быть уникальным.\n"
          ]
        },
        {
          "name": "stderr",
          "output_type": "stream",
          "text": [
            "Генерируем синтетику:  67%|██████▋   | 896/1335 [03:49<01:45,  4.14it/s]"
          ]
        },
        {
          "name": "stdout",
          "output_type": "stream",
          "text": [
            "Ты пишешь короткие отзывы жильцов управляющей компании. Пиши строго на русском. Пример отзыва:\n",
            "«оперативно и качественно»\n",
            "\n",
            "Напиши 1 уникальный отзыв по смыслу, похожий на пример (1-2 предложений). Не копируй пример. Можно перефразировать, добавить детали, но отзыв должен быть уникальным.\n"
          ]
        },
        {
          "name": "stderr",
          "output_type": "stream",
          "text": [
            "Генерируем синтетику:  67%|██████▋   | 897/1335 [03:49<01:49,  3.99it/s]"
          ]
        },
        {
          "name": "stdout",
          "output_type": "stream",
          "text": [
            "Ты пишешь короткие отзывы жильцов управляющей компании. Пиши строго на русском. Пример отзыва:\n",
            "«спасибо валерию. все сделал хорошо. \n",
            "маленький минус, что долго шли. \n",
            "была бы течь более сильной, то за 2,5 часа ... \n",
            "но я думаю, что это проблема обработки заявки. ему не сразу передали! примите во внимание. плохо, что нет прямого аварийного телефона непосредственно в живи в рыбацком. звонишь через десятые руки...»\n",
            "\n",
            "Напиши 1 уникальный отзыв по смыслу, похожий на пример (1-2 предложений). Не копируй пример. Можно перефразировать, добавить детали, но отзыв должен быть уникальным.\n"
          ]
        },
        {
          "name": "stderr",
          "output_type": "stream",
          "text": [
            "Генерируем синтетику:  67%|██████▋   | 898/1335 [03:49<02:18,  3.14it/s]"
          ]
        },
        {
          "name": "stdout",
          "output_type": "stream",
          "text": [
            "Ты пишешь короткие отзывы жильцов управляющей компании. Пиши строго на русском. Пример отзыва:\n",
            "«пока работает»\n",
            "\n",
            "Напиши 1 уникальный отзыв по смыслу, похожий на пример (1-2 предложений). Не копируй пример. Можно перефразировать, добавить детали, но отзыв должен быть уникальным.\n"
          ]
        },
        {
          "name": "stderr",
          "output_type": "stream",
          "text": [
            "Генерируем синтетику:  67%|██████▋   | 900/1335 [03:50<01:52,  3.85it/s]"
          ]
        },
        {
          "name": "stdout",
          "output_type": "stream",
          "text": [
            "Ты пишешь короткие отзывы жильцов управляющей компании. Пиши строго на русском. Пример отзыва:\n",
            "«Заявка быстра принята в работу. Проблема решена. Спасибо! \n",
            "»\n",
            "\n",
            "Напиши 1 уникальный отзыв по смыслу, похожий на пример (1-2 предложений). Не копируй пример. Можно перефразировать, добавить детали, но отзыв должен быть уникальным.\n",
            "Ты пишешь короткие отзывы жильцов управляющей компании. Пиши строго на русском. Пример отзыва:\n",
            "«спасибо, за быструю реакцию и решение проблемы»\n",
            "\n",
            "Напиши 1 уникальный отзыв по смыслу, похожий на пример (1-2 предложений). Не копируй пример. Можно перефразировать, добавить детали, но отзыв должен быть уникальным.\n"
          ]
        },
        {
          "name": "stderr",
          "output_type": "stream",
          "text": [
            "Генерируем синтетику:  68%|██████▊   | 902/1335 [03:50<01:44,  4.16it/s]"
          ]
        },
        {
          "name": "stdout",
          "output_type": "stream",
          "text": [
            "Ты пишешь короткие отзывы жильцов управляющей компании. Пиши строго на русском. Пример отзыва:\n",
            "«все исправили. спасибо»\n",
            "\n",
            "Напиши 1 уникальный отзыв по смыслу, похожий на пример (1-2 предложений). Не копируй пример. Можно перефразировать, добавить детали, но отзыв должен быть уникальным.\n",
            "Ты пишешь короткие отзывы жильцов управляющей компании. Пиши строго на русском. Пример отзыва:\n",
            "«очень профессиональный компетентный сотрудник! вежливый и грамотный, помог решить все вопросы по заявке!»\n",
            "\n",
            "Напиши 1 уникальный отзыв по смыслу, похожий на пример (1-2 предложений). Не копируй пример. Можно перефразировать, добавить детали, но отзыв должен быть уникальным.\n"
          ]
        },
        {
          "name": "stderr",
          "output_type": "stream",
          "text": [
            "Генерируем синтетику:  68%|██████▊   | 903/1335 [03:51<01:54,  3.79it/s]"
          ]
        },
        {
          "name": "stdout",
          "output_type": "stream",
          "text": [
            "Ты пишешь короткие отзывы жильцов управляющей компании. Пиши строго на русском. Пример отзыва:\n",
            "«Все сделано оперативно, мастер Воронков Сергей сделал все быстро »\n",
            "\n",
            "Напиши 1 уникальный отзыв по смыслу, похожий на пример (1-2 предложений). Не копируй пример. Можно перефразировать, добавить детали, но отзыв должен быть уникальным.\n"
          ]
        },
        {
          "name": "stderr",
          "output_type": "stream",
          "text": [
            "Генерируем синтетику:  68%|██████▊   | 904/1335 [03:51<01:54,  3.78it/s]"
          ]
        },
        {
          "name": "stdout",
          "output_type": "stream",
          "text": [
            "Ты пишешь короткие отзывы жильцов управляющей компании. Пиши строго на русском. Пример отзыва:\n",
            "«мастер быстро отреагировал, сразу пришел , проблему решили»\n",
            "\n",
            "Напиши 1 уникальный отзыв по смыслу, похожий на пример (1-2 предложений). Не копируй пример. Можно перефразировать, добавить детали, но отзыв должен быть уникальным.\n"
          ]
        },
        {
          "name": "stderr",
          "output_type": "stream",
          "text": [
            "Генерируем синтетику:  68%|██████▊   | 905/1335 [03:51<01:50,  3.90it/s]"
          ]
        },
        {
          "name": "stdout",
          "output_type": "stream",
          "text": [
            "Ты пишешь короткие отзывы жильцов управляющей компании. Пиши строго на русском. Пример отзыва:\n",
            "«спасибо большое электрику  :folded_hands: »\n",
            "\n",
            "Если в примере есть код эмодзи вида :smile:, то сохрани стиль — вставь похожий код эмодзи.\n",
            "\n",
            "Напиши 1 уникальный отзыв по смыслу, похожий на пример (1-2 предложений). Не копируй пример. Можно перефразировать, добавить детали, но отзыв должен быть уникальным.\n"
          ]
        },
        {
          "name": "stderr",
          "output_type": "stream",
          "text": [
            "Генерируем синтетику:  68%|██████▊   | 906/1335 [03:51<01:46,  4.04it/s]"
          ]
        },
        {
          "name": "stdout",
          "output_type": "stream",
          "text": [
            "Ты пишешь короткие отзывы жильцов управляющей компании. Пиши строго на русском. Пример отзыва:\n",
            "«сотрудники работают на 5+ ! мгновенно обрабатываются заявки, ответ поступает сразу и всё решается.отличный сервис, очень приятно)»\n",
            "\n",
            "Напиши 1 уникальный отзыв по смыслу, похожий на пример (1-2 предложений). Не копируй пример. Можно перефразировать, добавить детали, но отзыв должен быть уникальным.\n"
          ]
        },
        {
          "name": "stderr",
          "output_type": "stream",
          "text": [
            "Генерируем синтетику:  68%|██████▊   | 907/1335 [03:52<01:52,  3.81it/s]"
          ]
        },
        {
          "name": "stdout",
          "output_type": "stream",
          "text": [
            "Ты пишешь короткие отзывы жильцов управляющей компании. Пиши строго на русском. Пример отзыва:\n",
            "«очень хороший мастер, знает свое дело»\n",
            "\n",
            "Напиши 1 уникальный отзыв по смыслу, похожий на пример (1-2 предложений). Не копируй пример. Можно перефразировать, добавить детали, но отзыв должен быть уникальным.\n"
          ]
        },
        {
          "name": "stderr",
          "output_type": "stream",
          "text": [
            "Генерируем синтетику:  68%|██████▊   | 909/1335 [03:52<01:44,  4.08it/s]"
          ]
        },
        {
          "name": "stdout",
          "output_type": "stream",
          "text": [
            "Ты пишешь короткие отзывы жильцов управляющей компании. Пиши строго на русском. Пример отзыва:\n",
            "«большое вам спасибо :)»\n",
            "\n",
            "Напиши 1 уникальный отзыв по смыслу, похожий на пример (1-2 предложений). Не копируй пример. Можно перефразировать, добавить детали, но отзыв должен быть уникальным.\n",
            "Ты пишешь короткие отзывы жильцов управляющей компании. Пиши строго на русском. Пример отзыва:\n",
            "«мастер молодец  :thumbs_up: »\n",
            "\n",
            "Если в примере есть код эмодзи вида :smile:, то сохрани стиль — вставь похожий код эмодзи.\n",
            "\n",
            "Напиши 1 уникальный отзыв по смыслу, похожий на пример (1-2 предложений). Не копируй пример. Можно перефразировать, добавить детали, но отзыв должен быть уникальным.\n"
          ]
        },
        {
          "name": "stderr",
          "output_type": "stream",
          "text": [
            "Генерируем синтетику:  68%|██████▊   | 910/1335 [03:52<01:46,  4.00it/s]"
          ]
        },
        {
          "name": "stdout",
          "output_type": "stream",
          "text": [
            "Ты пишешь короткие отзывы жильцов управляющей компании. Пиши строго на русском. Пример отзыва:\n",
            "« большое спасибо! \n",
            "\n",
            "»\n",
            "\n",
            "Напиши 1 уникальный отзыв по смыслу, похожий на пример (1-2 предложений). Не копируй пример. Можно перефразировать, добавить детали, но отзыв должен быть уникальным.\n"
          ]
        },
        {
          "name": "stderr",
          "output_type": "stream",
          "text": [
            "Генерируем синтетику:  68%|██████▊   | 911/1335 [03:53<01:44,  4.07it/s]"
          ]
        },
        {
          "name": "stdout",
          "output_type": "stream",
          "text": [
            "Ты пишешь короткие отзывы жильцов управляющей компании. Пиши строго на русском. Пример отзыва:\n",
            "«Огромное спасибо Сергею»\n",
            "\n",
            "Напиши 1 уникальный отзыв по смыслу, похожий на пример (1-2 предложений). Не копируй пример. Можно перефразировать, добавить детали, но отзыв должен быть уникальным.\n"
          ]
        },
        {
          "name": "stderr",
          "output_type": "stream",
          "text": [
            "Генерируем синтетику:  68%|██████▊   | 912/1335 [03:53<01:43,  4.11it/s]"
          ]
        },
        {
          "name": "stdout",
          "output_type": "stream",
          "text": [
            "Ты пишешь короткие отзывы жильцов управляющей компании. Пиши строго на русском. Пример отзыва:\n",
            "«быстро, оперативно. спасибо!»\n",
            "\n",
            "Напиши 1 уникальный отзыв по смыслу, похожий на пример (1-2 предложений). Не копируй пример. Можно перефразировать, добавить детали, но отзыв должен быть уникальным.\n"
          ]
        },
        {
          "name": "stderr",
          "output_type": "stream",
          "text": [
            "Генерируем синтетику:  68%|██████▊   | 914/1335 [03:53<01:36,  4.36it/s]"
          ]
        },
        {
          "name": "stdout",
          "output_type": "stream",
          "text": [
            "Ты пишешь короткие отзывы жильцов управляющей компании. Пиши строго на русском. Пример отзыва:\n",
            "«спасибо, заявка выполнена.»\n",
            "\n",
            "Напиши 1 уникальный отзыв по смыслу, похожий на пример (1-2 предложений). Не копируй пример. Можно перефразировать, добавить детали, но отзыв должен быть уникальным.\n",
            "Ты пишешь короткие отзывы жильцов управляющей компании. Пиши строго на русском. Пример отзыва:\n",
            "«оперативно,  качественно! спасибо!»\n",
            "\n",
            "Напиши 1 уникальный отзыв по смыслу, похожий на пример (1-2 предложений). Не копируй пример. Можно перефразировать, добавить детали, но отзыв должен быть уникальным.\n"
          ]
        },
        {
          "name": "stderr",
          "output_type": "stream",
          "text": [
            "Генерируем синтетику:  69%|██████▊   | 915/1335 [03:54<01:35,  4.40it/s]"
          ]
        },
        {
          "name": "stdout",
          "output_type": "stream",
          "text": [
            "Ты пишешь короткие отзывы жильцов управляющей компании. Пиши строго на русском. Пример отзыва:\n",
            "«Оперативно исправили неполадку. Спасибо! »\n",
            "\n",
            "Напиши 1 уникальный отзыв по смыслу, похожий на пример (1-2 предложений). Не копируй пример. Можно перефразировать, добавить детали, но отзыв должен быть уникальным.\n"
          ]
        },
        {
          "name": "stderr",
          "output_type": "stream",
          "text": [
            "Генерируем синтетику:  69%|██████▊   | 916/1335 [03:54<01:36,  4.33it/s]"
          ]
        },
        {
          "name": "stdout",
          "output_type": "stream",
          "text": [
            "Ты пишешь короткие отзывы жильцов управляющей компании. Пиши строго на русском. Пример отзыва:\n",
            "«молодцы, быстро»\n",
            "\n",
            "Напиши 1 уникальный отзыв по смыслу, похожий на пример (1-2 предложений). Не копируй пример. Можно перефразировать, добавить детали, но отзыв должен быть уникальным.\n"
          ]
        },
        {
          "name": "stderr",
          "output_type": "stream",
          "text": [
            "Генерируем синтетику:  69%|██████▊   | 917/1335 [03:54<01:40,  4.15it/s]"
          ]
        },
        {
          "name": "stdout",
          "output_type": "stream",
          "text": [
            "Ты пишешь короткие отзывы жильцов управляющей компании. Пиши строго на русском. Пример отзыва:\n",
            "«огромное спасибо антону за проделанную работу. все четко, аккуратно! выпишите сотруднику премию за ответственное отношение к работе!»\n",
            "\n",
            "Напиши 1 уникальный отзыв по смыслу, похожий на пример (1-2 предложений). Не копируй пример. Можно перефразировать, добавить детали, но отзыв должен быть уникальным.\n"
          ]
        },
        {
          "name": "stderr",
          "output_type": "stream",
          "text": [
            "Генерируем синтетику:  69%|██████▉   | 918/1335 [03:54<01:57,  3.56it/s]"
          ]
        },
        {
          "name": "stdout",
          "output_type": "stream",
          "text": [
            "Ты пишешь короткие отзывы жильцов управляющей компании. Пиши строго на русском. Пример отзыва:\n",
            "«Благодарю за помощь!»\n",
            "\n",
            "Напиши 1 уникальный отзыв по смыслу, похожий на пример (1-2 предложений). Не копируй пример. Можно перефразировать, добавить детали, но отзыв должен быть уникальным.\n"
          ]
        },
        {
          "name": "stderr",
          "output_type": "stream",
          "text": [
            "Генерируем синтетику:  69%|██████▉   | 919/1335 [03:55<01:48,  3.84it/s]"
          ]
        },
        {
          "name": "stdout",
          "output_type": "stream",
          "text": [
            "Ты пишешь короткие отзывы жильцов управляющей компании. Пиши строго на русском. Пример отзыва:\n",
            "«Спасибо сотруднику ук Никита, благодаря ему нам нормально  помыли  этаж, спасибо большое»\n",
            "\n",
            "Напиши 1 уникальный отзыв по смыслу, похожий на пример (1-2 предложений). Не копируй пример. Можно перефразировать, добавить детали, но отзыв должен быть уникальным.\n"
          ]
        },
        {
          "name": "stderr",
          "output_type": "stream",
          "text": [
            "Генерируем синтетику:  69%|██████▉   | 920/1335 [03:55<01:43,  4.00it/s]"
          ]
        },
        {
          "name": "stdout",
          "output_type": "stream",
          "text": [
            "Ты пишешь короткие отзывы жильцов управляющей компании. Пиши строго на русском. Пример отзыва:\n",
            "«спасибо большое работу»\n",
            "\n",
            "Напиши 1 уникальный отзыв по смыслу, похожий на пример (1-2 предложений). Не копируй пример. Можно перефразировать, добавить детали, но отзыв должен быть уникальным.\n"
          ]
        },
        {
          "name": "stderr",
          "output_type": "stream",
          "text": [
            "Генерируем синтетику:  69%|██████▉   | 921/1335 [03:55<01:39,  4.16it/s]"
          ]
        },
        {
          "name": "stdout",
          "output_type": "stream",
          "text": [
            "Ты пишешь короткие отзывы жильцов управляющей компании. Пиши строго на русском. Пример отзыва:\n",
            "«огромное спасибо за помощь  :folded_hands: »\n",
            "\n",
            "Если в примере есть код эмодзи вида :smile:, то сохрани стиль — вставь похожий код эмодзи.\n",
            "\n",
            "Напиши 1 уникальный отзыв по смыслу, похожий на пример (1-2 предложений). Не копируй пример. Можно перефразировать, добавить детали, но отзыв должен быть уникальным.\n"
          ]
        },
        {
          "name": "stderr",
          "output_type": "stream",
          "text": [
            "Генерируем синтетику:  69%|██████▉   | 923/1335 [03:55<01:29,  4.59it/s]"
          ]
        },
        {
          "name": "stdout",
          "output_type": "stream",
          "text": [
            "Ты пишешь короткие отзывы жильцов управляющей компании. Пиши строго на русском. Пример отзыва:\n",
            "«большое спасибо!!!!»\n",
            "\n",
            "Напиши 1 уникальный отзыв по смыслу, похожий на пример (1-2 предложений). Не копируй пример. Можно перефразировать, добавить детали, но отзыв должен быть уникальным.\n",
            "Ты пишешь короткие отзывы жильцов управляющей компании. Пиши строго на русском. Пример отзыва:\n",
            "«все отлично»\n",
            "\n",
            "Напиши 1 уникальный отзыв по смыслу, похожий на пример (1-2 предложений). Не копируй пример. Можно перефразировать, добавить детали, но отзыв должен быть уникальным.\n"
          ]
        },
        {
          "name": "stderr",
          "output_type": "stream",
          "text": [
            "Генерируем синтетику:  69%|██████▉   | 924/1335 [03:56<01:28,  4.64it/s]"
          ]
        },
        {
          "name": "stdout",
          "output_type": "stream",
          "text": [
            "Ты пишешь короткие отзывы жильцов управляющей компании. Пиши строго на русском. Пример отзыва:\n",
            "«Шикарный специалист. Спасибо за отличную работу и скорость»\n",
            "\n",
            "Напиши 1 уникальный отзыв по смыслу, похожий на пример (1-2 предложений). Не копируй пример. Можно перефразировать, добавить детали, но отзыв должен быть уникальным.\n"
          ]
        },
        {
          "name": "stderr",
          "output_type": "stream",
          "text": [
            "Генерируем синтетику:  69%|██████▉   | 925/1335 [03:56<01:36,  4.24it/s]"
          ]
        },
        {
          "name": "stdout",
          "output_type": "stream",
          "text": [
            "Ты пишешь короткие отзывы жильцов управляющей компании. Пиши строго на русском. Пример отзыва:\n",
            "«выяснили причину , пришел отличный мастер , сделал все за 2 минуты  :heart_hands: »\n",
            "\n",
            "Если в примере есть код эмодзи вида :smile:, то сохрани стиль — вставь похожий код эмодзи.\n",
            "\n",
            "Напиши 1 уникальный отзыв по смыслу, похожий на пример (1-2 предложений). Не копируй пример. Можно перефразировать, добавить детали, но отзыв должен быть уникальным.\n"
          ]
        },
        {
          "name": "stderr",
          "output_type": "stream",
          "text": [
            "Генерируем синтетику:  69%|██████▉   | 927/1335 [03:56<01:35,  4.27it/s]"
          ]
        },
        {
          "name": "stdout",
          "output_type": "stream",
          "text": [
            "Ты пишешь короткие отзывы жильцов управляющей компании. Пиши строго на русском. Пример отзыва:\n",
            "«спасибо за быстроту»\n",
            "\n",
            "Напиши 1 уникальный отзыв по смыслу, похожий на пример (1-2 предложений). Не копируй пример. Можно перефразировать, добавить детали, но отзыв должен быть уникальным.\n",
            "Ты пишешь короткие отзывы жильцов управляющей компании. Пиши строго на русском. Пример отзыва:\n",
            "«Отличный сотрудник »\n",
            "\n",
            "Напиши 1 уникальный отзыв по смыслу, похожий на пример (1-2 предложений). Не копируй пример. Можно перефразировать, добавить детали, но отзыв должен быть уникальным.\n"
          ]
        },
        {
          "name": "stderr",
          "output_type": "stream",
          "text": [
            "Генерируем синтетику:  70%|██████▉   | 928/1335 [03:57<01:48,  3.75it/s]"
          ]
        },
        {
          "name": "stdout",
          "output_type": "stream",
          "text": [
            "Ты пишешь короткие отзывы жильцов управляющей компании. Пиши строго на русском. Пример отзыва:\n",
            "«супербыстро. спасибо»\n",
            "\n",
            "Напиши 1 уникальный отзыв по смыслу, похожий на пример (1-2 предложений). Не копируй пример. Можно перефразировать, добавить детали, но отзыв должен быть уникальным.\n"
          ]
        },
        {
          "name": "stderr",
          "output_type": "stream",
          "text": [
            "Генерируем синтетику:  70%|██████▉   | 929/1335 [03:57<01:43,  3.93it/s]"
          ]
        },
        {
          "name": "stdout",
          "output_type": "stream",
          "text": [
            "Ты пишешь короткие отзывы жильцов управляющей компании. Пиши строго на русском. Пример отзыва:\n",
            "«всё прошло отлично, заранее позвонил предупредил о приходе, сделал всё быстро, вежливый, разулся хотя я говорил что не нужно у нас пыльно. Спасибо.»\n",
            "\n",
            "Напиши 1 уникальный отзыв по смыслу, похожий на пример (1-2 предложений). Не копируй пример. Можно перефразировать, добавить детали, но отзыв должен быть уникальным.\n"
          ]
        },
        {
          "name": "stderr",
          "output_type": "stream",
          "text": [
            "Генерируем синтетику:  70%|██████▉   | 930/1335 [03:57<01:54,  3.55it/s]"
          ]
        },
        {
          "name": "stdout",
          "output_type": "stream",
          "text": [
            "Ты пишешь короткие отзывы жильцов управляющей компании. Пиши строго на русском. Пример отзыва:\n",
            "«Спасибо за выписки. Счет на эту сумму когда подкрепят в приложение?»\n",
            "\n",
            "Напиши 1 уникальный отзыв по смыслу, похожий на пример (1-2 предложений). Не копируй пример. Можно перефразировать, добавить детали, но отзыв должен быть уникальным.\n"
          ]
        },
        {
          "name": "stderr",
          "output_type": "stream",
          "text": [
            "Генерируем синтетику:  70%|██████▉   | 931/1335 [03:58<01:56,  3.48it/s]"
          ]
        },
        {
          "name": "stdout",
          "output_type": "stream",
          "text": [
            "Ты пишешь короткие отзывы жильцов управляющей компании. Пиши строго на русском. Пример отзыва:\n",
            "«Спасибо !!!!все супер »\n",
            "\n",
            "Напиши 1 уникальный отзыв по смыслу, похожий на пример (1-2 предложений). Не копируй пример. Можно перефразировать, добавить детали, но отзыв должен быть уникальным.\n"
          ]
        },
        {
          "name": "stderr",
          "output_type": "stream",
          "text": [
            "Генерируем синтетику:  70%|██████▉   | 933/1335 [03:58<01:42,  3.93it/s]"
          ]
        },
        {
          "name": "stdout",
          "output_type": "stream",
          "text": [
            "Ты пишешь короткие отзывы жильцов управляющей компании. Пиши строго на русском. Пример отзыва:\n",
            "«все работает,спасибо»\n",
            "\n",
            "Напиши 1 уникальный отзыв по смыслу, похожий на пример (1-2 предложений). Не копируй пример. Можно перефразировать, добавить детали, но отзыв должен быть уникальным.\n",
            "Ты пишешь короткие отзывы жильцов управляющей компании. Пиши строго на русском. Пример отзыва:\n",
            "«профессионал. все решили.»\n",
            "\n",
            "Напиши 1 уникальный отзыв по смыслу, похожий на пример (1-2 предложений). Не копируй пример. Можно перефразировать, добавить детали, но отзыв должен быть уникальным.\n"
          ]
        },
        {
          "name": "stderr",
          "output_type": "stream",
          "text": [
            "Генерируем синтетику:  70%|██████▉   | 934/1335 [03:58<01:41,  3.95it/s]"
          ]
        },
        {
          "name": "stdout",
          "output_type": "stream",
          "text": [
            "Ты пишешь короткие отзывы жильцов управляющей компании. Пиши строго на русском. Пример отзыва:\n",
            "«кирилл, спасибо! позвонили, разъяснили, что нет таких ограничении у нас.»\n",
            "\n",
            "Напиши 1 уникальный отзыв по смыслу, похожий на пример (1-2 предложений). Не копируй пример. Можно перефразировать, добавить детали, но отзыв должен быть уникальным.\n"
          ]
        },
        {
          "name": "stderr",
          "output_type": "stream",
          "text": [
            "Генерируем синтетику:  70%|███████   | 935/1335 [03:59<01:48,  3.67it/s]"
          ]
        },
        {
          "name": "stdout",
          "output_type": "stream",
          "text": [
            "Ты пишешь короткие отзывы жильцов управляющей компании. Пиши строго на русском. Пример отзыва:\n",
            "«оценка за оперативность — отлично, за уборку — хорошо. спасибо!»\n",
            "\n",
            "Напиши 1 уникальный отзыв по смыслу, похожий на пример (1-2 предложений). Не копируй пример. Можно перефразировать, добавить детали, но отзыв должен быть уникальным.\n"
          ]
        },
        {
          "name": "stderr",
          "output_type": "stream",
          "text": [
            "Генерируем синтетику:  70%|███████   | 936/1335 [03:59<01:53,  3.50it/s]"
          ]
        },
        {
          "name": "stdout",
          "output_type": "stream",
          "text": [
            "Ты пишешь короткие отзывы жильцов управляющей компании. Пиши строго на русском. Пример отзыва:\n",
            "«спасибо за оперативное решение проблемы. »\n",
            "\n",
            "Напиши 1 уникальный отзыв по смыслу, похожий на пример (1-2 предложений). Не копируй пример. Можно перефразировать, добавить детали, но отзыв должен быть уникальным.\n"
          ]
        },
        {
          "name": "stderr",
          "output_type": "stream",
          "text": [
            "Генерируем синтетику:  70%|███████   | 938/1335 [03:59<01:39,  4.01it/s]"
          ]
        },
        {
          "name": "stdout",
          "output_type": "stream",
          "text": [
            "Ты пишешь короткие отзывы жильцов управляющей компании. Пиши строго на русском. Пример отзыва:\n",
            "«благодарю за выполненную работу.быстро и качественно»\n",
            "\n",
            "Напиши 1 уникальный отзыв по смыслу, похожий на пример (1-2 предложений). Не копируй пример. Можно перефразировать, добавить детали, но отзыв должен быть уникальным.\n",
            "Ты пишешь короткие отзывы жильцов управляющей компании. Пиши строго на русском. Пример отзыва:\n",
            "«большое спасибо очень быстро исправили»\n",
            "\n",
            "Напиши 1 уникальный отзыв по смыслу, похожий на пример (1-2 предложений). Не копируй пример. Можно перефразировать, добавить детали, но отзыв должен быть уникальным.\n"
          ]
        },
        {
          "name": "stderr",
          "output_type": "stream",
          "text": [
            "Генерируем синтетику:  70%|███████   | 939/1335 [04:00<01:35,  4.14it/s]"
          ]
        },
        {
          "name": "stdout",
          "output_type": "stream",
          "text": [
            "Ты пишешь короткие отзывы жильцов управляющей компании. Пиши строго на русском. Пример отзыва:\n",
            "«приятно удивлена. вопрос решился менее чем за сутки! спасибо, так красиво теперь и ничего не отравляет воздух и не портит вид!!»\n",
            "\n",
            "Напиши 1 уникальный отзыв по смыслу, похожий на пример (1-2 предложений). Не копируй пример. Можно перефразировать, добавить детали, но отзыв должен быть уникальным.\n"
          ]
        },
        {
          "name": "stderr",
          "output_type": "stream",
          "text": [
            "Генерируем синтетику:  70%|███████   | 940/1335 [04:00<01:47,  3.68it/s]"
          ]
        },
        {
          "name": "stdout",
          "output_type": "stream",
          "text": [
            "Ты пишешь короткие отзывы жильцов управляющей компании. Пиши строго на русском. Пример отзыва:\n",
            "«быстро прислали код.\n",
            "единственное что смущает  коды легкие слишком.»\n",
            "\n",
            "Напиши 1 уникальный отзыв по смыслу, похожий на пример (1-2 предложений). Не копируй пример. Можно перефразировать, добавить детали, но отзыв должен быть уникальным.\n"
          ]
        },
        {
          "name": "stderr",
          "output_type": "stream",
          "text": [
            "Генерируем синтетику:  70%|███████   | 941/1335 [04:00<01:45,  3.73it/s]"
          ]
        },
        {
          "name": "stdout",
          "output_type": "stream",
          "text": [
            "Ты пишешь короткие отзывы жильцов управляющей компании. Пиши строго на русском. Пример отзыва:\n",
            "«спасибо, очень быстро!»\n",
            "\n",
            "Напиши 1 уникальный отзыв по смыслу, похожий на пример (1-2 предложений). Не копируй пример. Можно перефразировать, добавить детали, но отзыв должен быть уникальным.\n"
          ]
        },
        {
          "name": "stderr",
          "output_type": "stream",
          "text": [
            "Генерируем синтетику:  71%|███████   | 942/1335 [04:00<01:39,  3.94it/s]"
          ]
        },
        {
          "name": "stdout",
          "output_type": "stream",
          "text": [
            "Ты пишешь короткие отзывы жильцов управляющей компании. Пиши строго на русском. Пример отзыва:\n",
            "«всё сделано хорошо»\n",
            "\n",
            "Напиши 1 уникальный отзыв по смыслу, похожий на пример (1-2 предложений). Не копируй пример. Можно перефразировать, добавить детали, но отзыв должен быть уникальным.\n"
          ]
        },
        {
          "name": "stderr",
          "output_type": "stream",
          "text": [
            "Генерируем синтетику:  71%|███████   | 944/1335 [04:01<01:27,  4.48it/s]"
          ]
        },
        {
          "name": "stdout",
          "output_type": "stream",
          "text": [
            "Ты пишешь короткие отзывы жильцов управляющей компании. Пиши строго на русском. Пример отзыва:\n",
            "«К мастеру вопросов нет.  »\n",
            "\n",
            "Напиши 1 уникальный отзыв по смыслу, похожий на пример (1-2 предложений). Не копируй пример. Можно перефразировать, добавить детали, но отзыв должен быть уникальным.\n",
            "Ты пишешь короткие отзывы жильцов управляющей компании. Пиши строго на русском. Пример отзыва:\n",
            "«мастер  оперативно нашел причину протечки»\n",
            "\n",
            "Напиши 1 уникальный отзыв по смыслу, похожий на пример (1-2 предложений). Не копируй пример. Можно перефразировать, добавить детали, но отзыв должен быть уникальным.\n"
          ]
        },
        {
          "name": "stderr",
          "output_type": "stream",
          "text": [
            "Генерируем синтетику:  71%|███████   | 945/1335 [04:01<01:28,  4.39it/s]"
          ]
        },
        {
          "name": "stdout",
          "output_type": "stream",
          "text": [
            "Ты пишешь короткие отзывы жильцов управляющей компании. Пиши строго на русском. Пример отзыва:\n",
            "«Очень быстро все сделали!!!!»\n",
            "\n",
            "Напиши 1 уникальный отзыв по смыслу, похожий на пример (1-2 предложений). Не копируй пример. Можно перефразировать, добавить детали, но отзыв должен быть уникальным.\n"
          ]
        },
        {
          "name": "stderr",
          "output_type": "stream",
          "text": [
            "Генерируем синтетику:  71%|███████   | 946/1335 [04:01<01:26,  4.50it/s]"
          ]
        },
        {
          "name": "stdout",
          "output_type": "stream",
          "text": [
            "Ты пишешь короткие отзывы жильцов управляющей компании. Пиши строго на русском. Пример отзыва:\n",
            "«спасибо за ответ!»\n",
            "\n",
            "Напиши 1 уникальный отзыв по смыслу, похожий на пример (1-2 предложений). Не копируй пример. Можно перефразировать, добавить детали, но отзыв должен быть уникальным.\n"
          ]
        },
        {
          "name": "stderr",
          "output_type": "stream",
          "text": [
            "Генерируем синтетику:  71%|███████   | 947/1335 [04:02<01:24,  4.58it/s]"
          ]
        },
        {
          "name": "stdout",
          "output_type": "stream",
          "text": [
            "Ты пишешь короткие отзывы жильцов управляющей компании. Пиши строго на русском. Пример отзыва:\n",
            "«все ок, спасибо»\n",
            "\n",
            "Напиши 1 уникальный отзыв по смыслу, похожий на пример (1-2 предложений). Не копируй пример. Можно перефразировать, добавить детали, но отзыв должен быть уникальным.\n"
          ]
        },
        {
          "name": "stderr",
          "output_type": "stream",
          "text": [
            "Генерируем синтетику:  71%|███████   | 948/1335 [04:02<01:23,  4.64it/s]"
          ]
        },
        {
          "name": "stdout",
          "output_type": "stream",
          "text": [
            "Ты пишешь короткие отзывы жильцов управляющей компании. Пиши строго на русском. Пример отзыва:\n",
            "«Спасибо большое мастеру, все починил, объяснил! »\n",
            "\n",
            "Напиши 1 уникальный отзыв по смыслу, похожий на пример (1-2 предложений). Не копируй пример. Можно перефразировать, добавить детали, но отзыв должен быть уникальным.\n"
          ]
        },
        {
          "name": "stderr",
          "output_type": "stream",
          "text": [
            "Генерируем синтетику:  71%|███████   | 949/1335 [04:02<01:32,  4.19it/s]"
          ]
        },
        {
          "name": "stdout",
          "output_type": "stream",
          "text": [
            "Ты пишешь короткие отзывы жильцов управляющей компании. Пиши строго на русском. Пример отзыва:\n",
            "«спасибо большое. оперативно устранили течь по стояку в ванной.»\n",
            "\n",
            "Напиши 1 уникальный отзыв по смыслу, похожий на пример (1-2 предложений). Не копируй пример. Можно перефразировать, добавить детали, но отзыв должен быть уникальным.\n"
          ]
        },
        {
          "name": "stderr",
          "output_type": "stream",
          "text": [
            "Генерируем синтетику:  71%|███████   | 950/1335 [04:02<01:33,  4.13it/s]"
          ]
        },
        {
          "name": "stdout",
          "output_type": "stream",
          "text": [
            "Ты пишешь короткие отзывы жильцов управляющей компании. Пиши строго на русском. Пример отзыва:\n",
            "«очень оперативно. спасибо!»\n",
            "\n",
            "Напиши 1 уникальный отзыв по смыслу, похожий на пример (1-2 предложений). Не копируй пример. Можно перефразировать, добавить детали, но отзыв должен быть уникальным.\n"
          ]
        },
        {
          "name": "stderr",
          "output_type": "stream",
          "text": [
            "Генерируем синтетику:  71%|███████   | 951/1335 [04:02<01:28,  4.34it/s]"
          ]
        },
        {
          "name": "stdout",
          "output_type": "stream",
          "text": [
            "Ты пишешь короткие отзывы жильцов управляющей компании. Пиши строго на русском. Пример отзыва:\n",
            "«Спасибо Александру за профессионализм и быструю работу. »\n",
            "\n",
            "Напиши 1 уникальный отзыв по смыслу, похожий на пример (1-2 предложений). Не копируй пример. Можно перефразировать, добавить детали, но отзыв должен быть уникальным.\n"
          ]
        },
        {
          "name": "stderr",
          "output_type": "stream",
          "text": [
            "Генерируем синтетику:  71%|███████▏  | 952/1335 [04:03<01:30,  4.21it/s]"
          ]
        },
        {
          "name": "stdout",
          "output_type": "stream",
          "text": [
            "Ты пишешь короткие отзывы жильцов управляющей компании. Пиши строго на русском. Пример отзыва:\n",
            "«спасибо за обратную связь!»\n",
            "\n",
            "Напиши 1 уникальный отзыв по смыслу, похожий на пример (1-2 предложений). Не копируй пример. Можно перефразировать, добавить детали, но отзыв должен быть уникальным.\n"
          ]
        },
        {
          "name": "stderr",
          "output_type": "stream",
          "text": [
            "Генерируем синтетику:  71%|███████▏  | 953/1335 [04:03<01:27,  4.37it/s]"
          ]
        },
        {
          "name": "stdout",
          "output_type": "stream",
          "text": [
            "Ты пишешь короткие отзывы жильцов управляющей компании. Пиши строго на русском. Пример отзыва:\n",
            "«Работа мастера, выполнена отлично! Проблема решилась только при личном визите в УК»\n",
            "\n",
            "Напиши 1 уникальный отзыв по смыслу, похожий на пример (1-2 предложений). Не копируй пример. Можно перефразировать, добавить детали, но отзыв должен быть уникальным.\n"
          ]
        },
        {
          "name": "stderr",
          "output_type": "stream",
          "text": [
            "Генерируем синтетику:  71%|███████▏  | 954/1335 [04:03<01:40,  3.79it/s]"
          ]
        },
        {
          "name": "stdout",
          "output_type": "stream",
          "text": [
            "Ты пишешь короткие отзывы жильцов управляющей компании. Пиши строго на русском. Пример отзыва:\n",
            "«Молодцы, очень оперативно!!!!! Прям минус одна головная боль »\n",
            "\n",
            "Напиши 1 уникальный отзыв по смыслу, похожий на пример (1-2 предложений). Не копируй пример. Можно перефразировать, добавить детали, но отзыв должен быть уникальным.\n"
          ]
        },
        {
          "name": "stderr",
          "output_type": "stream",
          "text": [
            "Генерируем синтетику:  72%|███████▏  | 955/1335 [04:04<01:41,  3.76it/s]"
          ]
        },
        {
          "name": "stdout",
          "output_type": "stream",
          "text": [
            "Ты пишешь короткие отзывы жильцов управляющей компании. Пиши строго на русском. Пример отзыва:\n",
            "«по существу. оперативно. молодцы»\n",
            "\n",
            "Напиши 1 уникальный отзыв по смыслу, похожий на пример (1-2 предложений). Не копируй пример. Можно перефразировать, добавить детали, но отзыв должен быть уникальным.\n"
          ]
        },
        {
          "name": "stderr",
          "output_type": "stream",
          "text": [
            "Генерируем синтетику:  72%|███████▏  | 956/1335 [04:04<01:35,  3.95it/s]"
          ]
        },
        {
          "name": "stdout",
          "output_type": "stream",
          "text": [
            "Ты пишешь короткие отзывы жильцов управляющей компании. Пиши строго на русском. Пример отзыва:\n",
            "«пришел с вопросом, девушка все рассказала, показала как сделать, вопрос решился за 5 минут. спасибо»\n",
            "\n",
            "Напиши 1 уникальный отзыв по смыслу, похожий на пример (1-2 предложений). Не копируй пример. Можно перефразировать, добавить детали, но отзыв должен быть уникальным.\n"
          ]
        },
        {
          "name": "stderr",
          "output_type": "stream",
          "text": [
            "Генерируем синтетику:  72%|███████▏  | 957/1335 [04:04<01:37,  3.86it/s]"
          ]
        },
        {
          "name": "stdout",
          "output_type": "stream",
          "text": [
            "Ты пишешь короткие отзывы жильцов управляющей компании. Пиши строго на русском. Пример отзыва:\n",
            "«Спасибо, Валерию! Все исправил, теперь дома тишина и спокойствие :smiling_face: ️»\n",
            "\n",
            "Если в примере есть код эмодзи вида :smile:, то сохрани стиль — вставь похожий код эмодзи.\n",
            "\n",
            "Напиши 1 уникальный отзыв по смыслу, похожий на пример (1-2 предложений). Не копируй пример. Можно перефразировать, добавить детали, но отзыв должен быть уникальным.\n"
          ]
        },
        {
          "name": "stderr",
          "output_type": "stream",
          "text": [
            "Генерируем синтетику:  72%|███████▏  | 958/1335 [04:04<01:41,  3.70it/s]"
          ]
        },
        {
          "name": "stdout",
          "output_type": "stream",
          "text": [
            "Ты пишешь короткие отзывы жильцов управляющей компании. Пиши строго на русском. Пример отзыва:\n",
            "«Надолго ли»\n",
            "\n",
            "Напиши 1 уникальный отзыв по смыслу, похожий на пример (1-2 предложений). Не копируй пример. Можно перефразировать, добавить детали, но отзыв должен быть уникальным.\n"
          ]
        },
        {
          "name": "stderr",
          "output_type": "stream",
          "text": [
            "Генерируем синтетику:  72%|███████▏  | 959/1335 [04:05<01:37,  3.86it/s]"
          ]
        },
        {
          "name": "stdout",
          "output_type": "stream",
          "text": [
            "Ты пишешь короткие отзывы жильцов управляющей компании. Пиши строго на русском. Пример отзыва:\n",
            "«благодарю за оперативный ответ со стороны сотрудников расчётно - платёжного отдела.»\n",
            "\n",
            "Напиши 1 уникальный отзыв по смыслу, похожий на пример (1-2 предложений). Не копируй пример. Можно перефразировать, добавить детали, но отзыв должен быть уникальным.\n"
          ]
        },
        {
          "name": "stderr",
          "output_type": "stream",
          "text": [
            "Генерируем синтетику:  72%|███████▏  | 960/1335 [04:05<01:31,  4.08it/s]"
          ]
        },
        {
          "name": "stdout",
          "output_type": "stream",
          "text": [
            "Ты пишешь короткие отзывы жильцов управляющей компании. Пиши строго на русском. Пример отзыва:\n",
            "«Все отлично! Специалист пришёл через 30 минут после заявки. Все оперативно починил. »\n",
            "\n",
            "Напиши 1 уникальный отзыв по смыслу, похожий на пример (1-2 предложений). Не копируй пример. Можно перефразировать, добавить детали, но отзыв должен быть уникальным.\n"
          ]
        },
        {
          "name": "stderr",
          "output_type": "stream",
          "text": [
            "Генерируем синтетику:  72%|███████▏  | 961/1335 [04:05<01:38,  3.81it/s]"
          ]
        },
        {
          "name": "stdout",
          "output_type": "stream",
          "text": [
            "Ты пишешь короткие отзывы жильцов управляющей компании. Пиши строго на русском. Пример отзыва:\n",
            "«да, спасибо! дверь починили.»\n",
            "\n",
            "Напиши 1 уникальный отзыв по смыслу, похожий на пример (1-2 предложений). Не копируй пример. Можно перефразировать, добавить детали, но отзыв должен быть уникальным.\n"
          ]
        },
        {
          "name": "stderr",
          "output_type": "stream",
          "text": [
            "Генерируем синтетику:  72%|███████▏  | 962/1335 [04:05<01:36,  3.89it/s]"
          ]
        },
        {
          "name": "stdout",
          "output_type": "stream",
          "text": [
            "Ты пишешь короткие отзывы жильцов управляющей компании. Пиши строго на русском. Пример отзыва:\n",
            "«отлично и быстро»\n",
            "\n",
            "Напиши 1 уникальный отзыв по смыслу, похожий на пример (1-2 предложений). Не копируй пример. Можно перефразировать, добавить детали, но отзыв должен быть уникальным.\n"
          ]
        },
        {
          "name": "stderr",
          "output_type": "stream",
          "text": [
            "Генерируем синтетику:  72%|███████▏  | 963/1335 [04:06<01:30,  4.12it/s]"
          ]
        },
        {
          "name": "stdout",
          "output_type": "stream",
          "text": [
            "Ты пишешь короткие отзывы жильцов управляющей компании. Пиши строго на русском. Пример отзыва:\n",
            "«отличный представитель. все рассказал и подсказал :thumbs_up:  :medium-light_skin_tone: »\n",
            "\n",
            "Если в примере есть код эмодзи вида :smile:, то сохрани стиль — вставь похожий код эмодзи.\n",
            "\n",
            "Напиши 1 уникальный отзыв по смыслу, похожий на пример (1-2 предложений). Не копируй пример. Можно перефразировать, добавить детали, но отзыв должен быть уникальным.\n"
          ]
        },
        {
          "name": "stderr",
          "output_type": "stream",
          "text": [
            "Генерируем синтетику:  72%|███████▏  | 964/1335 [04:06<01:33,  3.96it/s]"
          ]
        },
        {
          "name": "stdout",
          "output_type": "stream",
          "text": [
            "Ты пишешь короткие отзывы жильцов управляющей компании. Пиши строго на русском. Пример отзыва:\n",
            "«Дана консультация, жду решения»\n",
            "\n",
            "Напиши 1 уникальный отзыв по смыслу, похожий на пример (1-2 предложений). Не копируй пример. Можно перефразировать, добавить детали, но отзыв должен быть уникальным.\n"
          ]
        },
        {
          "name": "stderr",
          "output_type": "stream",
          "text": [
            "Генерируем синтетику:  72%|███████▏  | 965/1335 [04:06<01:28,  4.19it/s]"
          ]
        },
        {
          "name": "stdout",
          "output_type": "stream",
          "text": [
            "Ты пишешь короткие отзывы жильцов управляющей компании. Пиши строго на русском. Пример отзыва:\n",
            "«спасибо мастеру, починил всё быстро и профессионально,  поставил новый доводчик. дверь теперь закрывается, теплопотерь нет.»\n",
            "\n",
            "Напиши 1 уникальный отзыв по смыслу, похожий на пример (1-2 предложений). Не копируй пример. Можно перефразировать, добавить детали, но отзыв должен быть уникальным.\n"
          ]
        },
        {
          "name": "stderr",
          "output_type": "stream",
          "text": [
            "Генерируем синтетику:  72%|███████▏  | 966/1335 [04:06<01:41,  3.64it/s]"
          ]
        },
        {
          "name": "stdout",
          "output_type": "stream",
          "text": [
            "Ты пишешь короткие отзывы жильцов управляющей компании. Пиши строго на русском. Пример отзыва:\n",
            "«выполнена отлично!»\n",
            "\n",
            "Напиши 1 уникальный отзыв по смыслу, похожий на пример (1-2 предложений). Не копируй пример. Можно перефразировать, добавить детали, но отзыв должен быть уникальным.\n"
          ]
        },
        {
          "name": "stderr",
          "output_type": "stream",
          "text": [
            "Генерируем синтетику:  72%|███████▏  | 967/1335 [04:07<01:34,  3.89it/s]"
          ]
        },
        {
          "name": "stdout",
          "output_type": "stream",
          "text": [
            "Ты пишешь короткие отзывы жильцов управляющей компании. Пиши строго на русском. Пример отзыва:\n",
            "«Все быстро и оперативно. Спасибо »\n",
            "\n",
            "Напиши 1 уникальный отзыв по смыслу, похожий на пример (1-2 предложений). Не копируй пример. Можно перефразировать, добавить детали, но отзыв должен быть уникальным.\n"
          ]
        },
        {
          "name": "stderr",
          "output_type": "stream",
          "text": [
            "Генерируем синтетику:  73%|███████▎  | 968/1335 [04:07<01:28,  4.14it/s]"
          ]
        },
        {
          "name": "stdout",
          "output_type": "stream",
          "text": [
            "Ты пишешь короткие отзывы жильцов управляющей компании. Пиши строго на русском. Пример отзыва:\n",
            "«Супер!!!!»\n",
            "\n",
            "Напиши 1 уникальный отзыв по смыслу, похожий на пример (1-2 предложений). Не копируй пример. Можно перефразировать, добавить детали, но отзыв должен быть уникальным.\n"
          ]
        },
        {
          "name": "stderr",
          "output_type": "stream",
          "text": [
            "Генерируем синтетику:  73%|███████▎  | 969/1335 [04:07<01:24,  4.31it/s]"
          ]
        },
        {
          "name": "stdout",
          "output_type": "stream",
          "text": [
            "Ты пишешь короткие отзывы жильцов управляющей компании. Пиши строго на русском. Пример отзыва:\n",
            "«Благодарность мастеру, сделал быстро и качественно. Премию Ренату.  :handshake: »\n",
            "\n",
            "Если в примере есть код эмодзи вида :smile:, то сохрани стиль — вставь похожий код эмодзи.\n",
            "\n",
            "Напиши 1 уникальный отзыв по смыслу, похожий на пример (1-2 предложений). Не копируй пример. Можно перефразировать, добавить детали, но отзыв должен быть уникальным.\n"
          ]
        },
        {
          "name": "stderr",
          "output_type": "stream",
          "text": [
            "Генерируем синтетику:  73%|███████▎  | 971/1335 [04:08<01:22,  4.43it/s]"
          ]
        },
        {
          "name": "stdout",
          "output_type": "stream",
          "text": [
            "Ты пишешь короткие отзывы жильцов управляющей компании. Пиши строго на русском. Пример отзыва:\n",
            "«Очень оперативно. Спасибо большое »\n",
            "\n",
            "Напиши 1 уникальный отзыв по смыслу, похожий на пример (1-2 предложений). Не копируй пример. Можно перефразировать, добавить детали, но отзыв должен быть уникальным.\n",
            "Ты пишешь короткие отзывы жильцов управляющей компании. Пиши строго на русском. Пример отзыва:\n",
            "«Спасибо. На удивление, вопрос был решён быстро и оперативно. »\n",
            "\n",
            "Напиши 1 уникальный отзыв по смыслу, похожий на пример (1-2 предложений). Не копируй пример. Можно перефразировать, добавить детали, но отзыв должен быть уникальным.\n"
          ]
        },
        {
          "name": "stderr",
          "output_type": "stream",
          "text": [
            "Генерируем синтетику:  73%|███████▎  | 973/1335 [04:08<01:18,  4.63it/s]"
          ]
        },
        {
          "name": "stdout",
          "output_type": "stream",
          "text": [
            "Ты пишешь короткие отзывы жильцов управляющей компании. Пиши строго на русском. Пример отзыва:\n",
            "«заявка выполнена, спасибо.»\n",
            "\n",
            "Напиши 1 уникальный отзыв по смыслу, похожий на пример (1-2 предложений). Не копируй пример. Можно перефразировать, добавить детали, но отзыв должен быть уникальным.\n",
            "Ты пишешь короткие отзывы жильцов управляющей компании. Пиши строго на русском. Пример отзыва:\n",
            "«всё было сделано быстро и качественно, огромное спасибо мастеру»\n",
            "\n",
            "Напиши 1 уникальный отзыв по смыслу, похожий на пример (1-2 предложений). Не копируй пример. Можно перефразировать, добавить детали, но отзыв должен быть уникальным.\n"
          ]
        },
        {
          "name": "stderr",
          "output_type": "stream",
          "text": [
            "Генерируем синтетику:  73%|███████▎  | 975/1335 [04:08<01:16,  4.70it/s]"
          ]
        },
        {
          "name": "stdout",
          "output_type": "stream",
          "text": [
            "Ты пишешь короткие отзывы жильцов управляющей компании. Пиши строго на русском. Пример отзыва:\n",
            "«спасибо данному сотруднику!!!!!»\n",
            "\n",
            "Напиши 1 уникальный отзыв по смыслу, похожий на пример (1-2 предложений). Не копируй пример. Можно перефразировать, добавить детали, но отзыв должен быть уникальным.\n",
            "Ты пишешь короткие отзывы жильцов управляющей компании. Пиши строго на русском. Пример отзыва:\n",
            "«спасибо, всё быстро и качественно»\n",
            "\n",
            "Напиши 1 уникальный отзыв по смыслу, похожий на пример (1-2 предложений). Не копируй пример. Можно перефразировать, добавить детали, но отзыв должен быть уникальным.\n"
          ]
        },
        {
          "name": "stderr",
          "output_type": "stream",
          "text": [
            "Генерируем синтетику:  73%|███████▎  | 976/1335 [04:09<01:20,  4.47it/s]"
          ]
        },
        {
          "name": "stdout",
          "output_type": "stream",
          "text": [
            "Ты пишешь короткие отзывы жильцов управляющей компании. Пиши строго на русском. Пример отзыва:\n",
            "«Очень оперативно! всë исправили»\n",
            "\n",
            "Напиши 1 уникальный отзыв по смыслу, похожий на пример (1-2 предложений). Не копируй пример. Можно перефразировать, добавить детали, но отзыв должен быть уникальным.\n"
          ]
        },
        {
          "name": "stderr",
          "output_type": "stream",
          "text": [
            "Генерируем синтетику:  73%|███████▎  | 977/1335 [04:09<01:26,  4.15it/s]"
          ]
        },
        {
          "name": "stdout",
          "output_type": "stream",
          "text": [
            "Ты пишешь короткие отзывы жильцов управляющей компании. Пиши строго на русском. Пример отзыва:\n",
            "«быстро! спасибо!»\n",
            "\n",
            "Напиши 1 уникальный отзыв по смыслу, похожий на пример (1-2 предложений). Не копируй пример. Можно перефразировать, добавить детали, но отзыв должен быть уникальным.\n"
          ]
        },
        {
          "name": "stderr",
          "output_type": "stream",
          "text": [
            "Генерируем синтетику:  73%|███████▎  | 978/1335 [04:09<01:24,  4.21it/s]"
          ]
        },
        {
          "name": "stdout",
          "output_type": "stream",
          "text": [
            "Ты пишешь короткие отзывы жильцов управляющей компании. Пиши строго на русском. Пример отзыва:\n",
            "«Большое спасибо мастеру  :thumbs_up: »\n",
            "\n",
            "Если в примере есть код эмодзи вида :smile:, то сохрани стиль — вставь похожий код эмодзи.\n",
            "\n",
            "Напиши 1 уникальный отзыв по смыслу, похожий на пример (1-2 предложений). Не копируй пример. Можно перефразировать, добавить детали, но отзыв должен быть уникальным.\n"
          ]
        },
        {
          "name": "stderr",
          "output_type": "stream",
          "text": [
            "Генерируем синтетику:  73%|███████▎  | 979/1335 [04:09<01:21,  4.35it/s]"
          ]
        },
        {
          "name": "stdout",
          "output_type": "stream",
          "text": [
            "Ты пишешь короткие отзывы жильцов управляющей компании. Пиши строго на русском. Пример отзыва:\n",
            "«Всё подробно показали и объяснили, спасибо!)»\n",
            "\n",
            "Напиши 1 уникальный отзыв по смыслу, похожий на пример (1-2 предложений). Не копируй пример. Можно перефразировать, добавить детали, но отзыв должен быть уникальным.\n"
          ]
        },
        {
          "name": "stderr",
          "output_type": "stream",
          "text": [
            "Генерируем синтетику:  73%|███████▎  | 980/1335 [04:10<01:21,  4.38it/s]"
          ]
        },
        {
          "name": "stdout",
          "output_type": "stream",
          "text": [
            "Ты пишешь короткие отзывы жильцов управляющей компании. Пиши строго на русском. Пример отзыва:\n",
            "«быстро оформили заявку, быстро пришли сантехники»\n",
            "\n",
            "Напиши 1 уникальный отзыв по смыслу, похожий на пример (1-2 предложений). Не копируй пример. Можно перефразировать, добавить детали, но отзыв должен быть уникальным.\n"
          ]
        },
        {
          "name": "stderr",
          "output_type": "stream",
          "text": [
            "Генерируем синтетику:  74%|███████▎  | 982/1335 [04:10<01:15,  4.70it/s]"
          ]
        },
        {
          "name": "stdout",
          "output_type": "stream",
          "text": [
            "Ты пишешь короткие отзывы жильцов управляющей компании. Пиши строго на русском. Пример отзыва:\n",
            "«оперативно ответили»\n",
            "\n",
            "Напиши 1 уникальный отзыв по смыслу, похожий на пример (1-2 предложений). Не копируй пример. Можно перефразировать, добавить детали, но отзыв должен быть уникальным.\n",
            "Ты пишешь короткие отзывы жильцов управляющей компании. Пиши строго на русском. Пример отзыва:\n",
            "«Спасибо за работу»\n",
            "\n",
            "Напиши 1 уникальный отзыв по смыслу, похожий на пример (1-2 предложений). Не копируй пример. Можно перефразировать, добавить детали, но отзыв должен быть уникальным.\n"
          ]
        },
        {
          "name": "stderr",
          "output_type": "stream",
          "text": [
            "Генерируем синтетику:  74%|███████▎  | 984/1335 [04:10<01:09,  5.02it/s]"
          ]
        },
        {
          "name": "stdout",
          "output_type": "stream",
          "text": [
            "Ты пишешь короткие отзывы жильцов управляющей компании. Пиши строго на русском. Пример отзыва:\n",
            "«спасибо за оперативность !!»\n",
            "\n",
            "Напиши 1 уникальный отзыв по смыслу, похожий на пример (1-2 предложений). Не копируй пример. Можно перефразировать, добавить детали, но отзыв должен быть уникальным.\n",
            "Ты пишешь короткие отзывы жильцов управляющей компании. Пиши строго на русском. Пример отзыва:\n",
            "«спасибо за быстрое решение вопроса! »\n",
            "\n",
            "Напиши 1 уникальный отзыв по смыслу, похожий на пример (1-2 предложений). Не копируй пример. Можно перефразировать, добавить детали, но отзыв должен быть уникальным.\n"
          ]
        },
        {
          "name": "stderr",
          "output_type": "stream",
          "text": [
            "Генерируем синтетику:  74%|███████▍  | 986/1335 [04:11<01:10,  4.93it/s]"
          ]
        },
        {
          "name": "stdout",
          "output_type": "stream",
          "text": [
            "Ты пишешь короткие отзывы жильцов управляющей компании. Пиши строго на русском. Пример отзыва:\n",
            "«Быстро и понятно »\n",
            "\n",
            "Напиши 1 уникальный отзыв по смыслу, похожий на пример (1-2 предложений). Не копируй пример. Можно перефразировать, добавить детали, но отзыв должен быть уникальным.\n",
            "Ты пишешь короткие отзывы жильцов управляющей компании. Пиши строго на русском. Пример отзыва:\n",
            "«спасибо за оперативность за быструю обратную связь»\n",
            "\n",
            "Напиши 1 уникальный отзыв по смыслу, похожий на пример (1-2 предложений). Не копируй пример. Можно перефразировать, добавить детали, но отзыв должен быть уникальным.\n"
          ]
        },
        {
          "name": "stderr",
          "output_type": "stream",
          "text": [
            "Генерируем синтетику:  74%|███████▍  | 987/1335 [04:11<01:14,  4.67it/s]"
          ]
        },
        {
          "name": "stdout",
          "output_type": "stream",
          "text": [
            "Ты пишешь короткие отзывы жильцов управляющей компании. Пиши строго на русском. Пример отзыва:\n",
            "«быстро решили проблему , электрики пришли почти сразу после заявки , спасибо, большое»\n",
            "\n",
            "Напиши 1 уникальный отзыв по смыслу, похожий на пример (1-2 предложений). Не копируй пример. Можно перефразировать, добавить детали, но отзыв должен быть уникальным.\n"
          ]
        },
        {
          "name": "stderr",
          "output_type": "stream",
          "text": [
            "Генерируем синтетику:  74%|███████▍  | 988/1335 [04:11<01:18,  4.44it/s]"
          ]
        },
        {
          "name": "stdout",
          "output_type": "stream",
          "text": [
            "Ты пишешь короткие отзывы жильцов управляющей компании. Пиши строго на русском. Пример отзыва:\n",
            "«Спасибо за оперативную работу !!!»\n",
            "\n",
            "Напиши 1 уникальный отзыв по смыслу, похожий на пример (1-2 предложений). Не копируй пример. Можно перефразировать, добавить детали, но отзыв должен быть уникальным.\n"
          ]
        },
        {
          "name": "stderr",
          "output_type": "stream",
          "text": [
            "Генерируем синтетику:  74%|███████▍  | 990/1335 [04:12<01:13,  4.71it/s]"
          ]
        },
        {
          "name": "stdout",
          "output_type": "stream",
          "text": [
            "Ты пишешь короткие отзывы жильцов управляющей компании. Пиши строго на русском. Пример отзыва:\n",
            "«Решил ситуацию быстро, спасибо.\n",
            "»\n",
            "\n",
            "Напиши 1 уникальный отзыв по смыслу, похожий на пример (1-2 предложений). Не копируй пример. Можно перефразировать, добавить детали, но отзыв должен быть уникальным.\n",
            "Ты пишешь короткие отзывы жильцов управляющей компании. Пиши строго на русском. Пример отзыва:\n",
            "«Здравствуйте! Большое спасибо дежурному диспетчеру-перезвонил в течение 5 минут от подачи заявки. Благодарю за сотрудничество! С уважением, Ю. П. »\n",
            "\n",
            "Напиши 1 уникальный отзыв по смыслу, похожий на пример (1-2 предложений). Не копируй пример. Можно перефразировать, добавить детали, но отзыв должен быть уникальным.\n"
          ]
        },
        {
          "name": "stderr",
          "output_type": "stream",
          "text": [
            "Генерируем синтетику:  74%|███████▍  | 991/1335 [04:12<01:27,  3.95it/s]"
          ]
        },
        {
          "name": "stdout",
          "output_type": "stream",
          "text": [
            "Ты пишешь короткие отзывы жильцов управляющей компании. Пиши строго на русском. Пример отзыва:\n",
            "«пересчет в декабре не произведен!»\n",
            "\n",
            "Напиши 1 уникальный отзыв по смыслу, похожий на пример (1-2 предложений). Не копируй пример. Можно перефразировать, добавить детали, но отзыв должен быть уникальным.\n"
          ]
        },
        {
          "name": "stderr",
          "output_type": "stream",
          "text": [
            "Генерируем синтетику:  74%|███████▍  | 992/1335 [04:12<01:30,  3.77it/s]"
          ]
        },
        {
          "name": "stdout",
          "output_type": "stream",
          "text": [
            "Ты пишешь короткие отзывы жильцов управляющей компании. Пиши строго на русском. Пример отзыва:\n",
            "«Супер! Спасибо!»\n",
            "\n",
            "Напиши 1 уникальный отзыв по смыслу, похожий на пример (1-2 предложений). Не копируй пример. Можно перефразировать, добавить детали, но отзыв должен быть уникальным.\n"
          ]
        },
        {
          "name": "stderr",
          "output_type": "stream",
          "text": [
            "Генерируем синтетику:  74%|███████▍  | 993/1335 [04:12<01:24,  4.03it/s]"
          ]
        },
        {
          "name": "stdout",
          "output_type": "stream",
          "text": [
            "Ты пишешь короткие отзывы жильцов управляющей компании. Пиши строго на русском. Пример отзыва:\n",
            "«Приходил мастер все отрегулировал большое спасибо »\n",
            "\n",
            "Напиши 1 уникальный отзыв по смыслу, похожий на пример (1-2 предложений). Не копируй пример. Можно перефразировать, добавить детали, но отзыв должен быть уникальным.\n"
          ]
        },
        {
          "name": "stderr",
          "output_type": "stream",
          "text": [
            "Генерируем синтетику:  74%|███████▍  | 994/1335 [04:13<01:25,  3.98it/s]"
          ]
        },
        {
          "name": "stdout",
          "output_type": "stream",
          "text": [
            "Ты пишешь короткие отзывы жильцов управляющей компании. Пиши строго на русском. Пример отзыва:\n",
            "«пломбировку сделали. ждем начисления)»\n",
            "\n",
            "Напиши 1 уникальный отзыв по смыслу, похожий на пример (1-2 предложений). Не копируй пример. Можно перефразировать, добавить детали, но отзыв должен быть уникальным.\n"
          ]
        },
        {
          "name": "stderr",
          "output_type": "stream",
          "text": [
            "Генерируем синтетику:  75%|███████▍  | 996/1335 [04:13<01:20,  4.19it/s]"
          ]
        },
        {
          "name": "stdout",
          "output_type": "stream",
          "text": [
            "Ты пишешь короткие отзывы жильцов управляющей компании. Пиши строго на русском. Пример отзыва:\n",
            "«спасибо, быстро освободили»\n",
            "\n",
            "Напиши 1 уникальный отзыв по смыслу, похожий на пример (1-2 предложений). Не копируй пример. Можно перефразировать, добавить детали, но отзыв должен быть уникальным.\n",
            "Ты пишешь короткие отзывы жильцов управляющей компании. Пиши строго на русском. Пример отзыва:\n",
            "«благодарю за быстрый ответ»\n",
            "\n",
            "Напиши 1 уникальный отзыв по смыслу, похожий на пример (1-2 предложений). Не копируй пример. Можно перефразировать, добавить детали, но отзыв должен быть уникальным.\n"
          ]
        },
        {
          "name": "stderr",
          "output_type": "stream",
          "text": [
            "Генерируем синтетику:  75%|███████▍  | 997/1335 [04:13<01:18,  4.33it/s]"
          ]
        },
        {
          "name": "stdout",
          "output_type": "stream",
          "text": [
            "Ты пишешь короткие отзывы жильцов управляющей компании. Пиши строго на русском. Пример отзыва:\n",
            "«заявка не исполнена»\n",
            "\n",
            "Напиши 1 уникальный отзыв по смыслу, похожий на пример (1-2 предложений). Не копируй пример. Можно перефразировать, добавить детали, но отзыв должен быть уникальным.\n"
          ]
        },
        {
          "name": "stderr",
          "output_type": "stream",
          "text": [
            "Генерируем синтетику:  75%|███████▍  | 998/1335 [04:14<01:26,  3.92it/s]"
          ]
        },
        {
          "name": "stdout",
          "output_type": "stream",
          "text": [
            "Ты пишешь короткие отзывы жильцов управляющей компании. Пиши строго на русском. Пример отзыва:\n",
            "«Благодарю, хотя я уже давно просила и получаю на эл.почту, но почему-то ещё и бумажные получала.»\n",
            "\n",
            "Напиши 1 уникальный отзыв по смыслу, похожий на пример (1-2 предложений). Не копируй пример. Можно перефразировать, добавить детали, но отзыв должен быть уникальным.\n"
          ]
        },
        {
          "name": "stderr",
          "output_type": "stream",
          "text": [
            "Генерируем синтетику:  75%|███████▍  | 999/1335 [04:14<01:34,  3.57it/s]"
          ]
        },
        {
          "name": "stdout",
          "output_type": "stream",
          "text": [
            "Ты пишешь короткие отзывы жильцов управляющей компании. Пиши строго на русском. Пример отзыва:\n",
            "«шикарный сантехник. спасибо! через 10 мин после заявки пришел,сразу понял причину ,устранил свою зону ответственности-объяснил ,что мне надо сделать самой.»\n",
            "\n",
            "Напиши 1 уникальный отзыв по смыслу, похожий на пример (1-2 предложений). Не копируй пример. Можно перефразировать, добавить детали, но отзыв должен быть уникальным.\n"
          ]
        },
        {
          "name": "stderr",
          "output_type": "stream",
          "text": [
            "Генерируем синтетику:  75%|███████▍  | 1000/1335 [04:14<01:38,  3.40it/s]"
          ]
        },
        {
          "name": "stdout",
          "output_type": "stream",
          "text": [
            "Ты пишешь короткие отзывы жильцов управляющей компании. Пиши строго на русском. Пример отзыва:\n",
            "«конструкция была смонтирована еще летом. никаких работ не производилось. прошу убрать конструкцию от моего помещения.»\n",
            "\n",
            "Напиши 1 уникальный отзыв по смыслу, похожий на пример (1-2 предложений). Не копируй пример. Можно перефразировать, добавить детали, но отзыв должен быть уникальным.\n"
          ]
        },
        {
          "name": "stderr",
          "output_type": "stream",
          "text": [
            "Генерируем синтетику:  75%|███████▌  | 1002/1335 [04:15<01:34,  3.54it/s]"
          ]
        },
        {
          "name": "stdout",
          "output_type": "stream",
          "text": [
            "Ты пишешь короткие отзывы жильцов управляющей компании. Пиши строго на русском. Пример отзыва:\n",
            "«да, заработало»\n",
            "\n",
            "Напиши 1 уникальный отзыв по смыслу, похожий на пример (1-2 предложений). Не копируй пример. Можно перефразировать, добавить детали, но отзыв должен быть уникальным.\n",
            "Ты пишешь короткие отзывы жильцов управляющей компании. Пиши строго на русском. Пример отзыва:\n",
            "«Молодцы  большое спасибо Оксана!»\n",
            "\n",
            "Напиши 1 уникальный отзыв по смыслу, похожий на пример (1-2 предложений). Не копируй пример. Можно перефразировать, добавить детали, но отзыв должен быть уникальным.\n"
          ]
        },
        {
          "name": "stderr",
          "output_type": "stream",
          "text": [
            "Генерируем синтетику:  75%|███████▌  | 1004/1335 [04:15<01:21,  4.07it/s]"
          ]
        },
        {
          "name": "stdout",
          "output_type": "stream",
          "text": [
            "Ты пишешь короткие отзывы жильцов управляющей компании. Пиши строго на русском. Пример отзыва:\n",
            "«Оперативное решение! Спасибо)»\n",
            "\n",
            "Напиши 1 уникальный отзыв по смыслу, похожий на пример (1-2 предложений). Не копируй пример. Можно перефразировать, добавить детали, но отзыв должен быть уникальным.\n",
            "Ты пишешь короткие отзывы жильцов управляющей компании. Пиши строго на русском. Пример отзыва:\n",
            "«очень оперативно, благодарю»\n",
            "\n",
            "Напиши 1 уникальный отзыв по смыслу, похожий на пример (1-2 предложений). Не копируй пример. Можно перефразировать, добавить детали, но отзыв должен быть уникальным.\n"
          ]
        },
        {
          "name": "stderr",
          "output_type": "stream",
          "text": [
            "Генерируем синтетику:  75%|███████▌  | 1005/1335 [04:16<01:13,  4.46it/s]"
          ]
        },
        {
          "name": "stdout",
          "output_type": "stream",
          "text": [
            "Ты пишешь короткие отзывы жильцов управляющей компании. Пиши строго на русском. Пример отзыва:\n",
            "«быстро понятно спасибо \n",
            "»\n",
            "\n",
            "Напиши 1 уникальный отзыв по смыслу, похожий на пример (1-2 предложений). Не копируй пример. Можно перефразировать, добавить детали, но отзыв должен быть уникальным.\n"
          ]
        },
        {
          "name": "stderr",
          "output_type": "stream",
          "text": [
            "Генерируем синтетику:  75%|███████▌  | 1006/1335 [04:16<01:12,  4.51it/s]"
          ]
        },
        {
          "name": "stdout",
          "output_type": "stream",
          "text": [
            "Ты пишешь короткие отзывы жильцов управляющей компании. Пиши строго на русском. Пример отзыва:\n",
            "«молодцы!»\n",
            "\n",
            "Напиши 1 уникальный отзыв по смыслу, похожий на пример (1-2 предложений). Не копируй пример. Можно перефразировать, добавить детали, но отзыв должен быть уникальным.\n"
          ]
        },
        {
          "name": "stderr",
          "output_type": "stream",
          "text": [
            "Генерируем синтетику:  75%|███████▌  | 1007/1335 [04:16<01:15,  4.34it/s]"
          ]
        },
        {
          "name": "stdout",
          "output_type": "stream",
          "text": [
            "Ты пишешь короткие отзывы жильцов управляющей компании. Пиши строго на русском. Пример отзыва:\n",
            "«спасибо, хорошо убрали!»\n",
            "\n",
            "Напиши 1 уникальный отзыв по смыслу, похожий на пример (1-2 предложений). Не копируй пример. Можно перефразировать, добавить детали, но отзыв должен быть уникальным.\n"
          ]
        },
        {
          "name": "stderr",
          "output_type": "stream",
          "text": [
            "Генерируем синтетику:  76%|███████▌  | 1008/1335 [04:16<01:14,  4.37it/s]"
          ]
        },
        {
          "name": "stdout",
          "output_type": "stream",
          "text": [
            "Ты пишешь короткие отзывы жильцов управляющей компании. Пиши строго на русском. Пример отзыва:\n",
            "«напольное покрытие видимо отдельная задача.»\n",
            "\n",
            "Напиши 1 уникальный отзыв по смыслу, похожий на пример (1-2 предложений). Не копируй пример. Можно перефразировать, добавить детали, но отзыв должен быть уникальным.\n"
          ]
        },
        {
          "name": "stderr",
          "output_type": "stream",
          "text": [
            "Генерируем синтетику:  76%|███████▌  | 1009/1335 [04:17<01:22,  3.94it/s]"
          ]
        },
        {
          "name": "stdout",
          "output_type": "stream",
          "text": [
            "Ты пишешь короткие отзывы жильцов управляющей компании. Пиши строго на русском. Пример отзыва:\n",
            "«Всё сделали отлично»\n",
            "\n",
            "Напиши 1 уникальный отзыв по смыслу, похожий на пример (1-2 предложений). Не копируй пример. Можно перефразировать, добавить детали, но отзыв должен быть уникальным.\n"
          ]
        },
        {
          "name": "stderr",
          "output_type": "stream",
          "text": [
            "Генерируем синтетику:  76%|███████▌  | 1010/1335 [04:17<01:20,  4.06it/s]"
          ]
        },
        {
          "name": "stdout",
          "output_type": "stream",
          "text": [
            "Ты пишешь короткие отзывы жильцов управляющей компании. Пиши строго на русском. Пример отзыва:\n",
            "«очень благодарна, компетентному сотруднику и грамотному разъяснению моего вопроса!»\n",
            "\n",
            "Напиши 1 уникальный отзыв по смыслу, похожий на пример (1-2 предложений). Не копируй пример. Можно перефразировать, добавить детали, но отзыв должен быть уникальным.\n"
          ]
        },
        {
          "name": "stderr",
          "output_type": "stream",
          "text": [
            "Генерируем синтетику:  76%|███████▌  | 1011/1335 [04:17<01:22,  3.92it/s]"
          ]
        },
        {
          "name": "stdout",
          "output_type": "stream",
          "text": [
            "Ты пишешь короткие отзывы жильцов управляющей компании. Пиши строго на русском. Пример отзыва:\n",
            "«Лучший специалист! Спасибо »\n",
            "\n",
            "Напиши 1 уникальный отзыв по смыслу, похожий на пример (1-2 предложений). Не копируй пример. Можно перефразировать, добавить детали, но отзыв должен быть уникальным.\n"
          ]
        },
        {
          "name": "stderr",
          "output_type": "stream",
          "text": [
            "Генерируем синтетику:  76%|███████▌  | 1012/1335 [04:17<01:21,  3.95it/s]"
          ]
        },
        {
          "name": "stdout",
          "output_type": "stream",
          "text": [
            "Ты пишешь короткие отзывы жильцов управляющей компании. Пиши строго на русском. Пример отзыва:\n",
            "«Отлично!»\n",
            "\n",
            "Напиши 1 уникальный отзыв по смыслу, похожий на пример (1-2 предложений). Не копируй пример. Можно перефразировать, добавить детали, но отзыв должен быть уникальным.\n"
          ]
        },
        {
          "name": "stderr",
          "output_type": "stream",
          "text": [
            "Генерируем синтетику:  76%|███████▌  | 1013/1335 [04:18<01:17,  4.16it/s]"
          ]
        },
        {
          "name": "stdout",
          "output_type": "stream",
          "text": [
            "Ты пишешь короткие отзывы жильцов управляющей компании. Пиши строго на русском. Пример отзыва:\n",
            "«спасибо специалисту»\n",
            "\n",
            "Напиши 1 уникальный отзыв по смыслу, похожий на пример (1-2 предложений). Не копируй пример. Можно перефразировать, добавить детали, но отзыв должен быть уникальным.\n"
          ]
        },
        {
          "name": "stderr",
          "output_type": "stream",
          "text": [
            "Генерируем синтетику:  76%|███████▌  | 1014/1335 [04:18<01:15,  4.27it/s]"
          ]
        },
        {
          "name": "stdout",
          "output_type": "stream",
          "text": [
            "Ты пишешь короткие отзывы жильцов управляющей компании. Пиши строго на русском. Пример отзыва:\n",
            "«почему нельзя сразу так ответить?»\n",
            "\n",
            "Напиши 1 уникальный отзыв по смыслу, похожий на пример (1-2 предложений). Не копируй пример. Можно перефразировать, добавить детали, но отзыв должен быть уникальным.\n"
          ]
        },
        {
          "name": "stderr",
          "output_type": "stream",
          "text": [
            "Генерируем синтетику:  76%|███████▌  | 1015/1335 [04:18<01:13,  4.36it/s]"
          ]
        },
        {
          "name": "stdout",
          "output_type": "stream",
          "text": [
            "Ты пишешь короткие отзывы жильцов управляющей компании. Пиши строго на русском. Пример отзыва:\n",
            "«всё сделали хорошо, починили вовремя. наверное, молодцы.»\n",
            "\n",
            "Напиши 1 уникальный отзыв по смыслу, похожий на пример (1-2 предложений). Не копируй пример. Можно перефразировать, добавить детали, но отзыв должен быть уникальным.\n"
          ]
        },
        {
          "name": "stderr",
          "output_type": "stream",
          "text": [
            "Генерируем синтетику:  76%|███████▌  | 1016/1335 [04:18<01:16,  4.14it/s]"
          ]
        },
        {
          "name": "stdout",
          "output_type": "stream",
          "text": [
            "Ты пишешь короткие отзывы жильцов управляющей компании. Пиши строго на русском. Пример отзыва:\n",
            "«отзывчивые девочки!решили проблему быстро!очень довольна!»\n",
            "\n",
            "Напиши 1 уникальный отзыв по смыслу, похожий на пример (1-2 предложений). Не копируй пример. Можно перефразировать, добавить детали, но отзыв должен быть уникальным.\n"
          ]
        },
        {
          "name": "stderr",
          "output_type": "stream",
          "text": [
            "Генерируем синтетику:  76%|███████▌  | 1017/1335 [04:19<01:21,  3.89it/s]"
          ]
        },
        {
          "name": "stdout",
          "output_type": "stream",
          "text": [
            "Ты пишешь короткие отзывы жильцов управляющей компании. Пиши строго на русском. Пример отзыва:\n",
            "«Сантехник очень быстро отключил воду, а сварщик очень быстро и качественно устранил проблему вновь, надеюсь, больше не увидимся »\n",
            "\n",
            "Напиши 1 уникальный отзыв по смыслу, похожий на пример (1-2 предложений). Не копируй пример. Можно перефразировать, добавить детали, но отзыв должен быть уникальным.\n"
          ]
        },
        {
          "name": "stderr",
          "output_type": "stream",
          "text": [
            "Генерируем синтетику:  76%|███████▋  | 1018/1335 [04:19<01:26,  3.67it/s]"
          ]
        },
        {
          "name": "stdout",
          "output_type": "stream",
          "text": [
            "Ты пишешь короткие отзывы жильцов управляющей компании. Пиши строго на русском. Пример отзыва:\n",
            "«Спасибо! Вопрос решен в сжатые сроки и была предоставлена обратная связь.»\n",
            "\n",
            "Напиши 1 уникальный отзыв по смыслу, похожий на пример (1-2 предложений). Не копируй пример. Можно перефразировать, добавить детали, но отзыв должен быть уникальным.\n"
          ]
        },
        {
          "name": "stderr",
          "output_type": "stream",
          "text": [
            "Генерируем синтетику:  76%|███████▋  | 1020/1335 [04:19<01:17,  4.07it/s]"
          ]
        },
        {
          "name": "stdout",
          "output_type": "stream",
          "text": [
            "Ты пишешь короткие отзывы жильцов управляющей компании. Пиши строго на русском. Пример отзыва:\n",
            "«спасибо за оперативную работу,вопрос решен.»\n",
            "\n",
            "Напиши 1 уникальный отзыв по смыслу, похожий на пример (1-2 предложений). Не копируй пример. Можно перефразировать, добавить детали, но отзыв должен быть уникальным.\n",
            "Ты пишешь короткие отзывы жильцов управляющей компании. Пиши строго на русском. Пример отзыва:\n",
            "«всё убрали, спасибо»\n",
            "\n",
            "Напиши 1 уникальный отзыв по смыслу, похожий на пример (1-2 предложений). Не копируй пример. Можно перефразировать, добавить детали, но отзыв должен быть уникальным.\n"
          ]
        },
        {
          "name": "stderr",
          "output_type": "stream",
          "text": [
            "Генерируем синтетику:  76%|███████▋  | 1021/1335 [04:20<01:13,  4.25it/s]"
          ]
        },
        {
          "name": "stdout",
          "output_type": "stream",
          "text": [
            "Ты пишешь короткие отзывы жильцов управляющей компании. Пиши строго на русском. Пример отзыва:\n",
            "«всеееееее оооооооочень долгоооооо»\n",
            "\n",
            "Напиши 1 уникальный отзыв по смыслу, похожий на пример (1-2 предложений). Не копируй пример. Можно перефразировать, добавить детали, но отзыв должен быть уникальным.\n"
          ]
        },
        {
          "name": "stderr",
          "output_type": "stream",
          "text": [
            "Генерируем синтетику:  77%|███████▋  | 1023/1335 [04:20<01:11,  4.36it/s]"
          ]
        },
        {
          "name": "stdout",
          "output_type": "stream",
          "text": [
            "Ты пишешь короткие отзывы жильцов управляющей компании. Пиши строго на русском. Пример отзыва:\n",
            "«спасибо за быстрое реагирование»\n",
            "\n",
            "Напиши 1 уникальный отзыв по смыслу, похожий на пример (1-2 предложений). Не копируй пример. Можно перефразировать, добавить детали, но отзыв должен быть уникальным.\n",
            "Ты пишешь короткие отзывы жильцов управляющей компании. Пиши строго на русском. Пример отзыва:\n",
            "«у меня были вопросы по показаниям счётчиков воды за период с октября 2024 года. а мне приведены данные за ноябрь-декабрь 2024»\n",
            "\n",
            "Напиши 1 уникальный отзыв по смыслу, похожий на пример (1-2 предложений). Не копируй пример. Можно перефразировать, добавить детали, но отзыв должен быть уникальным.\n"
          ]
        },
        {
          "name": "stderr",
          "output_type": "stream",
          "text": [
            "Генерируем синтетику:  77%|███████▋  | 1024/1335 [04:20<01:25,  3.64it/s]"
          ]
        },
        {
          "name": "stdout",
          "output_type": "stream",
          "text": [
            "Ты пишешь короткие отзывы жильцов управляющей компании. Пиши строго на русском. Пример отзыва:\n",
            "«Спасибо! Очень быстро сработали!»\n",
            "\n",
            "Напиши 1 уникальный отзыв по смыслу, похожий на пример (1-2 предложений). Не копируй пример. Можно перефразировать, добавить детали, но отзыв должен быть уникальным.\n"
          ]
        },
        {
          "name": "stderr",
          "output_type": "stream",
          "text": [
            "Генерируем синтетику:  77%|███████▋  | 1025/1335 [04:21<01:20,  3.87it/s]"
          ]
        },
        {
          "name": "stdout",
          "output_type": "stream",
          "text": [
            "Ты пишешь короткие отзывы жильцов управляющей компании. Пиши строго на русском. Пример отзыва:\n",
            "«не понимаю как можно отрапортовать что работа выполнена , когда как скрипела дверь и хлопала так и все осталось без изменений.»\n",
            "\n",
            "Напиши 1 уникальный отзыв по смыслу, похожий на пример (1-2 предложений). Не копируй пример. Можно перефразировать, добавить детали, но отзыв должен быть уникальным.\n"
          ]
        },
        {
          "name": "stderr",
          "output_type": "stream",
          "text": [
            "Генерируем синтетику:  77%|███████▋  | 1026/1335 [04:21<01:22,  3.76it/s]"
          ]
        },
        {
          "name": "stdout",
          "output_type": "stream",
          "text": [
            "Ты пишешь короткие отзывы жильцов управляющей компании. Пиши строго на русском. Пример отзыва:\n",
            "«оперативно, качественно, проффессионально.»\n",
            "\n",
            "Напиши 1 уникальный отзыв по смыслу, похожий на пример (1-2 предложений). Не копируй пример. Можно перефразировать, добавить детали, но отзыв должен быть уникальным.\n"
          ]
        },
        {
          "name": "stderr",
          "output_type": "stream",
          "text": [
            "Генерируем синтетику:  77%|███████▋  | 1027/1335 [04:21<01:19,  3.90it/s]"
          ]
        },
        {
          "name": "stdout",
          "output_type": "stream",
          "text": [
            "Ты пишешь короткие отзывы жильцов управляющей компании. Пиши строго на русском. Пример отзыва:\n",
            "«Хотелось, что бы каждый месяц присылали квитанцию на почту или в приложении»\n",
            "\n",
            "Напиши 1 уникальный отзыв по смыслу, похожий на пример (1-2 предложений). Не копируй пример. Можно перефразировать, добавить детали, но отзыв должен быть уникальным.\n"
          ]
        },
        {
          "name": "stderr",
          "output_type": "stream",
          "text": [
            "Генерируем синтетику:  77%|███████▋  | 1028/1335 [04:21<01:17,  3.94it/s]"
          ]
        },
        {
          "name": "stdout",
          "output_type": "stream",
          "text": [
            "Ты пишешь короткие отзывы жильцов управляющей компании. Пиши строго на русском. Пример отзыва:\n",
            "«сегодня ездил, все исправно работает, спасибо!»\n",
            "\n",
            "Напиши 1 уникальный отзыв по смыслу, похожий на пример (1-2 предложений). Не копируй пример. Можно перефразировать, добавить детали, но отзыв должен быть уникальным.\n"
          ]
        },
        {
          "name": "stderr",
          "output_type": "stream",
          "text": [
            "Генерируем синтетику:  77%|███████▋  | 1029/1335 [04:22<01:14,  4.10it/s]"
          ]
        },
        {
          "name": "stdout",
          "output_type": "stream",
          "text": [
            "Ты пишешь короткие отзывы жильцов управляющей компании. Пиши строго на русском. Пример отзыва:\n",
            "«спасибо сантехнику валерию , что устранил гул у соседей»\n",
            "\n",
            "Напиши 1 уникальный отзыв по смыслу, похожий на пример (1-2 предложений). Не копируй пример. Можно перефразировать, добавить детали, но отзыв должен быть уникальным.\n"
          ]
        },
        {
          "name": "stderr",
          "output_type": "stream",
          "text": [
            "Генерируем синтетику:  77%|███████▋  | 1030/1335 [04:22<01:16,  4.01it/s]"
          ]
        },
        {
          "name": "stdout",
          "output_type": "stream",
          "text": [
            "Ты пишешь короткие отзывы жильцов управляющей компании. Пиши строго на русском. Пример отзыва:\n",
            "«Благодарю за оперативность! »\n",
            "\n",
            "Напиши 1 уникальный отзыв по смыслу, похожий на пример (1-2 предложений). Не копируй пример. Можно перефразировать, добавить детали, но отзыв должен быть уникальным.\n"
          ]
        },
        {
          "name": "stderr",
          "output_type": "stream",
          "text": [
            "Генерируем синтетику:  77%|███████▋  | 1031/1335 [04:22<01:14,  4.07it/s]"
          ]
        },
        {
          "name": "stdout",
          "output_type": "stream",
          "text": [
            "Ты пишешь короткие отзывы жильцов управляющей компании. Пиши строго на русском. Пример отзыва:\n",
            "«домофон звонит, но открыть дверь через него из квартиры я открыть не могу.»\n",
            "\n",
            "Напиши 1 уникальный отзыв по смыслу, похожий на пример (1-2 предложений). Не копируй пример. Можно перефразировать, добавить детали, но отзыв должен быть уникальным.\n"
          ]
        },
        {
          "name": "stderr",
          "output_type": "stream",
          "text": [
            "Генерируем синтетику:  77%|███████▋  | 1033/1335 [04:23<01:11,  4.22it/s]"
          ]
        },
        {
          "name": "stdout",
          "output_type": "stream",
          "text": [
            "Ты пишешь короткие отзывы жильцов управляющей компании. Пиши строго на русском. Пример отзыва:\n",
            "«Спасибо за быстрое реагирование!!!»\n",
            "\n",
            "Напиши 1 уникальный отзыв по смыслу, похожий на пример (1-2 предложений). Не копируй пример. Можно перефразировать, добавить детали, но отзыв должен быть уникальным.\n",
            "Ты пишешь короткие отзывы жильцов управляющей компании. Пиши строго на русском. Пример отзыва:\n",
            "«Остановили течь, дали рекомендации что делать дальше. Большое спасибо! »\n",
            "\n",
            "Напиши 1 уникальный отзыв по смыслу, похожий на пример (1-2 предложений). Не копируй пример. Можно перефразировать, добавить детали, но отзыв должен быть уникальным.\n"
          ]
        },
        {
          "name": "stderr",
          "output_type": "stream",
          "text": [
            "Генерируем синтетику:  77%|███████▋  | 1034/1335 [04:23<01:19,  3.78it/s]"
          ]
        },
        {
          "name": "stdout",
          "output_type": "stream",
          "text": [
            "Ты пишешь короткие отзывы жильцов управляющей компании. Пиши строго на русском. Пример отзыва:\n",
            "«большое спасибо.. оперативно подкл  электричество !»\n",
            "\n",
            "Напиши 1 уникальный отзыв по смыслу, похожий на пример (1-2 предложений). Не копируй пример. Можно перефразировать, добавить детали, но отзыв должен быть уникальным.\n"
          ]
        },
        {
          "name": "stderr",
          "output_type": "stream",
          "text": [
            "Генерируем синтетику:  78%|███████▊  | 1035/1335 [04:23<01:14,  4.04it/s]"
          ]
        },
        {
          "name": "stdout",
          "output_type": "stream",
          "text": [
            "Ты пишешь короткие отзывы жильцов управляющей компании. Пиши строго на русском. Пример отзыва:\n",
            "«отзывчивые менеджеры, всем спасибо за быстроту»\n",
            "\n",
            "Напиши 1 уникальный отзыв по смыслу, похожий на пример (1-2 предложений). Не копируй пример. Можно перефразировать, добавить детали, но отзыв должен быть уникальным.\n"
          ]
        },
        {
          "name": "stderr",
          "output_type": "stream",
          "text": [
            "Генерируем синтетику:  78%|███████▊  | 1037/1335 [04:24<01:09,  4.30it/s]"
          ]
        },
        {
          "name": "stdout",
          "output_type": "stream",
          "text": [
            "Ты пишешь короткие отзывы жильцов управляющей компании. Пиши строго на русском. Пример отзыва:\n",
            "«быстро сработали!»\n",
            "\n",
            "Напиши 1 уникальный отзыв по смыслу, похожий на пример (1-2 предложений). Не копируй пример. Можно перефразировать, добавить детали, но отзыв должен быть уникальным.\n",
            "Ты пишешь короткие отзывы жильцов управляющей компании. Пиши строго на русском. Пример отзыва:\n",
            "«Андрей всё сделал хорошо »\n",
            "\n",
            "Напиши 1 уникальный отзыв по смыслу, похожий на пример (1-2 предложений). Не копируй пример. Можно перефразировать, добавить детали, но отзыв должен быть уникальным.\n"
          ]
        },
        {
          "name": "stderr",
          "output_type": "stream",
          "text": [
            "Генерируем синтетику:  78%|███████▊  | 1038/1335 [04:24<01:07,  4.39it/s]"
          ]
        },
        {
          "name": "stdout",
          "output_type": "stream",
          "text": [
            "Ты пишешь короткие отзывы жильцов управляющей компании. Пиши строго на русском. Пример отзыва:\n",
            "«благодарю за развернутый ответ!»\n",
            "\n",
            "Напиши 1 уникальный отзыв по смыслу, похожий на пример (1-2 предложений). Не копируй пример. Можно перефразировать, добавить детали, но отзыв должен быть уникальным.\n"
          ]
        },
        {
          "name": "stderr",
          "output_type": "stream",
          "text": [
            "Генерируем синтетику:  78%|███████▊  | 1039/1335 [04:24<01:06,  4.46it/s]"
          ]
        },
        {
          "name": "stdout",
          "output_type": "stream",
          "text": [
            "Ты пишешь короткие отзывы жильцов управляющей компании. Пиши строго на русском. Пример отзыва:\n",
            "«Благодарю.»\n",
            "\n",
            "Напиши 1 уникальный отзыв по смыслу, похожий на пример (1-2 предложений). Не копируй пример. Можно перефразировать, добавить детали, но отзыв должен быть уникальным.\n"
          ]
        },
        {
          "name": "stderr",
          "output_type": "stream",
          "text": [
            "Генерируем синтетику:  78%|███████▊  | 1040/1335 [04:24<01:04,  4.56it/s]"
          ]
        },
        {
          "name": "stdout",
          "output_type": "stream",
          "text": [
            "Ты пишешь короткие отзывы жильцов управляющей компании. Пиши строго на русском. Пример отзыва:\n",
            "«протечки устранена.спасибо»\n",
            "\n",
            "Напиши 1 уникальный отзыв по смыслу, похожий на пример (1-2 предложений). Не копируй пример. Можно перефразировать, добавить детали, но отзыв должен быть уникальным.\n"
          ]
        },
        {
          "name": "stderr",
          "output_type": "stream",
          "text": [
            "Генерируем синтетику:  78%|███████▊  | 1041/1335 [04:24<01:07,  4.36it/s]"
          ]
        },
        {
          "name": "stdout",
          "output_type": "stream",
          "text": [
            "Ты пишешь короткие отзывы жильцов управляющей компании. Пиши строго на русском. Пример отзыва:\n",
            "«поверка проведена»\n",
            "\n",
            "Напиши 1 уникальный отзыв по смыслу, похожий на пример (1-2 предложений). Не копируй пример. Можно перефразировать, добавить детали, но отзыв должен быть уникальным.\n"
          ]
        },
        {
          "name": "stderr",
          "output_type": "stream",
          "text": [
            "Генерируем синтетику:  78%|███████▊  | 1042/1335 [04:25<01:13,  3.99it/s]"
          ]
        },
        {
          "name": "stdout",
          "output_type": "stream",
          "text": [
            "Ты пишешь короткие отзывы жильцов управляющей компании. Пиши строго на русском. Пример отзыва:\n",
            "«все объяснил,обнаружил утечку сверху,залитие приостановлено,благодарю.»\n",
            "\n",
            "Напиши 1 уникальный отзыв по смыслу, похожий на пример (1-2 предложений). Не копируй пример. Можно перефразировать, добавить детали, но отзыв должен быть уникальным.\n"
          ]
        },
        {
          "name": "stderr",
          "output_type": "stream",
          "text": [
            "Генерируем синтетику:  78%|███████▊  | 1044/1335 [04:25<01:09,  4.16it/s]"
          ]
        },
        {
          "name": "stdout",
          "output_type": "stream",
          "text": [
            "Ты пишешь короткие отзывы жильцов управляющей компании. Пиши строго на русском. Пример отзыва:\n",
            "«вопрос решили за 5мин.»\n",
            "\n",
            "Напиши 1 уникальный отзыв по смыслу, похожий на пример (1-2 предложений). Не копируй пример. Можно перефразировать, добавить детали, но отзыв должен быть уникальным.\n",
            "Ты пишешь короткие отзывы жильцов управляющей компании. Пиши строго на русском. Пример отзыва:\n",
            "«достойное решение инженера»\n",
            "\n",
            "Напиши 1 уникальный отзыв по смыслу, похожий на пример (1-2 предложений). Не копируй пример. Можно перефразировать, добавить детали, но отзыв должен быть уникальным.\n"
          ]
        },
        {
          "name": "stderr",
          "output_type": "stream",
          "text": [
            "Генерируем синтетику:  78%|███████▊  | 1045/1335 [04:25<01:08,  4.23it/s]"
          ]
        },
        {
          "name": "stdout",
          "output_type": "stream",
          "text": [
            "Ты пишешь короткие отзывы жильцов управляющей компании. Пиши строго на русском. Пример отзыва:\n",
            "«спасибо , антону, за грамотность в своей работе!»\n",
            "\n",
            "Напиши 1 уникальный отзыв по смыслу, похожий на пример (1-2 предложений). Не копируй пример. Можно перефразировать, добавить детали, но отзыв должен быть уникальным.\n"
          ]
        },
        {
          "name": "stderr",
          "output_type": "stream",
          "text": [
            "Генерируем синтетику:  78%|███████▊  | 1046/1335 [04:26<01:08,  4.21it/s]"
          ]
        },
        {
          "name": "stdout",
          "output_type": "stream",
          "text": [
            "Ты пишешь короткие отзывы жильцов управляющей компании. Пиши строго на русском. Пример отзыва:\n",
            "«отлично :thumbs_up:  :clapping_hands:  :grinning_squinting_face: »\n",
            "\n",
            "Если в примере есть код эмодзи вида :smile:, то сохрани стиль — вставь похожий код эмодзи.\n",
            "\n",
            "Напиши 1 уникальный отзыв по смыслу, похожий на пример (1-2 предложений). Не копируй пример. Можно перефразировать, добавить детали, но отзыв должен быть уникальным.\n"
          ]
        },
        {
          "name": "stderr",
          "output_type": "stream",
          "text": [
            "Генерируем синтетику:  79%|███████▊  | 1048/1335 [04:26<01:06,  4.30it/s]"
          ]
        },
        {
          "name": "stdout",
          "output_type": "stream",
          "text": [
            "Ты пишешь короткие отзывы жильцов управляющей компании. Пиши строго на русском. Пример отзыва:\n",
            "«очень оперативно.»\n",
            "\n",
            "Напиши 1 уникальный отзыв по смыслу, похожий на пример (1-2 предложений). Не копируй пример. Можно перефразировать, добавить детали, но отзыв должен быть уникальным.\n",
            "Ты пишешь короткие отзывы жильцов управляющей компании. Пиши строго на русском. Пример отзыва:\n",
            "«оперативно. ещё бы настроили его, чтоб не хлопала дверь.»\n",
            "\n",
            "Напиши 1 уникальный отзыв по смыслу, похожий на пример (1-2 предложений). Не копируй пример. Можно перефразировать, добавить детали, но отзыв должен быть уникальным.\n"
          ]
        },
        {
          "name": "stderr",
          "output_type": "stream",
          "text": [
            "Генерируем синтетику:  79%|███████▊  | 1049/1335 [04:26<01:17,  3.71it/s]"
          ]
        },
        {
          "name": "stdout",
          "output_type": "stream",
          "text": [
            "Ты пишешь короткие отзывы жильцов управляющей компании. Пиши строго на русском. Пример отзыва:\n",
            "«вежливый специалист»\n",
            "\n",
            "Напиши 1 уникальный отзыв по смыслу, похожий на пример (1-2 предложений). Не копируй пример. Можно перефразировать, добавить детали, но отзыв должен быть уникальным.\n"
          ]
        },
        {
          "name": "stderr",
          "output_type": "stream",
          "text": [
            "Генерируем синтетику:  79%|███████▊  | 1050/1335 [04:27<01:21,  3.51it/s]"
          ]
        },
        {
          "name": "stdout",
          "output_type": "stream",
          "text": [
            "Ты пишешь короткие отзывы жильцов управляющей компании. Пиши строго на русском. Пример отзыва:\n",
            "«частично произведена уборка, засохшое дерьмо в углу так и осталось не убранным.»\n",
            "\n",
            "Напиши 1 уникальный отзыв по смыслу, похожий на пример (1-2 предложений). Не копируй пример. Можно перефразировать, добавить детали, но отзыв должен быть уникальным.\n"
          ]
        },
        {
          "name": "stderr",
          "output_type": "stream",
          "text": [
            "Генерируем синтетику:  79%|███████▊  | 1051/1335 [04:27<01:17,  3.65it/s]"
          ]
        },
        {
          "name": "stdout",
          "output_type": "stream",
          "text": [
            "Ты пишешь короткие отзывы жильцов управляющей компании. Пиши строго на русском. Пример отзыва:\n",
            "«все прекрасно спасибо»\n",
            "\n",
            "Напиши 1 уникальный отзыв по смыслу, похожий на пример (1-2 предложений). Не копируй пример. Можно перефразировать, добавить детали, но отзыв должен быть уникальным.\n"
          ]
        },
        {
          "name": "stderr",
          "output_type": "stream",
          "text": [
            "Генерируем синтетику:  79%|███████▉  | 1053/1335 [04:27<01:07,  4.21it/s]"
          ]
        },
        {
          "name": "stdout",
          "output_type": "stream",
          "text": [
            "Ты пишешь короткие отзывы жильцов управляющей компании. Пиши строго на русском. Пример отзыва:\n",
            "«оперативно, удобно!»\n",
            "\n",
            "Напиши 1 уникальный отзыв по смыслу, похожий на пример (1-2 предложений). Не копируй пример. Можно перефразировать, добавить детали, но отзыв должен быть уникальным.\n",
            "Ты пишешь короткие отзывы жильцов управляющей компании. Пиши строго на русском. Пример отзыва:\n",
            "«Спасибо \n",
            "»\n",
            "\n",
            "Напиши 1 уникальный отзыв по смыслу, похожий на пример (1-2 предложений). Не копируй пример. Можно перефразировать, добавить детали, но отзыв должен быть уникальным.\n"
          ]
        },
        {
          "name": "stderr",
          "output_type": "stream",
          "text": [
            "Генерируем синтетику:  79%|███████▉  | 1054/1335 [04:28<01:03,  4.42it/s]"
          ]
        },
        {
          "name": "stdout",
          "output_type": "stream",
          "text": [
            "Ты пишешь короткие отзывы жильцов управляющей компании. Пиши строго на русском. Пример отзыва:\n",
            "«еще бы плитку восстановили, пока никто не сломал ноги»\n",
            "\n",
            "Напиши 1 уникальный отзыв по смыслу, похожий на пример (1-2 предложений). Не копируй пример. Можно перефразировать, добавить детали, но отзыв должен быть уникальным.\n"
          ]
        },
        {
          "name": "stderr",
          "output_type": "stream",
          "text": [
            "Генерируем синтетику:  79%|███████▉  | 1055/1335 [04:28<01:05,  4.30it/s]"
          ]
        },
        {
          "name": "stdout",
          "output_type": "stream",
          "text": [
            "Ты пишешь короткие отзывы жильцов управляющей компании. Пиши строго на русском. Пример отзыва:\n",
            "«Оперативно и качественно мастер решил проблему! Огромное спасибо ему.»\n",
            "\n",
            "Напиши 1 уникальный отзыв по смыслу, похожий на пример (1-2 предложений). Не копируй пример. Можно перефразировать, добавить детали, но отзыв должен быть уникальным.\n"
          ]
        },
        {
          "name": "stderr",
          "output_type": "stream",
          "text": [
            "Генерируем синтетику:  79%|███████▉  | 1056/1335 [04:28<01:07,  4.15it/s]"
          ]
        },
        {
          "name": "stdout",
          "output_type": "stream",
          "text": [
            "Ты пишешь короткие отзывы жильцов управляющей компании. Пиши строго на русском. Пример отзыва:\n",
            "«устранили, но некачественно. сказано было, что сама розетка мешается панелями, но ни о какой замене речи и не шло»\n",
            "\n",
            "Напиши 1 уникальный отзыв по смыслу, похожий на пример (1-2 предложений). Не копируй пример. Можно перефразировать, добавить детали, но отзыв должен быть уникальным.\n"
          ]
        },
        {
          "name": "stderr",
          "output_type": "stream",
          "text": [
            "Генерируем синтетику:  79%|███████▉  | 1057/1335 [04:29<01:15,  3.68it/s]"
          ]
        },
        {
          "name": "stdout",
          "output_type": "stream",
          "text": [
            "Ты пишешь короткие отзывы жильцов управляющей компании. Пиши строго на русском. Пример отзыва:\n",
            "«специалист перезвонил, всё разъяснили.»\n",
            "\n",
            "Напиши 1 уникальный отзыв по смыслу, похожий на пример (1-2 предложений). Не копируй пример. Можно перефразировать, добавить детали, но отзыв должен быть уникальным.\n"
          ]
        },
        {
          "name": "stderr",
          "output_type": "stream",
          "text": [
            "Генерируем синтетику:  79%|███████▉  | 1058/1335 [04:29<01:13,  3.79it/s]"
          ]
        },
        {
          "name": "stdout",
          "output_type": "stream",
          "text": [
            "Ты пишешь короткие отзывы жильцов управляющей компании. Пиши строго на русском. Пример отзыва:\n",
            "«большое спасибо. все выполнено оперативно и качественно»\n",
            "\n",
            "Напиши 1 уникальный отзыв по смыслу, похожий на пример (1-2 предложений). Не копируй пример. Можно перефразировать, добавить детали, но отзыв должен быть уникальным.\n"
          ]
        },
        {
          "name": "stderr",
          "output_type": "stream",
          "text": [
            "Генерируем синтетику:  79%|███████▉  | 1059/1335 [04:29<01:09,  3.99it/s]"
          ]
        },
        {
          "name": "stdout",
          "output_type": "stream",
          "text": [
            "Ты пишешь короткие отзывы жильцов управляющей компании. Пиши строго на русском. Пример отзыва:\n",
            "«благодарю менеджера Татьяну »\n",
            "\n",
            "Напиши 1 уникальный отзыв по смыслу, похожий на пример (1-2 предложений). Не копируй пример. Можно перефразировать, добавить детали, но отзыв должен быть уникальным.\n"
          ]
        },
        {
          "name": "stderr",
          "output_type": "stream",
          "text": [
            "Генерируем синтетику:  79%|███████▉  | 1060/1335 [04:29<01:11,  3.87it/s]"
          ]
        },
        {
          "name": "stdout",
          "output_type": "stream",
          "text": [
            "Ты пишешь короткие отзывы жильцов управляющей компании. Пиши строго на русском. Пример отзыва:\n",
            "«Устранили быстро. Хотелось бы заметить в целом недостатки крепления как в проектировании, когда в металлическую дверь доводчики крепятся обычными саморезами. По кол-ву дырок от старых мест видно, что сама по себе методика крепления не продумана. Саморез в металл - слабо живущее решение, с недолгим жизненным циклом.»\n",
            "\n",
            "Напиши 1 уникальный отзыв по смыслу, похожий на пример (1-2 предложений). Не копируй пример. Можно перефразировать, добавить детали, но отзыв должен быть уникальным.\n"
          ]
        },
        {
          "name": "stderr",
          "output_type": "stream",
          "text": [
            "Генерируем синтетику:  79%|███████▉  | 1061/1335 [04:30<01:25,  3.19it/s]"
          ]
        },
        {
          "name": "stdout",
          "output_type": "stream",
          "text": [
            "Ты пишешь короткие отзывы жильцов управляющей компании. Пиши строго на русском. Пример отзыва:\n",
            "«всё хорошо»\n",
            "\n",
            "Напиши 1 уникальный отзыв по смыслу, похожий на пример (1-2 предложений). Не копируй пример. Можно перефразировать, добавить детали, но отзыв должен быть уникальным.\n"
          ]
        },
        {
          "name": "stderr",
          "output_type": "stream",
          "text": [
            "Генерируем синтетику:  80%|███████▉  | 1062/1335 [04:30<01:19,  3.42it/s]"
          ]
        },
        {
          "name": "stdout",
          "output_type": "stream",
          "text": [
            "Ты пишешь короткие отзывы жильцов управляющей компании. Пиши строго на русском. Пример отзыва:\n",
            "«Лучший мастер на свете  :smiling_face_with_hearts: Спасибо большое  :folded_hands: »\n",
            "\n",
            "Если в примере есть код эмодзи вида :smile:, то сохрани стиль — вставь похожий код эмодзи.\n",
            "\n",
            "Напиши 1 уникальный отзыв по смыслу, похожий на пример (1-2 предложений). Не копируй пример. Можно перефразировать, добавить детали, но отзыв должен быть уникальным.\n"
          ]
        },
        {
          "name": "stderr",
          "output_type": "stream",
          "text": [
            "Генерируем синтетику:  80%|███████▉  | 1063/1335 [04:30<01:15,  3.60it/s]"
          ]
        },
        {
          "name": "stdout",
          "output_type": "stream",
          "text": [
            "Ты пишешь короткие отзывы жильцов управляющей компании. Пиши строго на русском. Пример отзыва:\n",
            "«спасибо большое за разъяснения и за оперативность»\n",
            "\n",
            "Напиши 1 уникальный отзыв по смыслу, похожий на пример (1-2 предложений). Не копируй пример. Можно перефразировать, добавить детали, но отзыв должен быть уникальным.\n"
          ]
        },
        {
          "name": "stderr",
          "output_type": "stream",
          "text": [
            "Генерируем синтетику:  80%|███████▉  | 1065/1335 [04:31<01:05,  4.10it/s]"
          ]
        },
        {
          "name": "stdout",
          "output_type": "stream",
          "text": [
            "Ты пишешь короткие отзывы жильцов управляющей компании. Пиши строго на русском. Пример отзыва:\n",
            "«проблема решена, теперь всё работает как надо»\n",
            "\n",
            "Напиши 1 уникальный отзыв по смыслу, похожий на пример (1-2 предложений). Не копируй пример. Можно перефразировать, добавить детали, но отзыв должен быть уникальным.\n",
            "Ты пишешь короткие отзывы жильцов управляющей компании. Пиши строго на русском. Пример отзыва:\n",
            "«Выполнено быстро и качественно!»\n",
            "\n",
            "Напиши 1 уникальный отзыв по смыслу, похожий на пример (1-2 предложений). Не копируй пример. Можно перефразировать, добавить детали, но отзыв должен быть уникальным.\n"
          ]
        },
        {
          "name": "stderr",
          "output_type": "stream",
          "text": [
            "Генерируем синтетику:  80%|███████▉  | 1066/1335 [04:31<01:01,  4.35it/s]"
          ]
        },
        {
          "name": "stdout",
          "output_type": "stream",
          "text": [
            "Ты пишешь короткие отзывы жильцов управляющей компании. Пиши строго на русском. Пример отзыва:\n",
            "«большое спасибо марине за контроль уборки .   надеюсь что так будет всегда.»\n",
            "\n",
            "Напиши 1 уникальный отзыв по смыслу, похожий на пример (1-2 предложений). Не копируй пример. Можно перефразировать, добавить детали, но отзыв должен быть уникальным.\n"
          ]
        },
        {
          "name": "stderr",
          "output_type": "stream",
          "text": [
            "Генерируем синтетику:  80%|███████▉  | 1067/1335 [04:31<01:13,  3.62it/s]"
          ]
        },
        {
          "name": "stdout",
          "output_type": "stream",
          "text": [
            "Ты пишешь короткие отзывы жильцов управляющей компании. Пиши строго на русском. Пример отзыва:\n",
            "«не понимаю вас. не оплачивать коммунальные? при чем тут собственник? я мама, лплачиваю счета сына и свои. как возможно в этот личный кабинет подключить квартиру 97 садовая 85? это необходимо для оплаты счетов только.  фамилии разные у нас. каким образом получать счета?»\n",
            "\n",
            "Напиши 1 уникальный отзыв по смыслу, похожий на пример (1-2 предложений). Не копируй пример. Можно перефразировать, добавить детали, но отзыв должен быть уникальным.\n"
          ]
        },
        {
          "name": "stderr",
          "output_type": "stream",
          "text": [
            "Генерируем синтетику:  80%|████████  | 1068/1335 [04:32<01:26,  3.08it/s]"
          ]
        },
        {
          "name": "stdout",
          "output_type": "stream",
          "text": [
            "Ты пишешь короткие отзывы жильцов управляющей компании. Пиши строго на русском. Пример отзыва:\n",
            "«все супер. отличный спокойный мастер»\n",
            "\n",
            "Напиши 1 уникальный отзыв по смыслу, похожий на пример (1-2 предложений). Не копируй пример. Можно перефразировать, добавить детали, но отзыв должен быть уникальным.\n"
          ]
        },
        {
          "name": "stderr",
          "output_type": "stream",
          "text": [
            "Генерируем синтетику:  80%|████████  | 1070/1335 [04:32<01:11,  3.69it/s]"
          ]
        },
        {
          "name": "stdout",
          "output_type": "stream",
          "text": [
            "Ты пишешь короткие отзывы жильцов управляющей компании. Пиши строго на русском. Пример отзыва:\n",
            "«Огромное спасибо! »\n",
            "\n",
            "Напиши 1 уникальный отзыв по смыслу, похожий на пример (1-2 предложений). Не копируй пример. Можно перефразировать, добавить детали, но отзыв должен быть уникальным.\n",
            "Ты пишешь короткие отзывы жильцов управляющей компании. Пиши строго на русском. Пример отзыва:\n",
            "«очень удобный сервис, но пока ещё выясняем»\n",
            "\n",
            "Напиши 1 уникальный отзыв по смыслу, похожий на пример (1-2 предложений). Не копируй пример. Можно перефразировать, добавить детали, но отзыв должен быть уникальным.\n"
          ]
        },
        {
          "name": "stderr",
          "output_type": "stream",
          "text": [
            "Генерируем синтетику:  80%|████████  | 1071/1335 [04:32<01:07,  3.91it/s]"
          ]
        },
        {
          "name": "stdout",
          "output_type": "stream",
          "text": [
            "Ты пишешь короткие отзывы жильцов управляющей компании. Пиши строго на русском. Пример отзыва:\n",
            "«оперативно исправили»\n",
            "\n",
            "Напиши 1 уникальный отзыв по смыслу, похожий на пример (1-2 предложений). Не копируй пример. Можно перефразировать, добавить детали, но отзыв должен быть уникальным.\n"
          ]
        },
        {
          "name": "stderr",
          "output_type": "stream",
          "text": [
            "Генерируем синтетику:  80%|████████  | 1072/1335 [04:33<01:04,  4.11it/s]"
          ]
        },
        {
          "name": "stdout",
          "output_type": "stream",
          "text": [
            "Ты пишешь короткие отзывы жильцов управляющей компании. Пиши строго на русском. Пример отзыва:\n",
            "«Отличный специалист! »\n",
            "\n",
            "Напиши 1 уникальный отзыв по смыслу, похожий на пример (1-2 предложений). Не копируй пример. Можно перефразировать, добавить детали, но отзыв должен быть уникальным.\n"
          ]
        },
        {
          "name": "stderr",
          "output_type": "stream",
          "text": [
            "Генерируем синтетику:  80%|████████  | 1073/1335 [04:33<01:03,  4.11it/s]"
          ]
        },
        {
          "name": "stdout",
          "output_type": "stream",
          "text": [
            "Ты пишешь короткие отзывы жильцов управляющей компании. Пиши строго на русском. Пример отзыва:\n",
            "«Очень быстро :thumbs_up: »\n",
            "\n",
            "Если в примере есть код эмодзи вида :smile:, то сохрани стиль — вставь похожий код эмодзи.\n",
            "\n",
            "Напиши 1 уникальный отзыв по смыслу, похожий на пример (1-2 предложений). Не копируй пример. Можно перефразировать, добавить детали, но отзыв должен быть уникальным.\n"
          ]
        },
        {
          "name": "stderr",
          "output_type": "stream",
          "text": [
            "Генерируем синтетику:  80%|████████  | 1074/1335 [04:33<01:04,  4.06it/s]"
          ]
        },
        {
          "name": "stdout",
          "output_type": "stream",
          "text": [
            "Ты пишешь короткие отзывы жильцов управляющей компании. Пиши строго на русском. Пример отзыва:\n",
            "«мастер пришел вовремя, поменял и опломбировал счётчик, всё отлично»\n",
            "\n",
            "Напиши 1 уникальный отзыв по смыслу, похожий на пример (1-2 предложений). Не копируй пример. Можно перефразировать, добавить детали, но отзыв должен быть уникальным.\n"
          ]
        },
        {
          "name": "stderr",
          "output_type": "stream",
          "text": [
            "Генерируем синтетику:  81%|████████  | 1075/1335 [04:33<01:12,  3.58it/s]"
          ]
        },
        {
          "name": "stdout",
          "output_type": "stream",
          "text": [
            "Ты пишешь короткие отзывы жильцов управляющей компании. Пиши строго на русском. Пример отзыва:\n",
            "«красавчеги!»\n",
            "\n",
            "Напиши 1 уникальный отзыв по смыслу, похожий на пример (1-2 предложений). Не копируй пример. Можно перефразировать, добавить детали, но отзыв должен быть уникальным.\n"
          ]
        },
        {
          "name": "stderr",
          "output_type": "stream",
          "text": [
            "Генерируем синтетику:  81%|████████  | 1076/1335 [04:34<01:13,  3.52it/s]"
          ]
        },
        {
          "name": "stdout",
          "output_type": "stream",
          "text": [
            "Ты пишешь короткие отзывы жильцов управляющей компании. Пиши строго на русском. Пример отзыва:\n",
            "«супер мастер !!!»\n",
            "\n",
            "Напиши 1 уникальный отзыв по смыслу, похожий на пример (1-2 предложений). Не копируй пример. Можно перефразировать, добавить детали, но отзыв должен быть уникальным.\n"
          ]
        },
        {
          "name": "stderr",
          "output_type": "stream",
          "text": [
            "Генерируем синтетику:  81%|████████  | 1077/1335 [04:34<01:11,  3.62it/s]"
          ]
        },
        {
          "name": "stdout",
          "output_type": "stream",
          "text": [
            "Ты пишешь короткие отзывы жильцов управляющей компании. Пиши строго на русском. Пример отзыва:\n",
            "«спасибо куприянову и.и.!!!»\n",
            "\n",
            "Напиши 1 уникальный отзыв по смыслу, похожий на пример (1-2 предложений). Не копируй пример. Можно перефразировать, добавить детали, но отзыв должен быть уникальным.\n"
          ]
        },
        {
          "name": "stderr",
          "output_type": "stream",
          "text": [
            "Генерируем синтетику:  81%|████████  | 1078/1335 [04:34<01:15,  3.41it/s]"
          ]
        },
        {
          "name": "stdout",
          "output_type": "stream",
          "text": [
            "Ты пишешь короткие отзывы жильцов управляющей компании. Пиши строго на русском. Пример отзыва:\n",
            "«поверку не произвели»\n",
            "\n",
            "Напиши 1 уникальный отзыв по смыслу, похожий на пример (1-2 предложений). Не копируй пример. Можно перефразировать, добавить детали, но отзыв должен быть уникальным.\n"
          ]
        },
        {
          "name": "stderr",
          "output_type": "stream",
          "text": [
            "Генерируем синтетику:  81%|████████  | 1079/1335 [04:35<01:10,  3.62it/s]"
          ]
        },
        {
          "name": "stdout",
          "output_type": "stream",
          "text": [
            "Ты пишешь короткие отзывы жильцов управляющей компании. Пиши строго на русском. Пример отзыва:\n",
            "«быстро сработали, позвонили, сказали, что все хорошо ,ложная тревога »\n",
            "\n",
            "Напиши 1 уникальный отзыв по смыслу, похожий на пример (1-2 предложений). Не копируй пример. Можно перефразировать, добавить детали, но отзыв должен быть уникальным.\n"
          ]
        },
        {
          "name": "stderr",
          "output_type": "stream",
          "text": [
            "Генерируем синтетику:  81%|████████  | 1080/1335 [04:35<01:11,  3.57it/s]"
          ]
        },
        {
          "name": "stdout",
          "output_type": "stream",
          "text": [
            "Ты пишешь короткие отзывы жильцов управляющей компании. Пиши строго на русском. Пример отзыва:\n",
            "«Как оперативно! Благодарю!»\n",
            "\n",
            "Напиши 1 уникальный отзыв по смыслу, похожий на пример (1-2 предложений). Не копируй пример. Можно перефразировать, добавить детали, но отзыв должен быть уникальным.\n"
          ]
        },
        {
          "name": "stderr",
          "output_type": "stream",
          "text": [
            "Генерируем синтетику:  81%|████████  | 1081/1335 [04:35<01:06,  3.82it/s]"
          ]
        },
        {
          "name": "stdout",
          "output_type": "stream",
          "text": [
            "Ты пишешь короткие отзывы жильцов управляющей компании. Пиши строго на русском. Пример отзыва:\n",
            "«воду дали, но не понятно почему ее не было»\n",
            "\n",
            "Напиши 1 уникальный отзыв по смыслу, похожий на пример (1-2 предложений). Не копируй пример. Можно перефразировать, добавить детали, но отзыв должен быть уникальным.\n"
          ]
        },
        {
          "name": "stderr",
          "output_type": "stream",
          "text": [
            "Генерируем синтетику:  81%|████████  | 1082/1335 [04:35<01:01,  4.09it/s]"
          ]
        },
        {
          "name": "stdout",
          "output_type": "stream",
          "text": [
            "Ты пишешь короткие отзывы жильцов управляющей компании. Пиши строго на русском. Пример отзыва:\n",
            "«Все решили! Перезвонили . Спасибо »\n",
            "\n",
            "Напиши 1 уникальный отзыв по смыслу, похожий на пример (1-2 предложений). Не копируй пример. Можно перефразировать, добавить детали, но отзыв должен быть уникальным.\n"
          ]
        },
        {
          "name": "stderr",
          "output_type": "stream",
          "text": [
            "Генерируем синтетику:  81%|████████  | 1083/1335 [04:35<01:00,  4.14it/s]"
          ]
        },
        {
          "name": "stdout",
          "output_type": "stream",
          "text": [
            "Ты пишешь короткие отзывы жильцов управляющей компании. Пиши строго на русском. Пример отзыва:\n",
            "«большое спасибо мастерам которые чинили батарею, пришли очень быстро я даже не ожидала. все спокойно сделали.  спасибо»\n",
            "\n",
            "Напиши 1 уникальный отзыв по смыслу, похожий на пример (1-2 предложений). Не копируй пример. Можно перефразировать, добавить детали, но отзыв должен быть уникальным.\n"
          ]
        },
        {
          "name": "stderr",
          "output_type": "stream",
          "text": [
            "Генерируем синтетику:  81%|████████▏ | 1085/1335 [04:36<00:58,  4.30it/s]"
          ]
        },
        {
          "name": "stdout",
          "output_type": "stream",
          "text": [
            "Ты пишешь короткие отзывы жильцов управляющей компании. Пиши строго на русском. Пример отзыва:\n",
            "«Очень быстро, качественно. Спасибо!  :handshake: »\n",
            "\n",
            "Если в примере есть код эмодзи вида :smile:, то сохрани стиль — вставь похожий код эмодзи.\n",
            "\n",
            "Напиши 1 уникальный отзыв по смыслу, похожий на пример (1-2 предложений). Не копируй пример. Можно перефразировать, добавить детали, но отзыв должен быть уникальным.\n",
            "Ты пишешь короткие отзывы жильцов управляющей компании. Пиши строго на русском. Пример отзыва:\n",
            "«Оперативно и четко решен вопрос. Благодарю. »\n",
            "\n",
            "Напиши 1 уникальный отзыв по смыслу, похожий на пример (1-2 предложений). Не копируй пример. Можно перефразировать, добавить детали, но отзыв должен быть уникальным.\n"
          ]
        },
        {
          "name": "stderr",
          "output_type": "stream",
          "text": [
            "Генерируем синтетику:  81%|████████▏ | 1086/1335 [04:36<00:56,  4.38it/s]"
          ]
        },
        {
          "name": "stdout",
          "output_type": "stream",
          "text": [
            "Ты пишешь короткие отзывы жильцов управляющей компании. Пиши строго на русском. Пример отзыва:\n",
            "«Оперативно мастер подошёл. Все неполадки устранены. Мастер - тактичный молодой человек. Спасибо! »\n",
            "\n",
            "Напиши 1 уникальный отзыв по смыслу, похожий на пример (1-2 предложений). Не копируй пример. Можно перефразировать, добавить детали, но отзыв должен быть уникальным.\n"
          ]
        },
        {
          "name": "stderr",
          "output_type": "stream",
          "text": [
            "Генерируем синтетику:  81%|████████▏ | 1087/1335 [04:36<01:02,  3.98it/s]"
          ]
        },
        {
          "name": "stdout",
          "output_type": "stream",
          "text": [
            "Ты пишешь короткие отзывы жильцов управляющей компании. Пиши строго на русском. Пример отзыва:\n",
            "«стоимость услуги высока!»\n",
            "\n",
            "Напиши 1 уникальный отзыв по смыслу, похожий на пример (1-2 предложений). Не копируй пример. Можно перефразировать, добавить детали, но отзыв должен быть уникальным.\n"
          ]
        },
        {
          "name": "stderr",
          "output_type": "stream",
          "text": [
            "Генерируем синтетику:  81%|████████▏ | 1088/1335 [04:37<01:00,  4.07it/s]"
          ]
        },
        {
          "name": "stdout",
          "output_type": "stream",
          "text": [
            "Ты пишешь короткие отзывы жильцов управляющей компании. Пиши строго на русском. Пример отзыва:\n",
            "«дрлго. все сроки оплаты уже прошли к тому моменту, как появилась информация в банковском приложении.»\n",
            "\n",
            "Напиши 1 уникальный отзыв по смыслу, похожий на пример (1-2 предложений). Не копируй пример. Можно перефразировать, добавить детали, но отзыв должен быть уникальным.\n"
          ]
        },
        {
          "name": "stderr",
          "output_type": "stream",
          "text": [
            "Генерируем синтетику:  82%|████████▏ | 1089/1335 [04:37<01:06,  3.68it/s]"
          ]
        },
        {
          "name": "stdout",
          "output_type": "stream",
          "text": [
            "Ты пишешь короткие отзывы жильцов управляющей компании. Пиши строго на русском. Пример отзыва:\n",
            "«Большое спасибо я! Оперативно все сделали!»\n",
            "\n",
            "Напиши 1 уникальный отзыв по смыслу, похожий на пример (1-2 предложений). Не копируй пример. Можно перефразировать, добавить детали, но отзыв должен быть уникальным.\n"
          ]
        },
        {
          "name": "stderr",
          "output_type": "stream",
          "text": [
            "Генерируем синтетику:  82%|████████▏ | 1090/1335 [04:37<01:02,  3.90it/s]"
          ]
        },
        {
          "name": "stdout",
          "output_type": "stream",
          "text": [
            "Ты пишешь короткие отзывы жильцов управляющей компании. Пиши строго на русском. Пример отзыва:\n",
            "«отличная работа»\n",
            "\n",
            "Напиши 1 уникальный отзыв по смыслу, похожий на пример (1-2 предложений). Не копируй пример. Можно перефразировать, добавить детали, но отзыв должен быть уникальным.\n"
          ]
        },
        {
          "name": "stderr",
          "output_type": "stream",
          "text": [
            "Генерируем синтетику:  82%|████████▏ | 1091/1335 [04:37<01:00,  4.04it/s]"
          ]
        },
        {
          "name": "stdout",
          "output_type": "stream",
          "text": [
            "Ты пишешь короткие отзывы жильцов управляющей компании. Пиши строго на русском. Пример отзыва:\n",
            "«спасибо большое. все хорошо сделали!»\n",
            "\n",
            "Напиши 1 уникальный отзыв по смыслу, похожий на пример (1-2 предложений). Не копируй пример. Можно перефразировать, добавить детали, но отзыв должен быть уникальным.\n"
          ]
        },
        {
          "name": "stderr",
          "output_type": "stream",
          "text": [
            "Генерируем синтетику:  82%|████████▏ | 1092/1335 [04:38<00:59,  4.10it/s]"
          ]
        },
        {
          "name": "stdout",
          "output_type": "stream",
          "text": [
            "Ты пишешь короткие отзывы жильцов управляющей компании. Пиши строго на русском. Пример отзыва:\n",
            "«быстро перезвонили, вопрос решили»\n",
            "\n",
            "Напиши 1 уникальный отзыв по смыслу, похожий на пример (1-2 предложений). Не копируй пример. Можно перефразировать, добавить детали, но отзыв должен быть уникальным.\n"
          ]
        },
        {
          "name": "stderr",
          "output_type": "stream",
          "text": [
            "Генерируем синтетику:  82%|████████▏ | 1093/1335 [04:38<00:56,  4.26it/s]"
          ]
        },
        {
          "name": "stdout",
          "output_type": "stream",
          "text": [
            "Ты пишешь короткие отзывы жильцов управляющей компании. Пиши строго на русском. Пример отзыва:\n",
            "«Спасибо за вашу работу! Вычислить бы, кто вырвал предыдущий доводчик и наказать! А вам спасибо!»\n",
            "\n",
            "Напиши 1 уникальный отзыв по смыслу, похожий на пример (1-2 предложений). Не копируй пример. Можно перефразировать, добавить детали, но отзыв должен быть уникальным.\n"
          ]
        },
        {
          "name": "stderr",
          "output_type": "stream",
          "text": [
            "Генерируем синтетику:  82%|████████▏ | 1094/1335 [04:38<01:03,  3.80it/s]"
          ]
        },
        {
          "name": "stdout",
          "output_type": "stream",
          "text": [
            "Ты пишешь короткие отзывы жильцов управляющей компании. Пиши строго на русском. Пример отзыва:\n",
            "«выполнили заявку через 2 недели»\n",
            "\n",
            "Напиши 1 уникальный отзыв по смыслу, похожий на пример (1-2 предложений). Не копируй пример. Можно перефразировать, добавить детали, но отзыв должен быть уникальным.\n"
          ]
        },
        {
          "name": "stderr",
          "output_type": "stream",
          "text": [
            "Генерируем синтетику:  82%|████████▏ | 1095/1335 [04:38<00:59,  4.05it/s]"
          ]
        },
        {
          "name": "stdout",
          "output_type": "stream",
          "text": [
            "Ты пишешь короткие отзывы жильцов управляющей компании. Пиши строго на русском. Пример отзыва:\n",
            "«Спасибо за прямую связь со специалистом который смог устранить неисправность!»\n",
            "\n",
            "Напиши 1 уникальный отзыв по смыслу, похожий на пример (1-2 предложений). Не копируй пример. Можно перефразировать, добавить детали, но отзыв должен быть уникальным.\n"
          ]
        },
        {
          "name": "stderr",
          "output_type": "stream",
          "text": [
            "Генерируем синтетику:  82%|████████▏ | 1096/1335 [04:39<01:01,  3.89it/s]"
          ]
        },
        {
          "name": "stdout",
          "output_type": "stream",
          "text": [
            "Ты пишешь короткие отзывы жильцов управляющей компании. Пиши строго на русском. Пример отзыва:\n",
            "«большое спасибо, все починили очень оперативно!»\n",
            "\n",
            "Напиши 1 уникальный отзыв по смыслу, похожий на пример (1-2 предложений). Не копируй пример. Можно перефразировать, добавить детали, но отзыв должен быть уникальным.\n"
          ]
        },
        {
          "name": "stderr",
          "output_type": "stream",
          "text": [
            "Генерируем синтетику:  82%|████████▏ | 1097/1335 [04:39<01:02,  3.82it/s]"
          ]
        },
        {
          "name": "stdout",
          "output_type": "stream",
          "text": [
            "Ты пишешь короткие отзывы жильцов управляющей компании. Пиши строго на русском. Пример отзыва:\n",
            "«электрик снял показания. будем ждать ответ»\n",
            "\n",
            "Напиши 1 уникальный отзыв по смыслу, похожий на пример (1-2 предложений). Не копируй пример. Можно перефразировать, добавить детали, но отзыв должен быть уникальным.\n"
          ]
        },
        {
          "name": "stderr",
          "output_type": "stream",
          "text": [
            "Генерируем синтетику:  82%|████████▏ | 1098/1335 [04:39<01:01,  3.87it/s]"
          ]
        },
        {
          "name": "stdout",
          "output_type": "stream",
          "text": [
            "Ты пишешь короткие отзывы жильцов управляющей компании. Пиши строго на русском. Пример отзыва:\n",
            "«оперативно и быстро все сделали, что требовалось.»\n",
            "\n",
            "Напиши 1 уникальный отзыв по смыслу, похожий на пример (1-2 предложений). Не копируй пример. Можно перефразировать, добавить детали, но отзыв должен быть уникальным.\n"
          ]
        },
        {
          "name": "stderr",
          "output_type": "stream",
          "text": [
            "Генерируем синтетику:  82%|████████▏ | 1099/1335 [04:39<00:59,  4.00it/s]"
          ]
        },
        {
          "name": "stdout",
          "output_type": "stream",
          "text": [
            "Ты пишешь короткие отзывы жильцов управляющей компании. Пиши строго на русском. Пример отзыва:\n",
            "«Благодарю УК за оперативность и решение моего вопроса.»\n",
            "\n",
            "Напиши 1 уникальный отзыв по смыслу, похожий на пример (1-2 предложений). Не копируй пример. Можно перефразировать, добавить детали, но отзыв должен быть уникальным.\n"
          ]
        },
        {
          "name": "stderr",
          "output_type": "stream",
          "text": [
            "Генерируем синтетику:  82%|████████▏ | 1100/1335 [04:40<01:02,  3.79it/s]"
          ]
        },
        {
          "name": "stdout",
          "output_type": "stream",
          "text": [
            "Ты пишешь короткие отзывы жильцов управляющей компании. Пиши строго на русском. Пример отзыва:\n",
            "«все быстро и оперативно. спасибо!»\n",
            "\n",
            "Напиши 1 уникальный отзыв по смыслу, похожий на пример (1-2 предложений). Не копируй пример. Можно перефразировать, добавить детали, но отзыв должен быть уникальным.\n"
          ]
        },
        {
          "name": "stderr",
          "output_type": "stream",
          "text": [
            "Генерируем синтетику:  82%|████████▏ | 1101/1335 [04:40<00:58,  4.02it/s]"
          ]
        },
        {
          "name": "stdout",
          "output_type": "stream",
          "text": [
            "Ты пишешь короткие отзывы жильцов управляющей компании. Пиши строго на русском. Пример отзыва:\n",
            "«все быстро и четко »\n",
            "\n",
            "Напиши 1 уникальный отзыв по смыслу, похожий на пример (1-2 предложений). Не копируй пример. Можно перефразировать, добавить детали, но отзыв должен быть уникальным.\n"
          ]
        },
        {
          "name": "stderr",
          "output_type": "stream",
          "text": [
            "Генерируем синтетику:  83%|████████▎ | 1103/1335 [04:40<00:52,  4.43it/s]"
          ]
        },
        {
          "name": "stdout",
          "output_type": "stream",
          "text": [
            "Ты пишешь короткие отзывы жильцов управляющей компании. Пиши строго на русском. Пример отзыва:\n",
            "«быстро и результативно. спасибо»\n",
            "\n",
            "Напиши 1 уникальный отзыв по смыслу, похожий на пример (1-2 предложений). Не копируй пример. Можно перефразировать, добавить детали, но отзыв должен быть уникальным.\n",
            "Ты пишешь короткие отзывы жильцов управляющей компании. Пиши строго на русском. Пример отзыва:\n",
            "«хотя бы с третьего раза пришли и поменяли личинку, благодарю»\n",
            "\n",
            "Напиши 1 уникальный отзыв по смыслу, похожий на пример (1-2 предложений). Не копируй пример. Можно перефразировать, добавить детали, но отзыв должен быть уникальным.\n"
          ]
        },
        {
          "name": "stderr",
          "output_type": "stream",
          "text": [
            "Генерируем синтетику:  83%|████████▎ | 1105/1335 [04:41<00:49,  4.61it/s]"
          ]
        },
        {
          "name": "stdout",
          "output_type": "stream",
          "text": [
            "Ты пишешь короткие отзывы жильцов управляющей компании. Пиши строго на русском. Пример отзыва:\n",
            "«супер! спасибо»\n",
            "\n",
            "Напиши 1 уникальный отзыв по смыслу, похожий на пример (1-2 предложений). Не копируй пример. Можно перефразировать, добавить детали, но отзыв должен быть уникальным.\n",
            "Ты пишешь короткие отзывы жильцов управляющей компании. Пиши строго на русском. Пример отзыва:\n",
            "«Спасибо большое за информацию. Татьяна молодец!»\n",
            "\n",
            "Напиши 1 уникальный отзыв по смыслу, похожий на пример (1-2 предложений). Не копируй пример. Можно перефразировать, добавить детали, но отзыв должен быть уникальным.\n"
          ]
        },
        {
          "name": "stderr",
          "output_type": "stream",
          "text": [
            "Генерируем синтетику:  83%|████████▎ | 1106/1335 [04:41<00:52,  4.33it/s]"
          ]
        },
        {
          "name": "stdout",
          "output_type": "stream",
          "text": [
            "Ты пишешь короткие отзывы жильцов управляющей компании. Пиши строго на русском. Пример отзыва:\n",
            "«Спасибо за оперативность. Но я так и не поняла. Почему редукторы нам поставили плохие, когда всем меняли?»\n",
            "\n",
            "Напиши 1 уникальный отзыв по смыслу, похожий на пример (1-2 предложений). Не копируй пример. Можно перефразировать, добавить детали, но отзыв должен быть уникальным.\n"
          ]
        },
        {
          "name": "stderr",
          "output_type": "stream",
          "text": [
            "Генерируем синтетику:  83%|████████▎ | 1107/1335 [04:41<00:58,  3.88it/s]"
          ]
        },
        {
          "name": "stdout",
          "output_type": "stream",
          "text": [
            "Ты пишешь короткие отзывы жильцов управляющей компании. Пиши строго на русском. Пример отзыва:\n",
            "«большое спасибо за оперативную работу!!!»\n",
            "\n",
            "Напиши 1 уникальный отзыв по смыслу, похожий на пример (1-2 предложений). Не копируй пример. Можно перефразировать, добавить детали, но отзыв должен быть уникальным.\n"
          ]
        },
        {
          "name": "stderr",
          "output_type": "stream",
          "text": [
            "Генерируем синтетику:  83%|████████▎ | 1108/1335 [04:42<00:54,  4.14it/s]"
          ]
        },
        {
          "name": "stdout",
          "output_type": "stream",
          "text": [
            "Ты пишешь короткие отзывы жильцов управляющей компании. Пиши строго на русском. Пример отзыва:\n",
            "«одну звезду сняла за то,что отличается цвет плитки)»\n",
            "\n",
            "Напиши 1 уникальный отзыв по смыслу, похожий на пример (1-2 предложений). Не копируй пример. Можно перефразировать, добавить детали, но отзыв должен быть уникальным.\n"
          ]
        },
        {
          "name": "stderr",
          "output_type": "stream",
          "text": [
            "Генерируем синтетику:  83%|████████▎ | 1109/1335 [04:42<01:03,  3.56it/s]"
          ]
        },
        {
          "name": "stdout",
          "output_type": "stream",
          "text": [
            "Ты пишешь короткие отзывы жильцов управляющей компании. Пиши строго на русском. Пример отзыва:\n",
            "«сами устранили»\n",
            "\n",
            "Напиши 1 уникальный отзыв по смыслу, похожий на пример (1-2 предложений). Не копируй пример. Можно перефразировать, добавить детали, но отзыв должен быть уникальным.\n"
          ]
        },
        {
          "name": "stderr",
          "output_type": "stream",
          "text": [
            "Генерируем синтетику:  83%|████████▎ | 1110/1335 [04:42<01:00,  3.70it/s]"
          ]
        },
        {
          "name": "stdout",
          "output_type": "stream",
          "text": [
            "Ты пишешь короткие отзывы жильцов управляющей компании. Пиши строго на русском. Пример отзыва:\n",
            "«Прям молодцы! Порадовали) все четко) »\n",
            "\n",
            "Напиши 1 уникальный отзыв по смыслу, похожий на пример (1-2 предложений). Не копируй пример. Можно перефразировать, добавить детали, но отзыв должен быть уникальным.\n"
          ]
        },
        {
          "name": "stderr",
          "output_type": "stream",
          "text": [
            "Генерируем синтетику:  83%|████████▎ | 1111/1335 [04:42<00:58,  3.80it/s]"
          ]
        },
        {
          "name": "stdout",
          "output_type": "stream",
          "text": [
            "Ты пишешь короткие отзывы жильцов управляющей компании. Пиши строго на русском. Пример отзыва:\n",
            "«Менеджеру Наталье и дежурного  сантехнику 09.09.2024  большая благодарность  за оперативное решение проблемы. »\n",
            "\n",
            "Напиши 1 уникальный отзыв по смыслу, похожий на пример (1-2 предложений). Не копируй пример. Можно перефразировать, добавить детали, но отзыв должен быть уникальным.\n"
          ]
        },
        {
          "name": "stderr",
          "output_type": "stream",
          "text": [
            "Генерируем синтетику:  83%|████████▎ | 1112/1335 [04:43<01:06,  3.35it/s]"
          ]
        },
        {
          "name": "stdout",
          "output_type": "stream",
          "text": [
            "Ты пишешь короткие отзывы жильцов управляющей компании. Пиши строго на русском. Пример отзыва:\n",
            "«великолепный человек, включил всё, мы проверили работают ли все лампы и тд, объяснил что можно сделать в следующий раз в такой ситуации, спасибо ему!<3»\n",
            "\n",
            "Напиши 1 уникальный отзыв по смыслу, похожий на пример (1-2 предложений). Не копируй пример. Можно перефразировать, добавить детали, но отзыв должен быть уникальным.\n"
          ]
        },
        {
          "name": "stderr",
          "output_type": "stream",
          "text": [
            "Генерируем синтетику:  83%|████████▎ | 1113/1335 [04:43<01:08,  3.22it/s]"
          ]
        },
        {
          "name": "stdout",
          "output_type": "stream",
          "text": [
            "Ты пишешь короткие отзывы жильцов управляющей компании. Пиши строго на русском. Пример отзыва:\n",
            "«Благодарю! »\n",
            "\n",
            "Напиши 1 уникальный отзыв по смыслу, похожий на пример (1-2 предложений). Не копируй пример. Можно перефразировать, добавить детали, но отзыв должен быть уникальным.\n"
          ]
        },
        {
          "name": "stderr",
          "output_type": "stream",
          "text": [
            "Генерируем синтетику:  83%|████████▎ | 1114/1335 [04:43<01:04,  3.43it/s]"
          ]
        },
        {
          "name": "stdout",
          "output_type": "stream",
          "text": [
            "Ты пишешь короткие отзывы жильцов управляющей компании. Пиши строго на русском. Пример отзыва:\n",
            "«Спасибо большое за оперативность!) :thumbs_up:  Уже оценили песочек - очень хороший, чистый))) Дети были очень рады что в песочнице достаточное количество песка!))  :smiling_face_with_open_hands: »\n",
            "\n",
            "Если в примере есть код эмодзи вида :smile:, то сохрани стиль — вставь похожий код эмодзи.\n",
            "\n",
            "Напиши 1 уникальный отзыв по смыслу, похожий на пример (1-2 предложений). Не копируй пример. Можно перефразировать, добавить детали, но отзыв должен быть уникальным.\n"
          ]
        },
        {
          "name": "stderr",
          "output_type": "stream",
          "text": [
            "Генерируем синтетику:  84%|████████▎ | 1115/1335 [04:44<01:16,  2.87it/s]"
          ]
        },
        {
          "name": "stdout",
          "output_type": "stream",
          "text": [
            "Ты пишешь короткие отзывы жильцов управляющей компании. Пиши строго на русском. Пример отзыва:\n",
            "«управляющий железняков так и не сделал мне перерасчет»\n",
            "\n",
            "Напиши 1 уникальный отзыв по смыслу, похожий на пример (1-2 предложений). Не копируй пример. Можно перефразировать, добавить детали, но отзыв должен быть уникальным.\n"
          ]
        },
        {
          "name": "stderr",
          "output_type": "stream",
          "text": [
            "Генерируем синтетику:  84%|████████▎ | 1117/1335 [04:44<01:01,  3.56it/s]"
          ]
        },
        {
          "name": "stdout",
          "output_type": "stream",
          "text": [
            "Ты пишешь короткие отзывы жильцов управляющей компании. Пиши строго на русском. Пример отзыва:\n",
            "«Вот теперь молодцы »\n",
            "\n",
            "Напиши 1 уникальный отзыв по смыслу, похожий на пример (1-2 предложений). Не копируй пример. Можно перефразировать, добавить детали, но отзыв должен быть уникальным.\n",
            "Ты пишешь короткие отзывы жильцов управляющей компании. Пиши строго на русском. Пример отзыва:\n",
            "«отличная работа! быстро, качественно, аккуратно. спасибо большое)»\n",
            "\n",
            "Напиши 1 уникальный отзыв по смыслу, похожий на пример (1-2 предложений). Не копируй пример. Можно перефразировать, добавить детали, но отзыв должен быть уникальным.\n"
          ]
        },
        {
          "name": "stderr",
          "output_type": "stream",
          "text": [
            "Генерируем синтетику:  84%|████████▎ | 1118/1335 [04:45<00:59,  3.66it/s]"
          ]
        },
        {
          "name": "stdout",
          "output_type": "stream",
          "text": [
            "Ты пишешь короткие отзывы жильцов управляющей компании. Пиши строго на русском. Пример отзыва:\n",
            "«Быстро»\n",
            "\n",
            "Напиши 1 уникальный отзыв по смыслу, похожий на пример (1-2 предложений). Не копируй пример. Можно перефразировать, добавить детали, но отзыв должен быть уникальным.\n"
          ]
        },
        {
          "name": "stderr",
          "output_type": "stream",
          "text": [
            "Генерируем синтетику:  84%|████████▍ | 1119/1335 [04:45<00:56,  3.85it/s]"
          ]
        },
        {
          "name": "stdout",
          "output_type": "stream",
          "text": [
            "Ты пишешь короткие отзывы жильцов управляющей компании. Пиши строго на русском. Пример отзыва:\n",
            "«ок»\n",
            "\n",
            "Напиши 1 уникальный отзыв по смыслу, похожий на пример (1-2 предложений). Не копируй пример. Можно перефразировать, добавить детали, но отзыв должен быть уникальным.\n"
          ]
        },
        {
          "name": "stderr",
          "output_type": "stream",
          "text": [
            "Генерируем синтетику:  84%|████████▍ | 1121/1335 [04:45<00:50,  4.27it/s]"
          ]
        },
        {
          "name": "stdout",
          "output_type": "stream",
          "text": [
            "Ты пишешь короткие отзывы жильцов управляющей компании. Пиши строго на русском. Пример отзыва:\n",
            "«все понятно спасибо»\n",
            "\n",
            "Напиши 1 уникальный отзыв по смыслу, похожий на пример (1-2 предложений). Не копируй пример. Можно перефразировать, добавить детали, но отзыв должен быть уникальным.\n",
            "Ты пишешь короткие отзывы жильцов управляющей компании. Пиши строго на русском. Пример отзыва:\n",
            "«у меня вопрос был кто зарегистрирован в квартире? почему в квитанции на оплату жкх стоит кол-во зарегистрированных 1? если я там больше не прописана с 2020г»\n",
            "\n",
            "Напиши 1 уникальный отзыв по смыслу, похожий на пример (1-2 предложений). Не копируй пример. Можно перефразировать, добавить детали, но отзыв должен быть уникальным.\n"
          ]
        },
        {
          "name": "stderr",
          "output_type": "stream",
          "text": [
            "Генерируем синтетику:  84%|████████▍ | 1122/1335 [04:46<01:00,  3.53it/s]"
          ]
        },
        {
          "name": "stdout",
          "output_type": "stream",
          "text": [
            "Ты пишешь короткие отзывы жильцов управляющей компании. Пиши строго на русском. Пример отзыва:\n",
            "«пришли быстро. всё исправили. на щитке как оказалось у многих плохо прикручены контакты. спасибо»\n",
            "\n",
            "Напиши 1 уникальный отзыв по смыслу, похожий на пример (1-2 предложений). Не копируй пример. Можно перефразировать, добавить детали, но отзыв должен быть уникальным.\n"
          ]
        },
        {
          "name": "stderr",
          "output_type": "stream",
          "text": [
            "Генерируем синтетику:  84%|████████▍ | 1123/1335 [04:46<01:06,  3.20it/s]"
          ]
        },
        {
          "name": "stdout",
          "output_type": "stream",
          "text": [
            "Ты пишешь короткие отзывы жильцов управляющей компании. Пиши строго на русском. Пример отзыва:\n",
            "«Быстрая реакция на обращение. На данный момент протечек нет.»\n",
            "\n",
            "Напиши 1 уникальный отзыв по смыслу, похожий на пример (1-2 предложений). Не копируй пример. Можно перефразировать, добавить детали, но отзыв должен быть уникальным.\n"
          ]
        },
        {
          "name": "stderr",
          "output_type": "stream",
          "text": [
            "Генерируем синтетику:  84%|████████▍ | 1124/1335 [04:46<01:02,  3.40it/s]"
          ]
        },
        {
          "name": "stdout",
          "output_type": "stream",
          "text": [
            "Ты пишешь короткие отзывы жильцов управляющей компании. Пиши строго на русском. Пример отзыва:\n",
            "«оперативно пришел сотрудник и нашел источник протечки»\n",
            "\n",
            "Напиши 1 уникальный отзыв по смыслу, похожий на пример (1-2 предложений). Не копируй пример. Можно перефразировать, добавить детали, но отзыв должен быть уникальным.\n"
          ]
        },
        {
          "name": "stderr",
          "output_type": "stream",
          "text": [
            "Генерируем синтетику:  84%|████████▍ | 1125/1335 [04:47<00:56,  3.74it/s]"
          ]
        },
        {
          "name": "stdout",
          "output_type": "stream",
          "text": [
            "Ты пишешь короткие отзывы жильцов управляющей компании. Пиши строго на русском. Пример отзыва:\n",
            "«здравствуйте! спасибо огромное специалистам за быстрый ответ и решение нашей проблемы!»\n",
            "\n",
            "Напиши 1 уникальный отзыв по смыслу, похожий на пример (1-2 предложений). Не копируй пример. Можно перефразировать, добавить детали, но отзыв должен быть уникальным.\n"
          ]
        },
        {
          "name": "stderr",
          "output_type": "stream",
          "text": [
            "Генерируем синтетику:  84%|████████▍ | 1126/1335 [04:47<00:58,  3.59it/s]"
          ]
        },
        {
          "name": "stdout",
          "output_type": "stream",
          "text": [
            "Ты пишешь короткие отзывы жильцов управляющей компании. Пиши строго на русском. Пример отзыва:\n",
            "«Тот кто  выполнял заявку, чудо! Оперативно выполнили. Спасибо  :thumbs_up:  :light_skin_tone: »\n",
            "\n",
            "Если в примере есть код эмодзи вида :smile:, то сохрани стиль — вставь похожий код эмодзи.\n",
            "\n",
            "Напиши 1 уникальный отзыв по смыслу, похожий на пример (1-2 предложений). Не копируй пример. Можно перефразировать, добавить детали, но отзыв должен быть уникальным.\n"
          ]
        },
        {
          "name": "stderr",
          "output_type": "stream",
          "text": [
            "Генерируем синтетику:  84%|████████▍ | 1127/1335 [04:47<00:54,  3.80it/s]"
          ]
        },
        {
          "name": "stdout",
          "output_type": "stream",
          "text": [
            "Ты пишешь короткие отзывы жильцов управляющей компании. Пиши строго на русском. Пример отзыва:\n",
            "«Исправлено »\n",
            "\n",
            "Напиши 1 уникальный отзыв по смыслу, похожий на пример (1-2 предложений). Не копируй пример. Можно перефразировать, добавить детали, но отзыв должен быть уникальным.\n"
          ]
        },
        {
          "name": "stderr",
          "output_type": "stream",
          "text": [
            "Генерируем синтетику:  84%|████████▍ | 1128/1335 [04:47<00:55,  3.73it/s]"
          ]
        },
        {
          "name": "stdout",
          "output_type": "stream",
          "text": [
            "Ты пишешь короткие отзывы жильцов управляющей компании. Пиши строго на русском. Пример отзыва:\n",
            "«благодарю »\n",
            "\n",
            "Напиши 1 уникальный отзыв по смыслу, похожий на пример (1-2 предложений). Не копируй пример. Можно перефразировать, добавить детали, но отзыв должен быть уникальным.\n"
          ]
        },
        {
          "name": "stderr",
          "output_type": "stream",
          "text": [
            "Генерируем синтетику:  85%|████████▍ | 1130/1335 [04:48<00:47,  4.28it/s]"
          ]
        },
        {
          "name": "stdout",
          "output_type": "stream",
          "text": [
            "Ты пишешь короткие отзывы жильцов управляющей компании. Пиши строго на русском. Пример отзыва:\n",
            "«Все отлично! Спасибо »\n",
            "\n",
            "Напиши 1 уникальный отзыв по смыслу, похожий на пример (1-2 предложений). Не копируй пример. Можно перефразировать, добавить детали, но отзыв должен быть уникальным.\n",
            "Ты пишешь короткие отзывы жильцов управляющей компании. Пиши строго на русском. Пример отзыва:\n",
            "«Все хорошо, спасибо »\n",
            "\n",
            "Напиши 1 уникальный отзыв по смыслу, похожий на пример (1-2 предложений). Не копируй пример. Можно перефразировать, добавить детали, но отзыв должен быть уникальным.\n"
          ]
        },
        {
          "name": "stderr",
          "output_type": "stream",
          "text": [
            "Генерируем синтетику:  85%|████████▍ | 1131/1335 [04:48<00:46,  4.40it/s]"
          ]
        },
        {
          "name": "stdout",
          "output_type": "stream",
          "text": [
            "Ты пишешь короткие отзывы жильцов управляющей компании. Пиши строго на русском. Пример отзыва:\n",
            "«в приложении не возможно поменять л/с, а по новому квартиру не добавить, т. к. уже есть одобрение на  78148990058»\n",
            "\n",
            "Напиши 1 уникальный отзыв по смыслу, похожий на пример (1-2 предложений). Не копируй пример. Можно перефразировать, добавить детали, но отзыв должен быть уникальным.\n"
          ]
        },
        {
          "name": "stderr",
          "output_type": "stream",
          "text": [
            "Генерируем синтетику:  85%|████████▍ | 1133/1335 [04:49<00:55,  3.67it/s]"
          ]
        },
        {
          "name": "stdout",
          "output_type": "stream",
          "text": [
            "Ты пишешь короткие отзывы жильцов управляющей компании. Пиши строго на русском. Пример отзыва:\n",
            "«быстро отреагировали!»\n",
            "\n",
            "Напиши 1 уникальный отзыв по смыслу, похожий на пример (1-2 предложений). Не копируй пример. Можно перефразировать, добавить детали, но отзыв должен быть уникальным.\n",
            "Ты пишешь короткие отзывы жильцов управляющей компании. Пиши строго на русском. Пример отзыва:\n",
            "«отрегулировать дверь замки . для должного открывания -закрывания»\n",
            "\n",
            "Напиши 1 уникальный отзыв по смыслу, похожий на пример (1-2 предложений). Не копируй пример. Можно перефразировать, добавить детали, но отзыв должен быть уникальным.\n"
          ]
        },
        {
          "name": "stderr",
          "output_type": "stream",
          "text": [
            "Генерируем синтетику:  85%|████████▌ | 1135/1335 [04:49<00:50,  3.98it/s]"
          ]
        },
        {
          "name": "stdout",
          "output_type": "stream",
          "text": [
            "Ты пишешь короткие отзывы жильцов управляющей компании. Пиши строго на русском. Пример отзыва:\n",
            "«долго, но всё равно, спасибо»\n",
            "\n",
            "Напиши 1 уникальный отзыв по смыслу, похожий на пример (1-2 предложений). Не копируй пример. Можно перефразировать, добавить детали, но отзыв должен быть уникальным.\n",
            "Ты пишешь короткие отзывы жильцов управляющей компании. Пиши строго на русском. Пример отзыва:\n",
            "«все быстро и хорошо»\n",
            "\n",
            "Напиши 1 уникальный отзыв по смыслу, похожий на пример (1-2 предложений). Не копируй пример. Можно перефразировать, добавить детали, но отзыв должен быть уникальным.\n"
          ]
        },
        {
          "name": "stderr",
          "output_type": "stream",
          "text": [
            "Генерируем синтетику:  85%|████████▌ | 1137/1335 [04:50<00:47,  4.20it/s]"
          ]
        },
        {
          "name": "stdout",
          "output_type": "stream",
          "text": [
            "Ты пишешь короткие отзывы жильцов управляющей компании. Пиши строго на русском. Пример отзыва:\n",
            "«огромное спасибо за оперативность»\n",
            "\n",
            "Напиши 1 уникальный отзыв по смыслу, похожий на пример (1-2 предложений). Не копируй пример. Можно перефразировать, добавить детали, но отзыв должен быть уникальным.\n",
            "Ты пишешь короткие отзывы жильцов управляющей компании. Пиши строго на русском. Пример отзыва:\n",
            "«мастер все сделал хорошо, все замазал, установил крепко и подключил.»\n",
            "\n",
            "Напиши 1 уникальный отзыв по смыслу, похожий на пример (1-2 предложений). Не копируй пример. Можно перефразировать, добавить детали, но отзыв должен быть уникальным.\n"
          ]
        },
        {
          "name": "stderr",
          "output_type": "stream",
          "text": [
            "Генерируем синтетику:  85%|████████▌ | 1139/1335 [04:50<00:43,  4.53it/s]"
          ]
        },
        {
          "name": "stdout",
          "output_type": "stream",
          "text": [
            "Ты пишешь короткие отзывы жильцов управляющей компании. Пиши строго на русском. Пример отзыва:\n",
            "«все отлично.»\n",
            "\n",
            "Напиши 1 уникальный отзыв по смыслу, похожий на пример (1-2 предложений). Не копируй пример. Можно перефразировать, добавить детали, но отзыв должен быть уникальным.\n",
            "Ты пишешь короткие отзывы жильцов управляющей компании. Пиши строго на русском. Пример отзыва:\n",
            "«добрый день! спасибо! надеюсь конусы не так легко будет сдвинуть как сферы»\n",
            "\n",
            "Напиши 1 уникальный отзыв по смыслу, похожий на пример (1-2 предложений). Не копируй пример. Можно перефразировать, добавить детали, но отзыв должен быть уникальным.\n"
          ]
        },
        {
          "name": "stderr",
          "output_type": "stream",
          "text": [
            "Генерируем синтетику:  85%|████████▌ | 1141/1335 [04:50<00:41,  4.70it/s]"
          ]
        },
        {
          "name": "stdout",
          "output_type": "stream",
          "text": [
            "Ты пишешь короткие отзывы жильцов управляющей компании. Пиши строго на русском. Пример отзыва:\n",
            "«быстро среагировали! спасибо»\n",
            "\n",
            "Напиши 1 уникальный отзыв по смыслу, похожий на пример (1-2 предложений). Не копируй пример. Можно перефразировать, добавить детали, но отзыв должен быть уникальным.\n",
            "Ты пишешь короткие отзывы жильцов управляющей компании. Пиши строго на русском. Пример отзыва:\n",
            "«выполнено, спасибо»\n",
            "\n",
            "Напиши 1 уникальный отзыв по смыслу, похожий на пример (1-2 предложений). Не копируй пример. Можно перефразировать, добавить детали, но отзыв должен быть уникальным.\n"
          ]
        },
        {
          "name": "stderr",
          "output_type": "stream",
          "text": [
            "Генерируем синтетику:  86%|████████▌ | 1142/1335 [04:51<00:39,  4.84it/s]"
          ]
        },
        {
          "name": "stdout",
          "output_type": "stream",
          "text": [
            "Ты пишешь короткие отзывы жильцов управляющей компании. Пиши строго на русском. Пример отзыва:\n",
            "«Спасибо за проверку, за обратный звонок и разъяснение »\n",
            "\n",
            "Напиши 1 уникальный отзыв по смыслу, похожий на пример (1-2 предложений). Не копируй пример. Можно перефразировать, добавить детали, но отзыв должен быть уникальным.\n"
          ]
        },
        {
          "name": "stderr",
          "output_type": "stream",
          "text": [
            "Генерируем синтетику:  86%|████████▌ | 1143/1335 [04:51<00:41,  4.68it/s]"
          ]
        },
        {
          "name": "stdout",
          "output_type": "stream",
          "text": [
            "Ты пишешь короткие отзывы жильцов управляющей компании. Пиши строго на русском. Пример отзыва:\n",
            "«долго мастер не приходил после оплаты»\n",
            "\n",
            "Напиши 1 уникальный отзыв по смыслу, похожий на пример (1-2 предложений). Не копируй пример. Можно перефразировать, добавить детали, но отзыв должен быть уникальным.\n"
          ]
        },
        {
          "name": "stderr",
          "output_type": "stream",
          "text": [
            "Генерируем синтетику:  86%|████████▌ | 1144/1335 [04:51<00:42,  4.50it/s]"
          ]
        },
        {
          "name": "stdout",
          "output_type": "stream",
          "text": [
            "Ты пишешь короткие отзывы жильцов управляющей компании. Пиши строго на русском. Пример отзыва:\n",
            "«пока не создашь заявку, выполняется только уборка техникой»\n",
            "\n",
            "Напиши 1 уникальный отзыв по смыслу, похожий на пример (1-2 предложений). Не копируй пример. Можно перефразировать, добавить детали, но отзыв должен быть уникальным.\n"
          ]
        },
        {
          "name": "stderr",
          "output_type": "stream",
          "text": [
            "Генерируем синтетику:  86%|████████▌ | 1145/1335 [04:51<00:45,  4.18it/s]"
          ]
        },
        {
          "name": "stdout",
          "output_type": "stream",
          "text": [
            "Ты пишешь короткие отзывы жильцов управляющей компании. Пиши строго на русском. Пример отзыва:\n",
            "«-1 звезда за то,что не оперативно реагируете на заявки банальные»\n",
            "\n",
            "Напиши 1 уникальный отзыв по смыслу, похожий на пример (1-2 предложений). Не копируй пример. Можно перефразировать, добавить детали, но отзыв должен быть уникальным.\n"
          ]
        },
        {
          "name": "stderr",
          "output_type": "stream",
          "text": [
            "Генерируем синтетику:  86%|████████▌ | 1147/1335 [04:52<00:43,  4.35it/s]"
          ]
        },
        {
          "name": "stdout",
          "output_type": "stream",
          "text": [
            "Ты пишешь короткие отзывы жильцов управляющей компании. Пиши строго на русском. Пример отзыва:\n",
            "«Все быстро и четко!!! Спасибо!»\n",
            "\n",
            "Напиши 1 уникальный отзыв по смыслу, похожий на пример (1-2 предложений). Не копируй пример. Можно перефразировать, добавить детали, но отзыв должен быть уникальным.\n",
            "Ты пишешь короткие отзывы жильцов управляющей компании. Пиши строго на русском. Пример отзыва:\n",
            "«Роман и его коллега СУПЕР специалисты  :thumbs_up:  :light_skin_tone:  :thumbs_up:  :light_skin_tone:  :thumbs_up:  :light_skin_tone: »\n",
            "\n",
            "Если в примере есть код эмодзи вида :smile:, то сохрани стиль — вставь похожий код эмодзи.\n",
            "\n",
            "Напиши 1 уникальный отзыв по смыслу, похожий на пример (1-2 предложений). Не копируй пример. Можно перефразировать, добавить детали, но отзыв должен быть уникальным.\n"
          ]
        },
        {
          "name": "stderr",
          "output_type": "stream",
          "text": [
            "Генерируем синтетику:  86%|████████▌ | 1148/1335 [04:52<00:48,  3.83it/s]"
          ]
        },
        {
          "name": "stdout",
          "output_type": "stream",
          "text": [
            "Ты пишешь короткие отзывы жильцов управляющей компании. Пиши строго на русском. Пример отзыва:\n",
            "«спасибо большое , в квартире а в правду очень тепло стало как сделали отопление .  вот что значит опытные сантехники»\n",
            "\n",
            "Напиши 1 уникальный отзыв по смыслу, похожий на пример (1-2 предложений). Не копируй пример. Можно перефразировать, добавить детали, но отзыв должен быть уникальным.\n"
          ]
        },
        {
          "name": "stderr",
          "output_type": "stream",
          "text": [
            "Генерируем синтетику:  86%|████████▌ | 1149/1335 [04:52<00:53,  3.50it/s]"
          ]
        },
        {
          "name": "stdout",
          "output_type": "stream",
          "text": [
            "Ты пишешь короткие отзывы жильцов управляющей компании. Пиши строго на русском. Пример отзыва:\n",
            "«Потрясающе  :smiling_cat_with_heart-eyes:  »\n",
            "\n",
            "Напиши 1 уникальный отзыв по смыслу, похожий на пример (1-2 предложений). Не копируй пример. Можно перефразировать, добавить детали, но отзыв должен быть уникальным.\n"
          ]
        },
        {
          "name": "stderr",
          "output_type": "stream",
          "text": [
            "Генерируем синтетику:  86%|████████▌ | 1150/1335 [04:53<00:49,  3.74it/s]"
          ]
        },
        {
          "name": "stdout",
          "output_type": "stream",
          "text": [
            "Ты пишешь короткие отзывы жильцов управляющей компании. Пиши строго на русском. Пример отзыва:\n",
            "«добрый вечер ! это как нет расчетов , мне выставляют счета с этого приложения и я их оплачиваю»\n",
            "\n",
            "Напиши 1 уникальный отзыв по смыслу, похожий на пример (1-2 предложений). Не копируй пример. Можно перефразировать, добавить детали, но отзыв должен быть уникальным.\n"
          ]
        },
        {
          "name": "stderr",
          "output_type": "stream",
          "text": [
            "Генерируем синтетику:  86%|████████▌ | 1151/1335 [04:53<00:48,  3.76it/s]"
          ]
        },
        {
          "name": "stdout",
          "output_type": "stream",
          "text": [
            "Ты пишешь короткие отзывы жильцов управляющей компании. Пиши строго на русском. Пример отзыва:\n",
            "«спасибо за оперативный ответ!»\n",
            "\n",
            "Напиши 1 уникальный отзыв по смыслу, похожий на пример (1-2 предложений). Не копируй пример. Можно перефразировать, добавить детали, но отзыв должен быть уникальным.\n"
          ]
        },
        {
          "name": "stderr",
          "output_type": "stream",
          "text": [
            "Генерируем синтетику:  86%|████████▋ | 1152/1335 [04:53<00:46,  3.95it/s]"
          ]
        },
        {
          "name": "stdout",
          "output_type": "stream",
          "text": [
            "Ты пишешь короткие отзывы жильцов управляющей компании. Пиши строго на русском. Пример отзыва:\n",
            "«Большое спасибо сантехнику! »\n",
            "\n",
            "Напиши 1 уникальный отзыв по смыслу, похожий на пример (1-2 предложений). Не копируй пример. Можно перефразировать, добавить детали, но отзыв должен быть уникальным.\n"
          ]
        },
        {
          "name": "stderr",
          "output_type": "stream",
          "text": [
            "Генерируем синтетику:  86%|████████▋ | 1153/1335 [04:53<00:48,  3.75it/s]"
          ]
        },
        {
          "name": "stdout",
          "output_type": "stream",
          "text": [
            "Ты пишешь короткие отзывы жильцов управляющей компании. Пиши строго на русском. Пример отзыва:\n",
            "«Проблема устранена, достаточно оперативно »\n",
            "\n",
            "Напиши 1 уникальный отзыв по смыслу, похожий на пример (1-2 предложений). Не копируй пример. Можно перефразировать, добавить детали, но отзыв должен быть уникальным.\n"
          ]
        },
        {
          "name": "stderr",
          "output_type": "stream",
          "text": [
            "Генерируем синтетику:  86%|████████▋ | 1154/1335 [04:54<00:49,  3.69it/s]"
          ]
        },
        {
          "name": "stdout",
          "output_type": "stream",
          "text": [
            "Ты пишешь короткие отзывы жильцов управляющей компании. Пиши строго на русском. Пример отзыва:\n",
            "«очень быстро отреагировали, проблему решили»\n",
            "\n",
            "Напиши 1 уникальный отзыв по смыслу, похожий на пример (1-2 предложений). Не копируй пример. Можно перефразировать, добавить детали, но отзыв должен быть уникальным.\n"
          ]
        },
        {
          "name": "stderr",
          "output_type": "stream",
          "text": [
            "Генерируем синтетику:  87%|████████▋ | 1155/1335 [04:54<00:45,  3.92it/s]"
          ]
        },
        {
          "name": "stdout",
          "output_type": "stream",
          "text": [
            "Ты пишешь короткие отзывы жильцов управляющей компании. Пиши строго на русском. Пример отзыва:\n",
            "«все оперативно устранили»\n",
            "\n",
            "Напиши 1 уникальный отзыв по смыслу, похожий на пример (1-2 предложений). Не копируй пример. Можно перефразировать, добавить детали, но отзыв должен быть уникальным.\n"
          ]
        },
        {
          "name": "stderr",
          "output_type": "stream",
          "text": [
            "Генерируем синтетику:  87%|████████▋ | 1156/1335 [04:54<00:45,  3.94it/s]"
          ]
        },
        {
          "name": "stdout",
          "output_type": "stream",
          "text": [
            "Ты пишешь короткие отзывы жильцов управляющей компании. Пиши строго на русском. Пример отзыва:\n",
            "«все оперативно и качественно»\n",
            "\n",
            "Напиши 1 уникальный отзыв по смыслу, похожий на пример (1-2 предложений). Не копируй пример. Можно перефразировать, добавить детали, но отзыв должен быть уникальным.\n"
          ]
        },
        {
          "name": "stderr",
          "output_type": "stream",
          "text": [
            "Генерируем синтетику:  87%|████████▋ | 1157/1335 [04:54<00:45,  3.90it/s]"
          ]
        },
        {
          "name": "stdout",
          "output_type": "stream",
          "text": [
            "Ты пишешь короткие отзывы жильцов управляющей компании. Пиши строго на русском. Пример отзыва:\n",
            "«спасибо за быстрый отклик на заявку, к сожалению проблема не решилась, запах остался, будем ждать потоп.»\n",
            "\n",
            "Напиши 1 уникальный отзыв по смыслу, похожий на пример (1-2 предложений). Не копируй пример. Можно перефразировать, добавить детали, но отзыв должен быть уникальным.\n"
          ]
        },
        {
          "name": "stderr",
          "output_type": "stream",
          "text": [
            "Генерируем синтетику:  87%|████████▋ | 1158/1335 [04:55<00:46,  3.80it/s]"
          ]
        },
        {
          "name": "stdout",
          "output_type": "stream",
          "text": [
            "Ты пишешь короткие отзывы жильцов управляющей компании. Пиши строго на русском. Пример отзыва:\n",
            "«большое спасибо за качественную,быструю и  профессиональную работу!!!»\n",
            "\n",
            "Напиши 1 уникальный отзыв по смыслу, похожий на пример (1-2 предложений). Не копируй пример. Можно перефразировать, добавить детали, но отзыв должен быть уникальным.\n"
          ]
        },
        {
          "name": "stderr",
          "output_type": "stream",
          "text": [
            "Генерируем синтетику:  87%|████████▋ | 1159/1335 [04:55<00:45,  3.86it/s]"
          ]
        },
        {
          "name": "stdout",
          "output_type": "stream",
          "text": [
            "Ты пишешь короткие отзывы жильцов управляющей компании. Пиши строго на русском. Пример отзыва:\n",
            "«спасибо, все отлично!»\n",
            "\n",
            "Напиши 1 уникальный отзыв по смыслу, похожий на пример (1-2 предложений). Не копируй пример. Можно перефразировать, добавить детали, но отзыв должен быть уникальным.\n"
          ]
        },
        {
          "name": "stderr",
          "output_type": "stream",
          "text": [
            "Генерируем синтетику:  87%|████████▋ | 1160/1335 [04:55<00:43,  4.02it/s]"
          ]
        },
        {
          "name": "stdout",
          "output_type": "stream",
          "text": [
            "Ты пишешь короткие отзывы жильцов управляющей компании. Пиши строго на русском. Пример отзыва:\n",
            "«оплата за коммунальные услуги оплачены 30.12.2024. когда можно пере заказать  справку»\n",
            "\n",
            "Напиши 1 уникальный отзыв по смыслу, похожий на пример (1-2 предложений). Не копируй пример. Можно перефразировать, добавить детали, но отзыв должен быть уникальным.\n"
          ]
        },
        {
          "name": "stderr",
          "output_type": "stream",
          "text": [
            "Генерируем синтетику:  87%|████████▋ | 1162/1335 [04:56<00:43,  3.95it/s]"
          ]
        },
        {
          "name": "stdout",
          "output_type": "stream",
          "text": [
            "Ты пишешь короткие отзывы жильцов управляющей компании. Пиши строго на русском. Пример отзыва:\n",
            "«решили просто закрыть, не выполнив?!»\n",
            "\n",
            "Напиши 1 уникальный отзыв по смыслу, похожий на пример (1-2 предложений). Не копируй пример. Можно перефразировать, добавить детали, но отзыв должен быть уникальным.\n",
            "Ты пишешь короткие отзывы жильцов управляющей компании. Пиши строго на русском. Пример отзыва:\n",
            "«спасибо за отмену заявки по моей просьбе»\n",
            "\n",
            "Напиши 1 уникальный отзыв по смыслу, похожий на пример (1-2 предложений). Не копируй пример. Можно перефразировать, добавить детали, но отзыв должен быть уникальным.\n"
          ]
        },
        {
          "name": "stderr",
          "output_type": "stream",
          "text": [
            "Генерируем синтетику:  87%|████████▋ | 1163/1335 [04:56<00:41,  4.13it/s]"
          ]
        },
        {
          "name": "stdout",
          "output_type": "stream",
          "text": [
            "Ты пишешь короткие отзывы жильцов управляющей компании. Пиши строго на русском. Пример отзыва:\n",
            "«спасибо большое за оперативность!»\n",
            "\n",
            "Напиши 1 уникальный отзыв по смыслу, похожий на пример (1-2 предложений). Не копируй пример. Можно перефразировать, добавить детали, но отзыв должен быть уникальным.\n"
          ]
        },
        {
          "name": "stderr",
          "output_type": "stream",
          "text": [
            "Генерируем синтетику:  87%|████████▋ | 1164/1335 [04:56<00:41,  4.12it/s]"
          ]
        },
        {
          "name": "stdout",
          "output_type": "stream",
          "text": [
            "Ты пишешь короткие отзывы жильцов управляющей компании. Пиши строго на русском. Пример отзыва:\n",
            "«Замечательный мастер »\n",
            "\n",
            "Напиши 1 уникальный отзыв по смыслу, похожий на пример (1-2 предложений). Не копируй пример. Можно перефразировать, добавить детали, но отзыв должен быть уникальным.\n"
          ]
        },
        {
          "name": "stderr",
          "output_type": "stream",
          "text": [
            "Генерируем синтетику:  87%|████████▋ | 1165/1335 [04:56<00:39,  4.25it/s]"
          ]
        },
        {
          "name": "stdout",
          "output_type": "stream",
          "text": [
            "Ты пишешь короткие отзывы жильцов управляющей компании. Пиши строго на русском. Пример отзыва:\n",
            "«отлично! так бы по всем сервисам исполнялось бы. чётко и быстро.»\n",
            "\n",
            "Напиши 1 уникальный отзыв по смыслу, похожий на пример (1-2 предложений). Не копируй пример. Можно перефразировать, добавить детали, но отзыв должен быть уникальным.\n"
          ]
        },
        {
          "name": "stderr",
          "output_type": "stream",
          "text": [
            "Генерируем синтетику:  87%|████████▋ | 1166/1335 [04:57<00:41,  4.03it/s]"
          ]
        },
        {
          "name": "stdout",
          "output_type": "stream",
          "text": [
            "Ты пишешь короткие отзывы жильцов управляющей компании. Пиши строго на русском. Пример отзыва:\n",
            "«спасибо!!»\n",
            "\n",
            "Напиши 1 уникальный отзыв по смыслу, похожий на пример (1-2 предложений). Не копируй пример. Можно перефразировать, добавить детали, но отзыв должен быть уникальным.\n"
          ]
        },
        {
          "name": "stderr",
          "output_type": "stream",
          "text": [
            "Генерируем синтетику:  87%|████████▋ | 1167/1335 [04:57<00:40,  4.20it/s]"
          ]
        },
        {
          "name": "stdout",
          "output_type": "stream",
          "text": [
            "Ты пишешь короткие отзывы жильцов управляющей компании. Пиши строго на русском. Пример отзыва:\n",
            "«Спасибо большое, все отлично! »\n",
            "\n",
            "Напиши 1 уникальный отзыв по смыслу, похожий на пример (1-2 предложений). Не копируй пример. Можно перефразировать, добавить детали, но отзыв должен быть уникальным.\n"
          ]
        },
        {
          "name": "stderr",
          "output_type": "stream",
          "text": [
            "Генерируем синтетику:  87%|████████▋ | 1168/1335 [04:57<00:39,  4.25it/s]"
          ]
        },
        {
          "name": "stdout",
          "output_type": "stream",
          "text": [
            "Ты пишешь короткие отзывы жильцов управляющей компании. Пиши строго на русском. Пример отзыва:\n",
            "«специалисты приехали быстро, спустили грузовой застрявший лифт на 1 этаж, освободили человека. большое спасибо \n",
            "»\n",
            "\n",
            "Напиши 1 уникальный отзыв по смыслу, похожий на пример (1-2 предложений). Не копируй пример. Можно перефразировать, добавить детали, но отзыв должен быть уникальным.\n"
          ]
        },
        {
          "name": "stderr",
          "output_type": "stream",
          "text": [
            "Генерируем синтетику:  88%|████████▊ | 1169/1335 [04:57<00:42,  3.89it/s]"
          ]
        },
        {
          "name": "stdout",
          "output_type": "stream",
          "text": [
            "Ты пишешь короткие отзывы жильцов управляющей компании. Пиши строго на русском. Пример отзыва:\n",
            "«все отлично, татьяне большое спасибо, оперативно помогла решить проблему»\n",
            "\n",
            "Напиши 1 уникальный отзыв по смыслу, похожий на пример (1-2 предложений). Не копируй пример. Можно перефразировать, добавить детали, но отзыв должен быть уникальным.\n"
          ]
        },
        {
          "name": "stderr",
          "output_type": "stream",
          "text": [
            "Генерируем синтетику:  88%|████████▊ | 1170/1335 [04:58<00:44,  3.67it/s]"
          ]
        },
        {
          "name": "stdout",
          "output_type": "stream",
          "text": [
            "Ты пишешь короткие отзывы жильцов управляющей компании. Пиши строго на русском. Пример отзыва:\n",
            "«вопрос решили очень быстро. большое спасибо!»\n",
            "\n",
            "Напиши 1 уникальный отзыв по смыслу, похожий на пример (1-2 предложений). Не копируй пример. Можно перефразировать, добавить детали, но отзыв должен быть уникальным.\n"
          ]
        },
        {
          "name": "stderr",
          "output_type": "stream",
          "text": [
            "Генерируем синтетику:  88%|████████▊ | 1171/1335 [04:58<00:42,  3.90it/s]"
          ]
        },
        {
          "name": "stdout",
          "output_type": "stream",
          "text": [
            "Ты пишешь короткие отзывы жильцов управляющей компании. Пиши строго на русском. Пример отзыва:\n",
            "«спасибо большое юрию! оперативно позвонил, проконсультировал, решили проблему  :thumbs_up:  :medium_skin_tone:  спасибо»\n",
            "\n",
            "Если в примере есть код эмодзи вида :smile:, то сохрани стиль — вставь похожий код эмодзи.\n",
            "\n",
            "Напиши 1 уникальный отзыв по смыслу, похожий на пример (1-2 предложений). Не копируй пример. Можно перефразировать, добавить детали, но отзыв должен быть уникальным.\n"
          ]
        },
        {
          "name": "stderr",
          "output_type": "stream",
          "text": [
            "Генерируем синтетику:  88%|████████▊ | 1172/1335 [04:58<00:44,  3.63it/s]"
          ]
        },
        {
          "name": "stdout",
          "output_type": "stream",
          "text": [
            "Ты пишешь короткие отзывы жильцов управляющей компании. Пиши строго на русском. Пример отзыва:\n",
            "«супер оперативно »\n",
            "\n",
            "Напиши 1 уникальный отзыв по смыслу, похожий на пример (1-2 предложений). Не копируй пример. Можно перефразировать, добавить детали, но отзыв должен быть уникальным.\n"
          ]
        },
        {
          "name": "stderr",
          "output_type": "stream",
          "text": [
            "Генерируем синтетику:  88%|████████▊ | 1173/1335 [04:59<00:45,  3.55it/s]"
          ]
        },
        {
          "name": "stdout",
          "output_type": "stream",
          "text": [
            "Ты пишешь короткие отзывы жильцов управляющей компании. Пиши строго на русском. Пример отзыва:\n",
            "«работа выполнена быстро, проблема решена»\n",
            "\n",
            "Напиши 1 уникальный отзыв по смыслу, похожий на пример (1-2 предложений). Не копируй пример. Можно перефразировать, добавить детали, но отзыв должен быть уникальным.\n"
          ]
        },
        {
          "name": "stderr",
          "output_type": "stream",
          "text": [
            "Генерируем синтетику:  88%|████████▊ | 1174/1335 [04:59<00:41,  3.87it/s]"
          ]
        },
        {
          "name": "stdout",
          "output_type": "stream",
          "text": [
            "Ты пишешь короткие отзывы жильцов управляющей компании. Пиши строго на русском. Пример отзыва:\n",
            "«Отреагировали оперативно, проблему решили и исправили по звонку телефона! \n",
            " »\n",
            "\n",
            "Напиши 1 уникальный отзыв по смыслу, похожий на пример (1-2 предложений). Не копируй пример. Можно перефразировать, добавить детали, но отзыв должен быть уникальным.\n"
          ]
        },
        {
          "name": "stderr",
          "output_type": "stream",
          "text": [
            "Генерируем синтетику:  88%|████████▊ | 1175/1335 [04:59<00:41,  3.89it/s]"
          ]
        },
        {
          "name": "stdout",
          "output_type": "stream",
          "text": [
            "Ты пишешь короткие отзывы жильцов управляющей компании. Пиши строго на русском. Пример отзыва:\n",
            "«супер»\n",
            "\n",
            "Напиши 1 уникальный отзыв по смыслу, похожий на пример (1-2 предложений). Не копируй пример. Можно перефразировать, добавить детали, но отзыв должен быть уникальным.\n"
          ]
        },
        {
          "name": "stderr",
          "output_type": "stream",
          "text": [
            "Генерируем синтетику:  88%|████████▊ | 1176/1335 [04:59<00:40,  3.94it/s]"
          ]
        },
        {
          "name": "stdout",
          "output_type": "stream",
          "text": [
            "Ты пишешь короткие отзывы жильцов управляющей компании. Пиши строго на русском. Пример отзыва:\n",
            "«Оперативно и качественно »\n",
            "\n",
            "Напиши 1 уникальный отзыв по смыслу, похожий на пример (1-2 предложений). Не копируй пример. Можно перефразировать, добавить детали, но отзыв должен быть уникальным.\n"
          ]
        },
        {
          "name": "stderr",
          "output_type": "stream",
          "text": [
            "Генерируем синтетику:  88%|████████▊ | 1178/1335 [05:00<00:36,  4.29it/s]"
          ]
        },
        {
          "name": "stdout",
          "output_type": "stream",
          "text": [
            "Ты пишешь короткие отзывы жильцов управляющей компании. Пиши строго на русском. Пример отзыва:\n",
            "«данные расчета не предоставили.»\n",
            "\n",
            "Напиши 1 уникальный отзыв по смыслу, похожий на пример (1-2 предложений). Не копируй пример. Можно перефразировать, добавить детали, но отзыв должен быть уникальным.\n",
            "Ты пишешь короткие отзывы жильцов управляющей компании. Пиши строго на русском. Пример отзыва:\n",
            "«спасибо огромное ! :folded_hands:  :medium-light_skin_tone: »\n",
            "\n",
            "Если в примере есть код эмодзи вида :smile:, то сохрани стиль — вставь похожий код эмодзи.\n",
            "\n",
            "Напиши 1 уникальный отзыв по смыслу, похожий на пример (1-2 предложений). Не копируй пример. Можно перефразировать, добавить детали, но отзыв должен быть уникальным.\n"
          ]
        },
        {
          "name": "stderr",
          "output_type": "stream",
          "text": [
            "Генерируем синтетику:  88%|████████▊ | 1179/1335 [05:00<00:35,  4.37it/s]"
          ]
        },
        {
          "name": "stdout",
          "output_type": "stream",
          "text": [
            "Ты пишешь короткие отзывы жильцов управляющей компании. Пиши строго на русском. Пример отзыва:\n",
            "«Спасибо за вашу работу! »\n",
            "\n",
            "Напиши 1 уникальный отзыв по смыслу, похожий на пример (1-2 предложений). Не копируй пример. Можно перефразировать, добавить детали, но отзыв должен быть уникальным.\n"
          ]
        },
        {
          "name": "stderr",
          "output_type": "stream",
          "text": [
            "Генерируем синтетику:  88%|████████▊ | 1180/1335 [05:00<00:34,  4.52it/s]"
          ]
        },
        {
          "name": "stdout",
          "output_type": "stream",
          "text": [
            "Ты пишешь короткие отзывы жильцов управляющей компании. Пиши строго на русском. Пример отзыва:\n",
            "« Спасибо большое за оперативность :thumbs_up:  :thumbs_up:  :thumbs_up: »\n",
            "\n",
            "Если в примере есть код эмодзи вида :smile:, то сохрани стиль — вставь похожий код эмодзи.\n",
            "\n",
            "Напиши 1 уникальный отзыв по смыслу, похожий на пример (1-2 предложений). Не копируй пример. Можно перефразировать, добавить детали, но отзыв должен быть уникальным.\n"
          ]
        },
        {
          "name": "stderr",
          "output_type": "stream",
          "text": [
            "Генерируем синтетику:  88%|████████▊ | 1181/1335 [05:00<00:37,  4.14it/s]"
          ]
        },
        {
          "name": "stdout",
          "output_type": "stream",
          "text": [
            "Ты пишешь короткие отзывы жильцов управляющей компании. Пиши строго на русском. Пример отзыва:\n",
            "«качественно,быстро»\n",
            "\n",
            "Напиши 1 уникальный отзыв по смыслу, похожий на пример (1-2 предложений). Не копируй пример. Можно перефразировать, добавить детали, но отзыв должен быть уникальным.\n"
          ]
        },
        {
          "name": "stderr",
          "output_type": "stream",
          "text": [
            "Генерируем синтетику:  89%|████████▊ | 1182/1335 [05:01<00:38,  4.02it/s]"
          ]
        },
        {
          "name": "stdout",
          "output_type": "stream",
          "text": [
            "Ты пишешь короткие отзывы жильцов управляющей компании. Пиши строго на русском. Пример отзыва:\n",
            "«Татьяна - супер сотрудник, оперативно решает все вопросы, касательно аренды парковочного места в Пригороде Лесном.   Татьяна максимально ответственный и отзывчивый человек!  Лучший сотрудник в Управляющей компании, по моему личному мнению!»\n",
            "\n",
            "Напиши 1 уникальный отзыв по смыслу, похожий на пример (1-2 предложений). Не копируй пример. Можно перефразировать, добавить детали, но отзыв должен быть уникальным.\n"
          ]
        },
        {
          "name": "stderr",
          "output_type": "stream",
          "text": [
            "Генерируем синтетику:  89%|████████▊ | 1183/1335 [05:01<00:46,  3.30it/s]"
          ]
        },
        {
          "name": "stdout",
          "output_type": "stream",
          "text": [
            "Ты пишешь короткие отзывы жильцов управляющей компании. Пиши строго на русском. Пример отзыва:\n",
            "«большое спасибо за оперативность, в решении данной проблемы»\n",
            "\n",
            "Напиши 1 уникальный отзыв по смыслу, похожий на пример (1-2 предложений). Не копируй пример. Можно перефразировать, добавить детали, но отзыв должен быть уникальным.\n"
          ]
        },
        {
          "name": "stderr",
          "output_type": "stream",
          "text": [
            "Генерируем синтетику:  89%|████████▊ | 1184/1335 [05:01<00:43,  3.50it/s]"
          ]
        },
        {
          "name": "stdout",
          "output_type": "stream",
          "text": [
            "Ты пишешь короткие отзывы жильцов управляющей компании. Пиши строго на русском. Пример отзыва:\n",
            "«Спасибо за обратную связь!»\n",
            "\n",
            "Напиши 1 уникальный отзыв по смыслу, похожий на пример (1-2 предложений). Не копируй пример. Можно перефразировать, добавить детали, но отзыв должен быть уникальным.\n"
          ]
        },
        {
          "name": "stderr",
          "output_type": "stream",
          "text": [
            "Генерируем синтетику:  89%|████████▉ | 1186/1335 [05:02<00:38,  3.88it/s]"
          ]
        },
        {
          "name": "stdout",
          "output_type": "stream",
          "text": [
            "Ты пишешь короткие отзывы жильцов управляющей компании. Пиши строго на русском. Пример отзыва:\n",
            "«спасибо большое за помощь в решении вопроса.»\n",
            "\n",
            "Напиши 1 уникальный отзыв по смыслу, похожий на пример (1-2 предложений). Не копируй пример. Можно перефразировать, добавить детали, но отзыв должен быть уникальным.\n",
            "Ты пишешь короткие отзывы жильцов управляющей компании. Пиши строго на русском. Пример отзыва:\n",
            "«а тлично»\n",
            "\n",
            "Напиши 1 уникальный отзыв по смыслу, похожий на пример (1-2 предложений). Не копируй пример. Можно перефразировать, добавить детали, но отзыв должен быть уникальным.\n"
          ]
        },
        {
          "name": "stderr",
          "output_type": "stream",
          "text": [
            "Генерируем синтетику:  89%|████████▉ | 1187/1335 [05:02<00:35,  4.16it/s]"
          ]
        },
        {
          "name": "stdout",
          "output_type": "stream",
          "text": [
            "Ты пишешь короткие отзывы жильцов управляющей компании. Пиши строго на русском. Пример отзыва:\n",
            "«спасибо! александр все оперативно выполнил. очень внимательно и уважительно исполнил заказ.»\n",
            "\n",
            "Напиши 1 уникальный отзыв по смыслу, похожий на пример (1-2 предложений). Не копируй пример. Можно перефразировать, добавить детали, но отзыв должен быть уникальным.\n"
          ]
        },
        {
          "name": "stderr",
          "output_type": "stream",
          "text": [
            "Генерируем синтетику:  89%|████████▉ | 1189/1335 [05:03<00:34,  4.26it/s]"
          ]
        },
        {
          "name": "stdout",
          "output_type": "stream",
          "text": [
            "Ты пишешь короткие отзывы жильцов управляющей компании. Пиши строго на русском. Пример отзыва:\n",
            "«спасибо оперативно починили  :thumbs_up: »\n",
            "\n",
            "Если в примере есть код эмодзи вида :smile:, то сохрани стиль — вставь похожий код эмодзи.\n",
            "\n",
            "Напиши 1 уникальный отзыв по смыслу, похожий на пример (1-2 предложений). Не копируй пример. Можно перефразировать, добавить детали, но отзыв должен быть уникальным.\n",
            "Ты пишешь короткие отзывы жильцов управляющей компании. Пиши строго на русском. Пример отзыва:\n",
            "«Спасибо большое! Заявка выполнена быстро и качественно!»\n",
            "\n",
            "Напиши 1 уникальный отзыв по смыслу, похожий на пример (1-2 предложений). Не копируй пример. Можно перефразировать, добавить детали, но отзыв должен быть уникальным.\n"
          ]
        },
        {
          "name": "stderr",
          "output_type": "stream",
          "text": [
            "Генерируем синтетику:  89%|████████▉ | 1190/1335 [05:03<00:34,  4.18it/s]"
          ]
        },
        {
          "name": "stdout",
          "output_type": "stream",
          "text": [
            "Ты пишешь короткие отзывы жильцов управляющей компании. Пиши строго на русском. Пример отзыва:\n",
            "«спасибо большое, очень быстро и оперативно ,мастер классный , отлично знает свою работу»\n",
            "\n",
            "Напиши 1 уникальный отзыв по смыслу, похожий на пример (1-2 предложений). Не копируй пример. Можно перефразировать, добавить детали, но отзыв должен быть уникальным.\n"
          ]
        },
        {
          "name": "stderr",
          "output_type": "stream",
          "text": [
            "Генерируем синтетику:  89%|████████▉ | 1191/1335 [05:03<00:38,  3.71it/s]"
          ]
        },
        {
          "name": "stdout",
          "output_type": "stream",
          "text": [
            "Ты пишешь короткие отзывы жильцов управляющей компании. Пиши строго на русском. Пример отзыва:\n",
            "«спасибо большое!!!!»\n",
            "\n",
            "Напиши 1 уникальный отзыв по смыслу, похожий на пример (1-2 предложений). Не копируй пример. Можно перефразировать, добавить детали, но отзыв должен быть уникальным.\n"
          ]
        },
        {
          "name": "stderr",
          "output_type": "stream",
          "text": [
            "Генерируем синтетику:  89%|████████▉ | 1192/1335 [05:03<00:36,  3.94it/s]"
          ]
        },
        {
          "name": "stdout",
          "output_type": "stream",
          "text": [
            "Ты пишешь короткие отзывы жильцов управляющей компании. Пиши строго на русском. Пример отзыва:\n",
            "«Электрик прибежал оперативно и отключил сигнал пожарной тревоги. »\n",
            "\n",
            "Напиши 1 уникальный отзыв по смыслу, похожий на пример (1-2 предложений). Не копируй пример. Можно перефразировать, добавить детали, но отзыв должен быть уникальным.\n"
          ]
        },
        {
          "name": "stderr",
          "output_type": "stream",
          "text": [
            "Генерируем синтетику:  89%|████████▉ | 1193/1335 [05:04<00:37,  3.77it/s]"
          ]
        },
        {
          "name": "stdout",
          "output_type": "stream",
          "text": [
            "Ты пишешь короткие отзывы жильцов управляющей компании. Пиши строго на русском. Пример отзыва:\n",
            "«спасибо вам большое, консультанты помогли с решением проблем, объяснили все очень доступно! спасибо вам огромное  :folded_hands: \n",
            "\n",
            "»\n",
            "\n",
            "Если в примере есть код эмодзи вида :smile:, то сохрани стиль — вставь похожий код эмодзи.\n",
            "\n",
            "Напиши 1 уникальный отзыв по смыслу, похожий на пример (1-2 предложений). Не копируй пример. Можно перефразировать, добавить детали, но отзыв должен быть уникальным.\n"
          ]
        },
        {
          "name": "stderr",
          "output_type": "stream",
          "text": [
            "Генерируем синтетику:  89%|████████▉ | 1194/1335 [05:04<00:40,  3.51it/s]"
          ]
        },
        {
          "name": "stdout",
          "output_type": "stream",
          "text": [
            "Ты пишешь короткие отзывы жильцов управляющей компании. Пиши строго на русском. Пример отзыва:\n",
            "«оперативно устранили проблему. вежливый мастер. все чётко и по делу! спасибо»\n",
            "\n",
            "Напиши 1 уникальный отзыв по смыслу, похожий на пример (1-2 предложений). Не копируй пример. Можно перефразировать, добавить детали, но отзыв должен быть уникальным.\n"
          ]
        },
        {
          "name": "stderr",
          "output_type": "stream",
          "text": [
            "Генерируем синтетику:  90%|████████▉ | 1195/1335 [05:04<00:40,  3.44it/s]"
          ]
        },
        {
          "name": "stdout",
          "output_type": "stream",
          "text": [
            "Ты пишешь короткие отзывы жильцов управляющей компании. Пиши строго на русском. Пример отзыва:\n",
            "«пожалуйста свяжитесь со мной»\n",
            "\n",
            "Напиши 1 уникальный отзыв по смыслу, похожий на пример (1-2 предложений). Не копируй пример. Можно перефразировать, добавить детали, но отзыв должен быть уникальным.\n"
          ]
        },
        {
          "name": "stderr",
          "output_type": "stream",
          "text": [
            "Генерируем синтетику:  90%|████████▉ | 1196/1335 [05:05<00:37,  3.71it/s]"
          ]
        },
        {
          "name": "stdout",
          "output_type": "stream",
          "text": [
            "Ты пишешь короткие отзывы жильцов управляющей компании. Пиши строго на русском. Пример отзыва:\n",
            "«электрик молодец!»\n",
            "\n",
            "Напиши 1 уникальный отзыв по смыслу, похожий на пример (1-2 предложений). Не копируй пример. Можно перефразировать, добавить детали, но отзыв должен быть уникальным.\n"
          ]
        },
        {
          "name": "stderr",
          "output_type": "stream",
          "text": [
            "Генерируем синтетику:  90%|████████▉ | 1197/1335 [05:05<00:36,  3.74it/s]"
          ]
        },
        {
          "name": "stdout",
          "output_type": "stream",
          "text": [
            "Ты пишешь короткие отзывы жильцов управляющей компании. Пиши строго на русском. Пример отзыва:\n",
            "«Благодарю за оперативность ))Хорошего дня)»\n",
            "\n",
            "Напиши 1 уникальный отзыв по смыслу, похожий на пример (1-2 предложений). Не копируй пример. Можно перефразировать, добавить детали, но отзыв должен быть уникальным.\n"
          ]
        },
        {
          "name": "stderr",
          "output_type": "stream",
          "text": [
            "Генерируем синтетику:  90%|████████▉ | 1198/1335 [05:05<00:35,  3.88it/s]"
          ]
        },
        {
          "name": "stdout",
          "output_type": "stream",
          "text": [
            "Ты пишешь короткие отзывы жильцов управляющей компании. Пиши строго на русском. Пример отзыва:\n",
            "«спасибо Вам за работу »\n",
            "\n",
            "Напиши 1 уникальный отзыв по смыслу, похожий на пример (1-2 предложений). Не копируй пример. Можно перефразировать, добавить детали, но отзыв должен быть уникальным.\n"
          ]
        },
        {
          "name": "stderr",
          "output_type": "stream",
          "text": [
            "Генерируем синтетику:  90%|████████▉ | 1199/1335 [05:05<00:34,  3.96it/s]"
          ]
        },
        {
          "name": "stdout",
          "output_type": "stream",
          "text": [
            "Ты пишешь короткие отзывы жильцов управляющей компании. Пиши строго на русском. Пример отзыва:\n",
            "«Спасибо за быстрое и качественное решение вопроса »\n",
            "\n",
            "Напиши 1 уникальный отзыв по смыслу, похожий на пример (1-2 предложений). Не копируй пример. Можно перефразировать, добавить детали, но отзыв должен быть уникальным.\n"
          ]
        },
        {
          "name": "stderr",
          "output_type": "stream",
          "text": [
            "Генерируем синтетику:  90%|████████▉ | 1200/1335 [05:06<00:34,  3.96it/s]"
          ]
        },
        {
          "name": "stdout",
          "output_type": "stream",
          "text": [
            "Ты пишешь короткие отзывы жильцов управляющей компании. Пиши строго на русском. Пример отзыва:\n",
            "«Очень оперативно!»\n",
            "\n",
            "Напиши 1 уникальный отзыв по смыслу, похожий на пример (1-2 предложений). Не копируй пример. Можно перефразировать, добавить детали, но отзыв должен быть уникальным.\n"
          ]
        },
        {
          "name": "stderr",
          "output_type": "stream",
          "text": [
            "Генерируем синтетику:  90%|████████▉ | 1201/1335 [05:06<00:36,  3.66it/s]"
          ]
        },
        {
          "name": "stdout",
          "output_type": "stream",
          "text": [
            "Ты пишешь короткие отзывы жильцов управляющей компании. Пиши строго на русском. Пример отзыва:\n",
            "«всё грамотно по полочкам объяснил»\n",
            "\n",
            "Напиши 1 уникальный отзыв по смыслу, похожий на пример (1-2 предложений). Не копируй пример. Можно перефразировать, добавить детали, но отзыв должен быть уникальным.\n"
          ]
        },
        {
          "name": "stderr",
          "output_type": "stream",
          "text": [
            "Генерируем синтетику:  90%|█████████ | 1202/1335 [05:06<00:35,  3.71it/s]"
          ]
        },
        {
          "name": "stdout",
          "output_type": "stream",
          "text": [
            "Ты пишешь короткие отзывы жильцов управляющей компании. Пиши строго на русском. Пример отзыва:\n",
            "«отличный мастер.»\n",
            "\n",
            "Напиши 1 уникальный отзыв по смыслу, похожий на пример (1-2 предложений). Не копируй пример. Можно перефразировать, добавить детали, но отзыв должен быть уникальным.\n"
          ]
        },
        {
          "name": "stderr",
          "output_type": "stream",
          "text": [
            "Генерируем синтетику:  90%|█████████ | 1203/1335 [05:06<00:34,  3.82it/s]"
          ]
        },
        {
          "name": "stdout",
          "output_type": "stream",
          "text": [
            "Ты пишешь короткие отзывы жильцов управляющей компании. Пиши строго на русском. Пример отзыва:\n",
            "«Большое спасибо. Все нормально работает.»\n",
            "\n",
            "Напиши 1 уникальный отзыв по смыслу, похожий на пример (1-2 предложений). Не копируй пример. Можно перефразировать, добавить детали, но отзыв должен быть уникальным.\n"
          ]
        },
        {
          "name": "stderr",
          "output_type": "stream",
          "text": [
            "Генерируем синтетику:  90%|█████████ | 1204/1335 [05:07<00:32,  4.00it/s]"
          ]
        },
        {
          "name": "stdout",
          "output_type": "stream",
          "text": [
            "Ты пишешь короткие отзывы жильцов управляющей компании. Пиши строго на русском. Пример отзыва:\n",
            "«Спасибо большое за оперативное реагирование и устранение неисправностей! »\n",
            "\n",
            "Напиши 1 уникальный отзыв по смыслу, похожий на пример (1-2 предложений). Не копируй пример. Можно перефразировать, добавить детали, но отзыв должен быть уникальным.\n"
          ]
        },
        {
          "name": "stderr",
          "output_type": "stream",
          "text": [
            "Генерируем синтетику:  90%|█████████ | 1206/1335 [05:07<00:29,  4.44it/s]"
          ]
        },
        {
          "name": "stdout",
          "output_type": "stream",
          "text": [
            "Ты пишешь короткие отзывы жильцов управляющей компании. Пиши строго на русском. Пример отзыва:\n",
            "«спасибо, все четко и быстро!!!»\n",
            "\n",
            "Напиши 1 уникальный отзыв по смыслу, похожий на пример (1-2 предложений). Не копируй пример. Можно перефразировать, добавить детали, но отзыв должен быть уникальным.\n",
            "Ты пишешь короткие отзывы жильцов управляющей компании. Пиши строго на русском. Пример отзыва:\n",
            "«благодарю, что наконец то устранили проблему.»\n",
            "\n",
            "Напиши 1 уникальный отзыв по смыслу, похожий на пример (1-2 предложений). Не копируй пример. Можно перефразировать, добавить детали, но отзыв должен быть уникальным.\n"
          ]
        },
        {
          "name": "stderr",
          "output_type": "stream",
          "text": [
            "Генерируем синтетику:  90%|█████████ | 1207/1335 [05:07<00:27,  4.64it/s]"
          ]
        },
        {
          "name": "stdout",
          "output_type": "stream",
          "text": [
            "Ты пишешь короткие отзывы жильцов управляющей компании. Пиши строго на русском. Пример отзыва:\n",
            "«спасибо !»\n",
            "\n",
            "Напиши 1 уникальный отзыв по смыслу, похожий на пример (1-2 предложений). Не копируй пример. Можно перефразировать, добавить детали, но отзыв должен быть уникальным.\n"
          ]
        },
        {
          "name": "stderr",
          "output_type": "stream",
          "text": [
            "Генерируем синтетику:  91%|█████████ | 1209/1335 [05:08<00:26,  4.71it/s]"
          ]
        },
        {
          "name": "stdout",
          "output_type": "stream",
          "text": [
            "Ты пишешь короткие отзывы жильцов управляющей компании. Пиши строго на русском. Пример отзыва:\n",
            "«все отлично, большое спасибо!»\n",
            "\n",
            "Напиши 1 уникальный отзыв по смыслу, похожий на пример (1-2 предложений). Не копируй пример. Можно перефразировать, добавить детали, но отзыв должен быть уникальным.\n",
            "Ты пишешь короткие отзывы жильцов управляющей компании. Пиши строго на русском. Пример отзыва:\n",
            "«Оперативно, спасибо\n",
            "»\n",
            "\n",
            "Напиши 1 уникальный отзыв по смыслу, похожий на пример (1-2 предложений). Не копируй пример. Можно перефразировать, добавить детали, но отзыв должен быть уникальным.\n"
          ]
        },
        {
          "name": "stderr",
          "output_type": "stream",
          "text": [
            "Генерируем синтетику:  91%|█████████ | 1210/1335 [05:08<00:24,  5.00it/s]"
          ]
        },
        {
          "name": "stdout",
          "output_type": "stream",
          "text": [
            "Ты пишешь короткие отзывы жильцов управляющей компании. Пиши строго на русском. Пример отзыва:\n",
            "«Прислали на следующий день.\n",
            "»\n",
            "\n",
            "Напиши 1 уникальный отзыв по смыслу, похожий на пример (1-2 предложений). Не копируй пример. Можно перефразировать, добавить детали, но отзыв должен быть уникальным.\n"
          ]
        },
        {
          "name": "stderr",
          "output_type": "stream",
          "text": [
            "Генерируем синтетику:  91%|█████████ | 1211/1335 [05:08<00:25,  4.85it/s]"
          ]
        },
        {
          "name": "stdout",
          "output_type": "stream",
          "text": [
            "Ты пишешь короткие отзывы жильцов управляющей компании. Пиши строго на русском. Пример отзыва:\n",
            "«откликнулись быстро оперативно»\n",
            "\n",
            "Напиши 1 уникальный отзыв по смыслу, похожий на пример (1-2 предложений). Не копируй пример. Можно перефразировать, добавить детали, но отзыв должен быть уникальным.\n"
          ]
        },
        {
          "name": "stderr",
          "output_type": "stream",
          "text": [
            "Генерируем синтетику:  91%|█████████ | 1212/1335 [05:08<00:26,  4.62it/s]"
          ]
        },
        {
          "name": "stdout",
          "output_type": "stream",
          "text": [
            "Ты пишешь короткие отзывы жильцов управляющей компании. Пиши строго на русском. Пример отзыва:\n",
            "«Огромное человеческое спасибо за оперативность выполнения работы нашему дежурному сантехнику, прибывшему в воскресенье через 20 минут после написания заявки! Все решилось наилучшим образом! Вот так бы все вопросы оперативно решались!!!»\n",
            "\n",
            "Напиши 1 уникальный отзыв по смыслу, похожий на пример (1-2 предложений). Не копируй пример. Можно перефразировать, добавить детали, но отзыв должен быть уникальным.\n"
          ]
        },
        {
          "name": "stderr",
          "output_type": "stream",
          "text": [
            "Генерируем синтетику:  91%|█████████ | 1213/1335 [05:09<00:31,  3.83it/s]"
          ]
        },
        {
          "name": "stdout",
          "output_type": "stream",
          "text": [
            "Ты пишешь короткие отзывы жильцов управляющей компании. Пиши строго на русском. Пример отзыва:\n",
            "«спасибо большое, все сделали отлично!»\n",
            "\n",
            "Напиши 1 уникальный отзыв по смыслу, похожий на пример (1-2 предложений). Не копируй пример. Можно перефразировать, добавить детали, но отзыв должен быть уникальным.\n"
          ]
        },
        {
          "name": "stderr",
          "output_type": "stream",
          "text": [
            "Генерируем синтетику:  91%|█████████ | 1215/1335 [05:09<00:27,  4.34it/s]"
          ]
        },
        {
          "name": "stdout",
          "output_type": "stream",
          "text": [
            "Ты пишешь короткие отзывы жильцов управляющей компании. Пиши строго на русском. Пример отзыва:\n",
            "«Все быстро и качественно »\n",
            "\n",
            "Напиши 1 уникальный отзыв по смыслу, похожий на пример (1-2 предложений). Не копируй пример. Можно перефразировать, добавить детали, но отзыв должен быть уникальным.\n",
            "Ты пишешь короткие отзывы жильцов управляющей компании. Пиши строго на русском. Пример отзыва:\n",
            "«супер, спасибо»\n",
            "\n",
            "Напиши 1 уникальный отзыв по смыслу, похожий на пример (1-2 предложений). Не копируй пример. Можно перефразировать, добавить детали, но отзыв должен быть уникальным.\n"
          ]
        },
        {
          "name": "stderr",
          "output_type": "stream",
          "text": [
            "Генерируем синтетику:  91%|█████████ | 1216/1335 [05:09<00:25,  4.68it/s]"
          ]
        },
        {
          "name": "stdout",
          "output_type": "stream",
          "text": [
            "Ты пишешь короткие отзывы жильцов управляющей компании. Пиши строго на русском. Пример отзыва:\n",
            "«Спасибо большое, что все быстро починили!!! Спасибо за хорошую работу!»\n",
            "\n",
            "Напиши 1 уникальный отзыв по смыслу, похожий на пример (1-2 предложений). Не копируй пример. Можно перефразировать, добавить детали, но отзыв должен быть уникальным.\n"
          ]
        },
        {
          "name": "stderr",
          "output_type": "stream",
          "text": [
            "Генерируем синтетику:  91%|█████████ | 1218/1335 [05:10<00:25,  4.54it/s]"
          ]
        },
        {
          "name": "stdout",
          "output_type": "stream",
          "text": [
            "Ты пишешь короткие отзывы жильцов управляющей компании. Пиши строго на русском. Пример отзыва:\n",
            "«все вежливо и информативно  :red_heart: ️»\n",
            "\n",
            "Если в примере есть код эмодзи вида :smile:, то сохрани стиль — вставь похожий код эмодзи.\n",
            "\n",
            "Напиши 1 уникальный отзыв по смыслу, похожий на пример (1-2 предложений). Не копируй пример. Можно перефразировать, добавить детали, но отзыв должен быть уникальным.\n",
            "Ты пишешь короткие отзывы жильцов управляющей компании. Пиши строго на русском. Пример отзыва:\n",
            "«Спасибо большое за оперативность! Хорошего дня вам! »\n",
            "\n",
            "Напиши 1 уникальный отзыв по смыслу, похожий на пример (1-2 предложений). Не копируй пример. Можно перефразировать, добавить детали, но отзыв должен быть уникальным.\n"
          ]
        },
        {
          "name": "stderr",
          "output_type": "stream",
          "text": [
            "Генерируем синтетику:  91%|█████████▏| 1219/1335 [05:10<00:25,  4.51it/s]"
          ]
        },
        {
          "name": "stdout",
          "output_type": "stream",
          "text": [
            "Ты пишешь короткие отзывы жильцов управляющей компании. Пиши строго на русском. Пример отзыва:\n",
            "«Проблема решена с дверью,взаимодействие с овд игнорировано.»\n",
            "\n",
            "Напиши 1 уникальный отзыв по смыслу, похожий на пример (1-2 предложений). Не копируй пример. Можно перефразировать, добавить детали, но отзыв должен быть уникальным.\n"
          ]
        },
        {
          "name": "stderr",
          "output_type": "stream",
          "text": [
            "Генерируем синтетику:  91%|█████████▏| 1220/1335 [05:10<00:26,  4.42it/s]"
          ]
        },
        {
          "name": "stdout",
          "output_type": "stream",
          "text": [
            "Ты пишешь короткие отзывы жильцов управляющей компании. Пиши строго на русском. Пример отзыва:\n",
            "«Мастер своего дела !»\n",
            "\n",
            "Напиши 1 уникальный отзыв по смыслу, похожий на пример (1-2 предложений). Не копируй пример. Можно перефразировать, добавить детали, но отзыв должен быть уникальным.\n"
          ]
        },
        {
          "name": "stderr",
          "output_type": "stream",
          "text": [
            "Генерируем синтетику:  91%|█████████▏| 1221/1335 [05:10<00:27,  4.15it/s]"
          ]
        },
        {
          "name": "stdout",
          "output_type": "stream",
          "text": [
            "Ты пишешь короткие отзывы жильцов управляющей компании. Пиши строго на русском. Пример отзыва:\n",
            "«услуга была оказана качественно, но не своевременно (спустя 10 дней после запроса)»\n",
            "\n",
            "Напиши 1 уникальный отзыв по смыслу, похожий на пример (1-2 предложений). Не копируй пример. Можно перефразировать, добавить детали, но отзыв должен быть уникальным.\n"
          ]
        },
        {
          "name": "stderr",
          "output_type": "stream",
          "text": [
            "Генерируем синтетику:  92%|█████████▏| 1223/1335 [05:11<00:25,  4.41it/s]"
          ]
        },
        {
          "name": "stdout",
          "output_type": "stream",
          "text": [
            "Ты пишешь короткие отзывы жильцов управляющей компании. Пиши строго на русском. Пример отзыва:\n",
            "«все ясно  :thumbs_up: »\n",
            "\n",
            "Если в примере есть код эмодзи вида :smile:, то сохрани стиль — вставь похожий код эмодзи.\n",
            "\n",
            "Напиши 1 уникальный отзыв по смыслу, похожий на пример (1-2 предложений). Не копируй пример. Можно перефразировать, добавить детали, но отзыв должен быть уникальным.\n",
            "Ты пишешь короткие отзывы жильцов управляющей компании. Пиши строго на русском. Пример отзыва:\n",
            "«отлично!спасибо,мастер все установил как нужно.»\n",
            "\n",
            "Напиши 1 уникальный отзыв по смыслу, похожий на пример (1-2 предложений). Не копируй пример. Можно перефразировать, добавить детали, но отзыв должен быть уникальным.\n"
          ]
        },
        {
          "name": "stderr",
          "output_type": "stream",
          "text": [
            "Генерируем синтетику:  92%|█████████▏| 1224/1335 [05:11<00:26,  4.21it/s]"
          ]
        },
        {
          "name": "stdout",
          "output_type": "stream",
          "text": [
            "Ты пишешь короткие отзывы жильцов управляющей компании. Пиши строго на русском. Пример отзыва:\n",
            "«Быстро проучила»\n",
            "\n",
            "Напиши 1 уникальный отзыв по смыслу, похожий на пример (1-2 предложений). Не копируй пример. Можно перефразировать, добавить детали, но отзыв должен быть уникальным.\n"
          ]
        },
        {
          "name": "stderr",
          "output_type": "stream",
          "text": [
            "Генерируем синтетику:  92%|█████████▏| 1225/1335 [05:11<00:26,  4.15it/s]"
          ]
        },
        {
          "name": "stdout",
          "output_type": "stream",
          "text": [
            "Ты пишешь короткие отзывы жильцов управляющей компании. Пиши строго на русском. Пример отзыва:\n",
            "«батареи были холодные,в течение часа решили вопрос»\n",
            "\n",
            "Напиши 1 уникальный отзыв по смыслу, похожий на пример (1-2 предложений). Не копируй пример. Можно перефразировать, добавить детали, но отзыв должен быть уникальным.\n"
          ]
        },
        {
          "name": "stderr",
          "output_type": "stream",
          "text": [
            "Генерируем синтетику:  92%|█████████▏| 1226/1335 [05:12<00:27,  3.98it/s]"
          ]
        },
        {
          "name": "stdout",
          "output_type": "stream",
          "text": [
            "Ты пишешь короткие отзывы жильцов управляющей компании. Пиши строго на русском. Пример отзыва:\n",
            "«надеюсь, что закрепили, а не просто втолкнули назад. проверю вечером»\n",
            "\n",
            "Напиши 1 уникальный отзыв по смыслу, похожий на пример (1-2 предложений). Не копируй пример. Можно перефразировать, добавить детали, но отзыв должен быть уникальным.\n"
          ]
        },
        {
          "name": "stderr",
          "output_type": "stream",
          "text": [
            "Генерируем синтетику:  92%|█████████▏| 1227/1335 [05:12<00:27,  3.90it/s]"
          ]
        },
        {
          "name": "stdout",
          "output_type": "stream",
          "text": [
            "Ты пишешь короткие отзывы жильцов управляющей компании. Пиши строго на русском. Пример отзыва:\n",
            "«Работа выполнена,  в кратчайший срок. Благодарю »\n",
            "\n",
            "Напиши 1 уникальный отзыв по смыслу, похожий на пример (1-2 предложений). Не копируй пример. Можно перефразировать, добавить детали, но отзыв должен быть уникальным.\n"
          ]
        },
        {
          "name": "stderr",
          "output_type": "stream",
          "text": [
            "Генерируем синтетику:  92%|█████████▏| 1228/1335 [05:12<00:27,  3.92it/s]"
          ]
        },
        {
          "name": "stdout",
          "output_type": "stream",
          "text": [
            "Ты пишешь короткие отзывы жильцов управляющей компании. Пиши строго на русском. Пример отзыва:\n",
            "«Александру спасибо за объяснение причины бульканья ! »\n",
            "\n",
            "Напиши 1 уникальный отзыв по смыслу, похожий на пример (1-2 предложений). Не копируй пример. Можно перефразировать, добавить детали, но отзыв должен быть уникальным.\n"
          ]
        },
        {
          "name": "stderr",
          "output_type": "stream",
          "text": [
            "Генерируем синтетику:  92%|█████████▏| 1229/1335 [05:12<00:26,  4.00it/s]"
          ]
        },
        {
          "name": "stdout",
          "output_type": "stream",
          "text": [
            "Ты пишешь короткие отзывы жильцов управляющей компании. Пиши строго на русском. Пример отзыва:\n",
            "«спасибо, решили мой вопрос на месте в офисе »\n",
            "\n",
            "Напиши 1 уникальный отзыв по смыслу, похожий на пример (1-2 предложений). Не копируй пример. Можно перефразировать, добавить детали, но отзыв должен быть уникальным.\n"
          ]
        },
        {
          "name": "stderr",
          "output_type": "stream",
          "text": [
            "Генерируем синтетику:  92%|█████████▏| 1230/1335 [05:13<00:26,  4.00it/s]"
          ]
        },
        {
          "name": "stdout",
          "output_type": "stream",
          "text": [
            "Ты пишешь короткие отзывы жильцов управляющей компании. Пиши строго на русском. Пример отзыва:\n",
            "«всё быстро, качественно, вежливо»\n",
            "\n",
            "Напиши 1 уникальный отзыв по смыслу, похожий на пример (1-2 предложений). Не копируй пример. Можно перефразировать, добавить детали, но отзыв должен быть уникальным.\n"
          ]
        },
        {
          "name": "stderr",
          "output_type": "stream",
          "text": [
            "Генерируем синтетику:  92%|█████████▏| 1231/1335 [05:13<00:24,  4.19it/s]"
          ]
        },
        {
          "name": "stdout",
          "output_type": "stream",
          "text": [
            "Ты пишешь короткие отзывы жильцов управляющей компании. Пиши строго на русском. Пример отзыва:\n",
            "«быстро выполнили заявку»\n",
            "\n",
            "Напиши 1 уникальный отзыв по смыслу, похожий на пример (1-2 предложений). Не копируй пример. Можно перефразировать, добавить детали, но отзыв должен быть уникальным.\n"
          ]
        },
        {
          "name": "stderr",
          "output_type": "stream",
          "text": [
            "Генерируем синтетику:  92%|█████████▏| 1232/1335 [05:13<00:23,  4.34it/s]"
          ]
        },
        {
          "name": "stdout",
          "output_type": "stream",
          "text": [
            "Ты пишешь короткие отзывы жильцов управляющей компании. Пиши строго на русском. Пример отзыва:\n",
            "«Мгновенно. Спасибо»\n",
            "\n",
            "Напиши 1 уникальный отзыв по смыслу, похожий на пример (1-2 предложений). Не копируй пример. Можно перефразировать, добавить детали, но отзыв должен быть уникальным.\n"
          ]
        },
        {
          "name": "stderr",
          "output_type": "stream",
          "text": [
            "Генерируем синтетику:  92%|█████████▏| 1233/1335 [05:13<00:23,  4.33it/s]"
          ]
        },
        {
          "name": "stdout",
          "output_type": "stream",
          "text": [
            "Ты пишешь короткие отзывы жильцов управляющей компании. Пиши строго на русском. Пример отзыва:\n",
            "«Была протечка смесителя в ванной, мастер пришел в течении полу часа, поменял прокладки. Вопрос решен.»\n",
            "\n",
            "Напиши 1 уникальный отзыв по смыслу, похожий на пример (1-2 предложений). Не копируй пример. Можно перефразировать, добавить детали, но отзыв должен быть уникальным.\n"
          ]
        },
        {
          "name": "stderr",
          "output_type": "stream",
          "text": [
            "Генерируем синтетику:  92%|█████████▏| 1234/1335 [05:14<00:26,  3.82it/s]"
          ]
        },
        {
          "name": "stdout",
          "output_type": "stream",
          "text": [
            "Ты пишешь короткие отзывы жильцов управляющей компании. Пиши строго на русском. Пример отзыва:\n",
            "«Добрый день! Заявка была выполнена качественно, сотрудники грамотные,очень вежливые, большое им спасибо! »\n",
            "\n",
            "Напиши 1 уникальный отзыв по смыслу, похожий на пример (1-2 предложений). Не копируй пример. Можно перефразировать, добавить детали, но отзыв должен быть уникальным.\n"
          ]
        },
        {
          "name": "stderr",
          "output_type": "stream",
          "text": [
            "Генерируем синтетику:  93%|█████████▎| 1235/1335 [05:14<00:27,  3.59it/s]"
          ]
        },
        {
          "name": "stdout",
          "output_type": "stream",
          "text": [
            "Ты пишешь короткие отзывы жильцов управляющей компании. Пиши строго на русском. Пример отзыва:\n",
            "«  :folded_hands:  :folded_hands:  :folded_hands: »\n",
            "\n",
            "Если в примере есть код эмодзи вида :smile:, то сохрани стиль — вставь похожий код эмодзи.\n",
            "\n",
            "Напиши 1 уникальный отзыв по смыслу, похожий на пример (1-2 предложений). Не копируй пример. Можно перефразировать, добавить детали, но отзыв должен быть уникальным.\n"
          ]
        },
        {
          "name": "stderr",
          "output_type": "stream",
          "text": [
            "Генерируем синтетику:  93%|█████████▎| 1236/1335 [05:14<00:29,  3.37it/s]"
          ]
        },
        {
          "name": "stdout",
          "output_type": "stream",
          "text": [
            "Ты пишешь короткие отзывы жильцов управляющей компании. Пиши строго на русском. Пример отзыва:\n",
            "«Спасибо! Услуга оказана очень оперативно, удобный формат. Заказала ключ на выходных, в понедельник все было готово. Сотрудники вежливые и внимательные :thumbs_up: »\n",
            "\n",
            "Если в примере есть код эмодзи вида :smile:, то сохрани стиль — вставь похожий код эмодзи.\n",
            "\n",
            "Напиши 1 уникальный отзыв по смыслу, похожий на пример (1-2 предложений). Не копируй пример. Можно перефразировать, добавить детали, но отзыв должен быть уникальным.\n"
          ]
        },
        {
          "name": "stderr",
          "output_type": "stream",
          "text": [
            "Генерируем синтетику:  93%|█████████▎| 1237/1335 [05:15<00:30,  3.18it/s]"
          ]
        },
        {
          "name": "stdout",
          "output_type": "stream",
          "text": [
            "Ты пишешь короткие отзывы жильцов управляющей компании. Пиши строго на русском. Пример отзыва:\n",
            "«специалист вышел на связь по заявке достаточно быстро. консультация уже не требовалась. муж справился с задачей самостоятельно .»\n",
            "\n",
            "Напиши 1 уникальный отзыв по смыслу, похожий на пример (1-2 предложений). Не копируй пример. Можно перефразировать, добавить детали, но отзыв должен быть уникальным.\n"
          ]
        },
        {
          "name": "stderr",
          "output_type": "stream",
          "text": [
            "Генерируем синтетику:  93%|█████████▎| 1238/1335 [05:15<00:29,  3.25it/s]"
          ]
        },
        {
          "name": "stdout",
          "output_type": "stream",
          "text": [
            "Ты пишешь короткие отзывы жильцов управляющей компании. Пиши строго на русском. Пример отзыва:\n",
            "«девочки просто молодцы!!!)))»\n",
            "\n",
            "Напиши 1 уникальный отзыв по смыслу, похожий на пример (1-2 предложений). Не копируй пример. Можно перефразировать, добавить детали, но отзыв должен быть уникальным.\n"
          ]
        },
        {
          "name": "stderr",
          "output_type": "stream",
          "text": [
            "Генерируем синтетику:  93%|█████████▎| 1240/1335 [05:15<00:23,  4.01it/s]"
          ]
        },
        {
          "name": "stdout",
          "output_type": "stream",
          "text": [
            "Ты пишешь короткие отзывы жильцов управляющей компании. Пиши строго на русском. Пример отзыва:\n",
            "«спасибо, всё быстро устранено»\n",
            "\n",
            "Напиши 1 уникальный отзыв по смыслу, похожий на пример (1-2 предложений). Не копируй пример. Можно перефразировать, добавить детали, но отзыв должен быть уникальным.\n",
            "Ты пишешь короткие отзывы жильцов управляющей компании. Пиши строго на русском. Пример отзыва:\n",
            "«Спасибо за оперативную помощь»\n",
            "\n",
            "Напиши 1 уникальный отзыв по смыслу, похожий на пример (1-2 предложений). Не копируй пример. Можно перефразировать, добавить детали, но отзыв должен быть уникальным.\n"
          ]
        },
        {
          "name": "stderr",
          "output_type": "stream",
          "text": [
            "Генерируем синтетику:  93%|█████████▎| 1241/1335 [05:16<00:22,  4.12it/s]"
          ]
        },
        {
          "name": "stdout",
          "output_type": "stream",
          "text": [
            "Ты пишешь короткие отзывы жильцов управляющей компании. Пиши строго на русском. Пример отзыва:\n",
            "«спасибо, что решили свою проблему, а то как то не очень, платишь вовремя, а тебе про долг пишут. »\n",
            "\n",
            "Напиши 1 уникальный отзыв по смыслу, похожий на пример (1-2 предложений). Не копируй пример. Можно перефразировать, добавить детали, но отзыв должен быть уникальным.\n"
          ]
        },
        {
          "name": "stderr",
          "output_type": "stream",
          "text": [
            "Генерируем синтетику:  93%|█████████▎| 1242/1335 [05:16<00:24,  3.82it/s]"
          ]
        },
        {
          "name": "stdout",
          "output_type": "stream",
          "text": [
            "Ты пишешь короткие отзывы жильцов управляющей компании. Пиши строго на русском. Пример отзыва:\n",
            "«Спасибо! оперативно и в полной мере ответили на мой вопрос  :OK_hand: »\n",
            "\n",
            "Если в примере есть код эмодзи вида :smile:, то сохрани стиль — вставь похожий код эмодзи.\n",
            "\n",
            "Напиши 1 уникальный отзыв по смыслу, похожий на пример (1-2 предложений). Не копируй пример. Можно перефразировать, добавить детали, но отзыв должен быть уникальным.\n"
          ]
        },
        {
          "name": "stderr",
          "output_type": "stream",
          "text": [
            "Генерируем синтетику:  93%|█████████▎| 1243/1335 [05:16<00:23,  3.85it/s]"
          ]
        },
        {
          "name": "stdout",
          "output_type": "stream",
          "text": [
            "Ты пишешь короткие отзывы жильцов управляющей компании. Пиши строго на русском. Пример отзыва:\n",
            "«спасибо, игорь!»\n",
            "\n",
            "Напиши 1 уникальный отзыв по смыслу, похожий на пример (1-2 предложений). Не копируй пример. Можно перефразировать, добавить детали, но отзыв должен быть уникальным.\n"
          ]
        },
        {
          "name": "stderr",
          "output_type": "stream",
          "text": [
            "Генерируем синтетику:  93%|█████████▎| 1245/1335 [05:16<00:20,  4.30it/s]"
          ]
        },
        {
          "name": "stdout",
          "output_type": "stream",
          "text": [
            "Ты пишешь короткие отзывы жильцов управляющей компании. Пиши строго на русском. Пример отзыва:\n",
            "«вопрос решен, спасибо!»\n",
            "\n",
            "Напиши 1 уникальный отзыв по смыслу, похожий на пример (1-2 предложений). Не копируй пример. Можно перефразировать, добавить детали, но отзыв должен быть уникальным.\n",
            "Ты пишешь короткие отзывы жильцов управляющей компании. Пиши строго на русском. Пример отзыва:\n",
            "«спасибо за информацию!»\n",
            "\n",
            "Напиши 1 уникальный отзыв по смыслу, похожий на пример (1-2 предложений). Не копируй пример. Можно перефразировать, добавить детали, но отзыв должен быть уникальным.\n"
          ]
        },
        {
          "name": "stderr",
          "output_type": "stream",
          "text": [
            "Генерируем синтетику:  93%|█████████▎| 1246/1335 [05:17<00:21,  4.15it/s]"
          ]
        },
        {
          "name": "stdout",
          "output_type": "stream",
          "text": [
            "Ты пишешь короткие отзывы жильцов управляющей компании. Пиши строго на русском. Пример отзыва:\n",
            "«16.03.2024 г ребята установили кондиционер. работа сделана качественно, без лишнего шума, грязи и быстро. михаил (менеджер) ответил на все вопросы, предоставил всю информацию, дал профессиональные советы и отправил прекрасную бригаду: николая (альпинист-монтажник) и сергея - сёма (монтажник- электрик). ребята вежливые, аккуратные, доброжелательные. отличные работники. благодарю за профессионализм и заинтересованность в клиенте!»\n",
            "\n",
            "Напиши 1 уникальный отзыв по смыслу, похожий на пример (1-2 предложений). Не копируй пример. Можно перефразировать, добавить детали, но отзыв должен быть уникальным.\n"
          ]
        },
        {
          "name": "stderr",
          "output_type": "stream",
          "text": [
            "Генерируем синтетику:  93%|█████████▎| 1247/1335 [05:17<00:28,  3.08it/s]"
          ]
        },
        {
          "name": "stdout",
          "output_type": "stream",
          "text": [
            "Ты пишешь короткие отзывы жильцов управляющей компании. Пиши строго на русском. Пример отзыва:\n",
            "«оперативно пришли, выполнили осмотр, составили акт! на все интересующие вопросы ответили. благодарю!»\n",
            "\n",
            "Напиши 1 уникальный отзыв по смыслу, похожий на пример (1-2 предложений). Не копируй пример. Можно перефразировать, добавить детали, но отзыв должен быть уникальным.\n"
          ]
        },
        {
          "name": "stderr",
          "output_type": "stream",
          "text": [
            "Генерируем синтетику:  94%|█████████▎| 1249/1335 [05:18<00:25,  3.40it/s]"
          ]
        },
        {
          "name": "stdout",
          "output_type": "stream",
          "text": [
            "Ты пишешь короткие отзывы жильцов управляющей компании. Пиши строго на русском. Пример отзыва:\n",
            "«спасибо большое! »\n",
            "\n",
            "Напиши 1 уникальный отзыв по смыслу, похожий на пример (1-2 предложений). Не копируй пример. Можно перефразировать, добавить детали, но отзыв должен быть уникальным.\n",
            "Ты пишешь короткие отзывы жильцов управляющей компании. Пиши строго на русском. Пример отзыва:\n",
            "«ничего не выполнено!\n",
            "не пишите х......!!!!!!!\n",
            "подобный бардак как в ук пригорода вижу впервые!»\n",
            "\n",
            "Напиши 1 уникальный отзыв по смыслу, похожий на пример (1-2 предложений). Не копируй пример. Можно перефразировать, добавить детали, но отзыв должен быть уникальным.\n"
          ]
        },
        {
          "name": "stderr",
          "output_type": "stream",
          "text": [
            "Генерируем синтетику:  94%|█████████▎| 1250/1335 [05:18<00:23,  3.54it/s]"
          ]
        },
        {
          "name": "stdout",
          "output_type": "stream",
          "text": [
            "Ты пишешь короткие отзывы жильцов управляющей компании. Пиши строго на русском. Пример отзыва:\n",
            "«Спасибо большое за оперативность  :raising_hands:  :light_skin_tone:  :cherry_blossom: »\n",
            "\n",
            "Если в примере есть код эмодзи вида :smile:, то сохрани стиль — вставь похожий код эмодзи.\n",
            "\n",
            "Напиши 1 уникальный отзыв по смыслу, похожий на пример (1-2 предложений). Не копируй пример. Можно перефразировать, добавить детали, но отзыв должен быть уникальным.\n"
          ]
        },
        {
          "name": "stderr",
          "output_type": "stream",
          "text": [
            "Генерируем синтетику:  94%|█████████▍| 1252/1335 [05:19<00:21,  3.91it/s]"
          ]
        },
        {
          "name": "stdout",
          "output_type": "stream",
          "text": [
            "Ты пишешь короткие отзывы жильцов управляющей компании. Пиши строго на русском. Пример отзыва:\n",
            "«спс»\n",
            "\n",
            "Напиши 1 уникальный отзыв по смыслу, похожий на пример (1-2 предложений). Не копируй пример. Можно перефразировать, добавить детали, но отзыв должен быть уникальным.\n",
            "Ты пишешь короткие отзывы жильцов управляющей компании. Пиши строго на русском. Пример отзыва:\n",
            "«Спасибо! Так быстро сделали , красивую светодиодную лампу поставили »\n",
            "\n",
            "Напиши 1 уникальный отзыв по смыслу, похожий на пример (1-2 предложений). Не копируй пример. Можно перефразировать, добавить детали, но отзыв должен быть уникальным.\n"
          ]
        },
        {
          "name": "stderr",
          "output_type": "stream",
          "text": [
            "Генерируем синтетику:  94%|█████████▍| 1253/1335 [05:19<00:20,  3.91it/s]"
          ]
        },
        {
          "name": "stdout",
          "output_type": "stream",
          "text": [
            "Ты пишешь короткие отзывы жильцов управляющей компании. Пиши строго на русском. Пример отзыва:\n",
            "«Проблему устранили, но не сообщили по запросу, сколько потребуется времени на её решение»\n",
            "\n",
            "Напиши 1 уникальный отзыв по смыслу, похожий на пример (1-2 предложений). Не копируй пример. Можно перефразировать, добавить детали, но отзыв должен быть уникальным.\n"
          ]
        },
        {
          "name": "stderr",
          "output_type": "stream",
          "text": [
            "Генерируем синтетику:  94%|█████████▍| 1254/1335 [05:19<00:20,  3.87it/s]"
          ]
        },
        {
          "name": "stdout",
          "output_type": "stream",
          "text": [
            "Ты пишешь короткие отзывы жильцов управляющей компании. Пиши строго на русском. Пример отзыва:\n",
            "«Очень подробно, большое спасибо за консультацию! »\n",
            "\n",
            "Напиши 1 уникальный отзыв по смыслу, похожий на пример (1-2 предложений). Не копируй пример. Можно перефразировать, добавить детали, но отзыв должен быть уникальным.\n"
          ]
        },
        {
          "name": "stderr",
          "output_type": "stream",
          "text": [
            "Генерируем синтетику:  94%|█████████▍| 1255/1335 [05:19<00:20,  3.91it/s]"
          ]
        },
        {
          "name": "stdout",
          "output_type": "stream",
          "text": [
            "Ты пишешь короткие отзывы жильцов управляющей компании. Пиши строго на русском. Пример отзыва:\n",
            "«быстро пришли. течь устранили.»\n",
            "\n",
            "Напиши 1 уникальный отзыв по смыслу, похожий на пример (1-2 предложений). Не копируй пример. Можно перефразировать, добавить детали, но отзыв должен быть уникальным.\n"
          ]
        },
        {
          "name": "stderr",
          "output_type": "stream",
          "text": [
            "Генерируем синтетику:  94%|█████████▍| 1256/1335 [05:20<00:19,  3.97it/s]"
          ]
        },
        {
          "name": "stdout",
          "output_type": "stream",
          "text": [
            "Ты пишешь короткие отзывы жильцов управляющей компании. Пиши строго на русском. Пример отзыва:\n",
            "«вода течет горячая! спасибо!»\n",
            "\n",
            "Напиши 1 уникальный отзыв по смыслу, похожий на пример (1-2 предложений). Не копируй пример. Можно перефразировать, добавить детали, но отзыв должен быть уникальным.\n"
          ]
        },
        {
          "name": "stderr",
          "output_type": "stream",
          "text": [
            "Генерируем синтетику:  94%|█████████▍| 1257/1335 [05:20<00:19,  4.02it/s]"
          ]
        },
        {
          "name": "stdout",
          "output_type": "stream",
          "text": [
            "Ты пишешь короткие отзывы жильцов управляющей компании. Пиши строго на русском. Пример отзыва:\n",
            "«спасибо что проверили ! пеекрасная работа!»\n",
            "\n",
            "Напиши 1 уникальный отзыв по смыслу, похожий на пример (1-2 предложений). Не копируй пример. Можно перефразировать, добавить детали, но отзыв должен быть уникальным.\n"
          ]
        },
        {
          "name": "stderr",
          "output_type": "stream",
          "text": [
            "Генерируем синтетику:  94%|█████████▍| 1258/1335 [05:20<00:18,  4.05it/s]"
          ]
        },
        {
          "name": "stdout",
          "output_type": "stream",
          "text": [
            "Ты пишешь короткие отзывы жильцов управляющей компании. Пиши строго на русском. Пример отзыва:\n",
            "«быстро и вовремя»\n",
            "\n",
            "Напиши 1 уникальный отзыв по смыслу, похожий на пример (1-2 предложений). Не копируй пример. Можно перефразировать, добавить детали, но отзыв должен быть уникальным.\n"
          ]
        },
        {
          "name": "stderr",
          "output_type": "stream",
          "text": [
            "Генерируем синтетику:  94%|█████████▍| 1259/1335 [05:20<00:18,  4.06it/s]"
          ]
        },
        {
          "name": "stdout",
          "output_type": "stream",
          "text": [
            "Ты пишешь короткие отзывы жильцов управляющей компании. Пиши строго на русском. Пример отзыва:\n",
            "«установили быстро и хорошо). спасибо.»\n",
            "\n",
            "Напиши 1 уникальный отзыв по смыслу, похожий на пример (1-2 предложений). Не копируй пример. Можно перефразировать, добавить детали, но отзыв должен быть уникальным.\n"
          ]
        },
        {
          "name": "stderr",
          "output_type": "stream",
          "text": [
            "Генерируем синтетику:  94%|█████████▍| 1260/1335 [05:21<00:17,  4.28it/s]"
          ]
        },
        {
          "name": "stdout",
          "output_type": "stream",
          "text": [
            "Ты пишешь короткие отзывы жильцов управляющей компании. Пиши строго на русском. Пример отзыва:\n",
            "«отлично!!!! быстро отреагировали. всё работает!!!!!!»\n",
            "\n",
            "Напиши 1 уникальный отзыв по смыслу, похожий на пример (1-2 предложений). Не копируй пример. Можно перефразировать, добавить детали, но отзыв должен быть уникальным.\n"
          ]
        },
        {
          "name": "stderr",
          "output_type": "stream",
          "text": [
            "Генерируем синтетику:  95%|█████████▍| 1262/1335 [05:21<00:17,  4.22it/s]"
          ]
        },
        {
          "name": "stdout",
          "output_type": "stream",
          "text": [
            "Ты пишешь короткие отзывы жильцов управляющей компании. Пиши строго на русском. Пример отзыва:\n",
            "«спасибо , быстро отреагировали!»\n",
            "\n",
            "Напиши 1 уникальный отзыв по смыслу, похожий на пример (1-2 предложений). Не копируй пример. Можно перефразировать, добавить детали, но отзыв должен быть уникальным.\n",
            "Ты пишешь короткие отзывы жильцов управляющей компании. Пиши строго на русском. Пример отзыва:\n",
            "«спасибо, все быстро и качественно»\n",
            "\n",
            "Напиши 1 уникальный отзыв по смыслу, похожий на пример (1-2 предложений). Не копируй пример. Можно перефразировать, добавить детали, но отзыв должен быть уникальным.\n"
          ]
        },
        {
          "name": "stderr",
          "output_type": "stream",
          "text": [
            "Генерируем синтетику:  95%|█████████▍| 1263/1335 [05:21<00:17,  4.04it/s]"
          ]
        },
        {
          "name": "stdout",
          "output_type": "stream",
          "text": [
            "Ты пишешь короткие отзывы жильцов управляющей компании. Пиши строго на русском. Пример отзыва:\n",
            "«спасибо за оперативность и грамотный, развёрнутый ответ) \n",
            "»\n",
            "\n",
            "Напиши 1 уникальный отзыв по смыслу, похожий на пример (1-2 предложений). Не копируй пример. Можно перефразировать, добавить детали, но отзыв должен быть уникальным.\n"
          ]
        },
        {
          "name": "stderr",
          "output_type": "stream",
          "text": [
            "Генерируем синтетику:  95%|█████████▍| 1264/1335 [05:22<00:18,  3.89it/s]"
          ]
        },
        {
          "name": "stdout",
          "output_type": "stream",
          "text": [
            "Ты пишешь короткие отзывы жильцов управляющей компании. Пиши строго на русском. Пример отзыва:\n",
            "«Спасибо. Все работает»\n",
            "\n",
            "Напиши 1 уникальный отзыв по смыслу, похожий на пример (1-2 предложений). Не копируй пример. Можно перефразировать, добавить детали, но отзыв должен быть уникальным.\n"
          ]
        },
        {
          "name": "stderr",
          "output_type": "stream",
          "text": [
            "Генерируем синтетику:  95%|█████████▍| 1265/1335 [05:22<00:18,  3.87it/s]"
          ]
        },
        {
          "name": "stdout",
          "output_type": "stream",
          "text": [
            "Ты пишешь короткие отзывы жильцов управляющей компании. Пиши строго на русском. Пример отзыва:\n",
            "«все быстро решили. спасибо»\n",
            "\n",
            "Напиши 1 уникальный отзыв по смыслу, похожий на пример (1-2 предложений). Не копируй пример. Можно перефразировать, добавить детали, но отзыв должен быть уникальным.\n"
          ]
        },
        {
          "name": "stderr",
          "output_type": "stream",
          "text": [
            "Генерируем синтетику:  95%|█████████▍| 1266/1335 [05:22<00:17,  4.00it/s]"
          ]
        },
        {
          "name": "stdout",
          "output_type": "stream",
          "text": [
            "Ты пишешь короткие отзывы жильцов управляющей компании. Пиши строго на русском. Пример отзыва:\n",
            "«быстро умтранили»\n",
            "\n",
            "Напиши 1 уникальный отзыв по смыслу, похожий на пример (1-2 предложений). Не копируй пример. Можно перефразировать, добавить детали, но отзыв должен быть уникальным.\n"
          ]
        },
        {
          "name": "stderr",
          "output_type": "stream",
          "text": [
            "Генерируем синтетику:  95%|█████████▍| 1267/1335 [05:22<00:16,  4.19it/s]"
          ]
        },
        {
          "name": "stdout",
          "output_type": "stream",
          "text": [
            "Ты пишешь короткие отзывы жильцов управляющей компании. Пиши строго на русском. Пример отзыва:\n",
            "«спасибо огромное.у нас в самолёте первоклассные специалисты. :thumbs_up: »\n",
            "\n",
            "Если в примере есть код эмодзи вида :smile:, то сохрани стиль — вставь похожий код эмодзи.\n",
            "\n",
            "Напиши 1 уникальный отзыв по смыслу, похожий на пример (1-2 предложений). Не копируй пример. Можно перефразировать, добавить детали, но отзыв должен быть уникальным.\n"
          ]
        },
        {
          "name": "stderr",
          "output_type": "stream",
          "text": [
            "Генерируем синтетику:  95%|█████████▍| 1268/1335 [05:23<00:18,  3.55it/s]"
          ]
        },
        {
          "name": "stdout",
          "output_type": "stream",
          "text": [
            "Ты пишешь короткие отзывы жильцов управляющей компании. Пиши строго на русском. Пример отзыва:\n",
            "«спасибо! наконец-то всё работает.»\n",
            "\n",
            "Напиши 1 уникальный отзыв по смыслу, похожий на пример (1-2 предложений). Не копируй пример. Можно перефразировать, добавить детали, но отзыв должен быть уникальным.\n"
          ]
        },
        {
          "name": "stderr",
          "output_type": "stream",
          "text": [
            "Генерируем синтетику:  95%|█████████▌| 1269/1335 [05:23<00:17,  3.81it/s]"
          ]
        },
        {
          "name": "stdout",
          "output_type": "stream",
          "text": [
            "Ты пишешь короткие отзывы жильцов управляющей компании. Пиши строго на русском. Пример отзыва:\n",
            "«очень чисто. спасибо за уборку»\n",
            "\n",
            "Напиши 1 уникальный отзыв по смыслу, похожий на пример (1-2 предложений). Не копируй пример. Можно перефразировать, добавить детали, но отзыв должен быть уникальным.\n"
          ]
        },
        {
          "name": "stderr",
          "output_type": "stream",
          "text": [
            "Генерируем синтетику:  95%|█████████▌| 1270/1335 [05:23<00:16,  4.01it/s]"
          ]
        },
        {
          "name": "stdout",
          "output_type": "stream",
          "text": [
            "Ты пишешь короткие отзывы жильцов управляющей компании. Пиши строго на русском. Пример отзыва:\n",
            "«Спасибо, всё оперативно сделали!»\n",
            "\n",
            "Напиши 1 уникальный отзыв по смыслу, похожий на пример (1-2 предложений). Не копируй пример. Можно перефразировать, добавить детали, но отзыв должен быть уникальным.\n"
          ]
        },
        {
          "name": "stderr",
          "output_type": "stream",
          "text": [
            "Генерируем синтетику:  95%|█████████▌| 1271/1335 [05:23<00:15,  4.22it/s]"
          ]
        },
        {
          "name": "stdout",
          "output_type": "stream",
          "text": [
            "Ты пишешь короткие отзывы жильцов управляющей компании. Пиши строго на русском. Пример отзыва:\n",
            "«неверный логин пароль»\n",
            "\n",
            "Напиши 1 уникальный отзыв по смыслу, похожий на пример (1-2 предложений). Не копируй пример. Можно перефразировать, добавить детали, но отзыв должен быть уникальным.\n"
          ]
        },
        {
          "name": "stderr",
          "output_type": "stream",
          "text": [
            "Генерируем синтетику:  95%|█████████▌| 1273/1335 [05:24<00:14,  4.38it/s]"
          ]
        },
        {
          "name": "stdout",
          "output_type": "stream",
          "text": [
            "Ты пишешь короткие отзывы жильцов управляющей компании. Пиши строго на русском. Пример отзыва:\n",
            "«спасибо! все устранено!»\n",
            "\n",
            "Напиши 1 уникальный отзыв по смыслу, похожий на пример (1-2 предложений). Не копируй пример. Можно перефразировать, добавить детали, но отзыв должен быть уникальным.\n",
            "Ты пишешь короткие отзывы жильцов управляющей компании. Пиши строго на русском. Пример отзыва:\n",
            "«Реагировали быстро отключили сигнализацию пожарный тревоги. Спасибо огромное! »\n",
            "\n",
            "Напиши 1 уникальный отзыв по смыслу, похожий на пример (1-2 предложений). Не копируй пример. Можно перефразировать, добавить детали, но отзыв должен быть уникальным.\n"
          ]
        },
        {
          "name": "stderr",
          "output_type": "stream",
          "text": [
            "Генерируем синтетику:  95%|█████████▌| 1274/1335 [05:24<00:14,  4.11it/s]"
          ]
        },
        {
          "name": "stdout",
          "output_type": "stream",
          "text": [
            "Ты пишешь короткие отзывы жильцов управляющей компании. Пиши строго на русском. Пример отзыва:\n",
            "«все работает»\n",
            "\n",
            "Напиши 1 уникальный отзыв по смыслу, похожий на пример (1-2 предложений). Не копируй пример. Можно перефразировать, добавить детали, но отзыв должен быть уникальным.\n"
          ]
        },
        {
          "name": "stderr",
          "output_type": "stream",
          "text": [
            "Генерируем синтетику:  96%|█████████▌| 1275/1335 [05:24<00:14,  4.07it/s]"
          ]
        },
        {
          "name": "stdout",
          "output_type": "stream",
          "text": [
            "Ты пишешь короткие отзывы жильцов управляющей компании. Пиши строго на русском. Пример отзыва:\n",
            "«оперативное решение вопроса,спасибо»\n",
            "\n",
            "Напиши 1 уникальный отзыв по смыслу, похожий на пример (1-2 предложений). Не копируй пример. Можно перефразировать, добавить детали, но отзыв должен быть уникальным.\n"
          ]
        },
        {
          "name": "stderr",
          "output_type": "stream",
          "text": [
            "Генерируем синтетику:  96%|█████████▌| 1276/1335 [05:24<00:13,  4.28it/s]"
          ]
        },
        {
          "name": "stdout",
          "output_type": "stream",
          "text": [
            "Ты пишешь короткие отзывы жильцов управляющей компании. Пиши строго на русском. Пример отзыва:\n",
            "«все быстро и качественно, большое спасибо!»\n",
            "\n",
            "Напиши 1 уникальный отзыв по смыслу, похожий на пример (1-2 предложений). Не копируй пример. Можно перефразировать, добавить детали, но отзыв должен быть уникальным.\n"
          ]
        },
        {
          "name": "stderr",
          "output_type": "stream",
          "text": [
            "Генерируем синтетику:  96%|█████████▌| 1277/1335 [05:25<00:13,  4.37it/s]"
          ]
        },
        {
          "name": "stdout",
          "output_type": "stream",
          "text": [
            "Ты пишешь короткие отзывы жильцов управляющей компании. Пиши строго на русском. Пример отзыва:\n",
            "«Спасибо! Все заработало »\n",
            "\n",
            "Напиши 1 уникальный отзыв по смыслу, похожий на пример (1-2 предложений). Не копируй пример. Можно перефразировать, добавить детали, но отзыв должен быть уникальным.\n"
          ]
        },
        {
          "name": "stderr",
          "output_type": "stream",
          "text": [
            "Генерируем синтетику:  96%|█████████▌| 1278/1335 [05:25<00:13,  4.20it/s]"
          ]
        },
        {
          "name": "stdout",
          "output_type": "stream",
          "text": [
            "Ты пишешь короткие отзывы жильцов управляющей компании. Пиши строго на русском. Пример отзыва:\n",
            "«Всё оперативно,спасибо!»\n",
            "\n",
            "Напиши 1 уникальный отзыв по смыслу, похожий на пример (1-2 предложений). Не копируй пример. Можно перефразировать, добавить детали, но отзыв должен быть уникальным.\n"
          ]
        },
        {
          "name": "stderr",
          "output_type": "stream",
          "text": [
            "Генерируем синтетику:  96%|█████████▌| 1279/1335 [05:25<00:12,  4.32it/s]"
          ]
        },
        {
          "name": "stdout",
          "output_type": "stream",
          "text": [
            "Ты пишешь короткие отзывы жильцов управляющей компании. Пиши строго на русском. Пример отзыва:\n",
            "«Очень приятный инженер »\n",
            "\n",
            "Напиши 1 уникальный отзыв по смыслу, похожий на пример (1-2 предложений). Не копируй пример. Можно перефразировать, добавить детали, но отзыв должен быть уникальным.\n"
          ]
        },
        {
          "name": "stderr",
          "output_type": "stream",
          "text": [
            "Генерируем синтетику:  96%|█████████▌| 1280/1335 [05:25<00:13,  3.94it/s]"
          ]
        },
        {
          "name": "stdout",
          "output_type": "stream",
          "text": [
            "Ты пишешь короткие отзывы жильцов управляющей компании. Пиши строго на русском. Пример отзыва:\n",
            "«Выполнено быстро и качественно.  Починили перила. »\n",
            "\n",
            "Напиши 1 уникальный отзыв по смыслу, похожий на пример (1-2 предложений). Не копируй пример. Можно перефразировать, добавить детали, но отзыв должен быть уникальным.\n"
          ]
        },
        {
          "name": "stderr",
          "output_type": "stream",
          "text": [
            "Генерируем синтетику:  96%|█████████▌| 1282/1335 [05:26<00:12,  4.31it/s]"
          ]
        },
        {
          "name": "stdout",
          "output_type": "stream",
          "text": [
            "Ты пишешь короткие отзывы жильцов управляющей компании. Пиши строго на русском. Пример отзыва:\n",
            "«Спасибо за оперативное решение»\n",
            "\n",
            "Напиши 1 уникальный отзыв по смыслу, похожий на пример (1-2 предложений). Не копируй пример. Можно перефразировать, добавить детали, но отзыв должен быть уникальным.\n",
            "Ты пишешь короткие отзывы жильцов управляющей компании. Пиши строго на русском. Пример отзыва:\n",
            "«всё оперативно исправили. молодцы.»\n",
            "\n",
            "Напиши 1 уникальный отзыв по смыслу, похожий на пример (1-2 предложений). Не копируй пример. Можно перефразировать, добавить детали, но отзыв должен быть уникальным.\n"
          ]
        },
        {
          "name": "stderr",
          "output_type": "stream",
          "text": [
            "Генерируем синтетику:  96%|█████████▌| 1283/1335 [05:26<00:11,  4.36it/s]"
          ]
        },
        {
          "name": "stdout",
          "output_type": "stream",
          "text": [
            "Ты пишешь короткие отзывы жильцов управляющей компании. Пиши строго на русском. Пример отзыва:\n",
            "«Мастер Андрей помог подобрать оборудование (краны/переходники) для подключения, быстро и качественно произвел подключение стиральной машинки. Огромное ему спасибо.»\n",
            "\n",
            "Напиши 1 уникальный отзыв по смыслу, похожий на пример (1-2 предложений). Не копируй пример. Можно перефразировать, добавить детали, но отзыв должен быть уникальным.\n"
          ]
        },
        {
          "name": "stderr",
          "output_type": "stream",
          "text": [
            "Генерируем синтетику:  96%|█████████▌| 1284/1335 [05:26<00:13,  3.65it/s]"
          ]
        },
        {
          "name": "stdout",
          "output_type": "stream",
          "text": [
            "Ты пишешь короткие отзывы жильцов управляющей компании. Пиши строго на русском. Пример отзыва:\n",
            "«Скорость супер »\n",
            "\n",
            "Напиши 1 уникальный отзыв по смыслу, похожий на пример (1-2 предложений). Не копируй пример. Можно перефразировать, добавить детали, но отзыв должен быть уникальным.\n"
          ]
        },
        {
          "name": "stderr",
          "output_type": "stream",
          "text": [
            "Генерируем синтетику:  96%|█████████▋| 1285/1335 [05:27<00:13,  3.69it/s]"
          ]
        },
        {
          "name": "stdout",
          "output_type": "stream",
          "text": [
            "Ты пишешь короткие отзывы жильцов управляющей компании. Пиши строго на русском. Пример отзыва:\n",
            "«большое спасибо менеджеру репиной светлане за оперативное решение проблемы»\n",
            "\n",
            "Напиши 1 уникальный отзыв по смыслу, похожий на пример (1-2 предложений). Не копируй пример. Можно перефразировать, добавить детали, но отзыв должен быть уникальным.\n"
          ]
        },
        {
          "name": "stderr",
          "output_type": "stream",
          "text": [
            "Генерируем синтетику:  96%|█████████▋| 1286/1335 [05:27<00:14,  3.36it/s]"
          ]
        },
        {
          "name": "stdout",
          "output_type": "stream",
          "text": [
            "Ты пишешь короткие отзывы жильцов управляющей компании. Пиши строго на русском. Пример отзыва:\n",
            "«спасибо менеджеру алине за помощь в решении заявки»\n",
            "\n",
            "Напиши 1 уникальный отзыв по смыслу, похожий на пример (1-2 предложений). Не копируй пример. Можно перефразировать, добавить детали, но отзыв должен быть уникальным.\n"
          ]
        },
        {
          "name": "stderr",
          "output_type": "stream",
          "text": [
            "Генерируем синтетику:  96%|█████████▋| 1287/1335 [05:27<00:14,  3.29it/s]"
          ]
        },
        {
          "name": "stdout",
          "output_type": "stream",
          "text": [
            "Ты пишешь короткие отзывы жильцов управляющей компании. Пиши строго на русском. Пример отзыва:\n",
            "«течь устранена оперативно. работа выполнена качественно, спасибо большое вячеславу за помощь.»\n",
            "\n",
            "Напиши 1 уникальный отзыв по смыслу, похожий на пример (1-2 предложений). Не копируй пример. Можно перефразировать, добавить детали, но отзыв должен быть уникальным.\n"
          ]
        },
        {
          "name": "stderr",
          "output_type": "stream",
          "text": [
            "Генерируем синтетику:  96%|█████████▋| 1288/1335 [05:28<00:14,  3.26it/s]"
          ]
        },
        {
          "name": "stdout",
          "output_type": "stream",
          "text": [
            "Ты пишешь короткие отзывы жильцов управляющей компании. Пиши строго на русском. Пример отзыва:\n",
            "«специалист оперативно устранил поломку! очень доволен и благодарим за оперативность). специалисту выписать премию)»\n",
            "\n",
            "Напиши 1 уникальный отзыв по смыслу, похожий на пример (1-2 предложений). Не копируй пример. Можно перефразировать, добавить детали, но отзыв должен быть уникальным.\n"
          ]
        },
        {
          "name": "stderr",
          "output_type": "stream",
          "text": [
            "Генерируем синтетику:  97%|█████████▋| 1289/1335 [05:28<00:14,  3.28it/s]"
          ]
        },
        {
          "name": "stdout",
          "output_type": "stream",
          "text": [
            "Ты пишешь короткие отзывы жильцов управляющей компании. Пиши строго на русском. Пример отзыва:\n",
            "«очень вежливый и внимательный мастер. все выяснил и починил !»\n",
            "\n",
            "Напиши 1 уникальный отзыв по смыслу, похожий на пример (1-2 предложений). Не копируй пример. Можно перефразировать, добавить детали, но отзыв должен быть уникальным.\n"
          ]
        },
        {
          "name": "stderr",
          "output_type": "stream",
          "text": [
            "Генерируем синтетику:  97%|█████████▋| 1291/1335 [05:29<00:12,  3.66it/s]"
          ]
        },
        {
          "name": "stdout",
          "output_type": "stream",
          "text": [
            "Ты пишешь короткие отзывы жильцов управляющей компании. Пиши строго на русском. Пример отзыва:\n",
            "«спасибо, быстро и качественно »\n",
            "\n",
            "Напиши 1 уникальный отзыв по смыслу, похожий на пример (1-2 предложений). Не копируй пример. Можно перефразировать, добавить детали, но отзыв должен быть уникальным.\n",
            "Ты пишешь короткие отзывы жильцов управляющей компании. Пиши строго на русском. Пример отзыва:\n",
            "«Спасибо большое, все выполнено быстро и качественно  :smiling_face_with_smiling_eyes:  :thumbs_up: »\n",
            "\n",
            "Если в примере есть код эмодзи вида :smile:, то сохрани стиль — вставь похожий код эмодзи.\n",
            "\n",
            "Напиши 1 уникальный отзыв по смыслу, похожий на пример (1-2 предложений). Не копируй пример. Можно перефразировать, добавить детали, но отзыв должен быть уникальным.\n"
          ]
        },
        {
          "name": "stderr",
          "output_type": "stream",
          "text": [
            "Генерируем синтетику:  97%|█████████▋| 1292/1335 [05:29<00:11,  3.67it/s]"
          ]
        },
        {
          "name": "stdout",
          "output_type": "stream",
          "text": [
            "Ты пишешь короткие отзывы жильцов управляющей компании. Пиши строго на русском. Пример отзыва:\n",
            "«благодарю ростислава, быстро и качественно заменил резинку манжету в стиральной машине.»\n",
            "\n",
            "Напиши 1 уникальный отзыв по смыслу, похожий на пример (1-2 предложений). Не копируй пример. Можно перефразировать, добавить детали, но отзыв должен быть уникальным.\n"
          ]
        },
        {
          "name": "stderr",
          "output_type": "stream",
          "text": [
            "Генерируем синтетику:  97%|█████████▋| 1293/1335 [05:29<00:11,  3.61it/s]"
          ]
        },
        {
          "name": "stdout",
          "output_type": "stream",
          "text": [
            "Ты пишешь короткие отзывы жильцов управляющей компании. Пиши строго на русском. Пример отзыва:\n",
            "«Замечательный мастер! Все очень оперативно и качественно. Добрый человек с золотыми руками! Огромное спасибо!!!»\n",
            "\n",
            "Напиши 1 уникальный отзыв по смыслу, похожий на пример (1-2 предложений). Не копируй пример. Можно перефразировать, добавить детали, но отзыв должен быть уникальным.\n"
          ]
        },
        {
          "name": "stderr",
          "output_type": "stream",
          "text": [
            "Генерируем синтетику:  97%|█████████▋| 1294/1335 [05:29<00:12,  3.36it/s]"
          ]
        },
        {
          "name": "stdout",
          "output_type": "stream",
          "text": [
            "Ты пишешь короткие отзывы жильцов управляющей компании. Пиши строго на русском. Пример отзыва:\n",
            "«огромное спасибо, специалистам!»\n",
            "\n",
            "Напиши 1 уникальный отзыв по смыслу, похожий на пример (1-2 предложений). Не копируй пример. Можно перефразировать, добавить детали, но отзыв должен быть уникальным.\n"
          ]
        },
        {
          "name": "stderr",
          "output_type": "stream",
          "text": [
            "Генерируем синтетику:  97%|█████████▋| 1295/1335 [05:30<00:11,  3.56it/s]"
          ]
        },
        {
          "name": "stdout",
          "output_type": "stream",
          "text": [
            "Ты пишешь короткие отзывы жильцов управляющей компании. Пиши строго на русском. Пример отзыва:\n",
            "«Добрый день. Работы исполнены. Благодарю.»\n",
            "\n",
            "Напиши 1 уникальный отзыв по смыслу, похожий на пример (1-2 предложений). Не копируй пример. Можно перефразировать, добавить детали, но отзыв должен быть уникальным.\n"
          ]
        },
        {
          "name": "stderr",
          "output_type": "stream",
          "text": [
            "Генерируем синтетику:  97%|█████████▋| 1296/1335 [05:30<00:10,  3.69it/s]"
          ]
        },
        {
          "name": "stdout",
          "output_type": "stream",
          "text": [
            "Ты пишешь короткие отзывы жильцов управляющей компании. Пиши строго на русском. Пример отзыва:\n",
            "«спасибо юлии и ерлану за решение вопроса!»\n",
            "\n",
            "Напиши 1 уникальный отзыв по смыслу, похожий на пример (1-2 предложений). Не копируй пример. Можно перефразировать, добавить детали, но отзыв должен быть уникальным.\n"
          ]
        },
        {
          "name": "stderr",
          "output_type": "stream",
          "text": [
            "Генерируем синтетику:  97%|█████████▋| 1297/1335 [05:30<00:10,  3.58it/s]"
          ]
        },
        {
          "name": "stdout",
          "output_type": "stream",
          "text": [
            "Ты пишешь короткие отзывы жильцов управляющей компании. Пиши строго на русском. Пример отзыва:\n",
            "«Быстро исправили, спасибо!»\n",
            "\n",
            "Напиши 1 уникальный отзыв по смыслу, похожий на пример (1-2 предложений). Не копируй пример. Можно перефразировать, добавить детали, но отзыв должен быть уникальным.\n"
          ]
        },
        {
          "name": "stderr",
          "output_type": "stream",
          "text": [
            "Генерируем синтетику:  97%|█████████▋| 1298/1335 [05:30<00:10,  3.70it/s]"
          ]
        },
        {
          "name": "stdout",
          "output_type": "stream",
          "text": [
            "Ты пишешь короткие отзывы жильцов управляющей компании. Пиши строго на русском. Пример отзыва:\n",
            "«много времени прошло с момента обращения»\n",
            "\n",
            "Напиши 1 уникальный отзыв по смыслу, похожий на пример (1-2 предложений). Не копируй пример. Можно перефразировать, добавить детали, но отзыв должен быть уникальным.\n"
          ]
        },
        {
          "name": "stderr",
          "output_type": "stream",
          "text": [
            "Генерируем синтетику:  97%|█████████▋| 1299/1335 [05:31<00:09,  3.75it/s]"
          ]
        },
        {
          "name": "stdout",
          "output_type": "stream",
          "text": [
            "Ты пишешь короткие отзывы жильцов управляющей компании. Пиши строго на русском. Пример отзыва:\n",
            "«Спасибо  :thumbs_up:  :light_skin_tone:  :thumbs_up:  :light_skin_tone:  :thumbs_up:  :light_skin_tone: »\n",
            "\n",
            "Если в примере есть код эмодзи вида :smile:, то сохрани стиль — вставь похожий код эмодзи.\n",
            "\n",
            "Напиши 1 уникальный отзыв по смыслу, похожий на пример (1-2 предложений). Не копируй пример. Можно перефразировать, добавить детали, но отзыв должен быть уникальным.\n"
          ]
        },
        {
          "name": "stderr",
          "output_type": "stream",
          "text": [
            "Генерируем синтетику:  97%|█████████▋| 1300/1335 [05:31<00:09,  3.55it/s]"
          ]
        },
        {
          "name": "stdout",
          "output_type": "stream",
          "text": [
            "Ты пишешь короткие отзывы жильцов управляющей компании. Пиши строго на русском. Пример отзыва:\n",
            "«чудесный мастер! благодарю!»\n",
            "\n",
            "Напиши 1 уникальный отзыв по смыслу, похожий на пример (1-2 предложений). Не копируй пример. Можно перефразировать, добавить детали, но отзыв должен быть уникальным.\n"
          ]
        },
        {
          "name": "stderr",
          "output_type": "stream",
          "text": [
            "Генерируем синтетику:  97%|█████████▋| 1301/1335 [05:31<00:08,  3.86it/s]"
          ]
        },
        {
          "name": "stdout",
          "output_type": "stream",
          "text": [
            "Ты пишешь короткие отзывы жильцов управляющей компании. Пиши строго на русском. Пример отзыва:\n",
            "«оперативно и быстро! супер всегда бы так»\n",
            "\n",
            "Напиши 1 уникальный отзыв по смыслу, похожий на пример (1-2 предложений). Не копируй пример. Можно перефразировать, добавить детали, но отзыв должен быть уникальным.\n"
          ]
        },
        {
          "name": "stderr",
          "output_type": "stream",
          "text": [
            "Генерируем синтетику:  98%|█████████▊| 1302/1335 [05:32<00:08,  3.87it/s]"
          ]
        },
        {
          "name": "stdout",
          "output_type": "stream",
          "text": [
            "Ты пишешь короткие отзывы жильцов управляющей компании. Пиши строго на русском. Пример отзыва:\n",
            "«спасибо! оперативно  :thumbs_up: »\n",
            "\n",
            "Если в примере есть код эмодзи вида :smile:, то сохрани стиль — вставь похожий код эмодзи.\n",
            "\n",
            "Напиши 1 уникальный отзыв по смыслу, похожий на пример (1-2 предложений). Не копируй пример. Можно перефразировать, добавить детали, но отзыв должен быть уникальным.\n"
          ]
        },
        {
          "name": "stderr",
          "output_type": "stream",
          "text": [
            "Генерируем синтетику:  98%|█████████▊| 1303/1335 [05:32<00:08,  3.81it/s]"
          ]
        },
        {
          "name": "stdout",
          "output_type": "stream",
          "text": [
            "Ты пишешь короткие отзывы жильцов управляющей компании. Пиши строго на русском. Пример отзыва:\n",
            "«Самая лучшая УК . Спасибо большое за помощь. За быструю работу и мгновенную выполнения!!!!»\n",
            "\n",
            "Напиши 1 уникальный отзыв по смыслу, похожий на пример (1-2 предложений). Не копируй пример. Можно перефразировать, добавить детали, но отзыв должен быть уникальным.\n"
          ]
        },
        {
          "name": "stderr",
          "output_type": "stream",
          "text": [
            "Генерируем синтетику:  98%|█████████▊| 1304/1335 [05:32<00:08,  3.70it/s]"
          ]
        },
        {
          "name": "stdout",
          "output_type": "stream",
          "text": [
            "Ты пишешь короткие отзывы жильцов управляющей компании. Пиши строго на русском. Пример отзыва:\n",
            "«Умело подкрутили редукторы давления. Молодец!»\n",
            "\n",
            "Напиши 1 уникальный отзыв по смыслу, похожий на пример (1-2 предложений). Не копируй пример. Можно перефразировать, добавить детали, но отзыв должен быть уникальным.\n"
          ]
        },
        {
          "name": "stderr",
          "output_type": "stream",
          "text": [
            "Генерируем синтетику:  98%|█████████▊| 1305/1335 [05:32<00:07,  3.83it/s]"
          ]
        },
        {
          "name": "stdout",
          "output_type": "stream",
          "text": [
            "Ты пишешь короткие отзывы жильцов управляющей компании. Пиши строго на русском. Пример отзыва:\n",
            "«спасибо большое сергею сантехнику. пришёл быстро, всё отремонтировал и дал дельные советы!!!»\n",
            "\n",
            "Напиши 1 уникальный отзыв по смыслу, похожий на пример (1-2 предложений). Не копируй пример. Можно перефразировать, добавить детали, но отзыв должен быть уникальным.\n"
          ]
        },
        {
          "name": "stderr",
          "output_type": "stream",
          "text": [
            "Генерируем синтетику:  98%|█████████▊| 1306/1335 [05:33<00:08,  3.53it/s]"
          ]
        },
        {
          "name": "stdout",
          "output_type": "stream",
          "text": [
            "Ты пишешь короткие отзывы жильцов управляющей компании. Пиши строго на русском. Пример отзыва:\n",
            "«Спасибо дежурному сантехнику»\n",
            "\n",
            "Напиши 1 уникальный отзыв по смыслу, похожий на пример (1-2 предложений). Не копируй пример. Можно перефразировать, добавить детали, но отзыв должен быть уникальным.\n"
          ]
        },
        {
          "name": "stderr",
          "output_type": "stream",
          "text": [
            "Генерируем синтетику:  98%|█████████▊| 1307/1335 [05:33<00:08,  3.49it/s]"
          ]
        },
        {
          "name": "stdout",
          "output_type": "stream",
          "text": [
            "Ты пишешь короткие отзывы жильцов управляющей компании. Пиши строго на русском. Пример отзыва:\n",
            "«отлично, быстро, надёжно!»\n",
            "\n",
            "Напиши 1 уникальный отзыв по смыслу, похожий на пример (1-2 предложений). Не копируй пример. Можно перефразировать, добавить детали, но отзыв должен быть уникальным.\n"
          ]
        },
        {
          "name": "stderr",
          "output_type": "stream",
          "text": [
            "Генерируем синтетику:  98%|█████████▊| 1308/1335 [05:33<00:07,  3.70it/s]"
          ]
        },
        {
          "name": "stdout",
          "output_type": "stream",
          "text": [
            "Ты пишешь короткие отзывы жильцов управляющей компании. Пиши строго на русском. Пример отзыва:\n",
            "«спасибо, но придумайте, пожалуйста, способ как этого избежать на будущее. »\n",
            "\n",
            "Напиши 1 уникальный отзыв по смыслу, похожий на пример (1-2 предложений). Не копируй пример. Можно перефразировать, добавить детали, но отзыв должен быть уникальным.\n"
          ]
        },
        {
          "name": "stderr",
          "output_type": "stream",
          "text": [
            "Генерируем синтетику:  98%|█████████▊| 1310/1335 [05:34<00:06,  4.08it/s]"
          ]
        },
        {
          "name": "stdout",
          "output_type": "stream",
          "text": [
            "Ты пишешь короткие отзывы жильцов управляющей компании. Пиши строго на русском. Пример отзыва:\n",
            "«все отлично спасибо»\n",
            "\n",
            "Напиши 1 уникальный отзыв по смыслу, похожий на пример (1-2 предложений). Не копируй пример. Можно перефразировать, добавить детали, но отзыв должен быть уникальным.\n",
            "Ты пишешь короткие отзывы жильцов управляющей компании. Пиши строго на русском. Пример отзыва:\n",
            "«мастер своего дела»\n",
            "\n",
            "Напиши 1 уникальный отзыв по смыслу, похожий на пример (1-2 предложений). Не копируй пример. Можно перефразировать, добавить детали, но отзыв должен быть уникальным.\n"
          ]
        },
        {
          "name": "stderr",
          "output_type": "stream",
          "text": [
            "Генерируем синтетику:  98%|█████████▊| 1311/1335 [05:34<00:05,  4.25it/s]"
          ]
        },
        {
          "name": "stdout",
          "output_type": "stream",
          "text": [
            "Ты пишешь короткие отзывы жильцов управляющей компании. Пиши строго на русском. Пример отзыва:\n",
            "«Спасибо большое»\n",
            "\n",
            "Напиши 1 уникальный отзыв по смыслу, похожий на пример (1-2 предложений). Не копируй пример. Можно перефразировать, добавить детали, но отзыв должен быть уникальным.\n"
          ]
        },
        {
          "name": "stderr",
          "output_type": "stream",
          "text": [
            "Генерируем синтетику:  98%|█████████▊| 1312/1335 [05:34<00:05,  4.36it/s]"
          ]
        },
        {
          "name": "stdout",
          "output_type": "stream",
          "text": [
            "Ты пишешь короткие отзывы жильцов управляющей компании. Пиши строго на русском. Пример отзыва:\n",
            "«быстро  :thumbs_up:  :light_skin_tone: »\n",
            "\n",
            "Если в примере есть код эмодзи вида :smile:, то сохрани стиль — вставь похожий код эмодзи.\n",
            "\n",
            "Напиши 1 уникальный отзыв по смыслу, похожий на пример (1-2 предложений). Не копируй пример. Можно перефразировать, добавить детали, но отзыв должен быть уникальным.\n"
          ]
        },
        {
          "name": "stderr",
          "output_type": "stream",
          "text": [
            "Генерируем синтетику:  98%|█████████▊| 1313/1335 [05:34<00:05,  4.33it/s]"
          ]
        },
        {
          "name": "stdout",
          "output_type": "stream",
          "text": [
            "Ты пишешь короткие отзывы жильцов управляющей компании. Пиши строго на русском. Пример отзыва:\n",
            "«во время устранили»\n",
            "\n",
            "Напиши 1 уникальный отзыв по смыслу, похожий на пример (1-2 предложений). Не копируй пример. Можно перефразировать, добавить детали, но отзыв должен быть уникальным.\n"
          ]
        },
        {
          "name": "stderr",
          "output_type": "stream",
          "text": [
            "Генерируем синтетику:  98%|█████████▊| 1314/1335 [05:35<00:04,  4.31it/s]"
          ]
        },
        {
          "name": "stdout",
          "output_type": "stream",
          "text": [
            "Ты пишешь короткие отзывы жильцов управляющей компании. Пиши строго на русском. Пример отзыва:\n",
            "«починили быстро! спасибо!»\n",
            "\n",
            "Напиши 1 уникальный отзыв по смыслу, похожий на пример (1-2 предложений). Не копируй пример. Можно перефразировать, добавить детали, но отзыв должен быть уникальным.\n"
          ]
        },
        {
          "name": "stderr",
          "output_type": "stream",
          "text": [
            "Генерируем синтетику:  99%|█████████▊| 1315/1335 [05:35<00:04,  4.17it/s]"
          ]
        },
        {
          "name": "stdout",
          "output_type": "stream",
          "text": [
            "Ты пишешь короткие отзывы жильцов управляющей компании. Пиши строго на русском. Пример отзыва:\n",
            "«Спасибо!!!»\n",
            "\n",
            "Напиши 1 уникальный отзыв по смыслу, похожий на пример (1-2 предложений). Не копируй пример. Можно перефразировать, добавить детали, но отзыв должен быть уникальным.\n"
          ]
        },
        {
          "name": "stderr",
          "output_type": "stream",
          "text": [
            "Генерируем синтетику:  99%|█████████▊| 1316/1335 [05:35<00:04,  4.30it/s]"
          ]
        },
        {
          "name": "stdout",
          "output_type": "stream",
          "text": [
            "Ты пишешь короткие отзывы жильцов управляющей компании. Пиши строго на русском. Пример отзыва:\n",
            "«Спасибо большое за быструю реакцию! Успокоили  :blue_heart: »\n",
            "\n",
            "Если в примере есть код эмодзи вида :smile:, то сохрани стиль — вставь похожий код эмодзи.\n",
            "\n",
            "Напиши 1 уникальный отзыв по смыслу, похожий на пример (1-2 предложений). Не копируй пример. Можно перефразировать, добавить детали, но отзыв должен быть уникальным.\n"
          ]
        },
        {
          "name": "stderr",
          "output_type": "stream",
          "text": [
            "Генерируем синтетику:  99%|█████████▊| 1317/1335 [05:35<00:04,  4.26it/s]"
          ]
        },
        {
          "name": "stdout",
          "output_type": "stream",
          "text": [
            "Ты пишешь короткие отзывы жильцов управляющей компании. Пиши строго на русском. Пример отзыва:\n",
            "«работа выполнена быстро!»\n",
            "\n",
            "Напиши 1 уникальный отзыв по смыслу, похожий на пример (1-2 предложений). Не копируй пример. Можно перефразировать, добавить детали, но отзыв должен быть уникальным.\n"
          ]
        },
        {
          "name": "stderr",
          "output_type": "stream",
          "text": [
            "Генерируем синтетику:  99%|█████████▉| 1319/1335 [05:36<00:03,  4.61it/s]"
          ]
        },
        {
          "name": "stdout",
          "output_type": "stream",
          "text": [
            "Ты пишешь короткие отзывы жильцов управляющей компании. Пиши строго на русском. Пример отзыва:\n",
            "«Все ок»\n",
            "\n",
            "Напиши 1 уникальный отзыв по смыслу, похожий на пример (1-2 предложений). Не копируй пример. Можно перефразировать, добавить детали, но отзыв должен быть уникальным.\n",
            "Ты пишешь короткие отзывы жильцов управляющей компании. Пиши строго на русском. Пример отзыва:\n",
            "«оперативно!спасибо!»\n",
            "\n",
            "Напиши 1 уникальный отзыв по смыслу, похожий на пример (1-2 предложений). Не копируй пример. Можно перефразировать, добавить детали, но отзыв должен быть уникальным.\n"
          ]
        },
        {
          "name": "stderr",
          "output_type": "stream",
          "text": [
            "Генерируем синтетику:  99%|█████████▉| 1320/1335 [05:36<00:03,  4.81it/s]"
          ]
        },
        {
          "name": "stdout",
          "output_type": "stream",
          "text": [
            "Ты пишешь короткие отзывы жильцов управляющей компании. Пиши строго на русском. Пример отзыва:\n",
            "«умница !!!»\n",
            "\n",
            "Напиши 1 уникальный отзыв по смыслу, похожий на пример (1-2 предложений). Не копируй пример. Можно перефразировать, добавить детали, но отзыв должен быть уникальным.\n"
          ]
        },
        {
          "name": "stderr",
          "output_type": "stream",
          "text": [
            "Генерируем синтетику:  99%|█████████▉| 1321/1335 [05:36<00:02,  4.78it/s]"
          ]
        },
        {
          "name": "stdout",
          "output_type": "stream",
          "text": [
            "Ты пишешь короткие отзывы жильцов управляющей компании. Пиши строго на русском. Пример отзыва:\n",
            "«спасибо,оперативно отреагировали, перекрыли воду»\n",
            "\n",
            "Напиши 1 уникальный отзыв по смыслу, похожий на пример (1-2 предложений). Не копируй пример. Можно перефразировать, добавить детали, но отзыв должен быть уникальным.\n"
          ]
        },
        {
          "name": "stderr",
          "output_type": "stream",
          "text": [
            "Генерируем синтетику:  99%|█████████▉| 1322/1335 [05:36<00:02,  4.61it/s]"
          ]
        },
        {
          "name": "stdout",
          "output_type": "stream",
          "text": [
            "Ты пишешь короткие отзывы жильцов управляющей компании. Пиши строго на русском. Пример отзыва:\n",
            "«главное что проблема решена! спасибо!»\n",
            "\n",
            "Напиши 1 уникальный отзыв по смыслу, похожий на пример (1-2 предложений). Не копируй пример. Можно перефразировать, добавить детали, но отзыв должен быть уникальным.\n"
          ]
        },
        {
          "name": "stderr",
          "output_type": "stream",
          "text": [
            "Генерируем синтетику:  99%|█████████▉| 1323/1335 [05:37<00:02,  4.56it/s]"
          ]
        },
        {
          "name": "stdout",
          "output_type": "stream",
          "text": [
            "Ты пишешь короткие отзывы жильцов управляющей компании. Пиши строго на русском. Пример отзыва:\n",
            "«спасибо, все сделали от начала заявки до регулировки батареи за 40 минут. очень толковый работник пришел»\n",
            "\n",
            "Напиши 1 уникальный отзыв по смыслу, похожий на пример (1-2 предложений). Не копируй пример. Можно перефразировать, добавить детали, но отзыв должен быть уникальным.\n"
          ]
        },
        {
          "name": "stderr",
          "output_type": "stream",
          "text": [
            "Генерируем синтетику:  99%|█████████▉| 1324/1335 [05:37<00:02,  3.82it/s]"
          ]
        },
        {
          "name": "stdout",
          "output_type": "stream",
          "text": [
            "Ты пишешь короткие отзывы жильцов управляющей компании. Пиши строго на русском. Пример отзыва:\n",
            "«Очень быстро и качественно, спасибо! »\n",
            "\n",
            "Напиши 1 уникальный отзыв по смыслу, похожий на пример (1-2 предложений). Не копируй пример. Можно перефразировать, добавить детали, но отзыв должен быть уникальным.\n"
          ]
        },
        {
          "name": "stderr",
          "output_type": "stream",
          "text": [
            "Генерируем синтетику:  99%|█████████▉| 1325/1335 [05:37<00:02,  3.99it/s]"
          ]
        },
        {
          "name": "stdout",
          "output_type": "stream",
          "text": [
            "Ты пишешь короткие отзывы жильцов управляющей компании. Пиши строго на русском. Пример отзыва:\n",
            "«спасибо) быстро сделали ключи :thumbs_up: »\n",
            "\n",
            "Если в примере есть код эмодзи вида :smile:, то сохрани стиль — вставь похожий код эмодзи.\n",
            "\n",
            "Напиши 1 уникальный отзыв по смыслу, похожий на пример (1-2 предложений). Не копируй пример. Можно перефразировать, добавить детали, но отзыв должен быть уникальным.\n"
          ]
        },
        {
          "name": "stderr",
          "output_type": "stream",
          "text": [
            "Генерируем синтетику:  99%|█████████▉| 1326/1335 [05:37<00:02,  4.09it/s]"
          ]
        },
        {
          "name": "stdout",
          "output_type": "stream",
          "text": [
            "Ты пишешь короткие отзывы жильцов управляющей компании. Пиши строго на русском. Пример отзыва:\n",
            "«Спасибо. Очень быстро приняли меры.»\n",
            "\n",
            "Напиши 1 уникальный отзыв по смыслу, похожий на пример (1-2 предложений). Не копируй пример. Можно перефразировать, добавить детали, но отзыв должен быть уникальным.\n"
          ]
        },
        {
          "name": "stderr",
          "output_type": "stream",
          "text": [
            "Генерируем синтетику:  99%|█████████▉| 1327/1335 [05:38<00:01,  4.17it/s]"
          ]
        },
        {
          "name": "stdout",
          "output_type": "stream",
          "text": [
            "Ты пишешь короткие отзывы жильцов управляющей компании. Пиши строго на русском. Пример отзыва:\n",
            "«Для точной оценки нужно пережить зиму и понять, лучше стало или нет»\n",
            "\n",
            "Напиши 1 уникальный отзыв по смыслу, похожий на пример (1-2 предложений). Не копируй пример. Можно перефразировать, добавить детали, но отзыв должен быть уникальным.\n"
          ]
        },
        {
          "name": "stderr",
          "output_type": "stream",
          "text": [
            "Генерируем синтетику:  99%|█████████▉| 1328/1335 [05:38<00:01,  4.01it/s]"
          ]
        },
        {
          "name": "stdout",
          "output_type": "stream",
          "text": [
            "Ты пишешь короткие отзывы жильцов управляющей компании. Пиши строго на русском. Пример отзыва:\n",
            "«выдайте александру премию!»\n",
            "\n",
            "Напиши 1 уникальный отзыв по смыслу, похожий на пример (1-2 предложений). Не копируй пример. Можно перефразировать, добавить детали, но отзыв должен быть уникальным.\n"
          ]
        },
        {
          "name": "stderr",
          "output_type": "stream",
          "text": [
            "Генерируем синтетику: 100%|█████████▉| 1330/1335 [05:38<00:01,  3.92it/s]"
          ]
        },
        {
          "name": "stdout",
          "output_type": "stream",
          "text": [
            "Ты пишешь короткие отзывы жильцов управляющей компании. Пиши строго на русском. Пример отзыва:\n",
            "«все быстро исправили»\n",
            "\n",
            "Напиши 1 уникальный отзыв по смыслу, похожий на пример (1-2 предложений). Не копируй пример. Можно перефразировать, добавить детали, но отзыв должен быть уникальным.\n",
            "Ты пишешь короткие отзывы жильцов управляющей компании. Пиши строго на русском. Пример отзыва:\n",
            "«благодарю вас!!!! спасибо»\n",
            "\n",
            "Напиши 1 уникальный отзыв по смыслу, похожий на пример (1-2 предложений). Не копируй пример. Можно перефразировать, добавить детали, но отзыв должен быть уникальным.\n"
          ]
        },
        {
          "name": "stderr",
          "output_type": "stream",
          "text": [
            "Генерируем синтетику: 100%|█████████▉| 1331/1335 [05:39<00:00,  4.12it/s]"
          ]
        },
        {
          "name": "stdout",
          "output_type": "stream",
          "text": [
            "Ты пишешь короткие отзывы жильцов управляющей компании. Пиши строго на русском. Пример отзыва:\n",
            "«очень быстро. спасибо»\n",
            "\n",
            "Напиши 1 уникальный отзыв по смыслу, похожий на пример (1-2 предложений). Не копируй пример. Можно перефразировать, добавить детали, но отзыв должен быть уникальным.\n"
          ]
        },
        {
          "name": "stderr",
          "output_type": "stream",
          "text": [
            "Генерируем синтетику: 100%|█████████▉| 1333/1335 [05:39<00:00,  4.36it/s]"
          ]
        },
        {
          "name": "stdout",
          "output_type": "stream",
          "text": [
            "Ты пишешь короткие отзывы жильцов управляющей компании. Пиши строго на русском. Пример отзыва:\n",
            "«спасибо за оперативность)»\n",
            "\n",
            "Напиши 1 уникальный отзыв по смыслу, похожий на пример (1-2 предложений). Не копируй пример. Можно перефразировать, добавить детали, но отзыв должен быть уникальным.\n",
            "Ты пишешь короткие отзывы жильцов управляющей компании. Пиши строго на русском. Пример отзыва:\n",
            "«удивлен, что так быстро среагировали»\n",
            "\n",
            "Напиши 1 уникальный отзыв по смыслу, похожий на пример (1-2 предложений). Не копируй пример. Можно перефразировать, добавить детали, но отзыв должен быть уникальным.\n"
          ]
        },
        {
          "name": "stderr",
          "output_type": "stream",
          "text": [
            "Генерируем синтетику: 100%|█████████▉| 1334/1335 [05:39<00:00,  4.50it/s]"
          ]
        },
        {
          "name": "stdout",
          "output_type": "stream",
          "text": [
            "Ты пишешь короткие отзывы жильцов управляющей компании. Пиши строго на русском. Пример отзыва:\n",
            "«очень хороший сотрудник. помогла установить приложение ключ, объяснили как работает приложение, сделали три ключа. доброжелательное отношение, всё оперативно.»\n",
            "\n",
            "Напиши 1 уникальный отзыв по смыслу, похожий на пример (1-2 предложений). Не копируй пример. Можно перефразировать, добавить детали, но отзыв должен быть уникальным.\n"
          ]
        },
        {
          "name": "stderr",
          "output_type": "stream",
          "text": [
            "Генерируем синтетику: 100%|██████████| 1335/1335 [05:40<00:00,  3.93it/s]\n"
          ]
        }
      ],
      "source": [
        "synthetic_comments = []\n",
        "for comment in tqdm(train_df['comment'], desc=\"Генерируем синтетику\"):\n",
        "    new_comment = gpt_review(comment)\n",
        "    if new_comment:\n",
        "        synthetic_comments.append(new_comment)\n",
        "    else:\n",
        "        synthetic_comments.append(\"\")\n",
        "\n",
        "synthetic_df = train_df.copy()\n",
        "synthetic_df['comment'] = synthetic_comments\n",
        "\n",
        "full_df = pd.concat([train_df, synthetic_df], ignore_index=True)\n",
        "\n",
        "full_df.to_excel(\"train_plus_synthetic.xlsx\", index=False)"
      ]
    },
    {
      "cell_type": "code",
      "execution_count": null,
      "metadata": {},
      "outputs": [
        {
          "name": "stdout",
          "output_type": "stream",
          "text": [
            "\n",
            "Кодируем LaBSE-эмбеддинги …\n"
          ]
        },
        {
          "name": "stderr",
          "output_type": "stream",
          "text": [
            "Batches:   0%|          | 0/84 [00:00<?, ?it/s]"
          ]
        },
        {
          "name": "stderr",
          "output_type": "stream",
          "text": [
            "Batches: 100%|██████████| 84/84 [00:15<00:00,  5.32it/s]\n",
            "Batches: 100%|██████████| 11/11 [00:00<00:00, 24.31it/s]\n"
          ]
        },
        {
          "name": "stdout",
          "output_type": "stream",
          "text": [
            "Обучаем KNN-5 (One-vs-Rest) …\n",
            "\n",
            "Baseline macro-F1 = 0.788\n"
          ]
        }
      ],
      "source": [
        "print(\"\\nКодируем LaBSE-эмбеддинги …\")\n",
        "# labse  = SentenceTransformer(\"sentence-transformers/LaBSE\")\n",
        "emb_tr = labse.encode(full_df[\"comment\"].tolist(), show_progress_bar=True)\n",
        "emb_te = labse.encode(test_df[\"comment\"].tolist(),  show_progress_bar=True)\n",
        "\n",
        "print(\"Обучаем KNN-5 (One-vs-Rest) …\")\n",
        "clf    = OneVsRestClassifier(KNeighborsClassifier(n_neighbors=5))\n",
        "clf.fit(emb_tr, full_df[label_cols].values)\n",
        "\n",
        "y_pred   = clf.predict(emb_te)\n",
        "macro_f1 = f1_score(test_df[label_cols].values, y_pred, average=\"macro\")\n",
        "print(f\"\\nBaseline macro-F1 = {macro_f1:.3f}\")"
      ]
    },
    {
      "cell_type": "code",
      "execution_count": null,
      "metadata": {},
      "outputs": [],
      "source": []
    }
  ],
  "metadata": {
    "colab": {
      "provenance": []
    },
    "kernelspec": {
      "display_name": "venv_rubert_sentiment_clean",
      "language": "python",
      "name": "python3"
    },
    "language_info": {
      "codemirror_mode": {
        "name": "ipython",
        "version": 3
      },
      "file_extension": ".py",
      "mimetype": "text/x-python",
      "name": "python",
      "nbconvert_exporter": "python",
      "pygments_lexer": "ipython3",
      "version": "3.12.11"
    }
  },
  "nbformat": 4,
  "nbformat_minor": 0
}
